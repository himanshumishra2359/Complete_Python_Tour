{
 "cells": [
  {
   "cell_type": "code",
   "execution_count": 1,
   "id": "addb924f-07a8-4de3-8a4d-7575d766c12e",
   "metadata": {},
   "outputs": [
    {
     "name": "stdout",
     "output_type": "stream",
     "text": [
      "30\n"
     ]
    }
   ],
   "source": [
    "a=10\n",
    "b=20\n",
    "c=a+b\n",
    "print(c)"
   ]
  },
  {
   "cell_type": "code",
   "execution_count": 2,
   "id": "f22a0fe2-149e-4ce3-a275-b6784a35c668",
   "metadata": {},
   "outputs": [],
   "source": [
    "def test():\n",
    "    a=30\n",
    "    b=40\n",
    "    c=a+b\n",
    "    print(c)"
   ]
  },
  {
   "cell_type": "code",
   "execution_count": 3,
   "id": "d75bb6a1-c556-40d2-9f07-51f790fad935",
   "metadata": {},
   "outputs": [
    {
     "name": "stdout",
     "output_type": "stream",
     "text": [
      "70\n"
     ]
    }
   ],
   "source": [
    "test()"
   ]
  },
  {
   "cell_type": "code",
   "execution_count": 4,
   "id": "375782a8-f443-443c-9be4-5689ac174ac2",
   "metadata": {},
   "outputs": [
    {
     "name": "stdout",
     "output_type": "stream",
     "text": [
      "70\n"
     ]
    }
   ],
   "source": [
    "test()"
   ]
  },
  {
   "cell_type": "code",
   "execution_count": 5,
   "id": "d02c939a-1199-46d9-ac5f-62c2146a361e",
   "metadata": {},
   "outputs": [
    {
     "name": "stdout",
     "output_type": "stream",
     "text": [
      "welcome to python introduction class\n"
     ]
    }
   ],
   "source": [
    "print(\"welcome to python introduction class\")"
   ]
  },
  {
   "cell_type": "code",
   "execution_count": 6,
   "id": "32ed8870-11c1-4a63-99fd-d825f2a6c173",
   "metadata": {},
   "outputs": [
    {
     "name": "stdout",
     "output_type": "stream",
     "text": [
      "102030\n"
     ]
    }
   ],
   "source": [
    "print(a,end='')\n",
    "print(b,end='')\n",
    "print(c)"
   ]
  },
  {
   "cell_type": "markdown",
   "id": "378a7a55-4864-4a2a-b72d-1e2398b6a3a1",
   "metadata": {},
   "source": [
    "# \\t-->tab or 4 white spaces\n",
    "# \\b--> represents the backspace character\n"
   ]
  },
  {
   "cell_type": "code",
   "execution_count": 9,
   "id": "ae183edf-0bd3-4123-8d98-3bb8cb16359c",
   "metadata": {},
   "outputs": [
    {
     "name": "stdout",
     "output_type": "stream",
     "text": [
      "10\t2030\n"
     ]
    }
   ],
   "source": [
    "print(a,end='\\t')\n",
    "print(b,end='')\n",
    "print(c)"
   ]
  },
  {
   "cell_type": "code",
   "execution_count": 10,
   "id": "1a21eecc-5a8b-4fa5-b328-e887715fb53d",
   "metadata": {},
   "outputs": [
    {
     "name": "stdout",
     "output_type": "stream",
     "text": [
      "10\t230\n"
     ]
    }
   ],
   "source": [
    "print(a,end='\\t')\n",
    "print(b,end='\\b')\n",
    "print(c)"
   ]
  },
  {
   "cell_type": "markdown",
   "id": "d0dd3b5d-9218-4f7d-b431-6cced0671c40",
   "metadata": {},
   "source": [
    "# sep"
   ]
  },
  {
   "cell_type": "raw",
   "id": "dd81bdf4-d4a9-4f57-952f-1f14c0084667",
   "metadata": {},
   "source": [
    "print(a,b,c...n)"
   ]
  },
  {
   "cell_type": "code",
   "execution_count": 15,
   "id": "bae8e5c6-606c-4565-a098-10cd9a7dceb9",
   "metadata": {},
   "outputs": [
    {
     "name": "stdout",
     "output_type": "stream",
     "text": [
      "1020"
     ]
    }
   ],
   "source": [
    "print(a,b,sep=\"\",end=\"\")"
   ]
  },
  {
   "cell_type": "code",
   "execution_count": 16,
   "id": "841cdecc-9dac-46cc-b012-814467201893",
   "metadata": {},
   "outputs": [
    {
     "name": "stdout",
     "output_type": "stream",
     "text": [
      "10,20,30\n"
     ]
    }
   ],
   "source": [
    "print(a,b,c,sep=\",\")"
   ]
  },
  {
   "cell_type": "code",
   "execution_count": 17,
   "id": "375dc0c7-60d2-43e4-b628-f7b10a6a6b85",
   "metadata": {},
   "outputs": [
    {
     "name": "stdin",
     "output_type": "stream",
     "text": [
      "first number: himanshu\n"
     ]
    },
    {
     "data": {
      "text/plain": [
       "'himanshu'"
      ]
     },
     "execution_count": 17,
     "metadata": {},
     "output_type": "execute_result"
    }
   ],
   "source": [
    "input(\"first number:\")"
   ]
  },
  {
   "cell_type": "code",
   "execution_count": 18,
   "id": "295e73ca-c45c-444f-aa37-ad287e006d90",
   "metadata": {},
   "outputs": [
    {
     "name": "stdin",
     "output_type": "stream",
     "text": [
      "please write any number: himanshu\n"
     ]
    }
   ],
   "source": [
    "a=input(\"please write any number:\")"
   ]
  },
  {
   "cell_type": "code",
   "execution_count": 19,
   "id": "c0d4ff17-3e5f-47f2-b076-cf39f3f3b1ff",
   "metadata": {},
   "outputs": [
    {
     "name": "stdout",
     "output_type": "stream",
     "text": [
      "himanshu\n"
     ]
    }
   ],
   "source": [
    "print(a)"
   ]
  },
  {
   "cell_type": "code",
   "execution_count": 20,
   "id": "35164057-66ec-4775-bc29-cc4513447337",
   "metadata": {},
   "outputs": [
    {
     "data": {
      "text/plain": [
       "str"
      ]
     },
     "execution_count": 20,
     "metadata": {},
     "output_type": "execute_result"
    }
   ],
   "source": [
    "type(a)#skip"
   ]
  },
  {
   "cell_type": "code",
   "execution_count": 21,
   "id": "d2854f4c-b03c-4886-89ed-639582429a21",
   "metadata": {},
   "outputs": [
    {
     "name": "stdout",
     "output_type": "stream",
     "text": [
      "0.5\n"
     ]
    }
   ],
   "source": [
    "a=10\n",
    "b=20\n",
    "c=a/b\n",
    "print(c)"
   ]
  },
  {
   "cell_type": "code",
   "execution_count": 22,
   "id": "64a4b9b0-d6d7-4a65-9504-81e8475803ce",
   "metadata": {},
   "outputs": [
    {
     "ename": "ZeroDivisionError",
     "evalue": "division by zero",
     "output_type": "error",
     "traceback": [
      "\u001b[1;31m---------------------------------------------------------------------------\u001b[0m",
      "\u001b[1;31mZeroDivisionError\u001b[0m                         Traceback (most recent call last)",
      "Cell \u001b[1;32mIn[22], line 3\u001b[0m\n\u001b[0;32m      1\u001b[0m a\u001b[38;5;241m=\u001b[39m\u001b[38;5;241m10\u001b[39m\n\u001b[0;32m      2\u001b[0m b\u001b[38;5;241m=\u001b[39m\u001b[38;5;241m0\u001b[39m\n\u001b[1;32m----> 3\u001b[0m c\u001b[38;5;241m=\u001b[39m\u001b[43ma\u001b[49m\u001b[38;5;241;43m/\u001b[39;49m\u001b[43mb\u001b[49m\n\u001b[0;32m      4\u001b[0m \u001b[38;5;28mprint\u001b[39m(c)\n",
      "\u001b[1;31mZeroDivisionError\u001b[0m: division by zero"
     ]
    }
   ],
   "source": [
    "a=10\n",
    "b=0\n",
    "c=a/b\n",
    "print(c)"
   ]
  },
  {
   "cell_type": "code",
   "execution_count": 23,
   "id": "4d8d6c14-c922-420b-920e-9d55577fa8ff",
   "metadata": {},
   "outputs": [],
   "source": [
    "_=30"
   ]
  },
  {
   "cell_type": "code",
   "execution_count": 24,
   "id": "4c193ed3-b6c9-4202-bf74-c491cbfcd633",
   "metadata": {},
   "outputs": [
    {
     "name": "stdout",
     "output_type": "stream",
     "text": [
      "30\n"
     ]
    }
   ],
   "source": [
    "print(_)"
   ]
  },
  {
   "cell_type": "code",
   "execution_count": 25,
   "id": "8b4addf1-7320-4a50-8831-cb1dce90e6af",
   "metadata": {},
   "outputs": [
    {
     "name": "stdout",
     "output_type": "stream",
     "text": [
      "\n",
      "Welcome to Python 3.12's help utility!\n",
      "\n",
      "If this is your first time using Python, you should definitely check out\n",
      "the tutorial on the internet at https://docs.python.org/3.12/tutorial/.\n",
      "\n",
      "Enter the name of any module, keyword, or topic to get help on writing\n",
      "Python programs and using Python modules.  To quit this help utility and\n",
      "return to the interpreter, just type \"quit\".\n",
      "\n",
      "To get a list of available modules, keywords, symbols, or topics, type\n",
      "\"modules\", \"keywords\", \"symbols\", or \"topics\".  Each module also comes\n",
      "with a one-line summary of what it does; to list the modules whose name\n",
      "or summary contain a given string such as \"spam\", type \"modules spam\".\n",
      "\n"
     ]
    },
    {
     "name": "stdin",
     "output_type": "stream",
     "text": [
      "help>  hi\n"
     ]
    },
    {
     "name": "stdout",
     "output_type": "stream",
     "text": [
      "No Python documentation found for 'hi'.\n",
      "Use help() to get the interactive help utility.\n",
      "Use help(str) for help on the str class.\n",
      "\n"
     ]
    },
    {
     "name": "stdin",
     "output_type": "stream",
     "text": [
      "help>  keywords\n"
     ]
    },
    {
     "name": "stdout",
     "output_type": "stream",
     "text": [
      "\n",
      "Here is a list of the Python keywords.  Enter any keyword to get more help.\n",
      "\n",
      "False               class               from                or\n",
      "None                continue            global              pass\n",
      "True                def                 if                  raise\n",
      "and                 del                 import              return\n",
      "as                  elif                in                  try\n",
      "assert              else                is                  while\n",
      "async               except              lambda              with\n",
      "await               finally             nonlocal            yield\n",
      "break               for                 not                 \n",
      "\n"
     ]
    },
    {
     "name": "stdin",
     "output_type": "stream",
     "text": [
      "help>  .\n"
     ]
    },
    {
     "name": "stdout",
     "output_type": "stream",
     "text": [
      "Attribute references\n",
      "********************\n",
      "\n",
      "An attribute reference is a primary followed by a period and a name:\n",
      "\n",
      "   attributeref ::= primary \".\" identifier\n",
      "\n",
      "The primary must evaluate to an object of a type that supports\n",
      "attribute references, which most objects do.  This object is then\n",
      "asked to produce the attribute whose name is the identifier.  This\n",
      "production can be customized by overriding the \"__getattr__()\" method.\n",
      "If this attribute is not available, the exception \"AttributeError\" is\n",
      "raised.  Otherwise, the type and value of the object produced is\n",
      "determined by the object.  Multiple evaluations of the same attribute\n",
      "reference may yield different objects.\n",
      "\n",
      "Related help topics: getattr, hasattr, setattr, ATTRIBUTEMETHODS, FLOAT,\n",
      "MODULES, OBJECTS\n",
      "\n"
     ]
    },
    {
     "name": "stdin",
     "output_type": "stream",
     "text": [
      "help>  stop\n"
     ]
    },
    {
     "name": "stdout",
     "output_type": "stream",
     "text": [
      "No Python documentation found for 'stop'.\n",
      "Use help() to get the interactive help utility.\n",
      "Use help(str) for help on the str class.\n",
      "\n"
     ]
    },
    {
     "name": "stdin",
     "output_type": "stream",
     "text": [
      "help>  \n"
     ]
    },
    {
     "name": "stdout",
     "output_type": "stream",
     "text": [
      "\n",
      "You are now leaving help and returning to the Python interpreter.\n",
      "If you want to ask for help on a particular object directly from the\n",
      "interpreter, you can type \"help(object)\".  Executing \"help('string')\"\n",
      "has the same effect as typing a particular string at the help> prompt.\n"
     ]
    }
   ],
   "source": [
    "help()"
   ]
  },
  {
   "cell_type": "code",
   "execution_count": 26,
   "id": "dbeff9c8-559d-4938-99bf-54a551493e7e",
   "metadata": {},
   "outputs": [],
   "source": [
    "b=10.45"
   ]
  },
  {
   "cell_type": "code",
   "execution_count": 27,
   "id": "6be2719d-d3eb-43f1-9803-674e6ef8ad07",
   "metadata": {},
   "outputs": [
    {
     "data": {
      "text/plain": [
       "float"
      ]
     },
     "execution_count": 27,
     "metadata": {},
     "output_type": "execute_result"
    }
   ],
   "source": [
    "type(b)"
   ]
  },
  {
   "cell_type": "code",
   "execution_count": 54,
   "id": "899a6303-e7f0-45b1-937f-f810e1b7668b",
   "metadata": {},
   "outputs": [],
   "source": [
    "c=\"himanshu\""
   ]
  },
  {
   "cell_type": "code",
   "execution_count": 55,
   "id": "029c9363-9005-4210-9563-5726e3d3f8ab",
   "metadata": {},
   "outputs": [
    {
     "data": {
      "text/plain": [
       "'h'"
      ]
     },
     "execution_count": 55,
     "metadata": {},
     "output_type": "execute_result"
    }
   ],
   "source": [
    "c[0]"
   ]
  },
  {
   "cell_type": "code",
   "execution_count": 56,
   "id": "ed7acd18-b5d9-4756-bd53-b9b692f0ff68",
   "metadata": {},
   "outputs": [
    {
     "data": {
      "text/plain": [
       "str"
      ]
     },
     "execution_count": 56,
     "metadata": {},
     "output_type": "execute_result"
    }
   ],
   "source": [
    "type(c)"
   ]
  },
  {
   "cell_type": "code",
   "execution_count": 57,
   "id": "a289714e-6ae3-4977-b814-7e228445a851",
   "metadata": {},
   "outputs": [],
   "source": [
    "a=1434235436547657884563456765765876565"
   ]
  },
  {
   "cell_type": "code",
   "execution_count": 58,
   "id": "cce67887-11be-4cb2-89ca-276521333d9f",
   "metadata": {},
   "outputs": [],
   "source": [
    "a=2"
   ]
  },
  {
   "cell_type": "code",
   "execution_count": 59,
   "id": "ef9f263c-0d0a-4a7c-a34a-30286588fb9b",
   "metadata": {},
   "outputs": [
    {
     "data": {
      "text/plain": [
       "28"
      ]
     },
     "execution_count": 59,
     "metadata": {},
     "output_type": "execute_result"
    }
   ],
   "source": [
    "import sys\n",
    "sys.getsizeof(a)"
   ]
  },
  {
   "cell_type": "code",
   "execution_count": 60,
   "id": "bec004df-b4c2-4732-aee8-43f90b32fe19",
   "metadata": {},
   "outputs": [],
   "source": [
    "a=200"
   ]
  },
  {
   "cell_type": "code",
   "execution_count": 61,
   "id": "9a429695-46d3-485f-ba51-7ac7c0434c2d",
   "metadata": {},
   "outputs": [
    {
     "data": {
      "text/plain": [
       "28"
      ]
     },
     "execution_count": 61,
     "metadata": {},
     "output_type": "execute_result"
    }
   ],
   "source": [
    "import sys\n",
    "sys.getsizeof(a)"
   ]
  },
  {
   "cell_type": "code",
   "execution_count": 62,
   "id": "f8759e82-8e6a-471c-8bad-d8569b5d8930",
   "metadata": {},
   "outputs": [],
   "source": [
    "a=2000000000"
   ]
  },
  {
   "cell_type": "code",
   "execution_count": 63,
   "id": "5f8764ec-e0fd-48c4-9ac2-7744f08fecb1",
   "metadata": {},
   "outputs": [
    {
     "data": {
      "text/plain": [
       "32"
      ]
     },
     "execution_count": 63,
     "metadata": {},
     "output_type": "execute_result"
    }
   ],
   "source": [
    "import sys\n",
    "sys.getsizeof(a)"
   ]
  },
  {
   "cell_type": "code",
   "execution_count": 64,
   "id": "822bc3e0-d011-4dc1-ba8f-fdc87049a168",
   "metadata": {},
   "outputs": [],
   "source": [
    "a=23423859485694354359439657346579437569437675467954769547695479675465486795476954769547695476954769547695749375643767546754769"
   ]
  },
  {
   "cell_type": "code",
   "execution_count": 65,
   "id": "320bbe63-e858-4359-8821-f5d038b98557",
   "metadata": {},
   "outputs": [
    {
     "data": {
      "text/plain": [
       "int"
      ]
     },
     "execution_count": 65,
     "metadata": {},
     "output_type": "execute_result"
    }
   ],
   "source": [
    "type(a)"
   ]
  },
  {
   "cell_type": "code",
   "execution_count": 66,
   "id": "d331c471-35fe-42e4-9d4e-7549de9200f7",
   "metadata": {},
   "outputs": [
    {
     "data": {
      "text/plain": [
       "80"
      ]
     },
     "execution_count": 66,
     "metadata": {},
     "output_type": "execute_result"
    }
   ],
   "source": [
    "import sys\n",
    "sys.getsizeof(a)"
   ]
  },
  {
   "cell_type": "code",
   "execution_count": 67,
   "id": "4478c54d-66f6-482b-9929-11a9622cbdd8",
   "metadata": {},
   "outputs": [],
   "source": [
    "a=False"
   ]
  },
  {
   "cell_type": "code",
   "execution_count": 68,
   "id": "673f9908-667a-4611-9dd9-aef4e2a7de54",
   "metadata": {},
   "outputs": [
    {
     "data": {
      "text/plain": [
       "bool"
      ]
     },
     "execution_count": 68,
     "metadata": {},
     "output_type": "execute_result"
    }
   ],
   "source": [
    "type(a)"
   ]
  },
  {
   "cell_type": "code",
   "execution_count": 69,
   "id": "e0e648ff-933c-4583-b021-c0d4c4858807",
   "metadata": {},
   "outputs": [
    {
     "data": {
      "text/plain": [
       "2"
      ]
     },
     "execution_count": 69,
     "metadata": {},
     "output_type": "execute_result"
    }
   ],
   "source": [
    "True+True"
   ]
  },
  {
   "cell_type": "code",
   "execution_count": 70,
   "id": "ade99371-3910-4e7e-bd84-51d3f9d8975a",
   "metadata": {},
   "outputs": [
    {
     "data": {
      "text/plain": [
       "1"
      ]
     },
     "execution_count": 70,
     "metadata": {},
     "output_type": "execute_result"
    }
   ],
   "source": [
    "False+True"
   ]
  },
  {
   "cell_type": "code",
   "execution_count": 71,
   "id": "9be3a85d-286f-4993-bc8f-3a12b1c01edf",
   "metadata": {},
   "outputs": [
    {
     "data": {
      "text/plain": [
       "0"
      ]
     },
     "execution_count": 71,
     "metadata": {},
     "output_type": "execute_result"
    }
   ],
   "source": [
    "False+False"
   ]
  },
  {
   "cell_type": "code",
   "execution_count": 72,
   "id": "52164692-be3d-4c28-854d-e67640a0b929",
   "metadata": {},
   "outputs": [
    {
     "ename": "SyntaxError",
     "evalue": "cannot assign to True (933839825.py, line 2)",
     "output_type": "error",
     "traceback": [
      "\u001b[1;36m  Cell \u001b[1;32mIn[72], line 2\u001b[1;36m\u001b[0m\n\u001b[1;33m    True=1\u001b[0m\n\u001b[1;37m    ^\u001b[0m\n\u001b[1;31mSyntaxError\u001b[0m\u001b[1;31m:\u001b[0m cannot assign to True\n"
     ]
    }
   ],
   "source": [
    "# in backend\n",
    "True=1\n",
    "False=0"
   ]
  },
  {
   "cell_type": "code",
   "execution_count": 73,
   "id": "81553bf6-1e3d-4944-8e49-38e983080f93",
   "metadata": {},
   "outputs": [],
   "source": [
    "a=True"
   ]
  },
  {
   "cell_type": "code",
   "execution_count": 74,
   "id": "6393b432-857c-4c5f-bfae-2da235c8482f",
   "metadata": {},
   "outputs": [
    {
     "data": {
      "text/plain": [
       "28"
      ]
     },
     "execution_count": 74,
     "metadata": {},
     "output_type": "execute_result"
    }
   ],
   "source": [
    "import sys\n",
    "sys.getsizeof(a)"
   ]
  },
  {
   "cell_type": "code",
   "execution_count": 75,
   "id": "c514865a-1020-457c-b85d-efc9b9a00884",
   "metadata": {},
   "outputs": [],
   "source": [
    "x=1"
   ]
  },
  {
   "cell_type": "code",
   "execution_count": 76,
   "id": "569134d3-33b3-4da6-b2f3-9c5a77992048",
   "metadata": {},
   "outputs": [
    {
     "data": {
      "text/plain": [
       "28"
      ]
     },
     "execution_count": 76,
     "metadata": {},
     "output_type": "execute_result"
    }
   ],
   "source": [
    "import sys\n",
    "sys.getsizeof(x)"
   ]
  },
  {
   "cell_type": "code",
   "execution_count": 79,
   "id": "4fe77a83-c5f5-45bc-a690-f0112a78fb6b",
   "metadata": {},
   "outputs": [
    {
     "ename": "SyntaxError",
     "evalue": "unterminated string literal (detected at line 1) (2362671026.py, line 1)",
     "output_type": "error",
     "traceback": [
      "\u001b[1;36m  Cell \u001b[1;32mIn[79], line 1\u001b[1;36m\u001b[0m\n\u001b[1;33m    msg= ' mishra's Python Classes '\u001b[0m\n\u001b[1;37m                                   ^\u001b[0m\n\u001b[1;31mSyntaxError\u001b[0m\u001b[1;31m:\u001b[0m unterminated string literal (detected at line 1)\n"
     ]
    }
   ],
   "source": [
    "msg= ' mishra's Python Classes '\n"
   ]
  },
  {
   "cell_type": "code",
   "execution_count": 80,
   "id": "cec66553-3539-40e7-8922-377808c5fb7d",
   "metadata": {},
   "outputs": [],
   "source": [
    "msg= \" mishra's Python Classes \""
   ]
  },
  {
   "cell_type": "code",
   "execution_count": 53,
   "id": "889ab346-1513-45fe-a86b-b2a32e5ce055",
   "metadata": {},
   "outputs": [
    {
     "data": {
      "text/plain": [
       "\" Sunny's Python Classes \""
      ]
     },
     "execution_count": 53,
     "metadata": {},
     "output_type": "execute_result"
    }
   ],
   "source": [
    "msg"
   ]
  },
  {
   "cell_type": "code",
   "execution_count": 81,
   "id": "2bed169d-59c5-418d-b396-af869d67d8ee",
   "metadata": {},
   "outputs": [],
   "source": [
    "msg= ' mishra\"s Python Classes '"
   ]
  },
  {
   "cell_type": "code",
   "execution_count": 83,
   "id": "15eb65b6-040a-4c3d-8b67-b8a533d5559a",
   "metadata": {},
   "outputs": [
    {
     "data": {
      "text/plain": [
       "' mishra\"s Python Classes '"
      ]
     },
     "execution_count": 83,
     "metadata": {},
     "output_type": "execute_result"
    }
   ],
   "source": [
    "msg"
   ]
  },
  {
   "cell_type": "code",
   "execution_count": 84,
   "id": "239a54b3-f648-44c0-837b-50f465fe7a9b",
   "metadata": {},
   "outputs": [
    {
     "name": "stdout",
     "output_type": "stream",
     "text": [
      " mishra\"s Python Classes \n"
     ]
    }
   ],
   "source": [
    "print(msg)"
   ]
  },
  {
   "cell_type": "code",
   "execution_count": 85,
   "id": "8d43d10b-7bb7-403e-8193-43f56e8cc438",
   "metadata": {},
   "outputs": [
    {
     "data": {
      "text/plain": [
       "'Python\\'s String\"s'"
      ]
     },
     "execution_count": 85,
     "metadata": {},
     "output_type": "execute_result"
    }
   ],
   "source": [
    "\"Python's\" +\" \"+'String\"s'\n"
   ]
  },
  {
   "cell_type": "code",
   "execution_count": 86,
   "id": "b877ed69-f6c2-45a6-876e-474bede63747",
   "metadata": {},
   "outputs": [],
   "source": [
    "y=\"\"\"let's learn \"python\" \"\"\""
   ]
  },
  {
   "cell_type": "code",
   "execution_count": 87,
   "id": "9a98147a-d706-42ad-9883-878890223e57",
   "metadata": {},
   "outputs": [
    {
     "data": {
      "text/plain": [
       "str"
      ]
     },
     "execution_count": 87,
     "metadata": {},
     "output_type": "execute_result"
    }
   ],
   "source": [
    "type(y)"
   ]
  },
  {
   "cell_type": "code",
   "execution_count": 88,
   "id": "359200d3-fd0c-474f-a4ba-584b39d142ed",
   "metadata": {},
   "outputs": [
    {
     "name": "stdout",
     "output_type": "stream",
     "text": [
      "let's learn \"python\" \n"
     ]
    }
   ],
   "source": [
    "print(y)"
   ]
  },
  {
   "cell_type": "code",
   "execution_count": 89,
   "id": "bbbb5070-0c78-4d5f-95b1-22bc97466412",
   "metadata": {},
   "outputs": [],
   "source": [
    "y=  'let\\'s learn \"python\" '"
   ]
  },
  {
   "cell_type": "code",
   "execution_count": 90,
   "id": "95c7488b-d23e-413b-ab18-b7ada432bb5a",
   "metadata": {},
   "outputs": [
    {
     "name": "stdout",
     "output_type": "stream",
     "text": [
      "let's learn \"python\" \n"
     ]
    }
   ],
   "source": [
    "print(y)"
   ]
  },
  {
   "cell_type": "code",
   "execution_count": 92,
   "id": "3865324e-78a5-4c88-9dc4-c522937a8489",
   "metadata": {},
   "outputs": [],
   "source": [
    "a=\"\"\"my \n",
    "name \n",
    "is\n",
    "mishra\"\"\""
   ]
  },
  {
   "cell_type": "code",
   "execution_count": 93,
   "id": "599d45b8-6faa-43c5-a2ca-30c8df98e9ae",
   "metadata": {},
   "outputs": [
    {
     "name": "stdout",
     "output_type": "stream",
     "text": [
      "my \n",
      "name \n",
      "is\n",
      "mishra\n"
     ]
    }
   ],
   "source": [
    "print(a)"
   ]
  },
  {
   "cell_type": "code",
   "execution_count": 94,
   "id": "22992b16-ea20-4317-95e9-4d5ea03e09a3",
   "metadata": {},
   "outputs": [],
   "source": [
    "my_string=\"\"\"my \n",
    "           name \n",
    "         is\n",
    "         mishra\"\"\""
   ]
  },
  {
   "cell_type": "code",
   "execution_count": 95,
   "id": "6c53b62d-a19f-4bfc-8bb4-83c1b483e7cb",
   "metadata": {},
   "outputs": [
    {
     "name": "stdout",
     "output_type": "stream",
     "text": [
      "my \n",
      "           name \n",
      "         is\n",
      "         mishra\n"
     ]
    }
   ],
   "source": [
    "print(my_string)"
   ]
  },
  {
   "cell_type": "code",
   "execution_count": 96,
   "id": "896ca83b-ebc8-4941-b0c7-d4117a47472b",
   "metadata": {},
   "outputs": [],
   "source": [
    "a=100"
   ]
  },
  {
   "cell_type": "code",
   "execution_count": 97,
   "id": "3a461180-865e-44e7-840b-da2da882715f",
   "metadata": {},
   "outputs": [
    {
     "data": {
      "text/plain": [
       "int"
      ]
     },
     "execution_count": 97,
     "metadata": {},
     "output_type": "execute_result"
    }
   ],
   "source": [
    "type(a)"
   ]
  },
  {
   "cell_type": "code",
   "execution_count": 98,
   "id": "4b144b3a-1946-4837-aff4-3acad2e5f04f",
   "metadata": {},
   "outputs": [],
   "source": [
    "b=float(a)"
   ]
  },
  {
   "cell_type": "code",
   "execution_count": 99,
   "id": "cedea441-9531-4c21-a271-c89765141ea9",
   "metadata": {},
   "outputs": [
    {
     "data": {
      "text/plain": [
       "float"
      ]
     },
     "execution_count": 99,
     "metadata": {},
     "output_type": "execute_result"
    }
   ],
   "source": [
    "type(b)"
   ]
  },
  {
   "cell_type": "code",
   "execution_count": 100,
   "id": "a8e9c239-6527-432d-9f23-9fb4ab3af617",
   "metadata": {},
   "outputs": [
    {
     "name": "stdout",
     "output_type": "stream",
     "text": [
      "100.0\n"
     ]
    }
   ],
   "source": [
    "print(b)"
   ]
  },
  {
   "cell_type": "code",
   "execution_count": 101,
   "id": "3f39e672-408a-4998-94e8-905c30c2ee45",
   "metadata": {},
   "outputs": [],
   "source": [
    "a='10'"
   ]
  },
  {
   "cell_type": "code",
   "execution_count": 102,
   "id": "6200a53b-4aba-4a28-bd23-156b336d6442",
   "metadata": {},
   "outputs": [
    {
     "data": {
      "text/plain": [
       "str"
      ]
     },
     "execution_count": 102,
     "metadata": {},
     "output_type": "execute_result"
    }
   ],
   "source": [
    "type(a)"
   ]
  },
  {
   "cell_type": "code",
   "execution_count": 103,
   "id": "40e8f1f4-978b-43a3-9038-7d86656cb25e",
   "metadata": {},
   "outputs": [],
   "source": [
    "b='20'"
   ]
  },
  {
   "cell_type": "code",
   "execution_count": 104,
   "id": "63c54710-a441-4945-8327-2b1315ff039c",
   "metadata": {},
   "outputs": [
    {
     "data": {
      "text/plain": [
       "str"
      ]
     },
     "execution_count": 104,
     "metadata": {},
     "output_type": "execute_result"
    }
   ],
   "source": [
    "type(b)"
   ]
  },
  {
   "cell_type": "code",
   "execution_count": 105,
   "id": "9267bd9e-da86-4646-a99d-78563a657d2a",
   "metadata": {},
   "outputs": [
    {
     "data": {
      "text/plain": [
       "'1020'"
      ]
     },
     "execution_count": 105,
     "metadata": {},
     "output_type": "execute_result"
    }
   ],
   "source": [
    "a+b"
   ]
  },
  {
   "cell_type": "code",
   "execution_count": 106,
   "id": "3e793702-dfca-4698-a8b3-f746df086179",
   "metadata": {},
   "outputs": [],
   "source": [
    "x=int('10')"
   ]
  },
  {
   "cell_type": "code",
   "execution_count": 107,
   "id": "a36dc4ad-a458-4503-83c0-648608498e19",
   "metadata": {},
   "outputs": [
    {
     "data": {
      "text/plain": [
       "int"
      ]
     },
     "execution_count": 107,
     "metadata": {},
     "output_type": "execute_result"
    }
   ],
   "source": [
    "type(x)"
   ]
  },
  {
   "cell_type": "code",
   "execution_count": 108,
   "id": "1ee1c17d-ed3d-41cb-a481-bbd138b51702",
   "metadata": {},
   "outputs": [],
   "source": [
    "y=int('20')"
   ]
  },
  {
   "cell_type": "code",
   "execution_count": 109,
   "id": "3307241a-11ea-45e5-bfbb-e30f69d5a6d9",
   "metadata": {},
   "outputs": [
    {
     "data": {
      "text/plain": [
       "int"
      ]
     },
     "execution_count": 109,
     "metadata": {},
     "output_type": "execute_result"
    }
   ],
   "source": [
    "type(y)"
   ]
  },
  {
   "cell_type": "code",
   "execution_count": 111,
   "id": "da06e939-a558-4d79-af1f-9fe04f91cde9",
   "metadata": {},
   "outputs": [
    {
     "name": "stdin",
     "output_type": "stream",
     "text": [
      "enter first number: 5\n",
      "enter second number: 6\n"
     ]
    },
    {
     "name": "stdout",
     "output_type": "stream",
     "text": [
      "-1\n"
     ]
    }
   ],
   "source": [
    "a=int(input(\"enter first number:\"))\n",
    "b=int(input(\"enter second number:\"))\n",
    "c=a-b\n",
    "print(c)"
   ]
  },
  {
   "cell_type": "code",
   "execution_count": 112,
   "id": "02769e99-f642-4734-80b4-763b745f8135",
   "metadata": {},
   "outputs": [
    {
     "name": "stdin",
     "output_type": "stream",
     "text": [
      " 10\n"
     ]
    },
    {
     "data": {
      "text/plain": [
       "'10'"
      ]
     },
     "execution_count": 112,
     "metadata": {},
     "output_type": "execute_result"
    }
   ],
   "source": [
    "input()"
   ]
  },
  {
   "cell_type": "code",
   "execution_count": 113,
   "id": "255208d7-fffd-4524-9923-8107a010a3fb",
   "metadata": {},
   "outputs": [
    {
     "name": "stdout",
     "output_type": "stream",
     "text": [
      "com\n"
     ]
    }
   ],
   "source": [
    "s=\"welcome\"\n",
    "print(s[-4:-1])"
   ]
  },
  {
   "cell_type": "code",
   "execution_count": 114,
   "id": "7dd685b7-8b44-48ee-b9ed-3d07a2f9aa12",
   "metadata": {},
   "outputs": [
    {
     "name": "stdout",
     "output_type": "stream",
     "text": [
      "\n"
     ]
    }
   ],
   "source": [
    "print(s[-1:-4])"
   ]
  },
  {
   "cell_type": "code",
   "execution_count": 116,
   "id": "a296fc96-5afb-4243-8e32-05d94c88cd51",
   "metadata": {},
   "outputs": [],
   "source": [
    "a=\"my name is mishra\""
   ]
  },
  {
   "cell_type": "code",
   "execution_count": 117,
   "id": "a77f5d69-57c3-4eef-9dd2-7f451e70c181",
   "metadata": {},
   "outputs": [
    {
     "data": {
      "text/plain": [
       "'my name is '"
      ]
     },
     "execution_count": 117,
     "metadata": {},
     "output_type": "execute_result"
    }
   ],
   "source": [
    "a[0:11]\n"
   ]
  },
  {
   "cell_type": "code",
   "execution_count": 118,
   "id": "a94b363d-e05b-49f2-8c95-9c7cc02ab870",
   "metadata": {},
   "outputs": [
    {
     "data": {
      "text/plain": [
       "'mishra'"
      ]
     },
     "execution_count": 118,
     "metadata": {},
     "output_type": "execute_result"
    }
   ],
   "source": [
    "a[11:]\n"
   ]
  },
  {
   "cell_type": "code",
   "execution_count": 119,
   "id": "a57f9570-3e83-4e75-9829-0a5550673bff",
   "metadata": {},
   "outputs": [
    {
     "data": {
      "text/plain": [
       "'mishr'"
      ]
     },
     "execution_count": 119,
     "metadata": {},
     "output_type": "execute_result"
    }
   ],
   "source": [
    "a[11:16]\n"
   ]
  },
  {
   "cell_type": "code",
   "execution_count": 120,
   "id": "01bec1f0-1f7f-488d-ba3c-ab0b54537c62",
   "metadata": {},
   "outputs": [
    {
     "data": {
      "text/plain": [
       "'ishra'"
      ]
     },
     "execution_count": 120,
     "metadata": {},
     "output_type": "execute_result"
    }
   ],
   "source": [
    "a[-5:]\n"
   ]
  },
  {
   "cell_type": "code",
   "execution_count": 121,
   "id": "e625ba54-d130-435c-b0a3-3b9399fb576d",
   "metadata": {},
   "outputs": [
    {
     "data": {
      "text/plain": [
       "16"
      ]
     },
     "execution_count": 121,
     "metadata": {},
     "output_type": "execute_result"
    }
   ],
   "source": [
    "len(a)-1"
   ]
  },
  {
   "cell_type": "code",
   "execution_count": 122,
   "id": "56f7c314-8e17-4a6e-bc42-20e24fbf8d69",
   "metadata": {},
   "outputs": [
    {
     "data": {
      "text/plain": [
       "'m aei ih'"
      ]
     },
     "execution_count": 122,
     "metadata": {},
     "output_type": "execute_result"
    }
   ],
   "source": [
    "a[0:16:2]"
   ]
  },
  {
   "cell_type": "code",
   "execution_count": 124,
   "id": "9d974669-b514-4e13-be98-a98a6b1ee707",
   "metadata": {},
   "outputs": [],
   "source": [
    "word=\"himanshumishra\""
   ]
  },
  {
   "cell_type": "code",
   "execution_count": 125,
   "id": "b958c1f5-b1b6-45d8-92e6-888b79fc2227",
   "metadata": {},
   "outputs": [
    {
     "data": {
      "text/plain": [
       "14"
      ]
     },
     "execution_count": 125,
     "metadata": {},
     "output_type": "execute_result"
    }
   ],
   "source": [
    "len(word)"
   ]
  },
  {
   "cell_type": "code",
   "execution_count": 126,
   "id": "776d8862-2b08-4e55-af1e-445ea88ae9b4",
   "metadata": {},
   "outputs": [
    {
     "data": {
      "text/plain": [
       "'himanshumis'"
      ]
     },
     "execution_count": 126,
     "metadata": {},
     "output_type": "execute_result"
    }
   ],
   "source": [
    "word[0:11]"
   ]
  },
  {
   "cell_type": "code",
   "execution_count": 127,
   "id": "3225f778-c0f5-4523-912e-534552d74e65",
   "metadata": {},
   "outputs": [
    {
     "data": {
      "text/plain": [
       "'hmnhms'"
      ]
     },
     "execution_count": 127,
     "metadata": {},
     "output_type": "execute_result"
    }
   ],
   "source": [
    "word[0:11:2]"
   ]
  },
  {
   "cell_type": "code",
   "execution_count": 128,
   "id": "08d3ca47-d3d0-4910-ab52-2d6d1f83a5ce",
   "metadata": {},
   "outputs": [
    {
     "data": {
      "text/plain": [
       "'hahi'"
      ]
     },
     "execution_count": 128,
     "metadata": {},
     "output_type": "execute_result"
    }
   ],
   "source": [
    "word[0:11:3]"
   ]
  },
  {
   "cell_type": "code",
   "execution_count": 129,
   "id": "63d4e75b-ed17-400d-8978-53f5926c4a28",
   "metadata": {},
   "outputs": [
    {
     "data": {
      "text/plain": [
       "'himanshumis'"
      ]
     },
     "execution_count": 129,
     "metadata": {},
     "output_type": "execute_result"
    }
   ],
   "source": [
    "word[0:11:1]"
   ]
  },
  {
   "cell_type": "code",
   "execution_count": 130,
   "id": "0f7a5b42-8fb3-4cc5-9a44-83af49c2d863",
   "metadata": {},
   "outputs": [
    {
     "ename": "ValueError",
     "evalue": "slice step cannot be zero",
     "output_type": "error",
     "traceback": [
      "\u001b[1;31m---------------------------------------------------------------------------\u001b[0m",
      "\u001b[1;31mValueError\u001b[0m                                Traceback (most recent call last)",
      "Cell \u001b[1;32mIn[130], line 1\u001b[0m\n\u001b[1;32m----> 1\u001b[0m \u001b[43mword\u001b[49m\u001b[43m[\u001b[49m\u001b[38;5;241;43m0\u001b[39;49m\u001b[43m:\u001b[49m\u001b[38;5;241;43m11\u001b[39;49m\u001b[43m:\u001b[49m\u001b[38;5;241;43m0\u001b[39;49m\u001b[43m]\u001b[49m\n",
      "\u001b[1;31mValueError\u001b[0m: slice step cannot be zero"
     ]
    }
   ],
   "source": [
    "word[0:11:0]"
   ]
  },
  {
   "cell_type": "code",
   "execution_count": 133,
   "id": "c1d2d94d-2970-4240-93aa-40388688145c",
   "metadata": {},
   "outputs": [],
   "source": [
    "word=\"mishra\""
   ]
  },
  {
   "cell_type": "code",
   "execution_count": 134,
   "id": "76b44ed3-fb54-4c42-99b5-56277f03db9e",
   "metadata": {},
   "outputs": [
    {
     "data": {
      "text/plain": [
       "''"
      ]
     },
     "execution_count": 134,
     "metadata": {},
     "output_type": "execute_result"
    }
   ],
   "source": [
    "word[-1:-4]"
   ]
  },
  {
   "cell_type": "code",
   "execution_count": 135,
   "id": "5867aac3-930c-4143-9b97-468055a42b58",
   "metadata": {},
   "outputs": [
    {
     "data": {
      "text/plain": [
       "'shr'"
      ]
     },
     "execution_count": 135,
     "metadata": {},
     "output_type": "execute_result"
    }
   ],
   "source": [
    "word[-4:-1]"
   ]
  },
  {
   "cell_type": "code",
   "execution_count": 136,
   "id": "ebb9b56b-fc03-40ed-9722-c2adf3ac7980",
   "metadata": {},
   "outputs": [
    {
     "data": {
      "text/plain": [
       "'arh'"
      ]
     },
     "execution_count": 136,
     "metadata": {},
     "output_type": "execute_result"
    }
   ],
   "source": [
    "word[-1:-4:-1]"
   ]
  },
  {
   "cell_type": "code",
   "execution_count": 139,
   "id": "9c92b732-7b50-4435-8b1d-169274cbfa07",
   "metadata": {},
   "outputs": [],
   "source": [
    "a=\"mishra\""
   ]
  },
  {
   "cell_type": "code",
   "execution_count": 140,
   "id": "7cfe98cc-f782-4efe-946e-b2677cbe340c",
   "metadata": {},
   "outputs": [
    {
     "data": {
      "text/plain": [
       "'arhsim'"
      ]
     },
     "execution_count": 140,
     "metadata": {},
     "output_type": "execute_result"
    }
   ],
   "source": [
    "a[::-1]"
   ]
  },
  {
   "cell_type": "code",
   "execution_count": 141,
   "id": "0853c390-105e-4b45-a03e-17efd441661b",
   "metadata": {},
   "outputs": [],
   "source": [
    "a=\"we are here for learning data science\""
   ]
  },
  {
   "cell_type": "code",
   "execution_count": 142,
   "id": "9717b81c-3d83-4357-80dd-4fca4195da7d",
   "metadata": {},
   "outputs": [
    {
     "data": {
      "text/plain": [
       "37"
      ]
     },
     "execution_count": 142,
     "metadata": {},
     "output_type": "execute_result"
    }
   ],
   "source": [
    "len(a)"
   ]
  },
  {
   "cell_type": "code",
   "execution_count": 143,
   "id": "ca53253f-b819-45de-a925-da6e412d44fe",
   "metadata": {},
   "outputs": [
    {
     "ename": "SyntaxError",
     "evalue": "invalid syntax (4196721919.py, line 1)",
     "output_type": "error",
     "traceback": [
      "\u001b[1;36m  Cell \u001b[1;32mIn[143], line 1\u001b[1;36m\u001b[0m\n\u001b[1;33m    learning data science##reverse\u001b[0m\n\u001b[1;37m             ^\u001b[0m\n\u001b[1;31mSyntaxError\u001b[0m\u001b[1;31m:\u001b[0m invalid syntax\n"
     ]
    }
   ],
   "source": [
    "learning data science##reverse"
   ]
  },
  {
   "cell_type": "code",
   "execution_count": 144,
   "id": "6e596375-d090-426f-84b8-e82886a37f6d",
   "metadata": {},
   "outputs": [
    {
     "data": {
      "text/plain": [
       "'ecneics atad gninrael rof ereh era ew'"
      ]
     },
     "execution_count": 144,
     "metadata": {},
     "output_type": "execute_result"
    }
   ],
   "source": [
    "a[::-1]\n"
   ]
  },
  {
   "cell_type": "code",
   "execution_count": 147,
   "id": "567e2a34-aab0-4f38-b945-203a2862013b",
   "metadata": {},
   "outputs": [
    {
     "data": {
      "text/plain": [
       "'l rof ereh era ew'"
      ]
     },
     "execution_count": 147,
     "metadata": {},
     "output_type": "execute_result"
    }
   ],
   "source": [
    "a[16::-1]\n"
   ]
  },
  {
   "cell_type": "code",
   "execution_count": 148,
   "id": "44ac6366-792e-4e12-9ce2-4c2fc83ebb20",
   "metadata": {},
   "outputs": [
    {
     "data": {
      "text/plain": [
       "'ecneics atad gn'"
      ]
     },
     "execution_count": 148,
     "metadata": {},
     "output_type": "execute_result"
    }
   ],
   "source": [
    "a[-1:21:-1]\n"
   ]
  },
  {
   "cell_type": "code",
   "execution_count": 149,
   "id": "bbff6639-2e39-49b6-89fd-473b404fdc68",
   "metadata": {},
   "outputs": [
    {
     "data": {
      "text/plain": [
       "' learning data scienc'"
      ]
     },
     "execution_count": 149,
     "metadata": {},
     "output_type": "execute_result"
    }
   ],
   "source": [
    "a[-22:-1:1]\n"
   ]
  },
  {
   "cell_type": "code",
   "execution_count": 150,
   "id": "0dd90c56-5173-48ba-b59f-f56303e9097d",
   "metadata": {},
   "outputs": [
    {
     "data": {
      "text/plain": [
       "''"
      ]
     },
     "execution_count": 150,
     "metadata": {},
     "output_type": "execute_result"
    }
   ],
   "source": [
    "a[37:15:1]\n"
   ]
  },
  {
   "cell_type": "code",
   "execution_count": 151,
   "id": "77acc671-ebdb-4ff8-8af0-3cb86aa477bd",
   "metadata": {},
   "outputs": [],
   "source": [
    "x = 5\n",
    "y = 3"
   ]
  },
  {
   "cell_type": "code",
   "execution_count": 152,
   "id": "6da3c23a-9ce9-40fd-9549-4dbc360fdfba",
   "metadata": {},
   "outputs": [
    {
     "name": "stdout",
     "output_type": "stream",
     "text": [
      "8\n",
      "2\n",
      "15\n",
      "1.6666666666666667\n"
     ]
    }
   ],
   "source": [
    "print(x + y)\n",
    "print(x - y)\n",
    "print(x * y)\n",
    "print(x/y)"
   ]
  },
  {
   "cell_type": "code",
   "execution_count": 153,
   "id": "b2f947ce-b1ff-4ba1-90ba-6049fbc2f421",
   "metadata": {},
   "outputs": [
    {
     "name": "stdout",
     "output_type": "stream",
     "text": [
      "2\n"
     ]
    }
   ],
   "source": [
    "print(x%y)#It's used to get the remainder of a division problem"
   ]
  },
  {
   "cell_type": "code",
   "execution_count": 154,
   "id": "92257850-f6af-49cf-a5e3-f6057bb014e7",
   "metadata": {},
   "outputs": [
    {
     "name": "stdout",
     "output_type": "stream",
     "text": [
      "125\n"
     ]
    }
   ],
   "source": [
    "print(x**y)"
   ]
  },
  {
   "cell_type": "code",
   "execution_count": 155,
   "id": "628cb013-b488-4711-9af7-3cd13b1695e7",
   "metadata": {},
   "outputs": [
    {
     "name": "stdout",
     "output_type": "stream",
     "text": [
      "1\n"
     ]
    }
   ],
   "source": [
    "print(x//y)#the floor division // rounds the result down to the nearest whole number\n"
   ]
  },
  {
   "cell_type": "code",
   "execution_count": 156,
   "id": "b1b67638-c8d3-4c4f-b26d-95da0e231dd3",
   "metadata": {},
   "outputs": [],
   "source": [
    "x = 14\n",
    "y = 3"
   ]
  },
  {
   "cell_type": "code",
   "execution_count": 157,
   "id": "7d94ccd3-951a-4920-9e42-87fc344ef92e",
   "metadata": {},
   "outputs": [
    {
     "name": "stdout",
     "output_type": "stream",
     "text": [
      "4\n"
     ]
    }
   ],
   "source": [
    "print(x//y)"
   ]
  },
  {
   "cell_type": "code",
   "execution_count": 158,
   "id": "663326e0-edb4-4545-a505-8366c4d3581f",
   "metadata": {},
   "outputs": [],
   "source": [
    "a=10\n",
    "b=4"
   ]
  },
  {
   "cell_type": "code",
   "execution_count": 159,
   "id": "17b7595e-8dbd-45a6-8121-f1bec11341ae",
   "metadata": {},
   "outputs": [
    {
     "name": "stdout",
     "output_type": "stream",
     "text": [
      "a= 10 b= 4\n"
     ]
    }
   ],
   "source": [
    "print(\"a=\",a,\"b=\",b)"
   ]
  },
  {
   "cell_type": "code",
   "execution_count": 160,
   "id": "22a29789-1aec-42a9-9750-12c4f235d9f2",
   "metadata": {},
   "outputs": [
    {
     "name": "stdout",
     "output_type": "stream",
     "text": [
      "a > b True\n"
     ]
    }
   ],
   "source": [
    "print(\"a > b\",a>b)"
   ]
  },
  {
   "cell_type": "code",
   "execution_count": 161,
   "id": "2e198346-9b97-46e0-9d28-1cf248d0f8df",
   "metadata": {},
   "outputs": [
    {
     "name": "stdout",
     "output_type": "stream",
     "text": [
      "a < b False\n"
     ]
    }
   ],
   "source": [
    "print(\"a < b\",a<b)"
   ]
  },
  {
   "cell_type": "code",
   "execution_count": 162,
   "id": "3f3abbd0-92a7-4a32-a4d9-a607695b35a9",
   "metadata": {},
   "outputs": [
    {
     "name": "stdout",
     "output_type": "stream",
     "text": [
      "a==b False\n"
     ]
    }
   ],
   "source": [
    "print(\"a==b\",a==b)"
   ]
  },
  {
   "cell_type": "code",
   "execution_count": 163,
   "id": "fc41207e-9453-4c6e-b10d-87a116887b34",
   "metadata": {},
   "outputs": [
    {
     "name": "stdout",
     "output_type": "stream",
     "text": [
      "a!=b True\n"
     ]
    }
   ],
   "source": [
    "print(\"a!=b\",a!=b)"
   ]
  },
  {
   "cell_type": "code",
   "execution_count": 164,
   "id": "a1ace02c-6ba5-4438-a7fb-9f5d626db67c",
   "metadata": {},
   "outputs": [
    {
     "name": "stdout",
     "output_type": "stream",
     "text": [
      "a>=b True\n"
     ]
    }
   ],
   "source": [
    "print(\"a>=b\",a>=b)"
   ]
  },
  {
   "cell_type": "code",
   "execution_count": 165,
   "id": "4fb4f742-9aef-445e-9f0e-5e22889a6599",
   "metadata": {},
   "outputs": [
    {
     "name": "stdout",
     "output_type": "stream",
     "text": [
      "a<=b False\n"
     ]
    }
   ],
   "source": [
    "print(\"a<=b\",a<=b)"
   ]
  },
  {
   "cell_type": "code",
   "execution_count": 166,
   "id": "3ed8242b-5667-4e49-bd31-89fd69adcdce",
   "metadata": {},
   "outputs": [],
   "source": [
    "a=\"s\""
   ]
  },
  {
   "cell_type": "code",
   "execution_count": 167,
   "id": "06f87feb-0fd8-4641-a738-4cde1f5f43bc",
   "metadata": {},
   "outputs": [
    {
     "data": {
      "text/plain": [
       "115"
      ]
     },
     "execution_count": 167,
     "metadata": {},
     "output_type": "execute_result"
    }
   ],
   "source": [
    "ord(a)"
   ]
  },
  {
   "cell_type": "code",
   "execution_count": 168,
   "id": "7133e5f3-5db2-45cc-bf1c-dfa4949b0ba5",
   "metadata": {},
   "outputs": [
    {
     "data": {
      "text/plain": [
       "83"
      ]
     },
     "execution_count": 168,
     "metadata": {},
     "output_type": "execute_result"
    }
   ],
   "source": [
    "ord(\"S\")"
   ]
  },
  {
   "cell_type": "code",
   "execution_count": 169,
   "id": "3a6a35e6-4d9b-4795-b2a4-d945c5440446",
   "metadata": {},
   "outputs": [
    {
     "data": {
      "text/plain": [
       "97"
      ]
     },
     "execution_count": 169,
     "metadata": {},
     "output_type": "execute_result"
    }
   ],
   "source": [
    "ord(\"a\")"
   ]
  },
  {
   "cell_type": "code",
   "execution_count": 170,
   "id": "dd496ed1-db86-4fe6-aa7f-46cf2f9ddf4f",
   "metadata": {},
   "outputs": [
    {
     "data": {
      "text/plain": [
       "True"
      ]
     },
     "execution_count": 170,
     "metadata": {},
     "output_type": "execute_result"
    }
   ],
   "source": [
    "6>5"
   ]
  },
  {
   "cell_type": "code",
   "execution_count": 171,
   "id": "35d21d0d-74b3-4ce8-a866-e78e099c1b84",
   "metadata": {},
   "outputs": [
    {
     "data": {
      "text/plain": [
       "False"
      ]
     },
     "execution_count": 171,
     "metadata": {},
     "output_type": "execute_result"
    }
   ],
   "source": [
    "-1>True"
   ]
  },
  {
   "cell_type": "code",
   "execution_count": 172,
   "id": "24deb4b6-15c2-45a0-982f-9483f98fa674",
   "metadata": {},
   "outputs": [
    {
     "name": "stdout",
     "output_type": "stream",
     "text": [
      "False\n"
     ]
    }
   ],
   "source": [
    "print(-1>6>5)\n"
   ]
  },
  {
   "cell_type": "code",
   "execution_count": 173,
   "id": "315b2dbb-f416-4d50-b03e-31bb3345abb9",
   "metadata": {},
   "outputs": [
    {
     "data": {
      "text/plain": [
       "False"
      ]
     },
     "execution_count": 173,
     "metadata": {},
     "output_type": "execute_result"
    }
   ],
   "source": [
    "True and False"
   ]
  },
  {
   "cell_type": "code",
   "execution_count": 174,
   "id": "fef5d96f-d80a-4038-8e18-d22dcdbf15a4",
   "metadata": {},
   "outputs": [
    {
     "data": {
      "text/plain": [
       "True"
      ]
     },
     "execution_count": 174,
     "metadata": {},
     "output_type": "execute_result"
    }
   ],
   "source": [
    "True and True"
   ]
  },
  {
   "cell_type": "code",
   "execution_count": 175,
   "id": "f988ad4c-9c48-4082-a934-8b18d94fca65",
   "metadata": {},
   "outputs": [],
   "source": [
    "x=y=z=10\n"
   ]
  },
  {
   "cell_type": "code",
   "execution_count": 176,
   "id": "d6bf42b1-55d6-46f5-88e6-579db55bbaf9",
   "metadata": {},
   "outputs": [
    {
     "data": {
      "text/plain": [
       "10"
      ]
     },
     "execution_count": 176,
     "metadata": {},
     "output_type": "execute_result"
    }
   ],
   "source": [
    "z\n"
   ]
  },
  {
   "cell_type": "code",
   "execution_count": 177,
   "id": "5c7169ac-9b1e-4f96-acb7-df64bb76d60f",
   "metadata": {},
   "outputs": [
    {
     "data": {
      "text/plain": [
       "10"
      ]
     },
     "execution_count": 177,
     "metadata": {},
     "output_type": "execute_result"
    }
   ],
   "source": [
    "x"
   ]
  },
  {
   "cell_type": "code",
   "execution_count": 178,
   "id": "f131b34a-e381-4ff6-be91-421fe5b709a0",
   "metadata": {},
   "outputs": [
    {
     "data": {
      "text/plain": [
       "10"
      ]
     },
     "execution_count": 178,
     "metadata": {},
     "output_type": "execute_result"
    }
   ],
   "source": [
    "y"
   ]
  },
  {
   "cell_type": "code",
   "execution_count": 179,
   "id": "78effb21-6e77-4675-bc90-0c8bab5ffa6c",
   "metadata": {},
   "outputs": [],
   "source": [
    "x,y,z=10,20,30"
   ]
  },
  {
   "cell_type": "code",
   "execution_count": 180,
   "id": "577d0741-de4b-4ff0-b50b-7eec319eb939",
   "metadata": {},
   "outputs": [
    {
     "data": {
      "text/plain": [
       "10"
      ]
     },
     "execution_count": 180,
     "metadata": {},
     "output_type": "execute_result"
    }
   ],
   "source": [
    "x"
   ]
  },
  {
   "cell_type": "code",
   "execution_count": 181,
   "id": "f941fd6d-1dd4-4550-9800-8fa906462f19",
   "metadata": {},
   "outputs": [
    {
     "data": {
      "text/plain": [
       "20"
      ]
     },
     "execution_count": 181,
     "metadata": {},
     "output_type": "execute_result"
    }
   ],
   "source": [
    "y"
   ]
  },
  {
   "cell_type": "code",
   "execution_count": 182,
   "id": "50c9173e-151f-471a-b98e-7fdb29ecdf83",
   "metadata": {},
   "outputs": [
    {
     "data": {
      "text/plain": [
       "30"
      ]
     },
     "execution_count": 182,
     "metadata": {},
     "output_type": "execute_result"
    }
   ],
   "source": [
    "z"
   ]
  },
  {
   "cell_type": "code",
   "execution_count": 183,
   "id": "a8e2e4a4-83c7-4e54-a5ef-344cf17142e9",
   "metadata": {},
   "outputs": [
    {
     "ename": "NameError",
     "evalue": "name 'X' is not defined",
     "output_type": "error",
     "traceback": [
      "\u001b[1;31m---------------------------------------------------------------------------\u001b[0m",
      "\u001b[1;31mNameError\u001b[0m                                 Traceback (most recent call last)",
      "Cell \u001b[1;32mIn[183], line 1\u001b[0m\n\u001b[1;32m----> 1\u001b[0m \u001b[43mX\u001b[49m\u001b[38;5;241m+\u001b[39m\u001b[38;5;241m=\u001b[39m\u001b[38;5;241m1\u001b[39m\u001b[38;5;66;03m# X=X+1\u001b[39;00m\n",
      "\u001b[1;31mNameError\u001b[0m: name 'X' is not defined"
     ]
    }
   ],
   "source": [
    "X+=1# X=X+1"
   ]
  },
  {
   "cell_type": "code",
   "execution_count": 184,
   "id": "5b69133d-ddc1-4f12-a22c-5f6d0eb98134",
   "metadata": {},
   "outputs": [],
   "source": [
    "a=10"
   ]
  },
  {
   "cell_type": "code",
   "execution_count": 185,
   "id": "179a5b83-32a9-4dfe-916a-3be413e2b520",
   "metadata": {},
   "outputs": [
    {
     "data": {
      "text/plain": [
       "140714764520152"
      ]
     },
     "execution_count": 185,
     "metadata": {},
     "output_type": "execute_result"
    }
   ],
   "source": [
    "id(a)"
   ]
  },
  {
   "cell_type": "code",
   "execution_count": 186,
   "id": "56352a9e-b84c-4c36-833a-13ab42a07407",
   "metadata": {},
   "outputs": [],
   "source": [
    "b=20"
   ]
  },
  {
   "cell_type": "code",
   "execution_count": 187,
   "id": "5dc74ae7-0dfa-46fd-b340-1e2d24c1e041",
   "metadata": {},
   "outputs": [
    {
     "data": {
      "text/plain": [
       "140714764520472"
      ]
     },
     "execution_count": 187,
     "metadata": {},
     "output_type": "execute_result"
    }
   ],
   "source": [
    "id(b)"
   ]
  },
  {
   "cell_type": "code",
   "execution_count": 188,
   "id": "827d5fa7-e40b-4c91-9e41-a62ed303c1ef",
   "metadata": {},
   "outputs": [
    {
     "data": {
      "text/plain": [
       "False"
      ]
     },
     "execution_count": 188,
     "metadata": {},
     "output_type": "execute_result"
    }
   ],
   "source": [
    "a is b"
   ]
  },
  {
   "cell_type": "code",
   "execution_count": 189,
   "id": "ab067817-1340-4703-b068-cbbdf0869178",
   "metadata": {},
   "outputs": [
    {
     "data": {
      "text/plain": [
       "True"
      ]
     },
     "execution_count": 189,
     "metadata": {},
     "output_type": "execute_result"
    }
   ],
   "source": [
    "a is not b"
   ]
  },
  {
   "cell_type": "code",
   "execution_count": 190,
   "id": "74ea126f-ce67-439d-b457-510b031da412",
   "metadata": {},
   "outputs": [],
   "source": [
    "X=5"
   ]
  },
  {
   "cell_type": "code",
   "execution_count": 191,
   "id": "b0cf2dae-2477-4149-96ba-080da1710961",
   "metadata": {},
   "outputs": [],
   "source": [
    "Y=5"
   ]
  },
  {
   "cell_type": "code",
   "execution_count": 192,
   "id": "16f5ea7e-d31b-4b68-94ac-6aec6768ef62",
   "metadata": {},
   "outputs": [
    {
     "data": {
      "text/plain": [
       "True"
      ]
     },
     "execution_count": 192,
     "metadata": {},
     "output_type": "execute_result"
    }
   ],
   "source": [
    "X is Y"
   ]
  },
  {
   "cell_type": "code",
   "execution_count": 193,
   "id": "f4b8ff82-d16a-426d-bfa1-6e7675cc89cf",
   "metadata": {},
   "outputs": [
    {
     "data": {
      "text/plain": [
       "140714764519992"
      ]
     },
     "execution_count": 193,
     "metadata": {},
     "output_type": "execute_result"
    }
   ],
   "source": [
    "id(X)"
   ]
  },
  {
   "cell_type": "code",
   "execution_count": 194,
   "id": "8f17342a-8698-4a27-a76d-5f81dd49bda7",
   "metadata": {},
   "outputs": [
    {
     "data": {
      "text/plain": [
       "140714764519992"
      ]
     },
     "execution_count": 194,
     "metadata": {},
     "output_type": "execute_result"
    }
   ],
   "source": [
    "id(Y)"
   ]
  },
  {
   "cell_type": "code",
   "execution_count": 195,
   "id": "4ec96bd1-b793-40e7-aa98-2209f3091dde",
   "metadata": {},
   "outputs": [],
   "source": [
    "X=5.9"
   ]
  },
  {
   "cell_type": "code",
   "execution_count": 196,
   "id": "3fb1503e-1ec6-40c0-a871-57b38bc234d5",
   "metadata": {},
   "outputs": [
    {
     "data": {
      "text/plain": [
       "2453386883440"
      ]
     },
     "execution_count": 196,
     "metadata": {},
     "output_type": "execute_result"
    }
   ],
   "source": [
    "id(X)"
   ]
  },
  {
   "cell_type": "code",
   "execution_count": 201,
   "id": "597c5731-b20e-495f-a33d-8a073c3a884e",
   "metadata": {},
   "outputs": [],
   "source": [
    "a=\"mishra\""
   ]
  },
  {
   "cell_type": "code",
   "execution_count": 202,
   "id": "0132f707-c4ce-48c9-a75c-bf9e3413ae90",
   "metadata": {},
   "outputs": [
    {
     "data": {
      "text/plain": [
       "True"
      ]
     },
     "execution_count": 202,
     "metadata": {},
     "output_type": "execute_result"
    }
   ],
   "source": [
    "\"s\" in \"mishra\""
   ]
  },
  {
   "cell_type": "code",
   "execution_count": 203,
   "id": "e5a01ee9-a6fa-42a5-a632-9b1cbf30e697",
   "metadata": {},
   "outputs": [
    {
     "data": {
      "text/plain": [
       "False"
      ]
     },
     "execution_count": 203,
     "metadata": {},
     "output_type": "execute_result"
    }
   ],
   "source": [
    "\"s\" not in \"mishra\""
   ]
  },
  {
   "cell_type": "code",
   "execution_count": 204,
   "id": "5eafaf50-ee01-4cc6-9c92-ace0cb3feb8b",
   "metadata": {},
   "outputs": [
    {
     "data": {
      "text/plain": [
       "True"
      ]
     },
     "execution_count": 204,
     "metadata": {},
     "output_type": "execute_result"
    }
   ],
   "source": [
    "\"Y\" not in \"mishra\""
   ]
  },
  {
   "cell_type": "markdown",
   "id": "84479682-ed8b-4eb1-a238-8b6cf2527b1b",
   "metadata": {},
   "source": [
    "# Write a Python program which accepts the user's first and last name and print them in reverse order with a space between them.\n"
   ]
  },
  {
   "cell_type": "code",
   "execution_count": 206,
   "id": "82c66cc6-7a9b-4ea2-87ae-3b8a59a77899",
   "metadata": {},
   "outputs": [
    {
     "name": "stdin",
     "output_type": "stream",
     "text": [
      "enter name:  himanshu\n",
      "enter age:  21\n"
     ]
    },
    {
     "name": "stdout",
     "output_type": "stream",
     "text": [
      "name is : himanshu and year : 2101\n"
     ]
    }
   ],
   "source": [
    "a = str(input(\"enter name: \"))\n",
    "b = int(input(\"enter age: \"))\n",
    "c = (2022-b)+ 100\n",
    "print(\"name is :\", a,\"and year :\", c)\n"
   ]
  },
  {
   "cell_type": "code",
   "execution_count": 207,
   "id": "edd43102-9283-4fc8-8c4d-e4627b4e868d",
   "metadata": {},
   "outputs": [
    {
     "name": "stdin",
     "output_type": "stream",
     "text": [
      "Enter your name himanshu\n",
      "Enter your age 21\n"
     ]
    },
    {
     "name": "stdout",
     "output_type": "stream",
     "text": [
      "himanshu 2101\n"
     ]
    }
   ],
   "source": [
    "name = input(\"Enter your name\")\n",
    "age = int(input(\"Enter your age\"))\n",
    "numberOfYearNeed = 100 - age\n",
    "currentYear = 2022\n",
    "YearNeeded = currentYear + numberOfYearNeed\n",
    "\n",
    "print(name, YearNeeded)\n"
   ]
  },
  {
   "cell_type": "code",
   "execution_count": 208,
   "id": "c54e23e8-3235-444f-9e81-1f7f9c06060c",
   "metadata": {},
   "outputs": [
    {
     "name": "stdin",
     "output_type": "stream",
     "text": [
      "Enter your name himanshu\n",
      "Enter your age 21\n"
     ]
    },
    {
     "name": "stdout",
     "output_type": "stream",
     "text": [
      "himanshu\n",
      "2101\n"
     ]
    }
   ],
   "source": [
    "name=input(\"Enter your name\")\n",
    "age=int(input(\"Enter your age\"))\n",
    "Birthyear=int(2022-age)\n",
    "thyear=Birthyear+100\n",
    "print(name)\n",
    "print(thyear)"
   ]
  },
  {
   "cell_type": "code",
   "execution_count": 209,
   "id": "edbe47b8-8e5e-42da-ba29-9d8ebaa20d48",
   "metadata": {},
   "outputs": [
    {
     "name": "stdin",
     "output_type": "stream",
     "text": [
      "Input your First Name :  himanshu\n",
      "Input your Last Name :  mishra\n"
     ]
    },
    {
     "name": "stdout",
     "output_type": "stream",
     "text": [
      "Hello mishra himanshu\n"
     ]
    }
   ],
   "source": [
    "fname = input(\"Input your First Name : \") \n",
    "lname = input(\"Input your Last Name : \") \n",
    "print (\"Hello \" + lname + \" \" + fname)\n"
   ]
  },
  {
   "cell_type": "code",
   "execution_count": 210,
   "id": "c38844c7-0c0e-4829-bfc9-f44cc1d09553",
   "metadata": {},
   "outputs": [
    {
     "name": "stdin",
     "output_type": "stream",
     "text": [
      "enter the first name:  himanshu\n",
      "enter the last name : mishra\n"
     ]
    },
    {
     "name": "stdout",
     "output_type": "stream",
     "text": [
      "arhsim uhsnamih\n"
     ]
    }
   ],
   "source": [
    "first_name = input(\"enter the first name: \")\n",
    "last_name = input(\"enter the last name :\")\n",
    "\n",
    "rev1 = first_name[::-1]\n",
    "rev2 = last_name[::-1]\n",
    "\n",
    "print(f\"{rev2} {rev1}\")"
   ]
  },
  {
   "cell_type": "code",
   "execution_count": 211,
   "id": "9eacbd39-521b-4119-890e-9227c6db033d",
   "metadata": {},
   "outputs": [
    {
     "name": "stdin",
     "output_type": "stream",
     "text": [
      "Enter First Name himanshu\n",
      "Enter Last Name mishra\n"
     ]
    },
    {
     "data": {
      "text/plain": [
       "'arhsim uhsnamih'"
      ]
     },
     "execution_count": 211,
     "metadata": {},
     "output_type": "execute_result"
    }
   ],
   "source": [
    "a=input('Enter First Name')\n",
    "b=input('Enter Last Name')\n",
    "c=a+' '+b\n",
    "c[::-1]"
   ]
  },
  {
   "cell_type": "code",
   "execution_count": 212,
   "id": "964eccc7-5dc2-4637-b49c-6d61c05dd5ea",
   "metadata": {},
   "outputs": [
    {
     "name": "stdin",
     "output_type": "stream",
     "text": [
      "enter first name himanshu\n",
      "enter last name mishra\n"
     ]
    },
    {
     "name": "stdout",
     "output_type": "stream",
     "text": [
      "arhsim uhsnamih\n"
     ]
    }
   ],
   "source": [
    "a = input(\"enter first name\")\n",
    "b = input(\"enter last name\")\n",
    "print(b[::-1]+\" \"+a[::-1])\n",
    "\n"
   ]
  },
  {
   "cell_type": "code",
   "execution_count": 213,
   "id": "2400bd7f-f059-4d6c-b164-6cf90ae79375",
   "metadata": {},
   "outputs": [],
   "source": [
    "a=\"mishra\""
   ]
  },
  {
   "cell_type": "code",
   "execution_count": 214,
   "id": "975b2b93-bbc6-4227-9859-aef390d7dffa",
   "metadata": {},
   "outputs": [
    {
     "data": {
      "text/plain": [
       "'arhsim'"
      ]
     },
     "execution_count": 214,
     "metadata": {},
     "output_type": "execute_result"
    }
   ],
   "source": [
    "\"\".join(list(reversed(a)))"
   ]
  },
  {
   "cell_type": "code",
   "execution_count": 217,
   "id": "0abf464a-28b3-46f4-9407-ba76107e2e0e",
   "metadata": {},
   "outputs": [],
   "source": [
    "word=\"mishra\""
   ]
  },
  {
   "cell_type": "code",
   "execution_count": 218,
   "id": "8a9f278b-aa56-4d60-88e6-6a1974b1b7df",
   "metadata": {},
   "outputs": [
    {
     "data": {
      "text/plain": [
       "'arhsim'"
      ]
     },
     "execution_count": 218,
     "metadata": {},
     "output_type": "execute_result"
    }
   ],
   "source": [
    "word[::-1]"
   ]
  },
  {
   "cell_type": "code",
   "execution_count": 219,
   "id": "7557e7db-ac6a-4543-a64d-bf9402fa7ccc",
   "metadata": {},
   "outputs": [
    {
     "name": "stdin",
     "output_type": "stream",
     "text": [
      "enter your first name himanshmishra\n",
      "enter your last name mishra\n"
     ]
    },
    {
     "name": "stdout",
     "output_type": "stream",
     "text": [
      "arhsim arhsimhsnamih\n"
     ]
    }
   ],
   "source": [
    "a=str(input(\"enter your first name\"))\n",
    "b=str(input(\"enter your last name\"))\n",
    "print( b[-1::-1] ,a[-1::-1])"
   ]
  },
  {
   "cell_type": "markdown",
   "id": "62b52e1f-c83b-48d3-a93b-5f8b93a3455d",
   "metadata": {},
   "source": [
    "# format specifier"
   ]
  },
  {
   "cell_type": "code",
   "execution_count": 220,
   "id": "59721102-7df4-46d1-bef4-81e38a2a3377",
   "metadata": {},
   "outputs": [],
   "source": [
    "a=10"
   ]
  },
  {
   "cell_type": "code",
   "execution_count": 221,
   "id": "697b745a-e992-4498-9b60-90ee82878ac0",
   "metadata": {},
   "outputs": [
    {
     "name": "stdout",
     "output_type": "stream",
     "text": [
      "value of a is 10\n"
     ]
    }
   ],
   "source": [
    "print(\"value of a is %d\" %a)"
   ]
  },
  {
   "cell_type": "code",
   "execution_count": 222,
   "id": "eeb61e2c-26ae-4f38-9b74-e4b481962dc0",
   "metadata": {},
   "outputs": [
    {
     "name": "stdout",
     "output_type": "stream",
     "text": [
      "value of a is 10 name is himanshu value of b is mishra\n"
     ]
    }
   ],
   "source": [
    "print(\"value of a is\",a,\"name is\",name,\"value of b is\",b)"
   ]
  },
  {
   "cell_type": "code",
   "execution_count": 223,
   "id": "17640a4b-be11-48ce-a221-d3c8527a44d2",
   "metadata": {},
   "outputs": [
    {
     "ename": "TypeError",
     "evalue": "must be real number, not str",
     "output_type": "error",
     "traceback": [
      "\u001b[1;31m---------------------------------------------------------------------------\u001b[0m",
      "\u001b[1;31mTypeError\u001b[0m                                 Traceback (most recent call last)",
      "Cell \u001b[1;32mIn[223], line 2\u001b[0m\n\u001b[0;32m      1\u001b[0m \u001b[38;5;66;03m#number of format specifier and variable must be a same\u001b[39;00m\n\u001b[1;32m----> 2\u001b[0m \u001b[38;5;28mprint\u001b[39m(\u001b[38;5;124;43m\"\u001b[39;49m\u001b[38;5;124;43mvalue of a is \u001b[39;49m\u001b[38;5;132;43;01m%d\u001b[39;49;00m\u001b[38;5;124;43m vlaue of b is \u001b[39;49m\u001b[38;5;132;43;01m%s\u001b[39;49;00m\u001b[38;5;124;43m value of name is \u001b[39;49m\u001b[38;5;132;43;01m%f\u001b[39;49;00m\u001b[38;5;124;43m\"\u001b[39;49m\u001b[38;5;241;43m%\u001b[39;49m\u001b[43m(\u001b[49m\u001b[43ma\u001b[49m\u001b[43m,\u001b[49m\u001b[43mname\u001b[49m\u001b[43m,\u001b[49m\u001b[43mb\u001b[49m\u001b[43m)\u001b[49m)\n",
      "\u001b[1;31mTypeError\u001b[0m: must be real number, not str"
     ]
    }
   ],
   "source": [
    "#number of format specifier and variable must be a same\n",
    "print(\"value of a is %d vlaue of b is %s value of name is %f\"%(a,name,b))"
   ]
  },
  {
   "cell_type": "code",
   "execution_count": 225,
   "id": "425b7b53-7a49-40e1-8db0-93c1a41bfd26",
   "metadata": {},
   "outputs": [
    {
     "name": "stdout",
     "output_type": "stream",
     "text": [
      "value of a is 10\n"
     ]
    }
   ],
   "source": [
    "print(\"value of a is\",a)"
   ]
  },
  {
   "cell_type": "code",
   "execution_count": 226,
   "id": "6de8bf0d-8931-48e7-bbbf-34f18c6084d9",
   "metadata": {},
   "outputs": [
    {
     "name": "stdout",
     "output_type": "stream",
     "text": [
      "the value of a is 10\n"
     ]
    }
   ],
   "source": [
    "print(\"the value of a is %d\"%a)"
   ]
  },
  {
   "cell_type": "code",
   "execution_count": 227,
   "id": "ce6d7ef8-d814-46a4-9df9-f5a3b0a2dff9",
   "metadata": {},
   "outputs": [
    {
     "name": "stdout",
     "output_type": "stream",
     "text": [
      "value of is 10\n"
     ]
    }
   ],
   "source": [
    "print(\"value of is {}\".format(a))"
   ]
  },
  {
   "cell_type": "code",
   "execution_count": 228,
   "id": "757db2e1-a67b-4f6a-934e-7b68ccb39d7f",
   "metadata": {},
   "outputs": [],
   "source": [
    "b=200"
   ]
  },
  {
   "cell_type": "code",
   "execution_count": 229,
   "id": "87f701d0-31c1-4984-8746-5175b3e33410",
   "metadata": {},
   "outputs": [
    {
     "name": "stdout",
     "output_type": "stream",
     "text": [
      "value of a is 10 value of b is 200\n"
     ]
    }
   ],
   "source": [
    "print(\"value of a is {} value of b is {}\".format(a,b))"
   ]
  },
  {
   "cell_type": "code",
   "execution_count": 230,
   "id": "dab0a2e7-c1b2-457f-b349-dedbae7ddae4",
   "metadata": {},
   "outputs": [],
   "source": [
    "name=\"rajat\"\n",
    "age=27"
   ]
  },
  {
   "cell_type": "code",
   "execution_count": 231,
   "id": "ff7ce115-2d63-4c2c-bf55-d33eba04a1ac",
   "metadata": {},
   "outputs": [
    {
     "name": "stdout",
     "output_type": "stream",
     "text": [
      "name is rajat age is 27\n"
     ]
    }
   ],
   "source": [
    "print(\"name is {} age is {}\".format(name,age))"
   ]
  },
  {
   "cell_type": "code",
   "execution_count": 232,
   "id": "cdc6ae08-98d2-4b45-8ac6-603d1bcfbdd8",
   "metadata": {},
   "outputs": [
    {
     "name": "stdout",
     "output_type": "stream",
     "text": [
      "name is 27 age is rajat\n"
     ]
    }
   ],
   "source": [
    "print(\"name is {} age is {}\".format(age,name))"
   ]
  },
  {
   "cell_type": "code",
   "execution_count": 233,
   "id": "4d9cd473-2b5c-413f-9258-617ce156eb01",
   "metadata": {},
   "outputs": [
    {
     "ename": "KeyError",
     "evalue": "'name'",
     "output_type": "error",
     "traceback": [
      "\u001b[1;31m---------------------------------------------------------------------------\u001b[0m",
      "\u001b[1;31mKeyError\u001b[0m                                  Traceback (most recent call last)",
      "Cell \u001b[1;32mIn[233], line 1\u001b[0m\n\u001b[1;32m----> 1\u001b[0m \u001b[38;5;28mprint\u001b[39m(\u001b[38;5;124;43m\"\u001b[39;49m\u001b[38;5;124;43mname is \u001b[39;49m\u001b[38;5;132;43;01m{name}\u001b[39;49;00m\u001b[38;5;124;43m age is \u001b[39;49m\u001b[38;5;132;43;01m{age}\u001b[39;49;00m\u001b[38;5;124;43m\"\u001b[39;49m\u001b[38;5;241;43m.\u001b[39;49m\u001b[43mformat\u001b[49m\u001b[43m(\u001b[49m\u001b[43mage\u001b[49m\u001b[43m,\u001b[49m\u001b[43mname\u001b[49m\u001b[43m)\u001b[49m)\n",
      "\u001b[1;31mKeyError\u001b[0m: 'name'"
     ]
    }
   ],
   "source": [
    "print(\"name is {name} age is {age}\".format(age,name))"
   ]
  },
  {
   "cell_type": "code",
   "execution_count": 234,
   "id": "bb89b841-0ea0-4ac1-a4ca-e8a2515cc3ec",
   "metadata": {},
   "outputs": [
    {
     "name": "stdout",
     "output_type": "stream",
     "text": [
      "name is rajat age is 27\n"
     ]
    }
   ],
   "source": [
    "print(\"name is {1} age is {0}\".format(age,name))"
   ]
  },
  {
   "cell_type": "code",
   "execution_count": 235,
   "id": "95630e1a-5e46-48a1-96e2-4a44f8870993",
   "metadata": {},
   "outputs": [
    {
     "name": "stdout",
     "output_type": "stream",
     "text": [
      "name is rajat age is 27\n"
     ]
    }
   ],
   "source": [
    "print(\"name is {n} age is {a}\".format(a=age,n=name))"
   ]
  },
  {
   "cell_type": "code",
   "execution_count": 236,
   "id": "da4a3f48-b8c4-4604-82e1-143f7d11566b",
   "metadata": {},
   "outputs": [
    {
     "name": "stdout",
     "output_type": "stream",
     "text": [
      "name is rajat age is 27\n"
     ]
    }
   ],
   "source": [
    "print(\"name is {n} age is {a}\".format(a=age,n=name))"
   ]
  },
  {
   "cell_type": "code",
   "execution_count": 237,
   "id": "e94f4add-ab27-448e-b318-4b1b691204b5",
   "metadata": {},
   "outputs": [
    {
     "name": "stdout",
     "output_type": "stream",
     "text": [
      "name is rajat age is 27\n"
     ]
    }
   ],
   "source": [
    "print(\"name is {} age is {}\".format(name,age))"
   ]
  },
  {
   "cell_type": "code",
   "execution_count": 238,
   "id": "f6e1f854-9689-49b8-8047-5f30cf99702e",
   "metadata": {},
   "outputs": [],
   "source": [
    "x=50"
   ]
  },
  {
   "cell_type": "code",
   "execution_count": 239,
   "id": "c0ea93df-ff28-4ef4-b681-1ea87203857b",
   "metadata": {},
   "outputs": [
    {
     "name": "stdout",
     "output_type": "stream",
     "text": [
      "we are in second if\n"
     ]
    }
   ],
   "source": [
    "if x>50:\n",
    "    prnt(\"we are in first if\")\n",
    "if x==50:\n",
    "    print(\"we are in second if\")\n",
    "if x<50:\n",
    "    print(\"we are in third if\")"
   ]
  },
  {
   "cell_type": "code",
   "execution_count": 240,
   "id": "3af7a605-ba6a-4d04-8a3a-6961411111a6",
   "metadata": {},
   "outputs": [
    {
     "name": "stdout",
     "output_type": "stream",
     "text": [
      "we are out\n"
     ]
    }
   ],
   "source": [
    "if x>50:\n",
    "    print(\"we are in\")\n",
    "    \n",
    "if x<50:\n",
    "    print(\"we are in second if\")\n",
    "else:\n",
    "    print(\"we are out\")"
   ]
  },
  {
   "cell_type": "code",
   "execution_count": 241,
   "id": "f99bf4f4-8f71-444d-95ad-c6c2f6855993",
   "metadata": {},
   "outputs": [],
   "source": [
    "a=50"
   ]
  },
  {
   "cell_type": "code",
   "execution_count": 242,
   "id": "3775f159-554c-4f48-96f2-eac0af24dd5f",
   "metadata": {},
   "outputs": [
    {
     "name": "stdout",
     "output_type": "stream",
     "text": [
      "we are in first if\n"
     ]
    }
   ],
   "source": [
    "if a==50:\n",
    "    print(\"we are in first if\")\n",
    "elif a==50:\n",
    "    print(\"we are in second if\")\n",
    "elif a==50:\n",
    "    print(\"we are in third if\")\n",
    "else:\n",
    "    print(\"we are out\")"
   ]
  },
  {
   "cell_type": "code",
   "execution_count": 243,
   "id": "e5043bf6-753a-4db3-a5be-b264f852b87e",
   "metadata": {},
   "outputs": [
    {
     "name": "stdout",
     "output_type": "stream",
     "text": [
      "we are in first if\n",
      "we are in second if\n",
      "we are in third if\n"
     ]
    }
   ],
   "source": [
    "if x==50:\n",
    "    print(\"we are in first if\")\n",
    "if x==50:\n",
    "    print(\"we are in second if\")\n",
    "if x==50:\n",
    "    print(\"we are in third if\")"
   ]
  },
  {
   "cell_type": "markdown",
   "id": "dafc7854-6fe2-4e89-94ef-63e38c3c7711",
   "metadata": {},
   "source": [
    "# second one is complete block of execution\n"
   ]
  },
  {
   "cell_type": "markdown",
   "id": "59f09b9a-d02f-4a9d-b691-fb278fe6bf33",
   "metadata": {},
   "source": [
    "# Accept an integer from the user and check whether it is an even or odd "
   ]
  },
  {
   "cell_type": "code",
   "execution_count": 246,
   "id": "8de05960-9ad4-4833-8ce7-5e00133298b4",
   "metadata": {},
   "outputs": [
    {
     "name": "stdin",
     "output_type": "stream",
     "text": [
      "enter number 12\n"
     ]
    },
    {
     "name": "stdout",
     "output_type": "stream",
     "text": [
      "even\n"
     ]
    }
   ],
   "source": [
    "s= int(input('enter number'))\n",
    "if s%2 == 0:\n",
    "    print('even')\n",
    "         \n",
    "else:\n",
    "    print('odd')\n"
   ]
  },
  {
   "cell_type": "code",
   "execution_count": 247,
   "id": "7875b594-54bd-423c-9caf-b0ac64625edc",
   "metadata": {},
   "outputs": [
    {
     "name": "stdin",
     "output_type": "stream",
     "text": [
      "please enter any number 12\n"
     ]
    },
    {
     "name": "stdout",
     "output_type": "stream",
     "text": [
      "number is even\n"
     ]
    }
   ],
   "source": [
    "a= int(input(\"please enter any number\"))\n",
    "if a%2==0:\n",
    "    print(\"number is even\")\n",
    "else:\n",
    "    print(\"number is not even\")"
   ]
  },
  {
   "cell_type": "code",
   "execution_count": 248,
   "id": "1fc4b2a0-7a0c-4be5-b235-374651085efb",
   "metadata": {},
   "outputs": [
    {
     "name": "stdin",
     "output_type": "stream",
     "text": [
      "Enter a number:  2\n"
     ]
    },
    {
     "name": "stdout",
     "output_type": "stream",
     "text": [
      "2 is Even\n"
     ]
    }
   ],
   "source": [
    "num = int(input(\"Enter a number: \"))\n",
    "if (num % 2) == 0:\n",
    "   print(\"{0} is Even\".format(num))\n",
    "else:\n",
    "   print(\"{0} is Odd\".format(num))"
   ]
  },
  {
   "cell_type": "code",
   "execution_count": 249,
   "id": "c7cccc3f-c352-4ca3-b68c-5280f5997843",
   "metadata": {},
   "outputs": [
    {
     "name": "stdin",
     "output_type": "stream",
     "text": [
      "Enter the Number 2\n"
     ]
    },
    {
     "name": "stdout",
     "output_type": "stream",
     "text": [
      "Number is even\n"
     ]
    }
   ],
   "source": [
    "a=int(input(\"Enter the Number\"))\n",
    "b=a%2\n",
    "if(b==0):\n",
    "    print(\"Number is even\")\n",
    "else:\n",
    "    print(\"Number is odd\")"
   ]
  },
  {
   "cell_type": "markdown",
   "id": "eecc820b-ea62-494f-a1cd-a32cf35ce143",
   "metadata": {},
   "source": [
    "# WAP to accept a character from the user and check whether it is a capital letter or small letter. Assume user will input only alphabets\n"
   ]
  },
  {
   "cell_type": "code",
   "execution_count": 250,
   "id": "147c1ca8-483a-4f58-9bed-ad53f0faee93",
   "metadata": {},
   "outputs": [
    {
     "name": "stdin",
     "output_type": "stream",
     "text": [
      "please enter the character e\n"
     ]
    },
    {
     "name": "stdout",
     "output_type": "stream",
     "text": [
      "this character will be a small one\n"
     ]
    }
   ],
   "source": [
    "ch=input(\"please enter the character\")\n",
    "if \"A\"<=ch[0]<=\"Z\":\n",
    "    print(\"this character will be a capital one\")\n",
    "else:\n",
    "    print(\"this character will be a small one\")"
   ]
  },
  {
   "cell_type": "code",
   "execution_count": 251,
   "id": "8a4b3379-d033-48bd-a842-3b8b064b55a8",
   "metadata": {},
   "outputs": [
    {
     "name": "stdin",
     "output_type": "stream",
     "text": [
      "enter char : E\n"
     ]
    },
    {
     "name": "stdout",
     "output_type": "stream",
     "text": [
      "Capital Letter \n"
     ]
    }
   ],
   "source": [
    "char = input(\"enter char :\")\n",
    "\n",
    "ascivalue = ord(char)\n",
    "\n",
    "if (ascivalue >= 97 and ascivalue <= 122) :\n",
    "    print (\"small latter \")\n",
    "else:\n",
    "    print(\"Capital Letter \")"
   ]
  },
  {
   "cell_type": "code",
   "execution_count": 252,
   "id": "f85b3749-27ae-40b4-873d-68aa836d4b5f",
   "metadata": {},
   "outputs": [
    {
     "name": "stdin",
     "output_type": "stream",
     "text": [
      "Enter Character:  r\n"
     ]
    },
    {
     "name": "stdout",
     "output_type": "stream",
     "text": [
      "r is Small\n"
     ]
    }
   ],
   "source": [
    "charVal = input(\"Enter Character: \")\n",
    "if charVal == charVal.lower():\n",
    "    print(\"{} is Small\".format(charVal))\n",
    "else:\n",
    "     print(\"{} is Capital\".format(charVal))"
   ]
  },
  {
   "cell_type": "code",
   "execution_count": 253,
   "id": "d68fcb36-4b8c-4e25-807a-3f9d01aad6d5",
   "metadata": {},
   "outputs": [
    {
     "name": "stdin",
     "output_type": "stream",
     "text": [
      "Enter the character  T\n"
     ]
    },
    {
     "name": "stdout",
     "output_type": "stream",
     "text": [
      "T is a capital letter \n"
     ]
    }
   ],
   "source": [
    "a=input(\"Enter the character \")\n",
    "if a.isupper()==True :\n",
    "    print (\"{} is a capital letter \".format(a))\n",
    "else :\n",
    "    print (\"{} is a lower letter \".format(a))"
   ]
  },
  {
   "cell_type": "code",
   "execution_count": 254,
   "id": "48dbf52f-1298-433c-9584-d8e52558486a",
   "metadata": {},
   "outputs": [],
   "source": [
    "a=100\n",
    "b=200\n",
    "c=0"
   ]
  },
  {
   "cell_type": "code",
   "execution_count": 255,
   "id": "fcbdc24f-9129-4a96-89e7-55b74e5660f1",
   "metadata": {},
   "outputs": [
    {
     "name": "stdout",
     "output_type": "stream",
     "text": [
      "we are in first if statement\n",
      "we are out from second if\n",
      "we are in elif of third if\n"
     ]
    }
   ],
   "source": [
    "if a<110:\n",
    "    print(\"we are in first if statement\")\n",
    "    if b<199:\n",
    "        print(\"we are in second if statement\")\n",
    "    else:\n",
    "        print(\"we are out from second if\")\n",
    "        if c>0:\n",
    "            print(\"we are in third if\")\n",
    "        elif c==0:\n",
    "            print(\"we are in elif of third if\")\n",
    "        else:\n",
    "            print(\"we are out from third if\")"
   ]
  },
  {
   "cell_type": "markdown",
   "id": "92b8e256-d3e6-4d42-9123-b81866c332d3",
   "metadata": {},
   "source": [
    "# WAP to accept 3 integers from the user and without using any logical operator and cascading of relational operators , find out the greatest number amongst them\n"
   ]
  },
  {
   "cell_type": "code",
   "execution_count": 257,
   "id": "d92ca51d-733b-410e-a192-6b797e8b755b",
   "metadata": {},
   "outputs": [],
   "source": [
    "X=100\n",
    "y=500\n",
    "z=200"
   ]
  },
  {
   "cell_type": "code",
   "execution_count": 258,
   "id": "fdf03166-fdfb-4bad-b8fe-dc687362c222",
   "metadata": {},
   "outputs": [
    {
     "name": "stdin",
     "output_type": "stream",
     "text": [
      "enter first no 2\n",
      "enter second no 3\n",
      "enter third no 4\n"
     ]
    }
   ],
   "source": [
    "X=int(input(\"enter first no\"))\n",
    "y=int(input(\"enter second no\"))\n",
    "z=int(input(\"enter third no\"))\n",
    "if X>y:\n",
    "    if X>z:\n",
    "        print(\"first will be greatest\")\n",
    "elif y>X:\n",
    "    if y>z:\n",
    "        print(\"second is a greatest\")\n",
    "else:\n",
    "    print(\"third is a greaest\")"
   ]
  },
  {
   "cell_type": "code",
   "execution_count": 259,
   "id": "e281c30c-a3d3-4ba7-b1e8-1adf96fc6ae3",
   "metadata": {},
   "outputs": [],
   "source": [
    "def maximum(a, b, c):\n",
    "  \n",
    "    if (a >= b) and (a >= c):\n",
    "        largest = a\n",
    "  \n",
    "    elif (b >= a) and (b >= c):\n",
    "        largest = b\n",
    "    else:\n",
    "        largest = c\n",
    "          \n",
    "    return largest\n"
   ]
  },
  {
   "cell_type": "code",
   "execution_count": 260,
   "id": "9c8190ea-4fc1-455f-96fc-1d60b1948e87",
   "metadata": {},
   "outputs": [
    {
     "data": {
      "text/plain": [
       "2002657439"
      ]
     },
     "execution_count": 260,
     "metadata": {},
     "output_type": "execute_result"
    }
   ],
   "source": [
    "maximum(1042534638,2002657439,523954743)"
   ]
  },
  {
   "cell_type": "code",
   "execution_count": 261,
   "id": "7df01db5-01e6-4947-b79c-92e12f6c93ba",
   "metadata": {},
   "outputs": [
    {
     "name": "stdin",
     "output_type": "stream",
     "text": [
      "please enter three number 3 4 5\n"
     ]
    },
    {
     "ename": "ValueError",
     "evalue": "invalid literal for int() with base 10: '3 4 5'",
     "output_type": "error",
     "traceback": [
      "\u001b[1;31m---------------------------------------------------------------------------\u001b[0m",
      "\u001b[1;31mValueError\u001b[0m                                Traceback (most recent call last)",
      "Cell \u001b[1;32mIn[261], line 1\u001b[0m\n\u001b[1;32m----> 1\u001b[0m n\u001b[38;5;241m=\u001b[39m\u001b[38;5;28;43mint\u001b[39;49m\u001b[43m(\u001b[49m\u001b[38;5;28;43minput\u001b[39;49m\u001b[43m(\u001b[49m\u001b[38;5;124;43m\"\u001b[39;49m\u001b[38;5;124;43mplease enter three number\u001b[39;49m\u001b[38;5;124;43m\"\u001b[39;49m\u001b[43m)\u001b[49m\u001b[43m)\u001b[49m\n\u001b[0;32m      2\u001b[0m x\u001b[38;5;241m=\u001b[39m\u001b[38;5;28mlist\u001b[39m(\u001b[38;5;28mmap\u001b[39m(\u001b[38;5;28mint\u001b[39m,\u001b[38;5;28minput\u001b[39m()\u001b[38;5;241m.\u001b[39msplit()))\n\u001b[0;32m      3\u001b[0m \u001b[38;5;28mprint\u001b[39m(\u001b[38;5;28mmax\u001b[39m(x))\n",
      "\u001b[1;31mValueError\u001b[0m: invalid literal for int() with base 10: '3 4 5'"
     ]
    }
   ],
   "source": [
    "n=int(input(\"please enter three number\"))\n",
    "x=list(map(int,input().split()))\n",
    "print(max(x))"
   ]
  },
  {
   "cell_type": "code",
   "execution_count": 262,
   "id": "ea22a7ed-a95e-4dc7-81ef-586125207132",
   "metadata": {},
   "outputs": [
    {
     "name": "stdin",
     "output_type": "stream",
     "text": [
      "enter 1st number 2\n",
      "enter 2nd number 3\n"
     ]
    },
    {
     "name": "stdout",
     "output_type": "stream",
     "text": [
      "5\n"
     ]
    }
   ],
   "source": [
    "a=int(input(\"enter 1st number\"))\n",
    "b=int(input(\"enter 2nd number\"))\n",
    "c=a+b\n",
    "print(c)"
   ]
  },
  {
   "cell_type": "code",
   "execution_count": 263,
   "id": "81bf84e3-cf41-4ecb-bd3d-6db3ed2d2b24",
   "metadata": {},
   "outputs": [
    {
     "name": "stdin",
     "output_type": "stream",
     "text": [
      "enter your name  himanshu\n",
      "enter your age 21\n"
     ]
    }
   ],
   "source": [
    "a=str(input(\"enter your name \"))\n",
    "b=int(input(\"enter your age\"))"
   ]
  },
  {
   "cell_type": "code",
   "execution_count": 264,
   "id": "b1e9c401-fb8c-46d4-8d27-03bb0306a6a4",
   "metadata": {},
   "outputs": [
    {
     "name": "stdin",
     "output_type": "stream",
     "text": [
      "enter 1st number 3\n"
     ]
    }
   ],
   "source": [
    "a=input(\"enter 1st number\")"
   ]
  },
  {
   "cell_type": "code",
   "execution_count": 265,
   "id": "70e239e0-9a09-4fb9-9e6b-51b6dcededb0",
   "metadata": {},
   "outputs": [
    {
     "data": {
      "text/plain": [
       "'3'"
      ]
     },
     "execution_count": 265,
     "metadata": {},
     "output_type": "execute_result"
    }
   ],
   "source": [
    "a"
   ]
  },
  {
   "cell_type": "code",
   "execution_count": 266,
   "id": "ee7ec191-4b25-471a-9e5e-b7a9c54af5fd",
   "metadata": {},
   "outputs": [
    {
     "ename": "TypeError",
     "evalue": "can only concatenate str (not \"int\") to str",
     "output_type": "error",
     "traceback": [
      "\u001b[1;31m---------------------------------------------------------------------------\u001b[0m",
      "\u001b[1;31mTypeError\u001b[0m                                 Traceback (most recent call last)",
      "Cell \u001b[1;32mIn[266], line 1\u001b[0m\n\u001b[1;32m----> 1\u001b[0m \u001b[43ma\u001b[49m\u001b[38;5;241;43m+\u001b[39;49m\u001b[38;5;241;43m6\u001b[39;49m\n",
      "\u001b[1;31mTypeError\u001b[0m: can only concatenate str (not \"int\") to str"
     ]
    }
   ],
   "source": [
    "a+6"
   ]
  },
  {
   "cell_type": "code",
   "execution_count": 268,
   "id": "5402a4d1-1f1b-4eb7-9028-2de9e77d4983",
   "metadata": {},
   "outputs": [
    {
     "name": "stdin",
     "output_type": "stream",
     "text": [
      "enter 1st number 3\n"
     ]
    }
   ],
   "source": [
    "a=input(\"enter 1st number\")"
   ]
  },
  {
   "cell_type": "code",
   "execution_count": 269,
   "id": "c586aa42-92fa-41b2-abc0-2d081ed7cc2a",
   "metadata": {},
   "outputs": [
    {
     "data": {
      "text/plain": [
       "'3'"
      ]
     },
     "execution_count": 269,
     "metadata": {},
     "output_type": "execute_result"
    }
   ],
   "source": [
    "a"
   ]
  },
  {
   "cell_type": "code",
   "execution_count": 270,
   "id": "a4444caa-8baa-4e43-8cf1-9e8cb4d5e6ed",
   "metadata": {},
   "outputs": [
    {
     "data": {
      "text/plain": [
       "'3kdovdko'"
      ]
     },
     "execution_count": 270,
     "metadata": {},
     "output_type": "execute_result"
    }
   ],
   "source": [
    "a+\"kdovdko\""
   ]
  },
  {
   "cell_type": "code",
   "execution_count": 271,
   "id": "75d948b8-3fa9-42af-a831-ed3d39c242c9",
   "metadata": {},
   "outputs": [
    {
     "name": "stdin",
     "output_type": "stream",
     "text": [
      "enter your first name himanshu\n",
      "enter your last name mishra\n"
     ]
    },
    {
     "name": "stdout",
     "output_type": "stream",
     "text": [
      "arhsim uhsnamih\n"
     ]
    }
   ],
   "source": [
    "a=str(input(\"enter your first name\"))\n",
    "b=str(input(\"enter your last name\"))\n",
    "c=a+\" \"+b\n",
    "print(c[::-1])\n"
   ]
  },
  {
   "cell_type": "code",
   "execution_count": 272,
   "id": "f5ccef6a-1260-41a7-bfc3-85e619f5a3bd",
   "metadata": {},
   "outputs": [],
   "source": [
    "a=100"
   ]
  },
  {
   "cell_type": "code",
   "execution_count": 273,
   "id": "e50d1fa1-5dac-4a4e-beb9-39338418ad5c",
   "metadata": {},
   "outputs": [
    {
     "data": {
      "text/plain": [
       "100"
      ]
     },
     "execution_count": 273,
     "metadata": {},
     "output_type": "execute_result"
    }
   ],
   "source": [
    "a"
   ]
  },
  {
   "cell_type": "code",
   "execution_count": 274,
   "id": "502ec863-928c-45d9-89fb-88bdf2de8ea7",
   "metadata": {},
   "outputs": [
    {
     "name": "stdout",
     "output_type": "stream",
     "text": [
      "100\n"
     ]
    }
   ],
   "source": [
    "print(a)"
   ]
  },
  {
   "cell_type": "code",
   "execution_count": 275,
   "id": "38e99d80-05a5-4d4c-9aa5-dbdb13f4c056",
   "metadata": {},
   "outputs": [
    {
     "name": "stdout",
     "output_type": "stream",
     "text": [
      "value of a is 100\n"
     ]
    }
   ],
   "source": [
    "print(\"value of a is\",a)"
   ]
  },
  {
   "cell_type": "code",
   "execution_count": 276,
   "id": "983bedf7-1480-4d1c-9e3a-a53d9b4e821e",
   "metadata": {},
   "outputs": [
    {
     "name": "stdout",
     "output_type": "stream",
     "text": [
      "value of a is 100\n"
     ]
    }
   ],
   "source": [
    "print(\"value of a is %d\"%a)"
   ]
  },
  {
   "cell_type": "code",
   "execution_count": 277,
   "id": "b5d288d7-3d4a-4e87-b9f9-7c408d39f723",
   "metadata": {},
   "outputs": [
    {
     "name": "stdout",
     "output_type": "stream",
     "text": [
      "value of a is 100\n"
     ]
    }
   ],
   "source": [
    "print(\"value of a is {}\".format(a))"
   ]
  },
  {
   "cell_type": "code",
   "execution_count": 278,
   "id": "b52cb9da-e690-474c-8984-f7a1235a4115",
   "metadata": {},
   "outputs": [],
   "source": [
    "b=300"
   ]
  },
  {
   "cell_type": "code",
   "execution_count": 279,
   "id": "908c4ede-acf6-42dc-ac3e-e2163835dc61",
   "metadata": {},
   "outputs": [
    {
     "name": "stdout",
     "output_type": "stream",
     "text": [
      "value of a is 100 and value of b is 300\n"
     ]
    }
   ],
   "source": [
    "print(\"value of a is {a} and value of b is {b}\".format(a=a,b=b))"
   ]
  },
  {
   "cell_type": "code",
   "execution_count": 280,
   "id": "209d65f9-7ed7-478f-896a-6f4b672a8381",
   "metadata": {},
   "outputs": [],
   "source": [
    "a=10.8"
   ]
  },
  {
   "cell_type": "code",
   "execution_count": 281,
   "id": "dee67dba-32f4-4881-bad3-492def0c027e",
   "metadata": {},
   "outputs": [
    {
     "name": "stdout",
     "output_type": "stream",
     "text": [
      "10f\n"
     ]
    }
   ],
   "source": [
    "print(\"%df\"%a)"
   ]
  },
  {
   "cell_type": "code",
   "execution_count": 282,
   "id": "5388c414-2f30-4035-a1d5-a9e8ca206af9",
   "metadata": {},
   "outputs": [
    {
     "data": {
      "text/plain": [
       "float"
      ]
     },
     "execution_count": 282,
     "metadata": {},
     "output_type": "execute_result"
    }
   ],
   "source": [
    "type(a)"
   ]
  },
  {
   "cell_type": "code",
   "execution_count": 283,
   "id": "7f57cf02-5592-4e53-8c32-f670f2e0f4e9",
   "metadata": {},
   "outputs": [],
   "source": [
    "a=100"
   ]
  },
  {
   "cell_type": "code",
   "execution_count": 284,
   "id": "cfbe3fa4-e097-42e8-8d73-0f5047bba841",
   "metadata": {},
   "outputs": [
    {
     "name": "stdout",
     "output_type": "stream",
     "text": [
      "hjfhej\n"
     ]
    }
   ],
   "source": [
    "if (a==100):\n",
    "   print(\"hjfhej\")"
   ]
  },
  {
   "cell_type": "code",
   "execution_count": 285,
   "id": "dc3b01ad-0b42-4d30-8e85-406f490e5a06",
   "metadata": {},
   "outputs": [
    {
     "name": "stdout",
     "output_type": "stream",
     "text": [
      "mishra\n"
     ]
    }
   ],
   "source": [
    "if a>100:\n",
    "    print(\"himanshu\")\n",
    "else:\n",
    "    print(\"mishra\")"
   ]
  },
  {
   "cell_type": "code",
   "execution_count": 286,
   "id": "798ad082-4757-4097-9c7d-64e05313a99b",
   "metadata": {},
   "outputs": [
    {
     "name": "stdin",
     "output_type": "stream",
     "text": [
      "enter any number 4\n"
     ]
    },
    {
     "name": "stdout",
     "output_type": "stream",
     "text": [
      "your number is even\n"
     ]
    }
   ],
   "source": [
    "a=int(input(\"enter any number\"))\n",
    "if a%2==0:\n",
    "    print(\"your number is even\")\n",
    "else:\n",
    "    print(\"your number is odd\")"
   ]
  },
  {
   "cell_type": "code",
   "execution_count": 287,
   "id": "d1bc536d-bbd0-4106-9cab-d3b70ee33459",
   "metadata": {},
   "outputs": [
    {
     "name": "stdin",
     "output_type": "stream",
     "text": [
      "enter any alphabet charecter f\n"
     ]
    },
    {
     "name": "stdout",
     "output_type": "stream",
     "text": [
      "small\n"
     ]
    }
   ],
   "source": [
    "a=input(\"enter any alphabet charecter\")\n",
    "if \"A\"<a<\"Z\":\n",
    "    print(\"capital\")\n",
    "else:\n",
    "    print(\"small\")"
   ]
  },
  {
   "cell_type": "code",
   "execution_count": 288,
   "id": "49a5d28c-d74a-4b3a-a7b2-4ade484d7a78",
   "metadata": {},
   "outputs": [],
   "source": [
    "b=\"Z\""
   ]
  },
  {
   "cell_type": "code",
   "execution_count": 289,
   "id": "c15466fc-f654-4c96-bebd-a643f602cd5d",
   "metadata": {},
   "outputs": [
    {
     "data": {
      "text/plain": [
       "90"
      ]
     },
     "execution_count": 289,
     "metadata": {},
     "output_type": "execute_result"
    }
   ],
   "source": [
    "ord(b)"
   ]
  },
  {
   "cell_type": "code",
   "execution_count": 290,
   "id": "0c2624d9-de8f-462f-9248-a1b875c66191",
   "metadata": {},
   "outputs": [
    {
     "name": "stdin",
     "output_type": "stream",
     "text": [
      "enter any number 5\n",
      "enter any number 6\n",
      "enter any number 7\n"
     ]
    },
    {
     "name": "stdout",
     "output_type": "stream",
     "text": [
      "7 is greater\n"
     ]
    }
   ],
   "source": [
    "a=int(input(\"enter any number\"))\n",
    "b=int(input(\"enter any number\"))\n",
    "c=int(input(\"enter any number\"))\n",
    "if a>b:\n",
    "    if a>c:\n",
    "        print(\"{} is greater\".format(a))\n",
    "    else:\n",
    "        print(\"{} is greater\".format(c))\n",
    "elif b>c:\n",
    "    print(\"{} is greater\".format(b))\n",
    "else:\n",
    "    print(\"{} is greater\".format(c))"
   ]
  },
  {
   "cell_type": "code",
   "execution_count": 291,
   "id": "78510a24-8973-4e1a-88ed-2641f95aaa7d",
   "metadata": {},
   "outputs": [],
   "source": [
    "a=20"
   ]
  },
  {
   "cell_type": "code",
   "execution_count": 292,
   "id": "7e1e1b74-630d-4d73-8a41-b1e0101602cc",
   "metadata": {},
   "outputs": [],
   "source": [
    "b=6"
   ]
  },
  {
   "cell_type": "code",
   "execution_count": 293,
   "id": "832ff110-1996-4eaa-a807-4f6c80713ed8",
   "metadata": {},
   "outputs": [
    {
     "name": "stdout",
     "output_type": "stream",
     "text": [
      "himanshu\n",
      "himanshu\n",
      "himanshu\n",
      "himanshu\n",
      "himanshu\n",
      "himanshu\n",
      "himanshu\n",
      "himanshu\n",
      "himanshu\n",
      "himanshu\n",
      "himanshu\n",
      "himanshu\n",
      "himanshu\n",
      "himanshu\n"
     ]
    }
   ],
   "source": [
    "while b<a:\n",
    "    print(\"himanshu\")\n",
    "    b=b+1"
   ]
  },
  {
   "cell_type": "code",
   "execution_count": 294,
   "id": "a47924a6-1042-4800-b1b9-b0c9dcc27d1a",
   "metadata": {},
   "outputs": [
    {
     "data": {
      "text/plain": [
       "20"
      ]
     },
     "execution_count": 294,
     "metadata": {},
     "output_type": "execute_result"
    }
   ],
   "source": [
    "b"
   ]
  },
  {
   "cell_type": "code",
   "execution_count": 295,
   "id": "4fed2bdf-59bc-4122-b0cd-0138accc5d94",
   "metadata": {},
   "outputs": [],
   "source": [
    "a=1"
   ]
  },
  {
   "cell_type": "code",
   "execution_count": 296,
   "id": "d3e76db4-7104-47b0-a86b-bffbfde34778",
   "metadata": {},
   "outputs": [
    {
     "name": "stdout",
     "output_type": "stream",
     "text": [
      "1\n",
      "2\n",
      "3\n",
      "4\n",
      "5\n",
      "6\n",
      "7\n",
      "8\n",
      "9\n",
      "10\n",
      "11\n",
      "12\n",
      "13\n",
      "14\n",
      "15\n",
      "16\n",
      "17\n",
      "18\n",
      "19\n",
      "20\n",
      "21\n",
      "22\n",
      "23\n",
      "24\n",
      "25\n",
      "26\n",
      "27\n",
      "28\n",
      "29\n",
      "30\n",
      "31\n",
      "32\n",
      "33\n",
      "34\n",
      "35\n",
      "36\n",
      "37\n",
      "38\n",
      "39\n",
      "40\n",
      "41\n",
      "42\n",
      "43\n",
      "44\n",
      "45\n",
      "46\n",
      "47\n",
      "48\n",
      "49\n",
      "50\n"
     ]
    }
   ],
   "source": [
    "while a<=50:\n",
    "    print(a)\n",
    "    a=a+1"
   ]
  },
  {
   "cell_type": "code",
   "execution_count": 298,
   "id": "10656d7e-deac-448e-acdb-4bfd656d1b47",
   "metadata": {},
   "outputs": [
    {
     "name": "stdin",
     "output_type": "stream",
     "text": [
      "enter your name himanshu\n"
     ]
    },
    {
     "name": "stdout",
     "output_type": "stream",
     "text": [
      "h\n"
     ]
    },
    {
     "ename": "KeyboardInterrupt",
     "evalue": "",
     "output_type": "error",
     "traceback": [
      "\u001b[1;31m---------------------------------------------------------------------------\u001b[0m",
      "\u001b[1;31mKeyboardInterrupt\u001b[0m                         Traceback (most recent call last)",
      "Cell \u001b[1;32mIn[298], line 3\u001b[0m\n\u001b[0;32m      1\u001b[0m a\u001b[38;5;241m=\u001b[39m\u001b[38;5;28minput\u001b[39m(\u001b[38;5;124m\"\u001b[39m\u001b[38;5;124menter your name\u001b[39m\u001b[38;5;124m\"\u001b[39m)\n\u001b[0;32m      2\u001b[0m i\u001b[38;5;241m=\u001b[39m\u001b[38;5;241m0\u001b[39m\n\u001b[1;32m----> 3\u001b[0m \u001b[38;5;28;01mwhile\u001b[39;00m i\u001b[38;5;241m<\u001b[39m\u001b[38;5;28mlen\u001b[39m(a):\n\u001b[0;32m      4\u001b[0m     \u001b[38;5;28;01mif\u001b[39;00m a[i] \u001b[38;5;129;01mnot\u001b[39;00m \u001b[38;5;129;01min\u001b[39;00m \u001b[38;5;124m\"\u001b[39m\u001b[38;5;124maeiou\u001b[39m\u001b[38;5;124m\"\u001b[39m:\n\u001b[0;32m      5\u001b[0m         \u001b[38;5;28mprint\u001b[39m(a[i])\n",
      "\u001b[1;31mKeyboardInterrupt\u001b[0m: "
     ]
    }
   ],
   "source": [
    "a=input(\"enter your name\")\n",
    "i=0\n",
    "while i<len(a):\n",
    "    if a[i] not in \"aeiou\":\n",
    "        print(a[i])\n",
    "        i=i+1"
   ]
  },
  {
   "cell_type": "code",
   "execution_count": null,
   "id": "5fc2a515-f5e4-4fe4-b04c-42a4eb6526fe",
   "metadata": {},
   "outputs": [],
   "source": [
    "a=input(\"enter your name\")\n",
    "i=0\n",
    "while i<len(a):\n",
    "    if a[i] not in \"aeiou\":\n",
    "        print(a[i])\n",
    "        i=i+1"
   ]
  },
  {
   "cell_type": "code",
   "execution_count": null,
   "id": "8c2f7ea7-5d0c-4007-8b50-b951408fc7fc",
   "metadata": {},
   "outputs": [],
   "source": [
    "a=input(\"enter your name\")\n",
    "i=0\n",
    "while i<len(a):\n",
    "    if a[i] not in \"aeiou\":\n",
    "        print(a[i])\n",
    "    i=i+1"
   ]
  },
  {
   "cell_type": "code",
   "execution_count": null,
   "id": "0f9627be-4a30-44ff-8e13-3cf5413f822b",
   "metadata": {},
   "outputs": [],
   "source": [
    "a=input(\"enter your name\")\n",
    "i=0\n",
    "while i<len(a):\n",
    "    if a[i] not in \"aeiou\":\n",
    "        print(a[i])\n",
    "    i=i+1"
   ]
  },
  {
   "cell_type": "code",
   "execution_count": 299,
   "id": "17e9ec85-3fe9-47f0-b02b-fa58bb935e6a",
   "metadata": {},
   "outputs": [],
   "source": [
    "x=1"
   ]
  },
  {
   "cell_type": "code",
   "execution_count": 300,
   "id": "76585ef0-3a3b-48ec-a0ff-9b6de40a60b7",
   "metadata": {},
   "outputs": [
    {
     "name": "stdout",
     "output_type": "stream",
     "text": [
      "1\n"
     ]
    }
   ],
   "source": [
    "if x<2:\n",
    "    print(x)"
   ]
  },
  {
   "cell_type": "code",
   "execution_count": 301,
   "id": "a1b01b95-b781-42e4-8229-773cb7931520",
   "metadata": {},
   "outputs": [],
   "source": [
    "a=1"
   ]
  },
  {
   "cell_type": "code",
   "execution_count": 302,
   "id": "f943ea9f-298d-484b-858a-67d54de2d617",
   "metadata": {},
   "outputs": [
    {
     "name": "stdout",
     "output_type": "stream",
     "text": [
      "1\n",
      "2\n",
      "3\n",
      "4\n",
      "5\n",
      "6\n",
      "7\n",
      "8\n",
      "9\n",
      "10\n",
      "11\n",
      "12\n",
      "13\n",
      "14\n",
      "15\n",
      "16\n",
      "17\n",
      "18\n",
      "19\n",
      "20\n",
      "21\n",
      "22\n",
      "23\n",
      "24\n",
      "25\n",
      "26\n",
      "27\n",
      "28\n",
      "29\n",
      "30\n",
      "31\n",
      "32\n",
      "33\n",
      "34\n",
      "35\n",
      "36\n",
      "37\n",
      "38\n",
      "39\n",
      "40\n",
      "41\n",
      "42\n",
      "43\n"
     ]
    }
   ],
   "source": [
    "while a<50:\n",
    "    print(a)\n",
    "    if a==43:\n",
    "        break\n",
    "    a=a+1\n",
    "else:\n",
    "    print(\"loop ends\")"
   ]
  },
  {
   "cell_type": "code",
   "execution_count": 303,
   "id": "5e742091-61f8-4d95-bb33-a4c2a7431eca",
   "metadata": {},
   "outputs": [
    {
     "name": "stdin",
     "output_type": "stream",
     "text": [
      "enter 3 word message i love python\n"
     ]
    }
   ],
   "source": [
    "x=input(\"enter 3 word message\")"
   ]
  },
  {
   "cell_type": "code",
   "execution_count": 304,
   "id": "b13e81af-4d30-4581-b961-11c5efe1b2a3",
   "metadata": {},
   "outputs": [
    {
     "data": {
      "text/plain": [
       "'i love python'"
      ]
     },
     "execution_count": 304,
     "metadata": {},
     "output_type": "execute_result"
    }
   ],
   "source": [
    "x"
   ]
  },
  {
   "cell_type": "code",
   "execution_count": 305,
   "id": "d513974e-5a05-4390-a6e9-3b010ae4a029",
   "metadata": {},
   "outputs": [],
   "source": [
    "word1,word2,word3=x.split()\n"
   ]
  },
  {
   "cell_type": "code",
   "execution_count": 306,
   "id": "b8f693eb-b03a-407c-a4a8-3154f63b0823",
   "metadata": {},
   "outputs": [
    {
     "name": "stdout",
     "output_type": "stream",
     "text": [
      "i\n"
     ]
    }
   ],
   "source": [
    "print(word1)"
   ]
  },
  {
   "cell_type": "code",
   "execution_count": 307,
   "id": "d8c58a70-54bc-4a38-937c-28252edf9285",
   "metadata": {},
   "outputs": [
    {
     "name": "stdout",
     "output_type": "stream",
     "text": [
      "love\n"
     ]
    }
   ],
   "source": [
    "print(word2)"
   ]
  },
  {
   "cell_type": "code",
   "execution_count": 308,
   "id": "2875dab9-31a1-4838-b832-5b13bb0c7a47",
   "metadata": {},
   "outputs": [
    {
     "name": "stdout",
     "output_type": "stream",
     "text": [
      "python\n"
     ]
    }
   ],
   "source": [
    "print(word3)"
   ]
  },
  {
   "cell_type": "markdown",
   "id": "70d12683-11f3-4f1c-8273-b77bb9c74f0b",
   "metadata": {},
   "source": [
    "# write a program that ask the user input 2 integers and adds them\n",
    "# accept both number in single"
   ]
  },
  {
   "cell_type": "code",
   "execution_count": 310,
   "id": "e65efa57-007b-46a0-9c19-80d5e1247a94",
   "metadata": {},
   "outputs": [
    {
     "name": "stdin",
     "output_type": "stream",
     "text": [
      "Enter two values:  3 4\n"
     ]
    },
    {
     "name": "stdout",
     "output_type": "stream",
     "text": [
      "The sum is 7\n"
     ]
    }
   ],
   "source": [
    "a, b = input(\"Enter two values: \").split()\n",
    "c = int(a) + int(b)\n",
    "print(\"The sum is\", c)"
   ]
  },
  {
   "cell_type": "code",
   "execution_count": 311,
   "id": "8abeb2e5-3ad4-4827-9462-200c2e6fb6b9",
   "metadata": {},
   "outputs": [
    {
     "name": "stdin",
     "output_type": "stream",
     "text": [
      "enter two numbers: 3 4\n"
     ]
    },
    {
     "name": "stdout",
     "output_type": "stream",
     "text": [
      "first number is 3\n",
      "second number is 4\n",
      "the sum is 7\n"
     ]
    }
   ],
   "source": [
    "x=input(\"enter two numbers:\")\n",
    "a,b=x.split()\n",
    "print(\"first number is\",a)\n",
    "print('second number is',b)\n",
    "print('the sum is',str(int(a)+int(b)))"
   ]
  },
  {
   "cell_type": "code",
   "execution_count": 312,
   "id": "84649643-86e0-43ca-a0ea-60555fae15c3",
   "metadata": {},
   "outputs": [
    {
     "name": "stdout",
     "output_type": "stream",
     "text": [
      "['A', 'B', 'C', 'D', 'E F']\n"
     ]
    }
   ],
   "source": [
    "s1=\"A B C D E F\"\n",
    "print(s1.split(' ',4))"
   ]
  },
  {
   "cell_type": "markdown",
   "id": "04cc4ef0-1208-4e52-9702-f67a66d39859",
   "metadata": {},
   "source": [
    "# split(separator,maxsplit)"
   ]
  },
  {
   "cell_type": "code",
   "execution_count": 313,
   "id": "87fd5a82-2d13-4a8d-9368-8e7ada088b19",
   "metadata": {},
   "outputs": [],
   "source": [
    "s1=\"HI@HI@HI@HI\""
   ]
  },
  {
   "cell_type": "code",
   "execution_count": 314,
   "id": "9df770eb-ad08-47b8-8dec-1b2f26264d1b",
   "metadata": {},
   "outputs": [
    {
     "data": {
      "text/plain": [
       "['HI', 'HI', 'HI@HI']"
      ]
     },
     "execution_count": 314,
     "metadata": {},
     "output_type": "execute_result"
    }
   ],
   "source": [
    "s1.split('@',2)"
   ]
  },
  {
   "cell_type": "code",
   "execution_count": 315,
   "id": "24ac74cb-539c-4772-a97e-de14eb2094be",
   "metadata": {},
   "outputs": [],
   "source": [
    "s2='one#Two#three#four#Five'"
   ]
  },
  {
   "cell_type": "code",
   "execution_count": 316,
   "id": "87720eb2-be44-470f-b108-a93e7083b84a",
   "metadata": {},
   "outputs": [
    {
     "data": {
      "text/plain": [
       "['one', 'Two', 'three', 'four', 'Five']"
      ]
     },
     "execution_count": 316,
     "metadata": {},
     "output_type": "execute_result"
    }
   ],
   "source": [
    "s2.split('#')"
   ]
  },
  {
   "cell_type": "code",
   "execution_count": 317,
   "id": "1638d434-5e3c-47ce-b7f9-f1fd9faca884",
   "metadata": {},
   "outputs": [
    {
     "name": "stdout",
     "output_type": "stream",
     "text": [
      "1\n",
      "2\n",
      "3\n",
      "4\n",
      "5\n",
      "6\n",
      "7\n",
      "8\n",
      "9\n",
      "10\n",
      "done\n"
     ]
    }
   ],
   "source": [
    "i=1\n",
    "while i<=10:\n",
    "    print(i)\n",
    "    i=i+1\n",
    "print(\"done\")"
   ]
  },
  {
   "cell_type": "code",
   "execution_count": 318,
   "id": "55a2369d-6ae3-4c80-b13e-9f03741551eb",
   "metadata": {},
   "outputs": [
    {
     "name": "stdout",
     "output_type": "stream",
     "text": [
      "1\n",
      "2\n",
      "3\n",
      "4\n"
     ]
    }
   ],
   "source": [
    "i=1\n",
    "while i<=10:\n",
    "    if(i==5):\n",
    "        break\n",
    "    print(i)\n",
    "    i=i+1"
   ]
  },
  {
   "cell_type": "code",
   "execution_count": 319,
   "id": "cf86b142-f38b-4d19-9a52-fecce3a5940d",
   "metadata": {},
   "outputs": [
    {
     "name": "stdout",
     "output_type": "stream",
     "text": [
      "1\n",
      "2\n",
      "3\n",
      "4\n"
     ]
    }
   ],
   "source": [
    "i=1\n",
    "while i<=10:\n",
    "    if(i==5):\n",
    "        break\n",
    "    print(i)\n",
    "    i=i+1\n",
    "else:\n",
    "    print(\"bye\")"
   ]
  },
  {
   "cell_type": "code",
   "execution_count": 320,
   "id": "ea2b593e-c36d-4407-8102-40b1850c5a55",
   "metadata": {},
   "outputs": [
    {
     "name": "stdout",
     "output_type": "stream",
     "text": [
      "1\n",
      "2\n",
      "3\n",
      "4\n",
      "5\n",
      "6\n",
      "7\n",
      "8\n",
      "9\n",
      "10\n",
      "bye\n"
     ]
    }
   ],
   "source": [
    "i=1\n",
    "while i<=10:\n",
    "    \n",
    "    print(i)\n",
    "    i=i+1\n",
    "else:\n",
    "    print(\"bye\")"
   ]
  },
  {
   "cell_type": "code",
   "execution_count": 321,
   "id": "29f3a3ef-561c-4961-80e8-5a6ae2db1c8c",
   "metadata": {},
   "outputs": [
    {
     "name": "stdout",
     "output_type": "stream",
     "text": [
      "1\n",
      "3\n",
      "5\n",
      "7\n",
      "9\n"
     ]
    }
   ],
   "source": [
    "num=0\n",
    "\n",
    "while num < 10:\n",
    "    num=num+1\n",
    "    \n",
    "    if (num % 2) == 0:\n",
    "        continue\n",
    "    print(num)"
   ]
  },
  {
   "cell_type": "code",
   "execution_count": 322,
   "id": "21a275fd-5eff-41c2-946e-98e85df03ace",
   "metadata": {},
   "outputs": [
    {
     "name": "stdout",
     "output_type": "stream",
     "text": [
      "1\n",
      "2\n",
      "4\n",
      "5\n",
      "6\n",
      "7\n",
      "8\n",
      "9\n"
     ]
    }
   ],
   "source": [
    "i=0\n",
    "while i < 9:\n",
    "    i=i+1\n",
    "    if i==3:\n",
    "        continue\n",
    "    print(i)\n",
    "        "
   ]
  },
  {
   "cell_type": "code",
   "execution_count": 323,
   "id": "647302e3-ba98-4070-946e-2ef47ffd27cd",
   "metadata": {},
   "outputs": [],
   "source": [
    "if i<10:\n",
    "    pass"
   ]
  },
  {
   "cell_type": "code",
   "execution_count": 324,
   "id": "6174c3f8-5722-427f-b8e5-c1ff054620b1",
   "metadata": {},
   "outputs": [
    {
     "name": "stdout",
     "output_type": "stream",
     "text": [
      "hello\n"
     ]
    }
   ],
   "source": [
    "n=10\n",
    "if n>10:\n",
    "    pass\n",
    "\n",
    "print('hello')"
   ]
  },
  {
   "cell_type": "code",
   "execution_count": 325,
   "id": "36d52696-9b10-445c-8b17-b4c6cdf2fb71",
   "metadata": {},
   "outputs": [
    {
     "name": "stdout",
     "output_type": "stream",
     "text": [
      "2\n",
      "4\n",
      "6\n",
      "8\n",
      "10\n"
     ]
    }
   ],
   "source": [
    "i=0\n",
    "while i<10:\n",
    "    i=i+1\n",
    "    if (i%2!=0):\n",
    "        pass\n",
    "    else:\n",
    "        print(i)\n",
    "    "
   ]
  },
  {
   "cell_type": "code",
   "execution_count": 326,
   "id": "da7e8182-7761-4f0b-a8f1-5bb2c096cb5d",
   "metadata": {},
   "outputs": [
    {
     "name": "stdout",
     "output_type": "stream",
     "text": [
      "1\n",
      "2\n",
      "4\n",
      "5\n",
      "6\n",
      "7\n",
      "8\n",
      "9\n"
     ]
    }
   ],
   "source": [
    "i=0\n",
    "while i < 9:\n",
    "    i=i+1\n",
    "    if i==3:\n",
    "        continue\n",
    "    print(i)"
   ]
  },
  {
   "cell_type": "code",
   "execution_count": 327,
   "id": "c6cda95d-af30-422c-9ceb-c3b421349388",
   "metadata": {},
   "outputs": [
    {
     "name": "stdout",
     "output_type": "stream",
     "text": [
      "1\n",
      "2\n",
      "3\n",
      "4\n",
      "5\n",
      "6\n",
      "7\n",
      "8\n",
      "9\n"
     ]
    }
   ],
   "source": [
    "i=0\n",
    "while i < 9:\n",
    "    i=i+1\n",
    "    if i==3:\n",
    "        pass\n",
    "    print(i)"
   ]
  },
  {
   "cell_type": "code",
   "execution_count": 328,
   "id": "2367c73d-55ae-4ca7-88db-5721df0ea6b1",
   "metadata": {},
   "outputs": [],
   "source": [
    "my_list=[\"papaya\",\"orange\",\"pineapple\",\"mango\",\"graphs\"]"
   ]
  },
  {
   "cell_type": "code",
   "execution_count": 329,
   "id": "47722d72-9685-4421-875e-797492ef2e5a",
   "metadata": {},
   "outputs": [],
   "source": [
    "size=len(my_list)"
   ]
  },
  {
   "cell_type": "code",
   "execution_count": 330,
   "id": "70147070-079a-46f6-a936-95e5d922302b",
   "metadata": {},
   "outputs": [
    {
     "data": {
      "text/plain": [
       "5"
      ]
     },
     "execution_count": 330,
     "metadata": {},
     "output_type": "execute_result"
    }
   ],
   "source": [
    "size"
   ]
  },
  {
   "cell_type": "code",
   "execution_count": 331,
   "id": "78073afd-e083-4af3-9827-59b9c5eb6742",
   "metadata": {},
   "outputs": [
    {
     "name": "stdout",
     "output_type": "stream",
     "text": [
      "mango found\n"
     ]
    }
   ],
   "source": [
    "my_list=[\"papaya\",\"orange\",\"pineapple\",\"mango\",\"graphs\"]\n",
    "size=len(my_list)\n",
    "\n",
    "i=0\n",
    "while i<size:\n",
    "    if my_list[i] == \"mango\":\n",
    "        print(\"mango found\")\n",
    "        break\n",
    "    i=i+1\n",
    "else:\n",
    "    print(\"mango not found\")"
   ]
  },
  {
   "cell_type": "code",
   "execution_count": 332,
   "id": "c66c81ec-bb62-4746-ad28-397a3d55f2af",
   "metadata": {},
   "outputs": [
    {
     "name": "stdout",
     "output_type": "stream",
     "text": [
      "hi 2 hi 4 "
     ]
    }
   ],
   "source": [
    "i=0\n",
    "while i<4:\n",
    "\ti=i+1\n",
    "\tif(i%2!=0):\n",
    "\t\tpass\n",
    "\t\tprint(\"hi\",end=\" \")\n",
    "\telse:\n",
    "\t\tprint(i,end=\" \")"
   ]
  },
  {
   "cell_type": "code",
   "execution_count": 333,
   "id": "d7fca5cb-948d-41fb-8c81-a90b1e0763ee",
   "metadata": {},
   "outputs": [
    {
     "name": "stdout",
     "output_type": "stream",
     "text": [
      "hi hi\n"
     ]
    }
   ],
   "source": [
    "print(\"hi\", end=\" \")\n",
    "print(\"hi\")"
   ]
  },
  {
   "cell_type": "code",
   "execution_count": 334,
   "id": "88f597bb-abf1-4323-baf4-f66c0e450a2b",
   "metadata": {},
   "outputs": [
    {
     "name": "stdout",
     "output_type": "stream",
     "text": [
      "hi 2 hi "
     ]
    }
   ],
   "source": [
    "i=0\n",
    "while i<3:\n",
    "\ti=i+1\n",
    "\tif(i%2!=0):\n",
    "\t\tpass\n",
    "\t\tprint(\"hi\",end=\" \")\n",
    "\telse:\n",
    "\t\tprint(i,end=\" \")"
   ]
  },
  {
   "cell_type": "code",
   "execution_count": 335,
   "id": "8b4f34e3-caeb-4015-9a80-b498ae5a5920",
   "metadata": {},
   "outputs": [
    {
     "name": "stdout",
     "output_type": "stream",
     "text": [
      "2 4 "
     ]
    }
   ],
   "source": [
    "i=0\n",
    "while i<4:\n",
    "\ti=i+1\n",
    "\tif(i%2!=0):\n",
    "\t\tcontinue\n",
    "\t\tprint(\"hi\",end=\" \")\n",
    "\telse:\n",
    "\t\tprint(i,end=\" \")\n"
   ]
  },
  {
   "cell_type": "code",
   "execution_count": 336,
   "id": "7868e155-b560-44f8-82be-677cf809cd25",
   "metadata": {},
   "outputs": [],
   "source": [
    "x = \"abcdef\" \n",
    "i = \"i\" \n",
    "while i in x: \n",
    "\tprint(i, end=\" \")"
   ]
  },
  {
   "cell_type": "code",
   "execution_count": 337,
   "id": "575cf656-7ffe-4b04-951c-6343e809194a",
   "metadata": {},
   "outputs": [
    {
     "name": "stdout",
     "output_type": "stream",
     "text": [
      "a "
     ]
    }
   ],
   "source": [
    "x = \"abcdef\"\n",
    "i = \"a\"\n",
    "while i in x:\n",
    "    x = x[1:]\n",
    "    print(i, end = \" \")"
   ]
  },
  {
   "cell_type": "code",
   "execution_count": 338,
   "id": "34bb6821-d53a-4ca1-8072-1234ddf645b6",
   "metadata": {},
   "outputs": [
    {
     "name": "stdout",
     "output_type": "stream",
     "text": [
      "c c c "
     ]
    }
   ],
   "source": [
    "x = \"abcdef\"\n",
    "i = \"c\"\n",
    "while i in x:\n",
    "    x = x[1:]\n",
    "    print(i, end = \" \")"
   ]
  },
  {
   "cell_type": "code",
   "execution_count": null,
   "id": "0b52cacf-9286-4729-8def-ec68b7b332e6",
   "metadata": {},
   "outputs": [],
   "source": []
  },
  {
   "cell_type": "code",
   "execution_count": null,
   "id": "2762a307-6864-446a-bc46-604336c06c84",
   "metadata": {},
   "outputs": [],
   "source": []
  },
  {
   "cell_type": "code",
   "execution_count": null,
   "id": "7b2c928b-b5a1-45f7-9e76-cc6245941c9a",
   "metadata": {},
   "outputs": [],
   "source": []
  },
  {
   "cell_type": "code",
   "execution_count": null,
   "id": "f647e8e7-12ee-4430-bce9-2bb6d3940039",
   "metadata": {},
   "outputs": [],
   "source": []
  },
  {
   "cell_type": "code",
   "execution_count": null,
   "id": "19b08c52-0fb9-4c52-ae77-86c18109a52e",
   "metadata": {},
   "outputs": [],
   "source": []
  },
  {
   "cell_type": "code",
   "execution_count": null,
   "id": "e0ab2937-85d2-42b1-999d-c28ef2c7c1b3",
   "metadata": {},
   "outputs": [],
   "source": []
  },
  {
   "cell_type": "code",
   "execution_count": null,
   "id": "6ccffcb1-0554-4179-8a44-219efde41899",
   "metadata": {},
   "outputs": [],
   "source": []
  },
  {
   "cell_type": "code",
   "execution_count": null,
   "id": "b5d55b33-a005-4e09-9f0e-d1d1ab598fb1",
   "metadata": {},
   "outputs": [],
   "source": []
  },
  {
   "cell_type": "code",
   "execution_count": null,
   "id": "63743646-e37c-4088-9818-2fdc27306a2f",
   "metadata": {},
   "outputs": [],
   "source": []
  },
  {
   "cell_type": "code",
   "execution_count": null,
   "id": "233a78d5-49e1-4321-b274-d19c7db5e764",
   "metadata": {},
   "outputs": [],
   "source": []
  },
  {
   "cell_type": "code",
   "execution_count": null,
   "id": "39d0d36b-b150-47fb-ae0a-46e912376180",
   "metadata": {},
   "outputs": [],
   "source": []
  },
  {
   "cell_type": "code",
   "execution_count": 339,
   "id": "772beb75-8964-4d66-9811-eaa3667b4578",
   "metadata": {},
   "outputs": [],
   "source": [
    "a=\"5\""
   ]
  },
  {
   "cell_type": "code",
   "execution_count": 340,
   "id": "0904044e-58f7-47db-8dcc-1f083baa35c4",
   "metadata": {},
   "outputs": [
    {
     "data": {
      "text/plain": [
       "53"
      ]
     },
     "execution_count": 340,
     "metadata": {},
     "output_type": "execute_result"
    }
   ],
   "source": [
    "ord(a)"
   ]
  },
  {
   "cell_type": "code",
   "execution_count": 341,
   "id": "4872017b-c997-4e6a-ba7e-4c08c1f185a7",
   "metadata": {},
   "outputs": [],
   "source": [
    "x=\"my name is himanshu mishra what is your name\""
   ]
  },
  {
   "cell_type": "code",
   "execution_count": 342,
   "id": "cad2c2b6-ba40-4d9f-8e86-94c945b515a8",
   "metadata": {},
   "outputs": [
    {
     "data": {
      "text/plain": [
       "['my', 'name', 'is', 'himanshu', 'mishra', 'what', 'is', 'your', 'name']"
      ]
     },
     "execution_count": 342,
     "metadata": {},
     "output_type": "execute_result"
    }
   ],
   "source": [
    "x.split()"
   ]
  },
  {
   "cell_type": "code",
   "execution_count": 343,
   "id": "3312c655-8852-4b23-9079-c0251a5f98b5",
   "metadata": {},
   "outputs": [],
   "source": [
    "a,b,c,d,e,f,g,h,i=x.split()"
   ]
  },
  {
   "cell_type": "code",
   "execution_count": 344,
   "id": "d1c2f6cc-c95f-4a69-b272-677b91e0d715",
   "metadata": {},
   "outputs": [
    {
     "data": {
      "text/plain": [
       "'is'"
      ]
     },
     "execution_count": 344,
     "metadata": {},
     "output_type": "execute_result"
    }
   ],
   "source": [
    "g"
   ]
  },
  {
   "cell_type": "code",
   "execution_count": 345,
   "id": "29a17059-c90c-4cea-ae18-5084ec9316ec",
   "metadata": {},
   "outputs": [],
   "source": [
    "y=\"himsnhu\""
   ]
  },
  {
   "cell_type": "code",
   "execution_count": 346,
   "id": "ee2b8d08-9475-4bc0-ad6a-ffc841151285",
   "metadata": {},
   "outputs": [
    {
     "data": {
      "text/plain": [
       "['himsnhu']"
      ]
     },
     "execution_count": 346,
     "metadata": {},
     "output_type": "execute_result"
    }
   ],
   "source": [
    "y.split()"
   ]
  },
  {
   "cell_type": "code",
   "execution_count": 347,
   "id": "b5acd75a-c2e8-416d-955f-80e7ca53a530",
   "metadata": {},
   "outputs": [],
   "source": [
    "z=\" \""
   ]
  },
  {
   "cell_type": "code",
   "execution_count": 348,
   "id": "62512f6e-c3fa-44fe-b03e-33d932889982",
   "metadata": {},
   "outputs": [
    {
     "data": {
      "text/plain": [
       "[]"
      ]
     },
     "execution_count": 348,
     "metadata": {},
     "output_type": "execute_result"
    }
   ],
   "source": [
    "z.split()"
   ]
  },
  {
   "cell_type": "code",
   "execution_count": 350,
   "id": "c02938ff-bc35-475c-b28b-9cd423f2d8af",
   "metadata": {},
   "outputs": [
    {
     "name": "stdin",
     "output_type": "stream",
     "text": [
      "enter two numbers 3 4\n"
     ]
    },
    {
     "name": "stdout",
     "output_type": "stream",
     "text": [
      "7\n"
     ]
    }
   ],
   "source": [
    "a,b=input(\"enter two numbers\").split()\n",
    "c=int(a)+int(b)\n",
    "print(c)"
   ]
  },
  {
   "cell_type": "code",
   "execution_count": 351,
   "id": "ea4659ef-794b-45eb-ba9d-65d890040d4c",
   "metadata": {},
   "outputs": [
    {
     "name": "stdin",
     "output_type": "stream",
     "text": [
      "enter any two numbers 4 5\n"
     ]
    },
    {
     "name": "stdout",
     "output_type": "stream",
     "text": [
      "4\n",
      "5\n",
      "45\n"
     ]
    }
   ],
   "source": [
    "x=input(\"enter any two numbers\")\n",
    "a,b=x.split()\n",
    "print(a)\n",
    "print(b)\n",
    "print(a+b)"
   ]
  },
  {
   "cell_type": "code",
   "execution_count": 352,
   "id": "422e7175-cfa9-480f-8761-87dbff6ed44d",
   "metadata": {},
   "outputs": [],
   "source": [
    "x=\"my name is himanshu mishra what is your name\""
   ]
  },
  {
   "cell_type": "code",
   "execution_count": 353,
   "id": "963fdeb8-f3e1-4dd0-a5f2-fdbeb6a0e6c4",
   "metadata": {},
   "outputs": [
    {
     "data": {
      "text/plain": [
       "['my', 'name', 'is', 'himanshu', 'mishra', 'what', 'is', 'your', 'name']"
      ]
     },
     "execution_count": 353,
     "metadata": {},
     "output_type": "execute_result"
    }
   ],
   "source": [
    "x.split(\" \")"
   ]
  },
  {
   "cell_type": "code",
   "execution_count": 354,
   "id": "b522e4ab-af12-4744-9676-ceb12a4cf330",
   "metadata": {},
   "outputs": [
    {
     "name": "stdout",
     "output_type": "stream",
     "text": [
      "1\n",
      "3\n",
      "5\n",
      "7\n",
      "9\n"
     ]
    }
   ],
   "source": [
    "i=1\n",
    "while i<=10:\n",
    "    if i%2==1:\n",
    "        print(i)\n",
    "    i=i+1"
   ]
  },
  {
   "cell_type": "markdown",
   "id": "921c68c9-61de-4d97-9c42-36272cbf12df",
   "metadata": {},
   "source": [
    "break will terminate the loop"
   ]
  },
  {
   "cell_type": "markdown",
   "id": "d8a8c88c-65f5-49ca-875d-ba08472dde9e",
   "metadata": {},
   "source": [
    "continue will skip the current iteration"
   ]
  },
  {
   "cell_type": "markdown",
   "id": "defa6ed1-e458-452d-8f4c-55077d9cb644",
   "metadata": {},
   "source": [
    "pass means no operation statement"
   ]
  },
  {
   "cell_type": "code",
   "execution_count": 355,
   "id": "6c22349a-b047-49b2-9614-5ed0c5ff3a9a",
   "metadata": {},
   "outputs": [],
   "source": [
    "p=45"
   ]
  },
  {
   "cell_type": "code",
   "execution_count": 356,
   "id": "19615b41-9694-46c8-b1fb-3f8c518e6ae1",
   "metadata": {},
   "outputs": [],
   "source": [
    "if p<78:\n",
    "    i\n",
    "   "
   ]
  },
  {
   "cell_type": "code",
   "execution_count": 357,
   "id": "750992f6-9f56-45a3-9908-2ae3ff18e980",
   "metadata": {},
   "outputs": [
    {
     "data": {
      "text/plain": [
       "11"
      ]
     },
     "execution_count": 357,
     "metadata": {},
     "output_type": "execute_result"
    }
   ],
   "source": [
    "i"
   ]
  },
  {
   "cell_type": "code",
   "execution_count": 358,
   "id": "0965731b-4cd2-402b-8ab5-f0cc9ef6cca1",
   "metadata": {},
   "outputs": [
    {
     "data": {
      "text/plain": [
       "45"
      ]
     },
     "execution_count": 358,
     "metadata": {},
     "output_type": "execute_result"
    }
   ],
   "source": [
    "p"
   ]
  },
  {
   "cell_type": "code",
   "execution_count": 359,
   "id": "f3271e48-0a0c-48db-94b9-a9c3242e14e7",
   "metadata": {},
   "outputs": [],
   "source": [
    "i=0"
   ]
  },
  {
   "cell_type": "code",
   "execution_count": 360,
   "id": "85b6be17-e106-495e-a2a6-78c35b464524",
   "metadata": {},
   "outputs": [
    {
     "name": "stdin",
     "output_type": "stream",
     "text": [
      "enter any word hi\n"
     ]
    },
    {
     "name": "stdout",
     "output_type": "stream",
     "text": [
      " not palendrom\n"
     ]
    }
   ],
   "source": [
    "x=str(input(\"enter any word\"))\n",
    "i=0\n",
    "while i<=((len(x))//2) and x[i]==x[len(x)-1-i]:\n",
    "        print(\" palendrom\") \n",
    "        i=i+1\n",
    "        if i==(len(x))//2:\n",
    "            break\n",
    "    \n",
    "else:\n",
    "     print(\" not palendrom\")"
   ]
  },
  {
   "cell_type": "code",
   "execution_count": 361,
   "id": "c1f80814-f9b8-4b2a-b80f-879ac77746cb",
   "metadata": {},
   "outputs": [
    {
     "name": "stdout",
     "output_type": "stream",
     "text": [
      "true\n"
     ]
    }
   ],
   "source": [
    "p = 'aba'\n",
    "i=0\n",
    "if i<(len(p)-1) and p[i]==p[len(p)-1]:\n",
    "    print('true')\n"
   ]
  },
  {
   "cell_type": "code",
   "execution_count": 362,
   "id": "5d8f84e8-b4c4-418a-81ac-ab0cb0108672",
   "metadata": {},
   "outputs": [
    {
     "name": "stdin",
     "output_type": "stream",
     "text": [
      "enter any word hi\n"
     ]
    },
    {
     "name": "stdout",
     "output_type": "stream",
     "text": [
      " not palendrom\n"
     ]
    }
   ],
   "source": [
    "x = str(input(\"enter any word\"))\n",
    "i = 0\n",
    "is_palendrom = True\n",
    "while i <= ((len(x))//2):\n",
    "    if x[i] != x[len(x)-1-i]:\n",
    "        is_palendrom = False\n",
    "        break\n",
    "    i += 1\n",
    "if is_palendrom:\n",
    "    print(\" palendrom\")\n",
    "else:\n",
    "    print(\" not palendrom\")"
   ]
  },
  {
   "cell_type": "markdown",
   "id": "1ea51599-b4fd-4ddc-855c-68617d261334",
   "metadata": {},
   "source": [
    "i have crteated palendrom program successfully"
   ]
  },
  {
   "cell_type": "code",
   "execution_count": 363,
   "id": "f3957564-be86-4c36-a0d2-e5fc2cf371d7",
   "metadata": {},
   "outputs": [],
   "source": [
    "x=\"himanshu mishra\""
   ]
  },
  {
   "cell_type": "code",
   "execution_count": 364,
   "id": "8dc38514-f162-4cfc-b001-ae8788100eb1",
   "metadata": {},
   "outputs": [
    {
     "data": {
      "text/plain": [
       "['himanshu', 'mishra']"
      ]
     },
     "execution_count": 364,
     "metadata": {},
     "output_type": "execute_result"
    }
   ],
   "source": [
    "x.split()"
   ]
  },
  {
   "cell_type": "code",
   "execution_count": 365,
   "id": "545d6e2e-2cb2-45ae-be79-0bc9d3a716f6",
   "metadata": {},
   "outputs": [],
   "source": [
    "word1,word2=x.split()"
   ]
  },
  {
   "cell_type": "code",
   "execution_count": 366,
   "id": "fa872f17-89ff-40f0-af79-e35c205bde22",
   "metadata": {},
   "outputs": [
    {
     "data": {
      "text/plain": [
       "'himanshu'"
      ]
     },
     "execution_count": 366,
     "metadata": {},
     "output_type": "execute_result"
    }
   ],
   "source": [
    "word1"
   ]
  },
  {
   "cell_type": "code",
   "execution_count": 367,
   "id": "39d73938-8fb2-4f12-9ed7-e46819d602e5",
   "metadata": {},
   "outputs": [
    {
     "data": {
      "text/plain": [
       "'mishra'"
      ]
     },
     "execution_count": 367,
     "metadata": {},
     "output_type": "execute_result"
    }
   ],
   "source": [
    "word2"
   ]
  },
  {
   "cell_type": "code",
   "execution_count": 368,
   "id": "d6f06987-7661-47bb-af9f-ca978ddf53a0",
   "metadata": {},
   "outputs": [
    {
     "name": "stdin",
     "output_type": "stream",
     "text": [
      "input two numbers 4 5\n"
     ]
    },
    {
     "name": "stdout",
     "output_type": "stream",
     "text": [
      "9\n"
     ]
    }
   ],
   "source": [
    "a=input(\"input two numbers\")\n",
    "x,y=a.split()\n",
    "z=int(x)+int(y)\n",
    "print(z)"
   ]
  },
  {
   "cell_type": "code",
   "execution_count": 369,
   "id": "221f05fb-dc47-4153-b011-d573f5018860",
   "metadata": {},
   "outputs": [],
   "source": [
    "x=\"himanshu@mishra\""
   ]
  },
  {
   "cell_type": "code",
   "execution_count": 370,
   "id": "e3c09a42-967c-49ba-824b-23ff56d80feb",
   "metadata": {},
   "outputs": [
    {
     "data": {
      "text/plain": [
       "['himanshu@mishra']"
      ]
     },
     "execution_count": 370,
     "metadata": {},
     "output_type": "execute_result"
    }
   ],
   "source": [
    "x.split('@',0)"
   ]
  },
  {
   "cell_type": "markdown",
   "id": "ee8f1f24-e73e-4534-b357-3235269809af",
   "metadata": {},
   "source": [
    "wap to print natural number upto 50 except prime numbers"
   ]
  },
  {
   "cell_type": "code",
   "execution_count": 371,
   "id": "e9b97309-e7f8-4237-8c1b-d3cd8a587797",
   "metadata": {},
   "outputs": [
    {
     "name": "stdout",
     "output_type": "stream",
     "text": [
      "1\n",
      "2\n",
      "3\n",
      "4\n",
      "1\n",
      "6\n",
      "7\n",
      "8\n",
      "9\n",
      "10\n",
      "11\n",
      "12\n",
      "13\n",
      "14\n",
      "15\n",
      "16\n",
      "17\n",
      "18\n",
      "19\n",
      "20\n",
      "21\n",
      "22\n",
      "23\n",
      "24\n",
      "25\n",
      "26\n",
      "27\n",
      "28\n",
      "29\n",
      "30\n",
      "31\n",
      "32\n",
      "33\n",
      "34\n",
      "35\n",
      "36\n",
      "37\n",
      "38\n",
      "39\n",
      "40\n",
      "41\n",
      "42\n",
      "43\n",
      "44\n",
      "45\n",
      "46\n",
      "47\n",
      "48\n",
      "49\n",
      "50\n",
      "51\n",
      "2\n",
      "3\n",
      "4\n",
      "5\n",
      "6\n",
      "7\n",
      "8\n",
      "9\n"
     ]
    }
   ],
   "source": [
    "i=0\n",
    "j=0\n",
    "while i<=50:\n",
    "    \n",
    "    while j<=50:\n",
    "        j+=1\n",
    "        if j==5:\n",
    "            break\n",
    "        print(j)\n",
    "    i+=1\n",
    "    if i==10:\n",
    "        break\n",
    "    print(i)"
   ]
  },
  {
   "cell_type": "code",
   "execution_count": 372,
   "id": "ea831ce8-aca1-4b3f-8d27-cb922dd2cb12",
   "metadata": {},
   "outputs": [
    {
     "name": "stdout",
     "output_type": "stream",
     "text": [
      "1\n",
      "4\n",
      "6\n",
      "8\n",
      "9\n",
      "10\n",
      "12\n",
      "14\n",
      "15\n",
      "16\n",
      "18\n",
      "20\n",
      "21\n",
      "22\n",
      "24\n",
      "25\n",
      "26\n",
      "27\n",
      "28\n",
      "30\n",
      "32\n",
      "33\n",
      "34\n",
      "35\n",
      "36\n",
      "38\n",
      "39\n",
      "40\n",
      "42\n",
      "44\n",
      "45\n",
      "46\n",
      "48\n",
      "49\n",
      "50\n"
     ]
    }
   ],
   "source": [
    "def is_prime(n):\n",
    "    if n <= 1:\n",
    "        return False\n",
    "    for i in range(2, int(n**0.5) + 1):\n",
    "        if n % i == 0:\n",
    "            return False\n",
    "    return True\n",
    "\n",
    "for num in range(1, 51):\n",
    "    if not is_prime(num):\n",
    "        print(num)\n"
   ]
  },
  {
   "cell_type": "code",
   "execution_count": 373,
   "id": "5503b9ab-0441-45fa-b0e3-75d6c9da0749",
   "metadata": {},
   "outputs": [],
   "source": [
    "a=6"
   ]
  },
  {
   "cell_type": "code",
   "execution_count": 374,
   "id": "7c4c3bf4-25fc-45f5-9538-35b1c47421dc",
   "metadata": {},
   "outputs": [
    {
     "data": {
      "text/plain": [
       "36"
      ]
     },
     "execution_count": 374,
     "metadata": {},
     "output_type": "execute_result"
    }
   ],
   "source": [
    "a**2"
   ]
  },
  {
   "cell_type": "markdown",
   "id": "73ecf8dd-26d0-4ffb-a3bc-3b67397dc442",
   "metadata": {},
   "source": [
    "break will terminate the loop\n",
    "\n",
    "continue will skip the current iteration\n",
    "\n",
    "pass means no operation statement\n",
    "\n"
   ]
  },
  {
   "cell_type": "code",
   "execution_count": 375,
   "id": "49c0341e-ad28-423c-a968-e11d30dc239b",
   "metadata": {},
   "outputs": [
    {
     "name": "stdout",
     "output_type": "stream",
     "text": [
      "19\n"
     ]
    }
   ],
   "source": [
    "n=19\n",
    "if n<28:\n",
    "    pass\n",
    "    print(n)"
   ]
  },
  {
   "cell_type": "code",
   "execution_count": 376,
   "id": "ee68d519-3bf3-4ab5-9f9f-08f400998304",
   "metadata": {},
   "outputs": [
    {
     "name": "stdout",
     "output_type": "stream",
     "text": [
      "hello\n",
      "hello\n",
      "hello\n"
     ]
    }
   ],
   "source": [
    "n=19\n",
    "if n<28:\n",
    "    print(\"hello\")\n",
    "    pass\n",
    "    print(\"hello\")\n",
    "print(\"hello\")"
   ]
  },
  {
   "cell_type": "code",
   "execution_count": 377,
   "id": "98e1cfbe-6024-421b-9abb-6e93b70136b4",
   "metadata": {},
   "outputs": [
    {
     "ename": "SyntaxError",
     "evalue": "'continue' not properly in loop (2844087841.py, line 2)",
     "output_type": "error",
     "traceback": [
      "\u001b[1;36m  Cell \u001b[1;32mIn[377], line 2\u001b[1;36m\u001b[0m\n\u001b[1;33m    continue\u001b[0m\n\u001b[1;37m    ^\u001b[0m\n\u001b[1;31mSyntaxError\u001b[0m\u001b[1;31m:\u001b[0m 'continue' not properly in loop\n"
     ]
    }
   ],
   "source": [
    "if n<28:\n",
    "    continue"
   ]
  },
  {
   "cell_type": "code",
   "execution_count": 378,
   "id": "bc8d51c1-29f6-429f-823a-767b0eb1648f",
   "metadata": {},
   "outputs": [
    {
     "ename": "SyntaxError",
     "evalue": "'continue' not properly in loop (3008837601.py, line 3)",
     "output_type": "error",
     "traceback": [
      "\u001b[1;36m  Cell \u001b[1;32mIn[378], line 3\u001b[1;36m\u001b[0m\n\u001b[1;33m    continue\u001b[0m\n\u001b[1;37m    ^\u001b[0m\n\u001b[1;31mSyntaxError\u001b[0m\u001b[1;31m:\u001b[0m 'continue' not properly in loop\n"
     ]
    }
   ],
   "source": [
    "i=3\n",
    "if i==3:\n",
    "    continue"
   ]
  },
  {
   "cell_type": "code",
   "execution_count": 379,
   "id": "294db3ca-7766-4996-b51f-2ac0528694cd",
   "metadata": {},
   "outputs": [],
   "source": [
    "frnd_list = ['himanshu','ambuj','ayush','shivam','sam']\n",
    "size = len(frnd_list)"
   ]
  },
  {
   "cell_type": "code",
   "execution_count": 380,
   "id": "def99939-1b87-4d50-8f98-c95b98a13f70",
   "metadata": {},
   "outputs": [
    {
     "data": {
      "text/plain": [
       "5"
      ]
     },
     "execution_count": 380,
     "metadata": {},
     "output_type": "execute_result"
    }
   ],
   "source": [
    "size"
   ]
  },
  {
   "cell_type": "code",
   "execution_count": 381,
   "id": "6f1a2484-1921-4dbc-bc0d-460af623b7ad",
   "metadata": {},
   "outputs": [
    {
     "name": "stdout",
     "output_type": "stream",
     "text": [
      "name found\n"
     ]
    }
   ],
   "source": [
    "i=0\n",
    "while i<size:\n",
    "    if frnd_list[i]=='sam':\n",
    "        print('name found')\n",
    "        break\n",
    "    i+=1\n",
    "else:\n",
    "    print('name not found')"
   ]
  },
  {
   "cell_type": "code",
   "execution_count": 382,
   "id": "618d9ba3-fc97-47be-951d-b9a8d914f5dc",
   "metadata": {},
   "outputs": [],
   "source": [
    "a=\"himanshu shekhar mishra ambuj sam\""
   ]
  },
  {
   "cell_type": "code",
   "execution_count": 383,
   "id": "97f4b758-0577-4b68-9a0c-d8475cf3a2eb",
   "metadata": {},
   "outputs": [
    {
     "data": {
      "text/plain": [
       "['himanshu', 'shekhar', 'mishra ambuj sam']"
      ]
     },
     "execution_count": 383,
     "metadata": {},
     "output_type": "execute_result"
    }
   ],
   "source": [
    "a.split(' ',2)"
   ]
  },
  {
   "cell_type": "code",
   "execution_count": 384,
   "id": "c3cf430d-17f2-49fe-bbbc-b74bf6354743",
   "metadata": {},
   "outputs": [],
   "source": [
    "x='hiamnshufghjkl'"
   ]
  },
  {
   "cell_type": "code",
   "execution_count": 385,
   "id": "edb7eeff-4968-45d3-9d9b-f95bc937e26c",
   "metadata": {},
   "outputs": [
    {
     "name": "stdout",
     "output_type": "stream",
     "text": [
      "hiamnshufghjkl "
     ]
    }
   ],
   "source": [
    "print(x,sep=f,end=\" \")"
   ]
  },
  {
   "cell_type": "code",
   "execution_count": 386,
   "id": "176b1d30-2a9f-4ef1-95a0-52a1184b2baf",
   "metadata": {},
   "outputs": [
    {
     "name": "stdout",
     "output_type": "stream",
     "text": [
      "hiamnshufghjkl\n"
     ]
    }
   ],
   "source": [
    "print(x,sep=' ')"
   ]
  },
  {
   "cell_type": "code",
   "execution_count": 387,
   "id": "b38189dc-7258-4222-8e8d-d85e285f657c",
   "metadata": {},
   "outputs": [],
   "source": [
    "x=7\n",
    "y=7"
   ]
  },
  {
   "cell_type": "code",
   "execution_count": 388,
   "id": "a8c801b4-6d1d-498c-abcf-712de32121fa",
   "metadata": {},
   "outputs": [
    {
     "name": "stdout",
     "output_type": "stream",
     "text": [
      "7@7\n"
     ]
    }
   ],
   "source": [
    "print(x,y,sep='@')"
   ]
  },
  {
   "cell_type": "code",
   "execution_count": 389,
   "id": "61092e9a-46ff-485a-bcc2-f21c7043ed53",
   "metadata": {},
   "outputs": [],
   "source": [
    "x=\"himanshu\"\n",
    "i=\"p\"\n",
    "while i in x:\n",
    "    print(\"asd\")"
   ]
  },
  {
   "cell_type": "code",
   "execution_count": 390,
   "id": "d44a3989-2a6d-476a-aa77-ecb0e95fcc56",
   "metadata": {},
   "outputs": [],
   "source": [
    "x='hiamnshufghjkl'"
   ]
  },
  {
   "cell_type": "code",
   "execution_count": 391,
   "id": "d1b13e7d-7585-439a-b333-dd734e62d4ec",
   "metadata": {},
   "outputs": [
    {
     "data": {
      "text/plain": [
       "'lkjhgfuhsnmaih'"
      ]
     },
     "execution_count": 391,
     "metadata": {},
     "output_type": "execute_result"
    }
   ],
   "source": [
    "x[::-1]"
   ]
  },
  {
   "cell_type": "code",
   "execution_count": 392,
   "id": "46027f3d-7653-4d89-9bd3-64b7594351fc",
   "metadata": {},
   "outputs": [
    {
     "ename": "AttributeError",
     "evalue": "'str' object has no attribute 'slice'",
     "output_type": "error",
     "traceback": [
      "\u001b[1;31m---------------------------------------------------------------------------\u001b[0m",
      "\u001b[1;31mAttributeError\u001b[0m                            Traceback (most recent call last)",
      "Cell \u001b[1;32mIn[392], line 1\u001b[0m\n\u001b[1;32m----> 1\u001b[0m \u001b[43mx\u001b[49m\u001b[38;5;241;43m.\u001b[39;49m\u001b[43mslice\u001b[49m(\u001b[38;5;241m5\u001b[39m)\n",
      "\u001b[1;31mAttributeError\u001b[0m: 'str' object has no attribute 'slice'"
     ]
    }
   ],
   "source": [
    "x.slice(5)"
   ]
  },
  {
   "cell_type": "code",
   "execution_count": 393,
   "id": "4463f28f-9a35-4519-8f9a-7b3eda754f2b",
   "metadata": {},
   "outputs": [
    {
     "name": "stdout",
     "output_type": "stream",
     "text": [
      "String slicing\n",
      "AST\n",
      "SR\n",
      "GITA\n"
     ]
    }
   ],
   "source": [
    "# Python program to demonstrate\n",
    "# string slicing\n",
    "\n",
    "# String slicing\n",
    "String = 'ASTRING'\n",
    "\n",
    "# Using slice constructor\n",
    "s1 = slice(3)\n",
    "s2 = slice(1, 5, 2)\n",
    "s3 = slice(-1, -12, -2)\n",
    "\n",
    "print(\"String slicing\")\n",
    "print(String[s1])\n",
    "print(String[s2])\n",
    "print(String[s3])\n"
   ]
  },
  {
   "cell_type": "code",
   "execution_count": 394,
   "id": "9e430a3a-d23c-4053-af6f-7789d85ca4c4",
   "metadata": {},
   "outputs": [],
   "source": [
    "x='hiamnshufghjkl'"
   ]
  },
  {
   "cell_type": "code",
   "execution_count": 395,
   "id": "9796d6ef-a8a1-453d-b770-2ebac4100f76",
   "metadata": {},
   "outputs": [
    {
     "data": {
      "text/plain": [
       "'hiamns'"
      ]
     },
     "execution_count": 395,
     "metadata": {},
     "output_type": "execute_result"
    }
   ],
   "source": [
    "x[slice(6)]"
   ]
  },
  {
   "cell_type": "code",
   "execution_count": 396,
   "id": "86f568aa-a845-4172-b443-093ef6ee1c55",
   "metadata": {},
   "outputs": [
    {
     "ename": "KeyboardInterrupt",
     "evalue": "",
     "output_type": "error",
     "traceback": [
      "\u001b[1;31m---------------------------------------------------------------------------\u001b[0m",
      "\u001b[1;31mKeyboardInterrupt\u001b[0m                         Traceback (most recent call last)",
      "Cell \u001b[1;32mIn[396], line 2\u001b[0m\n\u001b[0;32m      1\u001b[0m i\u001b[38;5;241m=\u001b[39m\u001b[38;5;241m2\u001b[39m\n\u001b[1;32m----> 2\u001b[0m \u001b[38;5;28;01mwhile\u001b[39;00m \u001b[38;5;28;01mTrue\u001b[39;00m:\n\u001b[0;32m      3\u001b[0m     \u001b[38;5;28;01mif\u001b[39;00m i\u001b[38;5;241m%\u001b[39m\u001b[38;5;241m3\u001b[39m\u001b[38;5;241m==\u001b[39m\u001b[38;5;241m0\u001b[39m:\n\u001b[0;32m      4\u001b[0m         \u001b[38;5;28;01mbreak\u001b[39;00m\n",
      "\u001b[1;31mKeyboardInterrupt\u001b[0m: "
     ]
    }
   ],
   "source": [
    "i=2\n",
    "while True:\n",
    "    if i%3==0:\n",
    "        break\n",
    "print(\"hjhfejf\")\n",
    "i+=2"
   ]
  },
  {
   "cell_type": "code",
   "execution_count": 397,
   "id": "2c26b6cd-1ffc-4af2-bc63-2d7104faa8e7",
   "metadata": {},
   "outputs": [],
   "source": [
    "i=2\n",
    "while True:\n",
    "    break"
   ]
  },
  {
   "cell_type": "code",
   "execution_count": 398,
   "id": "029cad0a-d475-42e1-8252-ff0a5ad9ae81",
   "metadata": {},
   "outputs": [
    {
     "data": {
      "text/plain": [
       "['a', 'b', '', ' ']"
      ]
     },
     "execution_count": 398,
     "metadata": {},
     "output_type": "execute_result"
    }
   ],
   "source": [
    "x=\"a b   \"\n",
    "x.split(\" \",3)"
   ]
  },
  {
   "cell_type": "code",
   "execution_count": 399,
   "id": "6a07ed29-b96e-4fa0-9590-40f2b2842904",
   "metadata": {},
   "outputs": [
    {
     "data": {
      "text/plain": [
       "6"
      ]
     },
     "execution_count": 399,
     "metadata": {},
     "output_type": "execute_result"
    }
   ],
   "source": [
    "len(x)"
   ]
  },
  {
   "cell_type": "code",
   "execution_count": 400,
   "id": "dcfb3ded-bf97-41ac-ad58-64fe3d8c7221",
   "metadata": {},
   "outputs": [
    {
     "data": {
      "text/plain": [
       "['hm', 'kj', 'lg', 'ks', '', '']"
      ]
     },
     "execution_count": 400,
     "metadata": {},
     "output_type": "execute_result"
    }
   ],
   "source": [
    "y=\"hm kj lg ks  \"\n",
    "y.split(\" \",6)"
   ]
  },
  {
   "cell_type": "code",
   "execution_count": 401,
   "id": "dd8a0645-5985-4ea4-89d3-04e23f68b926",
   "metadata": {},
   "outputs": [
    {
     "ename": "SyntaxError",
     "evalue": "invalid syntax (2044391435.py, line 1)",
     "output_type": "error",
     "traceback": [
      "\u001b[1;36m  Cell \u001b[1;32mIn[401], line 1\u001b[1;36m\u001b[0m\n\u001b[1;33m    x[]1\u001b[0m\n\u001b[1;37m      ^\u001b[0m\n\u001b[1;31mSyntaxError\u001b[0m\u001b[1;31m:\u001b[0m invalid syntax\n"
     ]
    }
   ],
   "source": [
    "x[]1"
   ]
  },
  {
   "cell_type": "code",
   "execution_count": 402,
   "id": "351c92a2-55ac-4c1f-ad16-8156158fef12",
   "metadata": {},
   "outputs": [
    {
     "data": {
      "text/plain": [
       "' '"
      ]
     },
     "execution_count": 402,
     "metadata": {},
     "output_type": "execute_result"
    }
   ],
   "source": [
    "x[1]"
   ]
  },
  {
   "cell_type": "code",
   "execution_count": 403,
   "id": "dd53d253-78c8-4740-90be-84a468b726a0",
   "metadata": {},
   "outputs": [
    {
     "data": {
      "text/plain": [
       "'a'"
      ]
     },
     "execution_count": 403,
     "metadata": {},
     "output_type": "execute_result"
    }
   ],
   "source": [
    "x[0]"
   ]
  },
  {
   "cell_type": "code",
   "execution_count": 404,
   "id": "d37ce133-5843-44d6-bdc6-40ce359ecfe5",
   "metadata": {},
   "outputs": [
    {
     "data": {
      "text/plain": [
       "' '"
      ]
     },
     "execution_count": 404,
     "metadata": {},
     "output_type": "execute_result"
    }
   ],
   "source": [
    "x[5]"
   ]
  },
  {
   "cell_type": "code",
   "execution_count": 405,
   "id": "2962652e-bdc9-4dc6-b82b-d9f3a1c752a0",
   "metadata": {},
   "outputs": [],
   "source": [
    "z=\"   \""
   ]
  },
  {
   "cell_type": "code",
   "execution_count": 406,
   "id": "08eefecf-6c2b-4cc8-9029-3a96e845b8b9",
   "metadata": {},
   "outputs": [
    {
     "data": {
      "text/plain": [
       "3"
      ]
     },
     "execution_count": 406,
     "metadata": {},
     "output_type": "execute_result"
    }
   ],
   "source": [
    "len(z)"
   ]
  },
  {
   "cell_type": "code",
   "execution_count": 407,
   "id": "5a2c9d1f-cd7b-4d2a-abef-b98266afa66d",
   "metadata": {},
   "outputs": [
    {
     "data": {
      "text/plain": [
       "['', '  ']"
      ]
     },
     "execution_count": 407,
     "metadata": {},
     "output_type": "execute_result"
    }
   ],
   "source": [
    "z.split(\" \",1)"
   ]
  },
  {
   "cell_type": "code",
   "execution_count": 408,
   "id": "c2399e98-2701-4d32-81fe-5b7411a488e5",
   "metadata": {},
   "outputs": [
    {
     "data": {
      "text/plain": [
       "2"
      ]
     },
     "execution_count": 408,
     "metadata": {},
     "output_type": "execute_result"
    }
   ],
   "source": [
    "p=\"  \"\n",
    "len(p)"
   ]
  },
  {
   "cell_type": "code",
   "execution_count": 409,
   "id": "f686fe63-0785-454c-9a9f-5bf039aab96b",
   "metadata": {},
   "outputs": [],
   "source": [
    "x=\"himanshu\""
   ]
  },
  {
   "cell_type": "code",
   "execution_count": 410,
   "id": "3805fe07-3f9d-4442-8c05-8f9039731fdc",
   "metadata": {},
   "outputs": [
    {
     "name": "stdout",
     "output_type": "stream",
     "text": [
      "h\n",
      "i\n",
      "m\n",
      "a\n",
      "n\n",
      "s\n",
      "h\n",
      "u\n"
     ]
    }
   ],
   "source": [
    "for i in x:\n",
    "    print(i)"
   ]
  },
  {
   "cell_type": "code",
   "execution_count": 411,
   "id": "22e6e34e-21be-4770-906a-e024d064a736",
   "metadata": {},
   "outputs": [
    {
     "name": "stdout",
     "output_type": "stream",
     "text": [
      "himanshu\n",
      "ambuj\n",
      "shivam\n",
      "2\n",
      "True\n"
     ]
    }
   ],
   "source": [
    "y=['himanshu','ambuj','shivam',2,True,]\n",
    "for i in y:\n",
    "    print(i)"
   ]
  },
  {
   "cell_type": "code",
   "execution_count": 412,
   "id": "b63a883b-cf24-417e-8dc6-40fcdcd88308",
   "metadata": {},
   "outputs": [],
   "source": [
    "p=123456"
   ]
  },
  {
   "cell_type": "code",
   "execution_count": 413,
   "id": "bee79ada-4cf6-439b-8662-a51b5970ad02",
   "metadata": {},
   "outputs": [
    {
     "ename": "TypeError",
     "evalue": "'int' object is not iterable",
     "output_type": "error",
     "traceback": [
      "\u001b[1;31m---------------------------------------------------------------------------\u001b[0m",
      "\u001b[1;31mTypeError\u001b[0m                                 Traceback (most recent call last)",
      "Cell \u001b[1;32mIn[413], line 1\u001b[0m\n\u001b[1;32m----> 1\u001b[0m \u001b[38;5;28;43;01mfor\u001b[39;49;00m\u001b[43m \u001b[49m\u001b[43mi\u001b[49m\u001b[43m \u001b[49m\u001b[38;5;129;43;01min\u001b[39;49;00m\u001b[43m \u001b[49m\u001b[43mp\u001b[49m\u001b[43m:\u001b[49m\n\u001b[0;32m      2\u001b[0m \u001b[43m    \u001b[49m\u001b[38;5;28;43mprint\u001b[39;49m\u001b[43m(\u001b[49m\u001b[43mi\u001b[49m\u001b[43m)\u001b[49m\n",
      "\u001b[1;31mTypeError\u001b[0m: 'int' object is not iterable"
     ]
    }
   ],
   "source": [
    "for i in p:\n",
    "    print(i)"
   ]
  },
  {
   "cell_type": "markdown",
   "id": "16546c4d-cac2-45bc-b375-daa37d18b457",
   "metadata": {},
   "source": [
    "'int' object is not iterable\n"
   ]
  },
  {
   "cell_type": "code",
   "execution_count": 414,
   "id": "db625769-aa74-4888-b741-5a05c0f547a1",
   "metadata": {},
   "outputs": [
    {
     "name": "stdout",
     "output_type": "stream",
     "text": [
      "shekhar is found in the list\n"
     ]
    }
   ],
   "source": [
    "list=['himanshu','ambuj','shivam','ayush','divanshu','shekhar']\n",
    "is_shekhar=False\n",
    "for i in list:\n",
    "    if i=='shekhar':\n",
    "        is_shekhar=True\n",
    "        print('shekhar is found in the list')\n",
    "        break\n",
    "if is_shekhar==False:\n",
    "    print('shekhar not found')"
   ]
  },
  {
   "cell_type": "code",
   "execution_count": 415,
   "id": "72e2a870-95d4-4f55-8b66-571c8b050f2c",
   "metadata": {},
   "outputs": [
    {
     "name": "stdout",
     "output_type": "stream",
     "text": [
      "element is in the list\n"
     ]
    }
   ],
   "source": [
    "p=[2,5,36,58,96,45,1,24,122,35,65,152,632,563,25,4,85,5,8,9,6,54,5524,54,12,5,455555,55555,111111111]\n",
    "lb=1\n",
    "ub=111111111\n",
    "for i in p:\n",
    "    if i<lb or i>ub:\n",
    "        print('element is not in the list')\n",
    "        break\n",
    "else:\n",
    "    print('element is in the list')"
   ]
  },
  {
   "cell_type": "code",
   "execution_count": 416,
   "id": "7ce08e01-0345-4d29-b434-7b2620b1ba09",
   "metadata": {},
   "outputs": [
    {
     "name": "stdout",
     "output_type": "stream",
     "text": [
      "element is not in the list\n"
     ]
    }
   ],
   "source": [
    "u=[2,5,36,58,96,45,1,24,122,35,65,152,632,563,25,4,85,5,8,9,6,54,5524,54,12,5,455555,55555,1111111111]\n",
    "lb=1\n",
    "ub=111111111\n",
    "for i in u:\n",
    "    if i<lb or i>ub:\n",
    "        print('element is not in the list')\n",
    "        break\n",
    "else:\n",
    "    print('element is in the list')"
   ]
  },
  {
   "cell_type": "code",
   "execution_count": 417,
   "id": "551c9d14-25ab-4d6a-86fc-b78c39d5f14f",
   "metadata": {},
   "outputs": [],
   "source": [
    "x=range(12)"
   ]
  },
  {
   "cell_type": "code",
   "execution_count": 418,
   "id": "19db2867-17cd-4ab2-a4bc-6b07c5302e25",
   "metadata": {},
   "outputs": [
    {
     "name": "stdout",
     "output_type": "stream",
     "text": [
      "range(0, 12)\n"
     ]
    }
   ],
   "source": [
    "print(x)"
   ]
  },
  {
   "cell_type": "code",
   "execution_count": 419,
   "id": "b9974bd4-19d7-452e-826f-c7a849cf87a0",
   "metadata": {},
   "outputs": [
    {
     "ename": "TypeError",
     "evalue": "'list' object is not callable",
     "output_type": "error",
     "traceback": [
      "\u001b[1;31m---------------------------------------------------------------------------\u001b[0m",
      "\u001b[1;31mTypeError\u001b[0m                                 Traceback (most recent call last)",
      "Cell \u001b[1;32mIn[419], line 1\u001b[0m\n\u001b[1;32m----> 1\u001b[0m \u001b[38;5;28;43mlist\u001b[39;49m\u001b[43m(\u001b[49m\u001b[43mx\u001b[49m\u001b[43m)\u001b[49m\n",
      "\u001b[1;31mTypeError\u001b[0m: 'list' object is not callable"
     ]
    }
   ],
   "source": [
    "list(x)"
   ]
  },
  {
   "cell_type": "code",
   "execution_count": 420,
   "id": "cf89ec6a-cf98-45c0-95f3-38189b22ec2e",
   "metadata": {},
   "outputs": [
    {
     "name": "stdout",
     "output_type": "stream",
     "text": [
      "range(0, 12)\n"
     ]
    },
    {
     "ename": "TypeError",
     "evalue": "'list' object is not callable",
     "output_type": "error",
     "traceback": [
      "\u001b[1;31m---------------------------------------------------------------------------\u001b[0m",
      "\u001b[1;31mTypeError\u001b[0m                                 Traceback (most recent call last)",
      "Cell \u001b[1;32mIn[420], line 3\u001b[0m\n\u001b[0;32m      1\u001b[0m x\u001b[38;5;241m=\u001b[39m\u001b[38;5;28mrange\u001b[39m(\u001b[38;5;241m12\u001b[39m)\n\u001b[0;32m      2\u001b[0m \u001b[38;5;28mprint\u001b[39m(x)\n\u001b[1;32m----> 3\u001b[0m \u001b[38;5;28;43mlist\u001b[39;49m\u001b[43m(\u001b[49m\u001b[43mx\u001b[49m\u001b[43m)\u001b[49m\n",
      "\u001b[1;31mTypeError\u001b[0m: 'list' object is not callable"
     ]
    }
   ],
   "source": [
    "x=range(12)\n",
    "print(x)\n",
    "list(x)"
   ]
  },
  {
   "cell_type": "code",
   "execution_count": 421,
   "id": "9847a482-4c21-4a22-bbd0-cf1bd2b099c5",
   "metadata": {},
   "outputs": [
    {
     "ename": "TypeError",
     "evalue": "'list' object is not callable",
     "output_type": "error",
     "traceback": [
      "\u001b[1;31m---------------------------------------------------------------------------\u001b[0m",
      "\u001b[1;31mTypeError\u001b[0m                                 Traceback (most recent call last)",
      "Cell \u001b[1;32mIn[421], line 2\u001b[0m\n\u001b[0;32m      1\u001b[0m a\u001b[38;5;241m=\u001b[39m\u001b[38;5;28mrange\u001b[39m(\u001b[38;5;241m8\u001b[39m)\n\u001b[1;32m----> 2\u001b[0m \u001b[38;5;28;43mlist\u001b[39;49m\u001b[43m(\u001b[49m\u001b[43ma\u001b[49m\u001b[43m)\u001b[49m\n",
      "\u001b[1;31mTypeError\u001b[0m: 'list' object is not callable"
     ]
    }
   ],
   "source": [
    "a=range(8)\n",
    "list(a)"
   ]
  },
  {
   "cell_type": "code",
   "execution_count": 422,
   "id": "45a64f26-3eb9-4add-905f-269b282b183b",
   "metadata": {},
   "outputs": [],
   "source": [
    "int=5\n"
   ]
  },
  {
   "cell_type": "code",
   "execution_count": 423,
   "id": "31c800b6-ebb4-47f4-b520-5c3418be1696",
   "metadata": {},
   "outputs": [
    {
     "name": "stdout",
     "output_type": "stream",
     "text": [
      "5\n"
     ]
    }
   ],
   "source": [
    "print(int)"
   ]
  },
  {
   "cell_type": "code",
   "execution_count": 424,
   "id": "c31e36d5-6f98-42aa-b484-1e2a3db84da4",
   "metadata": {},
   "outputs": [],
   "source": [
    "g=5.7"
   ]
  },
  {
   "cell_type": "code",
   "execution_count": 425,
   "id": "1717b283-3dfa-4160-b6f1-f6e3846652dc",
   "metadata": {},
   "outputs": [
    {
     "ename": "TypeError",
     "evalue": "'int' object is not callable",
     "output_type": "error",
     "traceback": [
      "\u001b[1;31m---------------------------------------------------------------------------\u001b[0m",
      "\u001b[1;31mTypeError\u001b[0m                                 Traceback (most recent call last)",
      "Cell \u001b[1;32mIn[425], line 1\u001b[0m\n\u001b[1;32m----> 1\u001b[0m \u001b[38;5;28;43mint\u001b[39;49m\u001b[43m(\u001b[49m\u001b[43mg\u001b[49m\u001b[43m)\u001b[49m\n",
      "\u001b[1;31mTypeError\u001b[0m: 'int' object is not callable"
     ]
    }
   ],
   "source": [
    "int(g)"
   ]
  },
  {
   "cell_type": "code",
   "execution_count": 426,
   "id": "689b60ea-ec27-4a3a-8ebb-2cf5d59f6641",
   "metadata": {},
   "outputs": [],
   "source": [
    "j=5"
   ]
  },
  {
   "cell_type": "code",
   "execution_count": 427,
   "id": "0201dbb8-5ff8-4ba1-ab2a-df7adb1c8135",
   "metadata": {},
   "outputs": [
    {
     "data": {
      "text/plain": [
       "5.0"
      ]
     },
     "execution_count": 427,
     "metadata": {},
     "output_type": "execute_result"
    }
   ],
   "source": [
    "float(j)"
   ]
  },
  {
   "cell_type": "code",
   "execution_count": 428,
   "id": "d380e6ba-2d13-4ef1-aced-0b574f42f122",
   "metadata": {},
   "outputs": [
    {
     "data": {
      "text/plain": [
       "5"
      ]
     },
     "execution_count": 428,
     "metadata": {},
     "output_type": "execute_result"
    }
   ],
   "source": [
    "int"
   ]
  },
  {
   "cell_type": "code",
   "execution_count": 429,
   "id": "10bde0bb-5606-4c82-aa92-dbb9f6978c4b",
   "metadata": {},
   "outputs": [
    {
     "data": {
      "text/plain": [
       "float"
      ]
     },
     "execution_count": 429,
     "metadata": {},
     "output_type": "execute_result"
    }
   ],
   "source": [
    "float"
   ]
  },
  {
   "cell_type": "code",
   "execution_count": 430,
   "id": "f42183c8-82d0-41ed-beb3-7d103a07a3f2",
   "metadata": {},
   "outputs": [
    {
     "ename": "SyntaxError",
     "evalue": "invalid syntax (1587073378.py, line 1)",
     "output_type": "error",
     "traceback": [
      "\u001b[1;36m  Cell \u001b[1;32mIn[430], line 1\u001b[1;36m\u001b[0m\n\u001b[1;33m    if=5\u001b[0m\n\u001b[1;37m      ^\u001b[0m\n\u001b[1;31mSyntaxError\u001b[0m\u001b[1;31m:\u001b[0m invalid syntax\n"
     ]
    }
   ],
   "source": [
    "if=5"
   ]
  },
  {
   "cell_type": "code",
   "execution_count": 431,
   "id": "0cf888ab-704d-40c4-bfd2-70e4c201a179",
   "metadata": {},
   "outputs": [],
   "source": [
    "int=5"
   ]
  },
  {
   "cell_type": "code",
   "execution_count": 432,
   "id": "38309984-74f1-4b4b-9732-bce9babc49f7",
   "metadata": {},
   "outputs": [
    {
     "data": {
      "text/plain": [
       "float"
      ]
     },
     "execution_count": 432,
     "metadata": {},
     "output_type": "execute_result"
    }
   ],
   "source": [
    "float\n"
   ]
  },
  {
   "cell_type": "code",
   "execution_count": 433,
   "id": "4058000d-6c6c-49c1-b44d-11ef1824b632",
   "metadata": {},
   "outputs": [
    {
     "ename": "SyntaxError",
     "evalue": "invalid syntax (2891285264.py, line 1)",
     "output_type": "error",
     "traceback": [
      "\u001b[1;36m  Cell \u001b[1;32mIn[433], line 1\u001b[1;36m\u001b[0m\n\u001b[1;33m    not=5\u001b[0m\n\u001b[1;37m       ^\u001b[0m\n\u001b[1;31mSyntaxError\u001b[0m\u001b[1;31m:\u001b[0m invalid syntax\n"
     ]
    }
   ],
   "source": [
    "not=5"
   ]
  },
  {
   "cell_type": "code",
   "execution_count": 434,
   "id": "49baadbf-3b4a-4621-bbb5-21ccf534d5cf",
   "metadata": {},
   "outputs": [],
   "source": [
    "KeyError=5"
   ]
  },
  {
   "cell_type": "code",
   "execution_count": 435,
   "id": "e4ad61c1-17e4-45b7-9164-38dbe72e23d8",
   "metadata": {},
   "outputs": [
    {
     "data": {
      "text/plain": [
       "5"
      ]
     },
     "execution_count": 435,
     "metadata": {},
     "output_type": "execute_result"
    }
   ],
   "source": [
    "KeyError"
   ]
  },
  {
   "cell_type": "code",
   "execution_count": 436,
   "id": "94680d9d-c2c4-465b-9ede-d89a84d9958f",
   "metadata": {},
   "outputs": [
    {
     "name": "stdout",
     "output_type": "stream",
     "text": [
      "range(0, 12)\n"
     ]
    },
    {
     "ename": "TypeError",
     "evalue": "'list' object is not callable",
     "output_type": "error",
     "traceback": [
      "\u001b[1;31m---------------------------------------------------------------------------\u001b[0m",
      "\u001b[1;31mTypeError\u001b[0m                                 Traceback (most recent call last)",
      "Cell \u001b[1;32mIn[436], line 3\u001b[0m\n\u001b[0;32m      1\u001b[0m x\u001b[38;5;241m=\u001b[39m\u001b[38;5;28mrange\u001b[39m(\u001b[38;5;241m12\u001b[39m)\n\u001b[0;32m      2\u001b[0m \u001b[38;5;28mprint\u001b[39m(x)\n\u001b[1;32m----> 3\u001b[0m \u001b[38;5;28;43mlist\u001b[39;49m\u001b[43m(\u001b[49m\u001b[43mx\u001b[49m\u001b[43m)\u001b[49m\n",
      "\u001b[1;31mTypeError\u001b[0m: 'list' object is not callable"
     ]
    }
   ],
   "source": [
    "x=range(12)\n",
    "print(x)\n",
    "list(x)"
   ]
  },
  {
   "cell_type": "code",
   "execution_count": 437,
   "id": "c2811e98-457a-4ca4-b8ec-9b1d1f64d5a8",
   "metadata": {},
   "outputs": [],
   "source": [
    "p=[67,9,0,8,9,8,9,8,9,999999,7876767788,766788987786767,97889897878,789789,8977898,67,8,7,7]"
   ]
  },
  {
   "cell_type": "code",
   "execution_count": 438,
   "id": "8a3dd84d-8b0f-4e1a-96e1-c28cd87ab317",
   "metadata": {},
   "outputs": [
    {
     "data": {
      "text/plain": [
       "[67,\n",
       " 9,\n",
       " 0,\n",
       " 8,\n",
       " 9,\n",
       " 8,\n",
       " 9,\n",
       " 8,\n",
       " 9,\n",
       " 999999,\n",
       " 7876767788,\n",
       " 766788987786767,\n",
       " 97889897878,\n",
       " 789789,\n",
       " 8977898,\n",
       " 67,\n",
       " 8,\n",
       " 7,\n",
       " 7]"
      ]
     },
     "execution_count": 438,
     "metadata": {},
     "output_type": "execute_result"
    }
   ],
   "source": [
    "p"
   ]
  },
  {
   "cell_type": "code",
   "execution_count": 439,
   "id": "af129c65-3fd2-4bcc-860d-307e4da66914",
   "metadata": {},
   "outputs": [],
   "source": [
    "h=[1,1,1,1,1,1,1,1,1,1,1,1,1,1,1,1,1]"
   ]
  },
  {
   "cell_type": "code",
   "execution_count": 440,
   "id": "3ea9f3e3-bdd7-4800-98c5-17c3d50d58d2",
   "metadata": {},
   "outputs": [
    {
     "data": {
      "text/plain": [
       "[1, 1, 1, 1, 1, 1, 1, 1, 1, 1, 1, 1, 1, 1, 1, 1, 1]"
      ]
     },
     "execution_count": 440,
     "metadata": {},
     "output_type": "execute_result"
    }
   ],
   "source": [
    "h"
   ]
  },
  {
   "cell_type": "code",
   "execution_count": 441,
   "id": "88d56dc7-d8db-475c-bbd1-5973042733bb",
   "metadata": {},
   "outputs": [],
   "source": [
    "list=False"
   ]
  },
  {
   "cell_type": "code",
   "execution_count": 442,
   "id": "ace748d3-a774-429f-a924-9fa8114cc4f6",
   "metadata": {},
   "outputs": [
    {
     "data": {
      "text/plain": [
       "False"
      ]
     },
     "execution_count": 442,
     "metadata": {},
     "output_type": "execute_result"
    }
   ],
   "source": [
    "list"
   ]
  },
  {
   "cell_type": "code",
   "execution_count": 443,
   "id": "ac93e513-ec05-4ef6-9569-8dde5ecdcfa8",
   "metadata": {},
   "outputs": [
    {
     "name": "stdout",
     "output_type": "stream",
     "text": [
      "range(0, 12)\n"
     ]
    },
    {
     "ename": "TypeError",
     "evalue": "'bool' object is not callable",
     "output_type": "error",
     "traceback": [
      "\u001b[1;31m---------------------------------------------------------------------------\u001b[0m",
      "\u001b[1;31mTypeError\u001b[0m                                 Traceback (most recent call last)",
      "Cell \u001b[1;32mIn[443], line 3\u001b[0m\n\u001b[0;32m      1\u001b[0m x\u001b[38;5;241m=\u001b[39m\u001b[38;5;28mrange\u001b[39m(\u001b[38;5;241m12\u001b[39m)\n\u001b[0;32m      2\u001b[0m \u001b[38;5;28mprint\u001b[39m(x)\n\u001b[1;32m----> 3\u001b[0m \u001b[38;5;28;43mlist\u001b[39;49m\u001b[43m(\u001b[49m\u001b[43mx\u001b[49m\u001b[43m)\u001b[49m\n",
      "\u001b[1;31mTypeError\u001b[0m: 'bool' object is not callable"
     ]
    }
   ],
   "source": [
    "x=range(12)\n",
    "print(x)\n",
    "list(x)"
   ]
  },
  {
   "cell_type": "code",
   "execution_count": 444,
   "id": "50e7df8c-4012-48f6-8439-6b94fade2688",
   "metadata": {},
   "outputs": [],
   "source": [
    "range=7"
   ]
  },
  {
   "cell_type": "code",
   "execution_count": 445,
   "id": "aeae0f0f-8f40-4957-9880-f410bd8e3bb1",
   "metadata": {},
   "outputs": [
    {
     "ename": "TypeError",
     "evalue": "'int' object is not callable",
     "output_type": "error",
     "traceback": [
      "\u001b[1;31m---------------------------------------------------------------------------\u001b[0m",
      "\u001b[1;31mTypeError\u001b[0m                                 Traceback (most recent call last)",
      "Cell \u001b[1;32mIn[445], line 1\u001b[0m\n\u001b[1;32m----> 1\u001b[0m t\u001b[38;5;241m=\u001b[39m\u001b[38;5;28;43mrange\u001b[39;49m\u001b[43m(\u001b[49m\u001b[38;5;241;43m9\u001b[39;49m\u001b[43m)\u001b[49m\n",
      "\u001b[1;31mTypeError\u001b[0m: 'int' object is not callable"
     ]
    }
   ],
   "source": [
    "t=range(9)"
   ]
  },
  {
   "cell_type": "code",
   "execution_count": 446,
   "id": "e577cea5-a3fa-4299-95c2-42b0555b751f",
   "metadata": {},
   "outputs": [],
   "source": [
    "b=6.78"
   ]
  },
  {
   "cell_type": "code",
   "execution_count": 447,
   "id": "60db8e68-155b-47c7-9895-336b4b38c582",
   "metadata": {},
   "outputs": [
    {
     "ename": "TypeError",
     "evalue": "'int' object is not callable",
     "output_type": "error",
     "traceback": [
      "\u001b[1;31m---------------------------------------------------------------------------\u001b[0m",
      "\u001b[1;31mTypeError\u001b[0m                                 Traceback (most recent call last)",
      "Cell \u001b[1;32mIn[447], line 1\u001b[0m\n\u001b[1;32m----> 1\u001b[0m p\u001b[38;5;241m=\u001b[39m\u001b[38;5;28;43mint\u001b[39;49m\u001b[43m(\u001b[49m\u001b[43mb\u001b[49m\u001b[43m)\u001b[49m\n",
      "\u001b[1;31mTypeError\u001b[0m: 'int' object is not callable"
     ]
    }
   ],
   "source": [
    "p=int(b)"
   ]
  },
  {
   "cell_type": "code",
   "execution_count": 448,
   "id": "f45fa33f-cd9a-4ff6-a2ee-2ac8453f2207",
   "metadata": {},
   "outputs": [
    {
     "data": {
      "text/plain": [
       "6.78"
      ]
     },
     "execution_count": 448,
     "metadata": {},
     "output_type": "execute_result"
    }
   ],
   "source": [
    "b"
   ]
  },
  {
   "cell_type": "code",
   "execution_count": 449,
   "id": "05f60142-0136-454a-aba7-56ac45b8bd70",
   "metadata": {},
   "outputs": [
    {
     "data": {
      "text/plain": [
       "[67,\n",
       " 9,\n",
       " 0,\n",
       " 8,\n",
       " 9,\n",
       " 8,\n",
       " 9,\n",
       " 8,\n",
       " 9,\n",
       " 999999,\n",
       " 7876767788,\n",
       " 766788987786767,\n",
       " 97889897878,\n",
       " 789789,\n",
       " 8977898,\n",
       " 67,\n",
       " 8,\n",
       " 7,\n",
       " 7]"
      ]
     },
     "execution_count": 449,
     "metadata": {},
     "output_type": "execute_result"
    }
   ],
   "source": [
    "p"
   ]
  },
  {
   "cell_type": "code",
   "execution_count": 450,
   "id": "0dce6ec7-bb00-459f-bee6-bf0236c964ad",
   "metadata": {},
   "outputs": [],
   "source": [
    "del list"
   ]
  },
  {
   "cell_type": "code",
   "execution_count": 451,
   "id": "b6c1d7bd-84be-4fc6-a74a-413e40695b8d",
   "metadata": {},
   "outputs": [
    {
     "ename": "TypeError",
     "evalue": "'int' object is not callable",
     "output_type": "error",
     "traceback": [
      "\u001b[1;31m---------------------------------------------------------------------------\u001b[0m",
      "\u001b[1;31mTypeError\u001b[0m                                 Traceback (most recent call last)",
      "Cell \u001b[1;32mIn[451], line 1\u001b[0m\n\u001b[1;32m----> 1\u001b[0m x\u001b[38;5;241m=\u001b[39m\u001b[38;5;28;43mrange\u001b[39;49m\u001b[43m(\u001b[49m\u001b[38;5;241;43m12\u001b[39;49m\u001b[43m)\u001b[49m\n\u001b[0;32m      2\u001b[0m \u001b[38;5;28mprint\u001b[39m(x)\n\u001b[0;32m      3\u001b[0m \u001b[38;5;28mlist\u001b[39m(x)\n",
      "\u001b[1;31mTypeError\u001b[0m: 'int' object is not callable"
     ]
    }
   ],
   "source": [
    "x=range(12)\n",
    "print(x)\n",
    "list(x)"
   ]
  },
  {
   "cell_type": "code",
   "execution_count": 452,
   "id": "052a6f03-0a72-4f5e-9827-2955778956d2",
   "metadata": {},
   "outputs": [
    {
     "data": {
      "text/plain": [
       "list"
      ]
     },
     "execution_count": 452,
     "metadata": {},
     "output_type": "execute_result"
    }
   ],
   "source": [
    "list"
   ]
  },
  {
   "cell_type": "code",
   "execution_count": 453,
   "id": "58ff986b-e428-44cb-8bdb-0c37d297ded8",
   "metadata": {},
   "outputs": [
    {
     "ename": "TypeError",
     "evalue": "'int' object is not callable",
     "output_type": "error",
     "traceback": [
      "\u001b[1;31m---------------------------------------------------------------------------\u001b[0m",
      "\u001b[1;31mTypeError\u001b[0m                                 Traceback (most recent call last)",
      "Cell \u001b[1;32mIn[453], line 1\u001b[0m\n\u001b[1;32m----> 1\u001b[0m x\u001b[38;5;241m=\u001b[39m\u001b[38;5;28;43mrange\u001b[39;49m\u001b[43m(\u001b[49m\u001b[38;5;241;43m12\u001b[39;49m\u001b[43m)\u001b[49m\n\u001b[0;32m      2\u001b[0m \u001b[38;5;28mprint\u001b[39m(x)\n\u001b[0;32m      3\u001b[0m \u001b[38;5;28mlist\u001b[39m(x)\n",
      "\u001b[1;31mTypeError\u001b[0m: 'int' object is not callable"
     ]
    }
   ],
   "source": [
    "x=range(12)\n",
    "print(x)\n",
    "list(x)"
   ]
  },
  {
   "cell_type": "code",
   "execution_count": 454,
   "id": "8c1908cc-fbb7-40ff-b49e-ae7251807a96",
   "metadata": {},
   "outputs": [],
   "source": [
    "del range"
   ]
  },
  {
   "cell_type": "code",
   "execution_count": 455,
   "id": "fceaffa8-6b97-46ad-8c07-61938c28a3c4",
   "metadata": {},
   "outputs": [
    {
     "name": "stdout",
     "output_type": "stream",
     "text": [
      "range(0, 12)\n"
     ]
    },
    {
     "data": {
      "text/plain": [
       "[0, 1, 2, 3, 4, 5, 6, 7, 8, 9, 10, 11]"
      ]
     },
     "execution_count": 455,
     "metadata": {},
     "output_type": "execute_result"
    }
   ],
   "source": [
    "x=range(12)\n",
    "print(x)\n",
    "list(x)"
   ]
  },
  {
   "cell_type": "code",
   "execution_count": 456,
   "id": "58fdbcdd-b4b5-460c-be80-1c14747467a8",
   "metadata": {},
   "outputs": [
    {
     "name": "stdout",
     "output_type": "stream",
     "text": [
      "0\n",
      "1\n",
      "2\n",
      "3\n",
      "4\n",
      "5\n",
      "6\n",
      "7\n",
      "8\n",
      "9\n",
      "10\n",
      "11\n",
      "12\n",
      "13\n",
      "14\n",
      "15\n",
      "16\n",
      "17\n"
     ]
    }
   ],
   "source": [
    "y=range(18)\n",
    "for i in y:\n",
    "    print(i)"
   ]
  },
  {
   "cell_type": "code",
   "execution_count": 457,
   "id": "4e1b20a5-66b1-4577-a50f-f7d92adda9f9",
   "metadata": {},
   "outputs": [
    {
     "name": "stdout",
     "output_type": "stream",
     "text": [
      "17\n"
     ]
    }
   ],
   "source": [
    "print(i)"
   ]
  },
  {
   "cell_type": "code",
   "execution_count": 458,
   "id": "174ba976-51dd-4b61-b0f6-22cb45cceb48",
   "metadata": {},
   "outputs": [
    {
     "name": "stdout",
     "output_type": "stream",
     "text": [
      "1\n",
      "2\n",
      "3\n",
      "4\n",
      "5\n",
      "6\n",
      "7\n",
      "8\n",
      "9\n",
      "10\n",
      "11\n",
      "12\n",
      "13\n",
      "14\n",
      "15\n",
      "16\n",
      "17\n",
      "18\n",
      "19\n",
      "20\n",
      "21\n",
      "22\n"
     ]
    }
   ],
   "source": [
    "t=range(1,23)\n",
    "for i in t:\n",
    "    print(i)"
   ]
  },
  {
   "cell_type": "code",
   "execution_count": 459,
   "id": "cdc2046a-db8d-4c90-8dad-ec76dfd22e00",
   "metadata": {},
   "outputs": [
    {
     "name": "stdout",
     "output_type": "stream",
     "text": [
      "1\n",
      "2\n",
      "3\n",
      "4\n",
      "5\n",
      "6\n",
      "7\n",
      "8\n",
      "9\n",
      "10\n",
      "11\n",
      "12\n",
      "13\n",
      "14\n",
      "15\n",
      "16\n",
      "17\n",
      "18\n",
      "19\n",
      "20\n",
      "21\n",
      "22\n"
     ]
    }
   ],
   "source": [
    "t=range(1,23,1)\n",
    "for i in t:\n",
    "    print(i)"
   ]
  },
  {
   "cell_type": "code",
   "execution_count": 460,
   "id": "d2ecc461-c8b8-443e-83ee-a7365f54aa3c",
   "metadata": {},
   "outputs": [
    {
     "name": "stdout",
     "output_type": "stream",
     "text": [
      "1\n",
      "3\n",
      "5\n",
      "7\n",
      "9\n",
      "11\n",
      "13\n",
      "15\n",
      "17\n",
      "19\n",
      "21\n"
     ]
    }
   ],
   "source": [
    "t=range(1,23,2)\n",
    "for i in t:\n",
    "    print(i)"
   ]
  },
  {
   "cell_type": "code",
   "execution_count": 462,
   "id": "070bb003-4762-4064-b4ff-5ba6144722bf",
   "metadata": {},
   "outputs": [
    {
     "data": {
      "text/plain": [
       "248"
      ]
     },
     "execution_count": 462,
     "metadata": {},
     "output_type": "execute_result"
    }
   ],
   "source": [
    "j"
   ]
  },
  {
   "cell_type": "code",
   "execution_count": 463,
   "id": "a309b0bc-d405-4835-9517-5c7f43559cd4",
   "metadata": {},
   "outputs": [],
   "source": [
    "del j"
   ]
  },
  {
   "cell_type": "code",
   "execution_count": 464,
   "id": "834a9293-045a-4fcf-a0ef-c98bfe51d30e",
   "metadata": {},
   "outputs": [
    {
     "data": {
      "text/plain": [
       "499"
      ]
     },
     "execution_count": 464,
     "metadata": {},
     "output_type": "execute_result"
    }
   ],
   "source": [
    "i"
   ]
  },
  {
   "cell_type": "code",
   "execution_count": 465,
   "id": "24223b87-d296-47cd-af6a-48bbc9afc056",
   "metadata": {},
   "outputs": [
    {
     "ename": "NameError",
     "evalue": "name 'j' is not defined",
     "output_type": "error",
     "traceback": [
      "\u001b[1;31m---------------------------------------------------------------------------\u001b[0m",
      "\u001b[1;31mNameError\u001b[0m                                 Traceback (most recent call last)",
      "Cell \u001b[1;32mIn[465], line 1\u001b[0m\n\u001b[1;32m----> 1\u001b[0m \u001b[43mj\u001b[49m\n",
      "\u001b[1;31mNameError\u001b[0m: name 'j' is not defined"
     ]
    }
   ],
   "source": [
    "j"
   ]
  },
  {
   "cell_type": "code",
   "execution_count": 466,
   "id": "eb7df723-6cf2-4299-8483-a3386f57d94f",
   "metadata": {},
   "outputs": [],
   "source": [
    "i=5"
   ]
  },
  {
   "cell_type": "code",
   "execution_count": 467,
   "id": "2d28ef02-4285-43b6-8567-9cc4c5e1ee35",
   "metadata": {},
   "outputs": [],
   "source": [
    "j=range(15)"
   ]
  },
  {
   "cell_type": "code",
   "execution_count": 468,
   "id": "b3090ef4-b3cb-40f9-9b8d-b37cb6181760",
   "metadata": {},
   "outputs": [
    {
     "name": "stdout",
     "output_type": "stream",
     "text": [
      "0\n",
      "1\n",
      "2\n",
      "3\n",
      "4\n",
      "5\n",
      "6\n",
      "7\n",
      "8\n",
      "9\n",
      "10\n",
      "11\n",
      "12\n",
      "13\n",
      "14\n"
     ]
    }
   ],
   "source": [
    "for i in j:\n",
    "    print(i)"
   ]
  },
  {
   "cell_type": "code",
   "execution_count": 469,
   "id": "91838152-4e89-4ea1-8c40-9e6f7955dedb",
   "metadata": {},
   "outputs": [],
   "source": [
    "p=range(-67)"
   ]
  },
  {
   "cell_type": "code",
   "execution_count": 470,
   "id": "b989306c-3769-4dd1-b9c1-48f5dc8a973f",
   "metadata": {},
   "outputs": [
    {
     "data": {
      "text/plain": [
       "range(0, -67)"
      ]
     },
     "execution_count": 470,
     "metadata": {},
     "output_type": "execute_result"
    }
   ],
   "source": [
    "p"
   ]
  },
  {
   "cell_type": "code",
   "execution_count": 471,
   "id": "ab0b2d89-ac5f-49af-aee8-29b7e6f2c2cd",
   "metadata": {},
   "outputs": [],
   "source": [
    "for i in p:\n",
    "    print(i)"
   ]
  },
  {
   "cell_type": "code",
   "execution_count": 472,
   "id": "6213d21e-4458-47c2-b063-0ae6840680eb",
   "metadata": {},
   "outputs": [
    {
     "data": {
      "text/plain": [
       "[]"
      ]
     },
     "execution_count": 472,
     "metadata": {},
     "output_type": "execute_result"
    }
   ],
   "source": [
    "list(p)"
   ]
  },
  {
   "cell_type": "code",
   "execution_count": 473,
   "id": "de46bd68-4968-44dc-97e3-027f7fe2db55",
   "metadata": {},
   "outputs": [],
   "source": [
    "p=range(0)"
   ]
  },
  {
   "cell_type": "code",
   "execution_count": 474,
   "id": "ddae69ad-a4e7-4a68-9a73-a16fa4d08994",
   "metadata": {},
   "outputs": [],
   "source": [
    "p=range(1)"
   ]
  },
  {
   "cell_type": "code",
   "execution_count": 475,
   "id": "62f57434-64d2-406f-ad6c-150790511fa5",
   "metadata": {},
   "outputs": [
    {
     "data": {
      "text/plain": [
       "range(0, 1)"
      ]
     },
     "execution_count": 475,
     "metadata": {},
     "output_type": "execute_result"
    }
   ],
   "source": [
    "p"
   ]
  },
  {
   "cell_type": "code",
   "execution_count": 476,
   "id": "25960545-991c-4774-8cb3-ab3a297f4fdf",
   "metadata": {},
   "outputs": [
    {
     "data": {
      "text/plain": [
       "[0]"
      ]
     },
     "execution_count": 476,
     "metadata": {},
     "output_type": "execute_result"
    }
   ],
   "source": [
    "list(p)"
   ]
  },
  {
   "cell_type": "code",
   "execution_count": 477,
   "id": "cb237ee0-e1c6-4ab7-a04d-3eef55e53a0a",
   "metadata": {},
   "outputs": [],
   "source": [
    "p=range(10,18,-2)"
   ]
  },
  {
   "cell_type": "code",
   "execution_count": 478,
   "id": "60a36f1e-a8a1-447a-b712-7b02742f3b5d",
   "metadata": {},
   "outputs": [
    {
     "data": {
      "text/plain": [
       "[]"
      ]
     },
     "execution_count": 478,
     "metadata": {},
     "output_type": "execute_result"
    }
   ],
   "source": [
    "list(p)"
   ]
  },
  {
   "cell_type": "code",
   "execution_count": 479,
   "id": "782793a8-44de-4b99-a989-b25b3aeb38cb",
   "metadata": {},
   "outputs": [
    {
     "name": "stdout",
     "output_type": "stream",
     "text": [
      "range(10, 18, -2)\n"
     ]
    }
   ],
   "source": [
    "print(p)"
   ]
  },
  {
   "cell_type": "code",
   "execution_count": 480,
   "id": "abed47d4-48fb-4dab-836c-78edc93574d3",
   "metadata": {},
   "outputs": [],
   "source": [
    "t=range(3,8,99)"
   ]
  },
  {
   "cell_type": "code",
   "execution_count": 481,
   "id": "7a565df8-3c25-46c6-a127-aed2bf6977d8",
   "metadata": {},
   "outputs": [
    {
     "data": {
      "text/plain": [
       "[3]"
      ]
     },
     "execution_count": 481,
     "metadata": {},
     "output_type": "execute_result"
    }
   ],
   "source": [
    "list(t)"
   ]
  },
  {
   "cell_type": "code",
   "execution_count": 482,
   "id": "b06a302a-dd2d-4298-a74e-81f1d13b6d85",
   "metadata": {},
   "outputs": [],
   "source": [
    "y=range(9,7,-12)"
   ]
  },
  {
   "cell_type": "code",
   "execution_count": 483,
   "id": "084dbc03-a1e0-4287-a730-000c494943a0",
   "metadata": {},
   "outputs": [
    {
     "data": {
      "text/plain": [
       "[9]"
      ]
     },
     "execution_count": 483,
     "metadata": {},
     "output_type": "execute_result"
    }
   ],
   "source": [
    "list(y)"
   ]
  },
  {
   "cell_type": "code",
   "execution_count": 484,
   "id": "46cc24c9-fd31-481b-bbd1-89c081069a76",
   "metadata": {},
   "outputs": [],
   "source": [
    "himanshu=range(1,50)"
   ]
  },
  {
   "cell_type": "code",
   "execution_count": 486,
   "id": "2a337362-758a-4d63-8054-8f27d9dbd7e0",
   "metadata": {},
   "outputs": [
    {
     "name": "stdin",
     "output_type": "stream",
     "text": [
      "enter the number 5\n"
     ]
    },
    {
     "ename": "TypeError",
     "evalue": "'int' object is not callable",
     "output_type": "error",
     "traceback": [
      "\u001b[1;31m---------------------------------------------------------------------------\u001b[0m",
      "\u001b[1;31mTypeError\u001b[0m                                 Traceback (most recent call last)",
      "Cell \u001b[1;32mIn[486], line 1\u001b[0m\n\u001b[1;32m----> 1\u001b[0m number\u001b[38;5;241m=\u001b[39m\u001b[38;5;28;43mint\u001b[39;49m\u001b[43m(\u001b[49m\u001b[38;5;28;43minput\u001b[39;49m\u001b[43m(\u001b[49m\u001b[38;5;124;43m'\u001b[39;49m\u001b[38;5;124;43menter the number\u001b[39;49m\u001b[38;5;124;43m'\u001b[39;49m\u001b[43m)\u001b[49m\u001b[43m)\u001b[49m\n",
      "\u001b[1;31mTypeError\u001b[0m: 'int' object is not callable"
     ]
    }
   ],
   "source": [
    "number=int(input('enter the number'))"
   ]
  },
  {
   "cell_type": "code",
   "execution_count": 487,
   "id": "d116ea80-6ba9-4237-b56b-3088f3db699c",
   "metadata": {},
   "outputs": [
    {
     "name": "stdin",
     "output_type": "stream",
     "text": [
      "enter the number 6\n"
     ]
    },
    {
     "ename": "TypeError",
     "evalue": "'int' object is not callable",
     "output_type": "error",
     "traceback": [
      "\u001b[1;31m---------------------------------------------------------------------------\u001b[0m",
      "\u001b[1;31mTypeError\u001b[0m                                 Traceback (most recent call last)",
      "Cell \u001b[1;32mIn[487], line 1\u001b[0m\n\u001b[1;32m----> 1\u001b[0m number\u001b[38;5;241m=\u001b[39m\u001b[38;5;28;43mint\u001b[39;49m\u001b[43m(\u001b[49m\u001b[38;5;28;43minput\u001b[39;49m\u001b[43m(\u001b[49m\u001b[38;5;124;43m'\u001b[39;49m\u001b[38;5;124;43menter the number\u001b[39;49m\u001b[38;5;124;43m'\u001b[39;49m\u001b[43m)\u001b[49m\u001b[43m)\u001b[49m\n\u001b[0;32m      2\u001b[0m \u001b[38;5;28msum\u001b[39m\u001b[38;5;241m=\u001b[39m\u001b[38;5;241m0\u001b[39m\n\u001b[0;32m      3\u001b[0m \u001b[38;5;28;01mfor\u001b[39;00m i \u001b[38;5;129;01min\u001b[39;00m \u001b[38;5;28mrange\u001b[39m(\u001b[38;5;241m1\u001b[39m,number\u001b[38;5;241m+\u001b[39m\u001b[38;5;241m1\u001b[39m):\n",
      "\u001b[1;31mTypeError\u001b[0m: 'int' object is not callable"
     ]
    }
   ],
   "source": [
    "number=int(input('enter the number'))\n",
    "sum=0\n",
    "for i in range(1,number+1):\n",
    "    sum=sum+i\n",
    "print(sum)"
   ]
  },
  {
   "cell_type": "code",
   "execution_count": 488,
   "id": "66e7661a-86be-447e-8307-fbbeed4ae9eb",
   "metadata": {},
   "outputs": [
    {
     "ename": "NameError",
     "evalue": "name 'number' is not defined",
     "output_type": "error",
     "traceback": [
      "\u001b[1;31m---------------------------------------------------------------------------\u001b[0m",
      "\u001b[1;31mNameError\u001b[0m                                 Traceback (most recent call last)",
      "Cell \u001b[1;32mIn[488], line 1\u001b[0m\n\u001b[1;32m----> 1\u001b[0m \u001b[43mnumber\u001b[49m\n",
      "\u001b[1;31mNameError\u001b[0m: name 'number' is not defined"
     ]
    }
   ],
   "source": [
    "number"
   ]
  },
  {
   "cell_type": "code",
   "execution_count": 489,
   "id": "c108655e-93c1-4aa1-9749-b91d45f23dba",
   "metadata": {},
   "outputs": [],
   "source": [
    "x=12"
   ]
  },
  {
   "cell_type": "code",
   "execution_count": 490,
   "id": "d60dd60e-23ab-4269-9eed-dd3997e45d45",
   "metadata": {},
   "outputs": [],
   "source": [
    "y=range(x)"
   ]
  },
  {
   "cell_type": "code",
   "execution_count": 491,
   "id": "84c6e67a-6d25-49c4-8b2e-4e1d65c7c14c",
   "metadata": {},
   "outputs": [
    {
     "data": {
      "text/plain": [
       "[0, 1, 2, 3, 4, 5, 6, 7, 8, 9, 10, 11]"
      ]
     },
     "execution_count": 491,
     "metadata": {},
     "output_type": "execute_result"
    }
   ],
   "source": [
    "list(y)"
   ]
  },
  {
   "cell_type": "code",
   "execution_count": 492,
   "id": "c04480e8-14d2-46d2-8a9a-63e80800c0d7",
   "metadata": {},
   "outputs": [
    {
     "name": "stdout",
     "output_type": "stream",
     "text": [
      "1\n",
      "h\n",
      "i\n",
      "m\n",
      "a\n",
      "n\n",
      "s\n",
      "h\n",
      "u\n",
      "2\n",
      "h\n",
      "i\n",
      "m\n",
      "a\n",
      "n\n",
      "s\n",
      "h\n",
      "u\n",
      "3\n",
      "h\n",
      "i\n",
      "m\n",
      "a\n",
      "n\n",
      "s\n",
      "h\n",
      "u\n",
      "4\n",
      "h\n",
      "i\n",
      "m\n",
      "a\n",
      "n\n",
      "s\n",
      "h\n",
      "u\n",
      "5\n",
      "h\n",
      "i\n",
      "m\n",
      "a\n",
      "n\n",
      "s\n",
      "h\n",
      "u\n",
      "6\n",
      "h\n",
      "i\n",
      "m\n",
      "a\n",
      "n\n",
      "s\n",
      "h\n",
      "u\n",
      "7\n",
      "h\n",
      "i\n",
      "m\n",
      "a\n",
      "n\n",
      "s\n",
      "h\n",
      "u\n",
      "8\n",
      "h\n",
      "i\n",
      "m\n",
      "a\n",
      "n\n",
      "s\n",
      "h\n",
      "u\n"
     ]
    }
   ],
   "source": [
    "x=[1,2,3,4,5,6,7,8]\n",
    "y=['h','i','m','a','n','s','h','u']\n",
    "for i in x:\n",
    "    print(i)\n",
    "    for i in y:\n",
    "        print(i)"
   ]
  },
  {
   "cell_type": "code",
   "execution_count": 493,
   "id": "8c405303-3c2c-476e-834d-c3e4809e6c55",
   "metadata": {},
   "outputs": [],
   "source": [
    "del h"
   ]
  },
  {
   "cell_type": "code",
   "execution_count": 494,
   "id": "b440d279-f523-4910-b06d-c0b2ea94b7c0",
   "metadata": {},
   "outputs": [
    {
     "ename": "NameError",
     "evalue": "name 'm' is not defined",
     "output_type": "error",
     "traceback": [
      "\u001b[1;31m---------------------------------------------------------------------------\u001b[0m",
      "\u001b[1;31mNameError\u001b[0m                                 Traceback (most recent call last)",
      "Cell \u001b[1;32mIn[494], line 1\u001b[0m\n\u001b[1;32m----> 1\u001b[0m \u001b[38;5;28;01mdel\u001b[39;00m \u001b[43mm\u001b[49m\n",
      "\u001b[1;31mNameError\u001b[0m: name 'm' is not defined"
     ]
    }
   ],
   "source": [
    "del m"
   ]
  },
  {
   "cell_type": "code",
   "execution_count": 495,
   "id": "c4956a5b-dafe-4a84-a27d-d16fe24dcfd7",
   "metadata": {},
   "outputs": [
    {
     "name": "stdout",
     "output_type": "stream",
     "text": [
      "1\n",
      "2\n",
      "3\n",
      "4\n",
      "5\n",
      "6\n",
      "7\n",
      "8\n"
     ]
    }
   ],
   "source": [
    "x=[1,2,3,4,5,6,7,8]\n",
    "for i in x:\n",
    "    print(i)"
   ]
  },
  {
   "cell_type": "code",
   "execution_count": 496,
   "id": "01927d86-7bc9-43ce-b31b-7caf89ff3e42",
   "metadata": {},
   "outputs": [
    {
     "ename": "NameError",
     "evalue": "name 'h' is not defined",
     "output_type": "error",
     "traceback": [
      "\u001b[1;31m---------------------------------------------------------------------------\u001b[0m",
      "\u001b[1;31mNameError\u001b[0m                                 Traceback (most recent call last)",
      "Cell \u001b[1;32mIn[496], line 1\u001b[0m\n\u001b[1;32m----> 1\u001b[0m y\u001b[38;5;241m=\u001b[39m[\u001b[43mh\u001b[49m,i,m,a,n,s,h,u]\n\u001b[0;32m      2\u001b[0m \u001b[38;5;28;01mfor\u001b[39;00m i \u001b[38;5;129;01min\u001b[39;00m y:\n\u001b[0;32m      3\u001b[0m         \u001b[38;5;28mprint\u001b[39m(i)\n",
      "\u001b[1;31mNameError\u001b[0m: name 'h' is not defined"
     ]
    }
   ],
   "source": [
    "y=[h,i,m,a,n,s,h,u]\n",
    "for i in y:\n",
    "        print(i)"
   ]
  },
  {
   "cell_type": "code",
   "execution_count": 497,
   "id": "a84acbef-d9f9-46de-a93c-b7e69df1fef5",
   "metadata": {},
   "outputs": [
    {
     "ename": "NameError",
     "evalue": "name 'h' is not defined",
     "output_type": "error",
     "traceback": [
      "\u001b[1;31m---------------------------------------------------------------------------\u001b[0m",
      "\u001b[1;31mNameError\u001b[0m                                 Traceback (most recent call last)",
      "Cell \u001b[1;32mIn[497], line 1\u001b[0m\n\u001b[1;32m----> 1\u001b[0m \u001b[43mh\u001b[49m\n",
      "\u001b[1;31mNameError\u001b[0m: name 'h' is not defined"
     ]
    }
   ],
   "source": [
    "h"
   ]
  },
  {
   "cell_type": "code",
   "execution_count": 498,
   "id": "171a170a-bce0-467a-9943-1359b0d61a30",
   "metadata": {},
   "outputs": [],
   "source": [
    "x=\"himanshu mishra\""
   ]
  },
  {
   "cell_type": "code",
   "execution_count": 499,
   "id": "1944b778-b785-43d6-b108-ca16f59673d0",
   "metadata": {},
   "outputs": [
    {
     "name": "stdout",
     "output_type": "stream",
     "text": [
      "himanshuQ@mishra\n"
     ]
    }
   ],
   "source": [
    "print(\"himanshu\",\"mishra\",sep=\"Q@\")"
   ]
  },
  {
   "cell_type": "code",
   "execution_count": 500,
   "id": "11df324d-299f-4e53-b699-950b54bcb188",
   "metadata": {},
   "outputs": [
    {
     "name": "stdout",
     "output_type": "stream",
     "text": [
      "***\n",
      "***\n",
      "***\n"
     ]
    }
   ],
   "source": [
    "#for i in range(1,4):\n",
    "for i in range(1,4):\n",
    "        print('***')\n",
    "    "
   ]
  },
  {
   "cell_type": "code",
   "execution_count": 501,
   "id": "277b28dd-f972-4234-8bf4-e31e4244e0cb",
   "metadata": {},
   "outputs": [
    {
     "name": "stdout",
     "output_type": "stream",
     "text": [
      "* * * \n",
      "* * * \n",
      "* * * \n"
     ]
    }
   ],
   "source": [
    "for i in range(1,4):\n",
    "    for i in range(1,4):\n",
    "         print('*',end=' ')\n",
    "    print()"
   ]
  },
  {
   "cell_type": "code",
   "execution_count": 502,
   "id": "54aaf27a-b85c-42a6-a24d-58207f28ab50",
   "metadata": {},
   "outputs": [
    {
     "name": "stdout",
     "output_type": "stream",
     "text": [
      "* * * \n",
      "* * * \n",
      "* * * \n"
     ]
    }
   ],
   "source": [
    "for i in range(1,4):\n",
    "        print('* * * ')"
   ]
  },
  {
   "cell_type": "code",
   "execution_count": 503,
   "id": "5f58bf83-5082-42ce-90df-fd8ffc8fa8d4",
   "metadata": {},
   "outputs": [
    {
     "name": "stdout",
     "output_type": "stream",
     "text": [
      "* * * \n",
      "* * * \n",
      "* * * \n"
     ]
    }
   ],
   "source": [
    " for i in range(1,4):\n",
    "         print('* '*3)"
   ]
  },
  {
   "cell_type": "code",
   "execution_count": 504,
   "id": "035086df-7dea-4775-9b77-74734269d6fb",
   "metadata": {},
   "outputs": [
    {
     "name": "stdout",
     "output_type": "stream",
     "text": [
      "* \n",
      "* * \n",
      "* * * \n",
      "* * * * \n"
     ]
    }
   ],
   "source": [
    "\n",
    "j=1\n",
    "for i in range(4):\n",
    "    for i in range(1):\n",
    "        print('* '*j)\n",
    "        j=j+1\n",
    "        "
   ]
  },
  {
   "cell_type": "code",
   "execution_count": 505,
   "id": "5b7b0bd8-08dd-4726-bcb9-a48ac5fe4cd6",
   "metadata": {},
   "outputs": [
    {
     "name": "stdout",
     "output_type": "stream",
     "text": [
      "*\n",
      "*\n",
      "*\n",
      "*\n",
      "*\n",
      "*\n",
      "*\n",
      "*\n",
      "*\n",
      "*\n",
      "*\n",
      "*\n",
      "*\n",
      "*\n",
      "*\n",
      "*\n",
      "*\n",
      "*\n"
     ]
    }
   ],
   "source": [
    "for i in range(1,n):\n",
    "    print('*')"
   ]
  },
  {
   "cell_type": "code",
   "execution_count": 506,
   "id": "17ef071e-c0b1-442a-b86a-7fca58f9ae80",
   "metadata": {},
   "outputs": [
    {
     "data": {
      "text/plain": [
       "19"
      ]
     },
     "execution_count": 506,
     "metadata": {},
     "output_type": "execute_result"
    }
   ],
   "source": [
    "n"
   ]
  },
  {
   "cell_type": "code",
   "execution_count": 507,
   "id": "45fd72e6-f8fe-4af9-8593-c16706218704",
   "metadata": {},
   "outputs": [],
   "source": [
    "del n"
   ]
  },
  {
   "cell_type": "code",
   "execution_count": 508,
   "id": "e9245819-0b70-43ff-ab16-959e60bedd4f",
   "metadata": {},
   "outputs": [
    {
     "ename": "NameError",
     "evalue": "name 'n' is not defined",
     "output_type": "error",
     "traceback": [
      "\u001b[1;31m---------------------------------------------------------------------------\u001b[0m",
      "\u001b[1;31mNameError\u001b[0m                                 Traceback (most recent call last)",
      "Cell \u001b[1;32mIn[508], line 1\u001b[0m\n\u001b[1;32m----> 1\u001b[0m \u001b[43mn\u001b[49m\n",
      "\u001b[1;31mNameError\u001b[0m: name 'n' is not defined"
     ]
    }
   ],
   "source": [
    "n"
   ]
  },
  {
   "cell_type": "markdown",
   "id": "01311a19-ca5e-4b78-a84c-b4f2959f8fc8",
   "metadata": {},
   "source": [
    "wap to input a number from the user an d print untill user giv einput 0"
   ]
  },
  {
   "cell_type": "code",
   "execution_count": 509,
   "id": "68f5d5c2-a57c-40e3-9f4f-ed5c72bc98d7",
   "metadata": {},
   "outputs": [
    {
     "ename": "KeyboardInterrupt",
     "evalue": "Interrupted by user",
     "output_type": "error",
     "traceback": [
      "\u001b[1;31m---------------------------------------------------------------------------\u001b[0m",
      "\u001b[1;31mKeyboardInterrupt\u001b[0m                         Traceback (most recent call last)",
      "Cell \u001b[1;32mIn[509], line 1\u001b[0m\n\u001b[1;32m----> 1\u001b[0m number\u001b[38;5;241m=\u001b[39m\u001b[38;5;28mint\u001b[39m(\u001b[38;5;28;43minput\u001b[39;49m\u001b[43m(\u001b[49m\u001b[38;5;124;43m\"\u001b[39;49m\u001b[38;5;124;43menter any number\u001b[39;49m\u001b[38;5;124;43m\"\u001b[39;49m\u001b[43m)\u001b[49m)\n\u001b[0;32m      2\u001b[0m \u001b[38;5;28;01mwhile\u001b[39;00m(number):\n\u001b[0;32m      3\u001b[0m     \u001b[38;5;28;01mfor\u001b[39;00m i \u001b[38;5;129;01min\u001b[39;00m \u001b[38;5;28mrange\u001b[39m(\u001b[38;5;241m1\u001b[39m,number\u001b[38;5;241m+\u001b[39m\u001b[38;5;241m1\u001b[39m):\n",
      "File \u001b[1;32m~\\AppData\\Local\\Programs\\Python\\Python312\\Lib\\site-packages\\ipykernel\\kernelbase.py:1261\u001b[0m, in \u001b[0;36mKernel.raw_input\u001b[1;34m(self, prompt)\u001b[0m\n\u001b[0;32m   1259\u001b[0m     msg \u001b[38;5;241m=\u001b[39m \u001b[38;5;124m\"\u001b[39m\u001b[38;5;124mraw_input was called, but this frontend does not support input requests.\u001b[39m\u001b[38;5;124m\"\u001b[39m\n\u001b[0;32m   1260\u001b[0m     \u001b[38;5;28;01mraise\u001b[39;00m StdinNotImplementedError(msg)\n\u001b[1;32m-> 1261\u001b[0m \u001b[38;5;28;01mreturn\u001b[39;00m \u001b[38;5;28;43mself\u001b[39;49m\u001b[38;5;241;43m.\u001b[39;49m\u001b[43m_input_request\u001b[49m\u001b[43m(\u001b[49m\n\u001b[0;32m   1262\u001b[0m \u001b[43m    \u001b[49m\u001b[38;5;28;43mstr\u001b[39;49m\u001b[43m(\u001b[49m\u001b[43mprompt\u001b[49m\u001b[43m)\u001b[49m\u001b[43m,\u001b[49m\n\u001b[0;32m   1263\u001b[0m \u001b[43m    \u001b[49m\u001b[38;5;28;43mself\u001b[39;49m\u001b[38;5;241;43m.\u001b[39;49m\u001b[43m_parent_ident\u001b[49m\u001b[43m[\u001b[49m\u001b[38;5;124;43m\"\u001b[39;49m\u001b[38;5;124;43mshell\u001b[39;49m\u001b[38;5;124;43m\"\u001b[39;49m\u001b[43m]\u001b[49m\u001b[43m,\u001b[49m\n\u001b[0;32m   1264\u001b[0m \u001b[43m    \u001b[49m\u001b[38;5;28;43mself\u001b[39;49m\u001b[38;5;241;43m.\u001b[39;49m\u001b[43mget_parent\u001b[49m\u001b[43m(\u001b[49m\u001b[38;5;124;43m\"\u001b[39;49m\u001b[38;5;124;43mshell\u001b[39;49m\u001b[38;5;124;43m\"\u001b[39;49m\u001b[43m)\u001b[49m\u001b[43m,\u001b[49m\n\u001b[0;32m   1265\u001b[0m \u001b[43m    \u001b[49m\u001b[43mpassword\u001b[49m\u001b[38;5;241;43m=\u001b[39;49m\u001b[38;5;28;43;01mFalse\u001b[39;49;00m\u001b[43m,\u001b[49m\n\u001b[0;32m   1266\u001b[0m \u001b[43m\u001b[49m\u001b[43m)\u001b[49m\n",
      "File \u001b[1;32m~\\AppData\\Local\\Programs\\Python\\Python312\\Lib\\site-packages\\ipykernel\\kernelbase.py:1304\u001b[0m, in \u001b[0;36mKernel._input_request\u001b[1;34m(self, prompt, ident, parent, password)\u001b[0m\n\u001b[0;32m   1301\u001b[0m \u001b[38;5;28;01mexcept\u001b[39;00m \u001b[38;5;167;01mKeyboardInterrupt\u001b[39;00m:\n\u001b[0;32m   1302\u001b[0m     \u001b[38;5;66;03m# re-raise KeyboardInterrupt, to truncate traceback\u001b[39;00m\n\u001b[0;32m   1303\u001b[0m     msg \u001b[38;5;241m=\u001b[39m \u001b[38;5;124m\"\u001b[39m\u001b[38;5;124mInterrupted by user\u001b[39m\u001b[38;5;124m\"\u001b[39m\n\u001b[1;32m-> 1304\u001b[0m     \u001b[38;5;28;01mraise\u001b[39;00m \u001b[38;5;167;01mKeyboardInterrupt\u001b[39;00m(msg) \u001b[38;5;28;01mfrom\u001b[39;00m \u001b[38;5;28;01mNone\u001b[39;00m\n\u001b[0;32m   1305\u001b[0m \u001b[38;5;28;01mexcept\u001b[39;00m \u001b[38;5;167;01mException\u001b[39;00m:\n\u001b[0;32m   1306\u001b[0m     \u001b[38;5;28mself\u001b[39m\u001b[38;5;241m.\u001b[39mlog\u001b[38;5;241m.\u001b[39mwarning(\u001b[38;5;124m\"\u001b[39m\u001b[38;5;124mInvalid Message:\u001b[39m\u001b[38;5;124m\"\u001b[39m, exc_info\u001b[38;5;241m=\u001b[39m\u001b[38;5;28;01mTrue\u001b[39;00m)\n",
      "\u001b[1;31mKeyboardInterrupt\u001b[0m: Interrupted by user"
     ]
    }
   ],
   "source": [
    "number=int(input(\"enter any number\"))\n",
    "while(number):\n",
    "    for i in range(1,number+1):\n",
    "        print(i)\n",
    "    number=int(input(\"enter any number\"))"
   ]
  },
  {
   "cell_type": "code",
   "execution_count": 510,
   "id": "f7d83ea8-6189-48c5-b40b-b07ac95a295b",
   "metadata": {},
   "outputs": [
    {
     "name": "stdin",
     "output_type": "stream",
     "text": [
      "enter any number 6\n"
     ]
    },
    {
     "ename": "TypeError",
     "evalue": "'int' object is not callable",
     "output_type": "error",
     "traceback": [
      "\u001b[1;31m---------------------------------------------------------------------------\u001b[0m",
      "\u001b[1;31mTypeError\u001b[0m                                 Traceback (most recent call last)",
      "Cell \u001b[1;32mIn[510], line 1\u001b[0m\n\u001b[1;32m----> 1\u001b[0m number\u001b[38;5;241m=\u001b[39m\u001b[38;5;28;43mint\u001b[39;49m\u001b[43m(\u001b[49m\u001b[38;5;28;43minput\u001b[39;49m\u001b[43m(\u001b[49m\u001b[38;5;124;43m\"\u001b[39;49m\u001b[38;5;124;43menter any number\u001b[39;49m\u001b[38;5;124;43m\"\u001b[39;49m\u001b[43m)\u001b[49m\u001b[43m)\u001b[49m\n\u001b[0;32m      2\u001b[0m \u001b[38;5;28;01mwhile\u001b[39;00m(number):\n\u001b[0;32m      3\u001b[0m     \u001b[38;5;28;01mfor\u001b[39;00m i \u001b[38;5;129;01min\u001b[39;00m \u001b[38;5;28mrange\u001b[39m(\u001b[38;5;241m1\u001b[39m,number\u001b[38;5;241m+\u001b[39m\u001b[38;5;241m1\u001b[39m):\n",
      "\u001b[1;31mTypeError\u001b[0m: 'int' object is not callable"
     ]
    }
   ],
   "source": [
    "number=int(input(\"enter any number\"))\n",
    "while(number):\n",
    "    for i in range(1,number+1):\n",
    "        print(i)\n",
    "    number=int(input(\"enter any number\"))"
   ]
  },
  {
   "cell_type": "code",
   "execution_count": 511,
   "id": "20f2d3ab-faf6-4830-999a-d99501bfb3dd",
   "metadata": {},
   "outputs": [
    {
     "name": "stdout",
     "output_type": "stream",
     "text": [
      "1 \n",
      "1 1 \n",
      "1 1 1 \n",
      "1 1 1 1 \n",
      "1 1 1 1 1 \n"
     ]
    }
   ],
   "source": [
    "j=1\n",
    "for i in range(5):\n",
    "    for i in range(1):\n",
    "        print(\"1 \"*j)\n",
    "        j=j+1"
   ]
  },
  {
   "cell_type": "code",
   "execution_count": 512,
   "id": "58a74e9a-3e50-4a99-b74f-6e347883ced3",
   "metadata": {},
   "outputs": [
    {
     "name": "stdout",
     "output_type": "stream",
     "text": [
      "1 \n",
      "1 2 \n",
      "1 2 3 \n",
      "1 2 3 4 \n",
      "1 2 3 4 5 \n"
     ]
    }
   ],
   "source": [
    "\n",
    "for i in range(5):\n",
    "    for j in range(i+1):\n",
    "        print(j+1,end=' ')\n",
    "    print()    \n",
    "    \n",
    "    "
   ]
  },
  {
   "cell_type": "code",
   "execution_count": 513,
   "id": "9fbd470f-7bf6-42b9-8e41-6d20082bed3a",
   "metadata": {},
   "outputs": [],
   "source": [
    "c=5"
   ]
  },
  {
   "cell_type": "code",
   "execution_count": 514,
   "id": "c511ef52-0574-4919-8322-0f5247a2a54c",
   "metadata": {},
   "outputs": [],
   "source": [
    "b=6"
   ]
  },
  {
   "cell_type": "code",
   "execution_count": 515,
   "id": "ff0ad15b-4a5a-49c2-b96a-369b88a65a5b",
   "metadata": {},
   "outputs": [
    {
     "name": "stdout",
     "output_type": "stream",
     "text": [
      "5\n",
      "6\n"
     ]
    }
   ],
   "source": [
    "print(c)\n",
    "print(b)"
   ]
  },
  {
   "cell_type": "code",
   "execution_count": 516,
   "id": "ef6a31aa-a56d-4350-ad66-b1dca37e744f",
   "metadata": {},
   "outputs": [
    {
     "name": "stdout",
     "output_type": "stream",
     "text": [
      "1 \n",
      "2 2 \n",
      "3 3 3 \n",
      "4 4 4 4 \n",
      "5 5 5 5 5 \n"
     ]
    }
   ],
   "source": [
    "for i in range(5):\n",
    "    for j in range(i+1):\n",
    "        print(i+1,end=' ')\n",
    "    print()    "
   ]
  },
  {
   "cell_type": "code",
   "execution_count": 517,
   "id": "884803ed-6d4c-46f4-9af1-59a1a046f3c0",
   "metadata": {},
   "outputs": [
    {
     "name": "stdout",
     "output_type": "stream",
     "text": [
      "1 \n",
      "2 3 \n",
      "4 5 6 \n",
      "7 8 9 10 \n"
     ]
    }
   ],
   "source": [
    "x=1\n",
    "for i in range(4):\n",
    "    for j in range(i+1):\n",
    "        print(x,end=' ')\n",
    "        x+=1\n",
    "    print() "
   ]
  },
  {
   "cell_type": "code",
   "execution_count": 518,
   "id": "6d92b26a-fc84-4696-8ef4-4a10ad4c2bd5",
   "metadata": {},
   "outputs": [
    {
     "data": {
      "text/plain": [
       "11"
      ]
     },
     "execution_count": 518,
     "metadata": {},
     "output_type": "execute_result"
    }
   ],
   "source": [
    "x"
   ]
  },
  {
   "cell_type": "code",
   "execution_count": 519,
   "id": "d6e47807-9fb7-491b-b4e4-0fd1c083812e",
   "metadata": {},
   "outputs": [
    {
     "ename": "NameError",
     "evalue": "name 'number' is not defined",
     "output_type": "error",
     "traceback": [
      "\u001b[1;31m---------------------------------------------------------------------------\u001b[0m",
      "\u001b[1;31mNameError\u001b[0m                                 Traceback (most recent call last)",
      "Cell \u001b[1;32mIn[519], line 1\u001b[0m\n\u001b[1;32m----> 1\u001b[0m \u001b[43mnumber\u001b[49m\n",
      "\u001b[1;31mNameError\u001b[0m: name 'number' is not defined"
     ]
    }
   ],
   "source": [
    "number"
   ]
  },
  {
   "cell_type": "code",
   "execution_count": 520,
   "id": "714de40c-5783-48df-8a99-9ccf92a41e59",
   "metadata": {},
   "outputs": [],
   "source": [
    "x=range(-2)"
   ]
  },
  {
   "cell_type": "code",
   "execution_count": 521,
   "id": "c007afcb-0b09-49f7-95df-70961387eaee",
   "metadata": {},
   "outputs": [
    {
     "data": {
      "text/plain": [
       "[]"
      ]
     },
     "execution_count": 521,
     "metadata": {},
     "output_type": "execute_result"
    }
   ],
   "source": [
    "list(x)"
   ]
  },
  {
   "cell_type": "code",
   "execution_count": 522,
   "id": "aab6ddf9-6518-4852-b8e8-262c529ba4e8",
   "metadata": {},
   "outputs": [
    {
     "name": "stdout",
     "output_type": "stream",
     "text": [
      "1 1 1 1 1 \n",
      "1 1 1 1 \n",
      "1 1 1 \n",
      "1 1 \n",
      "1 \n"
     ]
    }
   ],
   "source": [
    "for i in range(5,0,-1):\n",
    "    for j in range(i):\n",
    "        print('1',end=' ')\n",
    "    print() "
   ]
  },
  {
   "cell_type": "code",
   "execution_count": 523,
   "id": "44e6c5ab-e2d3-4236-a38b-7c1f86074fc9",
   "metadata": {},
   "outputs": [
    {
     "name": "stdout",
     "output_type": "stream",
     "text": [
      "1 \n",
      "1 1 \n",
      "1 1 1 \n",
      "1 1 1 1 \n",
      "1 1 1 \n",
      "1 1 \n",
      "1 \n"
     ]
    }
   ],
   "source": [
    "for i in range(4):\n",
    "    for j in range(i+1):\n",
    "        print('1',end=' ')\n",
    "    print()\n",
    "for i in range(3,0,-1):\n",
    "    for j in range(i):\n",
    "        print('1',end=' ')\n",
    "    print()"
   ]
  },
  {
   "cell_type": "code",
   "execution_count": 524,
   "id": "2a5e09a3-1913-484d-82e1-a1a60adc16b9",
   "metadata": {},
   "outputs": [
    {
     "name": "stdout",
     "output_type": "stream",
     "text": [
      "1 1 1 1 \n",
      "1 1 1 \n",
      "1 1 \n",
      "1 \n",
      "1 \n",
      "1 1 \n",
      "1 1 1 \n",
      "1 1 1 1 \n"
     ]
    }
   ],
   "source": [
    "for i in range(4,0,-1):\n",
    "    for j in range(i):\n",
    "        print('1',end=' ')\n",
    "    print()\n",
    "for i in range(4):\n",
    "    for j in range(i+1):\n",
    "        print('1',end=' ')\n",
    "    print()"
   ]
  },
  {
   "cell_type": "code",
   "execution_count": 525,
   "id": "e016b47c-63d9-49ad-965a-3ae9f0742a04",
   "metadata": {},
   "outputs": [
    {
     "name": "stdout",
     "output_type": "stream",
     "text": [
      "        1 1 1 1       1 1 1     1 1   1 "
     ]
    }
   ],
   "source": [
    "for i in range(4,0,-1):\n",
    "    for j in range(i):\n",
    "        print(' ',end=' ')\n",
    "    for k in range(i):\n",
    "        print('1',end=' ')"
   ]
  },
  {
   "cell_type": "code",
   "execution_count": 526,
   "id": "4af99c30-11bf-4d0e-8616-1bb308d259b0",
   "metadata": {},
   "outputs": [
    {
     "ename": "SyntaxError",
     "evalue": "expected ':' (1467190053.py, line 5)",
     "output_type": "error",
     "traceback": [
      "\u001b[1;36m  Cell \u001b[1;32mIn[526], line 5\u001b[1;36m\u001b[0m\n\u001b[1;33m    for i in range(4)\u001b[0m\n\u001b[1;37m                     ^\u001b[0m\n\u001b[1;31mSyntaxError\u001b[0m\u001b[1;31m:\u001b[0m expected ':'\n"
     ]
    }
   ],
   "source": [
    "for i in range(7):\n",
    "    if(i<=4):\n",
    "        for i in range(2,i+1):\n",
    "            print(' ')\n",
    "        for i in range(4)"
   ]
  },
  {
   "cell_type": "code",
   "execution_count": 527,
   "id": "a72951b7-0e42-49eb-ad22-1e3d307be573",
   "metadata": {},
   "outputs": [
    {
     "ename": "KeyboardInterrupt",
     "evalue": "Interrupted by user",
     "output_type": "error",
     "traceback": [
      "\u001b[1;31m---------------------------------------------------------------------------\u001b[0m",
      "\u001b[1;31mKeyboardInterrupt\u001b[0m                         Traceback (most recent call last)",
      "Cell \u001b[1;32mIn[527], line 1\u001b[0m\n\u001b[1;32m----> 1\u001b[0m x \u001b[38;5;241m=\u001b[39m \u001b[38;5;28mint\u001b[39m(\u001b[38;5;28;43minput\u001b[39;49m\u001b[43m(\u001b[49m\u001b[38;5;124;43m\"\u001b[39;49m\u001b[38;5;124;43mEnter a number: \u001b[39;49m\u001b[38;5;124;43m\"\u001b[39;49m\u001b[43m)\u001b[49m)\n\u001b[0;32m      2\u001b[0m \u001b[38;5;28;01mwhile\u001b[39;00m x \u001b[38;5;241m>\u001b[39m \u001b[38;5;241m0\u001b[39m:  \n\u001b[0;32m      3\u001b[0m     \u001b[38;5;28;01mfor\u001b[39;00m i \u001b[38;5;129;01min\u001b[39;00m \u001b[38;5;28mrange\u001b[39m(x):  \n",
      "File \u001b[1;32m~\\AppData\\Local\\Programs\\Python\\Python312\\Lib\\site-packages\\ipykernel\\kernelbase.py:1261\u001b[0m, in \u001b[0;36mKernel.raw_input\u001b[1;34m(self, prompt)\u001b[0m\n\u001b[0;32m   1259\u001b[0m     msg \u001b[38;5;241m=\u001b[39m \u001b[38;5;124m\"\u001b[39m\u001b[38;5;124mraw_input was called, but this frontend does not support input requests.\u001b[39m\u001b[38;5;124m\"\u001b[39m\n\u001b[0;32m   1260\u001b[0m     \u001b[38;5;28;01mraise\u001b[39;00m StdinNotImplementedError(msg)\n\u001b[1;32m-> 1261\u001b[0m \u001b[38;5;28;01mreturn\u001b[39;00m \u001b[38;5;28;43mself\u001b[39;49m\u001b[38;5;241;43m.\u001b[39;49m\u001b[43m_input_request\u001b[49m\u001b[43m(\u001b[49m\n\u001b[0;32m   1262\u001b[0m \u001b[43m    \u001b[49m\u001b[38;5;28;43mstr\u001b[39;49m\u001b[43m(\u001b[49m\u001b[43mprompt\u001b[49m\u001b[43m)\u001b[49m\u001b[43m,\u001b[49m\n\u001b[0;32m   1263\u001b[0m \u001b[43m    \u001b[49m\u001b[38;5;28;43mself\u001b[39;49m\u001b[38;5;241;43m.\u001b[39;49m\u001b[43m_parent_ident\u001b[49m\u001b[43m[\u001b[49m\u001b[38;5;124;43m\"\u001b[39;49m\u001b[38;5;124;43mshell\u001b[39;49m\u001b[38;5;124;43m\"\u001b[39;49m\u001b[43m]\u001b[49m\u001b[43m,\u001b[49m\n\u001b[0;32m   1264\u001b[0m \u001b[43m    \u001b[49m\u001b[38;5;28;43mself\u001b[39;49m\u001b[38;5;241;43m.\u001b[39;49m\u001b[43mget_parent\u001b[49m\u001b[43m(\u001b[49m\u001b[38;5;124;43m\"\u001b[39;49m\u001b[38;5;124;43mshell\u001b[39;49m\u001b[38;5;124;43m\"\u001b[39;49m\u001b[43m)\u001b[49m\u001b[43m,\u001b[49m\n\u001b[0;32m   1265\u001b[0m \u001b[43m    \u001b[49m\u001b[43mpassword\u001b[49m\u001b[38;5;241;43m=\u001b[39;49m\u001b[38;5;28;43;01mFalse\u001b[39;49;00m\u001b[43m,\u001b[49m\n\u001b[0;32m   1266\u001b[0m \u001b[43m\u001b[49m\u001b[43m)\u001b[49m\n",
      "File \u001b[1;32m~\\AppData\\Local\\Programs\\Python\\Python312\\Lib\\site-packages\\ipykernel\\kernelbase.py:1304\u001b[0m, in \u001b[0;36mKernel._input_request\u001b[1;34m(self, prompt, ident, parent, password)\u001b[0m\n\u001b[0;32m   1301\u001b[0m \u001b[38;5;28;01mexcept\u001b[39;00m \u001b[38;5;167;01mKeyboardInterrupt\u001b[39;00m:\n\u001b[0;32m   1302\u001b[0m     \u001b[38;5;66;03m# re-raise KeyboardInterrupt, to truncate traceback\u001b[39;00m\n\u001b[0;32m   1303\u001b[0m     msg \u001b[38;5;241m=\u001b[39m \u001b[38;5;124m\"\u001b[39m\u001b[38;5;124mInterrupted by user\u001b[39m\u001b[38;5;124m\"\u001b[39m\n\u001b[1;32m-> 1304\u001b[0m     \u001b[38;5;28;01mraise\u001b[39;00m \u001b[38;5;167;01mKeyboardInterrupt\u001b[39;00m(msg) \u001b[38;5;28;01mfrom\u001b[39;00m \u001b[38;5;28;01mNone\u001b[39;00m\n\u001b[0;32m   1305\u001b[0m \u001b[38;5;28;01mexcept\u001b[39;00m \u001b[38;5;167;01mException\u001b[39;00m:\n\u001b[0;32m   1306\u001b[0m     \u001b[38;5;28mself\u001b[39m\u001b[38;5;241m.\u001b[39mlog\u001b[38;5;241m.\u001b[39mwarning(\u001b[38;5;124m\"\u001b[39m\u001b[38;5;124mInvalid Message:\u001b[39m\u001b[38;5;124m\"\u001b[39m, exc_info\u001b[38;5;241m=\u001b[39m\u001b[38;5;28;01mTrue\u001b[39;00m)\n",
      "\u001b[1;31mKeyboardInterrupt\u001b[0m: Interrupted by user"
     ]
    },
    {
     "name": "stdin",
     "output_type": "stream",
     "text": [
      "Enter a number:  6\n"
     ]
    }
   ],
   "source": [
    "x = int(input(\"Enter a number: \"))\n",
    "while x > 0:  \n",
    "    for i in range(x):  \n",
    "        print(i+1)\n",
    "    x = int(input(\"Enter a number: \")) \n",
    "\n",
    "print(\"stop\")"
   ]
  },
  {
   "cell_type": "markdown",
   "id": "6ea0f536-1477-4e3f-b3ec-1f934f8b613d",
   "metadata": {},
   "source": [
    "1 1 1 1\n",
    "  1 1 1\n",
    "    1 1\n",
    "      1\n",
    "    1 1\n",
    "  1 1 1\n",
    "1 1 1 1"
   ]
  },
  {
   "cell_type": "markdown",
   "id": "d89176cc-5cb4-4edd-8bb5-f47a96098519",
   "metadata": {},
   "source": [
    "1 1 1 1\n",
    "  1 1 1\n",
    "    1 1\n",
    "      1\n",
    "    1 1\n",
    "  1 1 1\n",
    "1 1 1 1"
   ]
  },
  {
   "cell_type": "code",
   "execution_count": 528,
   "id": "4fd22977-6221-4dd9-8d18-5fe8513d9430",
   "metadata": {},
   "outputs": [
    {
     "name": "stdout",
     "output_type": "stream",
     "text": [
      "  1 \n",
      "    1 1 \n",
      "      1 1 1 \n",
      "                                "
     ]
    }
   ],
   "source": [
    "for i in range(7):\n",
    "    if i+1<4:\n",
    "          for j in range(i+1):  \n",
    "              print(' ',end=' ')\n",
    "          for k in range(i+1):\n",
    "              print('1',end=' ')\n",
    "          print()\n",
    "    else:\n",
    "        for j in range(4,0,-1):\n",
    "            print(' ',end=' ')\n",
    "            \n",
    "        "
   ]
  },
  {
   "cell_type": "code",
   "execution_count": 529,
   "id": "b7fe3ba8-6589-4fd1-8eab-de10b3082243",
   "metadata": {},
   "outputs": [
    {
     "ename": "SyntaxError",
     "evalue": "invalid syntax. Perhaps you forgot a comma? (41309954.py, line 3)",
     "output_type": "error",
     "traceback": [
      "\u001b[1;36m  Cell \u001b[1;32mIn[529], line 3\u001b[1;36m\u001b[0m\n\u001b[1;33m    print(\" \"i+\"1\"(n-i))\u001b[0m\n\u001b[1;37m          ^\u001b[0m\n\u001b[1;31mSyntaxError\u001b[0m\u001b[1;31m:\u001b[0m invalid syntax. Perhaps you forgot a comma?\n"
     ]
    }
   ],
   "source": [
    "n = 4\n",
    "for i in range(n):\n",
    "    print(\" \"i+\"1\"(n-i))\n",
    "    \n",
    "for i in range(1,n):\n",
    "    print(\" \"(n-i-1)+\"1\"(i+1))"
   ]
  },
  {
   "cell_type": "code",
   "execution_count": 530,
   "id": "878683d9-5574-40a7-b029-a4400e4329d4",
   "metadata": {},
   "outputs": [
    {
     "name": "stdout",
     "output_type": "stream",
     "text": [
      "1111\n",
      " 111\n",
      "  11\n",
      "   1\n",
      "  11\n",
      " 111\n",
      "1111\n"
     ]
    }
   ],
   "source": [
    "n = 4\n",
    "for i in range(n):\n",
    "    print(\" \"*i+\"1\"*(n-i))\n",
    "    \n",
    "for i in range(1,n):\n",
    "    print(\" \"*(n-i-1)+\"1\"*(i+1))"
   ]
  },
  {
   "cell_type": "code",
   "execution_count": 531,
   "id": "6033c6fc-0d4d-409a-bc74-0febb7340cf9",
   "metadata": {},
   "outputs": [
    {
     "name": "stdin",
     "output_type": "stream",
     "text": [
      "enter first number: 7\n"
     ]
    },
    {
     "ename": "TypeError",
     "evalue": "'int' object is not callable",
     "output_type": "error",
     "traceback": [
      "\u001b[1;31m---------------------------------------------------------------------------\u001b[0m",
      "\u001b[1;31mTypeError\u001b[0m                                 Traceback (most recent call last)",
      "Cell \u001b[1;32mIn[531], line 1\u001b[0m\n\u001b[1;32m----> 1\u001b[0m a\u001b[38;5;241m=\u001b[39m\u001b[38;5;28;43mint\u001b[39;49m\u001b[43m(\u001b[49m\u001b[38;5;28;43minput\u001b[39;49m\u001b[43m(\u001b[49m\u001b[38;5;124;43m\"\u001b[39;49m\u001b[38;5;124;43menter first number:\u001b[39;49m\u001b[38;5;124;43m\"\u001b[39;49m\u001b[43m)\u001b[49m\u001b[43m)\u001b[49m\n\u001b[0;32m      2\u001b[0m b\u001b[38;5;241m=\u001b[39m\u001b[38;5;28mint\u001b[39m(\u001b[38;5;28minput\u001b[39m(\u001b[38;5;124m\"\u001b[39m\u001b[38;5;124menter second number:\u001b[39m\u001b[38;5;124m\"\u001b[39m))\n\u001b[0;32m      3\u001b[0m \u001b[38;5;28mprint\u001b[39m(a\u001b[38;5;241m+\u001b[39mb)\n",
      "\u001b[1;31mTypeError\u001b[0m: 'int' object is not callable"
     ]
    }
   ],
   "source": [
    "a=int(input(\"enter first number:\"))\n",
    "b=int(input(\"enter second number:\"))\n",
    "print(a+b)"
   ]
  },
  {
   "cell_type": "code",
   "execution_count": 532,
   "id": "80224280-d7b3-4929-ac30-cc62b26b8e9f",
   "metadata": {},
   "outputs": [
    {
     "name": "stdin",
     "output_type": "stream",
     "text": [
      "enter the radius of the circle: 1\n"
     ]
    },
    {
     "name": "stdout",
     "output_type": "stream",
     "text": [
      "area is 3.141592653589793\n",
      "circumference is 6.283185307179586\n"
     ]
    }
   ],
   "source": [
    "import math\n",
    "radius=float(input(\"enter the radius of the circle:\"))\n",
    "print('area is',math.pi*radius*radius)\n",
    "print('circumference is',2*math.pi*radius)"
   ]
  },
  {
   "cell_type": "code",
   "execution_count": 533,
   "id": "92811e8c-eb6b-46dc-b672-99ba6a2ce685",
   "metadata": {},
   "outputs": [
    {
     "name": "stdin",
     "output_type": "stream",
     "text": [
      "enter your roll number: 62\n",
      "enter your grade: 62\n",
      "enter your percentage: 62\n"
     ]
    },
    {
     "name": "stdout",
     "output_type": "stream",
     "text": [
      "your roll number is 62 ,grade is 62 and percentage is 62\n"
     ]
    }
   ],
   "source": [
    "roll_no=input(\"enter your roll number:\")\n",
    "grade=input('enter your grade:')\n",
    "percentage=input('enter your percentage:')\n",
    "print('your roll number is',roll_no,\",grade is\",grade,\"and percentage is\",percentage)"
   ]
  },
  {
   "cell_type": "code",
   "execution_count": 535,
   "id": "8aed0671-c727-45e4-931e-040f95b017d0",
   "metadata": {},
   "outputs": [
    {
     "name": "stdin",
     "output_type": "stream",
     "text": [
      "enter your name: hi\n",
      "enter your age: 32\n"
     ]
    },
    {
     "ename": "TypeError",
     "evalue": "'int' object is not callable",
     "output_type": "error",
     "traceback": [
      "\u001b[1;31m---------------------------------------------------------------------------\u001b[0m",
      "\u001b[1;31mTypeError\u001b[0m                                 Traceback (most recent call last)",
      "Cell \u001b[1;32mIn[535], line 2\u001b[0m\n\u001b[0;32m      1\u001b[0m name\u001b[38;5;241m=\u001b[39m\u001b[38;5;28minput\u001b[39m(\u001b[38;5;124m\"\u001b[39m\u001b[38;5;124menter your name:\u001b[39m\u001b[38;5;124m\"\u001b[39m)\n\u001b[1;32m----> 2\u001b[0m age\u001b[38;5;241m=\u001b[39m\u001b[38;5;28;43mint\u001b[39;49m\u001b[43m(\u001b[49m\u001b[38;5;28;43minput\u001b[39;49m\u001b[43m(\u001b[49m\u001b[38;5;124;43m\"\u001b[39;49m\u001b[38;5;124;43menter your age:\u001b[39;49m\u001b[38;5;124;43m\"\u001b[39;49m\u001b[43m)\u001b[49m\u001b[43m)\u001b[49m\n\u001b[0;32m      3\u001b[0m age_remaining\u001b[38;5;241m=\u001b[39m\u001b[38;5;241m100\u001b[39m\u001b[38;5;241m-\u001b[39mage\n\u001b[0;32m      4\u001b[0m year\u001b[38;5;241m=\u001b[39m\u001b[38;5;241m2022\u001b[39m\u001b[38;5;241m+\u001b[39mage_remaining\n",
      "\u001b[1;31mTypeError\u001b[0m: 'int' object is not callable"
     ]
    }
   ],
   "source": [
    "name=input(\"enter your name:\")\n",
    "age=int(input(\"enter your age:\"))\n",
    "age_remaining=100-age\n",
    "year=2022+age_remaining\n",
    "print(name,\"by\",year,\"you would turn 100 years\")"
   ]
  },
  {
   "cell_type": "code",
   "execution_count": 536,
   "id": "98051b5c-cec3-4d5d-9b68-d332523138dc",
   "metadata": {},
   "outputs": [
    {
     "name": "stdin",
     "output_type": "stream",
     "text": [
      "enter two numbers: 4 5\n"
     ]
    },
    {
     "ename": "TypeError",
     "evalue": "'int' object is not callable",
     "output_type": "error",
     "traceback": [
      "\u001b[1;31m---------------------------------------------------------------------------\u001b[0m",
      "\u001b[1;31mTypeError\u001b[0m                                 Traceback (most recent call last)",
      "Cell \u001b[1;32mIn[536], line 3\u001b[0m\n\u001b[0;32m      1\u001b[0m \u001b[38;5;66;03m#first method\u001b[39;00m\n\u001b[0;32m      2\u001b[0m a,b\u001b[38;5;241m=\u001b[39m\u001b[38;5;28minput\u001b[39m(\u001b[38;5;124m\"\u001b[39m\u001b[38;5;124menter two numbers:\u001b[39m\u001b[38;5;124m\"\u001b[39m)\u001b[38;5;241m.\u001b[39msplit()\n\u001b[1;32m----> 3\u001b[0m \u001b[38;5;28mprint\u001b[39m(\u001b[38;5;28;43mint\u001b[39;49m\u001b[43m(\u001b[49m\u001b[43ma\u001b[49m\u001b[43m)\u001b[49m\u001b[38;5;241m+\u001b[39m\u001b[38;5;28mint\u001b[39m(b))\n",
      "\u001b[1;31mTypeError\u001b[0m: 'int' object is not callable"
     ]
    }
   ],
   "source": [
    "#first method\n",
    "a,b=input(\"enter two numbers:\").split()\n",
    "print(int(a)+int(b))"
   ]
  },
  {
   "cell_type": "code",
   "execution_count": 537,
   "id": "79c6d79b-32f3-44a4-96ce-819cb27f2fe4",
   "metadata": {},
   "outputs": [
    {
     "name": "stdin",
     "output_type": "stream",
     "text": [
      "enter two numbers: 5 6\n"
     ]
    },
    {
     "ename": "TypeError",
     "evalue": "'int' object is not callable",
     "output_type": "error",
     "traceback": [
      "\u001b[1;31m---------------------------------------------------------------------------\u001b[0m",
      "\u001b[1;31mTypeError\u001b[0m                                 Traceback (most recent call last)",
      "Cell \u001b[1;32mIn[537], line 3\u001b[0m\n\u001b[0;32m      1\u001b[0m \u001b[38;5;66;03m#first method\u001b[39;00m\n\u001b[0;32m      2\u001b[0m a,b\u001b[38;5;241m=\u001b[39m\u001b[38;5;28minput\u001b[39m(\u001b[38;5;124m\"\u001b[39m\u001b[38;5;124menter two numbers:\u001b[39m\u001b[38;5;124m\"\u001b[39m)\u001b[38;5;241m.\u001b[39msplit()\n\u001b[1;32m----> 3\u001b[0m \u001b[38;5;28mprint\u001b[39m(\u001b[38;5;28;43mint\u001b[39;49m\u001b[43m(\u001b[49m\u001b[43ma\u001b[49m\u001b[43m)\u001b[49m\u001b[38;5;241m+\u001b[39m\u001b[38;5;28mint\u001b[39m(b))\n",
      "\u001b[1;31mTypeError\u001b[0m: 'int' object is not callable"
     ]
    }
   ],
   "source": [
    "#first method\n",
    "a,b=input(\"enter two numbers:\").split()\n",
    "print(int(a)+int(b))"
   ]
  },
  {
   "cell_type": "code",
   "execution_count": 538,
   "id": "87e36079-48ec-472e-a4ff-d222f584db0a",
   "metadata": {},
   "outputs": [
    {
     "name": "stdin",
     "output_type": "stream",
     "text": [
      "enter numbers: 4 5\n"
     ]
    },
    {
     "ename": "TypeError",
     "evalue": "'int' object is not callable",
     "output_type": "error",
     "traceback": [
      "\u001b[1;31m---------------------------------------------------------------------------\u001b[0m",
      "\u001b[1;31mTypeError\u001b[0m                                 Traceback (most recent call last)",
      "Cell \u001b[1;32mIn[538], line 2\u001b[0m\n\u001b[0;32m      1\u001b[0m \u001b[38;5;66;03m#another method\u001b[39;00m\n\u001b[1;32m----> 2\u001b[0m a\u001b[38;5;241m=\u001b[39m\u001b[38;5;28;43mlist\u001b[39;49m\u001b[43m(\u001b[49m\u001b[38;5;28;43mmap\u001b[39;49m\u001b[43m(\u001b[49m\u001b[38;5;28;43mint\u001b[39;49m\u001b[43m,\u001b[49m\u001b[38;5;28;43minput\u001b[39;49m\u001b[43m(\u001b[49m\u001b[38;5;124;43m\"\u001b[39;49m\u001b[38;5;124;43menter numbers:\u001b[39;49m\u001b[38;5;124;43m\"\u001b[39;49m\u001b[43m)\u001b[49m\u001b[38;5;241;43m.\u001b[39;49m\u001b[43msplit\u001b[49m\u001b[43m(\u001b[49m\u001b[43m)\u001b[49m\u001b[43m)\u001b[49m\u001b[43m)\u001b[49m\n\u001b[0;32m      3\u001b[0m \u001b[38;5;28mprint\u001b[39m(a[\u001b[38;5;241m0\u001b[39m]\u001b[38;5;241m+\u001b[39ma[\u001b[38;5;241m1\u001b[39m])\n",
      "\u001b[1;31mTypeError\u001b[0m: 'int' object is not callable"
     ]
    }
   ],
   "source": [
    "#another method\n",
    "a=list(map(int,input(\"enter numbers:\").split()))\n",
    "print(a[0]+a[1])"
   ]
  },
  {
   "cell_type": "code",
   "execution_count": 539,
   "id": "044d6f6d-6519-48c9-b61c-d14dd708a43f",
   "metadata": {},
   "outputs": [
    {
     "name": "stdin",
     "output_type": "stream",
     "text": [
      "enter your first name: hi\n",
      "enter your last name: ji\n"
     ]
    },
    {
     "name": "stdout",
     "output_type": "stream",
     "text": [
      "ij ih\n"
     ]
    }
   ],
   "source": [
    "f=input(\"enter your first name:\")\n",
    "l=input(\"enter your last name:\")\n",
    "name=f+\" \"+l\n",
    "print(name[::-1])"
   ]
  },
  {
   "cell_type": "code",
   "execution_count": 540,
   "id": "9b26e234-e5fe-43ce-ac9c-e0849a2f6355",
   "metadata": {},
   "outputs": [
    {
     "ename": "SyntaxError",
     "evalue": "unterminated string literal (detected at line 1) (1482097062.py, line 1)",
     "output_type": "error",
     "traceback": [
      "\u001b[1;36m  Cell \u001b[1;32mIn[540], line 1\u001b[1;36m\u001b[0m\n\u001b[1;33m    c='p\u001b[0m\n\u001b[1;37m      ^\u001b[0m\n\u001b[1;31mSyntaxError\u001b[0m\u001b[1;31m:\u001b[0m unterminated string literal (detected at line 1)\n"
     ]
    }
   ],
   "source": [
    "c='p"
   ]
  },
  {
   "cell_type": "code",
   "execution_count": 541,
   "id": "d38addc0-f954-4a16-b60c-9d0d2e1018c2",
   "metadata": {},
   "outputs": [],
   "source": [
    "c='p'"
   ]
  },
  {
   "cell_type": "code",
   "execution_count": 542,
   "id": "eec482b5-0a37-4f0f-8be7-64d5eb3c9a81",
   "metadata": {},
   "outputs": [
    {
     "data": {
      "text/plain": [
       "'P'"
      ]
     },
     "execution_count": 542,
     "metadata": {},
     "output_type": "execute_result"
    }
   ],
   "source": [
    "c.upper()"
   ]
  },
  {
   "cell_type": "code",
   "execution_count": 543,
   "id": "15f2f583-65cc-4eba-b803-818a6a24719e",
   "metadata": {},
   "outputs": [],
   "source": [
    "z='a'"
   ]
  },
  {
   "cell_type": "code",
   "execution_count": 544,
   "id": "041c90f1-a291-49fa-972f-51bb62cfd722",
   "metadata": {},
   "outputs": [
    {
     "data": {
      "text/plain": [
       "'A'"
      ]
     },
     "execution_count": 544,
     "metadata": {},
     "output_type": "execute_result"
    }
   ],
   "source": [
    "z.upper()"
   ]
  },
  {
   "cell_type": "code",
   "execution_count": 545,
   "id": "5e67197e-f9f3-46aa-a91e-d460f7d7aec5",
   "metadata": {},
   "outputs": [
    {
     "data": {
      "text/plain": [
       "'a'"
      ]
     },
     "execution_count": 545,
     "metadata": {},
     "output_type": "execute_result"
    }
   ],
   "source": [
    "z.lower()"
   ]
  },
  {
   "cell_type": "code",
   "execution_count": 546,
   "id": "9f4564ec-6a6a-42d9-90fd-853d1dd9fe4f",
   "metadata": {},
   "outputs": [
    {
     "data": {
      "text/plain": [
       "False"
      ]
     },
     "execution_count": 546,
     "metadata": {},
     "output_type": "execute_result"
    }
   ],
   "source": [
    "z.isupper()"
   ]
  },
  {
   "cell_type": "code",
   "execution_count": 547,
   "id": "a5046c88-9aab-4354-99b0-a47370236c24",
   "metadata": {},
   "outputs": [
    {
     "data": {
      "text/plain": [
       "True"
      ]
     },
     "execution_count": 547,
     "metadata": {},
     "output_type": "execute_result"
    }
   ],
   "source": [
    "z.islower()"
   ]
  },
  {
   "cell_type": "code",
   "execution_count": 548,
   "id": "ba0e142b-d204-45a9-9b18-b762e62d6d27",
   "metadata": {},
   "outputs": [
    {
     "name": "stdin",
     "output_type": "stream",
     "text": [
      "enter character: t\n"
     ]
    },
    {
     "name": "stdout",
     "output_type": "stream",
     "text": [
      "lower\n"
     ]
    }
   ],
   "source": [
    "n=input(\"enter character:\")\n",
    "if n.isupper()==True:\n",
    "    print(\"upper\")\n",
    "elif n.islower()==True:\n",
    "    print(\"lower\")\n",
    "elif n.isdigit()==True:\n",
    "    print(\"digit\")\n",
    "else:\n",
    "    print(\"special symbol\")"
   ]
  },
  {
   "cell_type": "code",
   "execution_count": 549,
   "id": "d3e7f3f9-bf2b-442b-97a7-6d73c3cc053e",
   "metadata": {},
   "outputs": [],
   "source": [
    "import random"
   ]
  },
  {
   "cell_type": "code",
   "execution_count": 550,
   "id": "bf22d8d6-561a-4f0f-b681-d2d410cc2f9d",
   "metadata": {},
   "outputs": [],
   "source": [
    "a=random.randint(1,100)"
   ]
  },
  {
   "cell_type": "code",
   "execution_count": 551,
   "id": "29d090ef-8a42-4dfe-b777-f31070c1d07d",
   "metadata": {},
   "outputs": [
    {
     "data": {
      "text/plain": [
       "99"
      ]
     },
     "execution_count": 551,
     "metadata": {},
     "output_type": "execute_result"
    }
   ],
   "source": [
    "a"
   ]
  },
  {
   "cell_type": "code",
   "execution_count": 552,
   "id": "bc6ca805-4d4d-4ea0-9ca6-2394cb3b99c3",
   "metadata": {},
   "outputs": [
    {
     "data": {
      "text/plain": [
       "99"
      ]
     },
     "execution_count": 552,
     "metadata": {},
     "output_type": "execute_result"
    }
   ],
   "source": [
    "a"
   ]
  },
  {
   "cell_type": "code",
   "execution_count": 553,
   "id": "ce4d4480-0d89-4c5d-af6c-c9fafc65d11f",
   "metadata": {},
   "outputs": [
    {
     "name": "stdout",
     "output_type": "stream",
     "text": [
      "99\n"
     ]
    }
   ],
   "source": [
    "print(a)"
   ]
  },
  {
   "cell_type": "code",
   "execution_count": 555,
   "id": "dafcf326-a78a-4a22-b9c4-3019a27de625",
   "metadata": {},
   "outputs": [],
   "source": [
    "del a"
   ]
  },
  {
   "cell_type": "code",
   "execution_count": 557,
   "id": "eeb1842f-0fe7-4222-a7be-261b226fba0f",
   "metadata": {},
   "outputs": [],
   "source": [
    "del b"
   ]
  },
  {
   "cell_type": "code",
   "execution_count": 559,
   "id": "2066b598-d182-40b9-99fb-3d9f117cc5eb",
   "metadata": {},
   "outputs": [],
   "source": [
    "del int"
   ]
  },
  {
   "cell_type": "code",
   "execution_count": null,
   "id": "82252004-e55f-4c06-8c5f-318bec4adaa8",
   "metadata": {},
   "outputs": [],
   "source": [
    "import random\n",
    "a=random.randint(1,100)\n",
    "b=int(input('enter any number'))\n",
    "while b!=a:\n",
    "    if b>a:\n",
    "        print('number is too large')\n",
    "    elif b<a:\n",
    "        print('numbert is too small')\n",
    "    else:\n",
    "        b=int(input('enter any number'))"
   ]
  },
  {
   "cell_type": "code",
   "execution_count": 561,
   "id": "5b84145a-7a36-419b-8ede-fae6d389fefc",
   "metadata": {},
   "outputs": [
    {
     "name": "stdin",
     "output_type": "stream",
     "text": [
      "enter any number 6\n"
     ]
    }
   ],
   "source": [
    "import random\n",
    "a=random.randint(1,100)\n",
    "b=int(input('enter any number'))"
   ]
  },
  {
   "cell_type": "code",
   "execution_count": 562,
   "id": "1e02484d-d974-4af9-9d8b-02452ec0bd28",
   "metadata": {},
   "outputs": [
    {
     "ename": "SyntaxError",
     "evalue": "invalid syntax. Maybe you meant '==' or ':=' instead of '='? (3504136543.py, line 1)",
     "output_type": "error",
     "traceback": [
      "\u001b[1;36m  Cell \u001b[1;32mIn[562], line 1\u001b[1;36m\u001b[0m\n\u001b[1;33m    while b=get_ipython().getoutput('a:')\u001b[0m\n\u001b[1;37m          ^\u001b[0m\n\u001b[1;31mSyntaxError\u001b[0m\u001b[1;31m:\u001b[0m invalid syntax. Maybe you meant '==' or ':=' instead of '='?\n"
     ]
    }
   ],
   "source": [
    "while b=!a:"
   ]
  },
  {
   "cell_type": "code",
   "execution_count": 563,
   "id": "205fd263-f792-407a-b192-38735f4544ab",
   "metadata": {},
   "outputs": [
    {
     "data": {
      "text/plain": [
       "6"
      ]
     },
     "execution_count": 563,
     "metadata": {},
     "output_type": "execute_result"
    }
   ],
   "source": [
    "b"
   ]
  },
  {
   "cell_type": "code",
   "execution_count": 564,
   "id": "882f3452-61d2-4c40-b8be-b2b6e0a31933",
   "metadata": {},
   "outputs": [],
   "source": [
    "del b"
   ]
  },
  {
   "cell_type": "code",
   "execution_count": 565,
   "id": "7f87990e-c87a-4373-b432-e37d62cccbf1",
   "metadata": {},
   "outputs": [
    {
     "ename": "NameError",
     "evalue": "name 'b' is not defined",
     "output_type": "error",
     "traceback": [
      "\u001b[1;31m---------------------------------------------------------------------------\u001b[0m",
      "\u001b[1;31mNameError\u001b[0m                                 Traceback (most recent call last)",
      "Cell \u001b[1;32mIn[565], line 1\u001b[0m\n\u001b[1;32m----> 1\u001b[0m \u001b[43mb\u001b[49m\n",
      "\u001b[1;31mNameError\u001b[0m: name 'b' is not defined"
     ]
    }
   ],
   "source": [
    "b"
   ]
  },
  {
   "cell_type": "code",
   "execution_count": 566,
   "id": "ff2688c3-0562-4b7d-997e-1d8c354ecd02",
   "metadata": {},
   "outputs": [],
   "source": [
    "x=1"
   ]
  },
  {
   "cell_type": "code",
   "execution_count": 567,
   "id": "7449299d-1c6b-4111-9322-c649b74d773a",
   "metadata": {},
   "outputs": [],
   "source": [
    "y=2"
   ]
  },
  {
   "cell_type": "code",
   "execution_count": 568,
   "id": "570b8484-3fc8-4db1-9960-2f72509a486a",
   "metadata": {},
   "outputs": [
    {
     "ename": "SyntaxError",
     "evalue": "invalid syntax (4031227934.py, line 1)",
     "output_type": "error",
     "traceback": [
      "\u001b[1;36m  Cell \u001b[1;32mIn[568], line 1\u001b[1;36m\u001b[0m\n\u001b[1;33m    while (x=!y):\u001b[0m\n\u001b[1;37m            ^\u001b[0m\n\u001b[1;31mSyntaxError\u001b[0m\u001b[1;31m:\u001b[0m invalid syntax\n"
     ]
    }
   ],
   "source": [
    "while (x=!y):\n",
    "    print('kkk')"
   ]
  },
  {
   "cell_type": "code",
   "execution_count": 569,
   "id": "f8d64854-da4d-4408-a4fa-80a82f0543fb",
   "metadata": {},
   "outputs": [
    {
     "name": "stdin",
     "output_type": "stream",
     "text": [
      "guess that number: 7\n"
     ]
    },
    {
     "name": "stdout",
     "output_type": "stream",
     "text": [
      "number too small\n"
     ]
    },
    {
     "name": "stdin",
     "output_type": "stream",
     "text": [
      "guess that number: 8\n"
     ]
    },
    {
     "name": "stdout",
     "output_type": "stream",
     "text": [
      "number too small\n"
     ]
    },
    {
     "name": "stdin",
     "output_type": "stream",
     "text": [
      "guess that number: 0\n",
      "guess that number: 0\n",
      "guess that number: \n"
     ]
    },
    {
     "ename": "ValueError",
     "evalue": "invalid literal for int() with base 10: ''",
     "output_type": "error",
     "traceback": [
      "\u001b[1;31m---------------------------------------------------------------------------\u001b[0m",
      "\u001b[1;31mValueError\u001b[0m                                Traceback (most recent call last)",
      "Cell \u001b[1;32mIn[569], line 4\u001b[0m\n\u001b[0;32m      2\u001b[0m a\u001b[38;5;241m=\u001b[39mrandom\u001b[38;5;241m.\u001b[39mrandint(\u001b[38;5;241m1\u001b[39m,\u001b[38;5;241m100\u001b[39m)\n\u001b[0;32m      3\u001b[0m \u001b[38;5;28;01mwhile\u001b[39;00m(\u001b[38;5;241m1\u001b[39m):\n\u001b[1;32m----> 4\u001b[0m     n\u001b[38;5;241m=\u001b[39m\u001b[38;5;28;43mint\u001b[39;49m\u001b[43m(\u001b[49m\u001b[38;5;28;43minput\u001b[39;49m\u001b[43m(\u001b[49m\u001b[38;5;124;43m\"\u001b[39;49m\u001b[38;5;124;43mguess that number:\u001b[39;49m\u001b[38;5;124;43m\"\u001b[39;49m\u001b[43m)\u001b[49m\u001b[43m)\u001b[49m\n\u001b[0;32m      5\u001b[0m     \u001b[38;5;28;01mif\u001b[39;00m n\u001b[38;5;241m==\u001b[39ma:\n\u001b[0;32m      6\u001b[0m         \u001b[38;5;28mprint\u001b[39m(\u001b[38;5;124m\"\u001b[39m\u001b[38;5;124mCongratulations! You guessed it right\u001b[39m\u001b[38;5;124m\"\u001b[39m)\n",
      "\u001b[1;31mValueError\u001b[0m: invalid literal for int() with base 10: ''"
     ]
    }
   ],
   "source": [
    "import random\n",
    "a=random.randint(1,100)\n",
    "while(1):\n",
    "    n=int(input(\"guess that number:\"))\n",
    "    if n==a:\n",
    "        print(\"Congratulations! You guessed it right\")\n",
    "        break\n",
    "    elif n>a:\n",
    "        print('number too large')\n",
    "    elif 0<n<a:\n",
    "        print('number too small')\n",
    "    else:\n",
    "        pass"
   ]
  },
  {
   "cell_type": "code",
   "execution_count": 570,
   "id": "eec724dd-5879-4cc5-8006-14e4d6287f30",
   "metadata": {},
   "outputs": [],
   "source": [
    "c=random.randint(1,800)"
   ]
  },
  {
   "cell_type": "code",
   "execution_count": 571,
   "id": "a79509f3-64f6-4ddc-843a-95b7cfc2a120",
   "metadata": {},
   "outputs": [
    {
     "data": {
      "text/plain": [
       "67"
      ]
     },
     "execution_count": 571,
     "metadata": {},
     "output_type": "execute_result"
    }
   ],
   "source": [
    "c"
   ]
  },
  {
   "cell_type": "code",
   "execution_count": 572,
   "id": "9270427d-fc94-4ac3-96c7-013100f77529",
   "metadata": {},
   "outputs": [
    {
     "name": "stdin",
     "output_type": "stream",
     "text": [
      "enter a string: hi\n"
     ]
    },
    {
     "name": "stdout",
     "output_type": "stream",
     "text": [
      "h\n"
     ]
    }
   ],
   "source": [
    "i=0\n",
    "string=input(\"enter a string:\")\n",
    "while(1):\n",
    "    if i==len(string):\n",
    "            break\n",
    "    if string[i] not in 'aeiouAEIOU':\n",
    "        print(string[i])\n",
    "        \n",
    "    i+=1"
   ]
  },
  {
   "cell_type": "code",
   "execution_count": 573,
   "id": "a77d7e30-580c-422d-9094-bea3ccafb479",
   "metadata": {},
   "outputs": [
    {
     "name": "stdin",
     "output_type": "stream",
     "text": [
      "enter a string: ho\n"
     ]
    },
    {
     "name": "stdout",
     "output_type": "stream",
     "text": [
      "h\n"
     ]
    }
   ],
   "source": [
    "string=input(\"enter a string:\")\n",
    "for i in string:\n",
    "    if i not in 'aeiouAEIOU':\n",
    "        print(i)"
   ]
  },
  {
   "cell_type": "code",
   "execution_count": 574,
   "id": "a54bd6dc-c906-4667-8c73-4757fe892e52",
   "metadata": {},
   "outputs": [
    {
     "name": "stdin",
     "output_type": "stream",
     "text": [
      "enter a number(press 0 to return sum): 6\n",
      "enter a number(press 0 to return sum): 7\n",
      "enter a number(press 0 to return sum): 0\n"
     ]
    },
    {
     "name": "stdout",
     "output_type": "stream",
     "text": [
      "sum is 13\n"
     ]
    }
   ],
   "source": [
    "sum=0\n",
    "while (1):\n",
    "    n=int(input(\"enter a number(press 0 to return sum):\"))\n",
    "    if n==0:\n",
    "        print('sum is',sum)\n",
    "        break\n",
    "    sum=sum+n"
   ]
  },
  {
   "cell_type": "code",
   "execution_count": 575,
   "id": "b0eb29dd-7da0-4416-b0e0-f084172a8c74",
   "metadata": {},
   "outputs": [
    {
     "name": "stdin",
     "output_type": "stream",
     "text": [
      "enter a number(press 0 to return sum): 6\n",
      "enter a number(press 0 to return sum): 7\n",
      "enter a number(press 0 to return sum): 8\n",
      "enter a number(press 0 to return sum): 0\n"
     ]
    },
    {
     "name": "stdout",
     "output_type": "stream",
     "text": [
      "sum is 21\n"
     ]
    }
   ],
   "source": [
    "sum=0\n",
    "while (1):\n",
    "    n=int(input(\"enter a number(press 0 to return sum):\"))\n",
    "    if n==0:\n",
    "        print('sum is',sum)\n",
    "        break\n",
    "    sum=sum+n"
   ]
  },
  {
   "cell_type": "code",
   "execution_count": 576,
   "id": "9db0ec97-5501-4375-a057-936e19eef722",
   "metadata": {},
   "outputs": [
    {
     "name": "stdin",
     "output_type": "stream",
     "text": [
      "enter a number(press 0 to return sum): 4\n",
      "enter a number(press 0 to return sum): 5\n",
      "enter a number(press 0 to return sum): 6\n",
      "enter a number(press 0 to return sum): 6\n",
      "enter a number(press 0 to return sum): 7\n",
      "enter a number(press 0 to return sum): 7\n",
      "enter a number(press 0 to return sum): 0\n"
     ]
    },
    {
     "name": "stdout",
     "output_type": "stream",
     "text": [
      "sum is 35\n"
     ]
    }
   ],
   "source": [
    "sum=0\n",
    "while (1):\n",
    "    n=int(input(\"enter a number(press 0 to return sum):\"))\n",
    "    if n==0:\n",
    "        print('sum is',sum)\n",
    "        break\n",
    "    elif n>0:\n",
    "        sum=sum+n"
   ]
  },
  {
   "cell_type": "code",
   "execution_count": 577,
   "id": "cfcb07d4-9288-44f4-ab4d-50a44b160eb4",
   "metadata": {},
   "outputs": [
    {
     "name": "stdin",
     "output_type": "stream",
     "text": [
      "enter any number 5\n"
     ]
    },
    {
     "name": "stdout",
     "output_type": "stream",
     "text": [
      "120\n"
     ]
    }
   ],
   "source": [
    "n=int(input('enter any number'))\n",
    "fact=1\n",
    "if n>=0:\n",
    "    for i in range(1,n+1):\n",
    "        fact=fact*(i)\n",
    "    print(fact)\n",
    "else:\n",
    "    print('fact cant find')"
   ]
  },
  {
   "cell_type": "code",
   "execution_count": 578,
   "id": "b0e0f453-9f66-404d-b15c-dd8ad3bebe3d",
   "metadata": {},
   "outputs": [],
   "source": [
    "d=range(1,0)"
   ]
  },
  {
   "cell_type": "code",
   "execution_count": 579,
   "id": "410c563d-d689-477c-991e-c7f09d85d765",
   "metadata": {},
   "outputs": [
    {
     "data": {
      "text/plain": [
       "range(1, 0)"
      ]
     },
     "execution_count": 579,
     "metadata": {},
     "output_type": "execute_result"
    }
   ],
   "source": [
    "d"
   ]
  },
  {
   "cell_type": "code",
   "execution_count": 580,
   "id": "121d57f7-22ed-4c6a-a9b9-2b0f7e031a8b",
   "metadata": {},
   "outputs": [
    {
     "data": {
      "text/plain": [
       "[]"
      ]
     },
     "execution_count": 580,
     "metadata": {},
     "output_type": "execute_result"
    }
   ],
   "source": [
    "list(d)"
   ]
  },
  {
   "cell_type": "code",
   "execution_count": 581,
   "id": "2888018f-7318-4d34-9bbc-8654ca0b492a",
   "metadata": {},
   "outputs": [
    {
     "name": "stdout",
     "output_type": "stream",
     "text": [
      "j\n"
     ]
    }
   ],
   "source": [
    "for i in range(1,2):\n",
    "    print('j')"
   ]
  },
  {
   "cell_type": "code",
   "execution_count": 582,
   "id": "5bdcc9ad-c50c-472d-88ed-be138af92f2e",
   "metadata": {},
   "outputs": [
    {
     "name": "stdout",
     "output_type": "stream",
     "text": [
      "l\n"
     ]
    }
   ],
   "source": [
    "while(0):\n",
    "    print('j')\n",
    "else:\n",
    "    print('l')"
   ]
  },
  {
   "cell_type": "code",
   "execution_count": 583,
   "id": "b6caafde-a706-4a14-916c-0f3bfee953e2",
   "metadata": {},
   "outputs": [],
   "source": [
    "mylist=[]"
   ]
  },
  {
   "cell_type": "code",
   "execution_count": 584,
   "id": "24b2c865-b914-43e2-8635-82b71707397c",
   "metadata": {},
   "outputs": [
    {
     "data": {
      "text/plain": [
       "[]"
      ]
     },
     "execution_count": 584,
     "metadata": {},
     "output_type": "execute_result"
    }
   ],
   "source": [
    "mylist\n"
   ]
  },
  {
   "cell_type": "code",
   "execution_count": 585,
   "id": "271d56b1-c101-4d57-8247-862dbca8256a",
   "metadata": {},
   "outputs": [],
   "source": [
    "#list of intigers\n",
    "integerslist=[1,2,3,4,5,6,7,8]"
   ]
  },
  {
   "cell_type": "code",
   "execution_count": 586,
   "id": "ef3fb65b-29ea-4e03-b22a-478044bddea9",
   "metadata": {},
   "outputs": [
    {
     "data": {
      "text/plain": [
       "[1, 2, 3, 4, 5, 6, 7, 8]"
      ]
     },
     "execution_count": 586,
     "metadata": {},
     "output_type": "execute_result"
    }
   ],
   "source": [
    "integerslist"
   ]
  },
  {
   "cell_type": "code",
   "execution_count": 587,
   "id": "b0389d40-a459-463e-afc5-ef55b37ed90b",
   "metadata": {},
   "outputs": [],
   "source": [
    "number='10'"
   ]
  },
  {
   "cell_type": "code",
   "execution_count": 588,
   "id": "7c1808bd-9109-4145-9f65-f8a77b718cb1",
   "metadata": {},
   "outputs": [
    {
     "data": {
      "text/plain": [
       "'10'"
      ]
     },
     "execution_count": 588,
     "metadata": {},
     "output_type": "execute_result"
    }
   ],
   "source": [
    "number"
   ]
  },
  {
   "cell_type": "code",
   "execution_count": 589,
   "id": "598b58b8-224e-4c5a-80aa-d11b9e65beaf",
   "metadata": {},
   "outputs": [
    {
     "data": {
      "text/plain": [
       "10"
      ]
     },
     "execution_count": 589,
     "metadata": {},
     "output_type": "execute_result"
    }
   ],
   "source": [
    "int(number)"
   ]
  },
  {
   "cell_type": "code",
   "execution_count": 590,
   "id": "432b972b-9fbc-48ee-aa02-8b9d19ab2f3f",
   "metadata": {},
   "outputs": [
    {
     "data": {
      "text/plain": [
       "['1', '0']"
      ]
     },
     "execution_count": 590,
     "metadata": {},
     "output_type": "execute_result"
    }
   ],
   "source": [
    "list(number)"
   ]
  },
  {
   "cell_type": "code",
   "execution_count": 591,
   "id": "754815dc-ec33-494e-866b-e0ce311ba1c3",
   "metadata": {},
   "outputs": [
    {
     "data": {
      "text/plain": [
       "str"
      ]
     },
     "execution_count": 591,
     "metadata": {},
     "output_type": "execute_result"
    }
   ],
   "source": [
    "type(number)"
   ]
  },
  {
   "cell_type": "code",
   "execution_count": 592,
   "id": "0e877843-be6a-4c4d-be13-3e545cb8137c",
   "metadata": {},
   "outputs": [],
   "source": [
    "name='himanshu'"
   ]
  },
  {
   "cell_type": "code",
   "execution_count": 593,
   "id": "1567fe99-cfaf-479c-ae55-b26676526dcd",
   "metadata": {},
   "outputs": [],
   "source": [
    "x=list(name)"
   ]
  },
  {
   "cell_type": "code",
   "execution_count": 594,
   "id": "21a4ea37-b813-4927-bde8-1e2f51bc4107",
   "metadata": {},
   "outputs": [
    {
     "data": {
      "text/plain": [
       "['h', 'i', 'm', 'a', 'n', 's', 'h', 'u']"
      ]
     },
     "execution_count": 594,
     "metadata": {},
     "output_type": "execute_result"
    }
   ],
   "source": [
    "x"
   ]
  },
  {
   "cell_type": "code",
   "execution_count": 595,
   "id": "471f2b85-00a8-4e0e-b726-663afbc5f8f0",
   "metadata": {},
   "outputs": [
    {
     "data": {
      "text/plain": [
       "'a'"
      ]
     },
     "execution_count": 595,
     "metadata": {},
     "output_type": "execute_result"
    }
   ],
   "source": [
    "x[3]"
   ]
  },
  {
   "cell_type": "code",
   "execution_count": 596,
   "id": "09398f02-62eb-4398-95c4-277970e12ebe",
   "metadata": {},
   "outputs": [
    {
     "data": {
      "text/plain": [
       "['i', 'm', 'a', 'n']"
      ]
     },
     "execution_count": 596,
     "metadata": {},
     "output_type": "execute_result"
    }
   ],
   "source": [
    "x[1:5]"
   ]
  },
  {
   "cell_type": "code",
   "execution_count": 597,
   "id": "910ea1e5-1984-44de-96b4-ff7a678abc0a",
   "metadata": {},
   "outputs": [
    {
     "data": {
      "text/plain": [
       "8"
      ]
     },
     "execution_count": 597,
     "metadata": {},
     "output_type": "execute_result"
    }
   ],
   "source": [
    "len(x)"
   ]
  },
  {
   "cell_type": "code",
   "execution_count": 598,
   "id": "2a993e0d-1ab4-47da-81bd-0e44e123aa8b",
   "metadata": {},
   "outputs": [
    {
     "data": {
      "text/plain": [
       "list"
      ]
     },
     "execution_count": 598,
     "metadata": {},
     "output_type": "execute_result"
    }
   ],
   "source": [
    "list"
   ]
  },
  {
   "cell_type": "code",
   "execution_count": 599,
   "id": "4249c3b0-e48a-4f57-99db-e23d92deb863",
   "metadata": {},
   "outputs": [],
   "source": [
    "names=[\"himanshu\",\"mishra\"]"
   ]
  },
  {
   "cell_type": "code",
   "execution_count": 600,
   "id": "b820e922-75d5-419d-a8a1-e3b8caad3ca6",
   "metadata": {},
   "outputs": [
    {
     "data": {
      "text/plain": [
       "['himanshu', 'mishra']"
      ]
     },
     "execution_count": 600,
     "metadata": {},
     "output_type": "execute_result"
    }
   ],
   "source": [
    "names"
   ]
  },
  {
   "cell_type": "code",
   "execution_count": 601,
   "id": "9f10a3f0-0b9c-481f-88bb-3682b2e826f2",
   "metadata": {},
   "outputs": [],
   "source": [
    "names[1]='shekhar'"
   ]
  },
  {
   "cell_type": "code",
   "execution_count": 602,
   "id": "8dae967a-dfbc-4840-9726-f7e29c1a4e82",
   "metadata": {},
   "outputs": [
    {
     "data": {
      "text/plain": [
       "['himanshu', 'shekhar']"
      ]
     },
     "execution_count": 602,
     "metadata": {},
     "output_type": "execute_result"
    }
   ],
   "source": [
    "names"
   ]
  },
  {
   "cell_type": "code",
   "execution_count": 603,
   "id": "96d5d9ee-9e46-4127-a3d3-89b2a21dd011",
   "metadata": {},
   "outputs": [],
   "source": [
    "names[0:]=['ambuj','kumar']"
   ]
  },
  {
   "cell_type": "markdown",
   "id": "9cc399a5-ae2b-4737-8816-5f6e372ea32b",
   "metadata": {},
   "source": [
    "names"
   ]
  },
  {
   "cell_type": "code",
   "execution_count": 604,
   "id": "b8dd7d78-9a7a-4463-b953-54d87ca90597",
   "metadata": {},
   "outputs": [
    {
     "data": {
      "text/plain": [
       "['ambuj', 'kumar']"
      ]
     },
     "execution_count": 604,
     "metadata": {},
     "output_type": "execute_result"
    }
   ],
   "source": [
    "names"
   ]
  },
  {
   "cell_type": "code",
   "execution_count": 605,
   "id": "77778f6a-198e-4d2e-92e6-e6025d66cd2c",
   "metadata": {},
   "outputs": [],
   "source": [
    "a_section=['gupta','rishabh','sam']\n",
    "b_section=['mishra','archi','ambuj','shekhar']"
   ]
  },
  {
   "cell_type": "code",
   "execution_count": 606,
   "id": "07d0fef9-321c-4efd-a054-2d66ca7580f6",
   "metadata": {},
   "outputs": [],
   "source": [
    "total=a_section+b_section\n"
   ]
  },
  {
   "cell_type": "code",
   "execution_count": 607,
   "id": "15d0e3dd-f754-41dd-aa16-c04c87f759bb",
   "metadata": {},
   "outputs": [
    {
     "data": {
      "text/plain": [
       "['gupta', 'rishabh', 'sam', 'mishra', 'archi', 'ambuj', 'shekhar']"
      ]
     },
     "execution_count": 607,
     "metadata": {},
     "output_type": "execute_result"
    }
   ],
   "source": [
    "total"
   ]
  },
  {
   "cell_type": "code",
   "execution_count": 608,
   "id": "497afae3-1a13-4d6d-954f-f45f834fddda",
   "metadata": {},
   "outputs": [
    {
     "ename": "TypeError",
     "evalue": "can only concatenate list (not \"str\") to list",
     "output_type": "error",
     "traceback": [
      "\u001b[1;31m---------------------------------------------------------------------------\u001b[0m",
      "\u001b[1;31mTypeError\u001b[0m                                 Traceback (most recent call last)",
      "Cell \u001b[1;32mIn[608], line 1\u001b[0m\n\u001b[1;32m----> 1\u001b[0m \u001b[43mtotal\u001b[49m\u001b[38;5;241;43m+\u001b[39;49m\u001b[38;5;124;43m'\u001b[39;49m\u001b[38;5;124;43mhimanshu\u001b[39;49m\u001b[38;5;124;43m'\u001b[39;49m\n",
      "\u001b[1;31mTypeError\u001b[0m: can only concatenate list (not \"str\") to list"
     ]
    }
   ],
   "source": [
    "total+'himanshu'"
   ]
  },
  {
   "cell_type": "code",
   "execution_count": 609,
   "id": "b8dc5a00-9617-4a0d-a7aa-4ea5877d8b27",
   "metadata": {},
   "outputs": [
    {
     "data": {
      "text/plain": [
       "['gupta', 'rishabh', 'sam', 'mishra', 'archi', 'ambuj', 'shekhar', 'himanshu']"
      ]
     },
     "execution_count": 609,
     "metadata": {},
     "output_type": "execute_result"
    }
   ],
   "source": [
    "total+[\"himanshu\"]"
   ]
  },
  {
   "cell_type": "code",
   "execution_count": 610,
   "id": "015617d1-aaa4-4db1-bb6c-233859d2aca4",
   "metadata": {},
   "outputs": [
    {
     "ename": "TypeError",
     "evalue": "can only concatenate list (not \"str\") to list",
     "output_type": "error",
     "traceback": [
      "\u001b[1;31m---------------------------------------------------------------------------\u001b[0m",
      "\u001b[1;31mTypeError\u001b[0m                                 Traceback (most recent call last)",
      "Cell \u001b[1;32mIn[610], line 1\u001b[0m\n\u001b[1;32m----> 1\u001b[0m \u001b[43mtotal\u001b[49m\u001b[38;5;241;43m+\u001b[39;49m\u001b[43m(\u001b[49m\u001b[38;5;124;43m\"\u001b[39;49m\u001b[38;5;124;43mhimanshu\u001b[39;49m\u001b[38;5;124;43m\"\u001b[39;49m\u001b[43m)\u001b[49m\n",
      "\u001b[1;31mTypeError\u001b[0m: can only concatenate list (not \"str\") to list"
     ]
    }
   ],
   "source": [
    "total+(\"himanshu\")"
   ]
  },
  {
   "cell_type": "code",
   "execution_count": 611,
   "id": "4bc9e6a1-6cec-4bd5-9707-077933f3e2de",
   "metadata": {},
   "outputs": [
    {
     "data": {
      "text/plain": [
       "['gupta',\n",
       " 'rishabh',\n",
       " 'sam',\n",
       " 'mishra',\n",
       " 'archi',\n",
       " 'ambuj',\n",
       " 'shekhar',\n",
       " 'h',\n",
       " 'i',\n",
       " 'm',\n",
       " 'a',\n",
       " 'n',\n",
       " 's',\n",
       " 'h',\n",
       " 'u']"
      ]
     },
     "execution_count": 611,
     "metadata": {},
     "output_type": "execute_result"
    }
   ],
   "source": [
    "total+list(\"himanshu\")"
   ]
  },
  {
   "cell_type": "code",
   "execution_count": 612,
   "id": "ebd431cf-b7de-4804-97ab-48841c5a1057",
   "metadata": {},
   "outputs": [
    {
     "data": {
      "text/plain": [
       "['gupta',\n",
       " 'rishabh',\n",
       " 'sam',\n",
       " 'mishra',\n",
       " 'archi',\n",
       " 'ambuj',\n",
       " 'shekhar',\n",
       " 'gupta',\n",
       " 'rishabh',\n",
       " 'sam',\n",
       " 'mishra',\n",
       " 'archi',\n",
       " 'ambuj',\n",
       " 'shekhar']"
      ]
     },
     "execution_count": 612,
     "metadata": {},
     "output_type": "execute_result"
    }
   ],
   "source": [
    "total*2"
   ]
  },
  {
   "cell_type": "code",
   "execution_count": 613,
   "id": "c81a4b67-e3e6-4374-a760-490d753ed70d",
   "metadata": {},
   "outputs": [
    {
     "data": {
      "text/plain": [
       "['gupta', 'rishabh', 'sam', 'mishra', 'archi', 'ambuj', 'shekhar']"
      ]
     },
     "execution_count": 613,
     "metadata": {},
     "output_type": "execute_result"
    }
   ],
   "source": [
    "total"
   ]
  },
  {
   "cell_type": "code",
   "execution_count": 614,
   "id": "1e2b994d-a105-40ba-9548-381ad6474313",
   "metadata": {},
   "outputs": [
    {
     "data": {
      "text/plain": [
       "False"
      ]
     },
     "execution_count": 614,
     "metadata": {},
     "output_type": "execute_result"
    }
   ],
   "source": [
    "'gupta' not in total"
   ]
  },
  {
   "cell_type": "markdown",
   "id": "37991f0a-f662-479c-8319-aeb7c5da49d9",
   "metadata": {},
   "source": [
    "functions in the list"
   ]
  },
  {
   "cell_type": "markdown",
   "id": "23dcab4f-302d-4cf7-af57-1ba418df65d8",
   "metadata": {},
   "source": [
    "len()\n",
    "max()\n",
    "min()\n",
    "sorted()\n",
    "all()\n",
    "sum()\n",
    "any()\n",
    "list()\n"
   ]
  },
  {
   "cell_type": "markdown",
   "id": "a5777113-4495-4be8-a14b-461401396f3b",
   "metadata": {},
   "source": [
    "list methods"
   ]
  },
  {
   "cell_type": "markdown",
   "id": "a363712f-824e-4a84-8ebc-9e12f6d61446",
   "metadata": {},
   "source": [
    "append()\n",
    "extend()\n",
    "reverse()\n",
    "count()\n",
    "index()\n",
    "remove()\n",
    "pop()\n",
    "clear()\n",
    "sort()\n",
    "insert()"
   ]
  },
  {
   "cell_type": "code",
   "execution_count": 615,
   "id": "73c13ce7-cdc0-4461-93a9-fa564b77baa9",
   "metadata": {},
   "outputs": [
    {
     "data": {
      "text/plain": [
       "'u'"
      ]
     },
     "execution_count": 615,
     "metadata": {},
     "output_type": "execute_result"
    }
   ],
   "source": [
    "max(\"aambuj\")"
   ]
  },
  {
   "cell_type": "code",
   "execution_count": 616,
   "id": "83d0a40f-7469-45bb-a2df-b780fe8a8148",
   "metadata": {},
   "outputs": [],
   "source": [
    "arr = [3,4,5,4,6]"
   ]
  },
  {
   "cell_type": "code",
   "execution_count": 617,
   "id": "d5dad299-bb5d-4e4c-976c-b98c7f7d5da3",
   "metadata": {},
   "outputs": [
    {
     "name": "stdout",
     "output_type": "stream",
     "text": [
      "2\n"
     ]
    }
   ],
   "source": [
    "print(arr.count(4))"
   ]
  },
  {
   "cell_type": "code",
   "execution_count": 618,
   "id": "82d8b6b2-e4a3-4e04-aeff-e9b895a53a64",
   "metadata": {},
   "outputs": [
    {
     "ename": "AttributeError",
     "evalue": "'int' object has no attribute 'count'",
     "output_type": "error",
     "traceback": [
      "\u001b[1;31m---------------------------------------------------------------------------\u001b[0m",
      "\u001b[1;31mAttributeError\u001b[0m                            Traceback (most recent call last)",
      "Cell \u001b[1;32mIn[618], line 2\u001b[0m\n\u001b[0;32m      1\u001b[0m inr \u001b[38;5;241m=\u001b[39m \u001b[38;5;241m5\u001b[39m\n\u001b[1;32m----> 2\u001b[0m \u001b[43minr\u001b[49m\u001b[38;5;241;43m.\u001b[39;49m\u001b[43mcount\u001b[49m(\u001b[38;5;241m5\u001b[39m)\n",
      "\u001b[1;31mAttributeError\u001b[0m: 'int' object has no attribute 'count'"
     ]
    }
   ],
   "source": [
    "inr = 5\n",
    "inr.count(5)"
   ]
  },
  {
   "cell_type": "code",
   "execution_count": 619,
   "id": "7b367733-c86d-452d-aed6-a9a5d0d15c86",
   "metadata": {},
   "outputs": [
    {
     "ename": "NameError",
     "evalue": "name 'int' is not defined",
     "output_type": "error",
     "traceback": [
      "\u001b[1;31m---------------------------------------------------------------------------\u001b[0m",
      "\u001b[1;31mNameError\u001b[0m                                 Traceback (most recent call last)",
      "Cell \u001b[1;32mIn[619], line 1\u001b[0m\n\u001b[1;32m----> 1\u001b[0m \u001b[38;5;28;01mdel\u001b[39;00m \u001b[38;5;28;43mint\u001b[39;49m\n",
      "\u001b[1;31mNameError\u001b[0m: name 'int' is not defined"
     ]
    }
   ],
   "source": [
    "del int"
   ]
  },
  {
   "cell_type": "code",
   "execution_count": 620,
   "id": "e31fb0a1-b347-44e3-a48d-8184b313d26b",
   "metadata": {},
   "outputs": [
    {
     "data": {
      "text/plain": [
       "int"
      ]
     },
     "execution_count": 620,
     "metadata": {},
     "output_type": "execute_result"
    }
   ],
   "source": [
    "int"
   ]
  },
  {
   "cell_type": "code",
   "execution_count": 621,
   "id": "e6cc5ae6-c2b7-467b-a439-d4ee07bfd724",
   "metadata": {},
   "outputs": [],
   "source": [
    "n=[89,67,8,9,0,6,78,98,45,34,6]"
   ]
  },
  {
   "cell_type": "code",
   "execution_count": 622,
   "id": "d283db7f-4cca-44c4-9e53-68422d381df5",
   "metadata": {},
   "outputs": [
    {
     "data": {
      "text/plain": [
       "11"
      ]
     },
     "execution_count": 622,
     "metadata": {},
     "output_type": "execute_result"
    }
   ],
   "source": [
    "len(n)"
   ]
  },
  {
   "cell_type": "code",
   "execution_count": 623,
   "id": "be8028ac-35c9-48c8-99ff-1255117a0778",
   "metadata": {},
   "outputs": [
    {
     "data": {
      "text/plain": [
       "[0, 6, 6, 8, 9, 34, 45, 67, 78, 89, 98]"
      ]
     },
     "execution_count": 623,
     "metadata": {},
     "output_type": "execute_result"
    }
   ],
   "source": [
    "sorted(n)"
   ]
  },
  {
   "cell_type": "code",
   "execution_count": 624,
   "id": "d2ba4fe2-24f0-4139-8487-31018944b161",
   "metadata": {},
   "outputs": [
    {
     "data": {
      "text/plain": [
       "[98, 89, 78, 67, 45, 34, 9, 8, 6, 6, 0]"
      ]
     },
     "execution_count": 624,
     "metadata": {},
     "output_type": "execute_result"
    }
   ],
   "source": [
    "sorted(n, reverse = True)"
   ]
  },
  {
   "cell_type": "code",
   "execution_count": 625,
   "id": "9c0b30dd-d2f8-465c-8989-ce3df1815c2d",
   "metadata": {},
   "outputs": [
    {
     "data": {
      "text/plain": [
       "['gupta', 'rishabh', 'sam', 'mishra', 'archi', 'ambuj', 'shekhar']"
      ]
     },
     "execution_count": 625,
     "metadata": {},
     "output_type": "execute_result"
    }
   ],
   "source": [
    "total"
   ]
  },
  {
   "cell_type": "code",
   "execution_count": 626,
   "id": "b22c8239-b699-457e-9240-255854b07e19",
   "metadata": {},
   "outputs": [
    {
     "data": {
      "text/plain": [
       "['ambuj', 'archi', 'gupta', 'mishra', 'rishabh', 'sam', 'shekhar']"
      ]
     },
     "execution_count": 626,
     "metadata": {},
     "output_type": "execute_result"
    }
   ],
   "source": [
    "sorted(total)"
   ]
  },
  {
   "cell_type": "code",
   "execution_count": 627,
   "id": "1e3aca6c-55d1-4adb-bc3f-11cfde3cdf3c",
   "metadata": {},
   "outputs": [
    {
     "data": {
      "text/plain": [
       "['shekhar', 'sam', 'rishabh', 'mishra', 'gupta', 'archi', 'ambuj']"
      ]
     },
     "execution_count": 627,
     "metadata": {},
     "output_type": "execute_result"
    }
   ],
   "source": [
    "sorted(total , reverse = True)"
   ]
  },
  {
   "cell_type": "code",
   "execution_count": 628,
   "id": "6bbb6d6b-ec7d-4eb5-96d5-2638b09601da",
   "metadata": {},
   "outputs": [
    {
     "data": {
      "text/plain": [
       "['sam', 'gupta', 'archi', 'ambuj', 'mishra', 'rishabh', 'shekhar']"
      ]
     },
     "execution_count": 628,
     "metadata": {},
     "output_type": "execute_result"
    }
   ],
   "source": [
    "sorted (total, key = len )"
   ]
  },
  {
   "cell_type": "code",
   "execution_count": 629,
   "id": "41d6f2d4-f061-416f-b831-25b4a17c9e5f",
   "metadata": {},
   "outputs": [
    {
     "data": {
      "text/plain": [
       "['gupta', 'rishabh', 'sam', 'mishra', 'archi', 'ambuj', 'shekhar']"
      ]
     },
     "execution_count": 629,
     "metadata": {},
     "output_type": "execute_result"
    }
   ],
   "source": [
    "total"
   ]
  },
  {
   "cell_type": "code",
   "execution_count": 630,
   "id": "e570cf6a-e333-4717-ac74-866a8952f0c4",
   "metadata": {},
   "outputs": [
    {
     "data": {
      "text/plain": [
       "True"
      ]
     },
     "execution_count": 630,
     "metadata": {},
     "output_type": "execute_result"
    }
   ],
   "source": [
    "all(total)"
   ]
  },
  {
   "cell_type": "code",
   "execution_count": 631,
   "id": "41ad7a7d-a908-4fca-b3c0-e0d464c660e8",
   "metadata": {},
   "outputs": [],
   "source": [
    "total=total+[False]"
   ]
  },
  {
   "cell_type": "code",
   "execution_count": 632,
   "id": "2b46007c-30be-4fab-8c61-4563ed448653",
   "metadata": {},
   "outputs": [
    {
     "data": {
      "text/plain": [
       "False"
      ]
     },
     "execution_count": 632,
     "metadata": {},
     "output_type": "execute_result"
    }
   ],
   "source": [
    "all(total)"
   ]
  },
  {
   "cell_type": "code",
   "execution_count": 633,
   "id": "b548eba6-8130-4b2c-aae2-31dc6c375405",
   "metadata": {},
   "outputs": [
    {
     "data": {
      "text/plain": [
       "True"
      ]
     },
     "execution_count": 633,
     "metadata": {},
     "output_type": "execute_result"
    }
   ],
   "source": [
    "any(total)"
   ]
  },
  {
   "cell_type": "code",
   "execution_count": 634,
   "id": "757e3556-d138-4430-8550-b5c251efc53b",
   "metadata": {},
   "outputs": [
    {
     "data": {
      "text/plain": [
       "False"
      ]
     },
     "execution_count": 634,
     "metadata": {},
     "output_type": "execute_result"
    }
   ],
   "source": [
    "all(n)"
   ]
  },
  {
   "cell_type": "code",
   "execution_count": 635,
   "id": "5d6776fb-f2aa-40b5-b094-c707ee8534aa",
   "metadata": {},
   "outputs": [],
   "source": [
    "prime=[2,3,5,7,9,11,13]"
   ]
  },
  {
   "cell_type": "code",
   "execution_count": 636,
   "id": "62dbbc3b-6af0-4410-8504-608e0098ccc2",
   "metadata": {},
   "outputs": [],
   "source": [
    "prime.append(17)"
   ]
  },
  {
   "cell_type": "code",
   "execution_count": 45,
   "id": "099e7eb6-18d3-4cec-8eb8-756300352a52",
   "metadata": {},
   "outputs": [
    {
     "data": {
      "text/plain": [
       "[2, 3, 5, 7, 9, 11, 13, 17, 17]"
      ]
     },
     "execution_count": 45,
     "metadata": {},
     "output_type": "execute_result"
    }
   ],
   "source": [
    "prime"
   ]
  },
  {
   "cell_type": "markdown",
   "id": "91b461ec-660b-4ce9-aaaf-68a92b2abce5",
   "metadata": {},
   "source": [
    "* safj"
   ]
  },
  {
   "cell_type": "markdown",
   "id": "823939ad-dde5-4001-9b40-43867005b3c8",
   "metadata": {},
   "source": [
    "### list from here "
   ]
  },
  {
   "cell_type": "code",
   "execution_count": 46,
   "id": "e2d9a100-a1f2-4213-b643-0fbac6de5f90",
   "metadata": {},
   "outputs": [
    {
     "data": {
      "text/plain": [
       "['gupta', 'rishabh', 'sam', 'mishra', 'archi', 'ambuj', 'shekhar', False]"
      ]
     },
     "execution_count": 46,
     "metadata": {},
     "output_type": "execute_result"
    }
   ],
   "source": [
    "total"
   ]
  },
  {
   "cell_type": "code",
   "execution_count": 2,
   "id": "246ce032-7a6a-49b6-a948-1efa7069f998",
   "metadata": {},
   "outputs": [
    {
     "ename": "NameError",
     "evalue": "name 'n' is not defined",
     "output_type": "error",
     "traceback": [
      "\u001b[1;31m---------------------------------------------------------------------------\u001b[0m",
      "\u001b[1;31mNameError\u001b[0m                                 Traceback (most recent call last)",
      "Cell \u001b[1;32mIn[2], line 1\u001b[0m\n\u001b[1;32m----> 1\u001b[0m \u001b[43mn\u001b[49m\n",
      "\u001b[1;31mNameError\u001b[0m: name 'n' is not defined"
     ]
    }
   ],
   "source": [
    "n"
   ]
  },
  {
   "cell_type": "code",
   "execution_count": 57,
   "id": "43e348ac-593b-4aec-812f-b82a270bc6be",
   "metadata": {},
   "outputs": [],
   "source": [
    "total.append(n)\n",
    "\n",
    "total.extend([89, 67, 8, 9, 0, 6, 78, 98, 45, 34, 6])"
   ]
  },
  {
   "cell_type": "code",
   "execution_count": 58,
   "id": "59f64d7a-f526-4acb-b345-25280de97f84",
   "metadata": {},
   "outputs": [
    {
     "data": {
      "text/plain": [
       "['gupta',\n",
       " 'rishabh',\n",
       " 'sam',\n",
       " 'mishra',\n",
       " 'archi',\n",
       " 'ambuj',\n",
       " 'shekhar',\n",
       " False,\n",
       " [89, 67, 8, 9, 0, 6, 78, 98, 45, 34, 6],\n",
       " [89, 67, 8, 9, 0, 6, 78, 98, 45, 34, 6],\n",
       " [89, 67, 8, 9, 0, 6, 78, 98, 45, 34, 6],\n",
       " [89, 67, 8, 9, 0, 6, 78, 98, 45, 34, 6],\n",
       " [89, 67, 8, 9, 0, 6, 78, 98, 45, 34, 6],\n",
       " [89, 67, 8, 9, 0, 6, 78, 98, 45, 34, 6],\n",
       " [89, 67, 8, 9, 0, 6, 78, 98, 45, 34, 6],\n",
       " 89,\n",
       " 67,\n",
       " 8,\n",
       " 9,\n",
       " 0,\n",
       " 6,\n",
       " 78,\n",
       " 98,\n",
       " 45,\n",
       " 34,\n",
       " 6,\n",
       " [89, 67, 8, 9, 0, 6, 78, 98, 45, 34, 6],\n",
       " [89, 67, 8, 9, 0, 6, 78, 98, 45, 34, 6],\n",
       " 89,\n",
       " 67,\n",
       " 8,\n",
       " 9,\n",
       " 0,\n",
       " 6,\n",
       " 78,\n",
       " 98,\n",
       " 45,\n",
       " 34,\n",
       " 6]"
      ]
     },
     "execution_count": 58,
     "metadata": {},
     "output_type": "execute_result"
    }
   ],
   "source": [
    "total"
   ]
  },
  {
   "cell_type": "code",
   "execution_count": 59,
   "id": "0850bec7-7633-449e-98b2-eacdde9266ab",
   "metadata": {},
   "outputs": [
    {
     "data": {
      "text/plain": [
       "[2, 3, 5, 7, 9, 11, 13, 17, 17]"
      ]
     },
     "execution_count": 59,
     "metadata": {},
     "output_type": "execute_result"
    }
   ],
   "source": [
    "prime"
   ]
  },
  {
   "cell_type": "code",
   "execution_count": 61,
   "id": "5a7480b5-0ff2-475d-9a87-cb22754e2622",
   "metadata": {},
   "outputs": [],
   "source": [
    "prime.insert(0,23)"
   ]
  },
  {
   "cell_type": "code",
   "execution_count": 62,
   "id": "e5efd4b9-8a4b-406e-a41b-22b6c7821901",
   "metadata": {},
   "outputs": [
    {
     "data": {
      "text/plain": [
       "[23, 2, 3, 5, 7, 9, 11, 13, 17, 17]"
      ]
     },
     "execution_count": 62,
     "metadata": {},
     "output_type": "execute_result"
    }
   ],
   "source": [
    "prime"
   ]
  },
  {
   "cell_type": "code",
   "execution_count": 63,
   "id": "ec67f16b-e689-4f5c-98f7-a546feb5c0cc",
   "metadata": {},
   "outputs": [],
   "source": [
    "prime.insert(23,5)"
   ]
  },
  {
   "cell_type": "code",
   "execution_count": 64,
   "id": "36bc0d4f-7caa-4f09-8528-2f1f2bf78c3f",
   "metadata": {},
   "outputs": [
    {
     "data": {
      "text/plain": [
       "[23, 2, 3, 5, 7, 9, 11, 13, 17, 17, 5]"
      ]
     },
     "execution_count": 64,
     "metadata": {},
     "output_type": "execute_result"
    }
   ],
   "source": [
    "prime"
   ]
  },
  {
   "cell_type": "code",
   "execution_count": 65,
   "id": "5fbd2a5f-9b26-40f1-9045-9c15108168b7",
   "metadata": {},
   "outputs": [],
   "source": [
    "prime[2]=3"
   ]
  },
  {
   "cell_type": "code",
   "execution_count": 66,
   "id": "68456523-5e92-4a18-a19f-f49f91fc22e5",
   "metadata": {},
   "outputs": [
    {
     "data": {
      "text/plain": [
       "[23, 2, 3, 5, 7, 9, 11, 13, 17, 17, 5]"
      ]
     },
     "execution_count": 66,
     "metadata": {},
     "output_type": "execute_result"
    }
   ],
   "source": [
    "prime"
   ]
  },
  {
   "cell_type": "code",
   "execution_count": 67,
   "id": "c1f57759-f919-4f9f-abc6-4b1f07d1a49e",
   "metadata": {},
   "outputs": [],
   "source": [
    "prime[3]=3"
   ]
  },
  {
   "cell_type": "code",
   "execution_count": 68,
   "id": "c6d5b846-4abc-4ce2-9327-e4d83cf716c6",
   "metadata": {},
   "outputs": [
    {
     "data": {
      "text/plain": [
       "[23, 2, 3, 3, 7, 9, 11, 13, 17, 17, 5]"
      ]
     },
     "execution_count": 68,
     "metadata": {},
     "output_type": "execute_result"
    }
   ],
   "source": [
    "prime"
   ]
  },
  {
   "cell_type": "code",
   "execution_count": 1,
   "id": "c2111372-7116-460b-874c-e5a93b7d60ca",
   "metadata": {},
   "outputs": [
    {
     "ename": "NameError",
     "evalue": "name 'n' is not defined",
     "output_type": "error",
     "traceback": [
      "\u001b[1;31m---------------------------------------------------------------------------\u001b[0m",
      "\u001b[1;31mNameError\u001b[0m                                 Traceback (most recent call last)",
      "Cell \u001b[1;32mIn[1], line 1\u001b[0m\n\u001b[1;32m----> 1\u001b[0m \u001b[43mn\u001b[49m\n",
      "\u001b[1;31mNameError\u001b[0m: name 'n' is not defined"
     ]
    }
   ],
   "source": [
    "n"
   ]
  },
  {
   "cell_type": "code",
   "execution_count": 4,
   "id": "57a6dc93-e2b9-43f4-b041-2477ff89466a",
   "metadata": {},
   "outputs": [
    {
     "data": {
      "text/plain": [
       "[89, 67, 8, 9, 0, 6, 78, 98, 45, 34, 6]"
      ]
     },
     "execution_count": 4,
     "metadata": {},
     "output_type": "execute_result"
    }
   ],
   "source": [
    "n"
   ]
  },
  {
   "cell_type": "code",
   "execution_count": 5,
   "id": "aae0aa49-c049-4783-ad7e-cfd211ad1dfc",
   "metadata": {},
   "outputs": [
    {
     "data": {
      "text/plain": [
       "2"
      ]
     },
     "execution_count": 5,
     "metadata": {},
     "output_type": "execute_result"
    }
   ],
   "source": [
    "n.count(6)"
   ]
  },
  {
   "cell_type": "code",
   "execution_count": 6,
   "id": "0a984bb9-05ba-45dd-b5e2-64040799fb6b",
   "metadata": {},
   "outputs": [],
   "source": [
    "#index()"
   ]
  },
  {
   "cell_type": "code",
   "execution_count": 7,
   "id": "c29c2a3e-c677-4e2f-b25b-e5def6d51f9d",
   "metadata": {},
   "outputs": [
    {
     "data": {
      "text/plain": [
       "[89, 67, 8, 9, 0, 6, 78, 98, 45, 34, 6]"
      ]
     },
     "execution_count": 7,
     "metadata": {},
     "output_type": "execute_result"
    }
   ],
   "source": [
    "n"
   ]
  },
  {
   "cell_type": "code",
   "execution_count": 8,
   "id": "1ab754e3-a8f1-4ef1-b9f3-0ba3d9bfaa3c",
   "metadata": {},
   "outputs": [
    {
     "data": {
      "text/plain": [
       "3"
      ]
     },
     "execution_count": 8,
     "metadata": {},
     "output_type": "execute_result"
    }
   ],
   "source": [
    "n.index(9)"
   ]
  },
  {
   "cell_type": "code",
   "execution_count": 9,
   "id": "70052fbc-6574-4671-afac-de5f012239be",
   "metadata": {},
   "outputs": [
    {
     "data": {
      "text/plain": [
       "5"
      ]
     },
     "execution_count": 9,
     "metadata": {},
     "output_type": "execute_result"
    }
   ],
   "source": [
    "n.index(6)"
   ]
  },
  {
   "cell_type": "code",
   "execution_count": 10,
   "id": "0ce34cdd-e66e-4453-82a3-69a6e17c3422",
   "metadata": {},
   "outputs": [
    {
     "data": {
      "text/plain": [
       "[89, 67, 8, 9, 0, 6, 78, 98, 45, 34, 6]"
      ]
     },
     "execution_count": 10,
     "metadata": {},
     "output_type": "execute_result"
    }
   ],
   "source": [
    "n"
   ]
  },
  {
   "cell_type": "code",
   "execution_count": 11,
   "id": "c0a06494-97ea-4007-8651-90e72722ac4b",
   "metadata": {},
   "outputs": [],
   "source": [
    "n.remove(9)"
   ]
  },
  {
   "cell_type": "code",
   "execution_count": 146,
   "id": "66ff7164-eb7d-49ff-9a02-ff2e0c5d9d0b",
   "metadata": {},
   "outputs": [],
   "source": [
    "n=[89, 67, 8, 0, 6, 78, 98, 45, 34, 6]"
   ]
  },
  {
   "cell_type": "code",
   "execution_count": 147,
   "id": "60934612-c1ea-482d-aa92-069f8ef450b9",
   "metadata": {},
   "outputs": [],
   "source": [
    "n.remove(6)"
   ]
  },
  {
   "cell_type": "code",
   "execution_count": 148,
   "id": "251d380a-2cc2-4238-985a-59cca6fd980f",
   "metadata": {},
   "outputs": [
    {
     "data": {
      "text/plain": [
       "[89, 67, 8, 0, 78, 98, 45, 34, 6]"
      ]
     },
     "execution_count": 148,
     "metadata": {},
     "output_type": "execute_result"
    }
   ],
   "source": [
    "n"
   ]
  },
  {
   "cell_type": "code",
   "execution_count": 149,
   "id": "9565e228-f1e1-4b80-ac71-aae7056c6811",
   "metadata": {},
   "outputs": [
    {
     "data": {
      "text/plain": [
       "6"
      ]
     },
     "execution_count": 149,
     "metadata": {},
     "output_type": "execute_result"
    }
   ],
   "source": [
    "n.pop(8)"
   ]
  },
  {
   "cell_type": "code",
   "execution_count": 150,
   "id": "d723c309-518c-403e-846d-6cf764d52bda",
   "metadata": {},
   "outputs": [
    {
     "data": {
      "text/plain": [
       "[89, 67, 8, 0, 78, 98, 45, 34]"
      ]
     },
     "execution_count": 150,
     "metadata": {},
     "output_type": "execute_result"
    }
   ],
   "source": [
    "n"
   ]
  },
  {
   "cell_type": "code",
   "execution_count": 17,
   "id": "34abb165-df22-42a4-beb2-cc6d69f5f926",
   "metadata": {},
   "outputs": [
    {
     "data": {
      "text/plain": [
       "8"
      ]
     },
     "execution_count": 17,
     "metadata": {},
     "output_type": "execute_result"
    }
   ],
   "source": [
    "n.pop(2)"
   ]
  },
  {
   "cell_type": "code",
   "execution_count": 18,
   "id": "a86ddfb6-35b1-4c0f-8e17-83fbe3d9f7a1",
   "metadata": {},
   "outputs": [
    {
     "data": {
      "text/plain": [
       "[89, 67, 0, 78, 98, 45, 34]"
      ]
     },
     "execution_count": 18,
     "metadata": {},
     "output_type": "execute_result"
    }
   ],
   "source": [
    "n"
   ]
  },
  {
   "cell_type": "code",
   "execution_count": 20,
   "id": "12e42052-1136-461d-9299-2f55023d71f0",
   "metadata": {},
   "outputs": [],
   "source": [
    "n.append(9)"
   ]
  },
  {
   "cell_type": "code",
   "execution_count": 21,
   "id": "5c326b05-8223-452a-94f0-1ccd57a2cc7b",
   "metadata": {},
   "outputs": [
    {
     "data": {
      "text/plain": [
       "[89, 67, 0, 78, 98, 45, 34, 9]"
      ]
     },
     "execution_count": 21,
     "metadata": {},
     "output_type": "execute_result"
    }
   ],
   "source": [
    "n"
   ]
  },
  {
   "cell_type": "code",
   "execution_count": 22,
   "id": "2731a78b-2fc6-4b93-892e-a2f7685f7539",
   "metadata": {},
   "outputs": [],
   "source": [
    "n.append(6)"
   ]
  },
  {
   "cell_type": "code",
   "execution_count": 23,
   "id": "ab43e374-0db6-4204-aec7-5a704c845b07",
   "metadata": {},
   "outputs": [
    {
     "data": {
      "text/plain": [
       "[89, 67, 0, 78, 98, 45, 34, 9, 6]"
      ]
     },
     "execution_count": 23,
     "metadata": {},
     "output_type": "execute_result"
    }
   ],
   "source": [
    "n"
   ]
  },
  {
   "cell_type": "code",
   "execution_count": 24,
   "id": "03ff1ebb-2d36-4287-9be1-03711c7740fc",
   "metadata": {},
   "outputs": [],
   "source": [
    "n.append(0)"
   ]
  },
  {
   "cell_type": "code",
   "execution_count": 25,
   "id": "b0a59912-b48f-433c-a714-4f318c50fd0d",
   "metadata": {},
   "outputs": [
    {
     "data": {
      "text/plain": [
       "[89, 67, 0, 78, 98, 45, 34, 9, 6, 0]"
      ]
     },
     "execution_count": 25,
     "metadata": {},
     "output_type": "execute_result"
    }
   ],
   "source": [
    "n"
   ]
  },
  {
   "cell_type": "code",
   "execution_count": 26,
   "id": "d2dbbed0-fd54-4fde-97de-6fb863c0f9fb",
   "metadata": {},
   "outputs": [
    {
     "data": {
      "text/plain": [
       "0"
      ]
     },
     "execution_count": 26,
     "metadata": {},
     "output_type": "execute_result"
    }
   ],
   "source": [
    "n.pop(2)"
   ]
  },
  {
   "cell_type": "code",
   "execution_count": 27,
   "id": "fbb72745-709a-46bb-8155-7dedfc82425c",
   "metadata": {},
   "outputs": [
    {
     "data": {
      "text/plain": [
       "[89, 67, 78, 98, 45, 34, 9, 6, 0]"
      ]
     },
     "execution_count": 27,
     "metadata": {},
     "output_type": "execute_result"
    }
   ],
   "source": [
    "n"
   ]
  },
  {
   "cell_type": "code",
   "execution_count": 28,
   "id": "cee28351-bc28-4ddf-a3c2-405f041e3d8a",
   "metadata": {},
   "outputs": [],
   "source": [
    "n.clear()"
   ]
  },
  {
   "cell_type": "code",
   "execution_count": 29,
   "id": "c341b957-2258-4ccc-9cf2-ae26468f20f8",
   "metadata": {},
   "outputs": [
    {
     "data": {
      "text/plain": [
       "[]"
      ]
     },
     "execution_count": 29,
     "metadata": {},
     "output_type": "execute_result"
    }
   ],
   "source": [
    "n"
   ]
  },
  {
   "cell_type": "code",
   "execution_count": 31,
   "id": "a6ddcf6f-9642-43c5-b588-a0d7d82f7680",
   "metadata": {},
   "outputs": [
    {
     "data": {
      "text/plain": [
       "[89, 67, 8, 9, 0, 6, 78, 98, 45, 34, 6]"
      ]
     },
     "execution_count": 31,
     "metadata": {},
     "output_type": "execute_result"
    }
   ],
   "source": [
    "n"
   ]
  },
  {
   "cell_type": "code",
   "execution_count": 32,
   "id": "d7e6513f-ee9b-45fc-aa6a-b9ec99c96bfc",
   "metadata": {},
   "outputs": [],
   "source": [
    "n.sort()"
   ]
  },
  {
   "cell_type": "code",
   "execution_count": 33,
   "id": "26001f82-a727-4d55-b510-dea609cec59b",
   "metadata": {},
   "outputs": [
    {
     "data": {
      "text/plain": [
       "[0, 6, 6, 8, 9, 34, 45, 67, 78, 89, 98]"
      ]
     },
     "execution_count": 33,
     "metadata": {},
     "output_type": "execute_result"
    }
   ],
   "source": [
    "n"
   ]
  },
  {
   "cell_type": "code",
   "execution_count": 35,
   "id": "f86b6102-190a-4b36-998a-2be4485d85a1",
   "metadata": {},
   "outputs": [],
   "source": [
    "n.sort(reverse=True)"
   ]
  },
  {
   "cell_type": "code",
   "execution_count": 36,
   "id": "8fdef8fd-e7b6-4021-8cb9-59b47aced336",
   "metadata": {},
   "outputs": [
    {
     "data": {
      "text/plain": [
       "[98, 89, 78, 67, 45, 34, 9, 8, 6, 6, 0]"
      ]
     },
     "execution_count": 36,
     "metadata": {},
     "output_type": "execute_result"
    }
   ],
   "source": [
    "n"
   ]
  },
  {
   "cell_type": "code",
   "execution_count": 37,
   "id": "7d211ac7-3e67-4000-864f-e39fc1ca9122",
   "metadata": {},
   "outputs": [
    {
     "data": {
      "text/plain": [
       "[0, 6, 6, 8, 9, 34, 45, 67, 78, 89, 98]"
      ]
     },
     "execution_count": 37,
     "metadata": {},
     "output_type": "execute_result"
    }
   ],
   "source": [
    "sorted(n)"
   ]
  },
  {
   "cell_type": "code",
   "execution_count": 38,
   "id": "b0c1b12b-3007-4ff8-afd2-cedf4ce224b0",
   "metadata": {},
   "outputs": [
    {
     "data": {
      "text/plain": [
       "[98, 89, 78, 67, 45, 34, 9, 8, 6, 6, 0]"
      ]
     },
     "execution_count": 38,
     "metadata": {},
     "output_type": "execute_result"
    }
   ],
   "source": [
    "n"
   ]
  },
  {
   "cell_type": "code",
   "execution_count": 77,
   "id": "59dd02f9-6cbf-4241-91d7-cf3708dd0d3a",
   "metadata": {},
   "outputs": [],
   "source": [
    "n=[98, 89, 78, 67, 45, 34, 9, 8, 6, 6, 0]\n"
   ]
  },
  {
   "cell_type": "code",
   "execution_count": 52,
   "id": "097b0036-937d-4115-96ab-b63e6d9b4b91",
   "metadata": {},
   "outputs": [
    {
     "name": "stdout",
     "output_type": "stream",
     "text": [
      "98\n",
      "89\n",
      "78\n",
      "67\n",
      "45\n",
      "34\n",
      "9\n",
      "8\n",
      "6\n",
      "6\n",
      "0\n"
     ]
    }
   ],
   "source": [
    "i=0\n",
    "while i<=len(n)-1:\n",
    "    print(n[i])\n",
    "    i+=1"
   ]
  },
  {
   "cell_type": "code",
   "execution_count": 79,
   "id": "196a6590-0a49-4f2c-9d40-73a0b27ddba8",
   "metadata": {},
   "outputs": [
    {
     "name": "stdout",
     "output_type": "stream",
     "text": [
      "98\n",
      "89\n",
      "78\n",
      "67\n",
      "45\n",
      "34\n",
      "9\n",
      "8\n",
      "6\n",
      "6\n",
      "0\n"
     ]
    }
   ],
   "source": [
    "for i in range(len(n)):\n",
    "    print(n[i])\n",
    "    "
   ]
  },
  {
   "cell_type": "code",
   "execution_count": 62,
   "id": "e4f20e3a-b875-44cb-9872-7956ddd7e93e",
   "metadata": {},
   "outputs": [
    {
     "data": {
      "text/plain": [
       "10"
      ]
     },
     "execution_count": 62,
     "metadata": {},
     "output_type": "execute_result"
    }
   ],
   "source": [
    "i"
   ]
  },
  {
   "cell_type": "code",
   "execution_count": 70,
   "id": "a0fd30d6-3b86-4292-aed1-83e98ad0f8db",
   "metadata": {},
   "outputs": [],
   "source": [
    "p=5"
   ]
  },
  {
   "cell_type": "code",
   "execution_count": 71,
   "id": "11b0057a-7d60-4bee-b51a-9f5c4916859b",
   "metadata": {},
   "outputs": [
    {
     "data": {
      "text/plain": [
       "5"
      ]
     },
     "execution_count": 71,
     "metadata": {},
     "output_type": "execute_result"
    }
   ],
   "source": [
    "p"
   ]
  },
  {
   "cell_type": "code",
   "execution_count": 76,
   "id": "88621f32-d37e-454c-9aae-9207945efd24",
   "metadata": {},
   "outputs": [
    {
     "data": {
      "text/plain": [
       "0"
      ]
     },
     "execution_count": 76,
     "metadata": {},
     "output_type": "execute_result"
    }
   ],
   "source": [
    "n"
   ]
  },
  {
   "cell_type": "code",
   "execution_count": 81,
   "id": "2c31ee0e-a679-41e3-b7d6-c447b060b3e3",
   "metadata": {},
   "outputs": [],
   "source": [
    "n=[98, 89, 78, 67, 45, 34, 9, 8, 6, 6]"
   ]
  },
  {
   "cell_type": "code",
   "execution_count": 85,
   "id": "3ba06e2e-f2f9-42d3-b52d-f097ef1fad80",
   "metadata": {},
   "outputs": [
    {
     "name": "stdout",
     "output_type": "stream",
     "text": [
      "6\n",
      "6\n",
      "8\n",
      "9\n",
      "34\n",
      "45\n",
      "67\n",
      "78\n",
      "89\n",
      "98\n"
     ]
    }
   ],
   "source": [
    "for i in n:\n",
    "    print(i)"
   ]
  },
  {
   "cell_type": "code",
   "execution_count": 82,
   "id": "8363167a-2119-4bce-92d6-baeaa8a17fb9",
   "metadata": {},
   "outputs": [],
   "source": [
    "n.reverse()"
   ]
  },
  {
   "cell_type": "code",
   "execution_count": 83,
   "id": "678f2491-326b-40f9-a9bb-f8ebf8466d94",
   "metadata": {},
   "outputs": [
    {
     "data": {
      "text/plain": [
       "[6, 6, 8, 9, 34, 45, 67, 78, 89, 98]"
      ]
     },
     "execution_count": 83,
     "metadata": {},
     "output_type": "execute_result"
    }
   ],
   "source": [
    "n"
   ]
  },
  {
   "cell_type": "code",
   "execution_count": 105,
   "id": "6aad31c5-54eb-49fa-a059-404b9dc47abd",
   "metadata": {},
   "outputs": [
    {
     "name": "stdin",
     "output_type": "stream",
     "text": [
      "enter any 5 numbers 56 65 67 67 78\n"
     ]
    },
    {
     "name": "stdout",
     "output_type": "stream",
     "text": [
      "your numbers are [56, 65, 67, 67, 78]\n",
      "sum of your list is 333\n"
     ]
    }
   ],
   "source": [
    "numbers=input(\"enter any 5 numbers\")\n",
    "n1,n2,n3,n4,n5=numbers.split()\n",
    "your_list=[]\n",
    "your_list.extend([int(n1),int(n2),int(n3),int(n4),int(n5)])\n",
    "print('your numbers are',your_list)\n",
    "print('sum of your list is',sum(your_list))\n"
   ]
  },
  {
   "cell_type": "code",
   "execution_count": 94,
   "id": "1d72b043-9e81-4e75-9bfb-eb999700f62b",
   "metadata": {},
   "outputs": [
    {
     "data": {
      "text/plain": [
       "[6, 6, 8, 9, 34, 45, 67, 78, 89, 98]"
      ]
     },
     "execution_count": 94,
     "metadata": {},
     "output_type": "execute_result"
    }
   ],
   "source": [
    "n"
   ]
  },
  {
   "cell_type": "code",
   "execution_count": 95,
   "id": "060639dd-18e1-4e52-8913-10638b759621",
   "metadata": {},
   "outputs": [
    {
     "data": {
      "text/plain": [
       "440"
      ]
     },
     "execution_count": 95,
     "metadata": {},
     "output_type": "execute_result"
    }
   ],
   "source": [
    "sum(n)"
   ]
  },
  {
   "cell_type": "code",
   "execution_count": 96,
   "id": "ebeecff6-2f2f-40b4-a797-7f6f7d680332",
   "metadata": {},
   "outputs": [
    {
     "data": {
      "text/plain": [
       "['1', '2', '3', '4', '5']"
      ]
     },
     "execution_count": 96,
     "metadata": {},
     "output_type": "execute_result"
    }
   ],
   "source": [
    "your_list"
   ]
  },
  {
   "cell_type": "code",
   "execution_count": 108,
   "id": "bc51bb56-5002-49ee-b8fc-f9bb81da0c19",
   "metadata": {},
   "outputs": [
    {
     "name": "stdin",
     "output_type": "stream",
     "text": [
      "enter any 5 numbers 2 3 4 5 6\n",
      "emter new number 7\n",
      "emter new number 7\n"
     ]
    },
    {
     "name": "stdout",
     "output_type": "stream",
     "text": [
      "this number is already present in the list please enter another number\n"
     ]
    },
    {
     "name": "stdin",
     "output_type": "stream",
     "text": [
      "emter new number 3\n"
     ]
    },
    {
     "name": "stdout",
     "output_type": "stream",
     "text": [
      "this number is already present in the list please enter another number\n"
     ]
    },
    {
     "name": "stdin",
     "output_type": "stream",
     "text": [
      "emter new number 8\n",
      "emter new number 9\n",
      "emter new number 0\n",
      "emter new number 8\n"
     ]
    },
    {
     "name": "stdout",
     "output_type": "stream",
     "text": [
      "this number is already present in the list please enter another number\n"
     ]
    },
    {
     "name": "stdin",
     "output_type": "stream",
     "text": [
      "emter new number n\n"
     ]
    },
    {
     "ename": "ValueError",
     "evalue": "invalid literal for int() with base 10: 'n'",
     "output_type": "error",
     "traceback": [
      "\u001b[1;31m---------------------------------------------------------------------------\u001b[0m",
      "\u001b[1;31mValueError\u001b[0m                                Traceback (most recent call last)",
      "Cell \u001b[1;32mIn[108], line 6\u001b[0m\n\u001b[0;32m      4\u001b[0m your_list\u001b[38;5;241m.\u001b[39mextend([\u001b[38;5;28mint\u001b[39m(n1),\u001b[38;5;28mint\u001b[39m(n2),\u001b[38;5;28mint\u001b[39m(n3),\u001b[38;5;28mint\u001b[39m(n4),\u001b[38;5;28mint\u001b[39m(n5)])\n\u001b[0;32m      5\u001b[0m \u001b[38;5;28;01mwhile\u001b[39;00m(\u001b[38;5;241m1\u001b[39m):\n\u001b[1;32m----> 6\u001b[0m     n6\u001b[38;5;241m=\u001b[39m\u001b[38;5;28;43mint\u001b[39;49m\u001b[43m(\u001b[49m\u001b[38;5;28;43minput\u001b[39;49m\u001b[43m(\u001b[49m\u001b[38;5;124;43m\"\u001b[39;49m\u001b[38;5;124;43memter new number\u001b[39;49m\u001b[38;5;124;43m\"\u001b[39;49m\u001b[43m)\u001b[49m\u001b[43m)\u001b[49m\n\u001b[0;32m      7\u001b[0m     \u001b[38;5;28;01mif\u001b[39;00m n6 \u001b[38;5;129;01min\u001b[39;00m your_list:\n\u001b[0;32m      8\u001b[0m         \u001b[38;5;28mprint\u001b[39m(\u001b[38;5;124m\"\u001b[39m\u001b[38;5;124mthis number is already present in the list please enter another number\u001b[39m\u001b[38;5;124m\"\u001b[39m)\n",
      "\u001b[1;31mValueError\u001b[0m: invalid literal for int() with base 10: 'n'"
     ]
    }
   ],
   "source": [
    "numbers=input(\"enter any 5 numbers\")\n",
    "n1,n2,n3,n4,n5=numbers.split()\n",
    "your_list=[]\n",
    "your_list.extend([int(n1),int(n2),int(n3),int(n4),int(n5)])\n",
    "while(1):\n",
    "    n6=int(input(\"emter new number\"))\n",
    "    if n6 in your_list:\n",
    "        print(\"this number is already present in the list please enter another number\")\n",
    "    else:\n",
    "        your_list.append(n6)"
   ]
  },
  {
   "cell_type": "code",
   "execution_count": 123,
   "id": "776679aa-c087-4396-a261-ff24c2cd2a56",
   "metadata": {},
   "outputs": [
    {
     "name": "stdin",
     "output_type": "stream",
     "text": [
      "enter any 5 numbers       1 2 3 4 5\n",
      "enter any 5 numbers 5 4 3 2 8\n"
     ]
    },
    {
     "name": "stdout",
     "output_type": "stream",
     "text": [
      "number of common items is 4\n"
     ]
    }
   ],
   "source": [
    "numbers1=input(\"enter any 5 numbers\")\n",
    "n1,n2,n3,n4,n5=numbers1.split()\n",
    "your_list1=[]\n",
    "your_list1.extend([int(n1),int(n2),int(n3),int(n4),int(n5)])\n",
    "numbers2=input(\"enter any 5 numbers\")\n",
    "n6,n7,n8,n9,n10=numbers2.split()\n",
    "your_list2=[]\n",
    "your_list2.extend([int(n6),int(n7),int(n8),int(n9),int(n10)])\n",
    "common=0\n",
    "for i in range(5):\n",
    "    if your_list1[i] in your_list2:\n",
    "        common+=1\n",
    "print(\"number of common items is\",common)"
   ]
  },
  {
   "cell_type": "code",
   "execution_count": 115,
   "id": "9cf29b1f-172a-4849-afbc-66c442259c58",
   "metadata": {},
   "outputs": [
    {
     "data": {
      "text/plain": [
       "[2, 3, 4, 5, 6]"
      ]
     },
     "execution_count": 115,
     "metadata": {},
     "output_type": "execute_result"
    }
   ],
   "source": [
    "your_list1"
   ]
  },
  {
   "cell_type": "code",
   "execution_count": 135,
   "id": "61d0d27e-365a-4926-91a3-423b91e994b4",
   "metadata": {},
   "outputs": [
    {
     "name": "stdin",
     "output_type": "stream",
     "text": [
      "       h       \n"
     ]
    }
   ],
   "source": [
    "b=input()"
   ]
  },
  {
   "cell_type": "code",
   "execution_count": 136,
   "id": "3c713fd8-6a02-4cbb-b378-d39537b0185d",
   "metadata": {},
   "outputs": [
    {
     "data": {
      "text/plain": [
       "'      h       '"
      ]
     },
     "execution_count": 136,
     "metadata": {},
     "output_type": "execute_result"
    }
   ],
   "source": [
    "b"
   ]
  },
  {
   "cell_type": "code",
   "execution_count": 137,
   "id": "9d15f3ce-5896-4561-a1b0-b216a963bc88",
   "metadata": {},
   "outputs": [
    {
     "data": {
      "text/plain": [
       "14"
      ]
     },
     "execution_count": 137,
     "metadata": {},
     "output_type": "execute_result"
    }
   ],
   "source": [
    "len(b)"
   ]
  },
  {
   "cell_type": "code",
   "execution_count": 138,
   "id": "412d4f02-7c47-4826-b47a-5e2082019f6e",
   "metadata": {},
   "outputs": [
    {
     "data": {
      "text/plain": [
       "['h']"
      ]
     },
     "execution_count": 138,
     "metadata": {},
     "output_type": "execute_result"
    }
   ],
   "source": [
    "b.split()"
   ]
  },
  {
   "cell_type": "code",
   "execution_count": 141,
   "id": "4a49cec7-5573-4212-9277-ca0515cdda66",
   "metadata": {},
   "outputs": [
    {
     "name": "stdin",
     "output_type": "stream",
     "text": [
      " 4 5\n"
     ]
    }
   ],
   "source": [
    "c1,c2=input().split()"
   ]
  },
  {
   "cell_type": "code",
   "execution_count": 142,
   "id": "c6c1f527-55a9-4f80-b6ce-e5544ae30696",
   "metadata": {},
   "outputs": [
    {
     "data": {
      "text/plain": [
       "'4'"
      ]
     },
     "execution_count": 142,
     "metadata": {},
     "output_type": "execute_result"
    }
   ],
   "source": [
    "c1"
   ]
  },
  {
   "cell_type": "code",
   "execution_count": 143,
   "id": "85750ed3-7f5d-4923-8f2b-0082a5ed7a72",
   "metadata": {},
   "outputs": [
    {
     "data": {
      "text/plain": [
       "'5'"
      ]
     },
     "execution_count": 143,
     "metadata": {},
     "output_type": "execute_result"
    }
   ],
   "source": [
    "c2"
   ]
  },
  {
   "cell_type": "code",
   "execution_count": 144,
   "id": "209f08fc-7604-4525-bdb1-e0e4ad18bad1",
   "metadata": {},
   "outputs": [
    {
     "name": "stdout",
     "output_type": "stream",
     "text": [
      "4\n"
     ]
    }
   ],
   "source": [
    "print(c1)"
   ]
  },
  {
   "cell_type": "code",
   "execution_count": 145,
   "id": "a2e296c3-6713-4efe-826f-e10f983c7994",
   "metadata": {},
   "outputs": [
    {
     "name": "stdin",
     "output_type": "stream",
     "text": [
      "enter any 5 numbers 2 3 4 5 6\n",
      "enter any 5 numbers 3 4 5 6 7\n"
     ]
    },
    {
     "name": "stdout",
     "output_type": "stream",
     "text": [
      "number of common items is 4\n",
      "common item is [3, 4, 5, 6]\n"
     ]
    }
   ],
   "source": [
    "numbers1=input(\"enter any 5 numbers\")\n",
    "n1,n2,n3,n4,n5=numbers1.split()\n",
    "your_list1=[]\n",
    "your_list1.extend([int(n1),int(n2),int(n3),int(n4),int(n5)])\n",
    "numbers2=input(\"enter any 5 numbers\")\n",
    "n6,n7,n8,n9,n10=numbers2.split()\n",
    "your_list2=[]\n",
    "your_list2.extend([int(n6),int(n7),int(n8),int(n9),int(n10)])\n",
    "common=0\n",
    "common_items=[]\n",
    "for i in range(5):\n",
    "    if your_list1[i] in your_list2:\n",
    "        common+=1\n",
    "        common_items.append(your_list[i])\n",
    "print(\"number of common items is\",common)\n",
    "print(\"common item is\",common_items)"
   ]
  },
  {
   "cell_type": "code",
   "execution_count": 148,
   "id": "052fb982-479b-4476-8af8-3a66491e3e66",
   "metadata": {},
   "outputs": [
    {
     "data": {
      "text/plain": [
       "[2, 3]"
      ]
     },
     "execution_count": 148,
     "metadata": {},
     "output_type": "execute_result"
    }
   ],
   "source": [
    "your_list1[slice(2)]"
   ]
  },
  {
   "cell_type": "code",
   "execution_count": 149,
   "id": "5c5aab57-c7a2-4a7c-85d6-9852eac56570",
   "metadata": {},
   "outputs": [
    {
     "data": {
      "text/plain": [
       "[2, 3, 4, 5, 6]"
      ]
     },
     "execution_count": 149,
     "metadata": {},
     "output_type": "execute_result"
    }
   ],
   "source": [
    "your_list1"
   ]
  },
  {
   "cell_type": "markdown",
   "id": "f9586da9-ea8b-4bf2-9639-2aeda027f803",
   "metadata": {},
   "source": [
    "# list coprehension"
   ]
  },
  {
   "cell_type": "code",
   "execution_count": 150,
   "id": "5fd20f31-868e-41e5-88e1-491705bbfe0d",
   "metadata": {},
   "outputs": [],
   "source": [
    "name=\"himanshu mishra\""
   ]
  },
  {
   "cell_type": "code",
   "execution_count": 168,
   "id": "9c903ecd-3e8e-408a-aaa6-9406c3d336af",
   "metadata": {},
   "outputs": [],
   "source": [
    "p=[i for i in name]"
   ]
  },
  {
   "cell_type": "code",
   "execution_count": 163,
   "id": "60226f16-c24b-4e48-a4f9-b079f23c8aec",
   "metadata": {},
   "outputs": [],
   "source": [
    "i=5"
   ]
  },
  {
   "cell_type": "code",
   "execution_count": 165,
   "id": "fda42fd8-7310-4409-90eb-e4892ce4d228",
   "metadata": {},
   "outputs": [
    {
     "data": {
      "text/plain": [
       "5"
      ]
     },
     "execution_count": 165,
     "metadata": {},
     "output_type": "execute_result"
    }
   ],
   "source": [
    "i"
   ]
  },
  {
   "cell_type": "code",
   "execution_count": 169,
   "id": "e61f86c2-6dd5-41f4-bbfd-04078eef332d",
   "metadata": {},
   "outputs": [
    {
     "data": {
      "text/plain": [
       "['h', 'i', 'm', 'a', 'n', 's', 'h', 'u', ' ', 'm', 'i', 's', 'h', 'r', 'a']"
      ]
     },
     "execution_count": 169,
     "metadata": {},
     "output_type": "execute_result"
    }
   ],
   "source": [
    "p"
   ]
  },
  {
   "cell_type": "code",
   "execution_count": 3,
   "id": "3eccbfb9-d719-4686-b24d-e56a219e93d0",
   "metadata": {},
   "outputs": [
    {
     "name": "stdout",
     "output_type": "stream",
     "text": [
      "[1, 4, 9, 16, 25, 36, 49, 64, 81, 100]\n"
     ]
    }
   ],
   "source": [
    "square=0\n",
    "square_list=[]\n",
    "for i in range(1,11):\n",
    "    square=i**2\n",
    "    square_list.append(square)\n",
    "print(square_list)\n",
    "    "
   ]
  },
  {
   "cell_type": "code",
   "execution_count": 4,
   "id": "161307c7-8aad-4dab-80e3-5525ef792cf7",
   "metadata": {},
   "outputs": [
    {
     "data": {
      "text/plain": [
       "[1, 4, 9, 16, 25, 36, 49, 64, 81, 100]"
      ]
     },
     "execution_count": 4,
     "metadata": {},
     "output_type": "execute_result"
    }
   ],
   "source": [
    "[i**2 for i in range(1,11)]"
   ]
  },
  {
   "cell_type": "code",
   "execution_count": 30,
   "id": "592866b0-ef0e-4002-9a24-85d42269f668",
   "metadata": {},
   "outputs": [
    {
     "name": "stdin",
     "output_type": "stream",
     "text": [
      "enter any string :  himanshu mishra\n"
     ]
    },
    {
     "data": {
      "text/plain": [
       "['H', 'I', 'M', 'A', 'N', 'S', 'H', 'U', ' ', 'M', 'I', 'S', 'H', 'R', 'A']"
      ]
     },
     "execution_count": 30,
     "metadata": {},
     "output_type": "execute_result"
    }
   ],
   "source": [
    "name=input(\"enter any string : \")\n",
    "[i.upper() for i in name]"
   ]
  },
  {
   "cell_type": "code",
   "execution_count": 31,
   "id": "7b202ad2-0d59-413c-a472-250f2cf49fa7",
   "metadata": {},
   "outputs": [
    {
     "name": "stdin",
     "output_type": "stream",
     "text": [
      "enter any string :  himanshu mishra\n"
     ]
    },
    {
     "data": {
      "text/plain": [
       "['HIMANSHU', 'MISHRA']"
      ]
     },
     "execution_count": 31,
     "metadata": {},
     "output_type": "execute_result"
    }
   ],
   "source": [
    "name=input(\"enter any string : \")\n",
    "[i.upper() for i in name.split()]"
   ]
  },
  {
   "cell_type": "code",
   "execution_count": 28,
   "id": "6bcddf89-ba0f-4691-83f2-1af7350a757b",
   "metadata": {},
   "outputs": [
    {
     "name": "stdin",
     "output_type": "stream",
     "text": [
      "enter any string :  himanshu mishra\n"
     ]
    },
    {
     "data": {
      "text/plain": [
       "['HIMANSHU', 'MISHRA']"
      ]
     },
     "execution_count": 28,
     "metadata": {},
     "output_type": "execute_result"
    }
   ],
   "source": [
    "name=input(\"enter any string : \")\n",
    "[i.upper() for i in name]\n",
    "[i.upper() for i in name.split()]"
   ]
  },
  {
   "cell_type": "code",
   "execution_count": 32,
   "id": "f17d38fa-3723-4513-a302-3dd47a01f13e",
   "metadata": {},
   "outputs": [
    {
     "name": "stdin",
     "output_type": "stream",
     "text": [
      "enter any string :  himanshu mishra\n"
     ]
    },
    {
     "name": "stdout",
     "output_type": "stream",
     "text": [
      "['HIMANSHU', 'MISHRA']\n"
     ]
    },
    {
     "data": {
      "text/plain": [
       "['H', 'I', 'M', 'A', 'N', 'S', 'H', 'U', ' ', 'M', 'I', 'S', 'H', 'R', 'A']"
      ]
     },
     "execution_count": 32,
     "metadata": {},
     "output_type": "execute_result"
    }
   ],
   "source": [
    "name=input(\"enter any string : \")\n",
    "print([i.upper() for i in name.split()])\n",
    "[i.upper() for i in name]"
   ]
  },
  {
   "cell_type": "code",
   "execution_count": 18,
   "id": "294b8f9d-e5bd-49fb-b823-41f47742d600",
   "metadata": {},
   "outputs": [
    {
     "data": {
      "text/plain": [
       "['H', 'I', 'M', 'A', 'N', 'S', 'H', 'U', ' ', 'M', 'I', 'S', 'H', 'R', 'A']"
      ]
     },
     "execution_count": 18,
     "metadata": {},
     "output_type": "execute_result"
    }
   ],
   "source": [
    "p"
   ]
  },
  {
   "cell_type": "code",
   "execution_count": 19,
   "id": "6a02569d-0f4e-40cd-87a9-c28ff762261e",
   "metadata": {},
   "outputs": [
    {
     "data": {
      "text/plain": [
       "['HIMANSHU', 'MISHRA']"
      ]
     },
     "execution_count": 19,
     "metadata": {},
     "output_type": "execute_result"
    }
   ],
   "source": [
    "o"
   ]
  },
  {
   "cell_type": "code",
   "execution_count": 29,
   "id": "3fc7a467-ce95-4ac6-ada8-30cb00f190e9",
   "metadata": {},
   "outputs": [
    {
     "data": {
      "text/plain": [
       "'himanshu mishra'"
      ]
     },
     "execution_count": 29,
     "metadata": {},
     "output_type": "execute_result"
    }
   ],
   "source": [
    "name"
   ]
  },
  {
   "cell_type": "code",
   "execution_count": 33,
   "id": "9020be7a-a28d-407f-a436-e239cef2014e",
   "metadata": {},
   "outputs": [],
   "source": [
    "x=9"
   ]
  },
  {
   "cell_type": "code",
   "execution_count": 34,
   "id": "d88a5ff7-954c-4e2d-9303-3a5422cb0b0a",
   "metadata": {},
   "outputs": [],
   "source": [
    "y=10"
   ]
  },
  {
   "cell_type": "code",
   "execution_count": 35,
   "id": "7126e475-f0d5-40bf-b68f-9d44b8b4ec92",
   "metadata": {},
   "outputs": [
    {
     "name": "stdout",
     "output_type": "stream",
     "text": [
      "9\n"
     ]
    },
    {
     "data": {
      "text/plain": [
       "10"
      ]
     },
     "execution_count": 35,
     "metadata": {},
     "output_type": "execute_result"
    }
   ],
   "source": [
    "print(x)\n",
    "y"
   ]
  },
  {
   "cell_type": "code",
   "execution_count": 36,
   "id": "ac3d8028-be9b-4821-bab7-cc30654188a8",
   "metadata": {},
   "outputs": [
    {
     "data": {
      "text/plain": [
       "10"
      ]
     },
     "execution_count": 36,
     "metadata": {},
     "output_type": "execute_result"
    }
   ],
   "source": [
    "y"
   ]
  },
  {
   "cell_type": "code",
   "execution_count": 37,
   "id": "91a06e3f-cbab-41ff-b5b9-f6166f7212f0",
   "metadata": {},
   "outputs": [
    {
     "data": {
      "text/plain": [
       "9"
      ]
     },
     "execution_count": 37,
     "metadata": {},
     "output_type": "execute_result"
    }
   ],
   "source": [
    "x"
   ]
  },
  {
   "cell_type": "code",
   "execution_count": 41,
   "id": "4e1ddc13-3dfe-47ae-a371-2a3c9d9341c2",
   "metadata": {},
   "outputs": [
    {
     "data": {
      "text/plain": [
       "[1,\n",
       " 9,\n",
       " 25,\n",
       " 49,\n",
       " 81,\n",
       " 121,\n",
       " 169,\n",
       " 225,\n",
       " 289,\n",
       " 361,\n",
       " 441,\n",
       " 529,\n",
       " 625,\n",
       " 729,\n",
       " 841,\n",
       " 961,\n",
       " 1089,\n",
       " 1225,\n",
       " 1369,\n",
       " 1521,\n",
       " 1681,\n",
       " 1849,\n",
       " 2025,\n",
       " 2209,\n",
       " 2401]"
      ]
     },
     "execution_count": 41,
     "metadata": {},
     "output_type": "execute_result"
    }
   ],
   "source": [
    "[i**2 for i in range(1,51,2)]"
   ]
  },
  {
   "cell_type": "code",
   "execution_count": 42,
   "id": "ee9d3158-aa17-4749-b733-95aa3fceb15e",
   "metadata": {},
   "outputs": [
    {
     "data": {
      "text/plain": [
       "[1,\n",
       " 9,\n",
       " 25,\n",
       " 49,\n",
       " 81,\n",
       " 121,\n",
       " 169,\n",
       " 225,\n",
       " 289,\n",
       " 361,\n",
       " 441,\n",
       " 529,\n",
       " 625,\n",
       " 729,\n",
       " 841,\n",
       " 961,\n",
       " 1089,\n",
       " 1225,\n",
       " 1369,\n",
       " 1521,\n",
       " 1681,\n",
       " 1849,\n",
       " 2025,\n",
       " 2209,\n",
       " 2401]"
      ]
     },
     "execution_count": 42,
     "metadata": {},
     "output_type": "execute_result"
    }
   ],
   "source": [
    "[i**2 for i in range(1,51) if i%2!=0]"
   ]
  },
  {
   "cell_type": "code",
   "execution_count": 45,
   "id": "525e553b-9bab-447d-88d9-5dca25cf5282",
   "metadata": {},
   "outputs": [
    {
     "name": "stdin",
     "output_type": "stream",
     "text": [
      "enter any name :  himanshu mishra\n"
     ]
    },
    {
     "data": {
      "text/plain": [
       "['h', 'm', 'n', 's', 'h', ' ', 'm', 's', 'h', 'r']"
      ]
     },
     "execution_count": 45,
     "metadata": {},
     "output_type": "execute_result"
    }
   ],
   "source": [
    "name=input(\"enter any name : \")\n",
    "[i for i in name if i not in \"aeiouAEIOU\"]"
   ]
  },
  {
   "cell_type": "markdown",
   "id": "b695c95d-baa6-434b-b0c1-b9cda35b25b2",
   "metadata": {},
   "source": [
    "# tuple"
   ]
  },
  {
   "cell_type": "code",
   "execution_count": 66,
   "id": "df741dd2-16c8-4ae9-ab3d-ef666f86184c",
   "metadata": {},
   "outputs": [],
   "source": [
    "mytuple=(1,2,3,4,5,6,7,8,9)"
   ]
  },
  {
   "cell_type": "code",
   "execution_count": 48,
   "id": "eacc6d83-1ca3-48aa-9a0b-faec71311632",
   "metadata": {},
   "outputs": [
    {
     "data": {
      "text/plain": [
       "2"
      ]
     },
     "execution_count": 48,
     "metadata": {},
     "output_type": "execute_result"
    }
   ],
   "source": [
    "mytuple[1]"
   ]
  },
  {
   "cell_type": "code",
   "execution_count": 49,
   "id": "23b71349-0c24-4fe5-9ce9-322c4738240e",
   "metadata": {},
   "outputs": [
    {
     "ename": "TypeError",
     "evalue": "'tuple' object does not support item assignment",
     "output_type": "error",
     "traceback": [
      "\u001b[1;31m---------------------------------------------------------------------------\u001b[0m",
      "\u001b[1;31mTypeError\u001b[0m                                 Traceback (most recent call last)",
      "Cell \u001b[1;32mIn[49], line 1\u001b[0m\n\u001b[1;32m----> 1\u001b[0m \u001b[43mmytuple\u001b[49m\u001b[43m[\u001b[49m\u001b[38;5;241;43m2\u001b[39;49m\u001b[43m]\u001b[49m\u001b[38;5;241m=\u001b[39m\u001b[38;5;241m7\u001b[39m\n",
      "\u001b[1;31mTypeError\u001b[0m: 'tuple' object does not support item assignment"
     ]
    }
   ],
   "source": [
    "mytuple[2]=7"
   ]
  },
  {
   "cell_type": "code",
   "execution_count": 57,
   "id": "954f8052-4aad-4e88-b4be-965ac2e47f54",
   "metadata": {},
   "outputs": [],
   "source": [
    "mytuple=(17)"
   ]
  },
  {
   "cell_type": "code",
   "execution_count": 65,
   "id": "22de31e1-da40-4b08-8bbf-1f5057f310ad",
   "metadata": {},
   "outputs": [
    {
     "data": {
      "text/plain": [
       "17"
      ]
     },
     "execution_count": 65,
     "metadata": {},
     "output_type": "execute_result"
    }
   ],
   "source": [
    "mytuple"
   ]
  },
  {
   "cell_type": "code",
   "execution_count": 56,
   "id": "232474e3-ff15-4a3c-9a66-a2f955301e35",
   "metadata": {},
   "outputs": [
    {
     "data": {
      "text/plain": [
       "tuple"
      ]
     },
     "execution_count": 56,
     "metadata": {},
     "output_type": "execute_result"
    }
   ],
   "source": [
    "type(mytuple)"
   ]
  },
  {
   "cell_type": "code",
   "execution_count": 58,
   "id": "8b42d0c1-7f21-40fe-969d-7e6ce46b6360",
   "metadata": {},
   "outputs": [
    {
     "data": {
      "text/plain": [
       "int"
      ]
     },
     "execution_count": 58,
     "metadata": {},
     "output_type": "execute_result"
    }
   ],
   "source": [
    "type(mytuple)"
   ]
  },
  {
   "cell_type": "code",
   "execution_count": 59,
   "id": "ef597f77-ad3d-49e2-a3d7-b071ae9e6c08",
   "metadata": {},
   "outputs": [],
   "source": [
    "mylis=[1]"
   ]
  },
  {
   "cell_type": "code",
   "execution_count": 61,
   "id": "53c9d96b-0170-4e0f-8c73-dd1aacdf84b4",
   "metadata": {},
   "outputs": [
    {
     "data": {
      "text/plain": [
       "list"
      ]
     },
     "execution_count": 61,
     "metadata": {},
     "output_type": "execute_result"
    }
   ],
   "source": [
    "type(mylis)"
   ]
  },
  {
   "cell_type": "code",
   "execution_count": 62,
   "id": "c1aaa81c-3476-4811-ad6e-63d4346678fa",
   "metadata": {},
   "outputs": [],
   "source": [
    "mytuple2=(2,3)"
   ]
  },
  {
   "cell_type": "code",
   "execution_count": 63,
   "id": "cd38688d-10cf-47e1-a100-53aa9e194f84",
   "metadata": {},
   "outputs": [
    {
     "data": {
      "text/plain": [
       "tuple"
      ]
     },
     "execution_count": 63,
     "metadata": {},
     "output_type": "execute_result"
    }
   ],
   "source": [
    "type(mytuple2)"
   ]
  },
  {
   "cell_type": "code",
   "execution_count": 67,
   "id": "0994c0d7-4b44-41b8-b665-c088c8f289b5",
   "metadata": {},
   "outputs": [
    {
     "data": {
      "text/plain": [
       "(1, 2, 3, 4, 5, 6, 7, 8, 9)"
      ]
     },
     "execution_count": 67,
     "metadata": {},
     "output_type": "execute_result"
    }
   ],
   "source": [
    "mytuple"
   ]
  },
  {
   "cell_type": "code",
   "execution_count": 68,
   "id": "89073bd0-8aa4-47f5-acec-bc8bea60470a",
   "metadata": {},
   "outputs": [
    {
     "data": {
      "text/plain": [
       "9"
      ]
     },
     "execution_count": 68,
     "metadata": {},
     "output_type": "execute_result"
    }
   ],
   "source": [
    "len(mytuple)"
   ]
  },
  {
   "cell_type": "code",
   "execution_count": 82,
   "id": "ba0db67e-09bd-48d8-aa67-5718c341f5e9",
   "metadata": {},
   "outputs": [],
   "source": [
    "m=(2,)"
   ]
  },
  {
   "cell_type": "code",
   "execution_count": 83,
   "id": "138f7034-8811-4020-a286-27e99b0837ac",
   "metadata": {},
   "outputs": [
    {
     "data": {
      "text/plain": [
       "1"
      ]
     },
     "execution_count": 83,
     "metadata": {},
     "output_type": "execute_result"
    }
   ],
   "source": [
    "len(m)"
   ]
  },
  {
   "cell_type": "code",
   "execution_count": 84,
   "id": "db2cb671-0e2d-4077-845a-7fcbd456379f",
   "metadata": {},
   "outputs": [],
   "source": [
    "t=(3.3)"
   ]
  },
  {
   "cell_type": "code",
   "execution_count": 85,
   "id": "198e4514-63e4-4c00-b6fa-8d4678309e1e",
   "metadata": {},
   "outputs": [
    {
     "data": {
      "text/plain": [
       "float"
      ]
     },
     "execution_count": 85,
     "metadata": {},
     "output_type": "execute_result"
    }
   ],
   "source": [
    "type(t)"
   ]
  },
  {
   "cell_type": "code",
   "execution_count": 86,
   "id": "c629c34c-3782-4ced-a905-3b409e9b9f85",
   "metadata": {},
   "outputs": [],
   "source": [
    "s=(\"himanshu\")"
   ]
  },
  {
   "cell_type": "code",
   "execution_count": 87,
   "id": "e1b520fc-6bd9-4188-9a80-351c6df808cb",
   "metadata": {},
   "outputs": [
    {
     "data": {
      "text/plain": [
       "str"
      ]
     },
     "execution_count": 87,
     "metadata": {},
     "output_type": "execute_result"
    }
   ],
   "source": [
    "type(s)"
   ]
  },
  {
   "cell_type": "markdown",
   "id": "03180de6-e2e7-486f-9d44-275513f9856f",
   "metadata": {},
   "source": [
    "# concept of packing and unpacking"
   ]
  },
  {
   "cell_type": "code",
   "execution_count": 90,
   "id": "628f8351-ae2a-4551-93ac-aec36ed0da69",
   "metadata": {},
   "outputs": [],
   "source": [
    "a=1,2,3,4"
   ]
  },
  {
   "cell_type": "code",
   "execution_count": 91,
   "id": "24065c3d-5274-4348-96e9-de095918eea8",
   "metadata": {},
   "outputs": [
    {
     "data": {
      "text/plain": [
       "(1, 2, 3, 4)"
      ]
     },
     "execution_count": 91,
     "metadata": {},
     "output_type": "execute_result"
    }
   ],
   "source": [
    "a"
   ]
  },
  {
   "cell_type": "code",
   "execution_count": 92,
   "id": "3862df08-3189-4429-b602-f9d0d1b08fde",
   "metadata": {},
   "outputs": [
    {
     "data": {
      "text/plain": [
       "tuple"
      ]
     },
     "execution_count": 92,
     "metadata": {},
     "output_type": "execute_result"
    }
   ],
   "source": [
    "type(a)"
   ]
  },
  {
   "cell_type": "code",
   "execution_count": 93,
   "id": "40528920-d881-4fd0-b249-1bfaaeed7893",
   "metadata": {},
   "outputs": [
    {
     "ename": "SyntaxError",
     "evalue": "cannot assign to literal here. Maybe you meant '==' instead of '='? (81466968.py, line 1)",
     "output_type": "error",
     "traceback": [
      "\u001b[1;36m  Cell \u001b[1;32mIn[93], line 1\u001b[1;36m\u001b[0m\n\u001b[1;33m    1,2,3,4=a\u001b[0m\n\u001b[1;37m          ^\u001b[0m\n\u001b[1;31mSyntaxError\u001b[0m\u001b[1;31m:\u001b[0m cannot assign to literal here. Maybe you meant '==' instead of '='?\n"
     ]
    }
   ],
   "source": [
    "1,2,3,4=a"
   ]
  },
  {
   "cell_type": "code",
   "execution_count": 98,
   "id": "631971fb-0b49-4710-88da-0d0f0c889bb8",
   "metadata": {},
   "outputs": [],
   "source": [
    "x,y,z,b=a"
   ]
  },
  {
   "cell_type": "code",
   "execution_count": 95,
   "id": "da78d501-3834-4211-af41-1d3848f701dc",
   "metadata": {},
   "outputs": [
    {
     "data": {
      "text/plain": [
       "1"
      ]
     },
     "execution_count": 95,
     "metadata": {},
     "output_type": "execute_result"
    }
   ],
   "source": [
    "x"
   ]
  },
  {
   "cell_type": "code",
   "execution_count": 96,
   "id": "1669743c-ce03-448c-9595-c71046aff8c7",
   "metadata": {},
   "outputs": [
    {
     "data": {
      "text/plain": [
       "4"
      ]
     },
     "execution_count": 96,
     "metadata": {},
     "output_type": "execute_result"
    }
   ],
   "source": [
    "b"
   ]
  },
  {
   "cell_type": "code",
   "execution_count": 99,
   "id": "f13ebde0-9ad0-461b-b89a-a9f1035808db",
   "metadata": {},
   "outputs": [
    {
     "data": {
      "text/plain": [
       "3"
      ]
     },
     "execution_count": 99,
     "metadata": {},
     "output_type": "execute_result"
    }
   ],
   "source": [
    "z"
   ]
  },
  {
   "cell_type": "code",
   "execution_count": 100,
   "id": "0aec6fd3-8213-4e60-9a53-6c5411f81dcb",
   "metadata": {},
   "outputs": [
    {
     "data": {
      "text/plain": [
       "4"
      ]
     },
     "execution_count": 100,
     "metadata": {},
     "output_type": "execute_result"
    }
   ],
   "source": [
    "b\n"
   ]
  },
  {
   "cell_type": "code",
   "execution_count": 101,
   "id": "4093061a-78d6-48e7-94a1-601c2fc53393",
   "metadata": {},
   "outputs": [],
   "source": [
    "a=[11,12,13,14,25]"
   ]
  },
  {
   "cell_type": "code",
   "execution_count": 102,
   "id": "cb4aaf8f-44f6-480e-8b2b-a77c2435df20",
   "metadata": {},
   "outputs": [],
   "source": [
    "x,y,z,e,f=a"
   ]
  },
  {
   "cell_type": "code",
   "execution_count": 103,
   "id": "31d363be-ddd3-4d24-9d99-bdaa8745233c",
   "metadata": {},
   "outputs": [
    {
     "data": {
      "text/plain": [
       "11"
      ]
     },
     "execution_count": 103,
     "metadata": {},
     "output_type": "execute_result"
    }
   ],
   "source": [
    "x"
   ]
  },
  {
   "cell_type": "code",
   "execution_count": 104,
   "id": "b1ecd3c4-ddad-44a3-91d5-c946a05edad6",
   "metadata": {},
   "outputs": [
    {
     "data": {
      "text/plain": [
       "12"
      ]
     },
     "execution_count": 104,
     "metadata": {},
     "output_type": "execute_result"
    }
   ],
   "source": [
    "y"
   ]
  },
  {
   "cell_type": "code",
   "execution_count": 105,
   "id": "fe8451e8-85c6-4591-8e33-c342ebd9d406",
   "metadata": {},
   "outputs": [
    {
     "data": {
      "text/plain": [
       "25"
      ]
     },
     "execution_count": 105,
     "metadata": {},
     "output_type": "execute_result"
    }
   ],
   "source": [
    "f"
   ]
  },
  {
   "cell_type": "code",
   "execution_count": 106,
   "id": "60b63862-c75f-4ad2-9842-537f830b14de",
   "metadata": {},
   "outputs": [
    {
     "data": {
      "text/plain": [
       "(1, 2, 3, 4, 5, 6, 7, 8, 9)"
      ]
     },
     "execution_count": 106,
     "metadata": {},
     "output_type": "execute_result"
    }
   ],
   "source": [
    "mytuple"
   ]
  },
  {
   "cell_type": "code",
   "execution_count": 108,
   "id": "dd7db38b-6308-4ac7-89ae-e156f4307d97",
   "metadata": {},
   "outputs": [
    {
     "data": {
      "text/plain": [
       "(1, 3, 5, 7)"
      ]
     },
     "execution_count": 108,
     "metadata": {},
     "output_type": "execute_result"
    }
   ],
   "source": [
    "mytuple[0:8:2]"
   ]
  },
  {
   "cell_type": "code",
   "execution_count": 109,
   "id": "7e83d957-9c24-4f2c-8b6b-e2857eb18ea4",
   "metadata": {},
   "outputs": [
    {
     "data": {
      "text/plain": [
       "(1, 2, 3, 4, 5, 6, 7, 8, 9)"
      ]
     },
     "execution_count": 109,
     "metadata": {},
     "output_type": "execute_result"
    }
   ],
   "source": [
    "mytuple"
   ]
  },
  {
   "cell_type": "code",
   "execution_count": 114,
   "id": "027c1608-7102-4399-b55a-25a1f43677b7",
   "metadata": {},
   "outputs": [
    {
     "data": {
      "text/plain": [
       "(2, 4, 6, 8)"
      ]
     },
     "execution_count": 114,
     "metadata": {},
     "output_type": "execute_result"
    }
   ],
   "source": [
    "mytuple[slice(1,8,2)]"
   ]
  },
  {
   "cell_type": "code",
   "execution_count": 115,
   "id": "f11e0601-b629-4844-9625-ebf99d0a2e0c",
   "metadata": {},
   "outputs": [],
   "source": [
    "x=(1,2,[3,4,5,6],7,8,9)"
   ]
  },
  {
   "cell_type": "code",
   "execution_count": 116,
   "id": "d8ce71e5-6947-490b-b243-a5b11467373b",
   "metadata": {},
   "outputs": [
    {
     "data": {
      "text/plain": [
       "[3, 4, 5, 6]"
      ]
     },
     "execution_count": 116,
     "metadata": {},
     "output_type": "execute_result"
    }
   ],
   "source": [
    "x[2]"
   ]
  },
  {
   "cell_type": "code",
   "execution_count": 117,
   "id": "64d2692c-ca20-4e63-af45-c610557e7c27",
   "metadata": {},
   "outputs": [
    {
     "data": {
      "text/plain": [
       "5"
      ]
     },
     "execution_count": 117,
     "metadata": {},
     "output_type": "execute_result"
    }
   ],
   "source": [
    "x[2][2]"
   ]
  },
  {
   "cell_type": "code",
   "execution_count": 123,
   "id": "ab646016-61ad-4499-84b5-d977b74cd91f",
   "metadata": {},
   "outputs": [
    {
     "ename": "TypeError",
     "evalue": "'tuple' object does not support item assignment",
     "output_type": "error",
     "traceback": [
      "\u001b[1;31m---------------------------------------------------------------------------\u001b[0m",
      "\u001b[1;31mTypeError\u001b[0m                                 Traceback (most recent call last)",
      "Cell \u001b[1;32mIn[123], line 1\u001b[0m\n\u001b[1;32m----> 1\u001b[0m \u001b[43mx\u001b[49m\u001b[43m[\u001b[49m\u001b[38;5;241;43m2\u001b[39;49m\u001b[43m]\u001b[49m\u001b[38;5;241m=\u001b[39m\u001b[38;5;241m10\u001b[39m\n",
      "\u001b[1;31mTypeError\u001b[0m: 'tuple' object does not support item assignment"
     ]
    }
   ],
   "source": [
    "x[2]=10"
   ]
  },
  {
   "cell_type": "code",
   "execution_count": 121,
   "id": "ec6ac677-f9d2-4e53-9e6f-e25065141fe7",
   "metadata": {},
   "outputs": [],
   "source": [
    "x[2][2]=10"
   ]
  },
  {
   "cell_type": "code",
   "execution_count": 122,
   "id": "229583d6-254e-45f6-bc80-78caa8f90943",
   "metadata": {},
   "outputs": [
    {
     "data": {
      "text/plain": [
       "(1, 2, [3, 4, 10, 6], 7, 8, 9)"
      ]
     },
     "execution_count": 122,
     "metadata": {},
     "output_type": "execute_result"
    }
   ],
   "source": [
    "x"
   ]
  },
  {
   "cell_type": "markdown",
   "id": "eb5b6ec3-3341-4eea-8cfb-77f13d42b6ea",
   "metadata": {},
   "source": [
    "# functions in tuple\n",
    "max()\n",
    "\n",
    "min()\n",
    "\n",
    "sorted()\n",
    "\n",
    "all()\n",
    "\n",
    "any()\n",
    "\n",
    "tuple()\n",
    "\n",
    "len()\n",
    "\n",
    "sum()"
   ]
  },
  {
   "cell_type": "code",
   "execution_count": 124,
   "id": "82a8fbe5-f2d7-4460-a523-04a15c4f6b47",
   "metadata": {},
   "outputs": [
    {
     "data": {
      "text/plain": [
       "(1, 2, 3, 4, 5, 6, 7, 8, 9)"
      ]
     },
     "execution_count": 124,
     "metadata": {},
     "output_type": "execute_result"
    }
   ],
   "source": [
    "mytuple"
   ]
  },
  {
   "cell_type": "code",
   "execution_count": 125,
   "id": "3ed5cd16-7899-49c5-9958-8229ede1cb2b",
   "metadata": {},
   "outputs": [
    {
     "data": {
      "text/plain": [
       "9"
      ]
     },
     "execution_count": 125,
     "metadata": {},
     "output_type": "execute_result"
    }
   ],
   "source": [
    "max(mytuple)"
   ]
  },
  {
   "cell_type": "code",
   "execution_count": 126,
   "id": "d6fbaa80-0b39-4f00-ad28-07c9129ddaa0",
   "metadata": {},
   "outputs": [
    {
     "data": {
      "text/plain": [
       "1"
      ]
     },
     "execution_count": 126,
     "metadata": {},
     "output_type": "execute_result"
    }
   ],
   "source": [
    "min(mytuple)"
   ]
  },
  {
   "cell_type": "code",
   "execution_count": 127,
   "id": "455e9d7e-2e57-4f5a-8596-9fc73bda7ce6",
   "metadata": {},
   "outputs": [
    {
     "data": {
      "text/plain": [
       "45"
      ]
     },
     "execution_count": 127,
     "metadata": {},
     "output_type": "execute_result"
    }
   ],
   "source": [
    "sum(mytuple)"
   ]
  },
  {
   "cell_type": "code",
   "execution_count": 128,
   "id": "6b6aa0bc-4038-4c42-9192-3f341be9c9c6",
   "metadata": {},
   "outputs": [
    {
     "data": {
      "text/plain": [
       "9"
      ]
     },
     "execution_count": 128,
     "metadata": {},
     "output_type": "execute_result"
    }
   ],
   "source": [
    "len(mytuple)"
   ]
  },
  {
   "cell_type": "code",
   "execution_count": 129,
   "id": "d656770c-b4bd-4324-b348-7d8a92088fe4",
   "metadata": {},
   "outputs": [
    {
     "data": {
      "text/plain": [
       "True"
      ]
     },
     "execution_count": 129,
     "metadata": {},
     "output_type": "execute_result"
    }
   ],
   "source": [
    "all(mytuple)"
   ]
  },
  {
   "cell_type": "code",
   "execution_count": 130,
   "id": "de054899-1b53-4a6a-95bf-320afbc7c73b",
   "metadata": {},
   "outputs": [
    {
     "data": {
      "text/plain": [
       "True"
      ]
     },
     "execution_count": 130,
     "metadata": {},
     "output_type": "execute_result"
    }
   ],
   "source": [
    "any(mytuple)"
   ]
  },
  {
   "cell_type": "code",
   "execution_count": 134,
   "id": "60771d33-5412-42a0-bb11-8f992e2eac98",
   "metadata": {},
   "outputs": [
    {
     "data": {
      "text/plain": [
       "[1, 2, 3, 4, 4, 5, 6, 8, 9, 87]"
      ]
     },
     "execution_count": 134,
     "metadata": {},
     "output_type": "execute_result"
    }
   ],
   "source": [
    "sorted(mytuple)"
   ]
  },
  {
   "cell_type": "code",
   "execution_count": 133,
   "id": "71c2aaa9-9b20-4a14-a755-60b265c4d198",
   "metadata": {},
   "outputs": [],
   "source": [
    "mytuple=(1, 2, 3, 4, 5, 6, 87,4, 8, 9)"
   ]
  },
  {
   "cell_type": "code",
   "execution_count": 135,
   "id": "fbfd0136-0f73-4a56-9c08-111ccb491336",
   "metadata": {},
   "outputs": [
    {
     "data": {
      "text/plain": [
       "(1, 2, 3, 4, 5, 6, 87, 4, 8, 9)"
      ]
     },
     "execution_count": 135,
     "metadata": {},
     "output_type": "execute_result"
    }
   ],
   "source": [
    "mytuple"
   ]
  },
  {
   "cell_type": "code",
   "execution_count": 136,
   "id": "6f3ef68c-75a9-4b3a-a6c3-ac84da4926e5",
   "metadata": {},
   "outputs": [
    {
     "data": {
      "text/plain": [
       "[87, 9, 8, 6, 5, 4, 4, 3, 2, 1]"
      ]
     },
     "execution_count": 136,
     "metadata": {},
     "output_type": "execute_result"
    }
   ],
   "source": [
    "sorted(mytuple,reverse=True)"
   ]
  },
  {
   "cell_type": "code",
   "execution_count": 137,
   "id": "717a764e-bd1d-4df9-9739-6f6770ef2ab4",
   "metadata": {},
   "outputs": [
    {
     "data": {
      "text/plain": [
       "(1, 2, 3, 4, 5, 6, 87, 4, 8, 9)"
      ]
     },
     "execution_count": 137,
     "metadata": {},
     "output_type": "execute_result"
    }
   ],
   "source": [
    "mytuple"
   ]
  },
  {
   "cell_type": "code",
   "execution_count": 138,
   "id": "7bde0d7f-0a31-47aa-9019-a42d1bc0a0ab",
   "metadata": {},
   "outputs": [
    {
     "data": {
      "text/plain": [
       "(87, 9, 8, 6, 5, 4, 4, 3, 2, 1)"
      ]
     },
     "execution_count": 138,
     "metadata": {},
     "output_type": "execute_result"
    }
   ],
   "source": [
    "tuple(sorted(mytuple,reverse=True))"
   ]
  },
  {
   "cell_type": "code",
   "execution_count": 139,
   "id": "57e8b9e4-8a59-42a6-a484-7d77cf92c2b9",
   "metadata": {},
   "outputs": [
    {
     "data": {
      "text/plain": [
       "(1, 2, 3, 4, 5, 6, 87, 4, 8, 9)"
      ]
     },
     "execution_count": 139,
     "metadata": {},
     "output_type": "execute_result"
    }
   ],
   "source": [
    "mytuple"
   ]
  },
  {
   "cell_type": "markdown",
   "id": "6b8b04f2-69d1-4113-85e9-0531036b85f8",
   "metadata": {},
   "source": [
    "# methods for tuple\n",
    "append() # not work\n",
    "\n",
    "sort() # not work\n",
    "\n",
    "extend() # not work\n",
    "\n",
    "reverse() # not work\n",
    "\n",
    "clear() # not work\n",
    "\n",
    "pop() # not work\n",
    "\n",
    "insert() # not work\n",
    "\n",
    "count() #  work\n",
    "\n",
    "index() #  work\n"
   ]
  },
  {
   "cell_type": "code",
   "execution_count": 140,
   "id": "74e286a9-cd33-45d1-a316-db0d3672787a",
   "metadata": {},
   "outputs": [
    {
     "data": {
      "text/plain": [
       "(1, 2, 3, 4, 5, 6, 87, 4, 8, 9)"
      ]
     },
     "execution_count": 140,
     "metadata": {},
     "output_type": "execute_result"
    }
   ],
   "source": [
    "mytuple"
   ]
  },
  {
   "cell_type": "code",
   "execution_count": 141,
   "id": "3324aa7d-35f9-488e-8c76-46ac17d22e71",
   "metadata": {},
   "outputs": [
    {
     "ename": "AttributeError",
     "evalue": "'tuple' object has no attribute 'extend'",
     "output_type": "error",
     "traceback": [
      "\u001b[1;31m---------------------------------------------------------------------------\u001b[0m",
      "\u001b[1;31mAttributeError\u001b[0m                            Traceback (most recent call last)",
      "Cell \u001b[1;32mIn[141], line 1\u001b[0m\n\u001b[1;32m----> 1\u001b[0m \u001b[43mmytuple\u001b[49m\u001b[38;5;241;43m.\u001b[39;49m\u001b[43mextend\u001b[49m(\u001b[38;5;241m4\u001b[39m)\n",
      "\u001b[1;31mAttributeError\u001b[0m: 'tuple' object has no attribute 'extend'"
     ]
    }
   ],
   "source": [
    "mytuple.extend(4)"
   ]
  },
  {
   "cell_type": "code",
   "execution_count": 142,
   "id": "2cedf286-5544-4ac2-b3d9-2e40b82bc3b8",
   "metadata": {},
   "outputs": [
    {
     "ename": "AttributeError",
     "evalue": "'tuple' object has no attribute 'append'",
     "output_type": "error",
     "traceback": [
      "\u001b[1;31m---------------------------------------------------------------------------\u001b[0m",
      "\u001b[1;31mAttributeError\u001b[0m                            Traceback (most recent call last)",
      "Cell \u001b[1;32mIn[142], line 1\u001b[0m\n\u001b[1;32m----> 1\u001b[0m \u001b[43mmytuple\u001b[49m\u001b[38;5;241;43m.\u001b[39;49m\u001b[43mappend\u001b[49m(\u001b[38;5;241m4\u001b[39m)\n",
      "\u001b[1;31mAttributeError\u001b[0m: 'tuple' object has no attribute 'append'"
     ]
    }
   ],
   "source": [
    "mytuple.append(4)"
   ]
  },
  {
   "cell_type": "code",
   "execution_count": 143,
   "id": "6108aa06-4dff-4561-85dc-8fe5de9604ce",
   "metadata": {},
   "outputs": [
    {
     "data": {
      "text/plain": [
       "3"
      ]
     },
     "execution_count": 143,
     "metadata": {},
     "output_type": "execute_result"
    }
   ],
   "source": [
    "mytuple.index(4)"
   ]
  },
  {
   "cell_type": "code",
   "execution_count": 144,
   "id": "c11ecc28-9372-4c2c-b1fd-eee60b513c3c",
   "metadata": {},
   "outputs": [
    {
     "data": {
      "text/plain": [
       "2"
      ]
     },
     "execution_count": 144,
     "metadata": {},
     "output_type": "execute_result"
    }
   ],
   "source": [
    "mytuple.count(4)"
   ]
  },
  {
   "cell_type": "code",
   "execution_count": 145,
   "id": "8779bfda-35d6-4921-afb6-c4388d2caf5d",
   "metadata": {},
   "outputs": [
    {
     "ename": "AttributeError",
     "evalue": "'tuple' object has no attribute 'clear'",
     "output_type": "error",
     "traceback": [
      "\u001b[1;31m---------------------------------------------------------------------------\u001b[0m",
      "\u001b[1;31mAttributeError\u001b[0m                            Traceback (most recent call last)",
      "Cell \u001b[1;32mIn[145], line 1\u001b[0m\n\u001b[1;32m----> 1\u001b[0m \u001b[43mmytuple\u001b[49m\u001b[38;5;241;43m.\u001b[39;49m\u001b[43mclear\u001b[49m()\n",
      "\u001b[1;31mAttributeError\u001b[0m: 'tuple' object has no attribute 'clear'"
     ]
    }
   ],
   "source": [
    "mytuple.clear()"
   ]
  },
  {
   "cell_type": "markdown",
   "id": "64233fe1-de36-44f6-84a1-bf44f522f28f",
   "metadata": {
    "jp-MarkdownHeadingCollapsed": true
   },
   "source": [
    "# we can use membership operaors in tuple"
   ]
  },
  {
   "cell_type": "markdown",
   "id": "09e7a2b3-8a25-4228-802c-1b2bed488bb0",
   "metadata": {},
   "source": [
    "# concatenation is also possilbel is tuple"
   ]
  },
  {
   "cell_type": "code",
   "execution_count": 151,
   "id": "a962110e-5b7a-4e75-9e6b-57f075628c85",
   "metadata": {},
   "outputs": [],
   "source": [
    "even=(2,4,6)\n",
    "odd=(1,3,5)"
   ]
  },
  {
   "cell_type": "code",
   "execution_count": 153,
   "id": "90a03d7e-d733-4e4a-8af8-b6a8ccc6cde8",
   "metadata": {},
   "outputs": [
    {
     "data": {
      "text/plain": [
       "(2, 4, 6, 1, 3, 5)"
      ]
     },
     "execution_count": 153,
     "metadata": {},
     "output_type": "execute_result"
    }
   ],
   "source": [
    "even+odd"
   ]
  },
  {
   "cell_type": "code",
   "execution_count": 155,
   "id": "c96fba28-feaa-4610-8cb6-efb86f4d9784",
   "metadata": {},
   "outputs": [
    {
     "data": {
      "text/plain": [
       "2541497318944"
      ]
     },
     "execution_count": 155,
     "metadata": {},
     "output_type": "execute_result"
    }
   ],
   "source": [
    "id(even+odd)"
   ]
  },
  {
   "cell_type": "code",
   "execution_count": 157,
   "id": "de06f067-5514-4f64-8995-c14bfdc049a8",
   "metadata": {},
   "outputs": [],
   "source": [
    "all=even+odd"
   ]
  },
  {
   "cell_type": "code",
   "execution_count": 161,
   "id": "ff490176-b4b4-49f8-92f3-a08d501f85a2",
   "metadata": {},
   "outputs": [
    {
     "data": {
      "text/plain": [
       "2541497318944"
      ]
     },
     "execution_count": 161,
     "metadata": {},
     "output_type": "execute_result"
    }
   ],
   "source": [
    "id(all)"
   ]
  },
  {
   "cell_type": "code",
   "execution_count": 162,
   "id": "b62a91bc-e464-4874-ad98-76c5c0e2ddf2",
   "metadata": {},
   "outputs": [],
   "source": [
    "a=(1,2,3,4)"
   ]
  },
  {
   "cell_type": "code",
   "execution_count": 163,
   "id": "cad72af3-1521-4fea-81f5-0f6badcb55da",
   "metadata": {},
   "outputs": [
    {
     "data": {
      "text/plain": [
       "(1, 2, 3, 4, 1, 2, 3, 4, 1, 2, 3, 4)"
      ]
     },
     "execution_count": 163,
     "metadata": {},
     "output_type": "execute_result"
    }
   ],
   "source": [
    "a*3"
   ]
  },
  {
   "cell_type": "code",
   "execution_count": 164,
   "id": "e4c837e1-70d7-4fc7-96e3-be2f22a65aa1",
   "metadata": {},
   "outputs": [
    {
     "data": {
      "text/plain": [
       "2541496800000"
      ]
     },
     "execution_count": 164,
     "metadata": {},
     "output_type": "execute_result"
    }
   ],
   "source": [
    "id(a)"
   ]
  },
  {
   "cell_type": "code",
   "execution_count": 165,
   "id": "0c3bcd11-2f44-47e9-bb13-13156cf4e294",
   "metadata": {},
   "outputs": [
    {
     "data": {
      "text/plain": [
       "2541498096736"
      ]
     },
     "execution_count": 165,
     "metadata": {},
     "output_type": "execute_result"
    }
   ],
   "source": [
    "id(a*3)"
   ]
  },
  {
   "cell_type": "code",
   "execution_count": 166,
   "id": "c51bfd7e-5860-42ae-8253-78c9806f8dfd",
   "metadata": {},
   "outputs": [
    {
     "data": {
      "text/plain": [
       "(1, 2, 3, 4)"
      ]
     },
     "execution_count": 166,
     "metadata": {},
     "output_type": "execute_result"
    }
   ],
   "source": [
    "a"
   ]
  },
  {
   "cell_type": "code",
   "execution_count": 167,
   "id": "2ac6b253-2dc8-4fcc-85ad-1338129dfc5d",
   "metadata": {},
   "outputs": [],
   "source": [
    "b=1,2,3"
   ]
  },
  {
   "cell_type": "code",
   "execution_count": 168,
   "id": "a878f584-e1de-4587-96f0-bd3bc4569646",
   "metadata": {},
   "outputs": [
    {
     "data": {
      "text/plain": [
       "2541487170240"
      ]
     },
     "execution_count": 168,
     "metadata": {},
     "output_type": "execute_result"
    }
   ],
   "source": [
    "id(b)"
   ]
  },
  {
   "cell_type": "code",
   "execution_count": 169,
   "id": "b8ed8c1d-94b5-47cf-bf9f-f0883bd43c20",
   "metadata": {},
   "outputs": [],
   "source": [
    "b=(1,2,3)"
   ]
  },
  {
   "cell_type": "code",
   "execution_count": 170,
   "id": "c653e7f3-9683-455e-a562-ec81d671ef6b",
   "metadata": {},
   "outputs": [
    {
     "data": {
      "text/plain": [
       "2541496271040"
      ]
     },
     "execution_count": 170,
     "metadata": {},
     "output_type": "execute_result"
    }
   ],
   "source": [
    "id(b)"
   ]
  },
  {
   "cell_type": "markdown",
   "id": "0485e997-dc53-4261-a144-6a938d5063ef",
   "metadata": {},
   "source": [
    "# relational operator"
   ]
  },
  {
   "cell_type": "code",
   "execution_count": 199,
   "id": "2e1e49a6-28c4-4a49-9d5b-1f2d5acc8993",
   "metadata": {},
   "outputs": [],
   "source": [
    "a=2.3,3,4"
   ]
  },
  {
   "cell_type": "code",
   "execution_count": 200,
   "id": "013c4fcb-5e58-4604-8fea-60d133851b35",
   "metadata": {},
   "outputs": [],
   "source": [
    "b=2,3,4"
   ]
  },
  {
   "cell_type": "code",
   "execution_count": 201,
   "id": "c206e180-0c03-4d12-8c05-ef9170b71cad",
   "metadata": {},
   "outputs": [
    {
     "data": {
      "text/plain": [
       "False"
      ]
     },
     "execution_count": 201,
     "metadata": {},
     "output_type": "execute_result"
    }
   ],
   "source": [
    "a<b"
   ]
  },
  {
   "cell_type": "code",
   "execution_count": 202,
   "id": "b36ece77-4dee-4205-929e-e44b88af3601",
   "metadata": {},
   "outputs": [
    {
     "data": {
      "text/plain": [
       "False"
      ]
     },
     "execution_count": 202,
     "metadata": {},
     "output_type": "execute_result"
    }
   ],
   "source": [
    "a==b"
   ]
  },
  {
   "cell_type": "markdown",
   "id": "a6ebcf43-743a-4c36-8d02-f8adf6802cce",
   "metadata": {},
   "source": [
    "### set"
   ]
  },
  {
   "cell_type": "code",
   "execution_count": 207,
   "id": "26d5c363-cc06-4937-a858-31547435e2be",
   "metadata": {},
   "outputs": [],
   "source": [
    "myset={1,2,3,4,'hjk',4}"
   ]
  },
  {
   "cell_type": "code",
   "execution_count": 208,
   "id": "92048dc5-9c89-4fe1-9feb-a5b245d3ff8c",
   "metadata": {},
   "outputs": [
    {
     "data": {
      "text/plain": [
       "{1, 2, 3, 4, 'hjk'}"
      ]
     },
     "execution_count": 208,
     "metadata": {},
     "output_type": "execute_result"
    }
   ],
   "source": [
    "myset"
   ]
  },
  {
   "cell_type": "code",
   "execution_count": 213,
   "id": "3634d4f4-76a7-4de8-a05d-e1ad672d3895",
   "metadata": {},
   "outputs": [
    {
     "data": {
      "text/plain": [
       "97"
      ]
     },
     "execution_count": 213,
     "metadata": {},
     "output_type": "execute_result"
    }
   ],
   "source": [
    "ord('a')"
   ]
  },
  {
   "cell_type": "code",
   "execution_count": 215,
   "id": "f406e7e4-f8db-4429-a0fa-06d0a8e01a86",
   "metadata": {},
   "outputs": [
    {
     "ename": "TypeError",
     "evalue": "'set' object is not callable",
     "output_type": "error",
     "traceback": [
      "\u001b[1;31m---------------------------------------------------------------------------\u001b[0m",
      "\u001b[1;31mTypeError\u001b[0m                                 Traceback (most recent call last)",
      "Cell \u001b[1;32mIn[215], line 1\u001b[0m\n\u001b[1;32m----> 1\u001b[0m \u001b[43mmyset\u001b[49m\u001b[43m(\u001b[49m\u001b[38;5;241;43m1\u001b[39;49m\u001b[43m)\u001b[49m\n",
      "\u001b[1;31mTypeError\u001b[0m: 'set' object is not callable"
     ]
    }
   ],
   "source": [
    "myset(1)"
   ]
  },
  {
   "cell_type": "markdown",
   "id": "4da7a292-3203-4327-a916-c975ea22b7e1",
   "metadata": {},
   "source": [
    "# set is unorderd collection of elments\n",
    "# we cant keep the duplicate value in the set\n",
    "# we cant find index of any element of set as well as slicing"
   ]
  },
  {
   "cell_type": "code",
   "execution_count": 216,
   "id": "61c1d142-20e2-4637-8c73-d829ee75bc54",
   "metadata": {},
   "outputs": [
    {
     "data": {
      "text/plain": [
       "(1, 2, 3, 4, 5, 6, 87, 4, 8, 9)"
      ]
     },
     "execution_count": 216,
     "metadata": {},
     "output_type": "execute_result"
    }
   ],
   "source": [
    "mytuple"
   ]
  },
  {
   "cell_type": "code",
   "execution_count": 217,
   "id": "c8169716-c1f1-4aa0-b483-3448bf2ec100",
   "metadata": {},
   "outputs": [
    {
     "data": {
      "text/plain": [
       "{1, 2, 3, 4, 5, 6, 8, 9, 87}"
      ]
     },
     "execution_count": 217,
     "metadata": {},
     "output_type": "execute_result"
    }
   ],
   "source": [
    "set(mytuple)"
   ]
  },
  {
   "cell_type": "code",
   "execution_count": 218,
   "id": "a04ec298-8df8-478f-a293-8b04542b8b84",
   "metadata": {},
   "outputs": [
    {
     "data": {
      "text/plain": [
       "[1, 2, 3, 4, 5, 6, 87, 4, 8, 9]"
      ]
     },
     "execution_count": 218,
     "metadata": {},
     "output_type": "execute_result"
    }
   ],
   "source": [
    "list(mytuple)"
   ]
  },
  {
   "cell_type": "markdown",
   "id": "263701f6-2e70-47e5-a2ae-9d68fde76e5b",
   "metadata": {},
   "source": [
    "# for adding something in the set we can use the add() function"
   ]
  },
  {
   "cell_type": "code",
   "execution_count": 220,
   "id": "3fc6f51f-9a71-4372-b4e1-4cf879f1978f",
   "metadata": {},
   "outputs": [],
   "source": [
    "myset.add(298)"
   ]
  },
  {
   "cell_type": "code",
   "execution_count": 221,
   "id": "830ca502-ed48-443d-98d1-240f102e6ae6",
   "metadata": {},
   "outputs": [
    {
     "data": {
      "text/plain": [
       "{1, 2, 298, 3, 4, 'hjk'}"
      ]
     },
     "execution_count": 221,
     "metadata": {},
     "output_type": "execute_result"
    }
   ],
   "source": [
    "myset"
   ]
  },
  {
   "cell_type": "markdown",
   "id": "02dd04d7-0db6-40e7-a0e4-409a2cf59ff7",
   "metadata": {},
   "source": [
    "# we can use clear() function in set"
   ]
  },
  {
   "cell_type": "code",
   "execution_count": 222,
   "id": "42159918-e680-4615-8058-4d386d910de4",
   "metadata": {},
   "outputs": [],
   "source": [
    "myset.clear()"
   ]
  },
  {
   "cell_type": "code",
   "execution_count": 223,
   "id": "5fefbef9-f475-4b88-b086-52b40449a1a0",
   "metadata": {},
   "outputs": [
    {
     "data": {
      "text/plain": [
       "set()"
      ]
     },
     "execution_count": 223,
     "metadata": {},
     "output_type": "execute_result"
    }
   ],
   "source": [
    "myset"
   ]
  },
  {
   "cell_type": "markdown",
   "id": "db41bea8-7d63-4861-a71e-e673c6227b35",
   "metadata": {},
   "source": [
    "# copy()"
   ]
  },
  {
   "cell_type": "code",
   "execution_count": 225,
   "id": "b25cf881-c0a7-4bac-8c7b-1905252865a5",
   "metadata": {},
   "outputs": [],
   "source": [
    "myset={1, 2, 298, 3, 4, 'hjk'}"
   ]
  },
  {
   "cell_type": "code",
   "execution_count": 227,
   "id": "d24d455d-c195-4cf8-bc42-59a8b15f9781",
   "metadata": {},
   "outputs": [],
   "source": [
    "b=myset.copy()"
   ]
  },
  {
   "cell_type": "code",
   "execution_count": 228,
   "id": "06488255-29e0-4a44-a390-ce9b6795bbe2",
   "metadata": {},
   "outputs": [],
   "source": [
    "myset.clear()"
   ]
  },
  {
   "cell_type": "code",
   "execution_count": 229,
   "id": "78ff44b3-4f91-4ebd-a1bc-057257f3ea63",
   "metadata": {},
   "outputs": [
    {
     "data": {
      "text/plain": [
       "set()"
      ]
     },
     "execution_count": 229,
     "metadata": {},
     "output_type": "execute_result"
    }
   ],
   "source": [
    "myset"
   ]
  },
  {
   "cell_type": "code",
   "execution_count": 230,
   "id": "1b2c66e8-4e4a-489b-a531-31d9def35025",
   "metadata": {},
   "outputs": [],
   "source": [
    "myset=b"
   ]
  },
  {
   "cell_type": "code",
   "execution_count": 231,
   "id": "b98ae7cf-85fb-44b7-b993-61a8a0376c42",
   "metadata": {},
   "outputs": [
    {
     "data": {
      "text/plain": [
       "{1, 2, 298, 3, 4, 'hjk'}"
      ]
     },
     "execution_count": 231,
     "metadata": {},
     "output_type": "execute_result"
    }
   ],
   "source": [
    "myset"
   ]
  },
  {
   "cell_type": "markdown",
   "id": "588c84ca-fe7c-452c-8d21-ac4901b29dac",
   "metadata": {},
   "source": [
    "### pop() remove() update()"
   ]
  },
  {
   "cell_type": "markdown",
   "id": "237e7b94-9057-4982-a5df-30fa3f1f0021",
   "metadata": {},
   "source": [
    "# string"
   ]
  },
  {
   "cell_type": "code",
   "execution_count": 9,
   "id": "e292c98b-7ef8-487b-888d-cbbb75c49ae8",
   "metadata": {},
   "outputs": [
    {
     "name": "stdout",
     "output_type": "stream",
     "text": [
      "himanshu\n"
     ]
    }
   ],
   "source": [
    "mystring='himanshu'\n",
    "print(mystring)"
   ]
  },
  {
   "cell_type": "code",
   "execution_count": 2,
   "id": "1823e5f6-2aab-45f0-8912-0e48eb668e1f",
   "metadata": {},
   "outputs": [
    {
     "name": "stdout",
     "output_type": "stream",
     "text": [
      "himanshu\n"
     ]
    }
   ],
   "source": [
    "mystring=\"himanshu\"\n",
    "print(mystring)"
   ]
  },
  {
   "cell_type": "code",
   "execution_count": 3,
   "id": "beb0786e-c428-4ba4-b784-a7687b4fe46e",
   "metadata": {},
   "outputs": [
    {
     "name": "stdout",
     "output_type": "stream",
     "text": [
      "himanshu\n"
     ]
    }
   ],
   "source": [
    "mystring=\"\"\"himanshu\"\"\"\n",
    "print(mystring)"
   ]
  },
  {
   "cell_type": "code",
   "execution_count": 4,
   "id": "0a460854-c3fc-4180-8f30-77dbe3430095",
   "metadata": {},
   "outputs": [
    {
     "data": {
      "text/plain": [
       "'himanshu'"
      ]
     },
     "execution_count": 4,
     "metadata": {},
     "output_type": "execute_result"
    }
   ],
   "source": [
    "mystring"
   ]
  },
  {
   "cell_type": "code",
   "execution_count": 5,
   "id": "9cfd8ba6-9491-4a20-9393-729df110d337",
   "metadata": {},
   "outputs": [],
   "source": [
    "mystring=\"\"\"i\n",
    "love\n",
    "python\"\"\""
   ]
  },
  {
   "cell_type": "code",
   "execution_count": 6,
   "id": "be574b6d-9b2f-41a4-9282-7401fa3ba864",
   "metadata": {},
   "outputs": [
    {
     "data": {
      "text/plain": [
       "'i\\nlove\\npython'"
      ]
     },
     "execution_count": 6,
     "metadata": {},
     "output_type": "execute_result"
    }
   ],
   "source": [
    "mystring"
   ]
  },
  {
   "cell_type": "code",
   "execution_count": 7,
   "id": "6aebac29-5303-4197-9d94-399d59de1c02",
   "metadata": {},
   "outputs": [
    {
     "name": "stdout",
     "output_type": "stream",
     "text": [
      "i\n",
      "love\n",
      "python\n"
     ]
    }
   ],
   "source": [
    "print(mystring)"
   ]
  },
  {
   "cell_type": "markdown",
   "id": "f889fb34-25f0-4b09-b646-8c8c5ec23cc6",
   "metadata": {},
   "source": [
    "# string is basically collection of characters"
   ]
  },
  {
   "cell_type": "code",
   "execution_count": 11,
   "id": "02a10b84-35fc-41bb-aee7-25e32f4eb6df",
   "metadata": {},
   "outputs": [
    {
     "data": {
      "text/plain": [
       "'himanshu'"
      ]
     },
     "execution_count": 11,
     "metadata": {},
     "output_type": "execute_result"
    }
   ],
   "source": [
    "mystring"
   ]
  },
  {
   "cell_type": "code",
   "execution_count": 12,
   "id": "c238a29f-0fad-4153-bba8-30e17319ce4c",
   "metadata": {},
   "outputs": [
    {
     "data": {
      "text/plain": [
       "'n'"
      ]
     },
     "execution_count": 12,
     "metadata": {},
     "output_type": "execute_result"
    }
   ],
   "source": [
    "mystring[4]"
   ]
  },
  {
   "cell_type": "code",
   "execution_count": 14,
   "id": "c88234a2-d31b-48da-8001-5d2bed86b8dc",
   "metadata": {},
   "outputs": [],
   "source": [
    "list1=[1,2,3,4]"
   ]
  },
  {
   "cell_type": "code",
   "execution_count": 16,
   "id": "0cc5ca24-79a7-4591-8966-5ea5d2771687",
   "metadata": {},
   "outputs": [],
   "source": [
    "del list"
   ]
  },
  {
   "cell_type": "code",
   "execution_count": 18,
   "id": "b0bfbf0a-a77f-4497-9477-a609f9cfb584",
   "metadata": {},
   "outputs": [
    {
     "data": {
      "text/plain": [
       "12"
      ]
     },
     "execution_count": 18,
     "metadata": {},
     "output_type": "execute_result"
    }
   ],
   "source": [
    "len(str(list1))"
   ]
  },
  {
   "cell_type": "code",
   "execution_count": 19,
   "id": "5e073b04-be22-44ab-ba7d-f58d6762a4c5",
   "metadata": {},
   "outputs": [
    {
     "data": {
      "text/plain": [
       "['h', 'i', 'm', 'a', 'n', 's', 'h', 'u']"
      ]
     },
     "execution_count": 19,
     "metadata": {},
     "output_type": "execute_result"
    }
   ],
   "source": [
    "list(mystring)"
   ]
  },
  {
   "cell_type": "code",
   "execution_count": 25,
   "id": "6182ba3e-1adc-4cf8-a7e7-1ae8e5db9235",
   "metadata": {},
   "outputs": [
    {
     "name": "stdout",
     "output_type": "stream",
     "text": [
      "5\n",
      "4\n",
      "3\n",
      "2\n",
      "1\n",
      "0\n",
      "-1\n",
      "-2\n",
      "-3\n",
      "-4\n",
      "-5\n",
      "-6\n",
      "-7\n"
     ]
    }
   ],
   "source": [
    "for i in range(5,-8,-1):\n",
    "    print(i)"
   ]
  },
  {
   "cell_type": "code",
   "execution_count": 27,
   "id": "b7c31a77-4a0f-481e-94fe-867dc6e36349",
   "metadata": {},
   "outputs": [
    {
     "name": "stdin",
     "output_type": "stream",
     "text": [
      "enter you rname himanshu\n"
     ]
    },
    {
     "name": "stdout",
     "output_type": "stream",
     "text": [
      "u\n",
      "h\n",
      "s\n",
      "n\n",
      "a\n",
      "m\n",
      "i\n",
      "h\n"
     ]
    }
   ],
   "source": [
    "name=input('enter you rname')\n",
    "for i in range(len(name)-1,-1,-1):\n",
    "    print(name[i])"
   ]
  },
  {
   "cell_type": "markdown",
   "id": "eb185453-43e7-46c4-8680-c78c5f0fc1e9",
   "metadata": {},
   "source": [
    "# use + opereator for concatination"
   ]
  },
  {
   "cell_type": "code",
   "execution_count": 30,
   "id": "cdb1ed7d-aa24-4020-9dad-69b6d5ec2596",
   "metadata": {},
   "outputs": [
    {
     "data": {
      "text/plain": [
       "'himanshumishra'"
      ]
     },
     "execution_count": 30,
     "metadata": {},
     "output_type": "execute_result"
    }
   ],
   "source": [
    "'himanshu'+'mishra'"
   ]
  },
  {
   "cell_type": "markdown",
   "id": "b2a33473-91e0-4549-aee2-9aa04edfd018",
   "metadata": {},
   "source": [
    "### membership operator"
   ]
  },
  {
   "cell_type": "code",
   "execution_count": 31,
   "id": "5c7a575c-def8-4640-977d-1a498522be32",
   "metadata": {},
   "outputs": [],
   "source": [
    "my='i lov my india'"
   ]
  },
  {
   "cell_type": "code",
   "execution_count": 32,
   "id": "978b8aec-3629-47cb-8ac4-9ed52332650a",
   "metadata": {},
   "outputs": [
    {
     "data": {
      "text/plain": [
       "True"
      ]
     },
     "execution_count": 32,
     "metadata": {},
     "output_type": "execute_result"
    }
   ],
   "source": [
    "my in my"
   ]
  },
  {
   "cell_type": "code",
   "execution_count": 33,
   "id": "6319a269-5b82-4e7b-8e56-08f5e6035a69",
   "metadata": {},
   "outputs": [
    {
     "data": {
      "text/plain": [
       "True"
      ]
     },
     "execution_count": 33,
     "metadata": {},
     "output_type": "execute_result"
    }
   ],
   "source": [
    "'' in my"
   ]
  },
  {
   "cell_type": "code",
   "execution_count": 34,
   "id": "5317800c-9156-44ed-847c-67c2431811f2",
   "metadata": {},
   "outputs": [
    {
     "data": {
      "text/plain": [
       "True"
      ]
     },
     "execution_count": 34,
     "metadata": {},
     "output_type": "execute_result"
    }
   ],
   "source": [
    "' ' in my"
   ]
  },
  {
   "cell_type": "code",
   "execution_count": 35,
   "id": "0c4903a2-3b01-477e-901a-5593d0fed365",
   "metadata": {},
   "outputs": [
    {
     "data": {
      "text/plain": [
       "False"
      ]
     },
     "execution_count": 35,
     "metadata": {},
     "output_type": "execute_result"
    }
   ],
   "source": [
    "'  ' in my"
   ]
  },
  {
   "cell_type": "code",
   "execution_count": 36,
   "id": "d0aa1c1e-55aa-4af6-bb68-a0977aebfef4",
   "metadata": {},
   "outputs": [
    {
     "data": {
      "text/plain": [
       "True"
      ]
     },
     "execution_count": 36,
     "metadata": {},
     "output_type": "execute_result"
    }
   ],
   "source": [
    "'india' in my"
   ]
  },
  {
   "cell_type": "code",
   "execution_count": 37,
   "id": "8d246ec5-d817-4904-b86e-f3c557e34eb5",
   "metadata": {},
   "outputs": [
    {
     "data": {
      "text/plain": [
       "True"
      ]
     },
     "execution_count": 37,
     "metadata": {},
     "output_type": "execute_result"
    }
   ],
   "source": [
    "'hindustan' not in my"
   ]
  },
  {
   "cell_type": "code",
   "execution_count": 38,
   "id": "8f24c425-3f95-4731-9dd0-802993779b76",
   "metadata": {},
   "outputs": [
    {
     "data": {
      "text/plain": [
       "False"
      ]
     },
     "execution_count": 38,
     "metadata": {},
     "output_type": "execute_result"
    }
   ],
   "source": [
    "\"tim\" == \"tie\""
   ]
  },
  {
   "cell_type": "code",
   "execution_count": 39,
   "id": "63812981-ca21-43e3-8704-ed898b511ab0",
   "metadata": {},
   "outputs": [
    {
     "data": {
      "text/plain": [
       "True"
      ]
     },
     "execution_count": 39,
     "metadata": {},
     "output_type": "execute_result"
    }
   ],
   "source": [
    "\"arrow\" > \"aron\""
   ]
  },
  {
   "cell_type": "code",
   "execution_count": 40,
   "id": "b823df4b-8e06-41f7-937d-6906f91fa2f7",
   "metadata": {},
   "outputs": [
    {
     "data": {
      "text/plain": [
       "False"
      ]
     },
     "execution_count": 40,
     "metadata": {},
     "output_type": "execute_result"
    }
   ],
   "source": [
    "\"teeth\" < \"tee\""
   ]
  },
  {
   "cell_type": "code",
   "execution_count": 53,
   "id": "23356034-d647-4c76-8b47-156bb07e90c9",
   "metadata": {},
   "outputs": [],
   "source": [
    "a='mishra'\n",
    "b='mishra'"
   ]
  },
  {
   "cell_type": "code",
   "execution_count": 42,
   "id": "a7068ef3-6da5-4150-8569-443cb4fb8339",
   "metadata": {},
   "outputs": [],
   "source": [
    "a='himanshu'"
   ]
  },
  {
   "cell_type": "code",
   "execution_count": 43,
   "id": "e57ceab6-75c6-4164-ba8b-f067a0d79bd8",
   "metadata": {},
   "outputs": [
    {
     "data": {
      "text/plain": [
       "'mishra'"
      ]
     },
     "execution_count": 43,
     "metadata": {},
     "output_type": "execute_result"
    }
   ],
   "source": [
    "b"
   ]
  },
  {
   "cell_type": "code",
   "execution_count": 44,
   "id": "95d8b63c-9f39-4288-8f84-5a58f7d99726",
   "metadata": {},
   "outputs": [],
   "source": [
    "a=b"
   ]
  },
  {
   "cell_type": "code",
   "execution_count": 45,
   "id": "bc80cd17-0e9f-4f98-9b45-436b0711cd80",
   "metadata": {},
   "outputs": [
    {
     "data": {
      "text/plain": [
       "'mishra'"
      ]
     },
     "execution_count": 45,
     "metadata": {},
     "output_type": "execute_result"
    }
   ],
   "source": [
    "a"
   ]
  },
  {
   "cell_type": "code",
   "execution_count": 46,
   "id": "9758c1fc-cf0c-485a-ab0a-d7dae9ba3da0",
   "metadata": {},
   "outputs": [
    {
     "data": {
      "text/plain": [
       "'mishra'"
      ]
     },
     "execution_count": 46,
     "metadata": {},
     "output_type": "execute_result"
    }
   ],
   "source": [
    "b\n"
   ]
  },
  {
   "cell_type": "code",
   "execution_count": 47,
   "id": "7c0f66f6-af28-4eda-af9d-3123bbdc5d1c",
   "metadata": {},
   "outputs": [],
   "source": [
    "a='dfg'"
   ]
  },
  {
   "cell_type": "code",
   "execution_count": 48,
   "id": "30d7fecc-13a6-47b4-a2f1-f754fa396a64",
   "metadata": {},
   "outputs": [
    {
     "data": {
      "text/plain": [
       "'mishra'"
      ]
     },
     "execution_count": 48,
     "metadata": {},
     "output_type": "execute_result"
    }
   ],
   "source": [
    "b"
   ]
  },
  {
   "cell_type": "code",
   "execution_count": 49,
   "id": "6a8a2f79-59e4-4c3c-b1ce-235f6d761c11",
   "metadata": {},
   "outputs": [
    {
     "data": {
      "text/plain": [
       "'dfg'"
      ]
     },
     "execution_count": 49,
     "metadata": {},
     "output_type": "execute_result"
    }
   ],
   "source": [
    "a"
   ]
  },
  {
   "cell_type": "code",
   "execution_count": 50,
   "id": "f31e0555-13ba-4ca2-88a5-de7ac4003508",
   "metadata": {},
   "outputs": [],
   "source": [
    "b='kkj'"
   ]
  },
  {
   "cell_type": "code",
   "execution_count": 51,
   "id": "b9996a71-73c1-40ff-aefd-58f7b3633074",
   "metadata": {},
   "outputs": [
    {
     "data": {
      "text/plain": [
       "'dfg'"
      ]
     },
     "execution_count": 51,
     "metadata": {},
     "output_type": "execute_result"
    }
   ],
   "source": [
    "a"
   ]
  },
  {
   "cell_type": "code",
   "execution_count": 52,
   "id": "c5df8118-f1d1-415d-a27d-a884fb102729",
   "metadata": {},
   "outputs": [
    {
     "data": {
      "text/plain": [
       "'kkj'"
      ]
     },
     "execution_count": 52,
     "metadata": {},
     "output_type": "execute_result"
    }
   ],
   "source": [
    "b"
   ]
  },
  {
   "cell_type": "code",
   "execution_count": 54,
   "id": "195dfb89-6d18-4733-baaf-9f5333bfc69a",
   "metadata": {},
   "outputs": [
    {
     "data": {
      "text/plain": [
       "'mishra'"
      ]
     },
     "execution_count": 54,
     "metadata": {},
     "output_type": "execute_result"
    }
   ],
   "source": [
    "a"
   ]
  },
  {
   "cell_type": "code",
   "execution_count": 55,
   "id": "73434456-4f0e-4460-95f7-9d024c4dbb3b",
   "metadata": {},
   "outputs": [
    {
     "data": {
      "text/plain": [
       "'mishra'"
      ]
     },
     "execution_count": 55,
     "metadata": {},
     "output_type": "execute_result"
    }
   ],
   "source": [
    "b"
   ]
  },
  {
   "cell_type": "code",
   "execution_count": 56,
   "id": "7ee4584d-43e6-4ec7-abbb-168120ec6116",
   "metadata": {},
   "outputs": [
    {
     "data": {
      "text/plain": [
       "True"
      ]
     },
     "execution_count": 56,
     "metadata": {},
     "output_type": "execute_result"
    }
   ],
   "source": [
    "a is b"
   ]
  },
  {
   "cell_type": "code",
   "execution_count": 57,
   "id": "12b1e098-a747-4386-a854-41b669b896db",
   "metadata": {},
   "outputs": [
    {
     "data": {
      "text/plain": [
       "True"
      ]
     },
     "execution_count": 57,
     "metadata": {},
     "output_type": "execute_result"
    }
   ],
   "source": [
    "b is a"
   ]
  },
  {
   "cell_type": "markdown",
   "id": "3c03fdbf-fcef-4df3-bf61-4306f10fd148",
   "metadata": {},
   "source": [
    "# function in string"
   ]
  },
  {
   "cell_type": "markdown",
   "id": "efddbef2-2c61-4713-9f59-576a80c76bcd",
   "metadata": {},
   "source": [
    "# len()\n",
    "# max()\n",
    "# min()\n",
    "# chr()\n",
    "# ord()"
   ]
  },
  {
   "cell_type": "code",
   "execution_count": 58,
   "id": "69808f81-5bea-470e-bf7b-45a50423c9d2",
   "metadata": {},
   "outputs": [
    {
     "data": {
      "text/plain": [
       "8"
      ]
     },
     "execution_count": 58,
     "metadata": {},
     "output_type": "execute_result"
    }
   ],
   "source": [
    "name='himanshu'\n",
    "len(name)"
   ]
  },
  {
   "cell_type": "code",
   "execution_count": 59,
   "id": "fab90d0b-c979-4266-beba-4de5f0e1c919",
   "metadata": {},
   "outputs": [
    {
     "data": {
      "text/plain": [
       "'u'"
      ]
     },
     "execution_count": 59,
     "metadata": {},
     "output_type": "execute_result"
    }
   ],
   "source": [
    "max(name)"
   ]
  },
  {
   "cell_type": "code",
   "execution_count": 60,
   "id": "0b29e7c2-1899-4962-9b89-98c3c1d2f2b8",
   "metadata": {},
   "outputs": [
    {
     "data": {
      "text/plain": [
       "'a'"
      ]
     },
     "execution_count": 60,
     "metadata": {},
     "output_type": "execute_result"
    }
   ],
   "source": [
    "min(name)"
   ]
  },
  {
   "cell_type": "code",
   "execution_count": 62,
   "id": "059dc48b-2384-44a2-b7a7-3039e6121b07",
   "metadata": {},
   "outputs": [
    {
     "data": {
      "text/plain": [
       "110"
      ]
     },
     "execution_count": 62,
     "metadata": {},
     "output_type": "execute_result"
    }
   ],
   "source": [
    "ord('n')"
   ]
  },
  {
   "cell_type": "code",
   "execution_count": 63,
   "id": "6dfd45d0-efed-4cb6-a752-1c977c8c7692",
   "metadata": {},
   "outputs": [
    {
     "data": {
      "text/plain": [
       "'n'"
      ]
     },
     "execution_count": 63,
     "metadata": {},
     "output_type": "execute_result"
    }
   ],
   "source": [
    "chr(110)"
   ]
  },
  {
   "cell_type": "code",
   "execution_count": 64,
   "id": "e47af961-f63a-4d1c-a2b2-f7ca0140e3ed",
   "metadata": {},
   "outputs": [
    {
     "data": {
      "text/plain": [
       "94"
      ]
     },
     "execution_count": 64,
     "metadata": {},
     "output_type": "execute_result"
    }
   ],
   "source": [
    "ord('^')"
   ]
  },
  {
   "cell_type": "code",
   "execution_count": 65,
   "id": "1a563605-90cf-4c73-84fd-dac075650278",
   "metadata": {},
   "outputs": [
    {
     "data": {
      "text/plain": [
       "'^'"
      ]
     },
     "execution_count": 65,
     "metadata": {},
     "output_type": "execute_result"
    }
   ],
   "source": [
    "chr(94)"
   ]
  },
  {
   "cell_type": "code",
   "execution_count": 66,
   "id": "989a1fd4-7f36-4b24-90ab-61e1e55eb92b",
   "metadata": {},
   "outputs": [
    {
     "data": {
      "text/plain": [
       "'himanshu'"
      ]
     },
     "execution_count": 66,
     "metadata": {},
     "output_type": "execute_result"
    }
   ],
   "source": [
    "name"
   ]
  },
  {
   "cell_type": "code",
   "execution_count": 67,
   "id": "3fb4da2e-efb5-479f-b48a-c141905a8d49",
   "metadata": {},
   "outputs": [],
   "source": [
    "name='himanshu '"
   ]
  },
  {
   "cell_type": "code",
   "execution_count": 68,
   "id": "8af6353e-98b5-4dae-a01a-ea5b3152dec8",
   "metadata": {},
   "outputs": [
    {
     "data": {
      "text/plain": [
       "' '"
      ]
     },
     "execution_count": 68,
     "metadata": {},
     "output_type": "execute_result"
    }
   ],
   "source": [
    "min(name)"
   ]
  },
  {
   "cell_type": "code",
   "execution_count": 70,
   "id": "4dfebe6d-db92-4e54-8861-62c092b35167",
   "metadata": {},
   "outputs": [
    {
     "data": {
      "text/plain": [
       "32"
      ]
     },
     "execution_count": 70,
     "metadata": {},
     "output_type": "execute_result"
    }
   ],
   "source": [
    "ord(' ')"
   ]
  },
  {
   "cell_type": "markdown",
   "id": "8f9d92a3-ecc2-423b-bb35-58a7788e243b",
   "metadata": {},
   "source": [
    "# methods of string"
   ]
  },
  {
   "cell_type": "markdown",
   "id": "c2a3a68b-dbb7-492d-9312-192fcdf78d90",
   "metadata": {},
   "source": [
    "### capitalize( ):Returns a copy of the string with first character capitalized and rest of  the characters in lower case. "
   ]
  },
  {
   "cell_type": "code",
   "execution_count": 78,
   "id": "7142e4bf-b5fd-4410-b6ab-d0f993c44851",
   "metadata": {},
   "outputs": [
    {
     "data": {
      "text/plain": [
       "' hi'"
      ]
     },
     "execution_count": 78,
     "metadata": {},
     "output_type": "execute_result"
    }
   ],
   "source": [
    "name"
   ]
  },
  {
   "cell_type": "code",
   "execution_count": 79,
   "id": "5858e632-8bc7-4d2e-b08d-99ec6ee6cd43",
   "metadata": {},
   "outputs": [
    {
     "data": {
      "text/plain": [
       "' hi'"
      ]
     },
     "execution_count": 79,
     "metadata": {},
     "output_type": "execute_result"
    }
   ],
   "source": [
    "name.capitalize()"
   ]
  },
  {
   "cell_type": "code",
   "execution_count": 80,
   "id": "f201fb05-a30b-461f-b114-df58c3dc9ae5",
   "metadata": {},
   "outputs": [],
   "source": [
    "name=' hi'"
   ]
  },
  {
   "cell_type": "code",
   "execution_count": 81,
   "id": "a9e3996b-2b6e-4f47-8272-0b1452fc8ba1",
   "metadata": {},
   "outputs": [],
   "source": [
    "name='himsnahu mishra'"
   ]
  },
  {
   "cell_type": "code",
   "execution_count": 82,
   "id": "fabcae3a-5910-411f-871d-1c2ffa68099a",
   "metadata": {},
   "outputs": [
    {
     "data": {
      "text/plain": [
       "'Himsnahu mishra'"
      ]
     },
     "execution_count": 82,
     "metadata": {},
     "output_type": "execute_result"
    }
   ],
   "source": [
    "name.capitalize()"
   ]
  },
  {
   "cell_type": "markdown",
   "id": "fc1ed16c-1717-4e69-957d-d47b0e3570c6",
   "metadata": {},
   "source": [
    "# lower( ) \n",
    "# upper( )\n",
    "\n",
    "# Returns a copy of the string with all letters converted to lowercase and uppercase respectively"
   ]
  },
  {
   "cell_type": "code",
   "execution_count": 83,
   "id": "319dfcae-613d-4ab1-8078-f101dcc63534",
   "metadata": {},
   "outputs": [
    {
     "data": {
      "text/plain": [
       "'himsnahu mishra'"
      ]
     },
     "execution_count": 83,
     "metadata": {},
     "output_type": "execute_result"
    }
   ],
   "source": [
    "name"
   ]
  },
  {
   "cell_type": "code",
   "execution_count": 84,
   "id": "c148de0c-c340-456a-9471-04bc5831e01f",
   "metadata": {},
   "outputs": [
    {
     "data": {
      "text/plain": [
       "'HIMSNAHU MISHRA'"
      ]
     },
     "execution_count": 84,
     "metadata": {},
     "output_type": "execute_result"
    }
   ],
   "source": [
    "name.upper()"
   ]
  },
  {
   "cell_type": "code",
   "execution_count": 85,
   "id": "6c63896c-ec20-4107-9c9a-7445862718ae",
   "metadata": {},
   "outputs": [
    {
     "data": {
      "text/plain": [
       "'himsnahu mishra'"
      ]
     },
     "execution_count": 85,
     "metadata": {},
     "output_type": "execute_result"
    }
   ],
   "source": [
    "name"
   ]
  },
  {
   "cell_type": "code",
   "execution_count": 86,
   "id": "f5bc67b3-33a0-43aa-a9a4-624a8408b7d1",
   "metadata": {},
   "outputs": [
    {
     "data": {
      "text/plain": [
       "'himsnahu mishra'"
      ]
     },
     "execution_count": 86,
     "metadata": {},
     "output_type": "execute_result"
    }
   ],
   "source": [
    "name.lower()"
   ]
  },
  {
   "cell_type": "code",
   "execution_count": 87,
   "id": "f3fab5c5-a6c9-4f83-a95e-49562904b672",
   "metadata": {},
   "outputs": [],
   "source": [
    "name='himanshuMishra'"
   ]
  },
  {
   "cell_type": "code",
   "execution_count": 88,
   "id": "d6d8d7ea-4d39-48c7-8485-070bbbb4f01c",
   "metadata": {},
   "outputs": [
    {
     "data": {
      "text/plain": [
       "'himanshumishra'"
      ]
     },
     "execution_count": 88,
     "metadata": {},
     "output_type": "execute_result"
    }
   ],
   "source": [
    "name.lower()"
   ]
  },
  {
   "cell_type": "code",
   "execution_count": 89,
   "id": "49621920-84a6-4763-835c-d27f383c91d6",
   "metadata": {},
   "outputs": [
    {
     "data": {
      "text/plain": [
       "'HIMANSHUMISHRA'"
      ]
     },
     "execution_count": 89,
     "metadata": {},
     "output_type": "execute_result"
    }
   ],
   "source": [
    "name.upper()"
   ]
  },
  {
   "cell_type": "markdown",
   "id": "062e594e-e499-42a2-a04a-f881ebc27cbf",
   "metadata": {},
   "source": [
    "# swapcase():Returns a copy of the string with the case of every character swapped . Means that lowercase characters are changed to uppercase and vice-versa. "
   ]
  },
  {
   "cell_type": "code",
   "execution_count": 90,
   "id": "6ea026ee-ad46-4151-85be-6c94764154f2",
   "metadata": {},
   "outputs": [
    {
     "data": {
      "text/plain": [
       "'himanshuMishra'"
      ]
     },
     "execution_count": 90,
     "metadata": {},
     "output_type": "execute_result"
    }
   ],
   "source": [
    "name"
   ]
  },
  {
   "cell_type": "code",
   "execution_count": 91,
   "id": "f0415e48-35a7-4ae4-827e-cab11d1de4da",
   "metadata": {},
   "outputs": [
    {
     "data": {
      "text/plain": [
       "'HIMANSHUmISHRA'"
      ]
     },
     "execution_count": 91,
     "metadata": {},
     "output_type": "execute_result"
    }
   ],
   "source": [
    "name.swapcase()"
   ]
  },
  {
   "cell_type": "markdown",
   "id": "50dc7bfe-8dbb-48ed-a007-f9033e62dc73",
   "metadata": {},
   "source": [
    "# title(): Returns a copy of the string converted to proper case or title case. i.e. , all words begin with uppercase letter and the rest are in lowercase. "
   ]
  },
  {
   "cell_type": "code",
   "execution_count": 92,
   "id": "750aceaf-23d7-4f3d-8c09-8a1b264f9f98",
   "metadata": {},
   "outputs": [
    {
     "data": {
      "text/plain": [
       "'himanshuMishra'"
      ]
     },
     "execution_count": 92,
     "metadata": {},
     "output_type": "execute_result"
    }
   ],
   "source": [
    "name"
   ]
  },
  {
   "cell_type": "code",
   "execution_count": 93,
   "id": "b511b4b1-f2e9-411e-8cab-ab5dafc9d5a9",
   "metadata": {},
   "outputs": [],
   "source": [
    "name='himanshu mishra is good man'"
   ]
  },
  {
   "cell_type": "code",
   "execution_count": 94,
   "id": "7ff6805c-5643-444c-9028-1d7e60b1bcf0",
   "metadata": {},
   "outputs": [
    {
     "data": {
      "text/plain": [
       "'Himanshu Mishra Is Good Man'"
      ]
     },
     "execution_count": 94,
     "metadata": {},
     "output_type": "execute_result"
    }
   ],
   "source": [
    "name.title()"
   ]
  },
  {
   "cell_type": "code",
   "execution_count": 95,
   "id": "b8e2db34-6819-4875-85f6-08afde76ee5c",
   "metadata": {},
   "outputs": [],
   "source": [
    "name='Himanshu Mishra Is Good Man'"
   ]
  },
  {
   "cell_type": "code",
   "execution_count": 96,
   "id": "9dabb38b-0b77-460c-bc70-43c0558a1259",
   "metadata": {},
   "outputs": [
    {
     "data": {
      "text/plain": [
       "'Himanshu Mishra Is Good Man'"
      ]
     },
     "execution_count": 96,
     "metadata": {},
     "output_type": "execute_result"
    }
   ],
   "source": [
    "name.title()"
   ]
  },
  {
   "cell_type": "code",
   "execution_count": 97,
   "id": "594c53a3-6a8b-4d3f-aed0-233a43d43e96",
   "metadata": {},
   "outputs": [],
   "source": [
    "name='himanshumishra is good man'"
   ]
  },
  {
   "cell_type": "code",
   "execution_count": 98,
   "id": "31831009-7bec-4e0e-b7b9-8a6a62d506dc",
   "metadata": {},
   "outputs": [
    {
     "data": {
      "text/plain": [
       "'Himanshumishra Is Good Man'"
      ]
     },
     "execution_count": 98,
     "metadata": {},
     "output_type": "execute_result"
    }
   ],
   "source": [
    "name.title()"
   ]
  },
  {
   "cell_type": "code",
   "execution_count": 99,
   "id": "5a5921bf-5a8e-4220-8f7f-c1c972db0688",
   "metadata": {},
   "outputs": [],
   "source": [
    "name='himaNSHumiSHRa iS gooD MAn'"
   ]
  },
  {
   "cell_type": "code",
   "execution_count": 100,
   "id": "b5c6fa36-74f0-47cd-a131-e25fa421a684",
   "metadata": {},
   "outputs": [
    {
     "data": {
      "text/plain": [
       "'Himanshumishra Is Good Man'"
      ]
     },
     "execution_count": 100,
     "metadata": {},
     "output_type": "execute_result"
    }
   ],
   "source": [
    "name.title()"
   ]
  },
  {
   "cell_type": "markdown",
   "id": "be178ab5-2240-4d21-a732-19b9b7ae6848",
   "metadata": {},
   "source": [
    "# islower( )\n",
    "# isupper( ) \n",
    "# islower( ) and isupper( ) \n",
    "# Returns True or False depending on whether all alphabets in the string are in lowercase and uppercase respectively"
   ]
  },
  {
   "cell_type": "code",
   "execution_count": 101,
   "id": "d14dc8d9-fe6c-4d5c-9289-3b2b1e1e3ad0",
   "metadata": {},
   "outputs": [
    {
     "data": {
      "text/plain": [
       "'himaNSHumiSHRa iS gooD MAn'"
      ]
     },
     "execution_count": 101,
     "metadata": {},
     "output_type": "execute_result"
    }
   ],
   "source": [
    "name"
   ]
  },
  {
   "cell_type": "code",
   "execution_count": 102,
   "id": "8873acff-8585-4500-860e-3bfb28140848",
   "metadata": {},
   "outputs": [
    {
     "data": {
      "text/plain": [
       "False"
      ]
     },
     "execution_count": 102,
     "metadata": {},
     "output_type": "execute_result"
    }
   ],
   "source": [
    "name.islower()"
   ]
  },
  {
   "cell_type": "code",
   "execution_count": 103,
   "id": "e09ffdad-47d4-4e45-8c5f-71c59b907f7a",
   "metadata": {},
   "outputs": [
    {
     "data": {
      "text/plain": [
       "False"
      ]
     },
     "execution_count": 103,
     "metadata": {},
     "output_type": "execute_result"
    }
   ],
   "source": [
    "name.isupper()"
   ]
  },
  {
   "cell_type": "code",
   "execution_count": 108,
   "id": "0a1083d0-2a6b-447f-925f-474993f592c1",
   "metadata": {},
   "outputs": [],
   "source": [
    "name='HIMANSHU'"
   ]
  },
  {
   "cell_type": "code",
   "execution_count": 109,
   "id": "9930481c-d222-4709-ac04-a94de00274a2",
   "metadata": {},
   "outputs": [
    {
     "data": {
      "text/plain": [
       "False"
      ]
     },
     "execution_count": 109,
     "metadata": {},
     "output_type": "execute_result"
    }
   ],
   "source": [
    "name.islower()"
   ]
  },
  {
   "cell_type": "code",
   "execution_count": 110,
   "id": "a7c20fae-edf3-4e55-8097-34117cbff430",
   "metadata": {},
   "outputs": [
    {
     "data": {
      "text/plain": [
       "True"
      ]
     },
     "execution_count": 110,
     "metadata": {},
     "output_type": "execute_result"
    }
   ],
   "source": [
    "name.isupper()"
   ]
  },
  {
   "cell_type": "code",
   "execution_count": 111,
   "id": "97afe0e9-7eac-4a74-86ff-b765550f1488",
   "metadata": {},
   "outputs": [
    {
     "data": {
      "text/plain": [
       "'HIMANSHU'"
      ]
     },
     "execution_count": 111,
     "metadata": {},
     "output_type": "execute_result"
    }
   ],
   "source": [
    "name"
   ]
  },
  {
   "cell_type": "code",
   "execution_count": 112,
   "id": "47428b04-2c66-4087-9526-26c1303a8497",
   "metadata": {},
   "outputs": [
    {
     "data": {
      "text/plain": [
       "'himanshu'"
      ]
     },
     "execution_count": 112,
     "metadata": {},
     "output_type": "execute_result"
    }
   ],
   "source": [
    "name.lower()"
   ]
  },
  {
   "cell_type": "code",
   "execution_count": 113,
   "id": "2c28e51e-3125-454b-b359-bb5efc08bcf0",
   "metadata": {},
   "outputs": [
    {
     "data": {
      "text/plain": [
       "'HIMANSHU'"
      ]
     },
     "execution_count": 113,
     "metadata": {},
     "output_type": "execute_result"
    }
   ],
   "source": [
    "name"
   ]
  },
  {
   "cell_type": "markdown",
   "id": "88f90fbb-57f5-4ced-b009-d2f8d9a02adf",
   "metadata": {},
   "source": [
    "# isalpha( )\n",
    "\n",
    "# Returns True if the string contains only alphabets ,otherwise returns False"
   ]
  },
  {
   "cell_type": "code",
   "execution_count": 114,
   "id": "30955a4c-ffac-4723-898f-22b2cb519060",
   "metadata": {},
   "outputs": [
    {
     "data": {
      "text/plain": [
       "'HIMANSHU'"
      ]
     },
     "execution_count": 114,
     "metadata": {},
     "output_type": "execute_result"
    }
   ],
   "source": [
    "name"
   ]
  },
  {
   "cell_type": "code",
   "execution_count": 115,
   "id": "d5689662-5f90-4902-9c5f-715ff65d207d",
   "metadata": {},
   "outputs": [
    {
     "data": {
      "text/plain": [
       "True"
      ]
     },
     "execution_count": 115,
     "metadata": {},
     "output_type": "execute_result"
    }
   ],
   "source": [
    "name.isalpha()"
   ]
  },
  {
   "cell_type": "code",
   "execution_count": 116,
   "id": "40b9307d-486a-43fe-a7b1-5bedb0f3a526",
   "metadata": {},
   "outputs": [],
   "source": [
    "name='mishra123'"
   ]
  },
  {
   "cell_type": "code",
   "execution_count": 117,
   "id": "8899cc9b-a043-42a3-b27e-c23333c06fe6",
   "metadata": {},
   "outputs": [
    {
     "data": {
      "text/plain": [
       "False"
      ]
     },
     "execution_count": 117,
     "metadata": {},
     "output_type": "execute_result"
    }
   ],
   "source": [
    "name.isalpha()"
   ]
  },
  {
   "cell_type": "markdown",
   "id": "1e04fe4a-3147-4481-b373-a443fb5e314c",
   "metadata": {},
   "source": [
    "# isdigit( )\n",
    "# Returns True if the string contains only digits , otherwise returns False"
   ]
  },
  {
   "cell_type": "code",
   "execution_count": 118,
   "id": "8b97c4de-7af4-4f7a-b8ef-7c1a0952f6d8",
   "metadata": {},
   "outputs": [
    {
     "data": {
      "text/plain": [
       "False"
      ]
     },
     "execution_count": 118,
     "metadata": {},
     "output_type": "execute_result"
    }
   ],
   "source": [
    "name.isdigit()"
   ]
  },
  {
   "cell_type": "markdown",
   "id": "b1bf6566-f484-4118-b201-fb0849f3969f",
   "metadata": {},
   "source": [
    "# isalnum( )\n",
    "# Returns True if the string contains only alphanumeric characters , otherwise returns False"
   ]
  },
  {
   "cell_type": "code",
   "execution_count": 119,
   "id": "c4c1e80a-4676-46e4-810e-455eedafa2c1",
   "metadata": {},
   "outputs": [
    {
     "data": {
      "text/plain": [
       "True"
      ]
     },
     "execution_count": 119,
     "metadata": {},
     "output_type": "execute_result"
    }
   ],
   "source": [
    "name.isalnum()"
   ]
  },
  {
   "cell_type": "code",
   "execution_count": 133,
   "id": "cd219dbe-ddbb-4768-9653-27bbe5c6fd42",
   "metadata": {},
   "outputs": [],
   "source": [
    "name='himanshu'"
   ]
  },
  {
   "cell_type": "markdown",
   "id": "d05c5844-496b-4a9d-8a4e-6c8daff61612",
   "metadata": {},
   "source": [
    "# isspace( )\n",
    "# Returns True if the string contains only whitespace characters , otherwise returns False"
   ]
  },
  {
   "cell_type": "code",
   "execution_count": 120,
   "id": "ba2dcf0a-a1aa-4415-b155-b7c64b6148c1",
   "metadata": {},
   "outputs": [
    {
     "data": {
      "text/plain": [
       "False"
      ]
     },
     "execution_count": 120,
     "metadata": {},
     "output_type": "execute_result"
    }
   ],
   "source": [
    "name.isspace()"
   ]
  },
  {
   "cell_type": "code",
   "execution_count": 121,
   "id": "8b05d053-61b9-495b-8753-6d9acbfae8db",
   "metadata": {},
   "outputs": [
    {
     "data": {
      "text/plain": [
       "'mishra123'"
      ]
     },
     "execution_count": 121,
     "metadata": {},
     "output_type": "execute_result"
    }
   ],
   "source": [
    "name"
   ]
  },
  {
   "cell_type": "code",
   "execution_count": 122,
   "id": "7411cccb-ccec-4a83-ab83-4f5133683f61",
   "metadata": {},
   "outputs": [],
   "source": [
    "namae='himanshu mishra'"
   ]
  },
  {
   "cell_type": "code",
   "execution_count": 123,
   "id": "80af8a12-4194-453a-b36e-e2ee3e823d81",
   "metadata": {},
   "outputs": [
    {
     "data": {
      "text/plain": [
       "False"
      ]
     },
     "execution_count": 123,
     "metadata": {},
     "output_type": "execute_result"
    }
   ],
   "source": [
    "name.isspace()"
   ]
  },
  {
   "cell_type": "code",
   "execution_count": 124,
   "id": "b8bb1e52-96fa-46f5-9ce9-7a7fa5697654",
   "metadata": {},
   "outputs": [],
   "source": [
    "name=''"
   ]
  },
  {
   "cell_type": "code",
   "execution_count": 125,
   "id": "4fa1a351-511d-4daa-badc-e6da6db6e4b9",
   "metadata": {},
   "outputs": [
    {
     "data": {
      "text/plain": [
       "''"
      ]
     },
     "execution_count": 125,
     "metadata": {},
     "output_type": "execute_result"
    }
   ],
   "source": [
    "name"
   ]
  },
  {
   "cell_type": "code",
   "execution_count": 126,
   "id": "cbf217c1-9da7-4784-bdaa-5b2031030aa0",
   "metadata": {},
   "outputs": [
    {
     "data": {
      "text/plain": [
       "False"
      ]
     },
     "execution_count": 126,
     "metadata": {},
     "output_type": "execute_result"
    }
   ],
   "source": [
    "name.isspace()"
   ]
  },
  {
   "cell_type": "code",
   "execution_count": 127,
   "id": "54f6912c-46c8-4d35-9bca-907b42dde8a8",
   "metadata": {},
   "outputs": [],
   "source": [
    "name=' '"
   ]
  },
  {
   "cell_type": "code",
   "execution_count": 128,
   "id": "0bd0889e-5548-4e8b-a896-35fd6b97abb2",
   "metadata": {},
   "outputs": [
    {
     "data": {
      "text/plain": [
       "True"
      ]
     },
     "execution_count": 128,
     "metadata": {},
     "output_type": "execute_result"
    }
   ],
   "source": [
    "name.isspace()"
   ]
  },
  {
   "cell_type": "code",
   "execution_count": 129,
   "id": "50170c71-30b1-4611-8bac-a13cbc3bab4d",
   "metadata": {},
   "outputs": [],
   "source": [
    "name='          '"
   ]
  },
  {
   "cell_type": "code",
   "execution_count": 130,
   "id": "68d3ed86-daf5-4d32-9ad6-b4f826ed7637",
   "metadata": {},
   "outputs": [
    {
     "data": {
      "text/plain": [
       "True"
      ]
     },
     "execution_count": 130,
     "metadata": {},
     "output_type": "execute_result"
    }
   ],
   "source": [
    "name.isspace()"
   ]
  },
  {
   "cell_type": "code",
   "execution_count": 131,
   "id": "b7a000ed-2bef-4397-8265-ec90ae5b0f6b",
   "metadata": {},
   "outputs": [],
   "source": [
    "name='      j      '"
   ]
  },
  {
   "cell_type": "code",
   "execution_count": 132,
   "id": "7fb9da22-c5da-43ad-b41d-086a6435b8d3",
   "metadata": {},
   "outputs": [
    {
     "data": {
      "text/plain": [
       "False"
      ]
     },
     "execution_count": 132,
     "metadata": {},
     "output_type": "execute_result"
    }
   ],
   "source": [
    "name.isspace()"
   ]
  },
  {
   "cell_type": "code",
   "execution_count": 3,
   "id": "e12a5b1c-de2d-4373-a3d8-a1a206d8f089",
   "metadata": {},
   "outputs": [],
   "source": [
    "name='himanshu'"
   ]
  },
  {
   "cell_type": "code",
   "execution_count": 4,
   "id": "3bb477af-ad71-45e6-8b1f-6361fc34760f",
   "metadata": {},
   "outputs": [],
   "source": [
    "name1='himanshu123'"
   ]
  },
  {
   "cell_type": "code",
   "execution_count": 5,
   "id": "b007d14a-c950-445f-b8ef-df8289c6c9e7",
   "metadata": {},
   "outputs": [],
   "source": [
    "name2='himanshu '"
   ]
  },
  {
   "cell_type": "code",
   "execution_count": 6,
   "id": "3dffcda0-4af3-47d5-bd1f-cb921a5528c2",
   "metadata": {},
   "outputs": [],
   "source": [
    "name3='123'"
   ]
  },
  {
   "cell_type": "code",
   "execution_count": 7,
   "id": "a46a2398-7946-4013-849b-b8110514eb93",
   "metadata": {},
   "outputs": [],
   "source": [
    "name4='123 '"
   ]
  },
  {
   "cell_type": "code",
   "execution_count": 8,
   "id": "9cb2ac9d-6a46-4d2b-82c8-ef0a8c567306",
   "metadata": {},
   "outputs": [],
   "source": [
    "name5='himanshu123 mishra456'"
   ]
  },
  {
   "cell_type": "code",
   "execution_count": 9,
   "id": "19d2da9f-6194-42ad-931f-fa6ab528cf8b",
   "metadata": {},
   "outputs": [],
   "source": [
    "name6='123himanshu 456mishra'"
   ]
  },
  {
   "cell_type": "code",
   "execution_count": 10,
   "id": "c5d3adac-83c0-439e-8585-46308ca60306",
   "metadata": {},
   "outputs": [],
   "source": [
    "name7='himanshu123mishra'"
   ]
  },
  {
   "cell_type": "code",
   "execution_count": 11,
   "id": "4b68c896-240e-40a3-bb93-298c545aab3f",
   "metadata": {},
   "outputs": [
    {
     "name": "stdout",
     "output_type": "stream",
     "text": [
      "True\n",
      "True\n",
      "False\n",
      "True\n",
      "False\n",
      "False\n",
      "False\n",
      "True\n"
     ]
    }
   ],
   "source": [
    "print(name.isalnum())\n",
    "print(name1.isalnum())\n",
    "print(name2.isalnum())\n",
    "print(name3.isalnum())\n",
    "print(name4.isalnum())\n",
    "print(name5.isalnum())\n",
    "print(name6.isalnum())\n",
    "print(name7.isalnum())"
   ]
  },
  {
   "cell_type": "code",
   "execution_count": 12,
   "id": "be9d9c75-5a25-4eae-98fb-391e5cf4ee6f",
   "metadata": {},
   "outputs": [],
   "source": [
    "name7='himanshu@'"
   ]
  },
  {
   "cell_type": "code",
   "execution_count": 13,
   "id": "acf3ac04-3911-4130-8e31-8e23c85413d2",
   "metadata": {},
   "outputs": [
    {
     "data": {
      "text/plain": [
       "False"
      ]
     },
     "execution_count": 13,
     "metadata": {},
     "output_type": "execute_result"
    }
   ],
   "source": [
    "name7.isalnum()"
   ]
  },
  {
   "cell_type": "markdown",
   "id": "cc851672-229d-4d4e-ab04-ae2a0dd30281",
   "metadata": {},
   "source": [
    "# startswith( )\n",
    "# endswith( )\n"
   ]
  },
  {
   "cell_type": "code",
   "execution_count": 14,
   "id": "edcd388c-b659-48b6-b40e-95a063b1fbf9",
   "metadata": {},
   "outputs": [],
   "source": [
    "name='himanshu mishra'"
   ]
  },
  {
   "cell_type": "code",
   "execution_count": 20,
   "id": "4dc2ee32-5aad-4e22-be51-e5d537d6f6dd",
   "metadata": {},
   "outputs": [
    {
     "data": {
      "text/plain": [
       "False"
      ]
     },
     "execution_count": 20,
     "metadata": {},
     "output_type": "execute_result"
    }
   ],
   "source": [
    "name.startswith('imanshu')"
   ]
  },
  {
   "cell_type": "code",
   "execution_count": 23,
   "id": "647bd6f0-e5f6-4994-a66f-7e9b276047ec",
   "metadata": {},
   "outputs": [
    {
     "data": {
      "text/plain": [
       "True"
      ]
     },
     "execution_count": 23,
     "metadata": {},
     "output_type": "execute_result"
    }
   ],
   "source": [
    "name.endswith('mishra')"
   ]
  },
  {
   "cell_type": "markdown",
   "id": "bc4196b0-f9d9-4951-84f5-eb538d8d36fa",
   "metadata": {},
   "source": [
    "# index( )\n",
    "# Returns the index of first occurrence of a substring  inside the string (if found). \n",
    "\n",
    "# If the substring is not found, it raises an exception."
   ]
  },
  {
   "cell_type": "code",
   "execution_count": 24,
   "id": "9f4774c7-ece0-4f7b-a6d9-16e7c54da6de",
   "metadata": {},
   "outputs": [
    {
     "data": {
      "text/plain": [
       "'himanshu mishra'"
      ]
     },
     "execution_count": 24,
     "metadata": {},
     "output_type": "execute_result"
    }
   ],
   "source": [
    "name"
   ]
  },
  {
   "cell_type": "code",
   "execution_count": 25,
   "id": "b5ce2f24-aaf6-4525-91e0-65708dcc517e",
   "metadata": {},
   "outputs": [
    {
     "data": {
      "text/plain": [
       "1"
      ]
     },
     "execution_count": 25,
     "metadata": {},
     "output_type": "execute_result"
    }
   ],
   "source": [
    "name.index(\"i\")"
   ]
  },
  {
   "cell_type": "code",
   "execution_count": 26,
   "id": "5d6f963f-c43c-4f6f-96ba-42e8457fead6",
   "metadata": {},
   "outputs": [
    {
     "data": {
      "text/plain": [
       "13"
      ]
     },
     "execution_count": 26,
     "metadata": {},
     "output_type": "execute_result"
    }
   ],
   "source": [
    "name.index(\"r\")"
   ]
  },
  {
   "cell_type": "code",
   "execution_count": 27,
   "id": "d78f2564-c5dd-4487-bd2b-3ad5ead1db30",
   "metadata": {},
   "outputs": [
    {
     "data": {
      "text/plain": [
       "9"
      ]
     },
     "execution_count": 27,
     "metadata": {},
     "output_type": "execute_result"
    }
   ],
   "source": [
    "name.index(\"mishra\")"
   ]
  },
  {
   "cell_type": "code",
   "execution_count": 31,
   "id": "9df7fe36-780c-41ec-be47-f7a45c0427d5",
   "metadata": {},
   "outputs": [
    {
     "data": {
      "text/plain": [
       "3"
      ]
     },
     "execution_count": 31,
     "metadata": {},
     "output_type": "execute_result"
    }
   ],
   "source": [
    "name.index(\"ans\")"
   ]
  },
  {
   "cell_type": "code",
   "execution_count": 32,
   "id": "d0fe1494-b65e-401f-96b2-da52da8de7bc",
   "metadata": {},
   "outputs": [
    {
     "data": {
      "text/plain": [
       "0"
      ]
     },
     "execution_count": 32,
     "metadata": {},
     "output_type": "execute_result"
    }
   ],
   "source": [
    "name.index(\"\")"
   ]
  },
  {
   "cell_type": "code",
   "execution_count": 34,
   "id": "1450fa9d-0693-4015-ba5f-974ebed0ecb6",
   "metadata": {},
   "outputs": [
    {
     "data": {
      "text/plain": [
       "8"
      ]
     },
     "execution_count": 34,
     "metadata": {},
     "output_type": "execute_result"
    }
   ],
   "source": [
    "name.index(\" m\")"
   ]
  },
  {
   "cell_type": "markdown",
   "id": "356e25f7-3c77-45cf-99c2-fd64e7f8c71f",
   "metadata": {},
   "source": [
    "# count( )\n",
    "\n",
    "# Returns the number of occurrences of a substring in the given string"
   ]
  },
  {
   "cell_type": "code",
   "execution_count": 35,
   "id": "58854cf5-678f-4a64-92cd-1b2dc8e3cd19",
   "metadata": {},
   "outputs": [],
   "source": [
    "name='himanshu mishra is good is himanshu mishra'"
   ]
  },
  {
   "cell_type": "code",
   "execution_count": 36,
   "id": "0390dbd0-d96e-4da4-b44c-029d35d9c38f",
   "metadata": {},
   "outputs": [
    {
     "data": {
      "text/plain": [
       "4"
      ]
     },
     "execution_count": 36,
     "metadata": {},
     "output_type": "execute_result"
    }
   ],
   "source": [
    "name.count(\"is\")"
   ]
  },
  {
   "cell_type": "code",
   "execution_count": 38,
   "id": "0c8afaa3-ad89-4a3a-95ab-f86468f66cfb",
   "metadata": {},
   "outputs": [
    {
     "data": {
      "text/plain": [
       "6"
      ]
     },
     "execution_count": 38,
     "metadata": {},
     "output_type": "execute_result"
    }
   ],
   "source": [
    "name.count(\"i\")"
   ]
  },
  {
   "cell_type": "code",
   "execution_count": 39,
   "id": "e10f5cda-9866-4a30-8078-e80966e286c8",
   "metadata": {},
   "outputs": [
    {
     "data": {
      "text/plain": [
       "2"
      ]
     },
     "execution_count": 39,
     "metadata": {},
     "output_type": "execute_result"
    }
   ],
   "source": [
    "name.count(\"ra\")"
   ]
  },
  {
   "cell_type": "markdown",
   "id": "ce13bc88-daa2-4457-bcf7-d2a7d8058149",
   "metadata": {},
   "source": [
    "# split()"
   ]
  },
  {
   "cell_type": "code",
   "execution_count": 40,
   "id": "50c294d4-515d-4875-bf47-f21eed30a579",
   "metadata": {},
   "outputs": [],
   "source": [
    "l='i@love@my@india'"
   ]
  },
  {
   "cell_type": "code",
   "execution_count": 41,
   "id": "4a248d6f-8391-46e0-93ea-f76648007573",
   "metadata": {},
   "outputs": [
    {
     "data": {
      "text/plain": [
       "['i', 'love', 'my', 'india']"
      ]
     },
     "execution_count": 41,
     "metadata": {},
     "output_type": "execute_result"
    }
   ],
   "source": [
    "l.split(\"@\")"
   ]
  },
  {
   "cell_type": "code",
   "execution_count": 43,
   "id": "e8c9bdea-0afe-460c-9ccc-ad3ac0cbac54",
   "metadata": {},
   "outputs": [
    {
     "data": {
      "text/plain": [
       "'i@l'"
      ]
     },
     "execution_count": 43,
     "metadata": {},
     "output_type": "execute_result"
    }
   ],
   "source": [
    "l[slice(3)]"
   ]
  },
  {
   "cell_type": "markdown",
   "id": "97f22d4f-8a4e-41e7-808a-56605d8defba",
   "metadata": {},
   "source": [
    "# join()"
   ]
  },
  {
   "cell_type": "code",
   "execution_count": 48,
   "id": "a2c67ad8-ece2-436c-a7c1-90de711dcc37",
   "metadata": {},
   "outputs": [
    {
     "data": {
      "text/plain": [
       "'himanshu mishra'"
      ]
     },
     "execution_count": 48,
     "metadata": {},
     "output_type": "execute_result"
    }
   ],
   "source": [
    "\" \".join(['himanshu','mishra'])"
   ]
  },
  {
   "cell_type": "code",
   "execution_count": 49,
   "id": "6b5325e9-4bee-4a34-a624-f172383828a3",
   "metadata": {},
   "outputs": [
    {
     "data": {
      "text/plain": [
       "'himanshu@mishra'"
      ]
     },
     "execution_count": 49,
     "metadata": {},
     "output_type": "execute_result"
    }
   ],
   "source": [
    "\"@\".join(['himanshu','mishra'])"
   ]
  },
  {
   "cell_type": "code",
   "execution_count": 50,
   "id": "cf9f9887-02dd-4aa4-b77b-8b5b5f3d3629",
   "metadata": {},
   "outputs": [
    {
     "data": {
      "text/plain": [
       "'m$i$s$h$r$a'"
      ]
     },
     "execution_count": 50,
     "metadata": {},
     "output_type": "execute_result"
    }
   ],
   "source": [
    "\"$\".join('mishra')"
   ]
  },
  {
   "cell_type": "code",
   "execution_count": 51,
   "id": "6b3b41b9-fc3d-4f0d-b3b9-e09c39b84e9a",
   "metadata": {},
   "outputs": [],
   "source": [
    "name='himanshu'\n",
    "age=21"
   ]
  },
  {
   "cell_type": "code",
   "execution_count": 56,
   "id": "9de9b636-a3c7-42a2-af6b-fe47b58b0e4a",
   "metadata": {},
   "outputs": [
    {
     "name": "stdout",
     "output_type": "stream",
     "text": [
      "my name is himanshu my age is 21\n"
     ]
    }
   ],
   "source": [
    "print(\"my name is\",name,'my age is',age)"
   ]
  },
  {
   "cell_type": "code",
   "execution_count": 57,
   "id": "407f2127-b35c-40fa-a23b-c6046e5aacf8",
   "metadata": {},
   "outputs": [
    {
     "name": "stdout",
     "output_type": "stream",
     "text": [
      "my name is himanshu my age is 21\n"
     ]
    }
   ],
   "source": [
    "print(\"my name is {} my age is {}\".format(name,age))"
   ]
  },
  {
   "cell_type": "code",
   "execution_count": 58,
   "id": "1037a1c5-dff3-4d6c-900f-ce8758107d30",
   "metadata": {},
   "outputs": [
    {
     "name": "stdout",
     "output_type": "stream",
     "text": [
      "my name is himanshu my age is 21\n"
     ]
    }
   ],
   "source": [
    "print(\"my name is %s my age is %d\"%(name,age))"
   ]
  },
  {
   "cell_type": "markdown",
   "id": "2cf24400-45bc-4a43-9569-6389ce6b8c92",
   "metadata": {},
   "source": [
    "# f-string\n",
    "# string interpolation"
   ]
  },
  {
   "cell_type": "code",
   "execution_count": 60,
   "id": "4a7b03a4-b762-4ad6-9979-6bed92fb1de5",
   "metadata": {},
   "outputs": [
    {
     "name": "stdout",
     "output_type": "stream",
     "text": [
      "my name is {name} my age is {age}\n"
     ]
    }
   ],
   "source": [
    " print(\"my name is {name} my age is {age}\")"
   ]
  },
  {
   "cell_type": "code",
   "execution_count": 62,
   "id": "91b73cd3-1dae-4439-9e16-75264780fea7",
   "metadata": {},
   "outputs": [
    {
     "name": "stdout",
     "output_type": "stream",
     "text": [
      "my name is himanshu my age is 21\n"
     ]
    }
   ],
   "source": [
    " # time coplexity is very less for this code\n",
    "print(f\"my name is {name} my age is {age}\")"
   ]
  },
  {
   "cell_type": "code",
   "execution_count": 68,
   "id": "f8c96e2a-c416-4dec-bad5-b42b49dbe8fb",
   "metadata": {},
   "outputs": [
    {
     "data": {
      "text/plain": [
       "'max is 20'"
      ]
     },
     "execution_count": 68,
     "metadata": {},
     "output_type": "execute_result"
    }
   ],
   "source": [
    "a=10\n",
    "b=20\n",
    "f\"max is {max(a,b)}\""
   ]
  },
  {
   "cell_type": "code",
   "execution_count": 64,
   "id": "d8f8dc2b-353e-486f-9a94-dd56b97053ae",
   "metadata": {},
   "outputs": [
    {
     "data": {
      "text/plain": [
       "'my name is himanshu my age is 21'"
      ]
     },
     "execution_count": 64,
     "metadata": {},
     "output_type": "execute_result"
    }
   ],
   "source": [
    "f\"my name is {name} my age is {age}\""
   ]
  },
  {
   "cell_type": "code",
   "execution_count": 65,
   "id": "e0e6b825-f5ff-4779-9475-3582454d13b8",
   "metadata": {},
   "outputs": [
    {
     "data": {
      "text/plain": [
       "10"
      ]
     },
     "execution_count": 65,
     "metadata": {},
     "output_type": "execute_result"
    }
   ],
   "source": [
    "10"
   ]
  },
  {
   "cell_type": "code",
   "execution_count": 67,
   "id": "c0e01d2d-baf5-4915-aae5-c5dfd9f197c7",
   "metadata": {},
   "outputs": [
    {
     "data": {
      "text/plain": [
       "'my name is {name} my age is {age}'"
      ]
     },
     "execution_count": 67,
     "metadata": {},
     "output_type": "execute_result"
    }
   ],
   "source": [
    "\"my name is {name} my age is {age}\""
   ]
  },
  {
   "cell_type": "code",
   "execution_count": 69,
   "id": "270fd33b-b959-4b25-b342-ed7c4c6c3974",
   "metadata": {},
   "outputs": [
    {
     "data": {
      "text/plain": [
       "20"
      ]
     },
     "execution_count": 69,
     "metadata": {},
     "output_type": "execute_result"
    }
   ],
   "source": [
    "max(a,b)"
   ]
  },
  {
   "cell_type": "markdown",
   "id": "fefd7e86-36b0-4852-8b46-7fdd962891e2",
   "metadata": {},
   "source": [
    "# DICTIONARY"
   ]
  },
  {
   "cell_type": "markdown",
   "id": "d9fba2bc-8616-49d7-a0b8-bc48fd8bed6d",
   "metadata": {},
   "source": [
    "### key:value pair\n",
    "\n",
    "dictionary: dict is a collection which holds data in pair(that pair will be in key and value)\n",
    "\n",
    "if i want to connect one piece of info with other piece of info so we always we use dictionary\n",
    "\n",
    "ex: rollno->student name\n",
    "    name-> mobile number"
   ]
  },
  {
   "cell_type": "markdown",
   "id": "7e3561e1-0554-40cb-bf00-a1a4c630c1c2",
   "metadata": {},
   "source": [
    "### syntax of dictionary\n",
    "dict={ key1:value1,\n",
    " key2:value2,\n",
    " key3:value3,\n",
    " ....\n",
    " keyn:valuen\n",
    "}"
   ]
  },
  {
   "cell_type": "code",
   "execution_count": 4,
   "id": "ec6bf2bc-08ec-4b93-a732-fe6f5f2802ec",
   "metadata": {},
   "outputs": [],
   "source": [
    "myset={}"
   ]
  },
  {
   "cell_type": "code",
   "execution_count": 5,
   "id": "8ae64626-4dcb-47af-8a0c-2a4e4a28759b",
   "metadata": {},
   "outputs": [
    {
     "data": {
      "text/plain": [
       "dict"
      ]
     },
     "execution_count": 5,
     "metadata": {},
     "output_type": "execute_result"
    }
   ],
   "source": [
    "type(myset)"
   ]
  },
  {
   "cell_type": "code",
   "execution_count": 6,
   "id": "76e51398-4200-4320-af98-a84a68fbbcf6",
   "metadata": {},
   "outputs": [],
   "source": [
    "mydict={1:\"himanshu\",2:\"mioshra\"}"
   ]
  },
  {
   "cell_type": "code",
   "execution_count": 7,
   "id": "73848240-46cf-4ccc-9660-6288787e5ee1",
   "metadata": {},
   "outputs": [
    {
     "data": {
      "text/plain": [
       "{1: 'himanshu', 2: 'mioshra'}"
      ]
     },
     "execution_count": 7,
     "metadata": {},
     "output_type": "execute_result"
    }
   ],
   "source": [
    "mydict"
   ]
  },
  {
   "cell_type": "code",
   "execution_count": 8,
   "id": "88ff4cb4-1c6d-42d2-bbf4-305c77bb49f0",
   "metadata": {},
   "outputs": [],
   "source": [
    "mydict2={1:\"mishra\",\"a\":\"shubham\"}"
   ]
  },
  {
   "cell_type": "code",
   "execution_count": 9,
   "id": "bc16daa9-f910-4635-b4f2-7ba07b68eb3a",
   "metadata": {},
   "outputs": [
    {
     "data": {
      "text/plain": [
       "{1: 'mishra', 'a': 'shubham'}"
      ]
     },
     "execution_count": 9,
     "metadata": {},
     "output_type": "execute_result"
    }
   ],
   "source": [
    "mydict2"
   ]
  },
  {
   "cell_type": "code",
   "execution_count": 10,
   "id": "de7550ef-299a-4c82-92ca-66b755e188c4",
   "metadata": {},
   "outputs": [],
   "source": [
    "mydict3={\"ambuj\":[\"c\",\"c++\"],\"gupta\":[\"java\",\"java script\"],\"mishra\":(\"python\",\"machine learning\")}"
   ]
  },
  {
   "cell_type": "code",
   "execution_count": 11,
   "id": "c898a651-dd49-4df7-b8c1-22d16c18ed40",
   "metadata": {},
   "outputs": [
    {
     "data": {
      "text/plain": [
       "{'ambuj': ['c', 'c++'],\n",
       " 'gupta': ['java', 'java script'],\n",
       " 'mishra': ('python', 'machine learning')}"
      ]
     },
     "execution_count": 11,
     "metadata": {},
     "output_type": "execute_result"
    }
   ],
   "source": [
    "mydict3"
   ]
  },
  {
   "cell_type": "code",
   "execution_count": 12,
   "id": "da5fde32-3db9-40c4-a924-d33ce03abc70",
   "metadata": {},
   "outputs": [
    {
     "data": {
      "text/plain": [
       "'mishra'"
      ]
     },
     "execution_count": 12,
     "metadata": {},
     "output_type": "execute_result"
    }
   ],
   "source": [
    "mydict2[1]"
   ]
  },
  {
   "cell_type": "code",
   "execution_count": 13,
   "id": "912ddf6a-9d29-442d-b9f6-0d5bbc5d1e4c",
   "metadata": {},
   "outputs": [
    {
     "data": {
      "text/plain": [
       "('python', 'machine learning')"
      ]
     },
     "execution_count": 13,
     "metadata": {},
     "output_type": "execute_result"
    }
   ],
   "source": [
    "mydict3[\"mishra\"]"
   ]
  },
  {
   "cell_type": "code",
   "execution_count": 14,
   "id": "cf9f4b71-e63e-41c6-aea3-bc10e3d606ec",
   "metadata": {},
   "outputs": [
    {
     "data": {
      "text/plain": [
       "('python', 'machine learning')"
      ]
     },
     "execution_count": 14,
     "metadata": {},
     "output_type": "execute_result"
    }
   ],
   "source": [
    "mydict3.get(\"mishra\")"
   ]
  },
  {
   "cell_type": "code",
   "execution_count": 15,
   "id": "c0481284-3d9c-4861-873b-82c13e7ff87b",
   "metadata": {},
   "outputs": [
    {
     "data": {
      "text/plain": [
       "{'ambuj': ['c', 'c++'],\n",
       " 'gupta': ['java', 'java script'],\n",
       " 'mishra': ('python', 'machine learning')}"
      ]
     },
     "execution_count": 15,
     "metadata": {},
     "output_type": "execute_result"
    }
   ],
   "source": [
    "mydict3"
   ]
  },
  {
   "cell_type": "code",
   "execution_count": 17,
   "id": "9192fee2-f33f-424e-bbe7-5baf26e6e8ba",
   "metadata": {},
   "outputs": [
    {
     "data": {
      "text/plain": [
       "['java', 'java script']"
      ]
     },
     "execution_count": 17,
     "metadata": {},
     "output_type": "execute_result"
    }
   ],
   "source": [
    "mydict3['gupta']"
   ]
  },
  {
   "cell_type": "code",
   "execution_count": 18,
   "id": "4e91a497-b31d-453f-9e57-220f01c81ca2",
   "metadata": {},
   "outputs": [
    {
     "data": {
      "text/plain": [
       "['c', 'c++']"
      ]
     },
     "execution_count": 18,
     "metadata": {},
     "output_type": "execute_result"
    }
   ],
   "source": [
    "mydict3.get('ambuj')"
   ]
  },
  {
   "cell_type": "code",
   "execution_count": 19,
   "id": "7fe6929b-b26e-4753-b937-3cdc1b5f10d2",
   "metadata": {},
   "outputs": [],
   "source": [
    "classroom={1:'ambuj',2:'shekhar',3:'mishra',4:'gupta',5:'himanshu',6:'divanshu',7:\"rishabh\"}"
   ]
  },
  {
   "cell_type": "code",
   "execution_count": 20,
   "id": "06b53749-e2d1-4fa8-9d26-ba049c87a9d5",
   "metadata": {},
   "outputs": [
    {
     "name": "stdout",
     "output_type": "stream",
     "text": [
      "1\n",
      "2\n",
      "3\n",
      "4\n",
      "5\n",
      "6\n",
      "7\n"
     ]
    }
   ],
   "source": [
    "for i in classroom:\n",
    "    print(i)"
   ]
  },
  {
   "cell_type": "code",
   "execution_count": 23,
   "id": "7f8f030d-883b-45e6-be1b-e59396099ee9",
   "metadata": {},
   "outputs": [
    {
     "name": "stdout",
     "output_type": "stream",
     "text": [
      "ambuj\n",
      "shekhar\n",
      "mishra\n",
      "gupta\n",
      "himanshu\n",
      "divanshu\n",
      "rishabh\n"
     ]
    }
   ],
   "source": [
    "for i in classroom.values():\n",
    "    print(i)"
   ]
  },
  {
   "cell_type": "code",
   "execution_count": 25,
   "id": "91d9931e-f0e5-4a02-8ce6-5d2d425d80cc",
   "metadata": {},
   "outputs": [
    {
     "name": "stdout",
     "output_type": "stream",
     "text": [
      "(1, 'ambuj')\n",
      "(2, 'shekhar')\n",
      "(3, 'mishra')\n",
      "(4, 'gupta')\n",
      "(5, 'himanshu')\n",
      "(6, 'divanshu')\n",
      "(7, 'rishabh')\n"
     ]
    }
   ],
   "source": [
    "for i in classroom.items():\n",
    "    print(i)"
   ]
  },
  {
   "cell_type": "code",
   "execution_count": 26,
   "id": "f5b60e32-e3d6-4567-971c-59d39f6d5435",
   "metadata": {},
   "outputs": [
    {
     "name": "stdout",
     "output_type": "stream",
     "text": [
      "1\n",
      "2\n",
      "3\n",
      "4\n",
      "5\n",
      "6\n",
      "7\n"
     ]
    }
   ],
   "source": [
    "for i in classroom.keys():\n",
    "    print(i)"
   ]
  },
  {
   "cell_type": "code",
   "execution_count": 27,
   "id": "2b8251a3-a5c4-4308-92aa-623600d274f4",
   "metadata": {},
   "outputs": [
    {
     "data": {
      "text/plain": [
       "(1, 'ambuj')"
      ]
     },
     "execution_count": 27,
     "metadata": {},
     "output_type": "execute_result"
    }
   ],
   "source": [
    "x = (1, 'ambuj')\n",
    "x"
   ]
  },
  {
   "cell_type": "code",
   "execution_count": 28,
   "id": "c16b2792-7428-46a5-8737-e67191215147",
   "metadata": {},
   "outputs": [
    {
     "name": "stdout",
     "output_type": "stream",
     "text": [
      "1\n",
      "ambuj\n"
     ]
    }
   ],
   "source": [
    "x,y = (1, 'ambuj')\n",
    "print(x)\n",
    "print(y)"
   ]
  },
  {
   "cell_type": "code",
   "execution_count": 29,
   "id": "87222f1f-850e-4675-9edf-6252803d5385",
   "metadata": {},
   "outputs": [
    {
     "data": {
      "text/plain": [
       "int"
      ]
     },
     "execution_count": 29,
     "metadata": {},
     "output_type": "execute_result"
    }
   ],
   "source": [
    "type(x)"
   ]
  },
  {
   "cell_type": "code",
   "execution_count": 30,
   "id": "e99d98af-63fd-461b-9409-e220ecada0a4",
   "metadata": {},
   "outputs": [
    {
     "data": {
      "text/plain": [
       "str"
      ]
     },
     "execution_count": 30,
     "metadata": {},
     "output_type": "execute_result"
    }
   ],
   "source": [
    "type(y)"
   ]
  },
  {
   "cell_type": "code",
   "execution_count": 35,
   "id": "9a33bb83-9ec2-45cf-b213-022061aa8a8d",
   "metadata": {},
   "outputs": [
    {
     "name": "stdout",
     "output_type": "stream",
     "text": [
      "my key is 1 and item is ambuj\n",
      "my key is 2 and item is shekhar\n",
      "my key is 3 and item is mishra\n",
      "my key is 4 and item is gupta\n",
      "my key is 5 and item is himanshu\n",
      "my key is 6 and item is divanshu\n",
      "my key is 7 and item is rishabh\n"
     ]
    }
   ],
   "source": [
    "for i,j in classroom.items():\n",
    "    print(f'my key is {i} and item is {j}')"
   ]
  },
  {
   "cell_type": "code",
   "execution_count": 42,
   "id": "55ba10fa-9520-449a-ac16-02476cc754de",
   "metadata": {},
   "outputs": [],
   "source": [
    "classroom[6,7]='tiwari','mishra'"
   ]
  },
  {
   "cell_type": "code",
   "execution_count": 43,
   "id": "501be1db-8f2a-4f3f-af80-1f4a6ef40b16",
   "metadata": {},
   "outputs": [
    {
     "data": {
      "text/plain": [
       "{1: 'ambuj',\n",
       " 2: 'shekhar',\n",
       " 3: 'mishra',\n",
       " 4: 'gupta',\n",
       " 5: 'himanshu',\n",
       " 6: 'rishabh',\n",
       " 7: 'tiwari',\n",
       " (6, 7): ('tiwari', 'mishra')}"
      ]
     },
     "execution_count": 43,
     "metadata": {},
     "output_type": "execute_result"
    }
   ],
   "source": [
    "classroom"
   ]
  },
  {
   "cell_type": "code",
   "execution_count": 44,
   "id": "daf3e75b-d2d9-46cc-9b25-e41af8732e98",
   "metadata": {},
   "outputs": [],
   "source": [
    "classroom.update({6:'rishabh',7:'tiwari'})"
   ]
  },
  {
   "cell_type": "code",
   "execution_count": 45,
   "id": "5661ecb7-9d70-4eb8-b870-cb4e67319a7f",
   "metadata": {},
   "outputs": [
    {
     "data": {
      "text/plain": [
       "{1: 'ambuj',\n",
       " 2: 'shekhar',\n",
       " 3: 'mishra',\n",
       " 4: 'gupta',\n",
       " 5: 'himanshu',\n",
       " 6: 'rishabh',\n",
       " 7: 'tiwari',\n",
       " (6, 7): ('tiwari', 'mishra')}"
      ]
     },
     "execution_count": 45,
     "metadata": {},
     "output_type": "execute_result"
    }
   ],
   "source": [
    "classroom"
   ]
  },
  {
   "cell_type": "code",
   "execution_count": 46,
   "id": "416b970b-3382-4aab-8ea8-577d883926dc",
   "metadata": {},
   "outputs": [],
   "source": [
    "classroom[8]='ayush'"
   ]
  },
  {
   "cell_type": "code",
   "execution_count": 47,
   "id": "2bbe6dc9-f3fe-4a1e-b62b-52de0a707b07",
   "metadata": {},
   "outputs": [
    {
     "data": {
      "text/plain": [
       "{1: 'ambuj',\n",
       " 2: 'shekhar',\n",
       " 3: 'mishra',\n",
       " 4: 'gupta',\n",
       " 5: 'himanshu',\n",
       " 6: 'rishabh',\n",
       " 7: 'tiwari',\n",
       " (6, 7): ('tiwari', 'mishra'),\n",
       " 8: 'ayush'}"
      ]
     },
     "execution_count": 47,
     "metadata": {},
     "output_type": "execute_result"
    }
   ],
   "source": [
    "classroom"
   ]
  },
  {
   "cell_type": "markdown",
   "id": "b840dac8-740b-4d9b-aa05-0660b7cf6f88",
   "metadata": {},
   "source": [
    "### if we want to update any new key value pair in dict we use subscript operator or update function."
   ]
  },
  {
   "cell_type": "markdown",
   "id": "2bd7816b-a0b0-4d64-b520-9dd8b9b68e82",
   "metadata": {},
   "source": [
    "### if key is not available then it will create new pair if it is avaialble it will be overwrite"
   ]
  },
  {
   "cell_type": "markdown",
   "id": "bf8193d3-223e-405b-939f-892c44aa0804",
   "metadata": {},
   "source": [
    "# functions for the dictionary"
   ]
  },
  {
   "cell_type": "markdown",
   "id": "cdbb324f-345a-4494-835e-2433e18a2948",
   "metadata": {},
   "source": [
    "### len()\n",
    "\n",
    "### max()\n",
    "\n",
    "### min()\n",
    "\n",
    "### any()\n",
    "\n",
    "### all()\n",
    "\n",
    "### sorted()\n",
    "\n",
    "### dict()\n"
   ]
  },
  {
   "cell_type": "code",
   "execution_count": 48,
   "id": "5a266dfc-8a51-410d-b77c-53c513fc39e8",
   "metadata": {},
   "outputs": [],
   "source": [
    "months={'jan':31,\"fab\":28,'march':31,'april':30,'may':31,'june':30,'july':31}"
   ]
  },
  {
   "cell_type": "code",
   "execution_count": 49,
   "id": "99e1f6a5-0fa8-4295-afc5-bbd4090f528c",
   "metadata": {},
   "outputs": [
    {
     "data": {
      "text/plain": [
       "{'jan': 31,\n",
       " 'fab': 28,\n",
       " 'march': 31,\n",
       " 'april': 30,\n",
       " 'may': 31,\n",
       " 'june': 30,\n",
       " 'july': 31}"
      ]
     },
     "execution_count": 49,
     "metadata": {},
     "output_type": "execute_result"
    }
   ],
   "source": [
    "months"
   ]
  },
  {
   "cell_type": "code",
   "execution_count": 50,
   "id": "62baa464-a7fb-4a3f-8eca-cc1a36508074",
   "metadata": {},
   "outputs": [
    {
     "data": {
      "text/plain": [
       "7"
      ]
     },
     "execution_count": 50,
     "metadata": {},
     "output_type": "execute_result"
    }
   ],
   "source": [
    "len(months)"
   ]
  },
  {
   "cell_type": "code",
   "execution_count": 52,
   "id": "de8f127d-f366-43e8-b36e-a6521d9878dc",
   "metadata": {},
   "outputs": [
    {
     "data": {
      "text/plain": [
       "'may'"
      ]
     },
     "execution_count": 52,
     "metadata": {},
     "output_type": "execute_result"
    }
   ],
   "source": [
    "max(months)"
   ]
  },
  {
   "cell_type": "code",
   "execution_count": 53,
   "id": "0eb27601-cbd0-4a07-a0c1-27629ff387cf",
   "metadata": {},
   "outputs": [
    {
     "ename": "TypeError",
     "evalue": "'>' not supported between instances of 'tuple' and 'int'",
     "output_type": "error",
     "traceback": [
      "\u001b[1;31m---------------------------------------------------------------------------\u001b[0m",
      "\u001b[1;31mTypeError\u001b[0m                                 Traceback (most recent call last)",
      "Cell \u001b[1;32mIn[53], line 1\u001b[0m\n\u001b[1;32m----> 1\u001b[0m \u001b[38;5;28;43mmax\u001b[39;49m\u001b[43m(\u001b[49m\u001b[43mclassroom\u001b[49m\u001b[43m)\u001b[49m\n",
      "\u001b[1;31mTypeError\u001b[0m: '>' not supported between instances of 'tuple' and 'int'"
     ]
    }
   ],
   "source": [
    "max(classroom)"
   ]
  },
  {
   "cell_type": "code",
   "execution_count": 54,
   "id": "b10d3cc9-46c1-41d0-9386-1bc51921fa82",
   "metadata": {},
   "outputs": [
    {
     "data": {
      "text/plain": [
       "'april'"
      ]
     },
     "execution_count": 54,
     "metadata": {},
     "output_type": "execute_result"
    }
   ],
   "source": [
    "min(months)"
   ]
  },
  {
   "cell_type": "code",
   "execution_count": 55,
   "id": "dbd79ab6-c35d-439b-8911-032f495212d4",
   "metadata": {},
   "outputs": [
    {
     "data": {
      "text/plain": [
       "True"
      ]
     },
     "execution_count": 55,
     "metadata": {},
     "output_type": "execute_result"
    }
   ],
   "source": [
    "any(months)"
   ]
  },
  {
   "cell_type": "code",
   "execution_count": 56,
   "id": "3188e28a-f4f7-4c7e-8410-8514f2963a4c",
   "metadata": {},
   "outputs": [
    {
     "data": {
      "text/plain": [
       "True"
      ]
     },
     "execution_count": 56,
     "metadata": {},
     "output_type": "execute_result"
    }
   ],
   "source": [
    "all(months)"
   ]
  },
  {
   "cell_type": "code",
   "execution_count": 57,
   "id": "ae5fbb68-9f4e-4cad-9804-4f4942056306",
   "metadata": {},
   "outputs": [
    {
     "data": {
      "text/plain": [
       "['april', 'fab', 'jan', 'july', 'june', 'march', 'may']"
      ]
     },
     "execution_count": 57,
     "metadata": {},
     "output_type": "execute_result"
    }
   ],
   "source": [
    "sorted(months)"
   ]
  },
  {
   "cell_type": "code",
   "execution_count": 58,
   "id": "393a2675-6391-4ff5-9bac-22371edcb198",
   "metadata": {},
   "outputs": [
    {
     "data": {
      "text/plain": [
       "{'jan': 31,\n",
       " 'fab': 28,\n",
       " 'march': 31,\n",
       " 'april': 30,\n",
       " 'may': 31,\n",
       " 'june': 30,\n",
       " 'july': 31}"
      ]
     },
     "execution_count": 58,
     "metadata": {},
     "output_type": "execute_result"
    }
   ],
   "source": [
    "dict(months)"
   ]
  },
  {
   "cell_type": "code",
   "execution_count": 59,
   "id": "ed3aba1f-0447-465c-9962-7f5e0729b056",
   "metadata": {},
   "outputs": [
    {
     "data": {
      "text/plain": [
       "31"
      ]
     },
     "execution_count": 59,
     "metadata": {},
     "output_type": "execute_result"
    }
   ],
   "source": [
    "max(months.values())"
   ]
  },
  {
   "cell_type": "code",
   "execution_count": 60,
   "id": "d6c09215-66a9-4ee2-8e87-9d532646af3f",
   "metadata": {},
   "outputs": [
    {
     "data": {
      "text/plain": [
       "[28, 30, 30, 31, 31, 31, 31]"
      ]
     },
     "execution_count": 60,
     "metadata": {},
     "output_type": "execute_result"
    }
   ],
   "source": [
    "sorted(months.values())"
   ]
  },
  {
   "cell_type": "code",
   "execution_count": 61,
   "id": "2ab70a4f-4245-4a09-9f9e-64922d2975a8",
   "metadata": {},
   "outputs": [
    {
     "data": {
      "text/plain": [
       "[('april', 30),\n",
       " ('fab', 28),\n",
       " ('jan', 31),\n",
       " ('july', 31),\n",
       " ('june', 30),\n",
       " ('march', 31),\n",
       " ('may', 31)]"
      ]
     },
     "execution_count": 61,
     "metadata": {},
     "output_type": "execute_result"
    }
   ],
   "source": [
    "sorted(months.items())"
   ]
  },
  {
   "cell_type": "markdown",
   "id": "c66ebe1c-5126-4047-ba1e-7e74dcc3c8cf",
   "metadata": {},
   "source": [
    "### methods in dictionary\n",
    "\n",
    "### clear()\n",
    "\n",
    "### copy()\n",
    "\n",
    "### setdefault()\n",
    "\n",
    "### get()# alredy discussed\n",
    "\n",
    "### keys()# already discussed\n",
    "\n",
    "### values()# already discussed\n",
    "\n",
    "### items() # already discussed\n",
    "\n",
    "### updated() # already discussed\n",
    "\n",
    "### pop()# marked\n",
    "\n",
    "### popitem()#marked"
   ]
  },
  {
   "cell_type": "code",
   "execution_count": 65,
   "id": "18d0163e-eadd-4fcb-bbf8-ab975de966ee",
   "metadata": {},
   "outputs": [
    {
     "data": {
      "text/plain": [
       "{'jan': 31,\n",
       " 'fab': 28,\n",
       " 'march': 31,\n",
       " 'april': 30,\n",
       " 'may': 31,\n",
       " 'june': 30,\n",
       " 'july': 31}"
      ]
     },
     "execution_count": 65,
     "metadata": {},
     "output_type": "execute_result"
    }
   ],
   "source": [
    "months"
   ]
  },
  {
   "cell_type": "code",
   "execution_count": 66,
   "id": "5d1a5989-59da-4013-be84-5f702988fea2",
   "metadata": {},
   "outputs": [
    {
     "data": {
      "text/plain": [
       "31"
      ]
     },
     "execution_count": 66,
     "metadata": {},
     "output_type": "execute_result"
    }
   ],
   "source": [
    "months.pop('jan')"
   ]
  },
  {
   "cell_type": "code",
   "execution_count": 67,
   "id": "f31faeb0-1b41-4428-823f-c47855b3fe00",
   "metadata": {},
   "outputs": [
    {
     "data": {
      "text/plain": [
       "{'fab': 28, 'march': 31, 'april': 30, 'may': 31, 'june': 30, 'july': 31}"
      ]
     },
     "execution_count": 67,
     "metadata": {},
     "output_type": "execute_result"
    }
   ],
   "source": [
    "months"
   ]
  },
  {
   "cell_type": "code",
   "execution_count": 68,
   "id": "ea9dff8d-6a04-4d68-a2c5-54d4684212fb",
   "metadata": {},
   "outputs": [
    {
     "ename": "KeyError",
     "evalue": "'nov'",
     "output_type": "error",
     "traceback": [
      "\u001b[1;31m---------------------------------------------------------------------------\u001b[0m",
      "\u001b[1;31mKeyError\u001b[0m                                  Traceback (most recent call last)",
      "Cell \u001b[1;32mIn[68], line 1\u001b[0m\n\u001b[1;32m----> 1\u001b[0m \u001b[43mmonths\u001b[49m\u001b[38;5;241;43m.\u001b[39;49m\u001b[43mpop\u001b[49m\u001b[43m(\u001b[49m\u001b[38;5;124;43m'\u001b[39;49m\u001b[38;5;124;43mnov\u001b[39;49m\u001b[38;5;124;43m'\u001b[39;49m\u001b[43m)\u001b[49m\n",
      "\u001b[1;31mKeyError\u001b[0m: 'nov'"
     ]
    }
   ],
   "source": [
    "months.pop('nov')"
   ]
  },
  {
   "cell_type": "code",
   "execution_count": 71,
   "id": "17b6b50c-feb0-4435-a9b6-d858724e2f05",
   "metadata": {},
   "outputs": [
    {
     "data": {
      "text/plain": [
       "'nov not fount'"
      ]
     },
     "execution_count": 71,
     "metadata": {},
     "output_type": "execute_result"
    }
   ],
   "source": [
    "months.pop('nov','nov not fount')"
   ]
  },
  {
   "cell_type": "code",
   "execution_count": 70,
   "id": "9c174064-ebed-4e08-85e4-1c1f545f0d0e",
   "metadata": {},
   "outputs": [
    {
     "data": {
      "text/plain": [
       "28"
      ]
     },
     "execution_count": 70,
     "metadata": {},
     "output_type": "execute_result"
    }
   ],
   "source": [
    "months.pop('fab','not found')"
   ]
  },
  {
   "cell_type": "code",
   "execution_count": 72,
   "id": "d4c12cd2-056e-440b-9f60-75e953d643e0",
   "metadata": {},
   "outputs": [
    {
     "data": {
      "text/plain": [
       "{'march': 31, 'april': 30, 'may': 31, 'june': 30, 'july': 31}"
      ]
     },
     "execution_count": 72,
     "metadata": {},
     "output_type": "execute_result"
    }
   ],
   "source": [
    "months"
   ]
  },
  {
   "cell_type": "code",
   "execution_count": 73,
   "id": "e5f0f380-d982-456f-b065-19ff78019de0",
   "metadata": {},
   "outputs": [
    {
     "data": {
      "text/plain": [
       "('july', 31)"
      ]
     },
     "execution_count": 73,
     "metadata": {},
     "output_type": "execute_result"
    }
   ],
   "source": [
    "months.popitem()"
   ]
  },
  {
   "cell_type": "code",
   "execution_count": 74,
   "id": "a74b896e-356f-48e2-aad5-05b940cc38d8",
   "metadata": {},
   "outputs": [],
   "source": [
    "k=[1,2,3,4,56]"
   ]
  },
  {
   "cell_type": "code",
   "execution_count": 76,
   "id": "4549d5b6-4748-4cd1-bb09-e3f176a9eb74",
   "metadata": {},
   "outputs": [
    {
     "data": {
      "text/plain": [
       "56"
      ]
     },
     "execution_count": 76,
     "metadata": {},
     "output_type": "execute_result"
    }
   ],
   "source": [
    "k.pop(4)"
   ]
  },
  {
   "cell_type": "code",
   "execution_count": 77,
   "id": "293362ef-3e50-4385-a29d-cb2539f8cc6e",
   "metadata": {},
   "outputs": [
    {
     "data": {
      "text/plain": [
       "[1, 2, 3, 4]"
      ]
     },
     "execution_count": 77,
     "metadata": {},
     "output_type": "execute_result"
    }
   ],
   "source": [
    "k"
   ]
  },
  {
   "cell_type": "code",
   "execution_count": 78,
   "id": "733e9be6-fa9d-4996-bbfe-e1b563a5e721",
   "metadata": {},
   "outputs": [
    {
     "data": {
      "text/plain": [
       "4"
      ]
     },
     "execution_count": 78,
     "metadata": {},
     "output_type": "execute_result"
    }
   ],
   "source": [
    "k.pop()"
   ]
  },
  {
   "cell_type": "code",
   "execution_count": 79,
   "id": "f0362699-4f6e-449d-9427-2a4db986a00e",
   "metadata": {},
   "outputs": [
    {
     "ename": "NameError",
     "evalue": "name 'names' is not defined",
     "output_type": "error",
     "traceback": [
      "\u001b[1;31m---------------------------------------------------------------------------\u001b[0m",
      "\u001b[1;31mNameError\u001b[0m                                 Traceback (most recent call last)",
      "Cell \u001b[1;32mIn[79], line 1\u001b[0m\n\u001b[1;32m----> 1\u001b[0m \u001b[43mnames\u001b[49m\n",
      "\u001b[1;31mNameError\u001b[0m: name 'names' is not defined"
     ]
    }
   ],
   "source": [
    "names"
   ]
  },
  {
   "cell_type": "code",
   "execution_count": 80,
   "id": "acdbd7b7-e63d-4d68-b3a9-5afa932f5652",
   "metadata": {},
   "outputs": [
    {
     "data": {
      "text/plain": [
       "{'march': 31, 'april': 30, 'may': 31, 'june': 30}"
      ]
     },
     "execution_count": 80,
     "metadata": {},
     "output_type": "execute_result"
    }
   ],
   "source": [
    "months"
   ]
  },
  {
   "cell_type": "code",
   "execution_count": 81,
   "id": "e657f4fc-ec39-4f17-920f-77b4a9c018ef",
   "metadata": {},
   "outputs": [
    {
     "ename": "TypeError",
     "evalue": "pop expected at least 1 argument, got 0",
     "output_type": "error",
     "traceback": [
      "\u001b[1;31m---------------------------------------------------------------------------\u001b[0m",
      "\u001b[1;31mTypeError\u001b[0m                                 Traceback (most recent call last)",
      "Cell \u001b[1;32mIn[81], line 1\u001b[0m\n\u001b[1;32m----> 1\u001b[0m \u001b[43mmonths\u001b[49m\u001b[38;5;241;43m.\u001b[39;49m\u001b[43mpop\u001b[49m\u001b[43m(\u001b[49m\u001b[43m)\u001b[49m\n",
      "\u001b[1;31mTypeError\u001b[0m: pop expected at least 1 argument, got 0"
     ]
    }
   ],
   "source": [
    "months.pop()"
   ]
  },
  {
   "cell_type": "code",
   "execution_count": 82,
   "id": "5ab6c392-f109-45f9-8a02-bedcf985466f",
   "metadata": {},
   "outputs": [
    {
     "data": {
      "text/plain": [
       "{'march': 31, 'april': 30, 'may': 31, 'june': 30}"
      ]
     },
     "execution_count": 82,
     "metadata": {},
     "output_type": "execute_result"
    }
   ],
   "source": [
    "months"
   ]
  },
  {
   "cell_type": "code",
   "execution_count": 84,
   "id": "b5219a27-3a5e-447b-9542-b027caf6bb40",
   "metadata": {},
   "outputs": [
    {
     "data": {
      "text/plain": [
       "('june', 30)"
      ]
     },
     "execution_count": 84,
     "metadata": {},
     "output_type": "execute_result"
    }
   ],
   "source": [
    "months.popitem()"
   ]
  },
  {
   "cell_type": "code",
   "execution_count": 85,
   "id": "94ede6dc-9969-4029-9745-d698d6189cee",
   "metadata": {},
   "outputs": [],
   "source": [
    "months.clear()"
   ]
  },
  {
   "cell_type": "code",
   "execution_count": 86,
   "id": "cb411f09-e572-436b-8485-3d3281a9dac1",
   "metadata": {},
   "outputs": [
    {
     "data": {
      "text/plain": [
       "{}"
      ]
     },
     "execution_count": 86,
     "metadata": {},
     "output_type": "execute_result"
    }
   ],
   "source": [
    "months"
   ]
  },
  {
   "cell_type": "code",
   "execution_count": 99,
   "id": "455e4b61-eb6b-4418-9f03-dabd35bfdd0b",
   "metadata": {},
   "outputs": [],
   "source": [
    "orignal={1:'one',2:'two',3:'three'}"
   ]
  },
  {
   "cell_type": "code",
   "execution_count": 100,
   "id": "12679fc7-1ca7-4d8e-918a-5965e003300e",
   "metadata": {},
   "outputs": [],
   "source": [
    "new=orignal.copy()"
   ]
  },
  {
   "cell_type": "code",
   "execution_count": 101,
   "id": "8f5e023a-d3be-475d-a698-e21444a02ba3",
   "metadata": {},
   "outputs": [
    {
     "data": {
      "text/plain": [
       "{1: 'one', 2: 'two', 3: 'three'}"
      ]
     },
     "execution_count": 101,
     "metadata": {},
     "output_type": "execute_result"
    }
   ],
   "source": [
    "new"
   ]
  },
  {
   "cell_type": "markdown",
   "id": "f974f45b-81f7-4d72-9946-cde9f58992af",
   "metadata": {},
   "source": [
    "### what is a difference between deep copy and shallow copy?"
   ]
  },
  {
   "cell_type": "code",
   "execution_count": 102,
   "id": "1d566b16-351f-4be6-8a5a-e7b22bb47bdd",
   "metadata": {},
   "outputs": [
    {
     "data": {
      "text/plain": [
       "{1: 'one', 2: 'two', 3: 'three'}"
      ]
     },
     "execution_count": 102,
     "metadata": {},
     "output_type": "execute_result"
    }
   ],
   "source": [
    "orignal"
   ]
  },
  {
   "cell_type": "code",
   "execution_count": 112,
   "id": "e54322db-0025-4f40-ab03-66c50ced19bb",
   "metadata": {},
   "outputs": [],
   "source": [
    "new=orignal.setdefault(4)"
   ]
  },
  {
   "cell_type": "code",
   "execution_count": 123,
   "id": "8402d1e2-dc04-49e9-acc0-388d5900c10f",
   "metadata": {},
   "outputs": [
    {
     "data": {
      "text/plain": [
       "6"
      ]
     },
     "execution_count": 123,
     "metadata": {},
     "output_type": "execute_result"
    }
   ],
   "source": [
    "new"
   ]
  },
  {
   "cell_type": "code",
   "execution_count": 114,
   "id": "f7704d2a-527c-4c24-b667-3b48bb9f9d89",
   "metadata": {},
   "outputs": [
    {
     "data": {
      "text/plain": [
       "{1: 'one', 2: 'two', 3: 'three', 4: None}"
      ]
     },
     "execution_count": 114,
     "metadata": {},
     "output_type": "execute_result"
    }
   ],
   "source": [
    "orignal"
   ]
  },
  {
   "cell_type": "code",
   "execution_count": 115,
   "id": "15521859-e419-4a55-88bb-8a61743f5233",
   "metadata": {},
   "outputs": [],
   "source": [
    "new"
   ]
  },
  {
   "cell_type": "code",
   "execution_count": 116,
   "id": "cafb67eb-3e5d-4e51-b792-23f45c720654",
   "metadata": {},
   "outputs": [],
   "source": [
    "new=orignal.setdefault(1,5)"
   ]
  },
  {
   "cell_type": "code",
   "execution_count": 117,
   "id": "ceadc4a2-7b46-4800-be4a-5650ce4ffeb8",
   "metadata": {},
   "outputs": [
    {
     "data": {
      "text/plain": [
       "'one'"
      ]
     },
     "execution_count": 117,
     "metadata": {},
     "output_type": "execute_result"
    }
   ],
   "source": [
    "new"
   ]
  },
  {
   "cell_type": "code",
   "execution_count": 118,
   "id": "3873206d-8ef8-4b21-a189-85a22a947105",
   "metadata": {},
   "outputs": [
    {
     "data": {
      "text/plain": [
       "{1: 'one', 2: 'two', 3: 'three', 4: None}"
      ]
     },
     "execution_count": 118,
     "metadata": {},
     "output_type": "execute_result"
    }
   ],
   "source": [
    "orignal"
   ]
  },
  {
   "cell_type": "code",
   "execution_count": 124,
   "id": "b8345f9a-ba7c-4326-a916-2a68250efd42",
   "metadata": {},
   "outputs": [],
   "source": [
    "new=orignal.setdefault(5,6)"
   ]
  },
  {
   "cell_type": "code",
   "execution_count": 125,
   "id": "ead452ce-5ac2-4cc1-814a-aca647dc2cf1",
   "metadata": {},
   "outputs": [
    {
     "data": {
      "text/plain": [
       "{1: 'one', 2: 'two', 3: 'three', 4: None, 5: 6}"
      ]
     },
     "execution_count": 125,
     "metadata": {},
     "output_type": "execute_result"
    }
   ],
   "source": [
    "orignal"
   ]
  },
  {
   "cell_type": "code",
   "execution_count": 126,
   "id": "17aef32f-baab-4592-a9bf-cccffa6103b3",
   "metadata": {},
   "outputs": [
    {
     "data": {
      "text/plain": [
       "6"
      ]
     },
     "execution_count": 126,
     "metadata": {},
     "output_type": "execute_result"
    }
   ],
   "source": [
    "orignal[5]"
   ]
  },
  {
   "cell_type": "code",
   "execution_count": 122,
   "id": "09dba2e6-84aa-4ca9-b2f1-65c8e2325a6d",
   "metadata": {},
   "outputs": [
    {
     "ename": "TypeError",
     "evalue": "setdefault expected at most 2 arguments, got 3",
     "output_type": "error",
     "traceback": [
      "\u001b[1;31m---------------------------------------------------------------------------\u001b[0m",
      "\u001b[1;31mTypeError\u001b[0m                                 Traceback (most recent call last)",
      "Cell \u001b[1;32mIn[122], line 1\u001b[0m\n\u001b[1;32m----> 1\u001b[0m new\u001b[38;5;241m=\u001b[39m\u001b[43morignal\u001b[49m\u001b[38;5;241;43m.\u001b[39;49m\u001b[43msetdefault\u001b[49m\u001b[43m(\u001b[49m\u001b[38;5;241;43m7\u001b[39;49m\u001b[43m,\u001b[49m\u001b[38;5;241;43m8\u001b[39;49m\u001b[43m,\u001b[49m\u001b[38;5;241;43m9\u001b[39;49m\u001b[43m)\u001b[49m\n",
      "\u001b[1;31mTypeError\u001b[0m: setdefault expected at most 2 arguments, got 3"
     ]
    }
   ],
   "source": [
    "new=orignal.setdefault(7,8,9)"
   ]
  },
  {
   "cell_type": "code",
   "execution_count": 127,
   "id": "84267867-0676-4c88-8a7d-5eee109df3bd",
   "metadata": {},
   "outputs": [
    {
     "data": {
      "text/plain": [
       "6"
      ]
     },
     "execution_count": 127,
     "metadata": {},
     "output_type": "execute_result"
    }
   ],
   "source": [
    "new"
   ]
  },
  {
   "cell_type": "code",
   "execution_count": 128,
   "id": "7005dd1c-8ab1-4a90-bc6f-cb4744fdc47b",
   "metadata": {},
   "outputs": [],
   "source": [
    "new=orignal.setdefault(2,'two')"
   ]
  },
  {
   "cell_type": "code",
   "execution_count": 129,
   "id": "76bdfa75-21eb-4e43-894d-f11097397793",
   "metadata": {},
   "outputs": [
    {
     "data": {
      "text/plain": [
       "'two'"
      ]
     },
     "execution_count": 129,
     "metadata": {},
     "output_type": "execute_result"
    }
   ],
   "source": [
    "new"
   ]
  },
  {
   "cell_type": "code",
   "execution_count": 130,
   "id": "dc5ffefc-46b4-48b0-b580-7227cf770ed2",
   "metadata": {},
   "outputs": [
    {
     "data": {
      "text/plain": [
       "{1: 'one', 2: 'two', 3: 'three', 4: None, 5: 6}"
      ]
     },
     "execution_count": 130,
     "metadata": {},
     "output_type": "execute_result"
    }
   ],
   "source": [
    "orignal"
   ]
  },
  {
   "cell_type": "code",
   "execution_count": 131,
   "id": "8e15755a-d7db-403a-8c52-7a2bbd7041ac",
   "metadata": {},
   "outputs": [],
   "source": [
    "orignal.clear()"
   ]
  },
  {
   "cell_type": "code",
   "execution_count": 132,
   "id": "8fd06b7b-1b0a-4122-bc5f-a447dbdac2ef",
   "metadata": {},
   "outputs": [
    {
     "data": {
      "text/plain": [
       "{}"
      ]
     },
     "execution_count": 132,
     "metadata": {},
     "output_type": "execute_result"
    }
   ],
   "source": [
    "orignal"
   ]
  },
  {
   "cell_type": "code",
   "execution_count": 133,
   "id": "ec1632d3-9c5d-42c2-a46c-151bf4b7a806",
   "metadata": {},
   "outputs": [
    {
     "data": {
      "text/plain": [
       "'two'"
      ]
     },
     "execution_count": 133,
     "metadata": {},
     "output_type": "execute_result"
    }
   ],
   "source": [
    "new"
   ]
  },
  {
   "cell_type": "markdown",
   "id": "c48654c8-8aed-4e87-a52b-75b69a29d336",
   "metadata": {},
   "source": [
    "# functions"
   ]
  },
  {
   "cell_type": "markdown",
   "id": "1189e10c-4664-49d7-a553-25c1f30cfcd1",
   "metadata": {},
   "source": [
    "1. what is function?\n",
    "2. how to write function in python?\n",
    "3. argumnet vs parameter in function\n",
    "\n",
    "   FOR THURSDAY\n",
    "4. local and global variable in function\n",
    "5. lambda function\n",
    "6. map and filter function"
   ]
  },
  {
   "cell_type": "code",
   "execution_count": 1,
   "id": "81435030-cfa4-4caa-9f74-f6b6920b8dce",
   "metadata": {},
   "outputs": [
    {
     "name": "stdout",
     "output_type": "stream",
     "text": [
      "30\n"
     ]
    }
   ],
   "source": [
    "a=10\n",
    "b=20\n",
    "c=a+b\n",
    "print(c)"
   ]
  },
  {
   "cell_type": "code",
   "execution_count": 2,
   "id": "4acbd0c3-0f1d-4cfe-a313-95855cdb645b",
   "metadata": {},
   "outputs": [],
   "source": [
    "c=a-b"
   ]
  },
  {
   "cell_type": "code",
   "execution_count": 3,
   "id": "15e5bbdb-2f7c-4194-ac6a-85ee4fc8c6bc",
   "metadata": {},
   "outputs": [
    {
     "data": {
      "text/plain": [
       "-10"
      ]
     },
     "execution_count": 3,
     "metadata": {},
     "output_type": "execute_result"
    }
   ],
   "source": [
    "c"
   ]
  },
  {
   "cell_type": "code",
   "execution_count": 7,
   "id": "15fafdd0-714c-49dd-bc4f-31d613a0c132",
   "metadata": {},
   "outputs": [
    {
     "name": "stdin",
     "output_type": "stream",
     "text": [
      "enter numbes1 5\n",
      "number 2 6\n"
     ]
    },
    {
     "data": {
      "text/plain": [
       "11"
      ]
     },
     "execution_count": 7,
     "metadata": {},
     "output_type": "execute_result"
    }
   ],
   "source": [
    "a=input('enter numbes1')\n",
    "b=input('number 2')\n",
    "c=int(a)+int(b)\n",
    "print(c)"
   ]
  },
  {
   "cell_type": "code",
   "execution_count": 5,
   "id": "6f2498c3-29eb-4b9c-9aef-d5c213100925",
   "metadata": {},
   "outputs": [
    {
     "data": {
      "text/plain": [
       "5"
      ]
     },
     "execution_count": 5,
     "metadata": {},
     "output_type": "execute_result"
    }
   ],
   "source": [
    "c"
   ]
  },
  {
   "cell_type": "code",
   "execution_count": 8,
   "id": "014dac3b-d576-4731-9edf-5e65fbd7964a",
   "metadata": {},
   "outputs": [],
   "source": [
    "# this is function definition\n",
    "def addnumbers():\n",
    "    a=10\n",
    "    b=20\n",
    "    c=a+b\n",
    "    print(c)"
   ]
  },
  {
   "cell_type": "code",
   "execution_count": 9,
   "id": "2b11be41-d96c-4d3d-aa6f-d8c1c232e3ef",
   "metadata": {},
   "outputs": [
    {
     "name": "stdout",
     "output_type": "stream",
     "text": [
      "30\n"
     ]
    }
   ],
   "source": [
    "#this is function call\n",
    "addnumbers()"
   ]
  },
  {
   "cell_type": "code",
   "execution_count": 18,
   "id": "c98de4fa-d77e-4a8b-af4f-121f5802bdd7",
   "metadata": {},
   "outputs": [],
   "source": [
    "def addnumber():\n",
    "    a=input('enter numbes1')\n",
    "    b=input('number 2')\n",
    "    c=int(a)+int(b)\n",
    "    print(c)"
   ]
  },
  {
   "cell_type": "code",
   "execution_count": 11,
   "id": "c3598347-a395-480b-83d1-22f579aa0576",
   "metadata": {},
   "outputs": [
    {
     "name": "stdin",
     "output_type": "stream",
     "text": [
      "enter numbes1 3\n",
      "number 2 4\n"
     ]
    },
    {
     "name": "stdout",
     "output_type": "stream",
     "text": [
      "7\n"
     ]
    }
   ],
   "source": [
    "addnumber()"
   ]
  },
  {
   "cell_type": "code",
   "execution_count": 17,
   "id": "3534065a-3e4f-45c1-a838-6cba9985465a",
   "metadata": {},
   "outputs": [
    {
     "name": "stdout",
     "output_type": "stream",
     "text": [
      "m\n"
     ]
    }
   ],
   "source": [
    "addnumber()"
   ]
  },
  {
   "cell_type": "code",
   "execution_count": 15,
   "id": "09707038-6300-4615-bfa7-00c56f3b85c6",
   "metadata": {},
   "outputs": [],
   "source": [
    "def addnumber():\n",
    "    print(\"m\")"
   ]
  },
  {
   "cell_type": "code",
   "execution_count": 16,
   "id": "76872e3a-dbc2-4652-bdf3-8adf6c6ff1de",
   "metadata": {},
   "outputs": [
    {
     "name": "stdout",
     "output_type": "stream",
     "text": [
      "m\n"
     ]
    }
   ],
   "source": [
    "addnumber()"
   ]
  },
  {
   "cell_type": "code",
   "execution_count": 20,
   "id": "367d02aa-f0d5-40c7-ae29-0b008a5d9303",
   "metadata": {},
   "outputs": [
    {
     "name": "stdin",
     "output_type": "stream",
     "text": [
      "enter numbes1 1\n",
      "number 2 1\n"
     ]
    },
    {
     "name": "stdout",
     "output_type": "stream",
     "text": [
      "2\n"
     ]
    }
   ],
   "source": [
    "addnumber()"
   ]
  },
  {
   "cell_type": "code",
   "execution_count": 21,
   "id": "5a80f2bf-aacd-4031-aa89-113334b46719",
   "metadata": {},
   "outputs": [
    {
     "data": {
      "text/plain": [
       "8"
      ]
     },
     "execution_count": 21,
     "metadata": {},
     "output_type": "execute_result"
    }
   ],
   "source": [
    "abs(8)"
   ]
  },
  {
   "cell_type": "code",
   "execution_count": 22,
   "id": "06b4d20f-2d52-43b4-b423-d348add7e2c9",
   "metadata": {},
   "outputs": [
    {
     "data": {
      "text/plain": [
       "5"
      ]
     },
     "execution_count": 22,
     "metadata": {},
     "output_type": "execute_result"
    }
   ],
   "source": [
    "abs(-5)"
   ]
  },
  {
   "cell_type": "code",
   "execution_count": 24,
   "id": "9a6e780b-5c43-4448-bbb7-12e20a29917c",
   "metadata": {},
   "outputs": [
    {
     "data": {
      "text/plain": [
       "8.9"
      ]
     },
     "execution_count": 24,
     "metadata": {},
     "output_type": "execute_result"
    }
   ],
   "source": [
    "abs(8.9)"
   ]
  },
  {
   "cell_type": "code",
   "execution_count": 25,
   "id": "b7ebc264-8393-406e-95a3-28afa769db64",
   "metadata": {},
   "outputs": [
    {
     "data": {
      "text/plain": [
       "9.8"
      ]
     },
     "execution_count": 25,
     "metadata": {},
     "output_type": "execute_result"
    }
   ],
   "source": [
    "abs(-9.8)"
   ]
  },
  {
   "cell_type": "code",
   "execution_count": 26,
   "id": "dd039769-81b1-4464-bd23-1b6e27e039b4",
   "metadata": {},
   "outputs": [],
   "source": [
    "def absolute():\n",
    "    a=int(input(\"enter any integer\"))\n",
    "    print(abs(a))"
   ]
  },
  {
   "cell_type": "code",
   "execution_count": 27,
   "id": "35af4e50-cc9e-4a20-a5e1-cd496ebef762",
   "metadata": {},
   "outputs": [
    {
     "name": "stdin",
     "output_type": "stream",
     "text": [
      "enter any integer -6\n"
     ]
    },
    {
     "name": "stdout",
     "output_type": "stream",
     "text": [
      "6\n"
     ]
    }
   ],
   "source": [
    "absolute()"
   ]
  },
  {
   "cell_type": "code",
   "execution_count": 28,
   "id": "fba16890-b722-4c03-8c32-08c357b8a775",
   "metadata": {},
   "outputs": [
    {
     "name": "stdin",
     "output_type": "stream",
     "text": [
      "enter any integer 9\n"
     ]
    },
    {
     "name": "stdout",
     "output_type": "stream",
     "text": [
      "9\n"
     ]
    }
   ],
   "source": [
    "absolute()"
   ]
  },
  {
   "cell_type": "code",
   "execution_count": 30,
   "id": "efebb379-5338-40fc-a144-4d4e8c464d62",
   "metadata": {},
   "outputs": [
    {
     "name": "stdin",
     "output_type": "stream",
     "text": [
      "enter any integer 0\n"
     ]
    },
    {
     "name": "stdout",
     "output_type": "stream",
     "text": [
      "0\n"
     ]
    }
   ],
   "source": [
    "absolute()"
   ]
  },
  {
   "cell_type": "code",
   "execution_count": 31,
   "id": "c82ac6de-b7ab-4909-9f8c-8e09c2826020",
   "metadata": {},
   "outputs": [
    {
     "name": "stdin",
     "output_type": "stream",
     "text": [
      "enter any integer -0\n"
     ]
    },
    {
     "name": "stdout",
     "output_type": "stream",
     "text": [
      "0\n"
     ]
    }
   ],
   "source": [
    "absolute()\n"
   ]
  },
  {
   "cell_type": "code",
   "execution_count": 2,
   "id": "61eac5ce-cff9-46c2-891a-c0e099267ad4",
   "metadata": {},
   "outputs": [],
   "source": [
    "def nillfunction():\n",
    "    pass"
   ]
  },
  {
   "cell_type": "code",
   "execution_count": 3,
   "id": "e7f6cbff-f43f-4da8-b415-b81772766da8",
   "metadata": {},
   "outputs": [],
   "source": [
    "nillfunction()"
   ]
  },
  {
   "cell_type": "code",
   "execution_count": 7,
   "id": "fe637786-88eb-46b6-8e0a-f726c737ff52",
   "metadata": {},
   "outputs": [],
   "source": [
    "def mulnumbers():\n",
    "    a=int(input(\"enter a nuber\"))\n",
    "    b=int(input(\"enter a number\"))\n",
    "    c=a*b\n",
    "    print(c)"
   ]
  },
  {
   "cell_type": "code",
   "execution_count": 8,
   "id": "81a17335-49d9-4d84-8156-7335280d0df7",
   "metadata": {},
   "outputs": [
    {
     "name": "stdin",
     "output_type": "stream",
     "text": [
      "enter a nuber 2\n",
      "enter a number 3\n"
     ]
    },
    {
     "name": "stdout",
     "output_type": "stream",
     "text": [
      "6\n"
     ]
    }
   ],
   "source": [
    "mulnumbers()"
   ]
  },
  {
   "cell_type": "code",
   "execution_count": 9,
   "id": "68fb52a1-8e6b-4e99-9c39-1dd9e4425b87",
   "metadata": {},
   "outputs": [],
   "source": [
    "def mulnumbers(x,y):\n",
    "     a=x\n",
    "     b=y\n",
    "     c=a*b\n",
    "     print(c)\n",
    "    "
   ]
  },
  {
   "cell_type": "code",
   "execution_count": 11,
   "id": "d5e926fc-3fad-494d-911b-c3437e12b276",
   "metadata": {},
   "outputs": [
    {
     "name": "stdout",
     "output_type": "stream",
     "text": [
      "20\n"
     ]
    }
   ],
   "source": [
    "mulnumbers(4,5)"
   ]
  },
  {
   "cell_type": "code",
   "execution_count": 12,
   "id": "a2f1460e-8aa5-4d8a-bffa-ab84287d56c8",
   "metadata": {},
   "outputs": [
    {
     "name": "stdin",
     "output_type": "stream",
     "text": [
      "enter number1  45\n",
      "enter number 2 45\n"
     ]
    },
    {
     "name": "stdout",
     "output_type": "stream",
     "text": [
      "2025\n"
     ]
    }
   ],
   "source": [
    "A=int(input(\"enter number1 \"))\n",
    "B=int(input(\"enter number 2\"))\n",
    "mulnumbers(A,B)"
   ]
  },
  {
   "cell_type": "code",
   "execution_count": 17,
   "id": "e2ae67ee-448d-43da-bde5-c0637b4be488",
   "metadata": {},
   "outputs": [],
   "source": [
    "def addnumbers():\n",
    "    a=10\n",
    "    b=20\n",
    "    c=a+b\n",
    "    print(c)"
   ]
  },
  {
   "cell_type": "code",
   "execution_count": 18,
   "id": "0937b3d7-f13d-4723-a906-1edbb098e7a6",
   "metadata": {},
   "outputs": [
    {
     "name": "stdout",
     "output_type": "stream",
     "text": [
      "30\n"
     ]
    }
   ],
   "source": [
    "addnumbers()"
   ]
  },
  {
   "cell_type": "code",
   "execution_count": 19,
   "id": "036a1dfe-524f-481c-81a5-3e62a24aee52",
   "metadata": {},
   "outputs": [
    {
     "name": "stdout",
     "output_type": "stream",
     "text": [
      "30\n"
     ]
    }
   ],
   "source": [
    "myvariable=addnumbers()"
   ]
  },
  {
   "cell_type": "code",
   "execution_count": 21,
   "id": "45294a96-4026-4336-9cc4-12405ad51691",
   "metadata": {},
   "outputs": [
    {
     "name": "stdout",
     "output_type": "stream",
     "text": [
      "None\n"
     ]
    }
   ],
   "source": [
    "print(myvariable)"
   ]
  },
  {
   "cell_type": "code",
   "execution_count": 22,
   "id": "7e5a162a-7504-409a-8c98-9ef1d7c5c66b",
   "metadata": {},
   "outputs": [],
   "source": [
    "def fullname(a,b):\n",
    "    c=a+b\n",
    "    print(c)"
   ]
  },
  {
   "cell_type": "code",
   "execution_count": 23,
   "id": "b2cfcf1c-e758-452b-962b-609a559462d2",
   "metadata": {},
   "outputs": [
    {
     "name": "stdout",
     "output_type": "stream",
     "text": [
      "himanshumishra\n"
     ]
    }
   ],
   "source": [
    "fullname('himanshu','mishra')"
   ]
  },
  {
   "cell_type": "code",
   "execution_count": 24,
   "id": "3ecc2418-f708-488c-99d9-afb9f1507fac",
   "metadata": {},
   "outputs": [
    {
     "name": "stdout",
     "output_type": "stream",
     "text": [
      "himanshumishra\n"
     ]
    }
   ],
   "source": [
    "myvariable=fullname('himanshu','mishra')"
   ]
  },
  {
   "cell_type": "code",
   "execution_count": 25,
   "id": "f44057c2-6605-491e-8502-5b03767e9f84",
   "metadata": {},
   "outputs": [
    {
     "name": "stdout",
     "output_type": "stream",
     "text": [
      "None\n"
     ]
    }
   ],
   "source": [
    "print(myvariable)"
   ]
  },
  {
   "cell_type": "code",
   "execution_count": 38,
   "id": "5a75ec04-0ed7-4cdb-b80c-cc1c9795bde9",
   "metadata": {},
   "outputs": [],
   "source": [
    "def fullname(a,b):\n",
    "    c=a+b\n",
    "    return c\n",
    "    "
   ]
  },
  {
   "cell_type": "code",
   "execution_count": 40,
   "id": "29ad81a2-afb2-45e3-9af1-2cb42d14f5ac",
   "metadata": {},
   "outputs": [],
   "source": [
    "c=fullname"
   ]
  },
  {
   "cell_type": "code",
   "execution_count": 42,
   "id": "d0801932-15d6-4554-b8c4-5496cd40e9a5",
   "metadata": {},
   "outputs": [
    {
     "data": {
      "text/plain": [
       "function"
      ]
     },
     "execution_count": 42,
     "metadata": {},
     "output_type": "execute_result"
    }
   ],
   "source": [
    "type(fullname)"
   ]
  },
  {
   "cell_type": "code",
   "execution_count": 43,
   "id": "dccbff99-a5f0-48a9-aaf1-2a17c2b7593d",
   "metadata": {},
   "outputs": [
    {
     "data": {
      "text/plain": [
       "function"
      ]
     },
     "execution_count": 43,
     "metadata": {},
     "output_type": "execute_result"
    }
   ],
   "source": [
    "type(c)"
   ]
  },
  {
   "cell_type": "code",
   "execution_count": 30,
   "id": "2bc80db0-70b9-4556-b507-7d8fc09b9aab",
   "metadata": {},
   "outputs": [
    {
     "name": "stdout",
     "output_type": "stream",
     "text": [
      "himanshumishra\n"
     ]
    },
    {
     "data": {
      "text/plain": [
       "'done'"
      ]
     },
     "execution_count": 30,
     "metadata": {},
     "output_type": "execute_result"
    }
   ],
   "source": [
    "fullname('himanshu','mishra')"
   ]
  },
  {
   "cell_type": "code",
   "execution_count": 31,
   "id": "e4f2200b-b113-4f0f-a089-41a687ab9adb",
   "metadata": {},
   "outputs": [
    {
     "name": "stdout",
     "output_type": "stream",
     "text": [
      "himanshumishra\n"
     ]
    }
   ],
   "source": [
    "myvariable=fullname('himanshu','mishra')"
   ]
  },
  {
   "cell_type": "code",
   "execution_count": 32,
   "id": "adf344dd-5846-4a2b-9a3c-c032cc4c1801",
   "metadata": {},
   "outputs": [
    {
     "name": "stdout",
     "output_type": "stream",
     "text": [
      "done\n"
     ]
    }
   ],
   "source": [
    "print(myvariable)"
   ]
  },
  {
   "cell_type": "markdown",
   "id": "18ea5e1c-28e5-4e35-840d-2662c5d00a63",
   "metadata": {},
   "source": [
    "### by default function return none"
   ]
  },
  {
   "cell_type": "code",
   "execution_count": 33,
   "id": "f1ce67c5-be09-4eeb-9c28-09367fb0cacd",
   "metadata": {},
   "outputs": [],
   "source": [
    "def fullname(a,b):\n",
    "    c=a+b\n",
    "    return c"
   ]
  },
  {
   "cell_type": "code",
   "execution_count": 34,
   "id": "557d7773-f40f-4ceb-bf1f-d75c64e84078",
   "metadata": {},
   "outputs": [
    {
     "data": {
      "text/plain": [
       "'himanshumishra'"
      ]
     },
     "execution_count": 34,
     "metadata": {},
     "output_type": "execute_result"
    }
   ],
   "source": [
    "fullname('himanshu','mishra')"
   ]
  },
  {
   "cell_type": "code",
   "execution_count": 35,
   "id": "53a8525a-d51a-4801-9898-253af749f671",
   "metadata": {},
   "outputs": [],
   "source": [
    "myvariable=fullname('himanshu','mishra')"
   ]
  },
  {
   "cell_type": "code",
   "execution_count": 36,
   "id": "f3ebff6e-86cb-47cf-87f7-4a56580522d7",
   "metadata": {},
   "outputs": [
    {
     "name": "stdout",
     "output_type": "stream",
     "text": [
      "himanshumishra\n"
     ]
    }
   ],
   "source": [
    "print(myvariable)"
   ]
  },
  {
   "cell_type": "markdown",
   "id": "43c3c910-793c-4474-b70b-cb62c1cc66e4",
   "metadata": {},
   "source": [
    "### we can return multiple values also"
   ]
  },
  {
   "cell_type": "code",
   "execution_count": 7,
   "id": "37a3bdc4-9f75-49c6-8c34-109244edc41a",
   "metadata": {},
   "outputs": [],
   "source": [
    "def addtwonumber():\n",
    "    a=1000\n",
    "    b=2009042\n",
    "    c=a+b\n",
    "    return a,b,c"
   ]
  },
  {
   "cell_type": "code",
   "execution_count": 8,
   "id": "30082dce-e4c6-4c5b-9549-3bb5acd6bf8d",
   "metadata": {},
   "outputs": [
    {
     "data": {
      "text/plain": [
       "(1000, 2009042, 2010042)"
      ]
     },
     "execution_count": 8,
     "metadata": {},
     "output_type": "execute_result"
    }
   ],
   "source": [
    "addtwonumber()"
   ]
  },
  {
   "cell_type": "code",
   "execution_count": 39,
   "id": "e6c33985-0d98-4dc2-9f2c-45022e1f6962",
   "metadata": {},
   "outputs": [],
   "source": [
    "a_value,b_value,addition_of_two_number=addtwonumber()"
   ]
  },
  {
   "cell_type": "code",
   "execution_count": 40,
   "id": "53dbd606-be86-4513-a936-58316e1ba1eb",
   "metadata": {},
   "outputs": [
    {
     "name": "stdout",
     "output_type": "stream",
     "text": [
      "1000 2009042 2010042\n"
     ]
    }
   ],
   "source": [
    "print(a_value,b_value,addition_of_two_number,sep=\" \")"
   ]
  },
  {
   "cell_type": "markdown",
   "id": "2f5ca126-f54c-43e7-a7a0-4e9f48aa0a65",
   "metadata": {},
   "source": [
    "### call the factorial() function to calculate and return the factorial of the number given by the user."
   ]
  },
  {
   "cell_type": "code",
   "execution_count": 61,
   "id": "f43de514-d59d-4dd5-951e-7494ad854975",
   "metadata": {},
   "outputs": [],
   "source": [
    "def factorial(n):\n",
    "    f=1\n",
    "    while n>1: \n",
    "        f=f*n\n",
    "        n=n-1\n",
    "    return f"
   ]
  },
  {
   "cell_type": "code",
   "execution_count": 62,
   "id": "fca67867-ce0c-4108-b62b-dcad40ea7347",
   "metadata": {},
   "outputs": [
    {
     "data": {
      "text/plain": [
       "120"
      ]
     },
     "execution_count": 62,
     "metadata": {},
     "output_type": "execute_result"
    }
   ],
   "source": [
    "factorial(5)"
   ]
  },
  {
   "cell_type": "code",
   "execution_count": 63,
   "id": "bb5a453b-a5eb-452c-868d-a5f835088a83",
   "metadata": {},
   "outputs": [
    {
     "data": {
      "text/plain": [
       "1"
      ]
     },
     "execution_count": 63,
     "metadata": {},
     "output_type": "execute_result"
    }
   ],
   "source": [
    "factorial(0)"
   ]
  },
  {
   "cell_type": "code",
   "execution_count": 64,
   "id": "0dc6d715-09f8-43ed-8680-b0f3795aee88",
   "metadata": {},
   "outputs": [
    {
     "data": {
      "text/plain": [
       "1"
      ]
     },
     "execution_count": 64,
     "metadata": {},
     "output_type": "execute_result"
    }
   ],
   "source": [
    "factorial(-9)"
   ]
  },
  {
   "cell_type": "code",
   "execution_count": 65,
   "id": "1d6acbc4-5b91-4b46-bdb6-07f9fa544ea2",
   "metadata": {},
   "outputs": [
    {
     "data": {
      "text/plain": [
       "30414093201713378043612608166064768844377641568960512000000000000"
      ]
     },
     "execution_count": 65,
     "metadata": {},
     "output_type": "execute_result"
    }
   ],
   "source": [
    "factorial(50)"
   ]
  },
  {
   "cell_type": "code",
   "execution_count": 78,
   "id": "7e67c0d5-c266-4a84-9790-66a8ce19fdbf",
   "metadata": {},
   "outputs": [
    {
     "data": {
      "text/plain": [
       "'402387260077093773543702433923003985719374864210714632543799910429938512398629020592044208486969404800479988610197196058631666872994808558901323829669944590997424504087073759918823627727188732519779505950995276120874975462497043601418278094646496291056393887437886487337119181045825783647849977012476632889835955735432513185323958463075557409114262417474349347553428646576611667797396668820291207379143853719588249808126867838374559731746136085379534524221586593201928090878297308431392844403281231558611036976801357304216168747609675871348312025478589320767169132448426236131412508780208000261683151027341827977704784635868170164365024153691398281264810213092761244896359928705114964975419909342221566832572080821333186116811553615836546984046708975602900950537616475847728421889679646244945160765353408198901385442487984959953319101723355556602139450399736280750137837615307127761926849034352625200015888535147331611702103968175921510907788019393178114194545257223865541461062892187960223838971476088506276862967146674697562911234082439208160153780889893964518263243671616762179168909779911903754031274622289988005195444414282012187361745992642956581746628302955570299024324153181617210465832036786906117260158783520751516284225540265170483304226143974286933061690897968482590125458327168226458066526769958652682272807075781391858178889652208164348344825993266043367660176999612831860788386150279465955131156552036093988180612138558600301435694527224206344631797460594682573103790084024432438465657245014402821885252470935190620929023136493273497565513958720559654228749774011413346962715422845862377387538230483865688976461927383814900140767310446640259899490222221765904339901886018566526485061799702356193897017860040811889729918311021171229845901641921068884387121855646124960798722908519296819372388642614839657382291123125024186649353143970137428531926649875337218940694281434118520158014123344828015051399694290153483077644569099073152433278288269864602789864321139083506217095002597389863554277196742822248757586765752344220207573630569498825087968928162753848863396909959826280956121450994871701244516461260379029309120889086942028510640182154399457156805941872748998094254742173582401063677404595741785160829230135358081840096996372524230560855903700624271243416909004153690105933983835777939410970027753472000000000000000000000000000000000000000000000000000000000000000000000000000000000000000000000000000000000000000000000000000000000000000000000000000000000000000000000000000000000000000000000000000000000000000000000000000000000000000000000000000000000'"
      ]
     },
     "execution_count": 78,
     "metadata": {},
     "output_type": "execute_result"
    }
   ],
   "source": [
    "str(factorial(1000))"
   ]
  },
  {
   "cell_type": "code",
   "execution_count": 76,
   "id": "d6e7bd6b-137c-4e26-b6f4-90e834d9c5f8",
   "metadata": {},
   "outputs": [
    {
     "data": {
      "text/plain": [
       "'402387260077093773543702433923003985719374864210714632543799910429938512398629020592044208486969404800479988610197196058631666872994808558901323829669944590997424504087073759918823627727188732519779505950995276120874975462497043601418278094646496291056393887437886487337119181045825783647849977012476632889835955735432513185323958463075557409114262417474349347553428646576611667797396668820291207379143853719588249808126867838374559731746136085379534524221586593201928090878297308431392844403281231558611036976801357304216168747609675871348312025478589320767169132448426236131412508780208000261683151027341827977704784635868170164365024153691398281264810213092761244896359928705114964975419909342221566832572080821333186116811553615836546984046708975602900950537616475847728421889679646244945160765353408198901385442487984959953319101723355556602139450399736280750137837615307127761926849034352625200015888535147331611702103968175921510907788019393178114194545257223865541461062892187960223838971476088506276862967146674697562911234082439208160153780889893964518263243671616762179168909779911903754031274622289988005195444414282012187361745992642956581746628302955570299024324153181617210465832036786906117260158783520751516284225540265170483304226143974286933061690897968482590125458327168226458066526769958652682272807075781391858178889652208164348344825993266043367660176999612831860788386150279465955131156552036093988180612138558600301435694527224206344631797460594682573103790084024432438465657245014402821885252470935190620929023136493273497565513958720559654228749774011413346962715422845862377387538230483865688976461927383814900140767310446640259899490222221765904339901886018566526485061799702356193897017860040811889729918311021171229845901641921068884387121855646124960798722908519296819372388642614839657382291123125024186649353143970137428531926649875337218940694281434118520158014123344828015051399694290153483077644569099073152433278288269864602789864321139083506217095002597389863554277196742822248757586765752344220207573630569498825087968928162753848863396909959826280956121450994871701244516461260379029309120889086942028510640182154399457156805941872748998094254742173582401063677404595741785160829230135358081840096996372524230560855903700624271243416909004153690105933983835777939410970027753472000000000000000000000000000000000000000000000000000000000000000000000000000000000000000000000000000000000000000000000000000000000000000000000000000000000000000000000000000000000000000000000000000000000000000000000000000000000000000000000000000000000'"
      ]
     },
     "execution_count": 76,
     "metadata": {},
     "output_type": "execute_result"
    }
   ],
   "source": [
    "x"
   ]
  },
  {
   "cell_type": "code",
   "execution_count": 77,
   "id": "af743db9-ab8f-46a0-bff4-a0fa9eb7238e",
   "metadata": {},
   "outputs": [
    {
     "data": {
      "text/plain": [
       "2568"
      ]
     },
     "execution_count": 77,
     "metadata": {},
     "output_type": "execute_result"
    }
   ],
   "source": [
    "len(x)"
   ]
  },
  {
   "cell_type": "code",
   "execution_count": 94,
   "id": "d2d68d51-999a-468d-b1c9-755da84d1f53",
   "metadata": {},
   "outputs": [
    {
     "name": "stdin",
     "output_type": "stream",
     "text": [
      " 90\n"
     ]
    },
    {
     "name": "stdout",
     "output_type": "stream",
     "text": [
      "N\n"
     ]
    }
   ],
   "source": [
    "n=int(input(\"\"))\n",
    "if n==0 or n==1:\n",
    "    print(\"y\")\n",
    "else:\n",
    "    print(\"N\")"
   ]
  },
  {
   "cell_type": "markdown",
   "id": "ede2367d-0d9e-4a5f-b632-e30ad81ec83c",
   "metadata": {},
   "source": [
    "### positional argument\n",
    "### keyword argument\n",
    "### default argument"
   ]
  },
  {
   "cell_type": "code",
   "execution_count": 95,
   "id": "3e7d3de2-a866-49a5-be8d-a7c85d818c1a",
   "metadata": {},
   "outputs": [],
   "source": [
    "#positional arguments\n",
    "def nos(a,b,c,d):\n",
    "    return a*b*c*d"
   ]
  },
  {
   "cell_type": "code",
   "execution_count": 96,
   "id": "eeca5dd6-fd5b-46f1-b1b4-e60f9d64212c",
   "metadata": {},
   "outputs": [
    {
     "data": {
      "text/plain": [
       "240000"
      ]
     },
     "execution_count": 96,
     "metadata": {},
     "output_type": "execute_result"
    }
   ],
   "source": [
    "nos(10,20,30,40)"
   ]
  },
  {
   "cell_type": "code",
   "execution_count": 97,
   "id": "47d492d6-564e-49d6-8d81-c03ff58d99bd",
   "metadata": {},
   "outputs": [],
   "source": [
    "#keyword arguments\n",
    "def nos(a,b,c,d):\n",
    "    return a*b*c*d"
   ]
  },
  {
   "cell_type": "code",
   "execution_count": 98,
   "id": "1ffbd7e8-14e6-4666-b5f1-e92b5b6d5ba4",
   "metadata": {},
   "outputs": [],
   "source": [
    "mynums=nos(a=10,b=20,d=40,c=30)"
   ]
  },
  {
   "cell_type": "code",
   "execution_count": 99,
   "id": "3d9ce165-7ad4-40f2-b222-b48960aee60d",
   "metadata": {},
   "outputs": [
    {
     "data": {
      "text/plain": [
       "240000"
      ]
     },
     "execution_count": 99,
     "metadata": {},
     "output_type": "execute_result"
    }
   ],
   "source": [
    "mynums"
   ]
  },
  {
   "cell_type": "code",
   "execution_count": 100,
   "id": "ef6e082c-a96c-4d3c-ad81-fb936b9161da",
   "metadata": {},
   "outputs": [],
   "source": [
    "#default arguments\n",
    "def nos(a,b,d,c=0):\n",
    "    return a*b*c*d"
   ]
  },
  {
   "cell_type": "code",
   "execution_count": 101,
   "id": "e91754c6-9439-498d-ad40-795a5f06b985",
   "metadata": {},
   "outputs": [
    {
     "data": {
      "text/plain": [
       "0"
      ]
     },
     "execution_count": 101,
     "metadata": {},
     "output_type": "execute_result"
    }
   ],
   "source": [
    "nos(1,2,d=4)"
   ]
  },
  {
   "cell_type": "code",
   "execution_count": 102,
   "id": "024168d3-a4b5-4bd5-ae46-f9331c205462",
   "metadata": {},
   "outputs": [
    {
     "data": {
      "text/plain": [
       "40"
      ]
     },
     "execution_count": 102,
     "metadata": {},
     "output_type": "execute_result"
    }
   ],
   "source": [
    "nos(1,2,d=4,c=5)"
   ]
  },
  {
   "cell_type": "code",
   "execution_count": 103,
   "id": "e4678bc2-87fa-4138-8d1e-7068f881d466",
   "metadata": {},
   "outputs": [
    {
     "ename": "SyntaxError",
     "evalue": "positional argument follows keyword argument (1643665361.py, line 1)",
     "output_type": "error",
     "traceback": [
      "\u001b[1;36m  Cell \u001b[1;32mIn[103], line 1\u001b[1;36m\u001b[0m\n\u001b[1;33m    nos(1,2,c=4,5)\u001b[0m\n\u001b[1;37m                 ^\u001b[0m\n\u001b[1;31mSyntaxError\u001b[0m\u001b[1;31m:\u001b[0m positional argument follows keyword argument\n"
     ]
    }
   ],
   "source": [
    "nos(1,2,c=4,5)"
   ]
  },
  {
   "cell_type": "markdown",
   "id": "f888ad2c-92e1-4c05-9694-02253b84fffe",
   "metadata": {},
   "source": [
    "### python does not support function and method overloading\n",
    "### it will always takae recent definition"
   ]
  },
  {
   "cell_type": "code",
   "execution_count": 104,
   "id": "38493110-aab8-45ac-8bce-69bf9534ee37",
   "metadata": {},
   "outputs": [],
   "source": [
    "def nos(a,b,c,d):\n",
    "    return a*b*c*d"
   ]
  },
  {
   "cell_type": "code",
   "execution_count": 105,
   "id": "8568f084-6222-4aa8-9545-b227fff142e1",
   "metadata": {},
   "outputs": [],
   "source": [
    "def nos(a,b,c,d,e):\n",
    "    return a*b*c*d*e"
   ]
  },
  {
   "cell_type": "code",
   "execution_count": 106,
   "id": "69559fa6-2b69-4786-b5a6-5c3efeedcdf2",
   "metadata": {},
   "outputs": [],
   "source": [
    "def nos(a,b,c,d,e,f):\n",
    "    return a*b*c*d*e*f"
   ]
  },
  {
   "cell_type": "code",
   "execution_count": 107,
   "id": "9c0a7556-c239-4526-ab23-f89cb5836fb0",
   "metadata": {},
   "outputs": [
    {
     "ename": "TypeError",
     "evalue": "nos() missing 1 required positional argument: 'f'",
     "output_type": "error",
     "traceback": [
      "\u001b[1;31m---------------------------------------------------------------------------\u001b[0m",
      "\u001b[1;31mTypeError\u001b[0m                                 Traceback (most recent call last)",
      "Cell \u001b[1;32mIn[107], line 1\u001b[0m\n\u001b[1;32m----> 1\u001b[0m \u001b[43mnos\u001b[49m\u001b[43m(\u001b[49m\u001b[38;5;241;43m10\u001b[39;49m\u001b[43m,\u001b[49m\u001b[38;5;241;43m20\u001b[39;49m\u001b[43m,\u001b[49m\u001b[38;5;241;43m30\u001b[39;49m\u001b[43m,\u001b[49m\u001b[38;5;241;43m40\u001b[39;49m\u001b[43m,\u001b[49m\u001b[38;5;241;43m50\u001b[39;49m\u001b[43m)\u001b[49m\n",
      "\u001b[1;31mTypeError\u001b[0m: nos() missing 1 required positional argument: 'f'"
     ]
    }
   ],
   "source": [
    "nos(10,20,30,40,50)"
   ]
  },
  {
   "cell_type": "markdown",
   "id": "bb63678b-f0b6-4198-9256-1f5ac1b70b04",
   "metadata": {},
   "source": [
    "### for overcoming above problem we use variable length argument"
   ]
  },
  {
   "cell_type": "code",
   "execution_count": 108,
   "id": "511ba948-2f51-4ee2-b29b-770f260251a6",
   "metadata": {},
   "outputs": [],
   "source": [
    "def nos(*a):\n",
    "    return a"
   ]
  },
  {
   "cell_type": "code",
   "execution_count": 109,
   "id": "8491e17d-163f-43cb-9df8-2ca6b5a49f1f",
   "metadata": {},
   "outputs": [
    {
     "data": {
      "text/plain": [
       "(10, 20, 30, 40, 50)"
      ]
     },
     "execution_count": 109,
     "metadata": {},
     "output_type": "execute_result"
    }
   ],
   "source": [
    "nos(10,20,30,40,50)"
   ]
  },
  {
   "cell_type": "code",
   "execution_count": 111,
   "id": "3a7ac13d-9903-486f-b87a-288e0fe4bfec",
   "metadata": {},
   "outputs": [],
   "source": [
    "def nos(*a):\n",
    "    print(type(a))\n",
    "    return a"
   ]
  },
  {
   "cell_type": "code",
   "execution_count": 112,
   "id": "ab9f5a70-6ac4-4be6-b78d-9e6547c4ec7f",
   "metadata": {},
   "outputs": [
    {
     "name": "stdout",
     "output_type": "stream",
     "text": [
      "<class 'tuple'>\n"
     ]
    },
    {
     "data": {
      "text/plain": [
       "(10, 20, 30, 40, 50)"
      ]
     },
     "execution_count": 112,
     "metadata": {},
     "output_type": "execute_result"
    }
   ],
   "source": [
    "nos(10,20,30,40,50)"
   ]
  },
  {
   "cell_type": "code",
   "execution_count": 113,
   "id": "5ec94be3-e3bf-40c8-a856-ba5c5198273f",
   "metadata": {},
   "outputs": [],
   "source": [
    "a=9"
   ]
  },
  {
   "cell_type": "code",
   "execution_count": 114,
   "id": "c6efe4e3-5b1d-4a8d-bb5b-e4f90723b4a5",
   "metadata": {},
   "outputs": [
    {
     "data": {
      "text/plain": [
       "int"
      ]
     },
     "execution_count": 114,
     "metadata": {},
     "output_type": "execute_result"
    }
   ],
   "source": [
    "type(a)"
   ]
  },
  {
   "cell_type": "code",
   "execution_count": 115,
   "id": "59964850-96b1-49cf-8eb6-d3545fe3b391",
   "metadata": {},
   "outputs": [
    {
     "name": "stdout",
     "output_type": "stream",
     "text": [
      "<class 'int'>\n"
     ]
    }
   ],
   "source": [
    "print(type(a))"
   ]
  },
  {
   "cell_type": "code",
   "execution_count": 116,
   "id": "3a77d521-964a-4797-b36c-93c72a14b071",
   "metadata": {},
   "outputs": [],
   "source": [
    "def nos(*a):\n",
    "    print(type(a))\n",
    "    mul=1\n",
    "    for i in a:\n",
    "        mul=mul*i\n",
    "    return mul"
   ]
  },
  {
   "cell_type": "code",
   "execution_count": 117,
   "id": "c0a479b3-7ebd-4cfd-92a9-a953d6f0480d",
   "metadata": {},
   "outputs": [
    {
     "name": "stdout",
     "output_type": "stream",
     "text": [
      "<class 'tuple'>\n"
     ]
    },
    {
     "data": {
      "text/plain": [
       "12000000"
      ]
     },
     "execution_count": 117,
     "metadata": {},
     "output_type": "execute_result"
    }
   ],
   "source": [
    "nos(10,20,30,40,50)"
   ]
  },
  {
   "cell_type": "code",
   "execution_count": 118,
   "id": "f0a747ca-da3c-4da9-ae24-67a80be8946b",
   "metadata": {},
   "outputs": [
    {
     "name": "stdout",
     "output_type": "stream",
     "text": [
      "Joined String is: Goodnight\n"
     ]
    }
   ],
   "source": [
    "def attach(s1,s2):\n",
    "    s3=s1+s2\n",
    "    print(\"Joined String is:\",s3)\n",
    "\t\n",
    "attach(\"Good\",\"night\")"
   ]
  },
  {
   "cell_type": "code",
   "execution_count": 119,
   "id": "af8214c4-a9db-46a5-860a-1cd77d73ca67",
   "metadata": {},
   "outputs": [
    {
     "name": "stdout",
     "output_type": "stream",
     "text": [
      "Item is Butter It's price is 150\n"
     ]
    }
   ],
   "source": [
    "def grocery(name,price):\n",
    "    print(\"Item is\",name,\"It's price is\",price)\n",
    "\t\n",
    "grocery(price=150,name=\"Butter\")"
   ]
  },
  {
   "cell_type": "code",
   "execution_count": 120,
   "id": "290043c2-becb-48b9-8cc0-b955b7ca1143",
   "metadata": {},
   "outputs": [
    {
     "name": "stdout",
     "output_type": "stream",
     "text": [
      "Hello mishra Good Morning\n"
     ]
    }
   ],
   "source": [
    "def greet(name,msg=\"Good Morning\"):\n",
    "    print(\"Hello\",name,msg)\n",
    "\t\n",
    "greet(\"mishra\")"
   ]
  },
  {
   "cell_type": "code",
   "execution_count": 121,
   "id": "0b31533d-dfce-49dc-8d61-158e3493f81f",
   "metadata": {},
   "outputs": [
    {
     "name": "stdout",
     "output_type": "stream",
     "text": [
      "Hello mishra How are you?\n"
     ]
    }
   ],
   "source": [
    "greet(\"mishra\",\"How are you?\")\n"
   ]
  },
  {
   "cell_type": "markdown",
   "id": "80191e78-314c-474d-96f0-3f6eba64d202",
   "metadata": {},
   "source": [
    "### Write a function called cal_area( ) using default argument concept which accepts radius and pi as arguments and calculates and displays area of the Circle. The value of pi should be used as default argument and value of radius should be accepted from the user"
   ]
  },
  {
   "cell_type": "code",
   "execution_count": 124,
   "id": "071f3272-8529-4e5e-8489-1edb4dee1c79",
   "metadata": {},
   "outputs": [],
   "source": [
    "def cal_area(radius,pi=3.14):\n",
    "   return pi*radius**2 "
   ]
  },
  {
   "cell_type": "code",
   "execution_count": 130,
   "id": "8c5268ec-e19b-48da-8dd3-337c8eda3328",
   "metadata": {},
   "outputs": [
    {
     "name": "stdin",
     "output_type": "stream",
     "text": [
      "enter radius 1\n"
     ]
    },
    {
     "data": {
      "text/plain": [
       "3.14"
      ]
     },
     "execution_count": 130,
     "metadata": {},
     "output_type": "execute_result"
    }
   ],
   "source": [
    "radius=int(input(\"enter radius\"))\n",
    "cal_area(radius)\n"
   ]
  },
  {
   "cell_type": "code",
   "execution_count": 133,
   "id": "951311b2-5e80-4a8c-b0ae-69262462984c",
   "metadata": {},
   "outputs": [],
   "source": [
    "def addnos(a,b):\n",
    "\tc=a+b\n",
    "\treturn c\n",
    "\n",
    "def addnos(a,b,c):\n",
    "\td=a+b+c\n",
    "\treturn d"
   ]
  },
  {
   "cell_type": "code",
   "execution_count": 134,
   "id": "9bd2394e-48f4-4bb3-a555-89f63c6e1556",
   "metadata": {},
   "outputs": [
    {
     "ename": "TypeError",
     "evalue": "addnos() missing 1 required positional argument: 'c'",
     "output_type": "error",
     "traceback": [
      "\u001b[1;31m---------------------------------------------------------------------------\u001b[0m",
      "\u001b[1;31mTypeError\u001b[0m                                 Traceback (most recent call last)",
      "Cell \u001b[1;32mIn[134], line 1\u001b[0m\n\u001b[1;32m----> 1\u001b[0m \u001b[38;5;28mprint\u001b[39m(\u001b[43maddnos\u001b[49m\u001b[43m(\u001b[49m\u001b[38;5;241;43m10\u001b[39;49m\u001b[43m,\u001b[49m\u001b[38;5;241;43m20\u001b[39;49m\u001b[43m)\u001b[49m)\n",
      "\u001b[1;31mTypeError\u001b[0m: addnos() missing 1 required positional argument: 'c'"
     ]
    }
   ],
   "source": [
    "print(addnos(10,20))"
   ]
  },
  {
   "cell_type": "code",
   "execution_count": 135,
   "id": "fbe7884d-6275-4e01-9fc6-7f5fa7c6bdc3",
   "metadata": {},
   "outputs": [
    {
     "name": "stdout",
     "output_type": "stream",
     "text": [
      "60\n"
     ]
    }
   ],
   "source": [
    "print(addnos(10,20,30))"
   ]
  },
  {
   "cell_type": "markdown",
   "id": "cebe6f70-c407-43ed-a84a-d87601b6de5b",
   "metadata": {},
   "source": [
    "### Write a function called find_largest( ) which accepts multiple strings as argument and returns the length of the largest string"
   ]
  },
  {
   "cell_type": "code",
   "execution_count": 145,
   "id": "fdd4f026-2065-42d4-b1f5-236bd9aeaa06",
   "metadata": {},
   "outputs": [],
   "source": [
    "def find_largest():\n",
    "    aa=[]\n",
    "    string = input('Enter string or names with space: ').split(\" \")\n",
    "    for i in string:\n",
    "        aa.append(len(i))\n",
    "    return max(aa)"
   ]
  },
  {
   "cell_type": "code",
   "execution_count": 146,
   "id": "5c0a8419-9d87-438e-9ed3-8ecbe0b264f4",
   "metadata": {},
   "outputs": [
    {
     "name": "stdin",
     "output_type": "stream",
     "text": [
      "Enter string or names with space:  himanshu mishra rohit rishabh\n"
     ]
    },
    {
     "data": {
      "text/plain": [
       "8"
      ]
     },
     "execution_count": 146,
     "metadata": {},
     "output_type": "execute_result"
    }
   ],
   "source": [
    "find_largest()"
   ]
  },
  {
   "cell_type": "code",
   "execution_count": 147,
   "id": "9b0c73ba-0790-4662-b6ad-a76d1ceb3223",
   "metadata": {},
   "outputs": [],
   "source": [
    "def find_largest(*args):\n",
    "    print(args)\n",
    "    largest = \"\"\n",
    "    for arg in args:\n",
    "        if len(arg) > len(largest):\n",
    "            largest = arg\n",
    "    return len(largest)"
   ]
  },
  {
   "cell_type": "code",
   "execution_count": 149,
   "id": "55f09a27-ce62-42dc-a96a-7c94232e885b",
   "metadata": {},
   "outputs": [
    {
     "name": "stdout",
     "output_type": "stream",
     "text": [
      "('himanshu', 'mishra', 'rohit', 'rishabh')\n"
     ]
    },
    {
     "data": {
      "text/plain": [
       "8"
      ]
     },
     "execution_count": 149,
     "metadata": {},
     "output_type": "execute_result"
    }
   ],
   "source": [
    "find_largest('himanshu','mishra','rohit','rishabh')"
   ]
  },
  {
   "cell_type": "code",
   "execution_count": 150,
   "id": "0b91ab56-7b55-4511-8883-263312245585",
   "metadata": {},
   "outputs": [
    {
     "name": "stdout",
     "output_type": "stream",
     "text": [
      "('himanshu', 9)\n"
     ]
    },
    {
     "ename": "TypeError",
     "evalue": "object of type 'int' has no len()",
     "output_type": "error",
     "traceback": [
      "\u001b[1;31m---------------------------------------------------------------------------\u001b[0m",
      "\u001b[1;31mTypeError\u001b[0m                                 Traceback (most recent call last)",
      "Cell \u001b[1;32mIn[150], line 1\u001b[0m\n\u001b[1;32m----> 1\u001b[0m \u001b[43mfind_largest\u001b[49m\u001b[43m(\u001b[49m\u001b[38;5;124;43m'\u001b[39;49m\u001b[38;5;124;43mhimanshu\u001b[39;49m\u001b[38;5;124;43m'\u001b[39;49m\u001b[43m,\u001b[49m\u001b[38;5;241;43m9\u001b[39;49m\u001b[43m)\u001b[49m\n",
      "Cell \u001b[1;32mIn[147], line 5\u001b[0m, in \u001b[0;36mfind_largest\u001b[1;34m(*args)\u001b[0m\n\u001b[0;32m      3\u001b[0m largest \u001b[38;5;241m=\u001b[39m \u001b[38;5;124m\"\u001b[39m\u001b[38;5;124m\"\u001b[39m\n\u001b[0;32m      4\u001b[0m \u001b[38;5;28;01mfor\u001b[39;00m arg \u001b[38;5;129;01min\u001b[39;00m args:\n\u001b[1;32m----> 5\u001b[0m     \u001b[38;5;28;01mif\u001b[39;00m \u001b[38;5;28;43mlen\u001b[39;49m\u001b[43m(\u001b[49m\u001b[43marg\u001b[49m\u001b[43m)\u001b[49m \u001b[38;5;241m>\u001b[39m \u001b[38;5;28mlen\u001b[39m(largest):\n\u001b[0;32m      6\u001b[0m         largest \u001b[38;5;241m=\u001b[39m arg\n\u001b[0;32m      7\u001b[0m \u001b[38;5;28;01mreturn\u001b[39;00m \u001b[38;5;28mlen\u001b[39m(largest)\n",
      "\u001b[1;31mTypeError\u001b[0m: object of type 'int' has no len()"
     ]
    }
   ],
   "source": [
    "find_largest('himanshu',9)"
   ]
  },
  {
   "cell_type": "code",
   "execution_count": 156,
   "id": "0d03629e-fea5-4033-81ce-f78839899614",
   "metadata": {},
   "outputs": [],
   "source": [
    "def findlargest(*names):\n",
    "\tmax=0\n",
    "\tfor s in names:\n",
    "\t\tif len(s)>max:\n",
    "\t\t\tmax=len(s)\n",
    "\treturn max\n"
   ]
  },
  {
   "cell_type": "code",
   "execution_count": 157,
   "id": "69ac1345-0a0b-4f1c-b98d-95ab5a9c3df1",
   "metadata": {},
   "outputs": [
    {
     "data": {
      "text/plain": [
       "8"
      ]
     },
     "execution_count": 157,
     "metadata": {},
     "output_type": "execute_result"
    }
   ],
   "source": [
    "findlargest('himanshu','mishra','rohit','rishabh')"
   ]
  },
  {
   "cell_type": "code",
   "execution_count": 158,
   "id": "ad41a1ba-8926-434b-b0a7-20a368c0675c",
   "metadata": {},
   "outputs": [
    {
     "name": "stdout",
     "output_type": "stream",
     "text": [
      "10 20 3 4\n"
     ]
    }
   ],
   "source": [
    "def show(a,b,c=3,d=4):\n",
    "    print(a,b,c,d)\n",
    "\n",
    "show(10,20)\n"
   ]
  },
  {
   "cell_type": "code",
   "execution_count": 159,
   "id": "4fdc6736-a932-4a97-bcd9-871eb07db648",
   "metadata": {},
   "outputs": [
    {
     "name": "stdout",
     "output_type": "stream",
     "text": [
      "10 20 30 40\n"
     ]
    }
   ],
   "source": [
    "def show(a,b,c=3,d=4):\n",
    "    print(a,b,c,d)\n",
    "\n",
    "show(10,20,30,40)"
   ]
  },
  {
   "cell_type": "code",
   "execution_count": 160,
   "id": "148b4b3c-267b-4497-b821-f833f9486567",
   "metadata": {},
   "outputs": [
    {
     "name": "stdout",
     "output_type": "stream",
     "text": [
      "20 30 3 10\n"
     ]
    }
   ],
   "source": [
    "def show(a,b,c=3,d=4):\n",
    "    print(a,b,c,d)\n",
    "\n",
    "show(d=10,a=20,b=30)"
   ]
  },
  {
   "cell_type": "code",
   "execution_count": 161,
   "id": "255cfdcd-6396-4cd6-9aeb-751688a1215c",
   "metadata": {},
   "outputs": [
    {
     "ename": "TypeError",
     "evalue": "show() missing 2 required positional arguments: 'a' and 'b'",
     "output_type": "error",
     "traceback": [
      "\u001b[1;31m---------------------------------------------------------------------------\u001b[0m",
      "\u001b[1;31mTypeError\u001b[0m                                 Traceback (most recent call last)",
      "Cell \u001b[1;32mIn[161], line 4\u001b[0m\n\u001b[0;32m      1\u001b[0m \u001b[38;5;28;01mdef\u001b[39;00m \u001b[38;5;21mshow\u001b[39m(a,b,c\u001b[38;5;241m=\u001b[39m\u001b[38;5;241m3\u001b[39m,d\u001b[38;5;241m=\u001b[39m\u001b[38;5;241m4\u001b[39m):\n\u001b[0;32m      2\u001b[0m     \u001b[38;5;28mprint\u001b[39m(a,b,c,d)\n\u001b[1;32m----> 4\u001b[0m \u001b[43mshow\u001b[49m\u001b[43m(\u001b[49m\u001b[43m)\u001b[49m\n",
      "\u001b[1;31mTypeError\u001b[0m: show() missing 2 required positional arguments: 'a' and 'b'"
     ]
    }
   ],
   "source": [
    "def show(a,b,c=3,d=4):\n",
    "    print(a,b,c,d)\n",
    "\n",
    "show()"
   ]
  },
  {
   "cell_type": "code",
   "execution_count": 162,
   "id": "8b01e16b-177c-4966-acf0-46af1e9fc6a8",
   "metadata": {},
   "outputs": [],
   "source": [
    "def show(a,b,c=3,d=4):\n",
    "    print(a,b,c,d)"
   ]
  },
  {
   "cell_type": "code",
   "execution_count": 163,
   "id": "15da20bd-c34d-4bb2-a7f8-4680ecfc740b",
   "metadata": {},
   "outputs": [
    {
     "ename": "SyntaxError",
     "evalue": "positional argument follows keyword argument (868175769.py, line 1)",
     "output_type": "error",
     "traceback": [
      "\u001b[1;36m  Cell \u001b[1;32mIn[163], line 1\u001b[1;36m\u001b[0m\n\u001b[1;33m    show(c=30,d=40,10,20)\u001b[0m\n\u001b[1;37m                        ^\u001b[0m\n\u001b[1;31mSyntaxError\u001b[0m\u001b[1;31m:\u001b[0m positional argument follows keyword argument\n"
     ]
    }
   ],
   "source": [
    "show(c=30,d=40,10,20)"
   ]
  },
  {
   "cell_type": "code",
   "execution_count": 164,
   "id": "2d2b205a-c693-4c44-aeda-9ae653214992",
   "metadata": {},
   "outputs": [
    {
     "name": "stdout",
     "output_type": "stream",
     "text": [
      "10 20 40 30\n"
     ]
    }
   ],
   "source": [
    "show(10,20,d=30,c=40)\n"
   ]
  },
  {
   "cell_type": "code",
   "execution_count": 165,
   "id": "b6300449-4e34-4eb6-b62f-26bc799195da",
   "metadata": {},
   "outputs": [
    {
     "ename": "TypeError",
     "evalue": "show() got multiple values for argument 'b'",
     "output_type": "error",
     "traceback": [
      "\u001b[1;31m---------------------------------------------------------------------------\u001b[0m",
      "\u001b[1;31mTypeError\u001b[0m                                 Traceback (most recent call last)",
      "Cell \u001b[1;32mIn[165], line 4\u001b[0m\n\u001b[0;32m      1\u001b[0m \u001b[38;5;28;01mdef\u001b[39;00m \u001b[38;5;21mshow\u001b[39m(a,b,c\u001b[38;5;241m=\u001b[39m\u001b[38;5;241m3\u001b[39m,d\u001b[38;5;241m=\u001b[39m\u001b[38;5;241m4\u001b[39m):\n\u001b[0;32m      2\u001b[0m     \u001b[38;5;28mprint\u001b[39m(a,b,c,d)\n\u001b[1;32m----> 4\u001b[0m \u001b[43mshow\u001b[49m\u001b[43m(\u001b[49m\u001b[38;5;241;43m30\u001b[39;49m\u001b[43m,\u001b[49m\u001b[38;5;241;43m40\u001b[39;49m\u001b[43m,\u001b[49m\u001b[43mb\u001b[49m\u001b[38;5;241;43m=\u001b[39;49m\u001b[38;5;241;43m15\u001b[39;49m\u001b[43m)\u001b[49m\n",
      "\u001b[1;31mTypeError\u001b[0m: show() got multiple values for argument 'b'"
     ]
    }
   ],
   "source": [
    "def show(a,b,c=3,d=4):\n",
    "    print(a,b,c,d)\n",
    "\n",
    "show(30,40,b=15)\n"
   ]
  },
  {
   "cell_type": "code",
   "execution_count": 1,
   "id": "000bce46-65f0-4175-b193-643d61e9188d",
   "metadata": {},
   "outputs": [],
   "source": [
    "s='himanshu mishra'\n",
    "def f():\n",
    "    print(s)\n"
   ]
  },
  {
   "cell_type": "code",
   "execution_count": 2,
   "id": "daf539b8-626d-45da-b8e4-31c31c7feb57",
   "metadata": {},
   "outputs": [
    {
     "name": "stdout",
     "output_type": "stream",
     "text": [
      "himanshu mishra\n"
     ]
    }
   ],
   "source": [
    "f()"
   ]
  },
  {
   "cell_type": "code",
   "execution_count": 3,
   "id": "2b69b0a1-8e48-4a70-8ee3-0712b2eb2514",
   "metadata": {},
   "outputs": [
    {
     "name": "stdout",
     "output_type": "stream",
     "text": [
      "i love python\n"
     ]
    }
   ],
   "source": [
    "def f():\n",
    "    print(x)\n",
    "x='i love python'\n",
    "f()"
   ]
  },
  {
   "cell_type": "code",
   "execution_count": 4,
   "id": "df388532-1c64-42e5-a014-73f99582bb3e",
   "metadata": {},
   "outputs": [
    {
     "ename": "NameError",
     "evalue": "name 'i' is not defined",
     "output_type": "error",
     "traceback": [
      "\u001b[1;31m---------------------------------------------------------------------------\u001b[0m",
      "\u001b[1;31mNameError\u001b[0m                                 Traceback (most recent call last)",
      "Cell \u001b[1;32mIn[4], line 1\u001b[0m\n\u001b[1;32m----> 1\u001b[0m \u001b[38;5;28;01mdel\u001b[39;00m \u001b[43mi\u001b[49m\n",
      "\u001b[1;31mNameError\u001b[0m: name 'i' is not defined"
     ]
    }
   ],
   "source": [
    "del i"
   ]
  },
  {
   "cell_type": "code",
   "execution_count": 5,
   "id": "15fa5126-a122-4d23-92cd-59f4baf9ce57",
   "metadata": {},
   "outputs": [
    {
     "ename": "NameError",
     "evalue": "name 'i' is not defined",
     "output_type": "error",
     "traceback": [
      "\u001b[1;31m---------------------------------------------------------------------------\u001b[0m",
      "\u001b[1;31mNameError\u001b[0m                                 Traceback (most recent call last)",
      "Cell \u001b[1;32mIn[5], line 3\u001b[0m\n\u001b[0;32m      1\u001b[0m \u001b[38;5;28;01mdef\u001b[39;00m \u001b[38;5;21mg\u001b[39m():\n\u001b[0;32m      2\u001b[0m     i\u001b[38;5;241m=\u001b[39m\u001b[38;5;241m1\u001b[39m\n\u001b[1;32m----> 3\u001b[0m \u001b[38;5;28mprint\u001b[39m(\u001b[43mi\u001b[49m)\n",
      "\u001b[1;31mNameError\u001b[0m: name 'i' is not defined"
     ]
    }
   ],
   "source": [
    "def g():\n",
    "    i=1\n",
    "print(i)"
   ]
  },
  {
   "cell_type": "code",
   "execution_count": 7,
   "id": "bc4f677b-77d6-47f0-8e7b-f7ef95c58e2c",
   "metadata": {},
   "outputs": [],
   "source": [
    "g()"
   ]
  },
  {
   "cell_type": "code",
   "execution_count": 9,
   "id": "ce801da0-c342-41aa-b109-b6a1152ee40b",
   "metadata": {},
   "outputs": [
    {
     "ename": "NameError",
     "evalue": "name 'i' is not defined",
     "output_type": "error",
     "traceback": [
      "\u001b[1;31m---------------------------------------------------------------------------\u001b[0m",
      "\u001b[1;31mNameError\u001b[0m                                 Traceback (most recent call last)",
      "Cell \u001b[1;32mIn[9], line 1\u001b[0m\n\u001b[1;32m----> 1\u001b[0m \u001b[38;5;28mprint\u001b[39m(\u001b[43mi\u001b[49m)\n",
      "\u001b[1;31mNameError\u001b[0m: name 'i' is not defined"
     ]
    }
   ],
   "source": [
    "print(i)"
   ]
  },
  {
   "cell_type": "code",
   "execution_count": 15,
   "id": "910ddb0b-f226-4013-9d4d-149c68a77d30",
   "metadata": {},
   "outputs": [
    {
     "ename": "NameError",
     "evalue": "name 'y' is not defined",
     "output_type": "error",
     "traceback": [
      "\u001b[1;31m---------------------------------------------------------------------------\u001b[0m",
      "\u001b[1;31mNameError\u001b[0m                                 Traceback (most recent call last)",
      "Cell \u001b[1;32mIn[15], line 1\u001b[0m\n\u001b[1;32m----> 1\u001b[0m \u001b[38;5;28;01mdel\u001b[39;00m \u001b[43my\u001b[49m\n",
      "\u001b[1;31mNameError\u001b[0m: name 'y' is not defined"
     ]
    }
   ],
   "source": [
    "del y"
   ]
  },
  {
   "cell_type": "code",
   "execution_count": 36,
   "id": "a142b0f6-8161-43e1-b609-e68261a569f1",
   "metadata": {},
   "outputs": [
    {
     "name": "stdout",
     "output_type": "stream",
     "text": [
      "140713483225592\n",
      "3\n"
     ]
    }
   ],
   "source": [
    "y=3\n",
    "def h():\n",
    "    print(id(y))\n",
    "    print(y)\n",
    "    #y='j'\n",
    "h()\n"
   ]
  },
  {
   "cell_type": "code",
   "execution_count": 37,
   "id": "d54b075a-c3b4-4bb7-9c6f-2458a2d7e4ab",
   "metadata": {},
   "outputs": [
    {
     "ename": "UnboundLocalError",
     "evalue": "cannot access local variable 'y' where it is not associated with a value",
     "output_type": "error",
     "traceback": [
      "\u001b[1;31m---------------------------------------------------------------------------\u001b[0m",
      "\u001b[1;31mUnboundLocalError\u001b[0m                         Traceback (most recent call last)",
      "Cell \u001b[1;32mIn[37], line 5\u001b[0m\n\u001b[0;32m      3\u001b[0m     \u001b[38;5;28mprint\u001b[39m(y)\n\u001b[0;32m      4\u001b[0m     y\u001b[38;5;241m=\u001b[39m\u001b[38;5;124m'\u001b[39m\u001b[38;5;124mj\u001b[39m\u001b[38;5;124m'\u001b[39m\n\u001b[1;32m----> 5\u001b[0m \u001b[43mh\u001b[49m\u001b[43m(\u001b[49m\u001b[43m)\u001b[49m\n",
      "Cell \u001b[1;32mIn[37], line 2\u001b[0m, in \u001b[0;36mh\u001b[1;34m()\u001b[0m\n\u001b[0;32m      1\u001b[0m \u001b[38;5;28;01mdef\u001b[39;00m \u001b[38;5;21mh\u001b[39m():\n\u001b[1;32m----> 2\u001b[0m     \u001b[38;5;28mprint\u001b[39m(\u001b[38;5;28mid\u001b[39m(\u001b[43my\u001b[49m))\n\u001b[0;32m      3\u001b[0m     \u001b[38;5;28mprint\u001b[39m(y)\n\u001b[0;32m      4\u001b[0m     y\u001b[38;5;241m=\u001b[39m\u001b[38;5;124m'\u001b[39m\u001b[38;5;124mj\u001b[39m\u001b[38;5;124m'\u001b[39m\n",
      "\u001b[1;31mUnboundLocalError\u001b[0m: cannot access local variable 'y' where it is not associated with a value"
     ]
    }
   ],
   "source": [
    "def h():\n",
    "    print(id(y))\n",
    "    print(y)\n",
    "    y='j'\n",
    "h()"
   ]
  },
  {
   "cell_type": "code",
   "execution_count": 34,
   "id": "e718f5d8-60e0-4689-8fd1-d56ba250c648",
   "metadata": {},
   "outputs": [
    {
     "data": {
      "text/plain": [
       "140713483225592"
      ]
     },
     "execution_count": 34,
     "metadata": {},
     "output_type": "execute_result"
    }
   ],
   "source": [
    "id(y)"
   ]
  },
  {
   "cell_type": "code",
   "execution_count": 23,
   "id": "ffd22d25-73ac-4d86-9546-15ba0e3cd714",
   "metadata": {},
   "outputs": [
    {
     "ename": "NameError",
     "evalue": "name 'z' is not defined",
     "output_type": "error",
     "traceback": [
      "\u001b[1;31m---------------------------------------------------------------------------\u001b[0m",
      "\u001b[1;31mNameError\u001b[0m                                 Traceback (most recent call last)",
      "Cell \u001b[1;32mIn[23], line 2\u001b[0m\n\u001b[0;32m      1\u001b[0m \u001b[38;5;66;03m#z='himanshu'\u001b[39;00m\n\u001b[1;32m----> 2\u001b[0m \u001b[38;5;28mprint\u001b[39m(\u001b[43mz\u001b[49m)\n\u001b[0;32m      3\u001b[0m \u001b[38;5;28;01mdef\u001b[39;00m \u001b[38;5;21mk\u001b[39m():\n\u001b[0;32m      4\u001b[0m     \u001b[38;5;28mprint\u001b[39m(z)\n",
      "\u001b[1;31mNameError\u001b[0m: name 'z' is not defined"
     ]
    }
   ],
   "source": [
    "#z='himanshu'\n",
    "print(z)\n",
    "def k():\n",
    "    print(z)\n",
    "    #z='python'\n",
    "k()\n",
    "z='himanshu'"
   ]
  },
  {
   "cell_type": "markdown",
   "id": "ed38e3ca-eccf-4ee7-b4b7-5433de1c812f",
   "metadata": {},
   "source": [
    "### local variable: it is a variable which we are defining in the function and the scope will be in the function only\n",
    "### global variable: global variable is a variable which we are defining outside of the funciton and the scope will be global"
   ]
  },
  {
   "cell_type": "code",
   "execution_count": 21,
   "id": "33290f97-a6a5-4436-a3a4-1a9786cab46c",
   "metadata": {},
   "outputs": [
    {
     "name": "stdout",
     "output_type": "stream",
     "text": [
      "mishra\n",
      "himanshu\n"
     ]
    }
   ],
   "source": [
    "a='himanshu'\n",
    "def l():\n",
    "    a='mishra'\n",
    "    print(a)\n",
    "l()\n",
    "print(a)"
   ]
  },
  {
   "cell_type": "code",
   "execution_count": 22,
   "id": "9802376e-23a2-4111-b650-f974ec7a41ce",
   "metadata": {},
   "outputs": [
    {
     "name": "stdout",
     "output_type": "stream",
     "text": [
      "mishra\n",
      "mishra\n"
     ]
    }
   ],
   "source": [
    "#a='himanshu'\n",
    "def l():\n",
    "    global a\n",
    "    a='mishra'\n",
    "    print(a)\n",
    "l()\n",
    "print(a)"
   ]
  },
  {
   "cell_type": "code",
   "execution_count": 23,
   "id": "ba7149d7-2844-4424-8774-7955b8d6e6b7",
   "metadata": {},
   "outputs": [
    {
     "name": "stdout",
     "output_type": "stream",
     "text": [
      "mishra\n",
      "mishra\n"
     ]
    }
   ],
   "source": [
    "a='himanshu'\n",
    "def l():\n",
    "    global a\n",
    "    a='mishra'\n",
    "    print(a)\n",
    "l()\n",
    "print(a)"
   ]
  },
  {
   "cell_type": "code",
   "execution_count": 16,
   "id": "5988e829-d48c-4c62-be25-da4f1d6b2b1e",
   "metadata": {},
   "outputs": [
    {
     "name": "stdout",
     "output_type": "stream",
     "text": [
      "mishra\n",
      "himanshu\n"
     ]
    }
   ],
   "source": [
    "\n",
    "def l():\n",
    "    global a\n",
    "    a='mishra'\n",
    "    print(a)\n",
    "    return 1\n",
    "l()\n",
    "a='himanshu'\n",
    "print(a)"
   ]
  },
  {
   "cell_type": "code",
   "execution_count": 17,
   "id": "4b2cddcd-8faa-455a-851d-3b205eb228f7",
   "metadata": {},
   "outputs": [
    {
     "name": "stdout",
     "output_type": "stream",
     "text": [
      "mishra\n"
     ]
    },
    {
     "data": {
      "text/plain": [
       "int"
      ]
     },
     "execution_count": 17,
     "metadata": {},
     "output_type": "execute_result"
    }
   ],
   "source": [
    "type(l())"
   ]
  },
  {
   "cell_type": "code",
   "execution_count": 13,
   "id": "ec1c4cc5-1390-4783-96f0-c6c6084710e0",
   "metadata": {},
   "outputs": [
    {
     "name": "stdout",
     "output_type": "stream",
     "text": [
      "mishra\n"
     ]
    }
   ],
   "source": [
    "l()"
   ]
  },
  {
   "cell_type": "code",
   "execution_count": 26,
   "id": "1b488550-c8be-401a-aef5-c3deb9793cf6",
   "metadata": {},
   "outputs": [
    {
     "data": {
      "text/plain": [
       "'mishra'"
      ]
     },
     "execution_count": 26,
     "metadata": {},
     "output_type": "execute_result"
    }
   ],
   "source": [
    "a"
   ]
  },
  {
   "cell_type": "code",
   "execution_count": 27,
   "id": "59062211-c926-4018-8546-7ca3808e411b",
   "metadata": {},
   "outputs": [
    {
     "name": "stdout",
     "output_type": "stream",
     "text": [
      "i love python\n",
      "i love python\n",
      "i love javascript\n",
      "i love c\n"
     ]
    }
   ],
   "source": [
    "a=\"i love python\"\n",
    "def f():\n",
    "    global b\n",
    "    global c\n",
    "    b=\"i love javascript\"\n",
    "    c=\"i love c\"\n",
    "    print(a)\n",
    "f()\n",
    "print(a)\n",
    "print(b)\n",
    "print(c)"
   ]
  },
  {
   "cell_type": "code",
   "execution_count": 28,
   "id": "622df558-a7d8-466a-938b-2a557e20aedf",
   "metadata": {},
   "outputs": [
    {
     "name": "stdout",
     "output_type": "stream",
     "text": [
      "my name is himanshu and i am from indore\n",
      "my name is himanshu and i am from indore\n"
     ]
    }
   ],
   "source": [
    "myvariable=\"i love python\"\n",
    "def f():\n",
    "    global myvariable\n",
    "    myvariable=\"my name is himanshu and i am from indore\"\n",
    "    print(myvariable)\n",
    "f()\n",
    "print(myvariable)"
   ]
  },
  {
   "cell_type": "code",
   "execution_count": 57,
   "id": "913cb7db-a2d4-4828-981c-379f5dd2fa12",
   "metadata": {},
   "outputs": [
    {
     "name": "stdout",
     "output_type": "stream",
     "text": [
      "i love python\n",
      "i love python\n"
     ]
    }
   ],
   "source": [
    "myvariable=\"i love python\"\n",
    "def f():\n",
    "    #global myvariable\n",
    "    \n",
    "    print(myvariable)\n",
    "    \n",
    "f()\n",
    "print(myvariable)"
   ]
  },
  {
   "cell_type": "code",
   "execution_count": 12,
   "id": "fc558ca4-9c52-429b-8fa1-3019ba2fac3e",
   "metadata": {},
   "outputs": [
    {
     "ename": "UnboundLocalError",
     "evalue": "cannot access local variable 's' where it is not associated with a value",
     "output_type": "error",
     "traceback": [
      "\u001b[1;31m---------------------------------------------------------------------------\u001b[0m",
      "\u001b[1;31mUnboundLocalError\u001b[0m                         Traceback (most recent call last)",
      "Cell \u001b[1;32mIn[12], line 7\u001b[0m\n\u001b[0;32m      5\u001b[0m     s\u001b[38;5;241m=\u001b[39m\u001b[38;5;124m\"\u001b[39m\u001b[38;5;124mi love coding\u001b[39m\u001b[38;5;124m\"\u001b[39m\n\u001b[0;32m      6\u001b[0m     \u001b[38;5;28mprint\u001b[39m(s)\n\u001b[1;32m----> 7\u001b[0m \u001b[43mcode\u001b[49m\u001b[43m(\u001b[49m\u001b[43m)\u001b[49m\n\u001b[0;32m      8\u001b[0m \u001b[38;5;28mprint\u001b[39m(s)\n",
      "Cell \u001b[1;32mIn[12], line 4\u001b[0m, in \u001b[0;36mcode\u001b[1;34m()\u001b[0m\n\u001b[0;32m      3\u001b[0m \u001b[38;5;28;01mdef\u001b[39;00m \u001b[38;5;21mcode\u001b[39m():\n\u001b[1;32m----> 4\u001b[0m     \u001b[38;5;28mprint\u001b[39m(\u001b[43ms\u001b[49m)\n\u001b[0;32m      5\u001b[0m     s\u001b[38;5;241m=\u001b[39m\u001b[38;5;124m\"\u001b[39m\u001b[38;5;124mi love coding\u001b[39m\u001b[38;5;124m\"\u001b[39m\n\u001b[0;32m      6\u001b[0m     \u001b[38;5;28mprint\u001b[39m(s)\n",
      "\u001b[1;31mUnboundLocalError\u001b[0m: cannot access local variable 's' where it is not associated with a value"
     ]
    }
   ],
   "source": [
    "del s\n",
    "s=\"i am good in programming\"\n",
    "def code():\n",
    "    print(s)\n",
    "    s=\"i love coding\"\n",
    "    print(s)\n",
    "code()\n",
    "print(s)"
   ]
  },
  {
   "cell_type": "code",
   "execution_count": 62,
   "id": "0c4ee981-9e80-4abd-9a47-c39ab0f2da5b",
   "metadata": {},
   "outputs": [
    {
     "name": "stdout",
     "output_type": "stream",
     "text": [
      "i love coding\n",
      "1864667020528\n",
      "i am good in programming\n",
      "1864665414144\n"
     ]
    }
   ],
   "source": [
    "#s=\"i am good in programming\"\n",
    "def code():\n",
    "    #global s\n",
    "    #print(s)\n",
    "    s=\"i love coding\"\n",
    "    print(s)\n",
    "    print(id(s))\n",
    "code()\n",
    "print(s)\n",
    "print(id(s))"
   ]
  },
  {
   "cell_type": "code",
   "execution_count": 60,
   "id": "e9e2ef85-cfc2-4d63-bf16-fd43a025623a",
   "metadata": {},
   "outputs": [
    {
     "data": {
      "text/plain": [
       "1864665414144"
      ]
     },
     "execution_count": 60,
     "metadata": {},
     "output_type": "execute_result"
    }
   ],
   "source": [
    "id(s)"
   ]
  },
  {
   "cell_type": "code",
   "execution_count": 11,
   "id": "c2c07009-7a6c-4ff1-b05d-ae32d7882a7c",
   "metadata": {},
   "outputs": [
    {
     "ename": "NameError",
     "evalue": "name 's' is not defined",
     "output_type": "error",
     "traceback": [
      "\u001b[1;31m---------------------------------------------------------------------------\u001b[0m",
      "\u001b[1;31mNameError\u001b[0m                                 Traceback (most recent call last)",
      "Cell \u001b[1;32mIn[11], line 9\u001b[0m\n\u001b[0;32m      6\u001b[0m     \u001b[38;5;28mprint\u001b[39m(s)\n\u001b[0;32m      7\u001b[0m     \u001b[38;5;28mprint\u001b[39m(\u001b[38;5;28mid\u001b[39m(s))\n\u001b[1;32m----> 9\u001b[0m \u001b[38;5;28mprint\u001b[39m(\u001b[43ms\u001b[49m)\n\u001b[0;32m     10\u001b[0m \u001b[38;5;28mprint\u001b[39m(\u001b[38;5;28mid\u001b[39m(s))\n",
      "\u001b[1;31mNameError\u001b[0m: name 's' is not defined"
     ]
    }
   ],
   "source": [
    "#s=\"i am good in programming\"\n",
    "def code():\n",
    "    #global s\n",
    "    #print(s)\n",
    "    s=\"i love coding\"\n",
    "    print(s)\n",
    "    print(id(s))\n",
    "\n",
    "print(s)\n",
    "print(id(s))"
   ]
  },
  {
   "cell_type": "code",
   "execution_count": 65,
   "id": "7387237d-9909-411d-88f9-da45dd23bd1e",
   "metadata": {},
   "outputs": [
    {
     "ename": "AttributeError",
     "evalue": "'function' object has no attribute 'locals'",
     "output_type": "error",
     "traceback": [
      "\u001b[1;31m---------------------------------------------------------------------------\u001b[0m",
      "\u001b[1;31mAttributeError\u001b[0m                            Traceback (most recent call last)",
      "Cell \u001b[1;32mIn[65], line 1\u001b[0m\n\u001b[1;32m----> 1\u001b[0m \u001b[43mcode\u001b[49m\u001b[38;5;241;43m.\u001b[39;49m\u001b[43mlocals\u001b[49m()\n",
      "\u001b[1;31mAttributeError\u001b[0m: 'function' object has no attribute 'locals'"
     ]
    }
   ],
   "source": []
  },
  {
   "cell_type": "code",
   "execution_count": 1,
   "id": "8860ca39-2c3b-4f8c-b516-a9249973410b",
   "metadata": {},
   "outputs": [
    {
     "ename": "UnboundLocalError",
     "evalue": "cannot access local variable 's' where it is not associated with a value",
     "output_type": "error",
     "traceback": [
      "\u001b[1;31m---------------------------------------------------------------------------\u001b[0m",
      "\u001b[1;31mUnboundLocalError\u001b[0m                         Traceback (most recent call last)",
      "Cell \u001b[1;32mIn[1], line 6\u001b[0m\n\u001b[0;32m      4\u001b[0m     s\u001b[38;5;241m=\u001b[39m\u001b[38;5;124m\"\u001b[39m\u001b[38;5;124mi love coding\u001b[39m\u001b[38;5;124m\"\u001b[39m\n\u001b[0;32m      5\u001b[0m     \u001b[38;5;28mprint\u001b[39m(s)\n\u001b[1;32m----> 6\u001b[0m \u001b[43mcode\u001b[49m\u001b[43m(\u001b[49m\u001b[43m)\u001b[49m\n\u001b[0;32m      7\u001b[0m \u001b[38;5;28mprint\u001b[39m(s)\n",
      "Cell \u001b[1;32mIn[1], line 3\u001b[0m, in \u001b[0;36mcode\u001b[1;34m()\u001b[0m\n\u001b[0;32m      2\u001b[0m \u001b[38;5;28;01mdef\u001b[39;00m \u001b[38;5;21mcode\u001b[39m():\n\u001b[1;32m----> 3\u001b[0m     \u001b[38;5;28mprint\u001b[39m(\u001b[43ms\u001b[49m)\n\u001b[0;32m      4\u001b[0m     s\u001b[38;5;241m=\u001b[39m\u001b[38;5;124m\"\u001b[39m\u001b[38;5;124mi love coding\u001b[39m\u001b[38;5;124m\"\u001b[39m\n\u001b[0;32m      5\u001b[0m     \u001b[38;5;28mprint\u001b[39m(s)\n",
      "\u001b[1;31mUnboundLocalError\u001b[0m: cannot access local variable 's' where it is not associated with a value"
     ]
    }
   ],
   "source": [
    "#s=\"i am good in programming\"\n",
    "def code():\n",
    "    print(s)\n",
    "    s=\"i love coding\"\n",
    "    print(s)\n",
    "code()\n",
    "print(s)"
   ]
  },
  {
   "cell_type": "code",
   "execution_count": 2,
   "id": "8634ec9b-fce9-4ae0-8ed8-e7f3e9f310f6",
   "metadata": {},
   "outputs": [
    {
     "name": "stdout",
     "output_type": "stream",
     "text": [
      "i love coding\n",
      "i am good in programming\n"
     ]
    }
   ],
   "source": []
  },
  {
   "cell_type": "code",
   "execution_count": null,
   "id": "098579d1-aaa9-4f4d-b2a7-094b8cd23e1c",
   "metadata": {},
   "outputs": [],
   "source": []
  },
  {
   "cell_type": "code",
   "execution_count": 3,
   "id": "41420ac3-fb1d-407f-a2ce-387669643fb0",
   "metadata": {},
   "outputs": [
    {
     "ename": "UnboundLocalError",
     "evalue": "cannot access local variable 's' where it is not associated with a value",
     "output_type": "error",
     "traceback": [
      "\u001b[1;31m---------------------------------------------------------------------------\u001b[0m",
      "\u001b[1;31mUnboundLocalError\u001b[0m                         Traceback (most recent call last)",
      "Cell \u001b[1;32mIn[3], line 6\u001b[0m\n\u001b[0;32m      4\u001b[0m     s\u001b[38;5;241m=\u001b[39m\u001b[38;5;124m\"\u001b[39m\u001b[38;5;124mi love coding\u001b[39m\u001b[38;5;124m\"\u001b[39m\n\u001b[0;32m      5\u001b[0m     \u001b[38;5;28mprint\u001b[39m(s)\n\u001b[1;32m----> 6\u001b[0m \u001b[43mcode\u001b[49m\u001b[43m(\u001b[49m\u001b[43m)\u001b[49m\n\u001b[0;32m      7\u001b[0m \u001b[38;5;28mprint\u001b[39m(s)\n",
      "Cell \u001b[1;32mIn[3], line 3\u001b[0m, in \u001b[0;36mcode\u001b[1;34m()\u001b[0m\n\u001b[0;32m      2\u001b[0m \u001b[38;5;28;01mdef\u001b[39;00m \u001b[38;5;21mcode\u001b[39m():\n\u001b[1;32m----> 3\u001b[0m     \u001b[38;5;28mprint\u001b[39m(\u001b[43ms\u001b[49m)\n\u001b[0;32m      4\u001b[0m     s\u001b[38;5;241m=\u001b[39m\u001b[38;5;124m\"\u001b[39m\u001b[38;5;124mi love coding\u001b[39m\u001b[38;5;124m\"\u001b[39m\n\u001b[0;32m      5\u001b[0m     \u001b[38;5;28mprint\u001b[39m(s)\n",
      "\u001b[1;31mUnboundLocalError\u001b[0m: cannot access local variable 's' where it is not associated with a value"
     ]
    }
   ],
   "source": [
    "#s=\"i am good in programming\"\n",
    "def code():\n",
    "    print(s)\n",
    "    s=\"i love coding\"\n",
    "    print(s)\n",
    "code()\n",
    "print(s)"
   ]
  },
  {
   "cell_type": "code",
   "execution_count": 6,
   "id": "ce4d585f-0dd8-4f91-946e-6726aa015d27",
   "metadata": {},
   "outputs": [
    {
     "name": "stdout",
     "output_type": "stream",
     "text": [
      "10\n",
      "1\n"
     ]
    }
   ],
   "source": [
    "x=1\n",
    "def code():\n",
    "    #print(s)\n",
    "    x=10\n",
    "    #x=x+1\n",
    "    print(x)\n",
    "code()\n",
    "print(x)"
   ]
  },
  {
   "cell_type": "code",
   "execution_count": 7,
   "id": "0fac9349-e110-4b79-b6e7-1c7992f822b9",
   "metadata": {},
   "outputs": [
    {
     "ename": "UnboundLocalError",
     "evalue": "cannot access local variable 's' where it is not associated with a value",
     "output_type": "error",
     "traceback": [
      "\u001b[1;31m---------------------------------------------------------------------------\u001b[0m",
      "\u001b[1;31mUnboundLocalError\u001b[0m                         Traceback (most recent call last)",
      "Cell \u001b[1;32mIn[7], line 6\u001b[0m\n\u001b[0;32m      4\u001b[0m     s\u001b[38;5;241m=\u001b[39m\u001b[38;5;124m\"\u001b[39m\u001b[38;5;124mi love coding\u001b[39m\u001b[38;5;124m\"\u001b[39m\n\u001b[0;32m      5\u001b[0m     \u001b[38;5;28mprint\u001b[39m(s)\n\u001b[1;32m----> 6\u001b[0m \u001b[43mcode\u001b[49m\u001b[43m(\u001b[49m\u001b[43m)\u001b[49m\n\u001b[0;32m      7\u001b[0m s\u001b[38;5;241m=\u001b[39m\u001b[38;5;124m\"\u001b[39m\u001b[38;5;124mi am good in programming\u001b[39m\u001b[38;5;124m\"\u001b[39m\n\u001b[0;32m      8\u001b[0m \u001b[38;5;28mprint\u001b[39m(s)\n",
      "Cell \u001b[1;32mIn[7], line 3\u001b[0m, in \u001b[0;36mcode\u001b[1;34m()\u001b[0m\n\u001b[0;32m      2\u001b[0m \u001b[38;5;28;01mdef\u001b[39;00m \u001b[38;5;21mcode\u001b[39m():\n\u001b[1;32m----> 3\u001b[0m     \u001b[38;5;28mprint\u001b[39m(\u001b[43ms\u001b[49m)\n\u001b[0;32m      4\u001b[0m     s\u001b[38;5;241m=\u001b[39m\u001b[38;5;124m\"\u001b[39m\u001b[38;5;124mi love coding\u001b[39m\u001b[38;5;124m\"\u001b[39m\n\u001b[0;32m      5\u001b[0m     \u001b[38;5;28mprint\u001b[39m(s)\n",
      "\u001b[1;31mUnboundLocalError\u001b[0m: cannot access local variable 's' where it is not associated with a value"
     ]
    }
   ],
   "source": [
    "#s=\"i am good in programming\"\n",
    "def code():\n",
    "    print(s)\n",
    "    s=\"i love coding\"\n",
    "    print(s)\n",
    "code()\n",
    "s=\"i am good in programming\"\n",
    "print(s)"
   ]
  },
  {
   "cell_type": "code",
   "execution_count": 10,
   "id": "a06d86ca-7360-453a-94ad-2141b979f507",
   "metadata": {},
   "outputs": [
    {
     "name": "stdout",
     "output_type": "stream",
     "text": [
      "1\n",
      "1\n",
      "i am good in programming\n"
     ]
    }
   ],
   "source": [
    "#s=\"i am good in programming\"\n",
    "def code():\n",
    "    print(s)\n",
    "    #s=\"i love coding\"\n",
    "    print(s)\n",
    "code()\n",
    "s=\"i am good in programming\"\n",
    "print(s)"
   ]
  },
  {
   "cell_type": "code",
   "execution_count": 9,
   "id": "cab64b17-3ea6-4975-aa75-8d95d0bfcc11",
   "metadata": {},
   "outputs": [],
   "source": [
    "s=1"
   ]
  },
  {
   "cell_type": "code",
   "execution_count": 13,
   "id": "fc823165-e523-412f-bfd7-f45d257f54ee",
   "metadata": {},
   "outputs": [
    {
     "name": "stdout",
     "output_type": "stream",
     "text": [
      "1\n",
      "2\n"
     ]
    },
    {
     "ename": "UnboundLocalError",
     "evalue": "cannot access local variable 's' where it is not associated with a value",
     "output_type": "error",
     "traceback": [
      "\u001b[1;31m---------------------------------------------------------------------------\u001b[0m",
      "\u001b[1;31mUnboundLocalError\u001b[0m                         Traceback (most recent call last)",
      "Cell \u001b[1;32mIn[13], line 11\u001b[0m\n\u001b[0;32m      9\u001b[0m     s\u001b[38;5;241m=\u001b[39m\u001b[38;5;124m\"\u001b[39m\u001b[38;5;124mi love coding\u001b[39m\u001b[38;5;124m\"\u001b[39m\n\u001b[0;32m     10\u001b[0m     \u001b[38;5;28mprint\u001b[39m(s)\n\u001b[1;32m---> 11\u001b[0m \u001b[43mcode\u001b[49m\u001b[43m(\u001b[49m\u001b[43m)\u001b[49m\n\u001b[0;32m     12\u001b[0m \u001b[38;5;28mprint\u001b[39m(s)\n",
      "Cell \u001b[1;32mIn[13], line 8\u001b[0m, in \u001b[0;36mcode\u001b[1;34m()\u001b[0m\n\u001b[0;32m      6\u001b[0m \u001b[38;5;28mprint\u001b[39m(p)\n\u001b[0;32m      7\u001b[0m \u001b[38;5;28mprint\u001b[39m(q)\n\u001b[1;32m----> 8\u001b[0m \u001b[38;5;28mprint\u001b[39m(\u001b[43ms\u001b[49m)\n\u001b[0;32m      9\u001b[0m s\u001b[38;5;241m=\u001b[39m\u001b[38;5;124m\"\u001b[39m\u001b[38;5;124mi love coding\u001b[39m\u001b[38;5;124m\"\u001b[39m\n\u001b[0;32m     10\u001b[0m \u001b[38;5;28mprint\u001b[39m(s)\n",
      "\u001b[1;31mUnboundLocalError\u001b[0m: cannot access local variable 's' where it is not associated with a value"
     ]
    }
   ],
   "source": [
    "del s\n",
    "s=\"i am good in programming\"\n",
    "def code():\n",
    "    p=1\n",
    "    q=2\n",
    "    print(p)\n",
    "    print(q)\n",
    "    print(s)\n",
    "    s=\"i love coding\"\n",
    "    print(s)\n",
    "code()\n",
    "print(s)"
   ]
  },
  {
   "cell_type": "code",
   "execution_count": 4,
   "id": "c6f301b5-0af6-4afb-9447-27db9b1c963d",
   "metadata": {},
   "outputs": [
    {
     "ename": "UnboundLocalError",
     "evalue": "cannot access local variable 'y' where it is not associated with a value",
     "output_type": "error",
     "traceback": [
      "\u001b[1;31m---------------------------------------------------------------------------\u001b[0m",
      "\u001b[1;31mUnboundLocalError\u001b[0m                         Traceback (most recent call last)",
      "Cell \u001b[1;32mIn[4], line 9\u001b[0m\n\u001b[0;32m      7\u001b[0m     \u001b[38;5;28mprint\u001b[39m(x)\n\u001b[0;32m      8\u001b[0m     \u001b[38;5;28mprint\u001b[39m(y)\n\u001b[1;32m----> 9\u001b[0m \u001b[43mf\u001b[49m\u001b[43m(\u001b[49m\u001b[38;5;241;43m4\u001b[39;49m\u001b[43m)\u001b[49m\n",
      "Cell \u001b[1;32mIn[4], line 6\u001b[0m, in \u001b[0;36mf\u001b[1;34m(x)\u001b[0m\n\u001b[0;32m      3\u001b[0m \u001b[38;5;28;01mdef\u001b[39;00m \u001b[38;5;21mf\u001b[39m(x):\n\u001b[0;32m      4\u001b[0m     \u001b[38;5;66;03m#print(x)\u001b[39;00m\n\u001b[0;32m      5\u001b[0m     \u001b[38;5;66;03m#print(y)\u001b[39;00m\n\u001b[1;32m----> 6\u001b[0m     x,y\u001b[38;5;241m=\u001b[39m\u001b[43my\u001b[49m,x\n\u001b[0;32m      7\u001b[0m     \u001b[38;5;28mprint\u001b[39m(x)\n\u001b[0;32m      8\u001b[0m     \u001b[38;5;28mprint\u001b[39m(y)\n",
      "\u001b[1;31mUnboundLocalError\u001b[0m: cannot access local variable 'y' where it is not associated with a value"
     ]
    }
   ],
   "source": [
    "x=2\n",
    "y=3\n",
    "def f(x):\n",
    "    #print(x)\n",
    "    #print(y)\n",
    "    x,y=y,x\n",
    "    print(x)\n",
    "    print(y)\n",
    "f(4)"
   ]
  },
  {
   "cell_type": "code",
   "execution_count": 5,
   "id": "133ab538-0421-4d75-8135-ab1c2f79142b",
   "metadata": {},
   "outputs": [
    {
     "name": "stdout",
     "output_type": "stream",
     "text": [
      "42 17 4 17\n",
      "42 15 3 4\n"
     ]
    }
   ],
   "source": [
    "def foo(x, y):\n",
    "    global a\n",
    "    a = 42\n",
    "    x,y = y,x\n",
    "    b = 33\n",
    "    b = 17\n",
    "    c = 100\n",
    "    print(a,b,x,y)\n",
    "\n",
    "a, b, x, y = 1, 15, 3,4 \n",
    "foo(17, 4)\n",
    "print(a, b, x, y)\n"
   ]
  },
  {
   "cell_type": "markdown",
   "id": "f235248b-fb15-4e1e-b188-3244ad8e6664",
   "metadata": {},
   "source": [
    "### lambda function"
   ]
  },
  {
   "cell_type": "code",
   "execution_count": 6,
   "id": "eea471e7-f3c0-46e2-9160-e46c007a3016",
   "metadata": {},
   "outputs": [
    {
     "name": "stdout",
     "output_type": "stream",
     "text": [
      "5\n"
     ]
    }
   ],
   "source": [
    "print((lambda a,b:a+b)(2,3))"
   ]
  },
  {
   "cell_type": "code",
   "execution_count": 21,
   "id": "3463a8bf-3fa7-464e-9d2e-aa4bc73307bb",
   "metadata": {},
   "outputs": [
    {
     "data": {
      "text/plain": [
       "5"
      ]
     },
     "execution_count": 21,
     "metadata": {},
     "output_type": "execute_result"
    }
   ],
   "source": [
    "(lambda a,b:a+b)(2,3)"
   ]
  },
  {
   "cell_type": "code",
   "execution_count": 32,
   "id": "a4161b8d-1d0f-4fd5-9aac-3c77198b6044",
   "metadata": {},
   "outputs": [],
   "source": [
    "mylambdafunciton=lambda a,b:a+b"
   ]
  },
  {
   "cell_type": "code",
   "execution_count": 33,
   "id": "d6989d50-42c2-4a01-8b63-d3857532d4c8",
   "metadata": {},
   "outputs": [
    {
     "data": {
      "text/plain": [
       "25"
      ]
     },
     "execution_count": 33,
     "metadata": {},
     "output_type": "execute_result"
    }
   ],
   "source": [
    "mylambdafunciton(10,15)"
   ]
  },
  {
   "cell_type": "code",
   "execution_count": 34,
   "id": "bbccb6b6-02e9-4240-ac42-1932dc29ca85",
   "metadata": {},
   "outputs": [
    {
     "data": {
      "text/plain": [
       "function"
      ]
     },
     "execution_count": 34,
     "metadata": {},
     "output_type": "execute_result"
    }
   ],
   "source": [
    "type(mylambdafunciton)"
   ]
  },
  {
   "cell_type": "code",
   "execution_count": 35,
   "id": "c074a11a-bf00-4aff-9993-32cddfaf1a94",
   "metadata": {},
   "outputs": [
    {
     "data": {
      "text/plain": [
       "<function __main__.<lambda>(a, b)>"
      ]
     },
     "execution_count": 35,
     "metadata": {},
     "output_type": "execute_result"
    }
   ],
   "source": [
    "mylambdafunciton"
   ]
  },
  {
   "cell_type": "code",
   "execution_count": 36,
   "id": "0767337b-1d2e-4335-9bba-edaacb232917",
   "metadata": {},
   "outputs": [
    {
     "name": "stdout",
     "output_type": "stream",
     "text": [
      "<function <lambda> at 0x0000027516A41D00>\n"
     ]
    }
   ],
   "source": [
    "print(mylambdafunciton)"
   ]
  },
  {
   "cell_type": "code",
   "execution_count": 22,
   "id": "dbbff477-311e-4120-ae01-a69388f8bb0f",
   "metadata": {},
   "outputs": [],
   "source": [
    "x=(lambda a,b:a+b)(2,3)"
   ]
  },
  {
   "cell_type": "code",
   "execution_count": 23,
   "id": "f45bbd5a-b041-466c-92f2-0fa63a960e6e",
   "metadata": {},
   "outputs": [
    {
     "data": {
      "text/plain": [
       "int"
      ]
     },
     "execution_count": 23,
     "metadata": {},
     "output_type": "execute_result"
    }
   ],
   "source": [
    "type(x)"
   ]
  },
  {
   "cell_type": "code",
   "execution_count": 24,
   "id": "7f0af225-b305-4313-8972-cdafaffcea71",
   "metadata": {},
   "outputs": [
    {
     "name": "stdout",
     "output_type": "stream",
     "text": [
      "5\n"
     ]
    }
   ],
   "source": [
    "print(x)"
   ]
  },
  {
   "cell_type": "markdown",
   "id": "0c581da0-e42c-4f5f-9a20-5cdd0bead964",
   "metadata": {},
   "source": [
    "### wap to take two value from user and find a squre of these values and use lambda funciton for this operation."
   ]
  },
  {
   "cell_type": "code",
   "execution_count": 52,
   "id": "8fa509b0-4d41-4a90-a295-dcc3836c7541",
   "metadata": {},
   "outputs": [
    {
     "name": "stdin",
     "output_type": "stream",
     "text": [
      "enter first number 4\n",
      "enter second number 5\n"
     ]
    },
    {
     "data": {
      "text/plain": [
       "(16, 25)"
      ]
     },
     "execution_count": 52,
     "metadata": {},
     "output_type": "execute_result"
    }
   ],
   "source": [
    "a=int(input(\"enter first number\"))\n",
    "b=int(input(\"enter second number\"))\n",
    "squre=lambda a,b:(a**2,b**2)\n",
    "squre(a,b)"
   ]
  },
  {
   "cell_type": "code",
   "execution_count": 24,
   "id": "6e797a65-a06d-4d9e-84d7-26f349a9f682",
   "metadata": {},
   "outputs": [
    {
     "name": "stdin",
     "output_type": "stream",
     "text": [
      "enter first number 8\n",
      "enter second number 9\n"
     ]
    },
    {
     "data": {
      "text/plain": [
       "('square of a and b is', 64, 81)"
      ]
     },
     "execution_count": 24,
     "metadata": {},
     "output_type": "execute_result"
    }
   ],
   "source": [
    "a=int(input(\"enter first number\"))\n",
    "b=int(input(\"enter second number\"))\n",
    "squre=lambda a,b:('square of a and b is',a**2,b**2)\n",
    "squre(a,b)"
   ]
  },
  {
   "cell_type": "code",
   "execution_count": 25,
   "id": "21c497f2-0d46-4eca-a6f1-7768b767886a",
   "metadata": {},
   "outputs": [
    {
     "data": {
      "text/plain": [
       "function"
      ]
     },
     "execution_count": 25,
     "metadata": {},
     "output_type": "execute_result"
    }
   ],
   "source": [
    "type(squre)"
   ]
  },
  {
   "cell_type": "code",
   "execution_count": 20,
   "id": "f7f72993-df40-44c9-83bf-709663ed3117",
   "metadata": {},
   "outputs": [
    {
     "name": "stdin",
     "output_type": "stream",
     "text": [
      "enter first number 3\n",
      "enter second number 4\n"
     ]
    }
   ],
   "source": [
    "a=int(input(\"enter first number\"))\n",
    "b=int(input(\"enter second number\"))\n",
    "squre=(lambda a,b:('square of a and b is',a**2,b**2))(2,3)\n"
   ]
  },
  {
   "cell_type": "code",
   "execution_count": 21,
   "id": "99795080-f1bf-4346-81fc-00c5a7205d9e",
   "metadata": {},
   "outputs": [
    {
     "data": {
      "text/plain": [
       "('square of a and b is', 4, 9)"
      ]
     },
     "execution_count": 21,
     "metadata": {},
     "output_type": "execute_result"
    }
   ],
   "source": [
    "squre\n"
   ]
  },
  {
   "cell_type": "code",
   "execution_count": 22,
   "id": "2d056548-9ed5-41c9-89cf-61c219515acf",
   "metadata": {},
   "outputs": [
    {
     "data": {
      "text/plain": [
       "tuple"
      ]
     },
     "execution_count": 22,
     "metadata": {},
     "output_type": "execute_result"
    }
   ],
   "source": [
    "type(squre)"
   ]
  },
  {
   "cell_type": "markdown",
   "id": "aaf2d37b-cdaa-41b4-a0bc-9c2c3d9d4183",
   "metadata": {},
   "source": [
    "### Write a lambda function that returns the first character of the string passed to it as argument"
   ]
  },
  {
   "cell_type": "code",
   "execution_count": 26,
   "id": "6df87688-7bb5-4ef3-9eea-13b04c1f64cd",
   "metadata": {},
   "outputs": [
    {
     "name": "stdin",
     "output_type": "stream",
     "text": [
      "enter any string himanshu\n"
     ]
    },
    {
     "data": {
      "text/plain": [
       "'h'"
      ]
     },
     "execution_count": 26,
     "metadata": {},
     "output_type": "execute_result"
    }
   ],
   "source": [
    "mystring=input('enter any string')\n",
    "first_char=lambda a:(a[0])\n",
    "first_char(mystring)"
   ]
  },
  {
   "cell_type": "code",
   "execution_count": 27,
   "id": "0d56f0e7-ef91-49a1-bd63-328612301757",
   "metadata": {},
   "outputs": [
    {
     "name": "stdin",
     "output_type": "stream",
     "text": [
      "enter any string himansu\n"
     ]
    },
    {
     "data": {
      "text/plain": [
       "'u'"
      ]
     },
     "execution_count": 27,
     "metadata": {},
     "output_type": "execute_result"
    }
   ],
   "source": [
    "mystring=input('enter any string')\n",
    "first_char=lambda a:(a[-1])\n",
    "first_char(mystring)"
   ]
  },
  {
   "cell_type": "markdown",
   "id": "06f076ee-3ad2-4d96-aa0d-b69c77a4f678",
   "metadata": {},
   "source": [
    "### Write a lambda function that returns True or False depending on whether the number passed to it as argument is even or odd "
   ]
  },
  {
   "cell_type": "code",
   "execution_count": 33,
   "id": "5186d220-b1ea-4f8c-9212-32f049d65fe4",
   "metadata": {},
   "outputs": [
    {
     "name": "stdin",
     "output_type": "stream",
     "text": [
      "enter any nu8mber 56\n"
     ]
    },
    {
     "data": {
      "text/plain": [
       "'true'"
      ]
     },
     "execution_count": 33,
     "metadata": {},
     "output_type": "execute_result"
    }
   ],
   "source": [
    "number=int(input('enter any nu8mber'))\n",
    "e_O=lambda number:('true' if number%2==0 else 'false')\n",
    "e_O(number)"
   ]
  },
  {
   "cell_type": "code",
   "execution_count": 36,
   "id": "3d1f9f30-48c9-44ac-8ff1-596d5babb7ac",
   "metadata": {},
   "outputs": [],
   "source": [
    "evenorodd=lambda n:n%2==0"
   ]
  },
  {
   "cell_type": "code",
   "execution_count": 37,
   "id": "aa650d5d-1e0b-4dfb-921c-2ba6a68d86f6",
   "metadata": {},
   "outputs": [
    {
     "data": {
      "text/plain": [
       "False"
      ]
     },
     "execution_count": 37,
     "metadata": {},
     "output_type": "execute_result"
    }
   ],
   "source": [
    "evenorodd(5)"
   ]
  },
  {
   "cell_type": "markdown",
   "id": "d1e08e5b-d168-48a7-84b3-253c5e1b4b57",
   "metadata": {},
   "source": [
    "### Write a lambda function that accepts 2 arguments and returns the greater amongst them"
   ]
  },
  {
   "cell_type": "code",
   "execution_count": 39,
   "id": "b58cdeb6-0c74-494d-86a8-d7343d603b09",
   "metadata": {},
   "outputs": [
    {
     "name": "stdin",
     "output_type": "stream",
     "text": [
      ". himanshu\n",
      ". mishra\n"
     ]
    },
    {
     "data": {
      "text/plain": [
       "'mishra'"
      ]
     },
     "execution_count": 39,
     "metadata": {},
     "output_type": "execute_result"
    }
   ],
   "source": [
    "a=input('.')\n",
    "b=input('.')\n",
    "greater=lambda p,q:(p if p>q else q)\n",
    "greater(a,b)"
   ]
  },
  {
   "cell_type": "markdown",
   "id": "a2cdf07d-c7eb-4f84-9fa9-b58670166d39",
   "metadata": {},
   "source": [
    "# map()"
   ]
  },
  {
   "cell_type": "code",
   "execution_count": 40,
   "id": "44104a7e-1ab2-4008-898a-d61d3d0d9445",
   "metadata": {},
   "outputs": [],
   "source": [
    "#map(function,iterable)\n",
    "#itrable=string,list,tuple,set,dict,range"
   ]
  },
  {
   "cell_type": "code",
   "execution_count": 41,
   "id": "8fa0fe78-12a3-4139-bcfa-73f7f92dbc6e",
   "metadata": {},
   "outputs": [
    {
     "name": "stdout",
     "output_type": "stream",
     "text": [
      "1\n",
      "4\n",
      "9\n",
      "16\n",
      "25\n"
     ]
    }
   ],
   "source": [
    "def squre(n):\n",
    "    return n**2\n",
    "mylist=[1,2,3,4,5]\n",
    "for i in mylist:\n",
    "    print(squre(i))"
   ]
  },
  {
   "cell_type": "code",
   "execution_count": 37,
   "id": "ce749c23-d56e-43aa-9e6d-e81ca445aba0",
   "metadata": {},
   "outputs": [
    {
     "data": {
      "text/plain": [
       "<map at 0x275165cf160>"
      ]
     },
     "execution_count": 37,
     "metadata": {},
     "output_type": "execute_result"
    }
   ],
   "source": [
    "def squre(n):\n",
    "    return n**2\n",
    "mylist=[1,2,3,4,5]\n",
    "x=map(squre,mylist)\n",
    "x"
   ]
  },
  {
   "cell_type": "code",
   "execution_count": 118,
   "id": "a8496797-8202-4d11-929b-3e8dbe72f860",
   "metadata": {},
   "outputs": [
    {
     "data": {
      "text/plain": [
       "[1, 4, 9, 16, 25]"
      ]
     },
     "execution_count": 118,
     "metadata": {},
     "output_type": "execute_result"
    }
   ],
   "source": [
    "list(x)"
   ]
  },
  {
   "cell_type": "code",
   "execution_count": 119,
   "id": "d9fa3243-c5dc-4d3f-b4b5-21deeda52375",
   "metadata": {},
   "outputs": [
    {
     "data": {
      "text/plain": [
       "[]"
      ]
     },
     "execution_count": 119,
     "metadata": {},
     "output_type": "execute_result"
    }
   ],
   "source": [
    "list(x)"
   ]
  },
  {
   "cell_type": "code",
   "execution_count": 120,
   "id": "3e96f1cf-c1d1-4c19-ae85-f69dde6e7017",
   "metadata": {},
   "outputs": [
    {
     "data": {
      "text/plain": [
       "()"
      ]
     },
     "execution_count": 120,
     "metadata": {},
     "output_type": "execute_result"
    }
   ],
   "source": [
    "tuple(x)"
   ]
  },
  {
   "cell_type": "code",
   "execution_count": 122,
   "id": "4fd3772c-6182-436a-8e95-821e0a709a96",
   "metadata": {},
   "outputs": [
    {
     "data": {
      "text/plain": [
       "0"
      ]
     },
     "execution_count": 122,
     "metadata": {},
     "output_type": "execute_result"
    }
   ],
   "source": [
    "len(list(x))"
   ]
  },
  {
   "cell_type": "code",
   "execution_count": 110,
   "id": "6583626e-88a6-480a-aabb-b583a040b160",
   "metadata": {},
   "outputs": [],
   "source": [
    "def p(a):\n",
    "    return a**2\n",
    "x=p"
   ]
  },
  {
   "cell_type": "code",
   "execution_count": 111,
   "id": "f66cc103-649b-43b7-9e58-412fe460b320",
   "metadata": {},
   "outputs": [
    {
     "data": {
      "text/plain": [
       "function"
      ]
     },
     "execution_count": 111,
     "metadata": {},
     "output_type": "execute_result"
    }
   ],
   "source": [
    "type(x)"
   ]
  },
  {
   "cell_type": "code",
   "execution_count": 115,
   "id": "b1622f54-75e0-4561-a10e-b5570c5f504a",
   "metadata": {},
   "outputs": [
    {
     "data": {
      "text/plain": [
       "'25'"
      ]
     },
     "execution_count": 115,
     "metadata": {},
     "output_type": "execute_result"
    }
   ],
   "source": [
    "str(x(5))"
   ]
  },
  {
   "cell_type": "code",
   "execution_count": 116,
   "id": "f406352b-7ecf-49fd-a8a5-2c2d86d699f3",
   "metadata": {},
   "outputs": [
    {
     "data": {
      "text/plain": [
       "'25'"
      ]
     },
     "execution_count": 116,
     "metadata": {},
     "output_type": "execute_result"
    }
   ],
   "source": [
    "str(x(5))"
   ]
  },
  {
   "cell_type": "code",
   "execution_count": null,
   "id": "abcdc190-8fc6-4133-a149-aa5acdc98302",
   "metadata": {},
   "outputs": [],
   "source": []
  },
  {
   "cell_type": "markdown",
   "id": "d916e8a0-90bf-4ee7-9261-7794bfbea2df",
   "metadata": {},
   "source": [
    "### Write a function called inspect( ) that accepts a string as argument and returns the word EVEN if the string is of even length and returns it’s first character if the string is of odd length\n",
    "\n",
    "### Now call this function for first 3 month names"
   ]
  },
  {
   "cell_type": "code",
   "execution_count": 49,
   "id": "6d234575-2b20-405e-b776-4ac0ae99c93a",
   "metadata": {},
   "outputs": [
    {
     "data": {
      "text/plain": [
       "['j', 'even', 'm']"
      ]
     },
     "execution_count": 49,
     "metadata": {},
     "output_type": "execute_result"
    }
   ],
   "source": [
    "def inspect(a):\n",
    "    if len(a)%2==0:\n",
    "        return 'even'\n",
    "    else:\n",
    "        return a[0]\n",
    "months=['january','february','march']\n",
    "list(map(inspect,months))"
   ]
  },
  {
   "cell_type": "markdown",
   "id": "a5ab955d-df8e-4f33-8892-3e3f788f1a82",
   "metadata": {},
   "source": [
    "# filter"
   ]
  },
  {
   "cell_type": "code",
   "execution_count": null,
   "id": "cb391439-521c-4578-8b0f-bc715bf71a7d",
   "metadata": {},
   "outputs": [],
   "source": [
    "filter(funct,itrable)\n",
    "# it is filter out the values"
   ]
  },
  {
   "cell_type": "code",
   "execution_count": 51,
   "id": "9ffe4652-583c-4129-a047-a2267d2efe8b",
   "metadata": {},
   "outputs": [],
   "source": [
    "mylist=[1,2,3,4,5,6,7,8,9,10]\n",
    "# i want to filter only even number"
   ]
  },
  {
   "cell_type": "code",
   "execution_count": 52,
   "id": "d194d9f7-9091-4f78-b70b-fa8e6b5e9846",
   "metadata": {},
   "outputs": [
    {
     "name": "stdout",
     "output_type": "stream",
     "text": [
      "2\n",
      "4\n",
      "6\n",
      "8\n",
      "10\n"
     ]
    }
   ],
   "source": [
    "def check_even(n):\n",
    "    return n%2==0\n",
    "mylist=[1,2,3,4,5,6,7,8,9,10]\n",
    "for i in mylist:\n",
    "    if check_even(i):\n",
    "        print(i)"
   ]
  },
  {
   "cell_type": "code",
   "execution_count": 54,
   "id": "42e8ba6e-2ba9-4818-a2af-064270334856",
   "metadata": {},
   "outputs": [
    {
     "name": "stdout",
     "output_type": "stream",
     "text": [
      "[2, 4, 6, 8, 10]\n"
     ]
    }
   ],
   "source": [
    "def check_even(n):\n",
    "    return n%2==0\n",
    "mylist=[1,2,3,4,5,6,7,8,9,10]\n",
    "x=filter(check_even,mylist)\n",
    "#type(x)\n",
    "#x\n",
    "print(list(x))\n",
    "\n"
   ]
  },
  {
   "cell_type": "code",
   "execution_count": 50,
   "id": "6efa7431-d811-49fa-80c2-e9921ca68106",
   "metadata": {},
   "outputs": [
    {
     "name": "stdout",
     "output_type": "stream",
     "text": [
      "[2, 4, 6, 8, 10]\n"
     ]
    }
   ],
   "source": [
    "def check_even(n):\n",
    "    return n%2==0\n",
    "mylist=[1,2,3,4,5,6,7,8,9,10]\n",
    "y=filter(check_even,mylist)\n",
    "#type(x)\n",
    "#x\n",
    "\n",
    "print(list(y))\n"
   ]
  },
  {
   "cell_type": "code",
   "execution_count": 51,
   "id": "042501f4-d5a8-427e-bfe5-274c359b3f05",
   "metadata": {},
   "outputs": [
    {
     "name": "stdout",
     "output_type": "stream",
     "text": [
      "[2, 4, 6, 8, 10]\n"
     ]
    }
   ],
   "source": [
    "print(list(x))"
   ]
  },
  {
   "cell_type": "code",
   "execution_count": 52,
   "id": "b79ecf2e-c671-482d-acf9-cdcb5329aa5f",
   "metadata": {},
   "outputs": [
    {
     "name": "stdout",
     "output_type": "stream",
     "text": [
      "[]\n"
     ]
    }
   ],
   "source": [
    "print(list(y))"
   ]
  },
  {
   "cell_type": "code",
   "execution_count": 53,
   "id": "930bdec9-de04-47fd-8f37-61481d356c5b",
   "metadata": {},
   "outputs": [
    {
     "name": "stdout",
     "output_type": "stream",
     "text": [
      "[]\n"
     ]
    }
   ],
   "source": [
    "print(list(x))"
   ]
  },
  {
   "cell_type": "code",
   "execution_count": 45,
   "id": "e91d89d1-0d6c-4599-b5ba-8e35e1408604",
   "metadata": {},
   "outputs": [
    {
     "name": "stdout",
     "output_type": "stream",
     "text": [
      "False\n",
      "True\n",
      "False\n",
      "True\n",
      "False\n",
      "True\n",
      "False\n",
      "True\n",
      "False\n",
      "True\n"
     ]
    },
    {
     "data": {
      "text/plain": [
       "[1, 2, 3, 4, 5, 6, 7, 8, 9, 10]"
      ]
     },
     "execution_count": 45,
     "metadata": {},
     "output_type": "execute_result"
    }
   ],
   "source": [
    "def check_even(n):\n",
    "    print(n % 2 == 0) \n",
    "    return 1\n",
    "\n",
    "mylist = [1, 2, 3, 4, 5, 6, 7, 8, 9, 10]\n",
    "x = filter(check_even, mylist)\n",
    "list(x)\n",
    "\n"
   ]
  },
  {
   "cell_type": "code",
   "execution_count": 98,
   "id": "fe702da8-9554-4f5d-aca4-5e07cac9441d",
   "metadata": {},
   "outputs": [
    {
     "data": {
      "text/plain": [
       "[False, True, False, True, False, True, False, True, False, True]"
      ]
     },
     "execution_count": 98,
     "metadata": {},
     "output_type": "execute_result"
    }
   ],
   "source": [
    "list(map(check_even,mylist))"
   ]
  },
  {
   "cell_type": "code",
   "execution_count": 101,
   "id": "d1b67789-5fac-4a20-b40b-6f03923dbd90",
   "metadata": {},
   "outputs": [
    {
     "name": "stdout",
     "output_type": "stream",
     "text": [
      "[2, 4, 6, 8, 10]\n",
      "[2, 4, 6, 8, 10]\n"
     ]
    }
   ],
   "source": [
    "print(list(filter(check_even,mylist)))\n",
    "print(list(filter(check_even,mylist)))"
   ]
  },
  {
   "cell_type": "code",
   "execution_count": 56,
   "id": "390e179e-ddb7-4523-9cee-826dedaac144",
   "metadata": {},
   "outputs": [
    {
     "data": {
      "text/plain": [
       "[1, 4, 9, 16, 25]"
      ]
     },
     "execution_count": 56,
     "metadata": {},
     "output_type": "execute_result"
    }
   ],
   "source": [
    "# wrire the same logic with lambda\n",
    "def squre(n):\n",
    "    return n**2\n",
    "mylist=[1,2,3,4,5]\n",
    "list(map(squre,mylist))"
   ]
  },
  {
   "cell_type": "code",
   "execution_count": 57,
   "id": "b9820849-eac3-48e8-a177-748e6c488783",
   "metadata": {},
   "outputs": [
    {
     "data": {
      "text/plain": [
       "[1, 4, 9, 16, 25, 36, 49, 64, 81, 100]"
      ]
     },
     "execution_count": 57,
     "metadata": {},
     "output_type": "execute_result"
    }
   ],
   "source": [
    "mylist=[1,2,3,4,5,6,7,8,9,10]\n",
    "list(map(lambda n:n**2,mylist))"
   ]
  },
  {
   "cell_type": "markdown",
   "id": "ef1f7d26-c055-4e7a-ad79-ec5631b6a90b",
   "metadata": {},
   "source": [
    "# Write a lambda expression that accepts a string as argument and returns it’s first character\n",
    "\n",
    "# Now use this lambda expression in map( ) function to work on for first 3 month names\n"
   ]
  },
  {
   "cell_type": "code",
   "execution_count": 58,
   "id": "6311a905-1ffe-4fd6-a4fa-3d9b32ac6f45",
   "metadata": {},
   "outputs": [
    {
     "data": {
      "text/plain": [
       "['j', 'f', 'm']"
      ]
     },
     "execution_count": 58,
     "metadata": {},
     "output_type": "execute_result"
    }
   ],
   "source": [
    "mylist=['january','february','march']\n",
    "list(map(lambda a:a[0],mylist))"
   ]
  },
  {
   "cell_type": "code",
   "execution_count": 59,
   "id": "81d59bdb-da02-48d9-8c30-badc54378cb8",
   "metadata": {},
   "outputs": [
    {
     "data": {
      "text/plain": [
       "['ODD', 'ODD', 'ODD', 'EVEN', 'EVEN']"
      ]
     },
     "execution_count": 59,
     "metadata": {},
     "output_type": "execute_result"
    }
   ],
   "source": [
    "list(map(lambda string: \"EVEN\" if len(string)%2==0 else \"ODD\",[\"januray\",\"febuary\",\"march\",\"june\",\"november\"]))"
   ]
  },
  {
   "cell_type": "markdown",
   "id": "76e810de-4ddc-4e88-8d75-2c452d2178de",
   "metadata": {},
   "source": [
    "# Write a lambda expression that accepts a character as argument and returns True if it is a vowel otherwise False\n",
    "\n",
    "# Now ask the user to input his/her name and display only the vowels in the name . In case the name does not contain any vowel display the message No vowels in your name\n"
   ]
  },
  {
   "cell_type": "code",
   "execution_count": 61,
   "id": "3ef649a9-1f9d-44e0-b932-ee719f2c71d2",
   "metadata": {},
   "outputs": [],
   "source": [
    "ch=lambda a:a in 'aeiou'"
   ]
  },
  {
   "cell_type": "code",
   "execution_count": 62,
   "id": "7ba61c89-baea-4b7e-b746-2deafe6059ea",
   "metadata": {},
   "outputs": [
    {
     "data": {
      "text/plain": [
       "True"
      ]
     },
     "execution_count": 62,
     "metadata": {},
     "output_type": "execute_result"
    }
   ],
   "source": [
    "ch('a')"
   ]
  },
  {
   "cell_type": "code",
   "execution_count": 92,
   "id": "07aef87f-5116-4696-95cd-0ec0386927c0",
   "metadata": {},
   "outputs": [
    {
     "name": "stdin",
     "output_type": "stream",
     "text": [
      "your name himanshu\n"
     ]
    },
    {
     "name": "stdout",
     "output_type": "stream",
     "text": [
      "[None, 'i', None, 'a', None, None, None, 'u']\n",
      "[None, 'i', None, 'a', None, None, None, 'u']\n"
     ]
    }
   ],
   "source": [
    "name=input(\"your name\")\n",
    "def check_vowel(name):\n",
    "    for i in name:\n",
    "        if i in 'aeiouAEIOU':\n",
    "            return i\n",
    "print(list(map(check_vowel,name)))\n",
    "print(list(map(check_vowel,name)))"
   ]
  },
  {
   "cell_type": "code",
   "execution_count": 125,
   "id": "a94d3996-30d9-43a8-8063-7a1b8dcdc6d3",
   "metadata": {},
   "outputs": [
    {
     "name": "stdin",
     "output_type": "stream",
     "text": [
      "write your name himanshu\n"
     ]
    },
    {
     "name": "stdout",
     "output_type": "stream",
     "text": [
      "vowels in your name are as follows: ['i', 'a', 'u']\n"
     ]
    }
   ],
   "source": [
    "mystring=input('write your name')\n",
    "vowel=filter((lambda ch:ch in 'aeiouAEIOU'),mystring)\n",
    "mylist=list(vowel)\n",
    "if len(mylist)==0:\n",
    "    print('there is no vowel in your name')\n",
    "else:\n",
    "    print('vowels in your name are as follows:',mylist)"
   ]
  },
  {
   "cell_type": "code",
   "execution_count": 12,
   "id": "6c4174b6-944e-4011-bd38-a6ce5a2abb85",
   "metadata": {},
   "outputs": [
    {
     "name": "stdin",
     "output_type": "stream",
     "text": [
      "write your name himanshu\n"
     ]
    },
    {
     "name": "stdout",
     "output_type": "stream",
     "text": [
      "['i', 'a', 'u']\n",
      "0\n"
     ]
    },
    {
     "data": {
      "text/plain": [
       "()"
      ]
     },
     "execution_count": 12,
     "metadata": {},
     "output_type": "execute_result"
    }
   ],
   "source": [
    "mystring=input('write your name')\n",
    "vowel=filter((lambda ch:ch in 'aeiouAEIOU'),mystring)\n",
    "print(list(vowel))\n",
    "print(len(list(vowel)))\n",
    "tuple(vowel)"
   ]
  },
  {
   "cell_type": "code",
   "execution_count": 4,
   "id": "df0c0c32-4b39-44b4-b070-896f5d9ba833",
   "metadata": {},
   "outputs": [
    {
     "name": "stdin",
     "output_type": "stream",
     "text": [
      "write your name himanshu\n"
     ]
    },
    {
     "name": "stdout",
     "output_type": "stream",
     "text": [
      "['i', 'a', 'u']\n",
      "3\n"
     ]
    }
   ],
   "source": [
    "mystring=input('write your name')\n",
    "vowel=filter((lambda ch:ch in 'aeiouAEIOU'),mystring)\n",
    "print(list(filter((lambda ch:ch in 'aeiouAEIOU'),mystring)))\n",
    "print(len(list(filter((lambda ch:ch in 'aeiouAEIOU'),mystring))))"
   ]
  },
  {
   "cell_type": "code",
   "execution_count": 82,
   "id": "f3b18092-2b8d-47e4-8394-cb4600344aa4",
   "metadata": {},
   "outputs": [
    {
     "name": "stdout",
     "output_type": "stream",
     "text": [
      "['i', 'a', 'u']\n",
      "0\n"
     ]
    }
   ],
   "source": [
    "mystring='himanshu'\n",
    "vowel=filter((lambda ch:ch in 'aeiouAEIOU'),mystring)\n",
    "print(list(vowel))\n",
    "print(len(list(vowel)))"
   ]
  },
  {
   "cell_type": "code",
   "execution_count": 83,
   "id": "49607e28-8240-4ba2-9c16-3797b5677ca7",
   "metadata": {},
   "outputs": [
    {
     "name": "stdout",
     "output_type": "stream",
     "text": [
      "['i', 'a', 'u']\n",
      "[]\n",
      "0\n"
     ]
    }
   ],
   "source": [
    "mystring='himanshu'\n",
    "vowel=filter((lambda ch:ch in 'aeiouAEIOU'),mystring)\n",
    "print(list(vowel))\n",
    "print(list(vowel))\n",
    "print(len(list(vowel)))"
   ]
  },
  {
   "cell_type": "code",
   "execution_count": 84,
   "id": "406651e5-abd8-4af3-8bf8-1fef8e022d9e",
   "metadata": {},
   "outputs": [
    {
     "name": "stdout",
     "output_type": "stream",
     "text": [
      "3\n"
     ]
    }
   ],
   "source": [
    "mystring='himanshu'\n",
    "vowel=filter((lambda ch:ch in 'aeiouAEIOU'),mystring)\n",
    "#print(list(vowel))\n",
    "#print(list(vowel))\n",
    "print(len(list(vowel)))"
   ]
  },
  {
   "cell_type": "code",
   "execution_count": 91,
   "id": "5adf4f7d-7e82-4a98-a236-916ecc449ee6",
   "metadata": {},
   "outputs": [
    {
     "name": "stdout",
     "output_type": "stream",
     "text": [
      "<filter object at 0x000001B4C15C4D90>\n",
      "3\n"
     ]
    }
   ],
   "source": [
    "mystring='himanshu'\n",
    "vowel=filter((lambda ch:ch in 'aeiouAEIOU'),mystring)\n",
    "#print(list(vowel))\n",
    "#print(list(vowel))\n",
    "print((vowel))\n",
    "print(len(tuple(vowel)))"
   ]
  },
  {
   "cell_type": "code",
   "execution_count": 135,
   "id": "0d7b7f76-c892-46f2-9e00-b077464be6e4",
   "metadata": {},
   "outputs": [
    {
     "name": "stdout",
     "output_type": "stream",
     "text": [
      "True\n",
      "False\n"
     ]
    }
   ],
   "source": [
    "# Conditional expression using if-else\n",
    "is_positive = lambda x: True if x > 0 else False\n",
    "\n",
    "print(is_positive(5))   # Outputs: True\n",
    "print(is_positive(-1))  # Outputs: False\n"
   ]
  },
  {
   "cell_type": "code",
   "execution_count": 134,
   "id": "1e90fa50-8d73-401b-8915-d08aee602a71",
   "metadata": {},
   "outputs": [
    {
     "ename": "SyntaxError",
     "evalue": "invalid syntax (2699825968.py, line 2)",
     "output_type": "error",
     "traceback": [
      "\u001b[1;36m  Cell \u001b[1;32mIn[134], line 2\u001b[1;36m\u001b[0m\n\u001b[1;33m    invalid_lambda = lambda x: (if x > 0: True)  # This will not work\u001b[0m\n\u001b[1;37m                                ^\u001b[0m\n\u001b[1;31mSyntaxError\u001b[0m\u001b[1;31m:\u001b[0m invalid syntax\n"
     ]
    }
   ],
   "source": [
    "# This is incorrect and will raise a SyntaxError\n",
    "invalid_lambda = lambda x: (if x > 0: True)  # This will not work\n"
   ]
  },
  {
   "cell_type": "code",
   "execution_count": 171,
   "id": "e11ebe92-2079-4b27-84a7-b95816faee81",
   "metadata": {},
   "outputs": [
    {
     "name": "stdout",
     "output_type": "stream",
     "text": [
      "1\n"
     ]
    },
    {
     "data": {
      "text/plain": [
       "1"
      ]
     },
     "execution_count": 171,
     "metadata": {},
     "output_type": "execute_result"
    }
   ],
   "source": [
    "def test():\n",
    "    x=[1,2,3,4,5,6,7,8,9]\n",
    "    for i in x:\n",
    "        print(i)\n",
    "        return i\n",
    "        \n",
    "            \n",
    "        print('hi')\n",
    "test()"
   ]
  },
  {
   "cell_type": "markdown",
   "id": "c6ebc911-0703-40f7-917d-ea802936ced6",
   "metadata": {},
   "source": [
    "# OOPS"
   ]
  },
  {
   "cell_type": "code",
   "execution_count": 21,
   "id": "f707a3d5-7991-48b8-81b7-a427370e8999",
   "metadata": {},
   "outputs": [],
   "source": [
    "class emp:\n",
    "    pass\n"
   ]
  },
  {
   "cell_type": "code",
   "execution_count": 22,
   "id": "e590bc83-c0f7-42c3-a30c-9b29578057ff",
   "metadata": {},
   "outputs": [],
   "source": [
    "himanshu=emp()"
   ]
  },
  {
   "cell_type": "raw",
   "id": "a954a36d-5e90-49f8-8fff-8a8f8a50d968",
   "metadata": {},
   "source": [
    "1. how to define class and object in python\n",
    "2. variables in class\n",
    "   instance variable or object variable(done)\n",
    "   local veriable()\n",
    "   class variable\n",
    "3. methods in class\n",
    "   construtor(this is speical methods)(done)\n",
    "   instnace method(done)\n",
    "   class methods\n",
    "   static methods\n",
    "4. encapsulation\n",
    "5. inheritance\n",
    "6. abstraciton\n",
    "7. polymorphism"
   ]
  },
  {
   "cell_type": "code",
   "execution_count": 24,
   "id": "1dad0367-fcc4-436d-88eb-d89c2f0d7ef4",
   "metadata": {},
   "outputs": [
    {
     "name": "stdout",
     "output_type": "stream",
     "text": [
      "object created\n"
     ]
    }
   ],
   "source": [
    "class emp:\n",
    "    def __init__(self):\n",
    "        print('object created')\n",
    "himanshu=emp()"
   ]
  },
  {
   "cell_type": "markdown",
   "id": "15a516a8-ccf1-49e3-ac77-5ee1dc20d7a2",
   "metadata": {},
   "source": [
    "# construtor are those method which will be call immedatily(automatically) whenever we create object"
   ]
  },
  {
   "cell_type": "markdown",
   "id": "86c0a625-e415-4833-a752-7140ec9a1237",
   "metadata": {},
   "source": [
    "# init is a spacial method in python or constructor which will be called automatically whenever we create a object"
   ]
  },
  {
   "cell_type": "code",
   "execution_count": 3,
   "id": "a94664fe-28e3-4b5f-a4ff-403ea78395cf",
   "metadata": {},
   "outputs": [],
   "source": [
    "class emp:\n",
    "    def __init__(self):\n",
    "        print('object created')\n",
    "    def test(hi):\n",
    "        print('python is fun')\n",
    "    def demo(self):\n",
    "        print(\"python rocks\")"
   ]
  },
  {
   "cell_type": "code",
   "execution_count": 4,
   "id": "5ac430ed-a1a5-4525-a436-04b519f9e3e0",
   "metadata": {},
   "outputs": [
    {
     "name": "stdout",
     "output_type": "stream",
     "text": [
      "object created\n"
     ]
    }
   ],
   "source": [
    "himanshu=emp()  #object creation"
   ]
  },
  {
   "cell_type": "code",
   "execution_count": 138,
   "id": "4df52533-d305-469e-8589-6e4bd9222752",
   "metadata": {},
   "outputs": [
    {
     "name": "stdout",
     "output_type": "stream",
     "text": [
      "python is fun\n"
     ]
    }
   ],
   "source": [
    "himanshu.test()"
   ]
  },
  {
   "cell_type": "code",
   "execution_count": 128,
   "id": "d07cffe4-a2ce-423a-94f2-5e6d2edea6b3",
   "metadata": {},
   "outputs": [
    {
     "name": "stdout",
     "output_type": "stream",
     "text": [
      "python rocks\n"
     ]
    }
   ],
   "source": [
    "himanshu.demo()"
   ]
  },
  {
   "cell_type": "code",
   "execution_count": 129,
   "id": "58aa59b2-c9e5-4645-aa56-79a696fe5150",
   "metadata": {},
   "outputs": [
    {
     "name": "stdout",
     "output_type": "stream",
     "text": [
      "object created\n"
     ]
    }
   ],
   "source": [
    "mishra=emp()"
   ]
  },
  {
   "cell_type": "code",
   "execution_count": 130,
   "id": "d5d832be-58f5-4541-b283-db8ba0a144f8",
   "metadata": {},
   "outputs": [
    {
     "name": "stdout",
     "output_type": "stream",
     "text": [
      "object created\n"
     ]
    }
   ],
   "source": [
    "mishra.__init__()"
   ]
  },
  {
   "cell_type": "code",
   "execution_count": 131,
   "id": "87a2c07e-33a3-4372-a799-ef9ba8756294",
   "metadata": {},
   "outputs": [
    {
     "name": "stdout",
     "output_type": "stream",
     "text": [
      "python rocks\n"
     ]
    }
   ],
   "source": [
    "mishra.demo()"
   ]
  },
  {
   "cell_type": "code",
   "execution_count": 132,
   "id": "4ab3591a-1208-433d-9db1-330dd6f6bbc0",
   "metadata": {},
   "outputs": [
    {
     "data": {
      "text/plain": [
       "<__main__.emp at 0x2751665b860>"
      ]
     },
     "execution_count": 132,
     "metadata": {},
     "output_type": "execute_result"
    }
   ],
   "source": [
    "mishra"
   ]
  },
  {
   "cell_type": "code",
   "execution_count": 140,
   "id": "0694b408-35da-4fd4-8a89-357786b1ce8f",
   "metadata": {},
   "outputs": [],
   "source": [
    "class emp:\n",
    "    def __init__(self):\n",
    "        self.age=25\n",
    "        self.name=\"Rahul\"\n",
    "        self.salary=25000"
   ]
  },
  {
   "cell_type": "code",
   "execution_count": 159,
   "id": "65034c9b-547d-456c-a26b-04ec3d96ef23",
   "metadata": {},
   "outputs": [],
   "source": [
    "himanshu=emp()"
   ]
  },
  {
   "cell_type": "code",
   "execution_count": 143,
   "id": "3a335c6c-ebf3-42c9-a80d-9d4d653910d9",
   "metadata": {},
   "outputs": [
    {
     "data": {
      "text/plain": [
       "25"
      ]
     },
     "execution_count": 143,
     "metadata": {},
     "output_type": "execute_result"
    }
   ],
   "source": [
    "himanshu.age"
   ]
  },
  {
   "cell_type": "code",
   "execution_count": 161,
   "id": "ab70a36d-2c7f-49b9-bd85-0a3407ffec93",
   "metadata": {},
   "outputs": [],
   "source": [
    "class emp:\n",
    "    def __init__(self):\n",
    "        self.age=25\n",
    "        self.name=\"Rahul\"\n",
    "        self.salary=25000"
   ]
  },
  {
   "cell_type": "code",
   "execution_count": 162,
   "id": "9a19313b-5005-44f6-ad9c-c59515cb5813",
   "metadata": {},
   "outputs": [
    {
     "data": {
      "text/plain": [
       "25"
      ]
     },
     "execution_count": 162,
     "metadata": {},
     "output_type": "execute_result"
    }
   ],
   "source": [
    "himanshu.age"
   ]
  },
  {
   "cell_type": "code",
   "execution_count": 163,
   "id": "932faf78-6009-4dbc-b119-a4478207aeb3",
   "metadata": {},
   "outputs": [
    {
     "data": {
      "text/plain": [
       "'Rahul'"
      ]
     },
     "execution_count": 163,
     "metadata": {},
     "output_type": "execute_result"
    }
   ],
   "source": [
    "himanshu.name"
   ]
  },
  {
   "cell_type": "code",
   "execution_count": 188,
   "id": "cd3c5cd8-61c1-4bde-9a95-6ad22032c4db",
   "metadata": {},
   "outputs": [],
   "source": [
    "class emp:\n",
    "    def __init__(self,a,b,c):\n",
    "        self.age=a\n",
    "        self.name=b\n",
    "        self.salary=c\n",
    "    def show(self):\n",
    "        print(self.age,self.name,self.salary)"
   ]
  },
  {
   "cell_type": "code",
   "execution_count": 189,
   "id": "5d093d65-9fdc-42ff-890e-5b66a4c8a2bc",
   "metadata": {},
   "outputs": [],
   "source": [
    "himanshu=emp(21,'mishra',200)"
   ]
  },
  {
   "cell_type": "code",
   "execution_count": 190,
   "id": "18d25d16-0321-4925-87b0-92d5cc7c6a0b",
   "metadata": {},
   "outputs": [
    {
     "name": "stdout",
     "output_type": "stream",
     "text": [
      "21 mishra 200\n"
     ]
    }
   ],
   "source": [
    "himanshu.show()"
   ]
  },
  {
   "cell_type": "code",
   "execution_count": 191,
   "id": "91b16eda-8988-4263-ba51-d70709d6bbe3",
   "metadata": {},
   "outputs": [],
   "source": [
    "mishra=emp(21,'himanshu',200)"
   ]
  },
  {
   "cell_type": "code",
   "execution_count": 185,
   "id": "c49f0ad3-3972-4eec-837b-85e3a7720466",
   "metadata": {},
   "outputs": [
    {
     "name": "stdout",
     "output_type": "stream",
     "text": [
      "21 himanshu 200\n"
     ]
    }
   ],
   "source": [
    "mishra.show()"
   ]
  },
  {
   "cell_type": "code",
   "execution_count": 193,
   "id": "4a0fa3f3-8725-4367-a436-dcd00ea02175",
   "metadata": {},
   "outputs": [],
   "source": [
    "class car:\n",
    "    def __init__(self,a,b,c):\n",
    "        self.top_speed=a\n",
    "        self.fuel_capacity=b\n",
    "        self.disk_break=c\n",
    "    def show(self):\n",
    "        print(f\"top speed {self.top_speed} fuel_capacity {self.fuel_capacity} disk_break {self.disk_break}\")\n",
    "    def drive(self,x):\n",
    "        print(f\"it can drive {x}\")"
   ]
  },
  {
   "cell_type": "code",
   "execution_count": 194,
   "id": "d2784215-1a4a-4b8a-9fbf-8f6b09c9e187",
   "metadata": {},
   "outputs": [],
   "source": [
    "audi8=car(350,15,\"yes\")"
   ]
  },
  {
   "cell_type": "code",
   "execution_count": 195,
   "id": "e39cc28c-7cce-4bc5-b4f3-45317e590f1d",
   "metadata": {},
   "outputs": [
    {
     "name": "stdout",
     "output_type": "stream",
     "text": [
      "top speed 350 fuel_capacity 15 disk_break yes\n"
     ]
    }
   ],
   "source": [
    "audi8.show()"
   ]
  },
  {
   "cell_type": "code",
   "execution_count": 196,
   "id": "56b4c52a-5f24-4ca6-97e7-95a636de1564",
   "metadata": {},
   "outputs": [
    {
     "name": "stdout",
     "output_type": "stream",
     "text": [
      "it can drive very fast\n"
     ]
    }
   ],
   "source": [
    "audi8.drive(\"very fast\")"
   ]
  },
  {
   "cell_type": "code",
   "execution_count": 197,
   "id": "6afe4ce9-e8cd-43f6-825a-7692678306d0",
   "metadata": {},
   "outputs": [],
   "source": [
    "maruti800=car(120,8,\"No\")"
   ]
  },
  {
   "cell_type": "code",
   "execution_count": 198,
   "id": "f720546c-dcdc-4e9c-b37b-18a07bf1b90b",
   "metadata": {},
   "outputs": [
    {
     "name": "stdout",
     "output_type": "stream",
     "text": [
      "top speed 120 fuel_capacity 8 disk_break No\n"
     ]
    }
   ],
   "source": [
    "maruti800.show()"
   ]
  },
  {
   "cell_type": "markdown",
   "id": "5c9d3ff7-daff-42ff-8056-342e80de7837",
   "metadata": {},
   "source": [
    "Write a program to create a class called Circle , having an instance member called radius. Provide following instance methods in your class:\n",
    "__init___() : This method should initialize radius with the parameter passed\n",
    "    \n",
    "cal_area(): This method should calculate and print the radius of the Circle\n",
    "    \n",
    "cal_circumference(): This method should calculate and print the circumference of the Circle\n",
    "    \n",
    "Finally , in the main script , create a Circle object , initialize radius with user input and calculate\n",
    "and display it’s area and circumference\n"
   ]
  },
  {
   "cell_type": "code",
   "execution_count": 11,
   "id": "5de0e27b-8b2b-40d0-9e7b-69f7d177bde0",
   "metadata": {},
   "outputs": [],
   "source": [
    "class circle:\n",
    "    def __init__(self,radius):\n",
    "        self.radius=radius\n",
    "    def cal_area(self):\n",
    "        self.area=3.14*(self.radius)**2\n",
    "        print(\"area of circle is\",self.area)\n",
    "    def cal_circumfarence(self):\n",
    "        self.circumfarence=2*(self.radius)*3.14\n",
    "        print(\"circumfarence of circle is\",self.circumfarence)\n",
    "    def display(self):\n",
    "        print(\"area of circle is\",self.area)\n",
    "        print(\"circumfarence of circle is\",self.circumfarence)\n",
    "c1=circle(1)"
   ]
  },
  {
   "cell_type": "code",
   "execution_count": 41,
   "id": "476c5031-f4c1-49ab-b92b-56029d5dcec8",
   "metadata": {},
   "outputs": [
    {
     "name": "stdout",
     "output_type": "stream",
     "text": [
      "area of circle is 3.14\n"
     ]
    }
   ],
   "source": [
    "c1.cal_area()"
   ]
  },
  {
   "cell_type": "code",
   "execution_count": 42,
   "id": "ee69385a-bccf-493f-9811-4e9aec990ff5",
   "metadata": {},
   "outputs": [
    {
     "name": "stdout",
     "output_type": "stream",
     "text": [
      "circumfarence of circle is 6.28\n"
     ]
    }
   ],
   "source": [
    "c1.cal_circumfarence()"
   ]
  },
  {
   "cell_type": "code",
   "execution_count": 45,
   "id": "d9e40b90-e4c6-4bd1-9e3f-1c9b9e067cde",
   "metadata": {},
   "outputs": [
    {
     "name": "stdout",
     "output_type": "stream",
     "text": [
      "area of circle is 3.14\n",
      "circumfarence of circle is 6.28\n"
     ]
    }
   ],
   "source": [
    "c1.display()"
   ]
  },
  {
   "cell_type": "code",
   "execution_count": 59,
   "id": "cb0e7ef8-85ae-46ca-99af-0fd0b280e9c5",
   "metadata": {},
   "outputs": [],
   "source": [
    "import math\n",
    "class circle:\n",
    "    def __init__(self,r):\n",
    "        self.radius=r\n",
    "        print(self.radius)\n",
    "    def cal_area(self):\n",
    "        self.area=math.pi*(self.radius**2)\n",
    "    def cal_circumference(self):\n",
    "        self.cir=2*math.pi*self.radius\n",
    "    def display(self):\n",
    "        print(f\"area {self.area}\")\n",
    "        print(f\"cir {self.cir}\")"
   ]
  },
  {
   "cell_type": "code",
   "execution_count": 60,
   "id": "ca972d3c-cd0d-4c2c-86c8-17b9171fa80d",
   "metadata": {},
   "outputs": [
    {
     "name": "stdin",
     "output_type": "stream",
     "text": [
      "enter radius 1\n"
     ]
    },
    {
     "name": "stdout",
     "output_type": "stream",
     "text": [
      "1\n"
     ]
    }
   ],
   "source": [
    "r=int(input(\"enter radius\"))\n",
    "obj=circle(r)"
   ]
  },
  {
   "cell_type": "code",
   "execution_count": 51,
   "id": "166b290a-e940-42d0-a1a0-afcfd893e1e3",
   "metadata": {},
   "outputs": [],
   "source": [
    "obj.cal_area()"
   ]
  },
  {
   "cell_type": "code",
   "execution_count": 52,
   "id": "009083a4-8c39-4386-a671-b9df07dcddde",
   "metadata": {},
   "outputs": [],
   "source": [
    "obj.cal_circumference()"
   ]
  },
  {
   "cell_type": "code",
   "execution_count": 53,
   "id": "106a947f-7f65-42c0-9f8b-9017d81cd6fd",
   "metadata": {},
   "outputs": [
    {
     "name": "stdout",
     "output_type": "stream",
     "text": [
      "area 3.141592653589793\n",
      "cir 6.283185307179586\n"
     ]
    }
   ],
   "source": [
    "obj.display()"
   ]
  },
  {
   "cell_type": "code",
   "execution_count": 22,
   "id": "c8080e91-ffac-4ef8-9c56-6d3c798cb27b",
   "metadata": {},
   "outputs": [],
   "source": [
    "class CompStudent: \n",
    "    stream = 'cse' #class variable                 \n",
    "    def __init__(self,name,roll): \n",
    "        self.name = name            \n",
    "        self.roll = roll        "
   ]
  },
  {
   "cell_type": "code",
   "execution_count": 23,
   "id": "8b293de1-4a1b-42fa-994e-00d05e1426cb",
   "metadata": {},
   "outputs": [],
   "source": [
    "obj1 = CompStudent('Atul',1) "
   ]
  },
  {
   "cell_type": "code",
   "execution_count": 24,
   "id": "818b8541-32aa-4040-ae61-4e5f467f2c8f",
   "metadata": {},
   "outputs": [],
   "source": [
    "obj2 = CompStudent('Chetan', 2)"
   ]
  },
  {
   "cell_type": "code",
   "execution_count": 25,
   "id": "42e84884-2f5b-4586-abd6-1e66ff0ecdb5",
   "metadata": {},
   "outputs": [
    {
     "name": "stdout",
     "output_type": "stream",
     "text": [
      "Atul\n"
     ]
    }
   ],
   "source": [
    "print(obj1.name) "
   ]
  },
  {
   "cell_type": "code",
   "execution_count": 26,
   "id": "6f45cb03-ef44-483e-b9c5-8cb2c20ee861",
   "metadata": {},
   "outputs": [
    {
     "name": "stdout",
     "output_type": "stream",
     "text": [
      "1\n"
     ]
    }
   ],
   "source": [
    "print(obj1.roll)"
   ]
  },
  {
   "cell_type": "code",
   "execution_count": 27,
   "id": "0cc4371b-8928-478e-b87e-41592e83409e",
   "metadata": {},
   "outputs": [
    {
     "name": "stdout",
     "output_type": "stream",
     "text": [
      "cse\n"
     ]
    }
   ],
   "source": [
    "print(obj1.stream)"
   ]
  },
  {
   "cell_type": "code",
   "execution_count": 28,
   "id": "7c2c4102-fd77-452e-bc8e-853e86e93197",
   "metadata": {},
   "outputs": [
    {
     "name": "stdout",
     "output_type": "stream",
     "text": [
      "Chetan\n"
     ]
    }
   ],
   "source": [
    "print(obj2.name) "
   ]
  },
  {
   "cell_type": "code",
   "execution_count": 29,
   "id": "9cfed14b-0c00-4d69-8191-afc7e2f66547",
   "metadata": {},
   "outputs": [
    {
     "name": "stdout",
     "output_type": "stream",
     "text": [
      "2\n"
     ]
    }
   ],
   "source": [
    " print(obj2.roll)"
   ]
  },
  {
   "cell_type": "code",
   "execution_count": 30,
   "id": "12cf79dd-c3c6-4261-bb3f-93b9e396d83b",
   "metadata": {},
   "outputs": [
    {
     "name": "stdout",
     "output_type": "stream",
     "text": [
      "cse\n"
     ]
    }
   ],
   "source": [
    "print(obj2.stream)   "
   ]
  },
  {
   "cell_type": "code",
   "execution_count": 31,
   "id": "438b4ecf-5274-4e04-805c-0e890559f5c1",
   "metadata": {},
   "outputs": [
    {
     "name": "stdout",
     "output_type": "stream",
     "text": [
      "cse\n"
     ]
    }
   ],
   "source": [
    "print(CompStudent.stream)"
   ]
  },
  {
   "cell_type": "code",
   "execution_count": 61,
   "id": "dd648ed5-cec5-411c-95b6-95a46fad7486",
   "metadata": {},
   "outputs": [],
   "source": [
    "class circle():\n",
    "    pi=3.14\n",
    "    def __init__(self,r):\n",
    "        self.rad=r\n",
    "    def cal_area(self):\n",
    "        return pi*self.rad**2\n",
    "    def cal_circumference(self):\n",
    "        return 2*pi*self.rad\n"
   ]
  },
  {
   "cell_type": "code",
   "execution_count": 64,
   "id": "3bca1961-9f50-46c9-9efd-901e4d641376",
   "metadata": {},
   "outputs": [
    {
     "ename": "NameError",
     "evalue": "name 'pi' is not defined",
     "output_type": "error",
     "traceback": [
      "\u001b[1;31m---------------------------------------------------------------------------\u001b[0m",
      "\u001b[1;31mNameError\u001b[0m                                 Traceback (most recent call last)",
      "Cell \u001b[1;32mIn[64], line 2\u001b[0m\n\u001b[0;32m      1\u001b[0m rad\u001b[38;5;241m=\u001b[39mcircle(\u001b[38;5;241m10\u001b[39m)\n\u001b[1;32m----> 2\u001b[0m \u001b[38;5;28mprint\u001b[39m(\u001b[43mrad\u001b[49m\u001b[38;5;241;43m.\u001b[39;49m\u001b[43mcal_area\u001b[49m\u001b[43m(\u001b[49m\u001b[43m)\u001b[49m)\n\u001b[0;32m      3\u001b[0m \u001b[38;5;28mprint\u001b[39m(rad\u001b[38;5;241m.\u001b[39mcal_circumference())\n",
      "Cell \u001b[1;32mIn[61], line 6\u001b[0m, in \u001b[0;36mcircle.cal_area\u001b[1;34m(self)\u001b[0m\n\u001b[0;32m      5\u001b[0m \u001b[38;5;28;01mdef\u001b[39;00m \u001b[38;5;21mcal_area\u001b[39m(\u001b[38;5;28mself\u001b[39m):\n\u001b[1;32m----> 6\u001b[0m     \u001b[38;5;28;01mreturn\u001b[39;00m \u001b[43mpi\u001b[49m\u001b[38;5;241m*\u001b[39m\u001b[38;5;28mself\u001b[39m\u001b[38;5;241m.\u001b[39mrad\u001b[38;5;241m*\u001b[39m\u001b[38;5;241m*\u001b[39m\u001b[38;5;241m2\u001b[39m\n",
      "\u001b[1;31mNameError\u001b[0m: name 'pi' is not defined"
     ]
    }
   ],
   "source": [
    "rad=circle(10)\n",
    "print(rad.cal_area())\n",
    "print(rad.cal_circumference())\n"
   ]
  },
  {
   "cell_type": "code",
   "execution_count": 199,
   "id": "2d3a2055-c50e-4ef5-9c93-a56eab7e05f5",
   "metadata": {},
   "outputs": [],
   "source": [
    "class MyClass:\n",
    "    def __init__(self):\n",
    "        self.value = 10\n",
    "\n",
    "    def show_value(self):\n",
    "        return self.value\n",
    "    def j(self):\n",
    "        return 3\n",
    "    def k(self):\n",
    "        return 4"
   ]
  },
  {
   "cell_type": "code",
   "execution_count": 200,
   "id": "809cedd4-43e7-483b-a6a2-77024ad634a6",
   "metadata": {},
   "outputs": [
    {
     "name": "stdout",
     "output_type": "stream",
     "text": [
      "10\n"
     ]
    }
   ],
   "source": [
    "obj1 = MyClass()\n",
    "print(obj1.show_value())\n",
    "obj3=obj1"
   ]
  },
  {
   "cell_type": "code",
   "execution_count": 201,
   "id": "9beb70fc-c5c7-421d-91a4-9fd501bb49db",
   "metadata": {},
   "outputs": [],
   "source": [
    "class MyClass:\n",
    "    def __init__(self):\n",
    "        self.value = 20\n",
    "\n",
    "    def show_value(self):\n",
    "        return self.value * 2\n",
    "    def i(self):\n",
    "        return 2"
   ]
  },
  {
   "cell_type": "code",
   "execution_count": 202,
   "id": "dda6a7f0-9055-43ea-b806-3b1ba5632289",
   "metadata": {},
   "outputs": [
    {
     "name": "stdout",
     "output_type": "stream",
     "text": [
      "40\n"
     ]
    }
   ],
   "source": [
    "obj2 = MyClass()\n",
    "print(obj2.show_value())"
   ]
  },
  {
   "cell_type": "code",
   "execution_count": 203,
   "id": "7bba7f84-49a7-406d-a277-df5f8e20c030",
   "metadata": {},
   "outputs": [
    {
     "name": "stdout",
     "output_type": "stream",
     "text": [
      "10\n"
     ]
    }
   ],
   "source": [
    "print(obj1.show_value())"
   ]
  },
  {
   "cell_type": "code",
   "execution_count": 204,
   "id": "c6a96e52-7adf-4f1a-be5f-f10947bde2d3",
   "metadata": {},
   "outputs": [
    {
     "name": "stdout",
     "output_type": "stream",
     "text": [
      "10\n"
     ]
    }
   ],
   "source": [
    "print(obj3.show_value())"
   ]
  },
  {
   "cell_type": "code",
   "execution_count": 205,
   "id": "ed719c67-f839-4e6a-8885-6cde0a17f803",
   "metadata": {},
   "outputs": [
    {
     "name": "stdout",
     "output_type": "stream",
     "text": [
      "10\n"
     ]
    }
   ],
   "source": [
    "print(obj3.show_value())"
   ]
  },
  {
   "cell_type": "code",
   "execution_count": 206,
   "id": "c2242db8-48ac-4d1b-ad91-80f8397f42d8",
   "metadata": {},
   "outputs": [
    {
     "data": {
      "text/plain": [
       "3"
      ]
     },
     "execution_count": 206,
     "metadata": {},
     "output_type": "execute_result"
    }
   ],
   "source": [
    "obj1.j()"
   ]
  },
  {
   "cell_type": "code",
   "execution_count": 207,
   "id": "60c72a61-c3f5-4f7f-ba52-574d443a8fc5",
   "metadata": {},
   "outputs": [
    {
     "data": {
      "text/plain": [
       "4"
      ]
     },
     "execution_count": 207,
     "metadata": {},
     "output_type": "execute_result"
    }
   ],
   "source": [
    "obj1.k()"
   ]
  },
  {
   "cell_type": "code",
   "execution_count": 208,
   "id": "e9a8eba6-4722-4cdb-99fc-9ddabffa7fae",
   "metadata": {},
   "outputs": [],
   "source": [
    "i=10"
   ]
  },
  {
   "cell_type": "code",
   "execution_count": 211,
   "id": "952dbc80-8b6f-4a40-9086-a604b0f476d7",
   "metadata": {},
   "outputs": [],
   "source": [
    "for i in range(6):\n",
    "    pass"
   ]
  },
  {
   "cell_type": "code",
   "execution_count": 212,
   "id": "b7510201-78df-47fa-b532-bb7c52512eab",
   "metadata": {},
   "outputs": [
    {
     "data": {
      "text/plain": [
       "5"
      ]
     },
     "execution_count": 212,
     "metadata": {},
     "output_type": "execute_result"
    }
   ],
   "source": [
    "i"
   ]
  },
  {
   "cell_type": "code",
   "execution_count": 306,
   "id": "c12cd470-ecce-4df1-9f8c-7ce989962b1f",
   "metadata": {},
   "outputs": [
    {
     "name": "stdout",
     "output_type": "stream",
     "text": [
      "2327061956128\n",
      "Class A\n",
      "<__main__.ClassA object at 0x0000021DCFB38620>\n",
      "2327061956128\n",
      "Memory Address from create_a: 0x21dcfb38620\n",
      "hi\n",
      "2327061956128\n",
      "Class B\n",
      "<__main__.ClassB object at 0x0000021DCFB38620>\n",
      "2327061956128\n",
      "Memory Address from create_a: 0x21dcfb38620\n"
     ]
    }
   ],
   "source": [
    "class ClassA:\n",
    "    def __init__(self):\n",
    "        self.value = \"Class A\"\n",
    "        print(id(self))\n",
    "\n",
    "class ClassB:\n",
    "    def __init__(self):\n",
    "        self.value = \"Class B\"\n",
    "        print(id(self))\n",
    "        \n",
    "\n",
    "#obj=ClassA()\n",
    "def create_a():\n",
    "    obj = ClassA()  # This obj is local to create_a\n",
    "    print(obj.value)\n",
    "    print(obj)\n",
    "    print(id(obj))\n",
    "    print(\"Memory Address from create_a:\", hex(id(obj)))\n",
    "def create_b():\n",
    "    obj = ClassB()  # This obj is local to create_b\n",
    "    print(obj.value)\n",
    "    print(obj)\n",
    "    print(id(obj))\n",
    "    print(\"Memory Address from create_a:\", hex(id(obj)))\n",
    "\n",
    "create_a()\n",
    "print(\"hi\")# Output: Class A\n",
    "create_b()  # Output: Class B\n"
   ]
  },
  {
   "cell_type": "code",
   "execution_count": 252,
   "id": "af40a97d-0e5c-430e-8886-79e745f76084",
   "metadata": {},
   "outputs": [
    {
     "name": "stdout",
     "output_type": "stream",
     "text": [
      "Class A\n"
     ]
    }
   ],
   "source": [
    "print(obj.value)"
   ]
  },
  {
   "cell_type": "code",
   "execution_count": 253,
   "id": "ae1ef0eb-f34c-459c-94c0-0038e41ec4c1",
   "metadata": {},
   "outputs": [
    {
     "data": {
      "text/plain": [
       "<__main__.ClassA at 0x21dcfb38f20>"
      ]
     },
     "execution_count": 253,
     "metadata": {},
     "output_type": "execute_result"
    }
   ],
   "source": [
    "obj"
   ]
  },
  {
   "cell_type": "code",
   "execution_count": 38,
   "id": "817be03e-58f9-4e43-af98-76d0e779003b",
   "metadata": {},
   "outputs": [],
   "source": [
    "class circle():\n",
    "    pi=3.14\n",
    "    def __init__(self,r):\n",
    "        self.rad=r\n",
    "    def cal_area(self):\n",
    "        return circle.pi*self.rad**2\n",
    "    def cal_circumference(self):\n",
    "        return 2*circle.pi*self.rad\n"
   ]
  },
  {
   "cell_type": "code",
   "execution_count": 39,
   "id": "5481b08a-e5d2-4b76-9320-3d278e5dc642",
   "metadata": {},
   "outputs": [
    {
     "name": "stdout",
     "output_type": "stream",
     "text": [
      "314.0\n",
      "62.800000000000004\n"
     ]
    }
   ],
   "source": [
    "rad=circle(10)\n",
    "print(rad.cal_area())\n",
    "print(rad.cal_circumference())\n"
   ]
  },
  {
   "cell_type": "code",
   "execution_count": 40,
   "id": "70af4ae8-f979-4b6b-a595-fba22cff6ac7",
   "metadata": {},
   "outputs": [],
   "source": [
    "class circle():\n",
    "    pi=3.14\n",
    "    def __init__(self,r):\n",
    "        self.rad=r\n",
    "    def cal_area(self):\n",
    "        return pi*self.rad**2\n",
    "    def cal_circumference(self):\n",
    "        return 2*pi*self.rad\n",
    "  "
   ]
  },
  {
   "cell_type": "raw",
   "id": "3d5af5fe-f7e4-41a7-8392-48a0980108c6",
   "metadata": {},
   "source": [
    "class method\n",
    "static method"
   ]
  },
  {
   "cell_type": "code",
   "execution_count": 307,
   "id": "0d5f1a1a-71f0-4a14-af85-d295d018da52",
   "metadata": {},
   "outputs": [],
   "source": [
    "import math\n",
    "class circle:\n",
    "    def __init__(self,r):\n",
    "        self.radius=r\n",
    "        print(self.radius)\n",
    "    def cal_area(self):\n",
    "        self.area=math.pi*(self.radius**2)\n",
    "    def cal_circumference(self):\n",
    "        self.cir=2*math.pi*self.radius\n",
    "    def display(self):\n",
    "        print(f\"area {self.area}\")\n",
    "        print(f\"cir {self.cir}\")\n",
    "    def show(self):\n",
    "        print(self)\n",
    "        print(id(self))\n",
    "        print(hex(id(self)))\n",
    "        print(\"himanshu mishra\")"
   ]
  },
  {
   "cell_type": "code",
   "execution_count": 308,
   "id": "35241101-9205-4b07-ac0f-81576f45b276",
   "metadata": {},
   "outputs": [
    {
     "name": "stdout",
     "output_type": "stream",
     "text": [
      "10\n"
     ]
    }
   ],
   "source": [
    "obj=circle(10)"
   ]
  },
  {
   "cell_type": "code",
   "execution_count": 309,
   "id": "ccc2c316-a948-42e9-974a-0e775d8b905b",
   "metadata": {},
   "outputs": [
    {
     "name": "stdout",
     "output_type": "stream",
     "text": [
      "<__main__.circle object at 0x0000021DCFB2AF60>\n",
      "2327061901152\n",
      "0x21dcfb2af60\n",
      "himanshu mishra\n"
     ]
    }
   ],
   "source": [
    "obj.show()"
   ]
  },
  {
   "cell_type": "code",
   "execution_count": 310,
   "id": "a2edf4d7-5f46-47af-963b-d1e2e20f9566",
   "metadata": {},
   "outputs": [
    {
     "data": {
      "text/plain": [
       "2327061901152"
      ]
     },
     "execution_count": 310,
     "metadata": {},
     "output_type": "execute_result"
    }
   ],
   "source": [
    "id(obj)"
   ]
  },
  {
   "cell_type": "markdown",
   "id": "30506182-7914-46d6-916e-ce1b542b8f29",
   "metadata": {},
   "source": [
    "Write a program to create a class called Emp , having an instance members called name , age and sal . Also declare a class variable called raise_amount to store the increment percentage of sal and set it the value given by the user\n",
    "\n",
    "Now provide following methods in your class\n",
    "__init___() : This method should initialize instance members  with the parameter passed\n",
    "\n",
    "increase_sal(): This method should calculate the increment in sal and add it to the instance member sal\n",
    "\n",
    "display(): This method should display name , age and sal of the employee\n",
    "\n",
    "Finally , in the main script , create 2 Emp objects , initialize them and increase their salary . Finally display the data\n"
   ]
  },
  {
   "cell_type": "code",
   "execution_count": 323,
   "id": "465886b9-a9c8-4564-b0fe-b7e324bc7a00",
   "metadata": {},
   "outputs": [
    {
     "name": "stdout",
     "output_type": "stream",
     "text": [
      "Name : satish\n",
      "Age : 30\n",
      "salary :  200\n",
      "25\n",
      "25\n",
      "Name : satish\n",
      "Age : 30\n",
      "salary :  250.0\n",
      "25\n",
      "25\n"
     ]
    }
   ],
   "source": [
    "class emp:\n",
    "    raise_amount = 25\n",
    "    def __init__(self,n,a,s):\n",
    "        self.name =n\n",
    "        self.age =a\n",
    "        self.sal=s\n",
    "    def increase_sal(self):\n",
    "        self.sal =  self.sal + (self.sal *(emp.raise_amount/100))\n",
    "        \n",
    "    def display(self):\n",
    "        print( \"Name :\",self.name)\n",
    "        print( \"Age :\",self.age)\n",
    "        print(\"salary : \",self.sal)\n",
    "        \n",
    "e1 =   emp(\"satish\",30,200)\n",
    "\n",
    "e1.display()\n",
    "\n",
    "e1.increase_sal()\n",
    "\n",
    "e1.display()\n"
   ]
  },
  {
   "cell_type": "code",
   "execution_count": 324,
   "id": "46b70557-6295-4761-9bd9-1467742cfcd1",
   "metadata": {},
   "outputs": [
    {
     "name": "stdin",
     "output_type": "stream",
     "text": [
      "Enter Raise Percentage:  10\n"
     ]
    }
   ],
   "source": [
    "class Employee:\n",
    "    raise_amount = int(input(\"Enter Raise Percentage: \"))\n",
    "    def __init__(self,name,age,sal):\n",
    "        self.Name = name\n",
    "        self.Age = age\n",
    "        self.Sal = sal\n",
    "    def increase_sal(self):\n",
    "        self.Sal = self.Sal+(self.Sal*(self.raise_amount/100))\n",
    "    def display(self):\n",
    "        print(f\"Employee Name: {self.Name} | Employee Age: {self.Age} | Emloyee Salary: {self.Sal}\")"
   ]
  },
  {
   "cell_type": "code",
   "execution_count": 325,
   "id": "d95b4074-d0c0-4482-b918-2511ee15de44",
   "metadata": {},
   "outputs": [],
   "source": [
    "obj = Employee(\"himanshu\",23,1000)"
   ]
  },
  {
   "cell_type": "code",
   "execution_count": 326,
   "id": "59c5f6ca-a683-4b50-940f-79b58bce5dca",
   "metadata": {},
   "outputs": [
    {
     "name": "stdout",
     "output_type": "stream",
     "text": [
      "Employee Name: himanshu | Employee Age: 23 | Emloyee Salary: 1000\n"
     ]
    }
   ],
   "source": [
    "obj.display()"
   ]
  },
  {
   "cell_type": "code",
   "execution_count": 327,
   "id": "0b3f7085-2d5d-41cd-9ecd-b79115c177fc",
   "metadata": {},
   "outputs": [],
   "source": [
    "obj.increase_sal()"
   ]
  },
  {
   "cell_type": "code",
   "execution_count": 328,
   "id": "92913d4d-9296-4d3e-9193-940167739286",
   "metadata": {},
   "outputs": [
    {
     "name": "stdout",
     "output_type": "stream",
     "text": [
      "Employee Name: himanshu | Employee Age: 23 | Emloyee Salary: 1100.0\n"
     ]
    }
   ],
   "source": [
    "obj.display()"
   ]
  },
  {
   "cell_type": "code",
   "execution_count": 366,
   "id": "8e8a4c5b-8fa3-4084-a35f-223af582c845",
   "metadata": {},
   "outputs": [],
   "source": [
    "class emp:\n",
    "    raise_amout=0\n",
    "    \n",
    "    @classmethod\n",
    "    def set_raise_amt(cls):\n",
    "        cls.raise_amout=float(input(\"write a percent which you want to increase\"))\n",
    "    \n",
    "    \n",
    "    \n",
    "    def __init__(self,name,age,sal):\n",
    "        self.name=name\n",
    "        self.age=age\n",
    "        self.sal=sal\n",
    "    def increase_sal(self):\n",
    "        self.sal=self.sal+(self.sal*emp.raise_amout/100)\n",
    "    def display(self):\n",
    "        print(self.sal,self.name,self.age)\n",
    "      "
   ]
  },
  {
   "cell_type": "code",
   "execution_count": 367,
   "id": "fa38988b-8e42-42cf-8ff2-d52a74e86a06",
   "metadata": {},
   "outputs": [],
   "source": [
    "kush=emp(\"kush\",25,50000)"
   ]
  },
  {
   "cell_type": "code",
   "execution_count": 368,
   "id": "2736f4b5-c64f-499c-89dd-08ad90c18cf8",
   "metadata": {},
   "outputs": [
    {
     "name": "stdout",
     "output_type": "stream",
     "text": [
      "50000 kush 25\n"
     ]
    }
   ],
   "source": [
    "kush.display()"
   ]
  },
  {
   "cell_type": "code",
   "execution_count": 369,
   "id": "a84e9c56-f2e2-41ff-87de-a6c7cca4180d",
   "metadata": {},
   "outputs": [],
   "source": [
    "kush.increase_sal()"
   ]
  },
  {
   "cell_type": "code",
   "execution_count": 370,
   "id": "5cf9912a-5716-4cd8-83d0-cc4919a21304",
   "metadata": {},
   "outputs": [
    {
     "name": "stdout",
     "output_type": "stream",
     "text": [
      "50000.0 kush 25\n"
     ]
    }
   ],
   "source": [
    "kush.display()"
   ]
  },
  {
   "cell_type": "code",
   "execution_count": 371,
   "id": "4fe8430a-7207-405b-9af1-df8e3360440c",
   "metadata": {},
   "outputs": [
    {
     "name": "stdin",
     "output_type": "stream",
     "text": [
      "write a percent which you want to increase 10\n"
     ]
    }
   ],
   "source": [
    "emp.set_raise_amt()"
   ]
  },
  {
   "cell_type": "code",
   "execution_count": 372,
   "id": "4d5b1157-2edf-4b90-8b7f-7ebb9b5604f3",
   "metadata": {},
   "outputs": [],
   "source": [
    "kush.increase_sal()"
   ]
  },
  {
   "cell_type": "code",
   "execution_count": 373,
   "id": "a760ca5f-c8c6-4a98-b89f-246228252c5e",
   "metadata": {},
   "outputs": [
    {
     "name": "stdout",
     "output_type": "stream",
     "text": [
      "55000.0 kush 25\n"
     ]
    }
   ],
   "source": [
    "kush.display()"
   ]
  },
  {
   "cell_type": "code",
   "execution_count": 374,
   "id": "69acc777-dbfc-4a7a-827b-12585916be22",
   "metadata": {},
   "outputs": [],
   "source": [
    "himanshu=emp('himanshu',21,1000)"
   ]
  },
  {
   "cell_type": "code",
   "execution_count": 375,
   "id": "f9e980dc-00a9-44f4-a010-d0f4b71e7e5b",
   "metadata": {},
   "outputs": [
    {
     "name": "stdin",
     "output_type": "stream",
     "text": [
      "write a percent which you want to increase 10\n"
     ]
    }
   ],
   "source": [
    "emp.set_raise_amt()"
   ]
  },
  {
   "cell_type": "code",
   "execution_count": 376,
   "id": "65872ddd-5ef3-4aa8-9071-cca6aac67db1",
   "metadata": {},
   "outputs": [],
   "source": [
    "himanshu.increase_sal()"
   ]
  },
  {
   "cell_type": "code",
   "execution_count": 377,
   "id": "13823c45-e80e-4db1-b558-e3cb1e02c694",
   "metadata": {},
   "outputs": [
    {
     "name": "stdout",
     "output_type": "stream",
     "text": [
      "1100.0 himanshu 21\n"
     ]
    }
   ],
   "source": [
    "himanshu.display()"
   ]
  },
  {
   "cell_type": "code",
   "execution_count": 380,
   "id": "8773e60c-f209-4b82-879b-cb53f8b8cd84",
   "metadata": {},
   "outputs": [
    {
     "data": {
      "text/plain": [
       "10.0"
      ]
     },
     "execution_count": 380,
     "metadata": {},
     "output_type": "execute_result"
    }
   ],
   "source": [
    "emp.raise_amout"
   ]
  },
  {
   "cell_type": "code",
   "execution_count": 381,
   "id": "244b7534-0e3c-470b-8a7d-9e5c08aa23fe",
   "metadata": {},
   "outputs": [],
   "source": [
    "class math:\n",
    "    @staticmethod\n",
    "    def add_nos(a,b):\n",
    "        c=a+b\n",
    "        return c\n",
    "    @staticmethod\n",
    "    def mul_nos(a,b):\n",
    "        c=a*b\n",
    "        return c"
   ]
  },
  {
   "cell_type": "code",
   "execution_count": 382,
   "id": "d8849b13-2a27-46f4-a184-806db11c4f9e",
   "metadata": {},
   "outputs": [
    {
     "data": {
      "text/plain": [
       "25"
      ]
     },
     "execution_count": 382,
     "metadata": {},
     "output_type": "execute_result"
    }
   ],
   "source": [
    "math.add_nos(10,15)"
   ]
  },
  {
   "cell_type": "code",
   "execution_count": 383,
   "id": "baadbd6b-5d54-4aa8-aabc-d1ed84bd9364",
   "metadata": {},
   "outputs": [
    {
     "data": {
      "text/plain": [
       "150"
      ]
     },
     "execution_count": 383,
     "metadata": {},
     "output_type": "execute_result"
    }
   ],
   "source": [
    "math.mul_nos(10,15)"
   ]
  },
  {
   "cell_type": "code",
   "execution_count": 16,
   "id": "252f3c8d-2aa1-46d8-9478-25b084596193",
   "metadata": {},
   "outputs": [
    {
     "ename": "TypeError",
     "evalue": "Demo.display() takes 0 positional arguments but 1 was given",
     "output_type": "error",
     "traceback": [
      "\u001b[1;31m---------------------------------------------------------------------------\u001b[0m",
      "\u001b[1;31mTypeError\u001b[0m                                 Traceback (most recent call last)",
      "Cell \u001b[1;32mIn[16], line 6\u001b[0m\n\u001b[0;32m      3\u001b[0m \t\t\u001b[38;5;28mprint\u001b[39m(\u001b[38;5;124m\"\u001b[39m\u001b[38;5;124mInside display\u001b[39m\u001b[38;5;124m\"\u001b[39m)\n\u001b[0;32m      5\u001b[0m d\u001b[38;5;241m=\u001b[39mDemo()\n\u001b[1;32m----> 6\u001b[0m \u001b[43md\u001b[49m\u001b[38;5;241;43m.\u001b[39;49m\u001b[43mdisplay\u001b[49m\u001b[43m(\u001b[49m\u001b[43m)\u001b[49m\n",
      "\u001b[1;31mTypeError\u001b[0m: Demo.display() takes 0 positional arguments but 1 was given"
     ]
    }
   ],
   "source": [
    "class Demo:\n",
    "\tdef display():\n",
    "\t\tprint(\"Inside display\")\n",
    "\t\n",
    "d=Demo()\n",
    "d.display()"
   ]
  },
  {
   "cell_type": "code",
   "execution_count": 32,
   "id": "ca0331a9-9ab8-4066-9b9e-4b84c7dd0d1d",
   "metadata": {},
   "outputs": [
    {
     "name": "stdout",
     "output_type": "stream",
     "text": [
      "Inside display\n"
     ]
    }
   ],
   "source": [
    "class Demo:\n",
    "\tdef display():#internally this method is being treated as a static method\n",
    "\t\tprint(\"Inside display\")\n",
    "\t\n",
    "Demo.display()\n"
   ]
  },
  {
   "cell_type": "code",
   "execution_count": 28,
   "id": "84c17edd-b399-4fb4-8dcd-d8f84592e95d",
   "metadata": {},
   "outputs": [
    {
     "name": "stdout",
     "output_type": "stream",
     "text": [
      "Inside display\n"
     ]
    },
    {
     "data": {
      "text/plain": [
       "<function IPython.core.display_functions.display(*objs, include=None, exclude=None, metadata=None, transient=None, display_id=None, raw=False, clear=False, **kwargs)>"
      ]
     },
     "execution_count": 28,
     "metadata": {},
     "output_type": "execute_result"
    }
   ],
   "source": [
    "class Demo:\n",
    "    def display(self):\n",
    "        self.a=10\n",
    "        print(\"Inside display\")\n",
    "d=Demo()\n",
    "d.display()\n",
    "d.a\n"
   ]
  },
  {
   "cell_type": "code",
   "execution_count": 51,
   "id": "772fa570-c00c-47ac-9a97-77b525da09d3",
   "metadata": {},
   "outputs": [
    {
     "ename": "TypeError",
     "evalue": "Demo.display() missing 1 required positional argument: 'self'",
     "output_type": "error",
     "traceback": [
      "\u001b[1;31m---------------------------------------------------------------------------\u001b[0m",
      "\u001b[1;31mTypeError\u001b[0m                                 Traceback (most recent call last)",
      "Cell \u001b[1;32mIn[51], line 5\u001b[0m\n\u001b[0;32m      2\u001b[0m \t\u001b[38;5;28;01mdef\u001b[39;00m \u001b[38;5;21mdisplay\u001b[39m(\u001b[38;5;28mself\u001b[39m):\n\u001b[0;32m      3\u001b[0m \t\t\u001b[38;5;28mprint\u001b[39m(\u001b[38;5;124m\"\u001b[39m\u001b[38;5;124mInside display\u001b[39m\u001b[38;5;124m\"\u001b[39m)\n\u001b[1;32m----> 5\u001b[0m \u001b[43mDemo\u001b[49m\u001b[38;5;241;43m.\u001b[39;49m\u001b[43mdisplay\u001b[49m\u001b[43m(\u001b[49m\u001b[43m)\u001b[49m\n",
      "\u001b[1;31mTypeError\u001b[0m: Demo.display() missing 1 required positional argument: 'self'"
     ]
    }
   ],
   "source": [
    "class Demo:\n",
    "\tdef display(self):\n",
    "\t\tprint(\"Inside display\")\n",
    "\t\n",
    "Demo.display()\n"
   ]
  },
  {
   "cell_type": "code",
   "execution_count": 73,
   "id": "17948f75-9e0c-438c-a571-2bd21220fdf9",
   "metadata": {},
   "outputs": [
    {
     "name": "stdout",
     "output_type": "stream",
     "text": [
      "Inside display\n"
     ]
    }
   ],
   "source": [
    "class Demo:\n",
    "\tdef display(self):\n",
    "\t\tprint(\"Inside display\")\n",
    "\t\n",
    "Demo.display(\"Hello\")\n"
   ]
  },
  {
   "cell_type": "markdown",
   "id": "53416011-5f7b-4b2a-b20f-f14952fe8e30",
   "metadata": {},
   "source": [
    "### Instance Methods: The most common method type. Able to access data and properties unique to each instance(object).\n",
    "\n",
    "### Static Methods(utility method): Cannot access anything else in the class. Totally self-contained code.\n",
    "\n",
    "### Class Methods: Can access limited methods in the class. Can modify class specific details."
   ]
  },
  {
   "cell_type": "markdown",
   "id": "00975ddb-6acc-4a97-8216-c5c14fd98104",
   "metadata": {},
   "source": [
    "# ENCAPSULATION"
   ]
  },
  {
   "cell_type": "code",
   "execution_count": 24,
   "id": "94f5011d-2a56-4195-aac9-f3974074dc05",
   "metadata": {},
   "outputs": [],
   "source": [
    "class emp:\n",
    "    def __init__(self):\n",
    "        self.name=\"himanshu\"\n",
    "        self.age=21\n",
    "        self.__sal=20000\n",
    "    def display(self):\n",
    "        print(self.name,self.age,self.__sal)\n",
    "    \n",
    "    "
   ]
  },
  {
   "cell_type": "code",
   "execution_count": 25,
   "id": "786e7fb9-eec4-4c33-ae50-fb1005987acd",
   "metadata": {},
   "outputs": [
    {
     "ename": "AttributeError",
     "evalue": "'emp' object has no attribute 't'",
     "output_type": "error",
     "traceback": [
      "\u001b[1;31m---------------------------------------------------------------------------\u001b[0m",
      "\u001b[1;31mAttributeError\u001b[0m                            Traceback (most recent call last)",
      "Cell \u001b[1;32mIn[25], line 1\u001b[0m\n\u001b[1;32m----> 1\u001b[0m obj1\u001b[38;5;241m=\u001b[39m\u001b[43memp\u001b[49m\u001b[43m(\u001b[49m\u001b[43m)\u001b[49m\n",
      "Cell \u001b[1;32mIn[24], line 7\u001b[0m, in \u001b[0;36memp.__init__\u001b[1;34m(self)\u001b[0m\n\u001b[0;32m      5\u001b[0m \u001b[38;5;28mself\u001b[39m\u001b[38;5;241m.\u001b[39m__sal\u001b[38;5;241m=\u001b[39m\u001b[38;5;241m20000\u001b[39m\n\u001b[0;32m      6\u001b[0m \u001b[38;5;28mself\u001b[39m\u001b[38;5;241m.\u001b[39mt\u001b[38;5;241m=\u001b[39m\u001b[38;5;241m1\u001b[39m\n\u001b[1;32m----> 7\u001b[0m \u001b[38;5;28mprint\u001b[39m(\u001b[43mobj1\u001b[49m\u001b[38;5;241;43m.\u001b[39;49m\u001b[43mt\u001b[49m)\n",
      "\u001b[1;31mAttributeError\u001b[0m: 'emp' object has no attribute 't'"
     ]
    }
   ],
   "source": [
    "obj1=emp()"
   ]
  },
  {
   "cell_type": "code",
   "execution_count": 87,
   "id": "a1a4b08a-559e-4ccc-9693-5fec8fefde33",
   "metadata": {},
   "outputs": [
    {
     "data": {
      "text/plain": [
       "'himanshu'"
      ]
     },
     "execution_count": 87,
     "metadata": {},
     "output_type": "execute_result"
    }
   ],
   "source": [
    "obj1.name"
   ]
  },
  {
   "cell_type": "code",
   "execution_count": 90,
   "id": "060df0f0-c272-4e4d-b2f4-8734ceba279c",
   "metadata": {},
   "outputs": [
    {
     "ename": "AttributeError",
     "evalue": "'emp' object has no attribute 'sal'",
     "output_type": "error",
     "traceback": [
      "\u001b[1;31m---------------------------------------------------------------------------\u001b[0m",
      "\u001b[1;31mAttributeError\u001b[0m                            Traceback (most recent call last)",
      "Cell \u001b[1;32mIn[90], line 1\u001b[0m\n\u001b[1;32m----> 1\u001b[0m \u001b[43mobj1\u001b[49m\u001b[38;5;241;43m.\u001b[39;49m\u001b[43msal\u001b[49m\n",
      "\u001b[1;31mAttributeError\u001b[0m: 'emp' object has no attribute 'sal'"
     ]
    }
   ],
   "source": [
    "obj1.sal"
   ]
  },
  {
   "cell_type": "code",
   "execution_count": 91,
   "id": "5bc297fe-6893-4cfa-87db-ac2affc55f53",
   "metadata": {},
   "outputs": [
    {
     "data": {
      "text/plain": [
       "20000"
      ]
     },
     "execution_count": 91,
     "metadata": {},
     "output_type": "execute_result"
    }
   ],
   "source": [
    "obj1._emp__sal"
   ]
  },
  {
   "cell_type": "code",
   "execution_count": 57,
   "id": "940b78e0-66a6-4e15-8759-1ab0632876be",
   "metadata": {},
   "outputs": [
    {
     "data": {
      "text/plain": [
       "21"
      ]
     },
     "execution_count": 57,
     "metadata": {},
     "output_type": "execute_result"
    }
   ],
   "source": [
    "obj1.age"
   ]
  },
  {
   "cell_type": "code",
   "execution_count": 54,
   "id": "2536bcb7-a2b5-4ea3-ba41-aa11d1d81c57",
   "metadata": {},
   "outputs": [
    {
     "name": "stdout",
     "output_type": "stream",
     "text": [
      "himanshu 21 20000\n"
     ]
    }
   ],
   "source": [
    "obj1.display()"
   ]
  },
  {
   "cell_type": "code",
   "execution_count": 84,
   "id": "333de194-d9fb-4bb9-a1a1-72aa85a00119",
   "metadata": {},
   "outputs": [
    {
     "ename": "AttributeError",
     "evalue": "'emp' object has no attribute '__sal'",
     "output_type": "error",
     "traceback": [
      "\u001b[1;31m---------------------------------------------------------------------------\u001b[0m",
      "\u001b[1;31mAttributeError\u001b[0m                            Traceback (most recent call last)",
      "Cell \u001b[1;32mIn[84], line 1\u001b[0m\n\u001b[1;32m----> 1\u001b[0m \u001b[43mobj1\u001b[49m\u001b[38;5;241;43m.\u001b[39;49m\u001b[43m__sal\u001b[49m\n",
      "\u001b[1;31mAttributeError\u001b[0m: 'emp' object has no attribute '__sal'"
     ]
    }
   ],
   "source": [
    "obj1.__sal"
   ]
  },
  {
   "cell_type": "raw",
   "id": "54c8d867-1c2d-4785-b955-39a70d96c3a6",
   "metadata": {},
   "source": [
    "public <var_name>\n",
    "private __<var_name>\n",
    "protacted _<var_name>\n",
    "setattr()\n",
    "getattr()"
   ]
  },
  {
   "cell_type": "code",
   "execution_count": 92,
   "id": "bd4943bd-3817-429c-a104-cbf20a30e83f",
   "metadata": {},
   "outputs": [],
   "source": [
    "class emp:\n",
    "    def __init__(self):\n",
    "        self.name=\"himanshu\"\n",
    "        self.age=21\n",
    "        self.__sal=20000\n",
    "    def __display(self):\n",
    "        print(self.name,self.age,self.__sal)\n",
    "    def show(self):\n",
    "        self.__display()"
   ]
  },
  {
   "cell_type": "code",
   "execution_count": 93,
   "id": "99f02758-70c2-41f0-8b3f-c206679abb1b",
   "metadata": {},
   "outputs": [],
   "source": [
    "obj2=emp()"
   ]
  },
  {
   "cell_type": "code",
   "execution_count": 94,
   "id": "3a752795-d8ac-4911-a17e-422942ea7e3d",
   "metadata": {},
   "outputs": [
    {
     "ename": "AttributeError",
     "evalue": "'emp' object has no attribute '__display'",
     "output_type": "error",
     "traceback": [
      "\u001b[1;31m---------------------------------------------------------------------------\u001b[0m",
      "\u001b[1;31mAttributeError\u001b[0m                            Traceback (most recent call last)",
      "Cell \u001b[1;32mIn[94], line 1\u001b[0m\n\u001b[1;32m----> 1\u001b[0m \u001b[43mobj2\u001b[49m\u001b[38;5;241;43m.\u001b[39;49m\u001b[43m__display\u001b[49m()\n",
      "\u001b[1;31mAttributeError\u001b[0m: 'emp' object has no attribute '__display'"
     ]
    }
   ],
   "source": [
    "obj2.__display()"
   ]
  },
  {
   "cell_type": "code",
   "execution_count": 95,
   "id": "43f8a99f-8e89-4cd3-afc7-efed359b8947",
   "metadata": {},
   "outputs": [
    {
     "name": "stdout",
     "output_type": "stream",
     "text": [
      "himanshu 21 20000\n"
     ]
    }
   ],
   "source": [
    "obj2.show()"
   ]
  },
  {
   "cell_type": "markdown",
   "id": "6053bd57-5383-4031-a8fa-ecc2bbc73f24",
   "metadata": {},
   "source": [
    "# INHERITANCE"
   ]
  },
  {
   "cell_type": "raw",
   "id": "e006a3c9-986b-4723-a73e-7809c9b97a83",
   "metadata": {},
   "source": [
    "1. simple inharitance\n",
    "2. multilevel inharitance\n",
    "3. multiple inheritnace\n",
    "4. hirarchical inheritance\n",
    "5. hybrid inhertance\n",
    "\n",
    "objectclass\n",
    "overriding-->repr,str\n",
    "super()"
   ]
  },
  {
   "cell_type": "code",
   "execution_count": 1,
   "id": "9f3d029e-1eef-4fa1-a7df-9168ed9f1883",
   "metadata": {},
   "outputs": [],
   "source": [
    "# simple\n",
    "class A:\n",
    "    pass\n",
    "class B(A):\n",
    "    pass"
   ]
  },
  {
   "cell_type": "code",
   "execution_count": 2,
   "id": "d4fe63e8-183f-4184-842a-4feee46a5bc4",
   "metadata": {},
   "outputs": [],
   "source": [
    "# multilevel\n",
    "class A:\n",
    "    pass\n",
    "class B(A):\n",
    "    pass\n",
    "class C(B):\n",
    "    pass"
   ]
  },
  {
   "cell_type": "code",
   "execution_count": 3,
   "id": "0d532152-b0ad-4732-80b9-44f685dfc995",
   "metadata": {},
   "outputs": [],
   "source": [
    "# multiple\n",
    "class A:\n",
    "    pass\n",
    "\n",
    "class B:\n",
    "    pass\n",
    "\n",
    "class C(A,B):\n",
    "    pass\n",
    "    "
   ]
  },
  {
   "cell_type": "code",
   "execution_count": 6,
   "id": "cad82d9c-39b0-4fae-8158-22df3e85b03c",
   "metadata": {},
   "outputs": [],
   "source": [
    "# hirarchical inheritance\n",
    "\n",
    "class A:\n",
    "    pass\n",
    "class B(A):\n",
    "    pass\n",
    "class C(A):\n",
    "    pass"
   ]
  },
  {
   "cell_type": "code",
   "execution_count": 7,
   "id": "74148ad8-e86a-4908-a269-228aba036f61",
   "metadata": {},
   "outputs": [],
   "source": [
    "# hybrid inheritance(multiple+hirarchical)\n",
    "\n",
    "class A:\n",
    "    pass\n",
    "class B(A):\n",
    "    pass\n",
    "class C(A):\n",
    "    pass\n",
    "class D(B,C):\n",
    "    pass"
   ]
  },
  {
   "cell_type": "code",
   "execution_count": 8,
   "id": "1fe7bff3-3fe5-42d1-9b39-827030045430",
   "metadata": {},
   "outputs": [],
   "source": [
    "class A:\n",
    "    def __init__(self):\n",
    "        print(\"hi hi hi\")\n",
    "        "
   ]
  },
  {
   "cell_type": "code",
   "execution_count": 9,
   "id": "37691702-d32a-4e66-841e-7e899c8b472a",
   "metadata": {},
   "outputs": [
    {
     "name": "stdout",
     "output_type": "stream",
     "text": [
      "hi hi hi\n"
     ]
    }
   ],
   "source": [
    "obj=A()"
   ]
  },
  {
   "cell_type": "code",
   "execution_count": 10,
   "id": "09ffa7cb-385f-45b0-acd5-ba5336a1ae3f",
   "metadata": {},
   "outputs": [],
   "source": [
    "obj2=object()"
   ]
  },
  {
   "cell_type": "code",
   "execution_count": 11,
   "id": "84f5fe11-041c-4392-8fb1-b27d0c4688de",
   "metadata": {},
   "outputs": [
    {
     "data": {
      "text/plain": [
       "['__class__',\n",
       " '__delattr__',\n",
       " '__dir__',\n",
       " '__doc__',\n",
       " '__eq__',\n",
       " '__format__',\n",
       " '__ge__',\n",
       " '__getattribute__',\n",
       " '__getstate__',\n",
       " '__gt__',\n",
       " '__hash__',\n",
       " '__init__',\n",
       " '__init_subclass__',\n",
       " '__le__',\n",
       " '__lt__',\n",
       " '__ne__',\n",
       " '__new__',\n",
       " '__reduce__',\n",
       " '__reduce_ex__',\n",
       " '__repr__',\n",
       " '__setattr__',\n",
       " '__sizeof__',\n",
       " '__str__',\n",
       " '__subclasshook__']"
      ]
     },
     "execution_count": 11,
     "metadata": {},
     "output_type": "execute_result"
    }
   ],
   "source": [
    "dir(obj2)"
   ]
  },
  {
   "cell_type": "code",
   "execution_count": 13,
   "id": "290c3f5d-d3b0-46ad-a4dc-7d0e24b02717",
   "metadata": {},
   "outputs": [],
   "source": [
    "class A:\n",
    "    def __init__(self):\n",
    "        print(\"hi hi hi\")\n",
    "    def __repr__(self):\n",
    "        return \"10\""
   ]
  },
  {
   "cell_type": "code",
   "execution_count": 14,
   "id": "ef28b45a-224c-4322-80eb-f14f683c6ede",
   "metadata": {},
   "outputs": [
    {
     "name": "stdout",
     "output_type": "stream",
     "text": [
      "hi hi hi\n"
     ]
    }
   ],
   "source": [
    "myobj=A()"
   ]
  },
  {
   "cell_type": "code",
   "execution_count": 15,
   "id": "22204867-b44c-416f-8b48-32688a837a60",
   "metadata": {},
   "outputs": [
    {
     "name": "stdout",
     "output_type": "stream",
     "text": [
      "10\n"
     ]
    }
   ],
   "source": [
    "print(myobj)"
   ]
  },
  {
   "cell_type": "code",
   "execution_count": 16,
   "id": "fccdc290-4661-452a-8064-a681c0064235",
   "metadata": {},
   "outputs": [
    {
     "data": {
      "text/plain": [
       "10"
      ]
     },
     "execution_count": 16,
     "metadata": {},
     "output_type": "execute_result"
    }
   ],
   "source": [
    "myobj"
   ]
  },
  {
   "cell_type": "code",
   "execution_count": 110,
   "id": "7599bc55-0e07-436a-a14e-89425fff4d12",
   "metadata": {},
   "outputs": [],
   "source": [
    "class A:\n",
    "    def __init__(self):\n",
    "        print(\"hi hi hi\")\n",
    "    def __str__(self):\n",
    "        return \"10\""
   ]
  },
  {
   "cell_type": "code",
   "execution_count": 111,
   "id": "74e0d84f-afe8-4bb0-937c-922b16f1ecfd",
   "metadata": {},
   "outputs": [
    {
     "name": "stdout",
     "output_type": "stream",
     "text": [
      "hi hi hi\n"
     ]
    }
   ],
   "source": [
    "myobjsecond=A()"
   ]
  },
  {
   "cell_type": "code",
   "execution_count": 112,
   "id": "1f372971-b534-41cb-80c1-68c8d1cf8270",
   "metadata": {},
   "outputs": [
    {
     "name": "stdout",
     "output_type": "stream",
     "text": [
      "10\n"
     ]
    }
   ],
   "source": [
    "print(myobjsecond)"
   ]
  },
  {
   "cell_type": "markdown",
   "id": "048cfcfe-7ed5-4ac1-bd40-51fb8d8c24cc",
   "metadata": {},
   "source": [
    "## simple inheritance"
   ]
  },
  {
   "cell_type": "code",
   "execution_count": 221,
   "id": "aba0743e-8f9e-41f5-b49f-bb3da56a6127",
   "metadata": {},
   "outputs": [],
   "source": [
    "# this is parent class\n",
    "# here is a code reusability\n",
    "# becuase in this parent class there is few method which no need to define in child class\n",
    "class animal:\n",
    "    def eat(self):\n",
    "        print(\"yes it eats\")\n",
    "    def sleep(self):\n",
    "        print(\"yes it sleeps\")\n",
    "class bird(animal):# child class\n",
    "    def set_type(self,type):\n",
    "        self.type=type\n",
    "    def fly(self):\n",
    "        print(\"yes it fly\")\n",
    "    def speak(self,sound):\n",
    "        print(f\"it speaks: {sound} {sound}\")\n",
    "    def __repr__(self):\n",
    "        return \"this is a \"+ self.type"
   ]
  },
  {
   "cell_type": "code",
   "execution_count": 227,
   "id": "1105c66c-c934-4a2e-80f2-955cdcade420",
   "metadata": {},
   "outputs": [],
   "source": [
    "duck=bird()"
   ]
  },
  {
   "cell_type": "code",
   "execution_count": 228,
   "id": "74d612f5-0c2e-438f-ae23-d433716812a9",
   "metadata": {},
   "outputs": [],
   "source": [
    "duck.set_type(\"duck\")"
   ]
  },
  {
   "cell_type": "code",
   "execution_count": 229,
   "id": "9aac8f4a-2011-4693-87fb-8039c8498cb8",
   "metadata": {},
   "outputs": [
    {
     "name": "stdout",
     "output_type": "stream",
     "text": [
      "this is a duck\n"
     ]
    }
   ],
   "source": [
    "print(duck)"
   ]
  },
  {
   "cell_type": "code",
   "execution_count": 230,
   "id": "ad12034e-1e30-4886-9214-f1718679484f",
   "metadata": {},
   "outputs": [
    {
     "name": "stdout",
     "output_type": "stream",
     "text": [
      "yes it eats\n"
     ]
    }
   ],
   "source": [
    "duck.eat()"
   ]
  },
  {
   "cell_type": "code",
   "execution_count": 231,
   "id": "86eee419-0a87-4790-9890-c8e27035af5f",
   "metadata": {},
   "outputs": [
    {
     "name": "stdout",
     "output_type": "stream",
     "text": [
      "yes it sleeps\n"
     ]
    }
   ],
   "source": [
    "duck.sleep()"
   ]
  },
  {
   "cell_type": "code",
   "execution_count": 232,
   "id": "17ad0ad6-14cf-438c-aa8d-e71f2d547326",
   "metadata": {},
   "outputs": [
    {
     "name": "stdout",
     "output_type": "stream",
     "text": [
      "yes it fly\n"
     ]
    }
   ],
   "source": [
    "duck.fly()"
   ]
  },
  {
   "cell_type": "code",
   "execution_count": 233,
   "id": "582eefbe-1ab3-4780-917d-1630d13337d0",
   "metadata": {},
   "outputs": [
    {
     "name": "stdout",
     "output_type": "stream",
     "text": [
      "it speaks: quack quack quack quack\n"
     ]
    }
   ],
   "source": [
    "duck.speak(\"quack quack\")"
   ]
  },
  {
   "cell_type": "code",
   "execution_count": 234,
   "id": "9420b208-ee5f-46a6-a7f1-f12c0b268f1d",
   "metadata": {},
   "outputs": [],
   "source": [
    "crow=bird()"
   ]
  },
  {
   "cell_type": "code",
   "execution_count": 243,
   "id": "b9fe8312-a649-47dd-8ca8-36063af56753",
   "metadata": {},
   "outputs": [],
   "source": [
    "crow.set_type(\"crow\")"
   ]
  },
  {
   "cell_type": "code",
   "execution_count": 236,
   "id": "3295f59b-ead6-462a-a9a7-6bd8097f6d5a",
   "metadata": {},
   "outputs": [
    {
     "name": "stdout",
     "output_type": "stream",
     "text": [
      "yes it sleeps\n"
     ]
    }
   ],
   "source": [
    "crow.sleep()"
   ]
  },
  {
   "cell_type": "code",
   "execution_count": 237,
   "id": "d287ec2c-2631-49b7-baf1-26c851fbb637",
   "metadata": {},
   "outputs": [
    {
     "name": "stdout",
     "output_type": "stream",
     "text": [
      "it speaks: ka ka ka ka\n"
     ]
    }
   ],
   "source": [
    "crow.speak(\"ka ka\")"
   ]
  },
  {
   "cell_type": "markdown",
   "id": "2176edb1-a826-4b70-9db9-81b8274ba1e5",
   "metadata": {},
   "source": [
    "## multilevel inheritance"
   ]
  },
  {
   "cell_type": "code",
   "execution_count": 273,
   "id": "330af6c1-8e5c-4ccd-b4b8-65c71d04a671",
   "metadata": {},
   "outputs": [],
   "source": [
    "# real time senerio\n",
    "# code reusability\n",
    "\n",
    "# coding in java or in c++ \n",
    "#in this language automatically parent class constuctor will be called\n",
    "#this is rule is not for python\n",
    "# super method or we can call with the help of class name\n",
    "\n",
    "class person:\n",
    "    def __init__(self,age,name):\n",
    "        self.name=name\n",
    "        self.age=age\n",
    "        print(\"person consturtor called\")\n",
    "class emp(person):\n",
    "    def __init__(self,age,name,ids,sal):\n",
    "        person.__init__(self,age,name)\n",
    "        self.ids=ids\n",
    "        self.sal=sal\n",
    "        print(\"emp constructor called \")\n",
    "class manager(emp):\n",
    "    def __init__(self,age,name,ids,sal,bouns):\n",
    "        emp.__init__(self,age,name,ids,sal)\n",
    "        self.bouns=bouns\n",
    "        print(\"manager consturtor called\")\n",
    "        "
   ]
  },
  {
   "cell_type": "code",
   "execution_count": 274,
   "id": "cdb2397c-5a37-43a5-9df0-dcbdb8516fa6",
   "metadata": {},
   "outputs": [
    {
     "name": "stdout",
     "output_type": "stream",
     "text": [
      "person consturtor called\n",
      "emp constructor called \n",
      "manager consturtor called\n"
     ]
    }
   ],
   "source": [
    "obj2=manager(30,\"rajeev\",2,800000,10000)"
   ]
  },
  {
   "cell_type": "code",
   "execution_count": 275,
   "id": "281cfdb0-214c-4409-aa76-0f12cb643960",
   "metadata": {},
   "outputs": [
    {
     "data": {
      "text/plain": [
       "30"
      ]
     },
     "execution_count": 275,
     "metadata": {},
     "output_type": "execute_result"
    }
   ],
   "source": [
    "m.age"
   ]
  },
  {
   "cell_type": "code",
   "execution_count": 276,
   "id": "eb7270a7-c2fe-4a4a-af1e-cbaa54ac740f",
   "metadata": {},
   "outputs": [
    {
     "data": {
      "text/plain": [
       "'rajeev'"
      ]
     },
     "execution_count": 276,
     "metadata": {},
     "output_type": "execute_result"
    }
   ],
   "source": [
    "m.name"
   ]
  },
  {
   "cell_type": "code",
   "execution_count": 277,
   "id": "cfd038c1-7af9-4a0c-803e-f1d039259198",
   "metadata": {},
   "outputs": [
    {
     "data": {
      "text/plain": [
       "2"
      ]
     },
     "execution_count": 277,
     "metadata": {},
     "output_type": "execute_result"
    }
   ],
   "source": [
    "m.ids"
   ]
  },
  {
   "cell_type": "code",
   "execution_count": 278,
   "id": "38013cb3-7d37-4da0-b4c8-922808b903d7",
   "metadata": {},
   "outputs": [],
   "source": [
    "class person:\n",
    "    def __init__(self,age,name):\n",
    "        self.name=name\n",
    "        self.age=age\n",
    "        print(\"person consturtor called\")\n",
    "class emp(person):\n",
    "    def __init__(self,age,name,ids,sal):\n",
    "        super().__init__(age,name)\n",
    "        self.ids=ids\n",
    "        self.sal=sal\n",
    "        print(\"emp constructor called \")\n",
    "class manager(emp):\n",
    "    def __init__(self,age,name,ids,sal,bouns):\n",
    "        super().__init__(age,name,ids,sal)\n",
    "        self.bouns=bouns\n",
    "        print(\"manager consturtor called\")\n",
    "    \n",
    "    def __repr__(self):\n",
    "        return f\"manager bouns will be {self.bouns} manager age is {self.age} manager name is  {self.name} manager id is {self.ids} manager sal is {self.sal}\""
   ]
  },
  {
   "cell_type": "code",
   "execution_count": 279,
   "id": "53b76c83-a18e-49cc-ba2c-a344cf213cfa",
   "metadata": {},
   "outputs": [
    {
     "name": "stdout",
     "output_type": "stream",
     "text": [
      "person consturtor called\n",
      "emp constructor called \n",
      "manager consturtor called\n"
     ]
    }
   ],
   "source": [
    "obj2=manager(30,\"rajeev\",2,800000,10000)"
   ]
  },
  {
   "cell_type": "code",
   "execution_count": 280,
   "id": "76900309-01f3-4678-998e-9571650dd79f",
   "metadata": {},
   "outputs": [
    {
     "name": "stdout",
     "output_type": "stream",
     "text": [
      "manager bouns will be 10000 manager age is 30 manager name is  rajeev manager id is 2 manager sal is 800000\n"
     ]
    }
   ],
   "source": [
    "print(obj2)"
   ]
  },
  {
   "cell_type": "code",
   "execution_count": 281,
   "id": "b36a11a8-7012-4cf0-98d3-7dd524cf03f2",
   "metadata": {},
   "outputs": [],
   "source": [
    "#method overloading\n",
    "# python does not support overloading\n",
    "def test(*args):\n",
    "    print(\"done\")\n",
    "#def test(ar1,ar2,ar3):\n",
    "    #print(\"done dana done\")"
   ]
  },
  {
   "cell_type": "code",
   "execution_count": 282,
   "id": "4e97d0db-a3f9-426e-8d16-a11f07ed7185",
   "metadata": {},
   "outputs": [
    {
     "name": "stdout",
     "output_type": "stream",
     "text": [
      "done\n"
     ]
    }
   ],
   "source": [
    "#variable length argument\n",
    "test(10,20)"
   ]
  },
  {
   "cell_type": "code",
   "execution_count": null,
   "id": "598f0a88-3d38-43b8-850f-e9cadc4ab679",
   "metadata": {},
   "outputs": [],
   "source": []
  },
  {
   "cell_type": "code",
   "execution_count": 283,
   "id": "d949797d-c0c4-4b25-aee8-34010cea2878",
   "metadata": {},
   "outputs": [
    {
     "name": "stdout",
     "output_type": "stream",
     "text": [
      "done\n"
     ]
    }
   ],
   "source": [
    "test(10,20,30,40,50,60)"
   ]
  },
  {
   "cell_type": "code",
   "execution_count": 284,
   "id": "4a3475ea-ac14-480a-afda-a0b1cb1b11c7",
   "metadata": {},
   "outputs": [],
   "source": [
    "# MEHTOD OVERRIDING\n",
    "# SUPER WORKS\n",
    "# HOW TO CALL PREVIOUS CONS\n",
    "# USE OF REPR\n",
    "\n",
    "class person:\n",
    "    def __init__(self,age,name):\n",
    "        self.name=name\n",
    "        self.age=age\n",
    "        print(\"person consturtor called\")\n",
    "    def __repr__(self):\n",
    "        return f\"age {self.age}, name {self.name}\"\n",
    "class emp(person):\n",
    "    def __init__(self,age,name,ids,sal):\n",
    "        super().__init__(age,name)\n",
    "        self.ids=ids\n",
    "        self.sal=sal\n",
    "        print(\"emp constructor called \")\n",
    "    def __repr__(self):\n",
    "        string=super().__repr__()\n",
    "        return f\"{string}, id {self.ids} sal {self.sal}\"\n",
    "class manager(emp):\n",
    "    def __init__(self,age,name,ids,sal,bouns):\n",
    "        super().__init__(age,name,ids,sal)\n",
    "        self.bouns=bouns\n",
    "        print(\"manager consturtor called\")\n",
    "    \n",
    "    def __repr__(self):\n",
    "        string=super().__repr__()\n",
    "        return f\"{string}, bouns: {self.bouns}\""
   ]
  },
  {
   "cell_type": "code",
   "execution_count": 285,
   "id": "23784599-db8c-4957-bfbe-7733c43c2974",
   "metadata": {},
   "outputs": [
    {
     "name": "stdout",
     "output_type": "stream",
     "text": [
      "person consturtor called\n",
      "emp constructor called \n",
      "manager consturtor called\n"
     ]
    }
   ],
   "source": [
    "obj3=manager(40,\"ravi\",3,8000000,100000)"
   ]
  },
  {
   "cell_type": "code",
   "execution_count": 286,
   "id": "d7d0a5fe-25fd-4b3f-b67c-210920978bf3",
   "metadata": {},
   "outputs": [
    {
     "name": "stdout",
     "output_type": "stream",
     "text": [
      "age 40, name ravi, id 3 sal 8000000, bouns: 100000\n"
     ]
    }
   ],
   "source": [
    "print(obj3)"
   ]
  },
  {
   "cell_type": "markdown",
   "id": "5be248db-d729-4335-aed2-5df71a07c43e",
   "metadata": {},
   "source": [
    "## this is a example of hirarchical Inheritance"
   ]
  },
  {
   "cell_type": "code",
   "execution_count": 20,
   "id": "18fd6063-d8b1-4b2e-ae50-5ab7e6f16b16",
   "metadata": {},
   "outputs": [],
   "source": [
    "class schoolmember:\n",
    "    def __init__(self,name,age):\n",
    "        self.name=name\n",
    "        self.age=age\n",
    "    def tell(self):\n",
    "        print(self.name,self.age, end=\" \")\n",
    "class student(schoolmember):\n",
    "    def __init__(self,name,age,rollno,per):\n",
    "        super().__init__(name,age)\n",
    "        self.rollno=rollno\n",
    "        self.per=per\n",
    "    def tell(self):\n",
    "        super().tell()\n",
    "        print(self.rollno,self.per)\n",
    "class teacher(schoolmember):\n",
    "    def __init__(self,name,age,sal):\n",
    "        super().__init__(name,age)\n",
    "        self.sal=sal\n",
    "        "
   ]
  },
  {
   "cell_type": "code",
   "execution_count": 21,
   "id": "87154ab0-c354-4fc4-93ee-a98ba258ed53",
   "metadata": {},
   "outputs": [],
   "source": [
    "himanshu=student(\"himanshu\",30,12,75)\n"
   ]
  },
  {
   "cell_type": "code",
   "execution_count": 22,
   "id": "b81736b5-12e1-449a-81d0-2b795ff51c96",
   "metadata": {},
   "outputs": [
    {
     "name": "stdout",
     "output_type": "stream",
     "text": [
      "himanshu 30 12 75\n"
     ]
    }
   ],
   "source": [
    "himanshu.tell()"
   ]
  },
  {
   "cell_type": "markdown",
   "id": "50f5a77b-29a1-4836-9c2f-71e463c8a260",
   "metadata": {},
   "source": [
    "# this is a example of multiple Inheritance"
   ]
  },
  {
   "cell_type": "markdown",
   "id": "8d42ab04-576d-4fb0-beca-734fc9f6e269",
   "metadata": {},
   "source": [
    "# this is Method Resolution Order (MRO)"
   ]
  },
  {
   "cell_type": "code",
   "execution_count": 53,
   "id": "daba7f19-8680-4a5b-8de3-a808597822a0",
   "metadata": {},
   "outputs": [],
   "source": [
    "class A:\n",
    "    pass\n",
    "    #def __init__(self):\n",
    "        #print(\"A has been called\")\n",
    "class B:\n",
    "    def __init__(self):\n",
    "        print(\"B has been called\")\n",
    "class C(A,B):\n",
    "    pass\n",
    "    #def __init__(self):\n",
    "        #pass"
   ]
  },
  {
   "cell_type": "code",
   "execution_count": 54,
   "id": "1fdb2432-715c-419c-8415-e315b547a554",
   "metadata": {},
   "outputs": [
    {
     "name": "stdout",
     "output_type": "stream",
     "text": [
      "[<class '__main__.C'>, <class '__main__.A'>, <class '__main__.B'>, <class 'object'>]\n"
     ]
    }
   ],
   "source": [
    "print(C.mro())"
   ]
  },
  {
   "cell_type": "code",
   "execution_count": 55,
   "id": "b30c9b50-91cf-4328-b85f-f87760c8d0b0",
   "metadata": {},
   "outputs": [
    {
     "name": "stdout",
     "output_type": "stream",
     "text": [
      "B has been called\n"
     ]
    }
   ],
   "source": [
    "obj_first=C()"
   ]
  },
  {
   "cell_type": "code",
   "execution_count": 56,
   "id": "7239c3bc-8f7d-4fc9-a5bd-0ae9315a85ed",
   "metadata": {},
   "outputs": [],
   "source": [
    "class A:\n",
    "    def __init__(self):\n",
    "        print(\"A has been called\")\n",
    "class B:\n",
    "    pass\n",
    "    #def __init__(self):\n",
    "        #print(\"B has been called\")\n",
    "class C(B,A):\n",
    "    pass\n",
    "    #def __init__(self):\n",
    "        #print(\"c has been called\")"
   ]
  },
  {
   "cell_type": "code",
   "execution_count": 57,
   "id": "70e7d49f-47bd-4304-94d1-8184c5366e86",
   "metadata": {},
   "outputs": [
    {
     "name": "stdout",
     "output_type": "stream",
     "text": [
      "[<class '__main__.C'>, <class '__main__.B'>, <class '__main__.A'>, <class 'object'>]\n"
     ]
    }
   ],
   "source": [
    "print(C.mro())"
   ]
  },
  {
   "cell_type": "code",
   "execution_count": 58,
   "id": "b5c92aa2-c324-49f8-b5b2-2fe5526fe8c3",
   "metadata": {},
   "outputs": [
    {
     "name": "stdout",
     "output_type": "stream",
     "text": [
      "A has been called\n"
     ]
    }
   ],
   "source": [
    "obj_second=C()"
   ]
  },
  {
   "cell_type": "code",
   "execution_count": 59,
   "id": "78d85892-0022-4f3b-9a39-e4740fd3422b",
   "metadata": {},
   "outputs": [],
   "source": [
    "obj_third=object()"
   ]
  },
  {
   "cell_type": "code",
   "execution_count": 60,
   "id": "3cf6fe47-cab8-4be8-afc7-d6a0aa3e818b",
   "metadata": {},
   "outputs": [
    {
     "data": {
      "text/plain": [
       "['__class__',\n",
       " '__delattr__',\n",
       " '__dir__',\n",
       " '__doc__',\n",
       " '__eq__',\n",
       " '__format__',\n",
       " '__ge__',\n",
       " '__getattribute__',\n",
       " '__getstate__',\n",
       " '__gt__',\n",
       " '__hash__',\n",
       " '__init__',\n",
       " '__init_subclass__',\n",
       " '__le__',\n",
       " '__lt__',\n",
       " '__ne__',\n",
       " '__new__',\n",
       " '__reduce__',\n",
       " '__reduce_ex__',\n",
       " '__repr__',\n",
       " '__setattr__',\n",
       " '__sizeof__',\n",
       " '__str__',\n",
       " '__subclasshook__']"
      ]
     },
     "execution_count": 60,
     "metadata": {},
     "output_type": "execute_result"
    }
   ],
   "source": [
    "dir(obj_third)"
   ]
  },
  {
   "cell_type": "code",
   "execution_count": 61,
   "id": "f4e5d6d3-59e9-4c2a-b6eb-2a8ff678619a",
   "metadata": {},
   "outputs": [],
   "source": [
    "class person:\n",
    "    def __init__(self,name,age):\n",
    "        print(\"person called\")\n",
    "        self.name=name\n",
    "        self.age=age\n",
    "class student:\n",
    "    def __init__(self,name,age,rollno,per):\n",
    "        print(\"student called\")\n",
    "        super().__init__(name,age)\n",
    "        self.rollno=rollno\n",
    "        self.per=per\n",
    "class sciencestudent(student,person):\n",
    "    def __init__(self,name,age,rollno,per,stream):\n",
    "        print(\"science student called\")\n",
    "        super().__init__(name,age,rollno,per)\n",
    "        self.stream=stream\n",
    "    def tell(self):\n",
    "        print(self.name,self.age,self.rollno,self.per,self.stream)"
   ]
  },
  {
   "cell_type": "code",
   "execution_count": 65,
   "id": "833f69ab-2017-416e-b136-e4a581fb77ab",
   "metadata": {},
   "outputs": [
    {
     "name": "stdout",
     "output_type": "stream",
     "text": [
      "science student called\n",
      "student called\n",
      "person called\n"
     ]
    }
   ],
   "source": [
    "himanshu=sciencestudent(\"himanshu\",26,1,79.5,\"science\")"
   ]
  },
  {
   "cell_type": "code",
   "execution_count": 66,
   "id": "b9013dcd-5718-490b-bdf8-241cd3e2f78a",
   "metadata": {},
   "outputs": [
    {
     "name": "stdout",
     "output_type": "stream",
     "text": [
      "himanshu 26 1 79.5 science\n"
     ]
    }
   ],
   "source": [
    "himanshu.tell()"
   ]
  },
  {
   "cell_type": "code",
   "execution_count": 67,
   "id": "729bd0c8-0401-43d3-9ee1-a2ed2dff6fa4",
   "metadata": {},
   "outputs": [],
   "source": [
    "class A:\n",
    "    def __init__(self):\n",
    "        print(\"constructor called\")\n",
    "class B:\n",
    "    def __init__(self):\n",
    "        print(\"b called\")\n",
    "        super().__init__()\n",
    "        \n",
    "class C(B,A):\n",
    "    def __init__(self):\n",
    "        print(\"c called\")\n",
    "        super().__init__()\n",
    "        "
   ]
  },
  {
   "cell_type": "code",
   "execution_count": 68,
   "id": "aa08e47a-3eeb-4b1b-afcf-6ec7cdbf1594",
   "metadata": {},
   "outputs": [
    {
     "name": "stdout",
     "output_type": "stream",
     "text": [
      "[<class '__main__.C'>, <class '__main__.B'>, <class '__main__.A'>, <class 'object'>]\n"
     ]
    }
   ],
   "source": [
    "print(C.mro())"
   ]
  },
  {
   "cell_type": "code",
   "execution_count": 69,
   "id": "f5e9c05b-cbe5-4cfe-82ec-c6fa509c5384",
   "metadata": {},
   "outputs": [
    {
     "name": "stdout",
     "output_type": "stream",
     "text": [
      "c called\n",
      "b called\n",
      "constructor called\n"
     ]
    }
   ],
   "source": [
    "obj=C()"
   ]
  },
  {
   "cell_type": "code",
   "execution_count": 92,
   "id": "5cdbc809-a9e8-41f6-8371-8b2b9242fa9d",
   "metadata": {},
   "outputs": [],
   "source": [
    "class person:\n",
    "    def __init__(self,name,age):\n",
    "        self.name=name\n",
    "        self.age=age\n",
    "class student:\n",
    "    def __init__(self,rollno,per):\n",
    "        self.rollno=rollno\n",
    "        self.per=per\n",
    "class sciencestudent(student,person):\n",
    "    def __init__(self,name,age,rollno,per,stream):\n",
    "        person.__init__(self,name,age)\n",
    "        student.__init__(self,rollno,per)\n",
    "        self.stream=stream\n",
    "    def tell(self):\n",
    "        print(self.name,self.age,self.rollno,self.per,self.stream)\n",
    "        "
   ]
  },
  {
   "cell_type": "code",
   "execution_count": 93,
   "id": "9f0fded4-b930-4dc1-be19-cc918d0d5432",
   "metadata": {},
   "outputs": [],
   "source": [
    "mishra=sciencestudent(\"mishra\",29,10,97.5,\"math-bio\")"
   ]
  },
  {
   "cell_type": "code",
   "execution_count": 94,
   "id": "8cd3d057-86cf-41be-9c06-bf3c5a8ca824",
   "metadata": {},
   "outputs": [
    {
     "name": "stdout",
     "output_type": "stream",
     "text": [
      "mishra 29 10 97.5 math-bio\n"
     ]
    }
   ],
   "source": [
    "mishra.tell()"
   ]
  },
  {
   "cell_type": "code",
   "execution_count": 98,
   "id": "8bb0aac8-fe6e-40f1-8c88-6e84ae405806",
   "metadata": {},
   "outputs": [],
   "source": [
    "class A:\n",
    "    def __init__(self):\n",
    "        print(\"A has been called\")\n",
    "class B(A):\n",
    "    pass\n",
    "    #def __init__(self):\n",
    "        #print(\"B has been called\")\n",
    "class C(A):\n",
    "    def __init__(self):\n",
    "        print(\"C has been called\")\n",
    "class D(B,C):\n",
    "    pass\n",
    "    #def __init__(self):\n",
    "        #print(\"D has been called\")"
   ]
  },
  {
   "cell_type": "code",
   "execution_count": 99,
   "id": "89d56063-a013-4c2a-b4e8-872b786a2bcc",
   "metadata": {},
   "outputs": [
    {
     "name": "stdout",
     "output_type": "stream",
     "text": [
      "[<class '__main__.D'>, <class '__main__.B'>, <class '__main__.C'>, <class '__main__.A'>, <class 'object'>]\n"
     ]
    }
   ],
   "source": [
    "print(D.mro())"
   ]
  },
  {
   "cell_type": "code",
   "execution_count": 100,
   "id": "45dbc3b7-be28-45d6-9f1c-0d1492f1cdb9",
   "metadata": {},
   "outputs": [
    {
     "name": "stdout",
     "output_type": "stream",
     "text": [
      "C has been called\n"
     ]
    }
   ],
   "source": [
    "myfirstobj=D()"
   ]
  },
  {
   "cell_type": "markdown",
   "id": "be17d2bf-c17e-40ae-a5a7-ad0893f12faa",
   "metadata": {},
   "source": [
    "# hybrid inheritance"
   ]
  },
  {
   "cell_type": "code",
   "execution_count": 101,
   "id": "bc0a67e5-26f1-42a2-b867-6d2d64347d10",
   "metadata": {},
   "outputs": [],
   "source": [
    "class A:\n",
    "    def m(self):\n",
    "        print(\"m of A called\")\n",
    "\n",
    "class B(A):\n",
    "    def m(self):\n",
    "        print(\"m of B called\")\n",
    "    \n",
    "class C(A):\n",
    "    def m(self):\n",
    "        print(\"m of C called\")\n",
    "\n",
    "class D(B,C):\n",
    "    def m(self):\n",
    "        print(\"m of D called\")\n",
    "        B.m(self)\n",
    "        C.m(self)\n",
    "        A.m(self)\n"
   ]
  },
  {
   "cell_type": "code",
   "execution_count": 102,
   "id": "10abab46-df36-49f7-b12e-c8ca090bf7b2",
   "metadata": {},
   "outputs": [],
   "source": [
    "mysecondobj=D()"
   ]
  },
  {
   "cell_type": "code",
   "execution_count": 103,
   "id": "52cdc255-be23-454e-9180-ac982e525774",
   "metadata": {},
   "outputs": [
    {
     "name": "stdout",
     "output_type": "stream",
     "text": [
      "m of D called\n",
      "m of B called\n",
      "m of C called\n",
      "m of A called\n"
     ]
    }
   ],
   "source": [
    "mysecondobj.m()"
   ]
  },
  {
   "cell_type": "code",
   "execution_count": 120,
   "id": "21e8ea69-d726-40ba-b9ff-f676bb0b354f",
   "metadata": {},
   "outputs": [],
   "source": [
    "class A:\n",
    "    def m(self):\n",
    "        \tprint(\"m of A called\")\n",
    "class B(A):\n",
    "\tdef m(self):\n",
    "\t\tprint(\"m of B called\")\n",
    "\t\tA.m(self)\n",
    "class C(A):\n",
    "\tdef m(self):\n",
    "\t\tprint(\"m of C called\")\n",
    "\t\tA.m(self)\n",
    "class D(B,C):\n",
    "\tdef m(self):\n",
    "\t\tprint(\"m of D called\")\n",
    "\t\tB.m(self)\n",
    "\t\tC.m(self)\n"
   ]
  },
  {
   "cell_type": "code",
   "execution_count": 121,
   "id": "6ee2b3db-a790-4f0c-af9f-d35ec29cd31f",
   "metadata": {},
   "outputs": [
    {
     "name": "stdout",
     "output_type": "stream",
     "text": [
      "[<class '__main__.D'>, <class '__main__.B'>, <class '__main__.C'>, <class '__main__.A'>, <class 'object'>]\n"
     ]
    }
   ],
   "source": [
    "print(D.mro())"
   ]
  },
  {
   "cell_type": "code",
   "execution_count": 122,
   "id": "609cf93a-c94d-448f-ab58-26222385684b",
   "metadata": {},
   "outputs": [],
   "source": [
    "mythridobj=D()"
   ]
  },
  {
   "cell_type": "code",
   "execution_count": 123,
   "id": "30770569-d360-4028-829f-21a16ebef023",
   "metadata": {},
   "outputs": [
    {
     "name": "stdout",
     "output_type": "stream",
     "text": [
      "m of D called\n",
      "m of B called\n",
      "m of A called\n",
      "m of C called\n",
      "m of A called\n"
     ]
    }
   ],
   "source": [
    "mythridobj.m()"
   ]
  },
  {
   "cell_type": "code",
   "execution_count": 128,
   "id": "e1a99354-8ffb-4060-84ed-e533ad4a4b4f",
   "metadata": {},
   "outputs": [],
   "source": [
    "class A:\n",
    "    def m(self):\n",
    "        \tprint(\"m of A called\")\n",
    "\n",
    "class B(A):\n",
    "\tdef m(self):\n",
    "\t\tprint(\"m of B called\")\n",
    "\t\tsuper().m()\n",
    "class C(A):\n",
    "\tdef m(self):\n",
    "\t\tprint(\"m of C called\")\n",
    "\t\tsuper().m()\n",
    "class D(B,C):\n",
    "\tdef m(self):\n",
    "\t\tprint(\"m of D called\")\n",
    "\t\tsuper().m() \n"
   ]
  },
  {
   "cell_type": "code",
   "execution_count": 129,
   "id": "328e7f88-419c-43b8-b7a6-a07cc08bad12",
   "metadata": {},
   "outputs": [],
   "source": [
    "myfourthobj=D()"
   ]
  },
  {
   "cell_type": "code",
   "execution_count": 130,
   "id": "2a5b7166-e691-40a4-bd62-5b63ac59928c",
   "metadata": {},
   "outputs": [
    {
     "name": "stdout",
     "output_type": "stream",
     "text": [
      "m of D called\n",
      "m of B called\n",
      "m of C called\n",
      "m of A called\n"
     ]
    }
   ],
   "source": [
    "myfourthobj.m()"
   ]
  },
  {
   "cell_type": "markdown",
   "id": "d015e033-e6bc-4a15-acf6-f216c1476249",
   "metadata": {},
   "source": [
    "# polymorphism"
   ]
  },
  {
   "cell_type": "raw",
   "id": "9a567b72-cd02-4d49-8bc2-f387070e05e3",
   "metadata": {},
   "source": [
    "method overriding\n",
    "\n",
    "repr-->A\n",
    "repr-->B\n",
    "repr-->c"
   ]
  },
  {
   "cell_type": "raw",
   "id": "3270d698-4435-407c-8dd7-d9bd6a5e9872",
   "metadata": {},
   "source": [
    "+ operator arthmetic operator"
   ]
  },
  {
   "cell_type": "code",
   "execution_count": 168,
   "id": "70950d0e-fb09-412d-8d90-2fbde2b9a043",
   "metadata": {},
   "outputs": [
    {
     "data": {
      "text/plain": [
       "6"
      ]
     },
     "execution_count": 168,
     "metadata": {},
     "output_type": "execute_result"
    }
   ],
   "source": [
    "a=2\n",
    "b=4\n",
    "a+b"
   ]
  },
  {
   "cell_type": "code",
   "execution_count": 169,
   "id": "43da3096-2aa2-4a46-996f-f036ec152b80",
   "metadata": {},
   "outputs": [
    {
     "data": {
      "text/plain": [
       "'himanshumishra'"
      ]
     },
     "execution_count": 169,
     "metadata": {},
     "output_type": "execute_result"
    }
   ],
   "source": [
    "x=\"himanshu\"\n",
    "y=\"mishra\"\n",
    "x+y"
   ]
  },
  {
   "cell_type": "code",
   "execution_count": 170,
   "id": "e308f07b-772b-4f17-a367-8c10f59f61ba",
   "metadata": {},
   "outputs": [],
   "source": [
    "class point:\n",
    "    def __init__(self,x,y):\n",
    "        self.x=x\n",
    "        self.y=y"
   ]
  },
  {
   "cell_type": "code",
   "execution_count": 171,
   "id": "a8585462-39f9-40a4-ac0e-a3fabc97144e",
   "metadata": {},
   "outputs": [],
   "source": [
    "p1=point(2,4)"
   ]
  },
  {
   "cell_type": "code",
   "execution_count": 172,
   "id": "0bf62a61-dec1-4601-b99a-f9565df92273",
   "metadata": {},
   "outputs": [],
   "source": [
    "p2=point(3,6)"
   ]
  },
  {
   "cell_type": "code",
   "execution_count": 173,
   "id": "f269ce18-ce09-4c8c-b1a0-278472235cf5",
   "metadata": {},
   "outputs": [
    {
     "ename": "TypeError",
     "evalue": "unsupported operand type(s) for +: 'point' and 'point'",
     "output_type": "error",
     "traceback": [
      "\u001b[1;31m---------------------------------------------------------------------------\u001b[0m",
      "\u001b[1;31mTypeError\u001b[0m                                 Traceback (most recent call last)",
      "Cell \u001b[1;32mIn[173], line 1\u001b[0m\n\u001b[1;32m----> 1\u001b[0m \u001b[43mp1\u001b[49m\u001b[38;5;241;43m+\u001b[39;49m\u001b[43mp2\u001b[49m\n",
      "\u001b[1;31mTypeError\u001b[0m: unsupported operand type(s) for +: 'point' and 'point'"
     ]
    }
   ],
   "source": [
    "p1+p2"
   ]
  },
  {
   "cell_type": "code",
   "execution_count": 184,
   "id": "52f69b44-a899-462d-bf3d-6f36be011a4d",
   "metadata": {},
   "outputs": [],
   "source": [
    "class point:\n",
    "    def __init__(self,x,y):\n",
    "        self.x=x\n",
    "        self.y=y\n",
    "    def __add__(self,other):\n",
    "        x=self.x+other.x\n",
    "        y=self.y+other.y\n",
    "        p=point(x,y)\n",
    "        return p\n",
    "    def __repr__(self):\n",
    "        return f\"x={self.x},y={self.y}\""
   ]
  },
  {
   "cell_type": "code",
   "execution_count": 185,
   "id": "a6cf9ebc-a62d-428d-9efa-d9ebe3a78bc0",
   "metadata": {},
   "outputs": [],
   "source": [
    "p1=point(2,4)"
   ]
  },
  {
   "cell_type": "code",
   "execution_count": 186,
   "id": "83a9b8ca-6830-4634-888d-c4e9e70830d0",
   "metadata": {},
   "outputs": [
    {
     "name": "stdout",
     "output_type": "stream",
     "text": [
      "x=2,y=4\n"
     ]
    }
   ],
   "source": [
    "print(p1)"
   ]
  },
  {
   "cell_type": "code",
   "execution_count": 187,
   "id": "49f7e0de-7bce-463a-a0dd-f45560e5ca1e",
   "metadata": {},
   "outputs": [],
   "source": [
    "p2=point(4,8)"
   ]
  },
  {
   "cell_type": "code",
   "execution_count": 188,
   "id": "84a26e9d-e687-4663-b3a1-94488fe089aa",
   "metadata": {},
   "outputs": [
    {
     "name": "stdout",
     "output_type": "stream",
     "text": [
      "x=4,y=8\n"
     ]
    }
   ],
   "source": [
    "print(p2)"
   ]
  },
  {
   "cell_type": "code",
   "execution_count": 189,
   "id": "270a398a-1e1a-498d-acb1-4f8f5cded0d8",
   "metadata": {},
   "outputs": [
    {
     "data": {
      "text/plain": [
       "x=6,y=12"
      ]
     },
     "execution_count": 189,
     "metadata": {},
     "output_type": "execute_result"
    }
   ],
   "source": [
    "p1+p2"
   ]
  },
  {
   "cell_type": "code",
   "execution_count": 2,
   "id": "6b36716c-6083-4d2e-9205-84f52813f601",
   "metadata": {},
   "outputs": [],
   "source": [
    "class point:\n",
    "    def __init__(self,x,y):\n",
    "        self.x=x\n",
    "        self.y=y\n",
    "    def __sub__(self,other):\n",
    "        x=self.x-other.x\n",
    "        y=self.y-other.y\n",
    "        p=point(x,y)\n",
    "        return p\n",
    "    def __repr__(self):\n",
    "        return f\"x={self.x},y={self.y}\""
   ]
  },
  {
   "cell_type": "code",
   "execution_count": 3,
   "id": "4ce5c9af-2462-49c8-9017-56dcfde09330",
   "metadata": {},
   "outputs": [],
   "source": [
    "p1=point(10,20)"
   ]
  },
  {
   "cell_type": "code",
   "execution_count": 4,
   "id": "6a33e6d1-fd47-4336-84b8-b7a56222b1f4",
   "metadata": {},
   "outputs": [],
   "source": [
    "p2=point(5,10)"
   ]
  },
  {
   "cell_type": "code",
   "execution_count": 5,
   "id": "e300ec67-3980-4fad-9a04-869a0c0cb295",
   "metadata": {},
   "outputs": [
    {
     "data": {
      "text/plain": [
       "x=5,y=10"
      ]
     },
     "execution_count": 5,
     "metadata": {},
     "output_type": "execute_result"
    }
   ],
   "source": [
    "p1-p2"
   ]
  },
  {
   "cell_type": "markdown",
   "id": "dadec80e-b7e1-4b44-9216-518360747aa8",
   "metadata": {},
   "source": [
    "# EXCEPTIOAL HANDLING"
   ]
  },
  {
   "cell_type": "markdown",
   "id": "c9daa642-9471-41a9-8ac1-206fc416c489",
   "metadata": {},
   "source": [
    "syntex error or compile time error or static error"
   ]
  },
  {
   "cell_type": "markdown",
   "id": "dbbe7948-385a-4b3b-aed3-85cc7d4975da",
   "metadata": {},
   "source": [
    "runtime error or exception or dynamic error"
   ]
  },
  {
   "cell_type": "markdown",
   "id": "a5584a87-66ce-4808-a94c-46098074ad9c",
   "metadata": {},
   "source": [
    "so we have to handle rurntime error"
   ]
  },
  {
   "cell_type": "code",
   "execution_count": 7,
   "id": "ea5a3a3f-3ac2-4559-a9f5-54a3a97d28ab",
   "metadata": {},
   "outputs": [
    {
     "name": "stdin",
     "output_type": "stream",
     "text": [
      "enter first number 8\n",
      "enter second number 2\n"
     ]
    },
    {
     "name": "stdout",
     "output_type": "stream",
     "text": [
      "div is 4.0\n",
      "sum is 10\n"
     ]
    }
   ],
   "source": [
    "a=int(input(\"enter first number\"))\n",
    "b=int(input(\"enter second number\"))\n",
    "c=a/b\n",
    "print(\"div is\",c)\n",
    "d=a+b\n",
    "print(\"sum is\",d)"
   ]
  },
  {
   "cell_type": "code",
   "execution_count": 8,
   "id": "40a6535a-9419-4369-a28f-96f3128c4b3f",
   "metadata": {},
   "outputs": [
    {
     "ename": "SyntaxError",
     "evalue": "'(' was never closed (4013466979.py, line 2)",
     "output_type": "error",
     "traceback": [
      "\u001b[1;36m  Cell \u001b[1;32mIn[8], line 2\u001b[1;36m\u001b[0m\n\u001b[1;33m    b=int(input(\"enter second number\")\u001b[0m\n\u001b[1;37m         ^\u001b[0m\n\u001b[1;31mSyntaxError\u001b[0m\u001b[1;31m:\u001b[0m '(' was never closed\n"
     ]
    }
   ],
   "source": [
    "a=int(input(\"enter first number\"))\n",
    "b=int(input(\"enter second number\")\n",
    "c=a/b\n",
    "print(\"div is\",c)\n",
    "d=a+b\n",
    "print(\"sum is\",d)"
   ]
  },
  {
   "cell_type": "code",
   "execution_count": 9,
   "id": "657f1ab5-fe43-4b94-96a0-f7036130675d",
   "metadata": {},
   "outputs": [
    {
     "name": "stdin",
     "output_type": "stream",
     "text": [
      "enter first number 5\n",
      "enter second number 6\n"
     ]
    },
    {
     "ename": "NameError",
     "evalue": "name 'ab' is not defined",
     "output_type": "error",
     "traceback": [
      "\u001b[1;31m---------------------------------------------------------------------------\u001b[0m",
      "\u001b[1;31mNameError\u001b[0m                                 Traceback (most recent call last)",
      "Cell \u001b[1;32mIn[9], line 3\u001b[0m\n\u001b[0;32m      1\u001b[0m a\u001b[38;5;241m=\u001b[39m\u001b[38;5;28mint\u001b[39m(\u001b[38;5;28minput\u001b[39m(\u001b[38;5;124m\"\u001b[39m\u001b[38;5;124menter first number\u001b[39m\u001b[38;5;124m\"\u001b[39m))\n\u001b[0;32m      2\u001b[0m b\u001b[38;5;241m=\u001b[39m\u001b[38;5;28mint\u001b[39m(\u001b[38;5;28minput\u001b[39m(\u001b[38;5;124m\"\u001b[39m\u001b[38;5;124menter second number\u001b[39m\u001b[38;5;124m\"\u001b[39m))\n\u001b[1;32m----> 3\u001b[0m c\u001b[38;5;241m=\u001b[39m\u001b[43mab\u001b[49m\n\u001b[0;32m      4\u001b[0m \u001b[38;5;28mprint\u001b[39m(\u001b[38;5;124m\"\u001b[39m\u001b[38;5;124mdiv is\u001b[39m\u001b[38;5;124m\"\u001b[39m,c)\n\u001b[0;32m      5\u001b[0m d\u001b[38;5;241m=\u001b[39ma\u001b[38;5;241m+\u001b[39mb\n",
      "\u001b[1;31mNameError\u001b[0m: name 'ab' is not defined"
     ]
    }
   ],
   "source": [
    "a=int(input(\"enter first number\"))\n",
    "b=int(input(\"enter second number\"))\n",
    "c=ab# python is thinking it is a varible\n",
    "print(\"div is\",c)\n",
    "d=a+b\n",
    "print(\"sum is\",d)"
   ]
  },
  {
   "cell_type": "code",
   "execution_count": 10,
   "id": "eab44ec1-b250-4d2c-9295-989aa4b64b1a",
   "metadata": {},
   "outputs": [
    {
     "name": "stdin",
     "output_type": "stream",
     "text": [
      "enter first number 12\n",
      "enter second number 23\n"
     ]
    },
    {
     "name": "stdout",
     "output_type": "stream",
     "text": [
      "div is 0.5217391304347826\n",
      "sum is 35\n"
     ]
    }
   ],
   "source": [
    "a=int(input(\"enter first number\"))\n",
    "b=int(input(\"enter second number\"))\n",
    "c=a/b\n",
    "print(\"div is\",c)\n",
    "d=a+b\n",
    "print(\"sum is\",d)"
   ]
  },
  {
   "cell_type": "code",
   "execution_count": 11,
   "id": "83ca8738-3a3d-414b-afc7-71eed0303af4",
   "metadata": {},
   "outputs": [
    {
     "name": "stdin",
     "output_type": "stream",
     "text": [
      "enter first number 3\n",
      "enter second number 0\n"
     ]
    },
    {
     "ename": "ZeroDivisionError",
     "evalue": "division by zero",
     "output_type": "error",
     "traceback": [
      "\u001b[1;31m---------------------------------------------------------------------------\u001b[0m",
      "\u001b[1;31mZeroDivisionError\u001b[0m                         Traceback (most recent call last)",
      "Cell \u001b[1;32mIn[11], line 3\u001b[0m\n\u001b[0;32m      1\u001b[0m a\u001b[38;5;241m=\u001b[39m\u001b[38;5;28mint\u001b[39m(\u001b[38;5;28minput\u001b[39m(\u001b[38;5;124m\"\u001b[39m\u001b[38;5;124menter first number\u001b[39m\u001b[38;5;124m\"\u001b[39m))\n\u001b[0;32m      2\u001b[0m b\u001b[38;5;241m=\u001b[39m\u001b[38;5;28mint\u001b[39m(\u001b[38;5;28minput\u001b[39m(\u001b[38;5;124m\"\u001b[39m\u001b[38;5;124menter second number\u001b[39m\u001b[38;5;124m\"\u001b[39m))\n\u001b[1;32m----> 3\u001b[0m c\u001b[38;5;241m=\u001b[39m\u001b[43ma\u001b[49m\u001b[38;5;241;43m/\u001b[39;49m\u001b[43mb\u001b[49m\n\u001b[0;32m      4\u001b[0m \u001b[38;5;28mprint\u001b[39m(\u001b[38;5;124m\"\u001b[39m\u001b[38;5;124mdiv is\u001b[39m\u001b[38;5;124m\"\u001b[39m,c)\n\u001b[0;32m      5\u001b[0m d\u001b[38;5;241m=\u001b[39ma\u001b[38;5;241m+\u001b[39mb\n",
      "\u001b[1;31mZeroDivisionError\u001b[0m: division by zero"
     ]
    }
   ],
   "source": [
    "a=int(input(\"enter first number\"))\n",
    "b=int(input(\"enter second number\"))\n",
    "c=a/b\n",
    "print(\"div is\",c)\n",
    "d=a+b\n",
    "print(\"sum is\",d)"
   ]
  },
  {
   "cell_type": "code",
   "execution_count": 12,
   "id": "43960be8-d53e-4cb8-a59a-ddaa9f823e25",
   "metadata": {},
   "outputs": [
    {
     "name": "stdin",
     "output_type": "stream",
     "text": [
      "enter first number 45\n",
      "enter second number 2t\n"
     ]
    },
    {
     "ename": "ValueError",
     "evalue": "invalid literal for int() with base 10: '2t'",
     "output_type": "error",
     "traceback": [
      "\u001b[1;31m---------------------------------------------------------------------------\u001b[0m",
      "\u001b[1;31mValueError\u001b[0m                                Traceback (most recent call last)",
      "Cell \u001b[1;32mIn[12], line 2\u001b[0m\n\u001b[0;32m      1\u001b[0m a\u001b[38;5;241m=\u001b[39m\u001b[38;5;28mint\u001b[39m(\u001b[38;5;28minput\u001b[39m(\u001b[38;5;124m\"\u001b[39m\u001b[38;5;124menter first number\u001b[39m\u001b[38;5;124m\"\u001b[39m))\n\u001b[1;32m----> 2\u001b[0m b\u001b[38;5;241m=\u001b[39m\u001b[38;5;28;43mint\u001b[39;49m\u001b[43m(\u001b[49m\u001b[38;5;28;43minput\u001b[39;49m\u001b[43m(\u001b[49m\u001b[38;5;124;43m\"\u001b[39;49m\u001b[38;5;124;43menter second number\u001b[39;49m\u001b[38;5;124;43m\"\u001b[39;49m\u001b[43m)\u001b[49m\u001b[43m)\u001b[49m\n\u001b[0;32m      3\u001b[0m c\u001b[38;5;241m=\u001b[39ma\u001b[38;5;241m/\u001b[39mb\n\u001b[0;32m      4\u001b[0m \u001b[38;5;28mprint\u001b[39m(\u001b[38;5;124m\"\u001b[39m\u001b[38;5;124mdiv is\u001b[39m\u001b[38;5;124m\"\u001b[39m,c)\n",
      "\u001b[1;31mValueError\u001b[0m: invalid literal for int() with base 10: '2t'"
     ]
    }
   ],
   "source": [
    "a=int(input(\"enter first number\"))\n",
    "b=int(input(\"enter second number\"))\n",
    "c=a/b\n",
    "print(\"div is\",c)\n",
    "d=a+b\n",
    "print(\"sum is\",d)"
   ]
  },
  {
   "cell_type": "code",
   "execution_count": 13,
   "id": "3ccd7f5a-cfa8-4247-9d2d-7f8577864a99",
   "metadata": {},
   "outputs": [
    {
     "ename": "SyntaxError",
     "evalue": "invalid decimal literal (3576795305.py, line 3)",
     "output_type": "error",
     "traceback": [
      "\u001b[1;36m  Cell \u001b[1;32mIn[13], line 3\u001b[1;36m\u001b[0m\n\u001b[1;33m    b=2a\u001b[0m\n\u001b[1;37m      ^\u001b[0m\n\u001b[1;31mSyntaxError\u001b[0m\u001b[1;31m:\u001b[0m invalid decimal literal\n"
     ]
    }
   ],
   "source": [
    "#this is not possible this is error at compile time\n",
    "a=10\n",
    "b=2a"
   ]
  },
  {
   "cell_type": "code",
   "execution_count": 14,
   "id": "30597413-3d23-4795-9844-d5b760529a1d",
   "metadata": {},
   "outputs": [],
   "source": [
    "a=10\n",
    "b=\"2a\""
   ]
  },
  {
   "cell_type": "code",
   "execution_count": 15,
   "id": "ce513125-26ce-44c5-b5ed-077406e801ae",
   "metadata": {},
   "outputs": [
    {
     "ename": "TypeError",
     "evalue": "unsupported operand type(s) for /: 'int' and 'str'",
     "output_type": "error",
     "traceback": [
      "\u001b[1;31m---------------------------------------------------------------------------\u001b[0m",
      "\u001b[1;31mTypeError\u001b[0m                                 Traceback (most recent call last)",
      "Cell \u001b[1;32mIn[15], line 1\u001b[0m\n\u001b[1;32m----> 1\u001b[0m c\u001b[38;5;241m=\u001b[39m\u001b[43ma\u001b[49m\u001b[38;5;241;43m/\u001b[39;49m\u001b[43mb\u001b[49m\n\u001b[0;32m      2\u001b[0m \u001b[38;5;28mprint\u001b[39m(\u001b[38;5;124m\"\u001b[39m\u001b[38;5;124mdiv is \u001b[39m\u001b[38;5;124m\"\u001b[39m,c)\n",
      "\u001b[1;31mTypeError\u001b[0m: unsupported operand type(s) for /: 'int' and 'str'"
     ]
    }
   ],
   "source": [
    "c=a/b\n",
    "print(\"div is \",c)"
   ]
  },
  {
   "cell_type": "code",
   "execution_count": 16,
   "id": "dd8c175a-cf46-4461-99de-71db9703009b",
   "metadata": {},
   "outputs": [
    {
     "ename": "SyntaxError",
     "evalue": "invalid decimal literal (941631723.py, line 2)",
     "output_type": "error",
     "traceback": [
      "\u001b[1;36m  Cell \u001b[1;32mIn[16], line 2\u001b[1;36m\u001b[0m\n\u001b[1;33m    b=int(2a)\u001b[0m\n\u001b[1;37m          ^\u001b[0m\n\u001b[1;31mSyntaxError\u001b[0m\u001b[1;31m:\u001b[0m invalid decimal literal\n"
     ]
    }
   ],
   "source": [
    "a=10\n",
    "b=int(2a)"
   ]
  },
  {
   "cell_type": "code",
   "execution_count": 17,
   "id": "97aa8376-5a87-42a4-a1f3-6a921c9f9180",
   "metadata": {},
   "outputs": [
    {
     "name": "stdin",
     "output_type": "stream",
     "text": [
      "enter first number 2\n",
      "enter second number 0\n"
     ]
    },
    {
     "ename": "ZeroDivisionError",
     "evalue": "division by zero",
     "output_type": "error",
     "traceback": [
      "\u001b[1;31m---------------------------------------------------------------------------\u001b[0m",
      "\u001b[1;31mZeroDivisionError\u001b[0m                         Traceback (most recent call last)",
      "Cell \u001b[1;32mIn[17], line 3\u001b[0m\n\u001b[0;32m      1\u001b[0m a\u001b[38;5;241m=\u001b[39m\u001b[38;5;28mint\u001b[39m(\u001b[38;5;28minput\u001b[39m(\u001b[38;5;124m\"\u001b[39m\u001b[38;5;124menter first number\u001b[39m\u001b[38;5;124m\"\u001b[39m))\n\u001b[0;32m      2\u001b[0m b\u001b[38;5;241m=\u001b[39m\u001b[38;5;28mint\u001b[39m(\u001b[38;5;28minput\u001b[39m(\u001b[38;5;124m\"\u001b[39m\u001b[38;5;124menter second number\u001b[39m\u001b[38;5;124m\"\u001b[39m))\n\u001b[1;32m----> 3\u001b[0m c\u001b[38;5;241m=\u001b[39m\u001b[43ma\u001b[49m\u001b[38;5;241;43m/\u001b[39;49m\u001b[43mb\u001b[49m\n\u001b[0;32m      4\u001b[0m \u001b[38;5;28mprint\u001b[39m(\u001b[38;5;124m\"\u001b[39m\u001b[38;5;124mdiv is \u001b[39m\u001b[38;5;124m\"\u001b[39m,c)\n\u001b[0;32m      5\u001b[0m d\u001b[38;5;241m=\u001b[39ma\u001b[38;5;241m+\u001b[39mb\n",
      "\u001b[1;31mZeroDivisionError\u001b[0m: division by zero"
     ]
    }
   ],
   "source": [
    "a=int(input(\"enter first number\"))\n",
    "b=int(input(\"enter second number\"))\n",
    "c=a/b\n",
    "print(\"div is \",c)\n",
    "d=a+b\n",
    "print(\"sum is \",d)"
   ]
  },
  {
   "cell_type": "markdown",
   "id": "99403205-fdcb-496a-b6e7-01907856ec05",
   "metadata": {},
   "source": [
    "python terminate the code\n",
    "and it display error msg in technical way\n"
   ]
  },
  {
   "cell_type": "markdown",
   "id": "c153a6a8-16cd-4650-9aef-e47df44d0936",
   "metadata": {},
   "source": [
    "#python\n",
    "\n",
    "try\n",
    "\n",
    "except\n",
    "\n",
    "else\n",
    "\n",
    "raise\n",
    "\n",
    "finally"
   ]
  },
  {
   "cell_type": "code",
   "execution_count": 2,
   "id": "d6aa806a-1f1d-407a-8d40-90c2feb95e10",
   "metadata": {},
   "outputs": [
    {
     "name": "stdin",
     "output_type": "stream",
     "text": [
      "enter first number 12\n",
      "enter second number 0\n"
     ]
    },
    {
     "name": "stdout",
     "output_type": "stream",
     "text": [
      "b should not be 0\n"
     ]
    }
   ],
   "source": [
    "try:\n",
    "    a=int(input(\"enter first number\"))\n",
    "    b=int(input(\"enter second number\"))\n",
    "    c=a/b\n",
    "    print(\"div is \",c)\n",
    "    d=a+b\n",
    "    print(\"sum is \",d)\n",
    "except:\n",
    "    print(\"b should not be 0\")"
   ]
  },
  {
   "cell_type": "code",
   "execution_count": 4,
   "id": "8f6a406d-7ebc-40de-85b0-9a977ebcd524",
   "metadata": {},
   "outputs": [
    {
     "name": "stdin",
     "output_type": "stream",
     "text": [
      "enter first number 12\n",
      "enter second number 0\n"
     ]
    },
    {
     "name": "stdout",
     "output_type": "stream",
     "text": [
      "b should not be 0\n",
      "sum is  12\n"
     ]
    }
   ],
   "source": [
    "try:\n",
    "    a=int(input(\"enter first number\"))\n",
    "    b=int(input(\"enter second number\"))\n",
    "    c=a/b\n",
    "    print(\"div is \",c)\n",
    "except :\n",
    "    print(\"b should not be 0\")\n",
    "d=a+b\n",
    "print(\"sum is \",d)"
   ]
  },
  {
   "cell_type": "code",
   "execution_count": 5,
   "id": "673fd2cb-c9db-4d4f-aaa3-aa0c424bafa1",
   "metadata": {},
   "outputs": [
    {
     "name": "stdin",
     "output_type": "stream",
     "text": [
      "enter first number 12\n",
      "enter second number 0\n"
     ]
    },
    {
     "name": "stdout",
     "output_type": "stream",
     "text": [
      "b should not be 0\n",
      "sum is  12\n"
     ]
    }
   ],
   "source": [
    "try:\n",
    "    a=int(input(\"enter first number\"))\n",
    "    b=int(input(\"enter second number\"))\n",
    "    c=a/b\n",
    "    print(\"div is \",c)\n",
    "except ZeroDivisionError:\n",
    "    print(\"b should not be 0\")\n",
    "d=a+b\n",
    "print(\"sum is \",d)"
   ]
  },
  {
   "cell_type": "code",
   "execution_count": 6,
   "id": "a8c9587f-71f7-4d2a-8ca4-cd16a9b69327",
   "metadata": {},
   "outputs": [
    {
     "name": "stdin",
     "output_type": "stream",
     "text": [
      "enter first number 132\n",
      "enter second number 5t\n"
     ]
    },
    {
     "name": "stdout",
     "output_type": "stream",
     "text": [
      "b should be integer\n",
      "sum is  132\n"
     ]
    }
   ],
   "source": [
    "try:\n",
    "    a=int(input(\"enter first number\"))\n",
    "    b=int(input(\"enter second number\"))\n",
    "    c=a/b\n",
    "    print(\"div is \",c)\n",
    "except:\n",
    "    print(\"b should be integer\")\n",
    "d=a+b\n",
    "print(\"sum is \",d)"
   ]
  },
  {
   "cell_type": "code",
   "execution_count": 7,
   "id": "7f2026aa-c875-4030-be97-5ebb5755f4c2",
   "metadata": {},
   "outputs": [
    {
     "name": "stdin",
     "output_type": "stream",
     "text": [
      "enter first number 12\n",
      "enter second number t5\n"
     ]
    },
    {
     "ename": "ValueError",
     "evalue": "invalid literal for int() with base 10: 't5'",
     "output_type": "error",
     "traceback": [
      "\u001b[1;31m---------------------------------------------------------------------------\u001b[0m",
      "\u001b[1;31mValueError\u001b[0m                                Traceback (most recent call last)",
      "Cell \u001b[1;32mIn[7], line 3\u001b[0m\n\u001b[0;32m      1\u001b[0m \u001b[38;5;28;01mtry\u001b[39;00m:\n\u001b[0;32m      2\u001b[0m     a\u001b[38;5;241m=\u001b[39m\u001b[38;5;28mint\u001b[39m(\u001b[38;5;28minput\u001b[39m(\u001b[38;5;124m\"\u001b[39m\u001b[38;5;124menter first number\u001b[39m\u001b[38;5;124m\"\u001b[39m))\n\u001b[1;32m----> 3\u001b[0m     b\u001b[38;5;241m=\u001b[39m\u001b[38;5;28;43mint\u001b[39;49m\u001b[43m(\u001b[49m\u001b[38;5;28;43minput\u001b[39;49m\u001b[43m(\u001b[49m\u001b[38;5;124;43m\"\u001b[39;49m\u001b[38;5;124;43menter second number\u001b[39;49m\u001b[38;5;124;43m\"\u001b[39;49m\u001b[43m)\u001b[49m\u001b[43m)\u001b[49m\n\u001b[0;32m      4\u001b[0m     c\u001b[38;5;241m=\u001b[39ma\u001b[38;5;241m/\u001b[39mb\n\u001b[0;32m      5\u001b[0m     \u001b[38;5;28mprint\u001b[39m(\u001b[38;5;124m\"\u001b[39m\u001b[38;5;124mdiv is \u001b[39m\u001b[38;5;124m\"\u001b[39m,c)\n",
      "\u001b[1;31mValueError\u001b[0m: invalid literal for int() with base 10: 't5'"
     ]
    }
   ],
   "source": [
    "try:\n",
    "    a=int(input(\"enter first number\"))\n",
    "    b=int(input(\"enter second number\"))\n",
    "    c=a/b\n",
    "    print(\"div is \",c)\n",
    "except ZeroDivisionError :\n",
    "    print(\"b should be integer\")\n",
    "d=a+b\n",
    "print(\"sum is \",d)"
   ]
  },
  {
   "cell_type": "code",
   "execution_count": 8,
   "id": "ed5f72cd-3bfc-4eff-bf17-1471bf8a7cc9",
   "metadata": {},
   "outputs": [
    {
     "name": "stdin",
     "output_type": "stream",
     "text": [
      "enter first number 12\n",
      "enter second number 5t\n"
     ]
    },
    {
     "name": "stdout",
     "output_type": "stream",
     "text": [
      "b should be integer\n",
      "sum is  12\n"
     ]
    }
   ],
   "source": [
    "try:\n",
    "    a=int(input(\"enter first number\"))\n",
    "    b=int(input(\"enter second number\"))\n",
    "    c=a/b\n",
    "    print(\"div is \",c)\n",
    "except ValueError :\n",
    "    print(\"b should be integer\")\n",
    "d=a+b\n",
    "print(\"sum is \",d)"
   ]
  },
  {
   "cell_type": "code",
   "execution_count": 9,
   "id": "132d07ee-9186-4ba9-9ff0-32631f33f1b6",
   "metadata": {},
   "outputs": [
    {
     "name": "stdin",
     "output_type": "stream",
     "text": [
      "enter first number 12\n",
      "enter second number 4r\n"
     ]
    },
    {
     "name": "stdout",
     "output_type": "stream",
     "text": [
      "b should be integer\n",
      "sum is  12\n"
     ]
    }
   ],
   "source": [
    "try:\n",
    "    a=int(input(\"enter first number\"))\n",
    "    b=int(input(\"enter second number\"))\n",
    "    c=a/b\n",
    "    print(\"div is \",c)\n",
    "except Exception :\n",
    "    print(\"b should be integer\")\n",
    "d=a+b\n",
    "print(\"sum is \",d)"
   ]
  },
  {
   "cell_type": "markdown",
   "id": "086a8775-6cf3-4b18-8cfb-fdafde9852a6",
   "metadata": {},
   "source": [
    "# 1.BaseException\n",
    "  1.1   Exception\n",
    "\n",
    "  1.11  ArithmeticError\n",
    "\n",
    "  1.112 ZerodivisionError\n",
    "\n",
    "  1.12  OsError\n",
    "\n",
    "  1.121 FileNotFoundError\n",
    "\n",
    "  1.122 PermissionError\n",
    "\n",
    "  1.13  RutimeError\n",
    "\n",
    "  1.14  LookupError\n",
    "\n",
    "  1.141 IndexError\n",
    "\n",
    "  1.142 KeyError\n",
    "\n",
    "  1.15  SyntaxError\n",
    "\n",
    "  1.151 IndentationError"
   ]
  },
  {
   "cell_type": "raw",
   "id": "33c50d91-c610-439b-8397-7e56ac256f09",
   "metadata": {},
   "source": [
    "b=0 #zerodivisionerror\n",
    "b=2a #value error"
   ]
  },
  {
   "cell_type": "code",
   "execution_count": 10,
   "id": "79cba44a-fd21-4539-82c1-b3a021311079",
   "metadata": {},
   "outputs": [
    {
     "name": "stdin",
     "output_type": "stream",
     "text": [
      "enter first number 22\n",
      "enter second number 3r\n"
     ]
    },
    {
     "name": "stdout",
     "output_type": "stream",
     "text": [
      "b should be integer\n",
      "sum is  22\n"
     ]
    }
   ],
   "source": [
    "try:\n",
    "    a=int(input(\"enter first number\"))\n",
    "    b=int(input(\"enter second number\"))\n",
    "    c=a/b\n",
    "    print(\"div is \",c)\n",
    "except ValueError:\n",
    "    print(\"b should be integer\")\n",
    "except ZeroDivisionError:\n",
    "    print(\"b should not be zero\")\n",
    "d=a+b\n",
    "print(\"sum is \",d)"
   ]
  },
  {
   "cell_type": "code",
   "execution_count": 11,
   "id": "779ba0ca-8f0e-443e-927d-29eb0a0a56c9",
   "metadata": {},
   "outputs": [
    {
     "name": "stdin",
     "output_type": "stream",
     "text": [
      "enter first number 12\n",
      "enter second number 0\n"
     ]
    },
    {
     "name": "stdout",
     "output_type": "stream",
     "text": [
      "b should not be zero\n",
      "sum is  12\n"
     ]
    }
   ],
   "source": [
    "try:\n",
    "    a=int(input(\"enter first number\"))\n",
    "    b=int(input(\"enter second number\"))\n",
    "    c=a/b\n",
    "    print(\"div is \",c)\n",
    "except ValueError:\n",
    "    print(\"b should be integer\")\n",
    "except ZeroDivisionError:\n",
    "    print(\"b should not be zero\")\n",
    "d=a+b\n",
    "print(\"sum is \",d)"
   ]
  },
  {
   "cell_type": "code",
   "execution_count": 12,
   "id": "15f6593c-076a-4bcd-96ce-8f50af4a2d44",
   "metadata": {},
   "outputs": [
    {
     "name": "stdin",
     "output_type": "stream",
     "text": [
      "enter first number 12\n",
      "enter second number 0\n"
     ]
    },
    {
     "name": "stdout",
     "output_type": "stream",
     "text": [
      "b should not be zero\n",
      "sum is  12\n"
     ]
    }
   ],
   "source": [
    "try:\n",
    "    a=int(input(\"enter first number\"))\n",
    "    b=int(input(\"enter second number\"))\n",
    "    c=a/b\n",
    "    print(\"div is \",c)\n",
    "\n",
    "except ZeroDivisionError:\n",
    "    print(\"b should not be zero\")\n",
    "except ValueError:\n",
    "    print(\"b should be integer\")\n",
    "\n",
    "d=a+b\n",
    "print(\"sum is \",d)"
   ]
  },
  {
   "cell_type": "code",
   "execution_count": 13,
   "id": "d1190d96-9e04-4b65-9fe8-7915bdcaf4cf",
   "metadata": {},
   "outputs": [
    {
     "name": "stdin",
     "output_type": "stream",
     "text": [
      "enter first number 12\n",
      "enter second number 2r\n"
     ]
    },
    {
     "name": "stdout",
     "output_type": "stream",
     "text": [
      "b should be integer\n",
      "sum is  12\n"
     ]
    }
   ],
   "source": [
    "try:\n",
    "    a=int(input(\"enter first number\"))\n",
    "    b=int(input(\"enter second number\"))\n",
    "    c=a/b\n",
    "    print(\"div is \",c)\n",
    "\n",
    "except ZeroDivisionError:\n",
    "    print(\"b should not be zero\")\n",
    "except ValueError:\n",
    "    print(\"b should be integer\")\n",
    "\n",
    "d=a+b\n",
    "print(\"sum is \",d)"
   ]
  },
  {
   "cell_type": "markdown",
   "id": "a3db1b5a-d9f6-43a5-ab53-f3993d92ce53",
   "metadata": {},
   "source": [
    "# always child class will come first and then parent class will come otherwise it wont get the chance to execute it "
   ]
  },
  {
   "cell_type": "code",
   "execution_count": 14,
   "id": "7d777edb-8ee1-4a80-8519-b1264a1e5d80",
   "metadata": {},
   "outputs": [
    {
     "data": {
      "text/plain": [
       "7.38905609893065"
      ]
     },
     "execution_count": 14,
     "metadata": {},
     "output_type": "execute_result"
    }
   ],
   "source": [
    "import math\n",
    "math.exp(2)"
   ]
  },
  {
   "cell_type": "code",
   "execution_count": 15,
   "id": "5839ee9e-94dc-4068-aed4-c2c34aff1d87",
   "metadata": {},
   "outputs": [
    {
     "ename": "OverflowError",
     "evalue": "math range error",
     "output_type": "error",
     "traceback": [
      "\u001b[1;31m---------------------------------------------------------------------------\u001b[0m",
      "\u001b[1;31mOverflowError\u001b[0m                             Traceback (most recent call last)",
      "Cell \u001b[1;32mIn[15], line 2\u001b[0m\n\u001b[0;32m      1\u001b[0m \u001b[38;5;28;01mimport\u001b[39;00m \u001b[38;5;21;01mmath\u001b[39;00m\n\u001b[1;32m----> 2\u001b[0m \u001b[43mmath\u001b[49m\u001b[38;5;241;43m.\u001b[39;49m\u001b[43mexp\u001b[49m\u001b[43m(\u001b[49m\u001b[38;5;241;43m20000\u001b[39;49m\u001b[43m)\u001b[49m\n",
      "\u001b[1;31mOverflowError\u001b[0m: math range error"
     ]
    }
   ],
   "source": [
    "import math\n",
    "math.exp(20000)"
   ]
  },
  {
   "cell_type": "code",
   "execution_count": 16,
   "id": "08c056c1-dc96-4fb0-87b2-c196fdc8350c",
   "metadata": {},
   "outputs": [
    {
     "name": "stdout",
     "output_type": "stream",
     "text": [
      "Numeric calculation failed!\n"
     ]
    }
   ],
   "source": [
    "import math\n",
    "try:\n",
    "\tx=10/0\n",
    "\tprint(x)\n",
    "\tans=math.exp(20000)\n",
    "\tprint(ans)\n",
    "\n",
    "except ArithmeticError:\n",
    "\tprint(\"Numeric calculation failed!\")\n",
    "except ZeroDivisionError:\n",
    "\tprint(\"Division by 0 exception occurred!\")\t"
   ]
  },
  {
   "cell_type": "code",
   "execution_count": 17,
   "id": "065701dd-7cb5-4d4a-90d0-3760b58fb6e7",
   "metadata": {},
   "outputs": [
    {
     "name": "stdout",
     "output_type": "stream",
     "text": [
      "Division by 0 exception occurred!\n"
     ]
    }
   ],
   "source": [
    "import math\n",
    "try:\n",
    "\tx=10/0\n",
    "\tprint(x)\n",
    "\tans=math.exp(20000)\n",
    "\tprint(ans)\n",
    "\n",
    "except ZeroDivisionError:\n",
    "\tprint(\"Division by 0 exception occurred!\")\t\n",
    "except ArithmeticError:\n",
    "\tprint(\"Numeric calculation failed!\")"
   ]
  },
  {
   "cell_type": "code",
   "execution_count": 18,
   "id": "131bb820-e72d-4521-8996-58f9083a25bc",
   "metadata": {},
   "outputs": [
    {
     "name": "stdout",
     "output_type": "stream",
     "text": [
      "2.0\n",
      "Numeric calculation failed!\n"
     ]
    }
   ],
   "source": [
    "import math\n",
    "try:\n",
    "\n",
    "\tx=10/5\n",
    "\tprint(x)\n",
    "\tans=math.exp(20000)\n",
    "\tprint(ans)\t\n",
    "except ZeroDivisionError:\n",
    "\tprint(\"Division by 0 exception occurred!\")\t\n",
    "except ArithmeticError:\n",
    "\tprint(\"Numeric calculation failed!\")"
   ]
  },
  {
   "cell_type": "code",
   "execution_count": 19,
   "id": "44d1e618-f400-4a72-9eb0-90749db5f415",
   "metadata": {},
   "outputs": [
    {
     "name": "stdout",
     "output_type": "stream",
     "text": [
      "2.0\n",
      "Numeric calculation failed!\n"
     ]
    }
   ],
   "source": [
    "import math\n",
    "try:\n",
    "\n",
    "\tx=10/5\n",
    "\tprint(x)\n",
    "\tans=math.exp(20000)\n",
    "\tprint(ans)\t\n",
    "except ArithmeticError:\n",
    "\tprint(\"Numeric calculation failed!\")\n",
    "except ZeroDivisionError:\n",
    "\tprint(\"Division by 0 exception occurred!\")\t"
   ]
  },
  {
   "cell_type": "code",
   "execution_count": 20,
   "id": "bf8db925-836e-4cfe-8f8f-6d908660c72b",
   "metadata": {},
   "outputs": [
    {
     "name": "stdout",
     "output_type": "stream",
     "text": [
      "Numeric calculation failed!\n"
     ]
    }
   ],
   "source": [
    "import math\n",
    "try:\n",
    "\tx=10/0\n",
    "\tprint(x)\n",
    "\tans=math.exp(20000)\n",
    "\tprint(ans)\n",
    "\n",
    "except ArithmeticError:\n",
    "\tprint(\"Numeric calculation failed!\")\n",
    "except ZeroDivisionError:\n",
    "\tprint(\"Division by 0 exception occurred!\")\t"
   ]
  },
  {
   "cell_type": "code",
   "execution_count": 21,
   "id": "0265ad1a-e4c1-46ff-b560-4c52075c29bc",
   "metadata": {},
   "outputs": [
    {
     "name": "stdout",
     "output_type": "stream",
     "text": [
      "Numeric calculation failed!\n"
     ]
    }
   ],
   "source": [
    "import math\n",
    "try:\n",
    "    ans=math.exp(20000)\n",
    "    print(ans)\n",
    "    x=10/0\n",
    "    print(x)\n",
    "except ZeroDivisionError:\n",
    "\tprint(\"Division by 0 exception occurred!\")\t\n",
    "except ArithmeticError:\n",
    "\tprint(\"Numeric calculation failed!\")"
   ]
  },
  {
   "cell_type": "code",
   "execution_count": 22,
   "id": "94caeffe-f436-4dd1-a36e-2456078e8ab7",
   "metadata": {},
   "outputs": [
    {
     "name": "stdout",
     "output_type": "stream",
     "text": [
      "Numeric calculation failed!\n"
     ]
    }
   ],
   "source": [
    "import math\n",
    "try:\n",
    "    ans=math.exp(20000)\n",
    "    print(ans)\n",
    "    x=10/0\n",
    "    print(x)\n",
    "except ArithmeticError:\n",
    "\tprint(\"Numeric calculation failed!\")\n",
    "except ZeroDivisionError:\n",
    "\tprint(\"Division by 0 exception occurred!\")"
   ]
  },
  {
   "cell_type": "raw",
   "id": "0e0fec34-98e9-494d-90a5-edeb228ac09c",
   "metadata": {},
   "source": [
    "Write a program to ask the user to input 2 integers and calculate and print their division. Make sure your program behaves as follows:\n",
    "If the user enters a non integer value then ask him to enter only integers\n",
    "If denominator is 0 , then ask him to input non-zero denominator\n",
    "Repeat the process until correct input is given\n",
    "\n",
    "Only if the inputs are correct then display their division and terminate the code\n"
   ]
  },
  {
   "cell_type": "code",
   "execution_count": 23,
   "id": "4e710829-42c4-496f-8c8d-9c2ee36578a2",
   "metadata": {},
   "outputs": [
    {
     "name": "stdin",
     "output_type": "stream",
     "text": [
      "enter first number 12\n",
      "enter second number 0\n"
     ]
    },
    {
     "name": "stdout",
     "output_type": "stream",
     "text": [
      "b should not be zero\n"
     ]
    },
    {
     "name": "stdin",
     "output_type": "stream",
     "text": [
      "enter first number 12\n",
      "enter second number 5t\n"
     ]
    },
    {
     "name": "stdout",
     "output_type": "stream",
     "text": [
      "b should be not be char or string\n"
     ]
    },
    {
     "name": "stdin",
     "output_type": "stream",
     "text": [
      "enter first number 12\n",
      "enter second number 6y\n"
     ]
    },
    {
     "name": "stdout",
     "output_type": "stream",
     "text": [
      "b should be not be char or string\n"
     ]
    },
    {
     "name": "stdin",
     "output_type": "stream",
     "text": [
      "enter first number 12\n",
      "enter second number 0\n"
     ]
    },
    {
     "name": "stdout",
     "output_type": "stream",
     "text": [
      "b should not be zero\n"
     ]
    },
    {
     "name": "stdin",
     "output_type": "stream",
     "text": [
      "enter first number 12\n",
      "enter second number 6\n"
     ]
    },
    {
     "name": "stdout",
     "output_type": "stream",
     "text": [
      "2.0\n"
     ]
    }
   ],
   "source": [
    "while True:\n",
    "    try:\n",
    "        a=int(input(\"enter first number\"))\n",
    "        b=int(input(\"enter second number\"))\n",
    "        c=a/b\n",
    "        print(c)\n",
    "        break\n",
    "    except ZeroDivisionError:\n",
    "        print(\"b should not be zero\")\n",
    "    except ValueError:\n",
    "        print(\"b should be not be char or string\")"
   ]
  },
  {
   "cell_type": "code",
   "execution_count": 24,
   "id": "363a791d-3a3e-4800-b08c-6a454885efbe",
   "metadata": {},
   "outputs": [
    {
     "name": "stdin",
     "output_type": "stream",
     "text": [
      "Input first no: 104\n",
      "Input second no: 4t\n"
     ]
    },
    {
     "name": "stdout",
     "output_type": "stream",
     "text": [
      "invalid literal for int() with base 10: '4t'\n"
     ]
    },
    {
     "name": "stdin",
     "output_type": "stream",
     "text": [
      "Input first no: 12\n",
      "Input second no: 0\n"
     ]
    },
    {
     "name": "stdout",
     "output_type": "stream",
     "text": [
      "division by zero\n"
     ]
    },
    {
     "name": "stdin",
     "output_type": "stream",
     "text": [
      "Input first no: 12\n",
      "Input second no: 4t\n"
     ]
    },
    {
     "name": "stdout",
     "output_type": "stream",
     "text": [
      "invalid literal for int() with base 10: '4t'\n"
     ]
    },
    {
     "name": "stdin",
     "output_type": "stream",
     "text": [
      "Input first no: 12\n",
      "Input second no: 0\n"
     ]
    },
    {
     "name": "stdout",
     "output_type": "stream",
     "text": [
      "division by zero\n"
     ]
    },
    {
     "name": "stdin",
     "output_type": "stream",
     "text": [
      "Input first no: 12\n",
      "Input second no: 9\n"
     ]
    },
    {
     "name": "stdout",
     "output_type": "stream",
     "text": [
      "Div is  1.3333333333333333\n"
     ]
    }
   ],
   "source": [
    "while(True):\n",
    "\ttry:\n",
    "\t\ta=int(input(\"Input first no:\"))\n",
    "\t\tb=int(input(\"Input second no:\"))\n",
    "\t\tc=a/b\n",
    "\t\tprint(\"Div is \",c)\n",
    "\t\tbreak;\n",
    "\texcept (ValueError,ZeroDivisionError) as e:\n",
    "\t\tprint(e)\t\n"
   ]
  },
  {
   "cell_type": "code",
   "execution_count": 25,
   "id": "f96f1b76-71df-4659-bba3-65ecfd2094bf",
   "metadata": {},
   "outputs": [
    {
     "name": "stdin",
     "output_type": "stream",
     "text": [
      "Input first no: 12\n",
      "Input second no: 5t\n"
     ]
    },
    {
     "name": "stdout",
     "output_type": "stream",
     "text": [
      "b should not be zero or string\n"
     ]
    },
    {
     "name": "stdin",
     "output_type": "stream",
     "text": [
      "Input first no: 12\n",
      "Input second no: 0\n"
     ]
    },
    {
     "name": "stdout",
     "output_type": "stream",
     "text": [
      "b should not be zero or string\n"
     ]
    },
    {
     "name": "stdin",
     "output_type": "stream",
     "text": [
      "Input first no: 12\n",
      "Input second no: 9\n"
     ]
    },
    {
     "name": "stdout",
     "output_type": "stream",
     "text": [
      "Div is  1.3333333333333333\n"
     ]
    }
   ],
   "source": [
    "while(True):\n",
    "\ttry:\n",
    "\t\ta=int(input(\"Input first no:\"))\n",
    "\t\tb=int(input(\"Input second no:\"))\n",
    "\t\tc=a/b\n",
    "\t\tprint(\"Div is \",c)\n",
    "\t\tbreak;\n",
    "\texcept (ValueError,ZeroDivisionError) as e:\n",
    "\t\tprint(\"b should not be zero or string\")\t"
   ]
  },
  {
   "cell_type": "code",
   "execution_count": 27,
   "id": "2e27e6b4-1fc9-4b87-a65c-b15cd1af7cbd",
   "metadata": {},
   "outputs": [],
   "source": [
    "import sys"
   ]
  },
  {
   "cell_type": "code",
   "execution_count": 28,
   "id": "f59885ad-694b-4738-8f7a-9d96af987023",
   "metadata": {},
   "outputs": [
    {
     "data": {
      "text/plain": [
       "['__breakpointhook__',\n",
       " '__displayhook__',\n",
       " '__doc__',\n",
       " '__excepthook__',\n",
       " '__interactivehook__',\n",
       " '__loader__',\n",
       " '__name__',\n",
       " '__package__',\n",
       " '__spec__',\n",
       " '__stderr__',\n",
       " '__stdin__',\n",
       " '__stdout__',\n",
       " '__unraisablehook__',\n",
       " '_base_executable',\n",
       " '_clear_type_cache',\n",
       " '_current_exceptions',\n",
       " '_current_frames',\n",
       " '_debugmallocstats',\n",
       " '_enablelegacywindowsfsencoding',\n",
       " '_framework',\n",
       " '_getframe',\n",
       " '_getframemodulename',\n",
       " '_git',\n",
       " '_home',\n",
       " '_setprofileallthreads',\n",
       " '_settraceallthreads',\n",
       " '_stdlib_dir',\n",
       " '_vpath',\n",
       " '_xoptions',\n",
       " 'activate_stack_trampoline',\n",
       " 'addaudithook',\n",
       " 'api_version',\n",
       " 'argv',\n",
       " 'audit',\n",
       " 'base_exec_prefix',\n",
       " 'base_prefix',\n",
       " 'breakpointhook',\n",
       " 'builtin_module_names',\n",
       " 'byteorder',\n",
       " 'call_tracing',\n",
       " 'copyright',\n",
       " 'deactivate_stack_trampoline',\n",
       " 'displayhook',\n",
       " 'dllhandle',\n",
       " 'dont_write_bytecode',\n",
       " 'exc_info',\n",
       " 'excepthook',\n",
       " 'exception',\n",
       " 'exec_prefix',\n",
       " 'executable',\n",
       " 'exit',\n",
       " 'flags',\n",
       " 'float_info',\n",
       " 'float_repr_style',\n",
       " 'get_asyncgen_hooks',\n",
       " 'get_coroutine_origin_tracking_depth',\n",
       " 'get_int_max_str_digits',\n",
       " 'getallocatedblocks',\n",
       " 'getdefaultencoding',\n",
       " 'getfilesystemencodeerrors',\n",
       " 'getfilesystemencoding',\n",
       " 'getprofile',\n",
       " 'getrecursionlimit',\n",
       " 'getrefcount',\n",
       " 'getsizeof',\n",
       " 'getswitchinterval',\n",
       " 'gettrace',\n",
       " 'getunicodeinternedsize',\n",
       " 'getwindowsversion',\n",
       " 'hash_info',\n",
       " 'hexversion',\n",
       " 'implementation',\n",
       " 'int_info',\n",
       " 'intern',\n",
       " 'is_finalizing',\n",
       " 'is_stack_trampoline_active',\n",
       " 'last_traceback',\n",
       " 'last_type',\n",
       " 'last_value',\n",
       " 'maxsize',\n",
       " 'maxunicode',\n",
       " 'meta_path',\n",
       " 'modules',\n",
       " 'monitoring',\n",
       " 'orig_argv',\n",
       " 'path',\n",
       " 'path_hooks',\n",
       " 'path_importer_cache',\n",
       " 'platform',\n",
       " 'platlibdir',\n",
       " 'prefix',\n",
       " 'ps1',\n",
       " 'ps2',\n",
       " 'ps3',\n",
       " 'pycache_prefix',\n",
       " 'set_asyncgen_hooks',\n",
       " 'set_coroutine_origin_tracking_depth',\n",
       " 'set_int_max_str_digits',\n",
       " 'setprofile',\n",
       " 'setrecursionlimit',\n",
       " 'setswitchinterval',\n",
       " 'settrace',\n",
       " 'stderr',\n",
       " 'stdin',\n",
       " 'stdlib_module_names',\n",
       " 'stdout',\n",
       " 'thread_info',\n",
       " 'unraisablehook',\n",
       " 'version',\n",
       " 'version_info',\n",
       " 'warnoptions',\n",
       " 'winver']"
      ]
     },
     "execution_count": 28,
     "metadata": {},
     "output_type": "execute_result"
    }
   ],
   "source": [
    "dir(sys)"
   ]
  },
  {
   "cell_type": "code",
   "execution_count": 29,
   "id": "9552a2b9-4350-445c-9661-005dcc406a15",
   "metadata": {},
   "outputs": [
    {
     "name": "stdin",
     "output_type": "stream",
     "text": [
      "Input first no: 12\n",
      "Input second no: 0\n"
     ]
    },
    {
     "name": "stdout",
     "output_type": "stream",
     "text": [
      "(<class 'ZeroDivisionError'>, ZeroDivisionError('division by zero'), <traceback object at 0x0000015B5E2E0A40>)\n"
     ]
    },
    {
     "name": "stdin",
     "output_type": "stream",
     "text": [
      "Input first no: 12\n",
      "Input second no: 2\n"
     ]
    },
    {
     "name": "stdout",
     "output_type": "stream",
     "text": [
      "Div is  6.0\n"
     ]
    }
   ],
   "source": [
    "while(True):\n",
    "    try:\n",
    "        a=int(input(\"Input first no:\"))\n",
    "        b=int(input(\"Input second no:\"))\n",
    "        c=a/b\n",
    "        print(\"Div is \",c)\n",
    "        break\n",
    "    except:\n",
    "        a=sys.exc_info()\n",
    "        print(a)\n",
    "        "
   ]
  },
  {
   "cell_type": "code",
   "execution_count": 30,
   "id": "36cb0b13-f74b-4598-9ce8-a9bc71ed8c09",
   "metadata": {},
   "outputs": [
    {
     "name": "stdin",
     "output_type": "stream",
     "text": [
      "Input first no: 12\n",
      "Input second no: 0\n"
     ]
    },
    {
     "name": "stdout",
     "output_type": "stream",
     "text": [
      "exception class <class 'ZeroDivisionError'>\n",
      "exception message division by zero\n",
      "line number 6\n"
     ]
    },
    {
     "name": "stdin",
     "output_type": "stream",
     "text": [
      "Input first no: 12\n",
      "Input second no: 2\n"
     ]
    },
    {
     "name": "stdout",
     "output_type": "stream",
     "text": [
      "Div is  6.0\n"
     ]
    }
   ],
   "source": [
    "# it is giving me entire details\n",
    "while(True):\n",
    "    try:\n",
    "        a=int(input(\"Input first no:\"))\n",
    "        b=int(input(\"Input second no:\"))\n",
    "        c=a/b\n",
    "        print(\"Div is \",c)\n",
    "        break\n",
    "    except:\n",
    "        a,b,c=sys.exc_info()\n",
    "        print(\"exception class\",a)\n",
    "        print(\"exception message\",b)\n",
    "        print(\"line number\",c.tb_lineno)"
   ]
  },
  {
   "cell_type": "code",
   "execution_count": 31,
   "id": "3f97fe7f-ad2a-4c1a-b74a-f134234ed692",
   "metadata": {},
   "outputs": [],
   "source": [
    "try:\n",
    "    pass\n",
    "except:\n",
    "    pass\n",
    "finally:\n",
    "    pass"
   ]
  },
  {
   "cell_type": "code",
   "execution_count": 32,
   "id": "f9e1cf7c-3338-4353-8029-2ff3b1992467",
   "metadata": {},
   "outputs": [
    {
     "name": "stdin",
     "output_type": "stream",
     "text": [
      "Input first no: 12\n",
      "Input second no: 0\n"
     ]
    },
    {
     "name": "stdout",
     "output_type": "stream",
     "text": [
      "b should not be a zero\n",
      "it will be always running\n"
     ]
    }
   ],
   "source": [
    "try:\n",
    "        a=int(input(\"Input first no:\"))\n",
    "        b=int(input(\"Input second no:\"))\n",
    "        c=a/b\n",
    "        print(\"Div is \",c)\n",
    "        \n",
    "        x=int('a')\n",
    "except:\n",
    "    print(\"b should not be a zero\")\n",
    "\n",
    "finally:\n",
    "    print(\"it will be always running\")\n",
    "\n",
    "\n"
   ]
  },
  {
   "cell_type": "code",
   "execution_count": 33,
   "id": "16fcccef-4d9e-467b-b412-695be4b6c28c",
   "metadata": {},
   "outputs": [
    {
     "name": "stdin",
     "output_type": "stream",
     "text": [
      "Input first no: 12\n",
      "Input second no: 0\n"
     ]
    },
    {
     "name": "stdout",
     "output_type": "stream",
     "text": [
      "b should not be a zero\n"
     ]
    },
    {
     "ename": "ValueError",
     "evalue": "invalid literal for int() with base 10: 'a'",
     "output_type": "error",
     "traceback": [
      "\u001b[1;31m---------------------------------------------------------------------------\u001b[0m",
      "\u001b[1;31mValueError\u001b[0m                                Traceback (most recent call last)",
      "Cell \u001b[1;32mIn[33], line 12\u001b[0m\n\u001b[0;32m      9\u001b[0m     \u001b[38;5;28mprint\u001b[39m(\u001b[38;5;124m\"\u001b[39m\u001b[38;5;124mb should not be a zero\u001b[39m\u001b[38;5;124m\"\u001b[39m)\n\u001b[0;32m     11\u001b[0m \u001b[38;5;28;01mfinally\u001b[39;00m:\n\u001b[1;32m---> 12\u001b[0m     x\u001b[38;5;241m=\u001b[39m\u001b[38;5;28;43mint\u001b[39;49m\u001b[43m(\u001b[49m\u001b[38;5;124;43m'\u001b[39;49m\u001b[38;5;124;43ma\u001b[39;49m\u001b[38;5;124;43m'\u001b[39;49m\u001b[43m)\u001b[49m\n\u001b[0;32m     13\u001b[0m     \u001b[38;5;28mprint\u001b[39m(\u001b[38;5;124m\"\u001b[39m\u001b[38;5;124mit will be always running\u001b[39m\u001b[38;5;124m\"\u001b[39m)\n",
      "\u001b[1;31mValueError\u001b[0m: invalid literal for int() with base 10: 'a'"
     ]
    }
   ],
   "source": [
    "try:\n",
    "        a=int(input(\"Input first no:\"))\n",
    "        b=int(input(\"Input second no:\"))\n",
    "        c=a/b\n",
    "        print(\"Div is \",c)\n",
    "        \n",
    "        \n",
    "except:\n",
    "    print(\"b should not be a zero\")\n",
    "\n",
    "finally:\n",
    "    x=int('a')\n",
    "    print(\"it will be always running\")\n"
   ]
  },
  {
   "cell_type": "code",
   "execution_count": 34,
   "id": "dfe92263-548f-4544-a9b4-d044ebb3db29",
   "metadata": {},
   "outputs": [
    {
     "name": "stdin",
     "output_type": "stream",
     "text": [
      "Input first no: 12\n",
      "Input second no: 0\n"
     ]
    },
    {
     "name": "stdout",
     "output_type": "stream",
     "text": [
      "b should not be a zero\n"
     ]
    },
    {
     "ename": "ValueError",
     "evalue": "invalid literal for int() with base 10: 'a'",
     "output_type": "error",
     "traceback": [
      "\u001b[1;31m---------------------------------------------------------------------------\u001b[0m",
      "\u001b[1;31mValueError\u001b[0m                                Traceback (most recent call last)",
      "Cell \u001b[1;32mIn[34], line 9\u001b[0m\n\u001b[0;32m      6\u001b[0m \u001b[38;5;28;01mexcept\u001b[39;00m:\n\u001b[0;32m      7\u001b[0m     \u001b[38;5;28mprint\u001b[39m(\u001b[38;5;124m\"\u001b[39m\u001b[38;5;124mb should not be a zero\u001b[39m\u001b[38;5;124m\"\u001b[39m)\n\u001b[1;32m----> 9\u001b[0m x\u001b[38;5;241m=\u001b[39m\u001b[38;5;28;43mint\u001b[39;49m\u001b[43m(\u001b[49m\u001b[38;5;124;43m'\u001b[39;49m\u001b[38;5;124;43ma\u001b[39;49m\u001b[38;5;124;43m'\u001b[39;49m\u001b[43m)\u001b[49m\n\u001b[0;32m     11\u001b[0m \u001b[38;5;28mprint\u001b[39m(\u001b[38;5;124m\"\u001b[39m\u001b[38;5;124mit will be always running\u001b[39m\u001b[38;5;124m\"\u001b[39m)\n",
      "\u001b[1;31mValueError\u001b[0m: invalid literal for int() with base 10: 'a'"
     ]
    }
   ],
   "source": [
    "try:\n",
    "        a=int(input(\"Input first no:\"))\n",
    "        b=int(input(\"Input second no:\"))\n",
    "        c=a/b\n",
    "        print(\"Div is \",c)\n",
    "except:\n",
    "    print(\"b should not be a zero\")\n",
    "\n",
    "x=int('a')\n",
    "\n",
    "print(\"it will be always running\")"
   ]
  },
  {
   "cell_type": "code",
   "execution_count": 38,
   "id": "e7dbef34-cf0e-4dee-a48b-c8607ecac548",
   "metadata": {},
   "outputs": [
    {
     "name": "stdin",
     "output_type": "stream",
     "text": [
      "enter first number 0\n",
      "enter second number -9\n"
     ]
    },
    {
     "name": "stdout",
     "output_type": "stream",
     "text": [
      "negative number not allowed, try again\n"
     ]
    },
    {
     "name": "stdin",
     "output_type": "stream",
     "text": [
      "enter first number -\n"
     ]
    },
    {
     "name": "stdout",
     "output_type": "stream",
     "text": [
      "b should be not be char or string\n"
     ]
    },
    {
     "name": "stdin",
     "output_type": "stream",
     "text": [
      "enter first number 0\n",
      "enter second number 0\n"
     ]
    },
    {
     "name": "stdout",
     "output_type": "stream",
     "text": [
      "b should not be zero\n"
     ]
    },
    {
     "name": "stdin",
     "output_type": "stream",
     "text": [
      "enter first number 0\n",
      "enter second number 8\n"
     ]
    },
    {
     "name": "stdout",
     "output_type": "stream",
     "text": [
      "0.0\n"
     ]
    }
   ],
   "source": [
    "while True:\n",
    "    try:\n",
    "        a=int(input(\"enter first number\"))\n",
    "        b=int(input(\"enter second number\"))\n",
    "        # custom logic\n",
    "        if a<0 or b<0:\n",
    "            raise Exception(\"negative number not allowed, try again\")\n",
    "        c=a/b\n",
    "        print(c)\n",
    "        break\n",
    "    except ZeroDivisionError:\n",
    "        print(\"b should not be zero\")\n",
    "    except ValueError:\n",
    "        print(\"b should be not be char or string\")\n",
    "    except Exception as e:\n",
    "        print(e)\n",
    "        "
   ]
  },
  {
   "cell_type": "code",
   "execution_count": 39,
   "id": "7165330e-bef6-4acc-b9dc-225fef6aecc2",
   "metadata": {},
   "outputs": [
    {
     "name": "stdin",
     "output_type": "stream",
     "text": [
      "enter first number 10\n",
      "enter second number 0\n"
     ]
    },
    {
     "name": "stdout",
     "output_type": "stream",
     "text": [
      "division by zero\n"
     ]
    },
    {
     "name": "stdin",
     "output_type": "stream",
     "text": [
      "enter first number 12\n",
      "enter second number 6y\n"
     ]
    },
    {
     "name": "stdout",
     "output_type": "stream",
     "text": [
      "invalid literal for int() with base 10: '6y'\n"
     ]
    },
    {
     "name": "stdin",
     "output_type": "stream",
     "text": [
      "enter first number -4\n",
      "enter second number 5\n"
     ]
    },
    {
     "name": "stdout",
     "output_type": "stream",
     "text": [
      "negative number not allowed, try again\n"
     ]
    },
    {
     "name": "stdin",
     "output_type": "stream",
     "text": [
      "enter first number 12\n",
      "enter second number 4\n"
     ]
    },
    {
     "name": "stdout",
     "output_type": "stream",
     "text": [
      "3.0\n"
     ]
    }
   ],
   "source": [
    "while True:\n",
    "    try:\n",
    "        a=int(input(\"enter first number\"))\n",
    "        b=int(input(\"enter second number\"))\n",
    "        # custom logic\n",
    "        if a<0 or b<0:\n",
    "            raise Exception(\"negative number not allowed, try again\")\n",
    "        c=a/b\n",
    "        print(c)\n",
    "        break\n",
    "    except Exception as e:\n",
    "        print(e)"
   ]
  },
  {
   "cell_type": "code",
   "execution_count": 41,
   "id": "fe394bf9-eb7c-4086-8c7c-671769f87255",
   "metadata": {},
   "outputs": [
    {
     "name": "stdin",
     "output_type": "stream",
     "text": [
      "enter first number 12\n",
      "enter second number 0\n"
     ]
    },
    {
     "name": "stdout",
     "output_type": "stream",
     "text": [
      "something is wrong\n"
     ]
    },
    {
     "name": "stdin",
     "output_type": "stream",
     "text": [
      "enter first number 12\n",
      "enter second number 6y\n"
     ]
    },
    {
     "name": "stdout",
     "output_type": "stream",
     "text": [
      "something is wrong\n"
     ]
    },
    {
     "name": "stdin",
     "output_type": "stream",
     "text": [
      "enter first number 12\n",
      "enter second number -8\n"
     ]
    },
    {
     "name": "stdout",
     "output_type": "stream",
     "text": [
      "something is wrong\n"
     ]
    },
    {
     "name": "stdin",
     "output_type": "stream",
     "text": [
      "enter first number 21\n",
      "enter second number 2\n"
     ]
    },
    {
     "name": "stdout",
     "output_type": "stream",
     "text": [
      "10.5\n"
     ]
    }
   ],
   "source": [
    "while True:\n",
    "    try:\n",
    "        a=int(input(\"enter first number\"))\n",
    "        b=int(input(\"enter second number\"))\n",
    "        # custom logic\n",
    "        if a<0 or b<0:\n",
    "            raise Exception(\"negative number not allowed, try again\")\n",
    "        c=a/b\n",
    "        print(c)\n",
    "        break\n",
    "    except Exception:\n",
    "        print(\"something is wrong\")\n",
    "        "
   ]
  },
  {
   "cell_type": "code",
   "execution_count": null,
   "id": "91293560-90dc-4bcb-83b0-9c4f8d29b38c",
   "metadata": {},
   "outputs": [],
   "source": []
  },
  {
   "cell_type": "code",
   "execution_count": 43,
   "id": "48d3c021-820c-46e9-8c4e-df494282cca3",
   "metadata": {},
   "outputs": [
    {
     "name": "stdin",
     "output_type": "stream",
     "text": [
      "enter first number 12\n",
      "enter second number 0\n"
     ]
    },
    {
     "name": "stdout",
     "output_type": "stream",
     "text": [
      "division by zero\n"
     ]
    },
    {
     "name": "stdin",
     "output_type": "stream",
     "text": [
      "enter first number 12\n",
      "enter second number -9\n"
     ]
    },
    {
     "name": "stdout",
     "output_type": "stream",
     "text": [
      "name 'Hi' is not defined\n"
     ]
    },
    {
     "name": "stdin",
     "output_type": "stream",
     "text": [
      "enter first number 21\n",
      "enter second number 2\n"
     ]
    },
    {
     "name": "stdout",
     "output_type": "stream",
     "text": [
      "10.5\n"
     ]
    }
   ],
   "source": [
    "while True:\n",
    "    try:\n",
    "        a=int(input(\"enter first number\"))\n",
    "        b=int(input(\"enter second number\"))\n",
    "        # custom logic\n",
    "        if a<0 or b<0:\n",
    "            raise Hi(\"negative number not allowed, try again\")\n",
    "        c=a/b\n",
    "        print(c)\n",
    "        break\n",
    "    except Exception as e:\n",
    "        print(e)"
   ]
  },
  {
   "cell_type": "code",
   "execution_count": 44,
   "id": "c37ca9f1-4001-4d99-8cb1-a45a013a1ecc",
   "metadata": {},
   "outputs": [
    {
     "name": "stdin",
     "output_type": "stream",
     "text": [
      "enter first number 12\n",
      "enter second number 0\n"
     ]
    },
    {
     "name": "stdout",
     "output_type": "stream",
     "text": [
      "b should not be zero\n"
     ]
    },
    {
     "name": "stdin",
     "output_type": "stream",
     "text": [
      "enter first number 12\n",
      "enter second number 6u\n"
     ]
    },
    {
     "name": "stdout",
     "output_type": "stream",
     "text": [
      "b should be not be char or string\n"
     ]
    },
    {
     "name": "stdin",
     "output_type": "stream",
     "text": [
      "enter first number 12\n",
      "enter second number -8\n"
     ]
    },
    {
     "name": "stdout",
     "output_type": "stream",
     "text": [
      "negative number not allowed, try again\n"
     ]
    },
    {
     "name": "stdin",
     "output_type": "stream",
     "text": [
      "enter first number 07\n",
      "enter second number \n"
     ]
    },
    {
     "name": "stdout",
     "output_type": "stream",
     "text": [
      "b should be not be char or string\n"
     ]
    },
    {
     "name": "stdin",
     "output_type": "stream",
     "text": [
      "enter first number 34\n",
      "enter second number \n"
     ]
    },
    {
     "name": "stdout",
     "output_type": "stream",
     "text": [
      "b should be not be char or string\n"
     ]
    },
    {
     "name": "stdin",
     "output_type": "stream",
     "text": [
      "enter first number \n"
     ]
    },
    {
     "name": "stdout",
     "output_type": "stream",
     "text": [
      "b should be not be char or string\n"
     ]
    },
    {
     "name": "stdin",
     "output_type": "stream",
     "text": [
      "enter first number 4r\n"
     ]
    },
    {
     "name": "stdout",
     "output_type": "stream",
     "text": [
      "b should be not be char or string\n"
     ]
    },
    {
     "name": "stdin",
     "output_type": "stream",
     "text": [
      "enter first number 6\n",
      "enter second number 4\n"
     ]
    },
    {
     "name": "stdout",
     "output_type": "stream",
     "text": [
      "1.5\n"
     ]
    }
   ],
   "source": [
    "class NegativeNumberException(Exception):\n",
    "    pass\n",
    "\n",
    "while True:\n",
    "    try:\n",
    "        a=int(input(\"enter first number\"))\n",
    "        b=int(input(\"enter second number\"))\n",
    "        # custom logic\n",
    "        if a<0 or b<0:\n",
    "            raise NegativeNumberException(\"negative number not allowed, try again\")\n",
    "        c=a/b\n",
    "        print(c)\n",
    "        break\n",
    "    except ZeroDivisionError:\n",
    "        print(\"b should not be zero\")\n",
    "    except ValueError:\n",
    "        print(\"b should be not be char or string\")\n",
    "    except NegativeNumberException as e:\n",
    "        print(e)"
   ]
  },
  {
   "cell_type": "raw",
   "id": "7cfc2414-723b-4949-874d-4b0736f156a4",
   "metadata": {},
   "source": [
    "compile time error or syntax error\n",
    "\n",
    "what is exception(runtime error)\n",
    "\n",
    "how to handle exception\n",
    "\n",
    "(try except else finally raise)\n",
    "\n",
    "try except(in except writem custom message)\n",
    "\n",
    "you can mention specific class \n",
    "\n",
    "child class above to parent class\n",
    "\n",
    "sys.exc_info()(for getting entire detail of the exception)\n",
    "\n",
    "finally block\n",
    "\n",
    "raise keyword(at any line if you want to raise the exception you can use raise)\n",
    "\n",
    "custom exception class(base version) with raise keyword\n",
    "\n",
    "advance version of custom exception class"
   ]
  },
  {
   "cell_type": "code",
   "execution_count": null,
   "id": "4c000d4f-2b3a-48ff-a57d-8deb00e1f9c5",
   "metadata": {},
   "outputs": [],
   "source": []
  },
  {
   "cell_type": "markdown",
   "id": "6d47baf9-316a-404f-aae2-8b8eb877ec8a",
   "metadata": {},
   "source": [
    "### iterator and generator"
   ]
  },
  {
   "cell_type": "code",
   "execution_count": 5,
   "id": "f14a962c-58dd-4d00-85b4-6e0add115c34",
   "metadata": {},
   "outputs": [],
   "source": [
    "mylist1=['a','b','c','d','e']\n",
    "mylist2=[1,2,3,4,5]"
   ]
  },
  {
   "cell_type": "code",
   "execution_count": 6,
   "id": "528db48f-4faf-4827-a080-d461d4a804d8",
   "metadata": {},
   "outputs": [
    {
     "data": {
      "text/plain": [
       "<zip at 0x171fbfd2200>"
      ]
     },
     "execution_count": 6,
     "metadata": {},
     "output_type": "execute_result"
    }
   ],
   "source": [
    "zip(mylist1,mylist2)"
   ]
  },
  {
   "cell_type": "code",
   "execution_count": 7,
   "id": "442cb31a-77fc-4a29-b571-ae28f9785f29",
   "metadata": {},
   "outputs": [
    {
     "name": "stdout",
     "output_type": "stream",
     "text": [
      "('a', 1)\n",
      "('b', 2)\n",
      "('c', 3)\n",
      "('d', 4)\n",
      "('e', 5)\n"
     ]
    }
   ],
   "source": [
    "for i in zip(mylist1,mylist2):\n",
    "    print(i)"
   ]
  },
  {
   "cell_type": "code",
   "execution_count": 8,
   "id": "faa2eff7-afe1-41b7-a6ea-3744cd95cd51",
   "metadata": {},
   "outputs": [
    {
     "name": "stdout",
     "output_type": "stream",
     "text": [
      "a 1\n",
      "b 2\n",
      "c 3\n",
      "d 4\n",
      "e 5\n"
     ]
    }
   ],
   "source": [
    "for i,j in zip(mylist1,mylist2):\n",
    "    print(i,j)"
   ]
  },
  {
   "cell_type": "code",
   "execution_count": 9,
   "id": "af3599c7-8d2e-4d98-bfe9-769036d11757",
   "metadata": {},
   "outputs": [],
   "source": [
    "dict={}\n",
    "for x,y in zip(mylist1,mylist2):\n",
    "    dict[x]=y"
   ]
  },
  {
   "cell_type": "code",
   "execution_count": 10,
   "id": "369c67a1-8ad5-4ed6-9826-0db9d1cb1f7b",
   "metadata": {},
   "outputs": [
    {
     "data": {
      "text/plain": [
       "{'a': 1, 'b': 2, 'c': 3, 'd': 4, 'e': 5}"
      ]
     },
     "execution_count": 10,
     "metadata": {},
     "output_type": "execute_result"
    }
   ],
   "source": [
    "dict"
   ]
  },
  {
   "cell_type": "raw",
   "id": "e774d964-3579-4a73-9902-1ec093852169",
   "metadata": {},
   "source": [
    "map(func,seq) #it was giving me value according to logic\n",
    "filter(func,seq)# it was giving me value according to logic\n",
    "reduce(func,seq)# it will be providing me a single value"
   ]
  },
  {
   "cell_type": "code",
   "execution_count": 11,
   "id": "3eec58b1-e7f1-42c1-9704-cfb8c9743e97",
   "metadata": {},
   "outputs": [],
   "source": [
    "#reduce\n",
    "import functools"
   ]
  },
  {
   "cell_type": "code",
   "execution_count": 12,
   "id": "a380bf82-fc8e-4606-a7ac-447225ac4f45",
   "metadata": {},
   "outputs": [],
   "source": [
    "mylist=[1,3,5,6,2]"
   ]
  },
  {
   "cell_type": "code",
   "execution_count": 13,
   "id": "6787a686-bc76-41cf-b975-239783cb5db5",
   "metadata": {},
   "outputs": [
    {
     "data": {
      "text/plain": [
       "4"
      ]
     },
     "execution_count": 13,
     "metadata": {},
     "output_type": "execute_result"
    }
   ],
   "source": [
    "1+3"
   ]
  },
  {
   "cell_type": "code",
   "execution_count": 32,
   "id": "23e501fe-e0b4-45c6-b705-05dc60866285",
   "metadata": {},
   "outputs": [
    {
     "data": {
      "text/plain": [
       "9"
      ]
     },
     "execution_count": 32,
     "metadata": {},
     "output_type": "execute_result"
    }
   ],
   "source": [
    "4+5"
   ]
  },
  {
   "cell_type": "code",
   "execution_count": 33,
   "id": "2698b080-c627-4033-9d44-616af5163660",
   "metadata": {},
   "outputs": [
    {
     "data": {
      "text/plain": [
       "15"
      ]
     },
     "execution_count": 33,
     "metadata": {},
     "output_type": "execute_result"
    }
   ],
   "source": [
    "9+6"
   ]
  },
  {
   "cell_type": "code",
   "execution_count": 14,
   "id": "f64c2b7b-1077-4bea-9b9b-8042421633de",
   "metadata": {},
   "outputs": [
    {
     "data": {
      "text/plain": [
       "17"
      ]
     },
     "execution_count": 14,
     "metadata": {},
     "output_type": "execute_result"
    }
   ],
   "source": [
    "15+2"
   ]
  },
  {
   "cell_type": "code",
   "execution_count": 15,
   "id": "6a55ff73-1411-4231-a5e1-9efbc1462327",
   "metadata": {},
   "outputs": [
    {
     "data": {
      "text/plain": [
       "17"
      ]
     },
     "execution_count": 15,
     "metadata": {},
     "output_type": "execute_result"
    }
   ],
   "source": [
    "functools.reduce(lambda a,b : a+b ,mylist)"
   ]
  },
  {
   "cell_type": "code",
   "execution_count": 16,
   "id": "b840f045-a0c7-4ec9-9aeb-51165bc6c835",
   "metadata": {},
   "outputs": [],
   "source": [
    "mylist=[1,3,5,6,2]"
   ]
  },
  {
   "cell_type": "code",
   "execution_count": 17,
   "id": "4ae79f8a-aa69-44d4-afd8-526396f68778",
   "metadata": {},
   "outputs": [
    {
     "data": {
      "text/plain": [
       "6"
      ]
     },
     "execution_count": 17,
     "metadata": {},
     "output_type": "execute_result"
    }
   ],
   "source": [
    "functools.reduce(lambda a,b : a if a>b else b ,mylist)"
   ]
  },
  {
   "cell_type": "code",
   "execution_count": 18,
   "id": "19aee406-7495-4359-b1e2-999b54e1e096",
   "metadata": {},
   "outputs": [
    {
     "data": {
      "text/plain": [
       "180"
      ]
     },
     "execution_count": 18,
     "metadata": {},
     "output_type": "execute_result"
    }
   ],
   "source": [
    "functools.reduce(lambda a,b : a*b ,mylist)"
   ]
  },
  {
   "cell_type": "code",
   "execution_count": 20,
   "id": "81f5e54b-60cd-4adf-8760-1169ce909e6c",
   "metadata": {},
   "outputs": [
    {
     "name": "stdout",
     "output_type": "stream",
     "text": [
      "0\n",
      "1\n",
      "2\n",
      "3\n",
      "4\n",
      "5\n",
      "6\n",
      "7\n",
      "8\n",
      "9\n",
      "10\n",
      "11\n",
      "12\n",
      "13\n",
      "14\n",
      "15\n",
      "16\n",
      "17\n",
      "18\n",
      "19\n",
      "20\n",
      "21\n",
      "22\n",
      "23\n",
      "24\n",
      "25\n",
      "26\n",
      "27\n",
      "28\n",
      "29\n",
      "30\n",
      "31\n",
      "32\n",
      "33\n",
      "34\n",
      "35\n",
      "36\n",
      "37\n",
      "38\n",
      "39\n",
      "40\n",
      "41\n",
      "42\n",
      "43\n",
      "44\n",
      "45\n",
      "46\n",
      "47\n",
      "48\n",
      "49\n",
      "50\n",
      "51\n",
      "52\n",
      "53\n",
      "54\n",
      "55\n",
      "56\n",
      "57\n",
      "58\n",
      "59\n",
      "60\n",
      "61\n",
      "62\n",
      "63\n",
      "64\n",
      "65\n",
      "66\n",
      "67\n",
      "68\n",
      "69\n",
      "70\n",
      "71\n",
      "72\n",
      "73\n",
      "74\n",
      "75\n",
      "76\n",
      "77\n",
      "78\n",
      "79\n",
      "80\n",
      "81\n",
      "82\n",
      "83\n",
      "84\n",
      "85\n",
      "86\n",
      "87\n",
      "88\n",
      "89\n",
      "90\n",
      "91\n",
      "92\n",
      "93\n",
      "94\n",
      "95\n",
      "96\n",
      "97\n",
      "98\n",
      "99\n"
     ]
    }
   ],
   "source": [
    "for i in range(100):\n",
    "    print(i)"
   ]
  },
  {
   "cell_type": "code",
   "execution_count": 36,
   "id": "d186712e-ce4d-43fd-b3e9-b48924e2ac1a",
   "metadata": {},
   "outputs": [],
   "source": [
    "def demoo(n):\n",
    "    for i in range(n):\n",
    "        print(id(i))"
   ]
  },
  {
   "cell_type": "code",
   "execution_count": 37,
   "id": "630b9df0-5fd8-4249-958e-0018c3b29e33",
   "metadata": {},
   "outputs": [
    {
     "name": "stdout",
     "output_type": "stream",
     "text": [
      "140711007930776\n",
      "140711007930808\n",
      "140711007930840\n",
      "140711007930872\n",
      "140711007930904\n",
      "140711007930936\n",
      "140711007930968\n",
      "140711007931000\n",
      "140711007931032\n",
      "140711007931064\n"
     ]
    }
   ],
   "source": [
    "demoo(10)"
   ]
  },
  {
   "cell_type": "code",
   "execution_count": 38,
   "id": "a85a13f4-ea21-459f-9b17-24ea0e324c26",
   "metadata": {},
   "outputs": [],
   "source": [
    "def demo(n):\n",
    "    for i in range(n):\n",
    "        print(i)"
   ]
  },
  {
   "cell_type": "code",
   "execution_count": 39,
   "id": "7240440a-e263-4cc0-bb3a-ddfd7e023d29",
   "metadata": {},
   "outputs": [
    {
     "name": "stdout",
     "output_type": "stream",
     "text": [
      "0\n",
      "1\n",
      "2\n",
      "3\n",
      "4\n",
      "5\n",
      "6\n",
      "7\n",
      "8\n",
      "9\n"
     ]
    }
   ],
   "source": [
    "demo(10)"
   ]
  },
  {
   "cell_type": "code",
   "execution_count": 44,
   "id": "8ae1e984-a301-4d87-9139-1f2149fd562d",
   "metadata": {},
   "outputs": [],
   "source": [
    "def gen(n):\n",
    "    for i in range(n):\n",
    "        yield i"
   ]
  },
  {
   "cell_type": "code",
   "execution_count": 45,
   "id": "cec65dd6-94c9-4ab7-8993-7f995ab9df94",
   "metadata": {},
   "outputs": [],
   "source": [
    "X=gen(10)"
   ]
  },
  {
   "cell_type": "code",
   "execution_count": 46,
   "id": "ae27a056-294d-4c02-8e3b-66ca430dba94",
   "metadata": {},
   "outputs": [
    {
     "name": "stdout",
     "output_type": "stream",
     "text": [
      "140711007930776\n"
     ]
    }
   ],
   "source": [
    "print(id(next(X)))"
   ]
  },
  {
   "cell_type": "code",
   "execution_count": 47,
   "id": "9dbcb0fe-a5bb-4b75-bf1b-94a2880ae461",
   "metadata": {},
   "outputs": [
    {
     "name": "stdout",
     "output_type": "stream",
     "text": [
      "0\n",
      "1\n",
      "2\n",
      "3\n",
      "4\n",
      "5\n",
      "6\n",
      "7\n",
      "8\n",
      "9\n"
     ]
    }
   ],
   "source": [
    "for j in gen(10):\n",
    "    print(j)"
   ]
  },
  {
   "cell_type": "code",
   "execution_count": 48,
   "id": "45e7a66f-37c5-416f-875f-5b05c985be94",
   "metadata": {},
   "outputs": [
    {
     "name": "stdout",
     "output_type": "stream",
     "text": [
      "140711007930776\n",
      "140711007930808\n",
      "140711007930840\n",
      "140711007930872\n",
      "140711007930904\n",
      "140711007930936\n",
      "140711007930968\n",
      "140711007931000\n",
      "140711007931032\n",
      "140711007931064\n"
     ]
    }
   ],
   "source": [
    "for j in gen(10):\n",
    "    print(id(j))"
   ]
  },
  {
   "cell_type": "code",
   "execution_count": 49,
   "id": "35559e03-4fdf-4382-848b-eec976558555",
   "metadata": {},
   "outputs": [],
   "source": [
    "def test1(n):\n",
    "    for i in range(n):\n",
    "        return i"
   ]
  },
  {
   "cell_type": "code",
   "execution_count": 52,
   "id": "ad3a66c9-2c9a-425f-a875-fd8f716082ba",
   "metadata": {},
   "outputs": [
    {
     "data": {
      "text/plain": [
       "0"
      ]
     },
     "execution_count": 52,
     "metadata": {},
     "output_type": "execute_result"
    }
   ],
   "source": [
    "test1(8)"
   ]
  },
  {
   "cell_type": "code",
   "execution_count": 42,
   "id": "dc829505-f402-40fe-a50e-ceb60a43d749",
   "metadata": {},
   "outputs": [],
   "source": [
    "def test(n):\n",
    "    for i in range(n):\n",
    "        yield i"
   ]
  },
  {
   "cell_type": "code",
   "execution_count": 28,
   "id": "031ab327-ec06-4d8d-8dc1-d8b312c3aa34",
   "metadata": {},
   "outputs": [
    {
     "data": {
      "text/plain": [
       "<generator object test at 0x00000171FBF839F0>"
      ]
     },
     "execution_count": 28,
     "metadata": {},
     "output_type": "execute_result"
    }
   ],
   "source": [
    "test(10)"
   ]
  },
  {
   "cell_type": "code",
   "execution_count": 59,
   "id": "ff4a71ef-2342-46df-ba85-d029c64ff817",
   "metadata": {},
   "outputs": [],
   "source": [
    "mylist=[1,2,3,4,5]"
   ]
  },
  {
   "cell_type": "code",
   "execution_count": 60,
   "id": "a0e7496b-ab92-420b-a88c-2880d1af080c",
   "metadata": {},
   "outputs": [],
   "source": [
    "obj=iter(mylist)"
   ]
  },
  {
   "cell_type": "code",
   "execution_count": 62,
   "id": "bf938890-4f69-491a-8f6e-1ff5df150eb5",
   "metadata": {},
   "outputs": [
    {
     "data": {
      "text/plain": [
       "2"
      ]
     },
     "execution_count": 62,
     "metadata": {},
     "output_type": "execute_result"
    }
   ],
   "source": [
    "next(obj)"
   ]
  },
  {
   "cell_type": "raw",
   "id": "2f8e89c4-8037-4f63-9f30-c4d524bd9dc6",
   "metadata": {},
   "source": [
    "itrable-list,tuple,string,set,dict\n",
    "\n",
    "it a sequence of the value on top of thatw we can itrate"
   ]
  },
  {
   "cell_type": "raw",
   "id": "2dd64374-f35a-43e3-b65d-9fcdd49f75f6",
   "metadata": {},
   "source": [
    "itrable we can convert into itrator"
   ]
  }
 ],
 "metadata": {
  "kernelspec": {
   "display_name": "Python 3 (ipykernel)",
   "language": "python",
   "name": "python3"
  },
  "language_info": {
   "codemirror_mode": {
    "name": "ipython",
    "version": 3
   },
   "file_extension": ".py",
   "mimetype": "text/x-python",
   "name": "python",
   "nbconvert_exporter": "python",
   "pygments_lexer": "ipython3",
   "version": "3.12.0"
  }
 },
 "nbformat": 4,
 "nbformat_minor": 5
}
